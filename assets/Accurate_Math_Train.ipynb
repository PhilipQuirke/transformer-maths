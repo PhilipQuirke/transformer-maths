{
  "cells": [
    {
      "cell_type": "markdown",
      "metadata": {
        "id": "O3OoV2Pd-w7g"
      },
      "source": [
        "# Accurate Integer Mathematics in Transformers - Train the Model\n",
        "\n",
        "This CoLab defines and trains a Transformer model that performs integer addition, subtraction and multiplication e.g. 133357+182243=+0315600, 123450-345670=-0123230 and 000345*000823=+283935. Each digit is a separate token. For 6 digit questions, the model is given 14 \"question\" (input) tokens, and must then predict the corresponding 8 \"answer\" (output) tokens.\n"
      ]
    },
    {
      "cell_type": "markdown",
      "metadata": {
        "id": "GtVn4muC-5p1"
      },
      "source": [
        "This CoLab trains the model, storing the results to the Colab files. Useful models are manually copied to HuggingFace."
      ]
    },
    {
      "cell_type": "markdown",
      "metadata": {
        "id": "JWXJvUUb-6in"
      },
      "source": [
        "## Tips for using the Colab\n",
        " * You can run and alter the code in this CoLab notebook yourself in Google CoLab ( https://colab.research.google.com/ ).\n",
        " * To run the notebook, in Google CoLab, **you will need to** go to Runtime > Change Runtime Type and select GPU as the hardware accelerator.\n",
        " * Some graphs are interactive!\n",
        " * Use the table of contents pane in the sidebar to navigate.\n",
        " * Collapse irrelevant sections with the dropdown arrows.\n",
        " * Search the page using the search in the sidebar, not CTRL+F."
      ]
    },
    {
      "cell_type": "markdown",
      "metadata": {
        "id": "F5K2kA0L_FHc"
      },
      "source": [
        "# Part 0: Import libraries\n",
        "Imports standard libraries. Do not read."
      ]
    },
    {
      "cell_type": "code",
      "execution_count": null,
      "metadata": {
        "colab": {
          "base_uri": "https://localhost:8080/"
        },
        "id": "CBOAqd0ZuhAV",
        "outputId": "a7c856ef-62da-4f52-fc5d-d90539fbc090"
      },
      "outputs": [
        {
          "output_type": "stream",
          "name": "stdout",
          "text": [
            "Running as a Colab notebook\n",
            "Collecting kaleido\n",
            "  Downloading kaleido-0.2.1-py2.py3-none-manylinux1_x86_64.whl (79.9 MB)\n",
            "\u001b[2K     \u001b[90m━━━━━━━━━━━━━━━━━━━━━━━━━━━━━━━━━━━━━━━━\u001b[0m \u001b[32m79.9/79.9 MB\u001b[0m \u001b[31m10.0 MB/s\u001b[0m eta \u001b[36m0:00:00\u001b[0m\n",
            "\u001b[?25hInstalling collected packages: kaleido\n",
            "\u001b[31mERROR: pip's dependency resolver does not currently take into account all the packages that are installed. This behaviour is the source of the following dependency conflicts.\n",
            "lida 0.0.10 requires fastapi, which is not installed.\n",
            "lida 0.0.10 requires python-multipart, which is not installed.\n",
            "lida 0.0.10 requires uvicorn, which is not installed.\u001b[0m\u001b[31m\n",
            "\u001b[0mSuccessfully installed kaleido-0.2.1\n",
            "Collecting transformer_lens\n",
            "  Downloading transformer_lens-1.14.0-py3-none-any.whl (122 kB)\n",
            "\u001b[2K     \u001b[90m━━━━━━━━━━━━━━━━━━━━━━━━━━━━━━━━━━━━━━━━\u001b[0m \u001b[32m122.9/122.9 kB\u001b[0m \u001b[31m1.3 MB/s\u001b[0m eta \u001b[36m0:00:00\u001b[0m\n",
            "\u001b[?25hCollecting accelerate>=0.23.0 (from transformer_lens)\n",
            "  Downloading accelerate-0.26.1-py3-none-any.whl (270 kB)\n",
            "\u001b[2K     \u001b[90m━━━━━━━━━━━━━━━━━━━━━━━━━━━━━━━━━━━━━━━━\u001b[0m \u001b[32m270.9/270.9 kB\u001b[0m \u001b[31m4.7 MB/s\u001b[0m eta \u001b[36m0:00:00\u001b[0m\n",
            "\u001b[?25hCollecting beartype<0.15.0,>=0.14.1 (from transformer_lens)\n",
            "  Downloading beartype-0.14.1-py3-none-any.whl (739 kB)\n",
            "\u001b[2K     \u001b[90m━━━━━━━━━━━━━━━━━━━━━━━━━━━━━━━━━━━━━━━━\u001b[0m \u001b[32m739.7/739.7 kB\u001b[0m \u001b[31m13.4 MB/s\u001b[0m eta \u001b[36m0:00:00\u001b[0m\n",
            "\u001b[?25hCollecting better-abc<0.0.4,>=0.0.3 (from transformer_lens)\n",
            "  Downloading better_abc-0.0.3-py3-none-any.whl (3.5 kB)\n",
            "Collecting datasets>=2.7.1 (from transformer_lens)\n",
            "  Downloading datasets-2.16.1-py3-none-any.whl (507 kB)\n",
            "\u001b[2K     \u001b[90m━━━━━━━━━━━━━━━━━━━━━━━━━━━━━━━━━━━━━━━━\u001b[0m \u001b[32m507.1/507.1 kB\u001b[0m \u001b[31m33.8 MB/s\u001b[0m eta \u001b[36m0:00:00\u001b[0m\n",
            "\u001b[?25hCollecting einops>=0.6.0 (from transformer_lens)\n",
            "  Downloading einops-0.7.0-py3-none-any.whl (44 kB)\n",
            "\u001b[2K     \u001b[90m━━━━━━━━━━━━━━━━━━━━━━━━━━━━━━━━━━━━━━━━\u001b[0m \u001b[32m44.6/44.6 kB\u001b[0m \u001b[31m5.5 MB/s\u001b[0m eta \u001b[36m0:00:00\u001b[0m\n",
            "\u001b[?25hCollecting fancy-einsum>=0.0.3 (from transformer_lens)\n",
            "  Downloading fancy_einsum-0.0.3-py3-none-any.whl (6.2 kB)\n",
            "Collecting jaxtyping>=0.2.11 (from transformer_lens)\n",
            "  Downloading jaxtyping-0.2.25-py3-none-any.whl (39 kB)\n",
            "Collecting numpy>=1.24 (from transformer_lens)\n",
            "  Downloading numpy-1.26.3-cp310-cp310-manylinux_2_17_x86_64.manylinux2014_x86_64.whl (18.2 MB)\n",
            "\u001b[2K     \u001b[90m━━━━━━━━━━━━━━━━━━━━━━━━━━━━━━━━━━━━━━━━\u001b[0m \u001b[32m18.2/18.2 MB\u001b[0m \u001b[31m37.4 MB/s\u001b[0m eta \u001b[36m0:00:00\u001b[0m\n",
            "\u001b[?25hRequirement already satisfied: pandas>=1.1.5 in /usr/local/lib/python3.10/dist-packages (from transformer_lens) (1.5.3)\n",
            "Requirement already satisfied: rich>=12.6.0 in /usr/local/lib/python3.10/dist-packages (from transformer_lens) (13.7.0)\n",
            "Collecting torch!=2.0,!=2.1.0,>=1.10 (from transformer_lens)\n",
            "  Downloading torch-2.2.0-cp310-cp310-manylinux1_x86_64.whl (755.5 MB)\n",
            "\u001b[2K     \u001b[90m━━━━━━━━━━━━━━━━━━━━━━━━━━━━━━━━━━━━━━━━\u001b[0m \u001b[32m755.5/755.5 MB\u001b[0m \u001b[31m686.1 kB/s\u001b[0m eta \u001b[36m0:00:00\u001b[0m\n",
            "\u001b[?25hRequirement already satisfied: tqdm>=4.64.1 in /usr/local/lib/python3.10/dist-packages (from transformer_lens) (4.66.1)\n",
            "Requirement already satisfied: transformers>=4.34 in /usr/local/lib/python3.10/dist-packages (from transformer_lens) (4.35.2)\n",
            "Requirement already satisfied: typing-extensions in /usr/local/lib/python3.10/dist-packages (from transformer_lens) (4.5.0)\n",
            "Collecting wandb>=0.13.5 (from transformer_lens)\n",
            "  Downloading wandb-0.16.2-py3-none-any.whl (2.2 MB)\n",
            "\u001b[2K     \u001b[90m━━━━━━━━━━━━━━━━━━━━━━━━━━━━━━━━━━━━━━━━\u001b[0m \u001b[32m2.2/2.2 MB\u001b[0m \u001b[31m80.5 MB/s\u001b[0m eta \u001b[36m0:00:00\u001b[0m\n",
            "\u001b[?25hRequirement already satisfied: packaging>=20.0 in /usr/local/lib/python3.10/dist-packages (from accelerate>=0.23.0->transformer_lens) (23.2)\n",
            "Requirement already satisfied: psutil in /usr/local/lib/python3.10/dist-packages (from accelerate>=0.23.0->transformer_lens) (5.9.5)\n",
            "Requirement already satisfied: pyyaml in /usr/local/lib/python3.10/dist-packages (from accelerate>=0.23.0->transformer_lens) (6.0.1)\n",
            "Requirement already satisfied: huggingface-hub in /usr/local/lib/python3.10/dist-packages (from accelerate>=0.23.0->transformer_lens) (0.20.3)\n",
            "Requirement already satisfied: safetensors>=0.3.1 in /usr/local/lib/python3.10/dist-packages (from accelerate>=0.23.0->transformer_lens) (0.4.2)\n",
            "Requirement already satisfied: filelock in /usr/local/lib/python3.10/dist-packages (from datasets>=2.7.1->transformer_lens) (3.13.1)\n",
            "Requirement already satisfied: pyarrow>=8.0.0 in /usr/local/lib/python3.10/dist-packages (from datasets>=2.7.1->transformer_lens) (10.0.1)\n",
            "Requirement already satisfied: pyarrow-hotfix in /usr/local/lib/python3.10/dist-packages (from datasets>=2.7.1->transformer_lens) (0.6)\n",
            "Collecting dill<0.3.8,>=0.3.0 (from datasets>=2.7.1->transformer_lens)\n",
            "  Downloading dill-0.3.7-py3-none-any.whl (115 kB)\n",
            "\u001b[2K     \u001b[90m━━━━━━━━━━━━━━━━━━━━━━━━━━━━━━━━━━━━━━━━\u001b[0m \u001b[32m115.3/115.3 kB\u001b[0m \u001b[31m16.7 MB/s\u001b[0m eta \u001b[36m0:00:00\u001b[0m\n",
            "\u001b[?25hRequirement already satisfied: requests>=2.19.0 in /usr/local/lib/python3.10/dist-packages (from datasets>=2.7.1->transformer_lens) (2.31.0)\n",
            "Requirement already satisfied: xxhash in /usr/local/lib/python3.10/dist-packages (from datasets>=2.7.1->transformer_lens) (3.4.1)\n",
            "Collecting multiprocess (from datasets>=2.7.1->transformer_lens)\n",
            "  Downloading multiprocess-0.70.16-py310-none-any.whl (134 kB)\n",
            "\u001b[2K     \u001b[90m━━━━━━━━━━━━━━━━━━━━━━━━━━━━━━━━━━━━━━━━\u001b[0m \u001b[32m134.8/134.8 kB\u001b[0m \u001b[31m18.6 MB/s\u001b[0m eta \u001b[36m0:00:00\u001b[0m\n",
            "\u001b[?25hRequirement already satisfied: fsspec[http]<=2023.10.0,>=2023.1.0 in /usr/local/lib/python3.10/dist-packages (from datasets>=2.7.1->transformer_lens) (2023.6.0)\n",
            "Requirement already satisfied: aiohttp in /usr/local/lib/python3.10/dist-packages (from datasets>=2.7.1->transformer_lens) (3.9.3)\n",
            "Collecting typeguard<3,>=2.13.3 (from jaxtyping>=0.2.11->transformer_lens)\n",
            "  Downloading typeguard-2.13.3-py3-none-any.whl (17 kB)\n",
            "Requirement already satisfied: python-dateutil>=2.8.1 in /usr/local/lib/python3.10/dist-packages (from pandas>=1.1.5->transformer_lens) (2.8.2)\n",
            "Requirement already satisfied: pytz>=2020.1 in /usr/local/lib/python3.10/dist-packages (from pandas>=1.1.5->transformer_lens) (2023.4)\n",
            "Requirement already satisfied: markdown-it-py>=2.2.0 in /usr/local/lib/python3.10/dist-packages (from rich>=12.6.0->transformer_lens) (3.0.0)\n",
            "Requirement already satisfied: pygments<3.0.0,>=2.13.0 in /usr/local/lib/python3.10/dist-packages (from rich>=12.6.0->transformer_lens) (2.16.1)\n",
            "Collecting typing-extensions (from transformer_lens)\n",
            "  Downloading typing_extensions-4.9.0-py3-none-any.whl (32 kB)\n",
            "Requirement already satisfied: sympy in /usr/local/lib/python3.10/dist-packages (from torch!=2.0,!=2.1.0,>=1.10->transformer_lens) (1.12)\n",
            "Requirement already satisfied: networkx in /usr/local/lib/python3.10/dist-packages (from torch!=2.0,!=2.1.0,>=1.10->transformer_lens) (3.2.1)\n",
            "Requirement already satisfied: jinja2 in /usr/local/lib/python3.10/dist-packages (from torch!=2.0,!=2.1.0,>=1.10->transformer_lens) (3.1.3)\n",
            "Collecting nvidia-cuda-nvrtc-cu12==12.1.105 (from torch!=2.0,!=2.1.0,>=1.10->transformer_lens)\n",
            "  Downloading nvidia_cuda_nvrtc_cu12-12.1.105-py3-none-manylinux1_x86_64.whl (23.7 MB)\n",
            "\u001b[2K     \u001b[90m━━━━━━━━━━━━━━━━━━━━━━━━━━━━━━━━━━━━━━━━\u001b[0m \u001b[32m23.7/23.7 MB\u001b[0m \u001b[31m42.2 MB/s\u001b[0m eta \u001b[36m0:00:00\u001b[0m\n",
            "\u001b[?25hCollecting nvidia-cuda-runtime-cu12==12.1.105 (from torch!=2.0,!=2.1.0,>=1.10->transformer_lens)\n",
            "  Downloading nvidia_cuda_runtime_cu12-12.1.105-py3-none-manylinux1_x86_64.whl (823 kB)\n",
            "\u001b[2K     \u001b[90m━━━━━━━━━━━━━━━━━━━━━━━━━━━━━━━━━━━━━━━━\u001b[0m \u001b[32m823.6/823.6 kB\u001b[0m \u001b[31m53.7 MB/s\u001b[0m eta \u001b[36m0:00:00\u001b[0m\n",
            "\u001b[?25hCollecting nvidia-cuda-cupti-cu12==12.1.105 (from torch!=2.0,!=2.1.0,>=1.10->transformer_lens)\n",
            "  Downloading nvidia_cuda_cupti_cu12-12.1.105-py3-none-manylinux1_x86_64.whl (14.1 MB)\n",
            "\u001b[2K     \u001b[90m━━━━━━━━━━━━━━━━━━━━━━━━━━━━━━━━━━━━━━━━\u001b[0m \u001b[32m14.1/14.1 MB\u001b[0m \u001b[31m54.0 MB/s\u001b[0m eta \u001b[36m0:00:00\u001b[0m\n",
            "\u001b[?25hCollecting nvidia-cudnn-cu12==8.9.2.26 (from torch!=2.0,!=2.1.0,>=1.10->transformer_lens)\n",
            "  Downloading nvidia_cudnn_cu12-8.9.2.26-py3-none-manylinux1_x86_64.whl (731.7 MB)\n",
            "\u001b[2K     \u001b[90m━━━━━━━━━━━━━━━━━━━━━━━━━━━━━━━━━━━━━━━━\u001b[0m \u001b[32m731.7/731.7 MB\u001b[0m \u001b[31m1.6 MB/s\u001b[0m eta \u001b[36m0:00:00\u001b[0m\n",
            "\u001b[?25hCollecting nvidia-cublas-cu12==12.1.3.1 (from torch!=2.0,!=2.1.0,>=1.10->transformer_lens)\n",
            "  Downloading nvidia_cublas_cu12-12.1.3.1-py3-none-manylinux1_x86_64.whl (410.6 MB)\n",
            "\u001b[2K     \u001b[90m━━━━━━━━━━━━━━━━━━━━━━━━━━━━━━━━━━━━━━━━\u001b[0m \u001b[32m410.6/410.6 MB\u001b[0m \u001b[31m3.0 MB/s\u001b[0m eta \u001b[36m0:00:00\u001b[0m\n",
            "\u001b[?25hCollecting nvidia-cufft-cu12==11.0.2.54 (from torch!=2.0,!=2.1.0,>=1.10->transformer_lens)\n",
            "  Downloading nvidia_cufft_cu12-11.0.2.54-py3-none-manylinux1_x86_64.whl (121.6 MB)\n",
            "\u001b[2K     \u001b[90m━━━━━━━━━━━━━━━━━━━━━━━━━━━━━━━━━━━━━━━━\u001b[0m \u001b[32m121.6/121.6 MB\u001b[0m \u001b[31m7.2 MB/s\u001b[0m eta \u001b[36m0:00:00\u001b[0m\n",
            "\u001b[?25hCollecting nvidia-curand-cu12==10.3.2.106 (from torch!=2.0,!=2.1.0,>=1.10->transformer_lens)\n",
            "  Downloading nvidia_curand_cu12-10.3.2.106-py3-none-manylinux1_x86_64.whl (56.5 MB)\n",
            "\u001b[2K     \u001b[90m━━━━━━━━━━━━━━━━━━━━━━━━━━━━━━━━━━━━━━━━\u001b[0m \u001b[32m56.5/56.5 MB\u001b[0m \u001b[31m9.0 MB/s\u001b[0m eta \u001b[36m0:00:00\u001b[0m\n",
            "\u001b[?25hCollecting nvidia-cusolver-cu12==11.4.5.107 (from torch!=2.0,!=2.1.0,>=1.10->transformer_lens)\n",
            "  Downloading nvidia_cusolver_cu12-11.4.5.107-py3-none-manylinux1_x86_64.whl (124.2 MB)\n",
            "\u001b[2K     \u001b[90m━━━━━━━━━━━━━━━━━━━━━━━━━━━━━━━━━━━━━━━━\u001b[0m \u001b[32m124.2/124.2 MB\u001b[0m \u001b[31m7.2 MB/s\u001b[0m eta \u001b[36m0:00:00\u001b[0m\n",
            "\u001b[?25hCollecting nvidia-cusparse-cu12==12.1.0.106 (from torch!=2.0,!=2.1.0,>=1.10->transformer_lens)\n",
            "  Downloading nvidia_cusparse_cu12-12.1.0.106-py3-none-manylinux1_x86_64.whl (196.0 MB)\n",
            "\u001b[2K     \u001b[90m━━━━━━━━━━━━━━━━━━━━━━━━━━━━━━━━━━━━━━━━\u001b[0m \u001b[32m196.0/196.0 MB\u001b[0m \u001b[31m5.0 MB/s\u001b[0m eta \u001b[36m0:00:00\u001b[0m\n",
            "\u001b[?25hCollecting nvidia-nccl-cu12==2.19.3 (from torch!=2.0,!=2.1.0,>=1.10->transformer_lens)\n",
            "  Downloading nvidia_nccl_cu12-2.19.3-py3-none-manylinux1_x86_64.whl (166.0 MB)\n",
            "\u001b[2K     \u001b[90m━━━━━━━━━━━━━━━━━━━━━━━━━━━━━━━━━━━━━━━━\u001b[0m \u001b[32m166.0/166.0 MB\u001b[0m \u001b[31m2.7 MB/s\u001b[0m eta \u001b[36m0:00:00\u001b[0m\n",
            "\u001b[?25hCollecting nvidia-nvtx-cu12==12.1.105 (from torch!=2.0,!=2.1.0,>=1.10->transformer_lens)\n",
            "  Downloading nvidia_nvtx_cu12-12.1.105-py3-none-manylinux1_x86_64.whl (99 kB)\n",
            "\u001b[2K     \u001b[90m━━━━━━━━━━━━━━━━━━━━━━━━━━━━━━━━━━━━━━━━\u001b[0m \u001b[32m99.1/99.1 kB\u001b[0m \u001b[31m13.9 MB/s\u001b[0m eta \u001b[36m0:00:00\u001b[0m\n",
            "\u001b[?25hCollecting triton==2.2.0 (from torch!=2.0,!=2.1.0,>=1.10->transformer_lens)\n",
            "  Downloading triton-2.2.0-cp310-cp310-manylinux_2_17_x86_64.manylinux2014_x86_64.whl (167.9 MB)\n",
            "\u001b[2K     \u001b[90m━━━━━━━━━━━━━━━━━━━━━━━━━━━━━━━━━━━━━━━━\u001b[0m \u001b[32m167.9/167.9 MB\u001b[0m \u001b[31m3.1 MB/s\u001b[0m eta \u001b[36m0:00:00\u001b[0m\n",
            "\u001b[?25hCollecting nvidia-nvjitlink-cu12 (from nvidia-cusolver-cu12==11.4.5.107->torch!=2.0,!=2.1.0,>=1.10->transformer_lens)\n",
            "  Downloading nvidia_nvjitlink_cu12-12.3.101-py3-none-manylinux1_x86_64.whl (20.5 MB)\n",
            "\u001b[2K     \u001b[90m━━━━━━━━━━━━━━━━━━━━━━━━━━━━━━━━━━━━━━━━\u001b[0m \u001b[32m20.5/20.5 MB\u001b[0m \u001b[31m26.8 MB/s\u001b[0m eta \u001b[36m0:00:00\u001b[0m\n",
            "\u001b[?25hRequirement already satisfied: regex!=2019.12.17 in /usr/local/lib/python3.10/dist-packages (from transformers>=4.34->transformer_lens) (2023.6.3)\n",
            "Requirement already satisfied: tokenizers<0.19,>=0.14 in /usr/local/lib/python3.10/dist-packages (from transformers>=4.34->transformer_lens) (0.15.1)\n",
            "Requirement already satisfied: Click!=8.0.0,>=7.1 in /usr/local/lib/python3.10/dist-packages (from wandb>=0.13.5->transformer_lens) (8.1.7)\n",
            "Collecting GitPython!=3.1.29,>=1.0.0 (from wandb>=0.13.5->transformer_lens)\n",
            "  Downloading GitPython-3.1.41-py3-none-any.whl (196 kB)\n",
            "\u001b[2K     \u001b[90m━━━━━━━━━━━━━━━━━━━━━━━━━━━━━━━━━━━━━━━━\u001b[0m \u001b[32m196.4/196.4 kB\u001b[0m \u001b[31m25.0 MB/s\u001b[0m eta \u001b[36m0:00:00\u001b[0m\n",
            "\u001b[?25hCollecting sentry-sdk>=1.0.0 (from wandb>=0.13.5->transformer_lens)\n",
            "  Downloading sentry_sdk-1.40.0-py2.py3-none-any.whl (257 kB)\n",
            "\u001b[2K     \u001b[90m━━━━━━━━━━━━━━━━━━━━━━━━━━━━━━━━━━━━━━━━\u001b[0m \u001b[32m257.5/257.5 kB\u001b[0m \u001b[31m27.9 MB/s\u001b[0m eta \u001b[36m0:00:00\u001b[0m\n",
            "\u001b[?25hCollecting docker-pycreds>=0.4.0 (from wandb>=0.13.5->transformer_lens)\n",
            "  Downloading docker_pycreds-0.4.0-py2.py3-none-any.whl (9.0 kB)\n",
            "Collecting setproctitle (from wandb>=0.13.5->transformer_lens)\n",
            "  Downloading setproctitle-1.3.3-cp310-cp310-manylinux_2_5_x86_64.manylinux1_x86_64.manylinux_2_17_x86_64.manylinux2014_x86_64.whl (30 kB)\n",
            "Requirement already satisfied: setuptools in /usr/local/lib/python3.10/dist-packages (from wandb>=0.13.5->transformer_lens) (67.7.2)\n",
            "Requirement already satisfied: appdirs>=1.4.3 in /usr/local/lib/python3.10/dist-packages (from wandb>=0.13.5->transformer_lens) (1.4.4)\n",
            "Requirement already satisfied: protobuf!=4.21.0,<5,>=3.19.0 in /usr/local/lib/python3.10/dist-packages (from wandb>=0.13.5->transformer_lens) (3.20.3)\n",
            "Requirement already satisfied: six>=1.4.0 in /usr/local/lib/python3.10/dist-packages (from docker-pycreds>=0.4.0->wandb>=0.13.5->transformer_lens) (1.16.0)\n",
            "Requirement already satisfied: aiosignal>=1.1.2 in /usr/local/lib/python3.10/dist-packages (from aiohttp->datasets>=2.7.1->transformer_lens) (1.3.1)\n",
            "Requirement already satisfied: attrs>=17.3.0 in /usr/local/lib/python3.10/dist-packages (from aiohttp->datasets>=2.7.1->transformer_lens) (23.2.0)\n",
            "Requirement already satisfied: frozenlist>=1.1.1 in /usr/local/lib/python3.10/dist-packages (from aiohttp->datasets>=2.7.1->transformer_lens) (1.4.1)\n",
            "Requirement already satisfied: multidict<7.0,>=4.5 in /usr/local/lib/python3.10/dist-packages (from aiohttp->datasets>=2.7.1->transformer_lens) (6.0.4)\n",
            "Requirement already satisfied: yarl<2.0,>=1.0 in /usr/local/lib/python3.10/dist-packages (from aiohttp->datasets>=2.7.1->transformer_lens) (1.9.4)\n",
            "Requirement already satisfied: async-timeout<5.0,>=4.0 in /usr/local/lib/python3.10/dist-packages (from aiohttp->datasets>=2.7.1->transformer_lens) (4.0.3)\n",
            "Collecting gitdb<5,>=4.0.1 (from GitPython!=3.1.29,>=1.0.0->wandb>=0.13.5->transformer_lens)\n",
            "  Downloading gitdb-4.0.11-py3-none-any.whl (62 kB)\n",
            "\u001b[2K     \u001b[90m━━━━━━━━━━━━━━━━━━━━━━━━━━━━━━━━━━━━━━━━\u001b[0m \u001b[32m62.7/62.7 kB\u001b[0m \u001b[31m9.8 MB/s\u001b[0m eta \u001b[36m0:00:00\u001b[0m\n",
            "\u001b[?25hRequirement already satisfied: mdurl~=0.1 in /usr/local/lib/python3.10/dist-packages (from markdown-it-py>=2.2.0->rich>=12.6.0->transformer_lens) (0.1.2)\n",
            "Requirement already satisfied: charset-normalizer<4,>=2 in /usr/local/lib/python3.10/dist-packages (from requests>=2.19.0->datasets>=2.7.1->transformer_lens) (3.3.2)\n",
            "Requirement already satisfied: idna<4,>=2.5 in /usr/local/lib/python3.10/dist-packages (from requests>=2.19.0->datasets>=2.7.1->transformer_lens) (3.6)\n",
            "Requirement already satisfied: urllib3<3,>=1.21.1 in /usr/local/lib/python3.10/dist-packages (from requests>=2.19.0->datasets>=2.7.1->transformer_lens) (2.0.7)\n",
            "Requirement already satisfied: certifi>=2017.4.17 in /usr/local/lib/python3.10/dist-packages (from requests>=2.19.0->datasets>=2.7.1->transformer_lens) (2023.11.17)\n",
            "Requirement already satisfied: MarkupSafe>=2.0 in /usr/local/lib/python3.10/dist-packages (from jinja2->torch!=2.0,!=2.1.0,>=1.10->transformer_lens) (2.1.4)\n",
            "INFO: pip is looking at multiple versions of multiprocess to determine which version is compatible with other requirements. This could take a while.\n",
            "Collecting multiprocess (from datasets>=2.7.1->transformer_lens)\n",
            "  Downloading multiprocess-0.70.15-py310-none-any.whl (134 kB)\n",
            "\u001b[2K     \u001b[90m━━━━━━━━━━━━━━━━━━━━━━━━━━━━━━━━━━━━━━━━\u001b[0m \u001b[32m134.8/134.8 kB\u001b[0m \u001b[31m18.0 MB/s\u001b[0m eta \u001b[36m0:00:00\u001b[0m\n",
            "\u001b[?25hRequirement already satisfied: mpmath>=0.19 in /usr/local/lib/python3.10/dist-packages (from sympy->torch!=2.0,!=2.1.0,>=1.10->transformer_lens) (1.3.0)\n",
            "Collecting smmap<6,>=3.0.1 (from gitdb<5,>=4.0.1->GitPython!=3.1.29,>=1.0.0->wandb>=0.13.5->transformer_lens)\n",
            "  Downloading smmap-5.0.1-py3-none-any.whl (24 kB)\n",
            "Installing collected packages: better-abc, typing-extensions, typeguard, triton, smmap, setproctitle, sentry-sdk, nvidia-nvtx-cu12, nvidia-nvjitlink-cu12, nvidia-nccl-cu12, nvidia-curand-cu12, nvidia-cufft-cu12, nvidia-cuda-runtime-cu12, nvidia-cuda-nvrtc-cu12, nvidia-cuda-cupti-cu12, nvidia-cublas-cu12, numpy, fancy-einsum, einops, docker-pycreds, dill, beartype, nvidia-cusparse-cu12, nvidia-cudnn-cu12, multiprocess, jaxtyping, gitdb, nvidia-cusolver-cu12, GitPython, wandb, torch, datasets, accelerate, transformer_lens\n",
            "  Attempting uninstall: typing-extensions\n",
            "    Found existing installation: typing_extensions 4.5.0\n",
            "    Uninstalling typing_extensions-4.5.0:\n",
            "      Successfully uninstalled typing_extensions-4.5.0\n",
            "  Attempting uninstall: triton\n",
            "    Found existing installation: triton 2.1.0\n",
            "    Uninstalling triton-2.1.0:\n",
            "      Successfully uninstalled triton-2.1.0\n",
            "  Attempting uninstall: numpy\n",
            "    Found existing installation: numpy 1.23.5\n",
            "    Uninstalling numpy-1.23.5:\n",
            "      Successfully uninstalled numpy-1.23.5\n",
            "  Attempting uninstall: torch\n",
            "    Found existing installation: torch 2.1.0+cu121\n",
            "    Uninstalling torch-2.1.0+cu121:\n",
            "      Successfully uninstalled torch-2.1.0+cu121\n",
            "\u001b[31mERROR: pip's dependency resolver does not currently take into account all the packages that are installed. This behaviour is the source of the following dependency conflicts.\n",
            "lida 0.0.10 requires fastapi, which is not installed.\n",
            "lida 0.0.10 requires python-multipart, which is not installed.\n",
            "lida 0.0.10 requires uvicorn, which is not installed.\n",
            "fastai 2.7.13 requires torch<2.2,>=1.10, but you have torch 2.2.0 which is incompatible.\n",
            "tensorflow-probability 0.22.0 requires typing-extensions<4.6.0, but you have typing-extensions 4.9.0 which is incompatible.\n",
            "torchaudio 2.1.0+cu121 requires torch==2.1.0, but you have torch 2.2.0 which is incompatible.\n",
            "torchdata 0.7.0 requires torch==2.1.0, but you have torch 2.2.0 which is incompatible.\n",
            "torchtext 0.16.0 requires torch==2.1.0, but you have torch 2.2.0 which is incompatible.\n",
            "torchvision 0.16.0+cu121 requires torch==2.1.0, but you have torch 2.2.0 which is incompatible.\u001b[0m\u001b[31m\n",
            "\u001b[0mSuccessfully installed GitPython-3.1.41 accelerate-0.26.1 beartype-0.14.1 better-abc-0.0.3 datasets-2.16.1 dill-0.3.7 docker-pycreds-0.4.0 einops-0.7.0 fancy-einsum-0.0.3 gitdb-4.0.11 jaxtyping-0.2.25 multiprocess-0.70.15 numpy-1.26.3 nvidia-cublas-cu12-12.1.3.1 nvidia-cuda-cupti-cu12-12.1.105 nvidia-cuda-nvrtc-cu12-12.1.105 nvidia-cuda-runtime-cu12-12.1.105 nvidia-cudnn-cu12-8.9.2.26 nvidia-cufft-cu12-11.0.2.54 nvidia-curand-cu12-10.3.2.106 nvidia-cusolver-cu12-11.4.5.107 nvidia-cusparse-cu12-12.1.0.106 nvidia-nccl-cu12-2.19.3 nvidia-nvjitlink-cu12-12.3.101 nvidia-nvtx-cu12-12.1.105 sentry-sdk-1.40.0 setproctitle-1.3.3 smmap-5.0.1 torch-2.2.0 transformer_lens-1.14.0 triton-2.2.0 typeguard-2.13.3 typing-extensions-4.9.0 wandb-0.16.2\n",
            "Collecting circuitsvis\n",
            "  Downloading circuitsvis-1.43.2-py3-none-any.whl (1.8 MB)\n",
            "\u001b[2K     \u001b[90m━━━━━━━━━━━━━━━━━━━━━━━━━━━━━━━━━━━━━━━━\u001b[0m \u001b[32m1.8/1.8 MB\u001b[0m \u001b[31m7.9 MB/s\u001b[0m eta \u001b[36m0:00:00\u001b[0m\n",
            "\u001b[?25hRequirement already satisfied: importlib-metadata>=5.1.0 in /usr/local/lib/python3.10/dist-packages (from circuitsvis) (7.0.1)\n",
            "Requirement already satisfied: numpy>=1.24 in /usr/local/lib/python3.10/dist-packages (from circuitsvis) (1.26.3)\n",
            "Requirement already satisfied: nvidia-cublas-cu12==12.1.3.1 in /usr/local/lib/python3.10/dist-packages (from circuitsvis) (12.1.3.1)\n",
            "Requirement already satisfied: nvidia-cuda-cupti-cu12==12.1.105 in /usr/local/lib/python3.10/dist-packages (from circuitsvis) (12.1.105)\n",
            "Requirement already satisfied: nvidia-cuda-nvrtc-cu12==12.1.105 in /usr/local/lib/python3.10/dist-packages (from circuitsvis) (12.1.105)\n",
            "Requirement already satisfied: nvidia-cuda-runtime-cu12==12.1.105 in /usr/local/lib/python3.10/dist-packages (from circuitsvis) (12.1.105)\n",
            "Requirement already satisfied: nvidia-cudnn-cu12==8.9.2.26 in /usr/local/lib/python3.10/dist-packages (from circuitsvis) (8.9.2.26)\n",
            "Requirement already satisfied: nvidia-cufft-cu12==11.0.2.54 in /usr/local/lib/python3.10/dist-packages (from circuitsvis) (11.0.2.54)\n",
            "Requirement already satisfied: nvidia-curand-cu12==10.3.2.106 in /usr/local/lib/python3.10/dist-packages (from circuitsvis) (10.3.2.106)\n",
            "Requirement already satisfied: nvidia-cusolver-cu12==11.4.5.107 in /usr/local/lib/python3.10/dist-packages (from circuitsvis) (11.4.5.107)\n",
            "Requirement already satisfied: nvidia-cusparse-cu12==12.1.0.106 in /usr/local/lib/python3.10/dist-packages (from circuitsvis) (12.1.0.106)\n",
            "Collecting nvidia-nccl-cu12==2.18.1 (from circuitsvis)\n",
            "  Downloading nvidia_nccl_cu12-2.18.1-py3-none-manylinux1_x86_64.whl (209.8 MB)\n",
            "\u001b[2K     \u001b[90m━━━━━━━━━━━━━━━━━━━━━━━━━━━━━━━━━━━━━━━━\u001b[0m \u001b[32m209.8/209.8 MB\u001b[0m \u001b[31m6.0 MB/s\u001b[0m eta \u001b[36m0:00:00\u001b[0m\n",
            "\u001b[?25hRequirement already satisfied: nvidia-nvtx-cu12==12.1.105 in /usr/local/lib/python3.10/dist-packages (from circuitsvis) (12.1.105)\n",
            "Requirement already satisfied: torch>=1.10 in /usr/local/lib/python3.10/dist-packages (from circuitsvis) (2.2.0)\n",
            "Collecting triton==2.1.0 (from circuitsvis)\n",
            "  Downloading triton-2.1.0-0-cp310-cp310-manylinux2014_x86_64.manylinux_2_17_x86_64.whl (89.2 MB)\n",
            "\u001b[2K     \u001b[90m━━━━━━━━━━━━━━━━━━━━━━━━━━━━━━━━━━━━━━━━\u001b[0m \u001b[32m89.2/89.2 MB\u001b[0m \u001b[31m8.9 MB/s\u001b[0m eta \u001b[36m0:00:00\u001b[0m\n",
            "\u001b[?25hRequirement already satisfied: nvidia-nvjitlink-cu12 in /usr/local/lib/python3.10/dist-packages (from nvidia-cusolver-cu12==11.4.5.107->circuitsvis) (12.3.101)\n",
            "Requirement already satisfied: filelock in /usr/local/lib/python3.10/dist-packages (from triton==2.1.0->circuitsvis) (3.13.1)\n",
            "Requirement already satisfied: zipp>=0.5 in /usr/local/lib/python3.10/dist-packages (from importlib-metadata>=5.1.0->circuitsvis) (3.17.0)\n",
            "Requirement already satisfied: typing-extensions>=4.8.0 in /usr/local/lib/python3.10/dist-packages (from torch>=1.10->circuitsvis) (4.9.0)\n",
            "Requirement already satisfied: sympy in /usr/local/lib/python3.10/dist-packages (from torch>=1.10->circuitsvis) (1.12)\n",
            "Requirement already satisfied: networkx in /usr/local/lib/python3.10/dist-packages (from torch>=1.10->circuitsvis) (3.2.1)\n",
            "Requirement already satisfied: jinja2 in /usr/local/lib/python3.10/dist-packages (from torch>=1.10->circuitsvis) (3.1.3)\n",
            "Requirement already satisfied: fsspec in /usr/local/lib/python3.10/dist-packages (from torch>=1.10->circuitsvis) (2023.6.0)\n",
            "INFO: pip is looking at multiple versions of torch to determine which version is compatible with other requirements. This could take a while.\n",
            "Collecting torch>=1.10 (from circuitsvis)\n",
            "  Downloading torch-2.1.2-cp310-cp310-manylinux1_x86_64.whl (670.2 MB)\n",
            "\u001b[2K     \u001b[90m━━━━━━━━━━━━━━━━━━━━━━━━━━━━━━━━━━━━━━━━\u001b[0m \u001b[32m670.2/670.2 MB\u001b[0m \u001b[31m2.0 MB/s\u001b[0m eta \u001b[36m0:00:00\u001b[0m\n",
            "\u001b[?25hRequirement already satisfied: MarkupSafe>=2.0 in /usr/local/lib/python3.10/dist-packages (from jinja2->torch>=1.10->circuitsvis) (2.1.4)\n",
            "Requirement already satisfied: mpmath>=0.19 in /usr/local/lib/python3.10/dist-packages (from sympy->torch>=1.10->circuitsvis) (1.3.0)\n",
            "Installing collected packages: triton, nvidia-nccl-cu12, torch, circuitsvis\n",
            "  Attempting uninstall: triton\n",
            "    Found existing installation: triton 2.2.0\n",
            "    Uninstalling triton-2.2.0:\n",
            "      Successfully uninstalled triton-2.2.0\n",
            "  Attempting uninstall: nvidia-nccl-cu12\n",
            "    Found existing installation: nvidia-nccl-cu12 2.19.3\n",
            "    Uninstalling nvidia-nccl-cu12-2.19.3:\n",
            "      Successfully uninstalled nvidia-nccl-cu12-2.19.3\n",
            "  Attempting uninstall: torch\n",
            "    Found existing installation: torch 2.2.0\n",
            "    Uninstalling torch-2.2.0:\n",
            "      Successfully uninstalled torch-2.2.0\n",
            "\u001b[31mERROR: pip's dependency resolver does not currently take into account all the packages that are installed. This behaviour is the source of the following dependency conflicts.\n",
            "torchaudio 2.1.0+cu121 requires torch==2.1.0, but you have torch 2.1.2 which is incompatible.\n",
            "torchdata 0.7.0 requires torch==2.1.0, but you have torch 2.1.2 which is incompatible.\n",
            "torchtext 0.16.0 requires torch==2.1.0, but you have torch 2.1.2 which is incompatible.\n",
            "torchvision 0.16.0+cu121 requires torch==2.1.0, but you have torch 2.1.2 which is incompatible.\u001b[0m\u001b[31m\n",
            "\u001b[0mSuccessfully installed circuitsvis-1.43.2 nvidia-nccl-cu12-2.18.1 torch-2.1.2 triton-2.1.0\n",
            "Collecting torchtyping\n",
            "  Downloading torchtyping-0.1.4-py3-none-any.whl (17 kB)\n",
            "Requirement already satisfied: torch>=1.7.0 in /usr/local/lib/python3.10/dist-packages (from torchtyping) (2.1.2)\n",
            "Requirement already satisfied: typeguard>=2.11.1 in /usr/local/lib/python3.10/dist-packages (from torchtyping) (2.13.3)\n",
            "Requirement already satisfied: filelock in /usr/local/lib/python3.10/dist-packages (from torch>=1.7.0->torchtyping) (3.13.1)\n",
            "Requirement already satisfied: typing-extensions in /usr/local/lib/python3.10/dist-packages (from torch>=1.7.0->torchtyping) (4.9.0)\n",
            "Requirement already satisfied: sympy in /usr/local/lib/python3.10/dist-packages (from torch>=1.7.0->torchtyping) (1.12)\n",
            "Requirement already satisfied: networkx in /usr/local/lib/python3.10/dist-packages (from torch>=1.7.0->torchtyping) (3.2.1)\n",
            "Requirement already satisfied: jinja2 in /usr/local/lib/python3.10/dist-packages (from torch>=1.7.0->torchtyping) (3.1.3)\n",
            "Requirement already satisfied: fsspec in /usr/local/lib/python3.10/dist-packages (from torch>=1.7.0->torchtyping) (2023.6.0)\n",
            "Requirement already satisfied: nvidia-cuda-nvrtc-cu12==12.1.105 in /usr/local/lib/python3.10/dist-packages (from torch>=1.7.0->torchtyping) (12.1.105)\n",
            "Requirement already satisfied: nvidia-cuda-runtime-cu12==12.1.105 in /usr/local/lib/python3.10/dist-packages (from torch>=1.7.0->torchtyping) (12.1.105)\n",
            "Requirement already satisfied: nvidia-cuda-cupti-cu12==12.1.105 in /usr/local/lib/python3.10/dist-packages (from torch>=1.7.0->torchtyping) (12.1.105)\n",
            "Requirement already satisfied: nvidia-cudnn-cu12==8.9.2.26 in /usr/local/lib/python3.10/dist-packages (from torch>=1.7.0->torchtyping) (8.9.2.26)\n",
            "Requirement already satisfied: nvidia-cublas-cu12==12.1.3.1 in /usr/local/lib/python3.10/dist-packages (from torch>=1.7.0->torchtyping) (12.1.3.1)\n",
            "Requirement already satisfied: nvidia-cufft-cu12==11.0.2.54 in /usr/local/lib/python3.10/dist-packages (from torch>=1.7.0->torchtyping) (11.0.2.54)\n",
            "Requirement already satisfied: nvidia-curand-cu12==10.3.2.106 in /usr/local/lib/python3.10/dist-packages (from torch>=1.7.0->torchtyping) (10.3.2.106)\n",
            "Requirement already satisfied: nvidia-cusolver-cu12==11.4.5.107 in /usr/local/lib/python3.10/dist-packages (from torch>=1.7.0->torchtyping) (11.4.5.107)\n",
            "Requirement already satisfied: nvidia-cusparse-cu12==12.1.0.106 in /usr/local/lib/python3.10/dist-packages (from torch>=1.7.0->torchtyping) (12.1.0.106)\n",
            "Requirement already satisfied: nvidia-nccl-cu12==2.18.1 in /usr/local/lib/python3.10/dist-packages (from torch>=1.7.0->torchtyping) (2.18.1)\n",
            "Requirement already satisfied: nvidia-nvtx-cu12==12.1.105 in /usr/local/lib/python3.10/dist-packages (from torch>=1.7.0->torchtyping) (12.1.105)\n",
            "Requirement already satisfied: triton==2.1.0 in /usr/local/lib/python3.10/dist-packages (from torch>=1.7.0->torchtyping) (2.1.0)\n",
            "Requirement already satisfied: nvidia-nvjitlink-cu12 in /usr/local/lib/python3.10/dist-packages (from nvidia-cusolver-cu12==11.4.5.107->torch>=1.7.0->torchtyping) (12.3.101)\n",
            "Requirement already satisfied: MarkupSafe>=2.0 in /usr/local/lib/python3.10/dist-packages (from jinja2->torch>=1.7.0->torchtyping) (2.1.4)\n",
            "Requirement already satisfied: mpmath>=0.19 in /usr/local/lib/python3.10/dist-packages (from sympy->torch>=1.7.0->torchtyping) (1.3.0)\n",
            "Installing collected packages: torchtyping\n",
            "Successfully installed torchtyping-0.1.4\n",
            "Requirement already satisfied: transformers in /usr/local/lib/python3.10/dist-packages (4.35.2)\n",
            "Requirement already satisfied: filelock in /usr/local/lib/python3.10/dist-packages (from transformers) (3.13.1)\n",
            "Requirement already satisfied: huggingface-hub<1.0,>=0.16.4 in /usr/local/lib/python3.10/dist-packages (from transformers) (0.20.3)\n",
            "Requirement already satisfied: numpy>=1.17 in /usr/local/lib/python3.10/dist-packages (from transformers) (1.26.3)\n",
            "Requirement already satisfied: packaging>=20.0 in /usr/local/lib/python3.10/dist-packages (from transformers) (23.2)\n",
            "Requirement already satisfied: pyyaml>=5.1 in /usr/local/lib/python3.10/dist-packages (from transformers) (6.0.1)\n",
            "Requirement already satisfied: regex!=2019.12.17 in /usr/local/lib/python3.10/dist-packages (from transformers) (2023.6.3)\n",
            "Requirement already satisfied: requests in /usr/local/lib/python3.10/dist-packages (from transformers) (2.31.0)\n",
            "Requirement already satisfied: tokenizers<0.19,>=0.14 in /usr/local/lib/python3.10/dist-packages (from transformers) (0.15.1)\n",
            "Requirement already satisfied: safetensors>=0.3.1 in /usr/local/lib/python3.10/dist-packages (from transformers) (0.4.2)\n",
            "Requirement already satisfied: tqdm>=4.27 in /usr/local/lib/python3.10/dist-packages (from transformers) (4.66.1)\n",
            "Requirement already satisfied: fsspec>=2023.5.0 in /usr/local/lib/python3.10/dist-packages (from huggingface-hub<1.0,>=0.16.4->transformers) (2023.6.0)\n",
            "Requirement already satisfied: typing-extensions>=3.7.4.3 in /usr/local/lib/python3.10/dist-packages (from huggingface-hub<1.0,>=0.16.4->transformers) (4.9.0)\n",
            "Requirement already satisfied: charset-normalizer<4,>=2 in /usr/local/lib/python3.10/dist-packages (from requests->transformers) (3.3.2)\n",
            "Requirement already satisfied: idna<4,>=2.5 in /usr/local/lib/python3.10/dist-packages (from requests->transformers) (3.6)\n",
            "Requirement already satisfied: urllib3<3,>=1.21.1 in /usr/local/lib/python3.10/dist-packages (from requests->transformers) (2.0.7)\n",
            "Requirement already satisfied: certifi>=2017.4.17 in /usr/local/lib/python3.10/dist-packages (from requests->transformers) (2023.11.17)\n"
          ]
        }
      ],
      "source": [
        "# Janky code to do different setup when run in a Colab notebook vs VSCode\n",
        "DEVELOPMENT_MODE = True\n",
        "try:\n",
        "    import google.colab\n",
        "    IN_COLAB = True\n",
        "    print(\"Running as a Colab notebook\")\n",
        "\n",
        "    !pip install kaleido\n",
        "    !pip install transformer_lens\n",
        "    !pip install circuitsvis\n",
        "    !pip install torchtyping\n",
        "    !pip install transformers\n",
        "\n",
        "except:\n",
        "    IN_COLAB = False\n",
        "    print(\"Running as a Jupyter notebook - intended for development only!\")\n",
        "    from IPython import get_ipython\n",
        "\n",
        "    ipython = get_ipython()\n",
        "    # Code to automatically update the HookedTransformer code as its edited without restarting the kernel\n",
        "    ipython.magic(\"load_ext autoreload\")\n",
        "    ipython.magic(\"autoreload 2\")"
      ]
    },
    {
      "cell_type": "code",
      "execution_count": null,
      "metadata": {
        "colab": {
          "base_uri": "https://localhost:8080/"
        },
        "id": "295MWK2owFNa",
        "outputId": "6ec5d055-6b62-49b8-8ff4-a2ff20b2541e"
      },
      "outputs": [
        {
          "output_type": "stream",
          "name": "stdout",
          "text": [
            "Using renderer: colab\n"
          ]
        }
      ],
      "source": [
        "# Plotly needs a different renderer for VSCode/Notebooks vs Colab argh\n",
        "import kaleido\n",
        "import plotly.io as pio\n",
        "\n",
        "if IN_COLAB or not DEVELOPMENT_MODE:\n",
        "    pio.renderers.default = \"colab\"\n",
        "else:\n",
        "    pio.renderers.default = \"notebook_connected\"\n",
        "print(f\"Using renderer: {pio.renderers.default}\")\n",
        "\n",
        "import plotly.express as px\n",
        "import plotly.graph_objects as go"
      ]
    },
    {
      "cell_type": "code",
      "execution_count": null,
      "metadata": {
        "id": "_h1MGZnAwHZz"
      },
      "outputs": [],
      "source": [
        "pio.templates['plotly'].layout.xaxis.title.font.size = 20\n",
        "pio.templates['plotly'].layout.yaxis.title.font.size = 20\n",
        "pio.templates['plotly'].layout.title.font.size = 30"
      ]
    },
    {
      "cell_type": "code",
      "execution_count": null,
      "metadata": {
        "id": "zJpHPxqhwMeQ"
      },
      "outputs": [],
      "source": [
        "import json\n",
        "import requests\n",
        "import torch\n",
        "import torch.nn as nn\n",
        "import torch.nn.functional as F\n",
        "import torch.optim as optim\n",
        "import numpy as np\n",
        "import tqdm.auto as tqdm\n",
        "import random\n",
        "from torch.utils.data import DataLoader\n",
        "from transformers import AutoModelForCausalLM, AutoConfig, AutoTokenizer\n",
        "import matplotlib.pyplot as plt\n",
        "import circuitsvis as cv"
      ]
    },
    {
      "cell_type": "code",
      "execution_count": null,
      "metadata": {
        "id": "tS-PO-BPwo8f"
      },
      "outputs": [],
      "source": [
        "import transformer_lens\n",
        "import transformer_lens.utils as utils\n",
        "from transformer_lens.hook_points import (\n",
        "    HookedRootModule,\n",
        "    HookPoint,\n",
        ")  # Hooking utilities\n",
        "from transformer_lens import HookedTransformer, HookedTransformerConfig, FactoredMatrix, ActivationCache"
      ]
    },
    {
      "cell_type": "markdown",
      "metadata": {
        "id": "Y8SVQxjtXqa9"
      },
      "source": [
        "# Part 1A: Configuration"
      ]
    },
    {
      "cell_type": "code",
      "execution_count": null,
      "metadata": {
        "id": "kRvP20dthMqN"
      },
      "outputs": [],
      "source": [
        "# Tokens used in vocab. (Token indexes 0 to 9 represent digits 0 to 9)\n",
        "PLUS_INDEX = 10\n",
        "MINUS_INDEX = 11\n",
        "EQUALS_INDEX = 12\n",
        "MULT_INDEX = 13\n",
        "DIV_INDEX = 14\n",
        "MAX_INDEX = DIV_INDEX"
      ]
    },
    {
      "cell_type": "code",
      "execution_count": null,
      "metadata": {
        "id": "8Z1TVBObuOKF"
      },
      "outputs": [],
      "source": [
        "# Main configuration class for main model creation and training\n",
        "class Config():\n",
        "  #@markdown Main Model\n",
        "  n_layers: int = 3 #@param\n",
        "  n_heads: int = 4 #@param\n",
        "\n",
        "  d_vocab: int = MAX_INDEX+1\n",
        "  d_model: int = 510\n",
        "  d_mlp: int = 4 * d_model\n",
        "  d_head: int = 170\n",
        "  training_seed: int = 372001\n",
        "\n",
        "  #@markdown Data\n",
        "  n_digits: int = 6 #@param\n",
        "  act_fn: str = 'relu'\n",
        "  batch_size: int = 64\n",
        "\n",
        "  def n_ctx(self):\n",
        "    return 3 * self.n_digits + 4\n",
        "\n",
        "  #@markdown Optimizer\n",
        "  n_training_steps: int = 40000 #@param\n",
        "  lr: float = 0.00008\n",
        "  weight_decay: int = 0.1\n",
        "\n",
        "  #@markdown Maths Operations\n",
        "  # Percent of questions that are multiplication, subtraction and addition.\n",
        "  perc_mult: int = 0\n",
        "  perc_sub: int = 0    #@param\n",
        "  def perc_add(self):\n",
        "    return max(0, 100 - self.perc_mult - self.perc_sub)\n",
        "\n",
        "  #@markdown Insert Model\n",
        "  insert_mode: int = 0    # 0=None 1=Init, 2=FreezeHeads 3=FreezeAll\n",
        "  insert_late: bool = False\n",
        "\n",
        "  insert_n_layers: int = 2 #@param\n",
        "  insert_n_heads: int = 3 #@param\n",
        "  insert_training_seed: int = 372001\n",
        "  insert_n_training_steps: int = 15000 #@param\n",
        "\n",
        "  # Save graphs to CoLab temp files as PDF and HTML. Can manually export files for re-use in papers.\n",
        "  save_graph_to_file: bool = True\n",
        "\n",
        "  def to_dict(self):\n",
        "    return {\n",
        "      \"n_layers\": self.n_layers,\n",
        "      \"n_heads\": self.n_heads,\n",
        "      \"d_vocab\": self.d_vocab,\n",
        "      \"d_mlp\": self.d_mlp,\n",
        "      \"d_head\": self.d_head,\n",
        "      \"training_seed\": self.training_seed,\n",
        "      \"n_digits\": self.n_digits,\n",
        "      \"n_ctx\": self.n_ctx(),\n",
        "      \"act_fn\": self.act_fn,\n",
        "      \"batch_size\": self.batch_size,\n",
        "      \"n_training_steps\": self.n_training_steps,\n",
        "      \"lr\": self.lr,\n",
        "      \"weight_decay\": self.weight_decay,\n",
        "      \"perc_mult\": self.perc_mult,\n",
        "      \"perc_sub\": self.perc_sub,\n",
        "      \"insert_late\": self.insert_late,\n",
        "      \"insert_mode\": self.insert_mode,\n",
        "      \"insert_n_layers\": self.insert_n_layers,\n",
        "      \"insert_n_heads\": self.insert_n_heads,\n",
        "      \"insert_training_seed\": self.insert_training_seed,\n",
        "      \"insert_n_training_steps\": self.insert_n_training_steps,\n",
        "    }\n",
        "\n",
        "\n",
        "cfg = Config()"
      ]
    },
    {
      "cell_type": "markdown",
      "metadata": {
        "id": "5Rl41loM_Apt"
      },
      "source": [
        "# Part 1B: Configuration\n",
        "\n",
        "\n",
        "This CoLab can be configured to:\n",
        "- Train a model using traditional approach. For example, add_d6_l2_h3_train15K_seed372001.pth is trained from scratch using 100% addition questions to give an \"Addition\" model with a very low loss (9e-9).\n",
        "- Train a \"mixed\" model to do two tasks by inserting a \"known good\" model into the untrained composite model. For example, initialising  ins1_mix_d6_l3_h4_train20K_seed372001.pth with  add_d6_l2_h3_dm510_dh170_train15K_seed372001, and then training it on 80% subtraction questions and 20% addition questions.\n",
        "\n",
        "If we are inserting existing model weightings they are loaded from HuggingFace."
      ]
    },
    {
      "cell_type": "code",
      "execution_count": null,
      "metadata": {
        "id": "mdad0Np8kSC9"
      },
      "outputs": [],
      "source": [
        "# Which model do we want to train?\n",
        "#model_name = \"add_d5_l1_h3_train30K\"  # 5 digit addition model\n",
        "#model_name = \"add_d5_l2_h3_train15K\"  # 5 digit addition model\n",
        "#model_name = \"add_d6_l2_h3_train15K\"  # 6 digit addition model\n",
        "#model_name = \"sub_d6_l2_h3_train30K\"  # 6 digit subtraction model\n",
        "#model_name = \"mix_d6_l3_h4_train40K\"  # 6 digit addition and subtraction model\n",
        "model_name = \"ins1_mix_d6_l3_h4_train40K\"  # 6 digit addition / subtraction model. Initialise with addition model.\n",
        "#model_name = \"ins2_mix_d6_l4_h4_train40K\"  # 6 digit addition / subtraction model. Initialised with addition model. Reset useful heads every 100 epochs\n",
        "#model_name = \"ins3_mix_d6_l4_h3_train40K\"  # 6 digit addition / subtraction model. Initialised with addition model. Reset useful heads & MLPs every 100 epochs\n",
        "#model_name = \"ins3_mix_d6_l4_h3_train60K\"  # 6 digit addition / subtraction model. Initialised with addition model. Reset useful heads & MLPs every 100 epochs"
      ]
    },
    {
      "cell_type": "code",
      "execution_count": null,
      "metadata": {
        "id": "2g1bk4bekm5g"
      },
      "outputs": [],
      "source": [
        "import re\n",
        "\n",
        "\n",
        "if model_name != \"\":\n",
        "\n",
        "  match = re.search(\"d(\\d)_\", model_name)\n",
        "  if match:\n",
        "    cfg.n_digits = int(match.group(1))\n",
        "\n",
        "  match = re.search(\"l(\\d)_\", model_name)\n",
        "  if match:\n",
        "    cfg.n_layers = int(match.group(1))\n",
        "\n",
        "  match = re.search(\"h(\\d)_\", model_name)\n",
        "  if match:\n",
        "    cfg.n_heads = int(match.group(1))\n",
        "\n",
        "  match = re.search(\"train(\\d\\d)K\", model_name)\n",
        "  if match:\n",
        "    cfg.n_training_steps = int(match.group(1)) * 1000\n",
        "\n",
        "\n",
        "  if model_name == \"sub_d6_l2_h3_train30K\" :\n",
        "    cfg.perc_sub = 100\n",
        "\n",
        "  if model_name == \"mix_d6_l3_h4_train40K\" :\n",
        "    cfg.perc_sub = 66 # Train on 66% subtraction and 33% addition question batches\n",
        "\n",
        "  if model_name == \"ins1_mix_d6_l3_h4_train40K\" :\n",
        "    cfg.perc_sub = 80 # Train on 80% subtraction and 20% addition question batches\n",
        "    cfg.insert_mode = 1 # Initialise with add_d6_l2_h3_train15K.pth.\n",
        "\n",
        "  if model_name == \"ins2_mix_d6_l4_h4_train40K\" :\n",
        "    cfg.perc_sub = 80 # Train on 80% subtraction and 20% addition question batches\n",
        "    cfg.insert_mode = 2 # Initialise with add_d6_l2_h3_train15K.pth. Train & reset useful heads every 100 epochs\n",
        "\n",
        "  if model_name == \"ins3_mix_d6_l4_h3_train40K\" :\n",
        "    cfg.perc_sub = 80 # Train on 80% subtraction and 20% addition question batches\n",
        "    cfg.insert_mode = 3 # Initialise with add_d6_l2_h3_train15K.pth. Trained & reset useful heads & MLPs every 100 epochs\n",
        "\n",
        "  if model_name == \"ins3_mix_d6_l4_h3_train60K\" :\n",
        "    cfg.perc_sub = 80 # Train on 80% subtraction and 20% addition question batches\n",
        "    cfg.insert_mode = 3 # Initialise with add_d6_l2_h3_train15K.pth. Trained & reset useful heads & MLPs every 100 epochs"
      ]
    },
    {
      "cell_type": "code",
      "execution_count": null,
      "metadata": {
        "colab": {
          "base_uri": "https://localhost:8080/"
        },
        "id": "HKgiXwaFiBj4",
        "outputId": "2b1095b1-9841-4a4d-95b7-fae43f35e898"
      },
      "outputs": [
        {
          "output_type": "stream",
          "name": "stdout",
          "text": [
            "%Mult= 0 %Sub= 80 %Add= 20 File= ins1_mix_d6_l3_h4_train40K_seed372001\n",
            "Main model will save to Colab temporary file ins1_mix_d6_l3_h4_train40K_seed372001.pth\n",
            "Main model config etc will save to Colab temporary file ins1_mix_d6_l3_h4_train40K_seed372001.json\n"
          ]
        }
      ],
      "source": [
        "def file_name_suffix(digits, layers, heads, training_steps, seed):\n",
        "  train_str = str(training_steps//1000) + \"K\"\n",
        "  return '_d{}_l{}_h{}_train{}_seed{}'.format(digits, layers, heads, train_str, seed)\n",
        "\n",
        "main_fname = '' if cfg.insert_mode == 0 else 'ins{}_'.format(cfg.insert_mode)\n",
        "main_fname += 'mul' if cfg.perc_mult == 100 else 'sub' if cfg.perc_sub == 100 else 'add' if cfg.perc_add() == 100 else 'mix'\n",
        "main_fname += file_name_suffix(cfg.n_digits, cfg.n_layers, cfg.n_heads, cfg.n_training_steps, cfg.training_seed)\n",
        "main_fname_pth = main_fname + '.pth'\n",
        "main_fname_json = main_fname + '.json'\n",
        "\n",
        "\n",
        "def print_config():\n",
        "  print(\"%Mult=\", cfg.perc_mult, \"%Sub=\", cfg.perc_sub, \"%Add=\", cfg.perc_add(), \"File=\", main_fname)\n",
        "\n",
        "print_config()\n",
        "print('Main model will save to Colab temporary file', main_fname_pth)\n",
        "print('Main model config etc will save to Colab temporary file', main_fname_json)"
      ]
    },
    {
      "cell_type": "markdown",
      "metadata": {
        "id": "3tExv4rk_L0C"
      },
      "source": [
        "# Part 3: Create main_model\n",
        "This section defines the token embedding / unembedding and creates the model."
      ]
    },
    {
      "cell_type": "code",
      "execution_count": null,
      "metadata": {
        "id": "CqGmiutQwp22"
      },
      "outputs": [],
      "source": [
        "# Embedding / Unembedding\n",
        "\n",
        "def token_to_char(i):\n",
        "  if i < 10:\n",
        "   return str(i)\n",
        "  if i == PLUS_INDEX:\n",
        "    return \"+\"\n",
        "  if i == MINUS_INDEX:\n",
        "    return \"-\"\n",
        "  if i == EQUALS_INDEX:\n",
        "    return \"=\"\n",
        "  if i == MULT_INDEX:\n",
        "    return \"*\"\n",
        "  if i == DIV_INDEX:\n",
        "    return \"\\\\\"\n",
        "  return \"?\"\n",
        "\n",
        "def tokens_to_string(tokens):\n",
        "    tokens = utils.to_numpy(tokens)\n",
        "    return \"\".join([token_to_char(i) for i in tokens[:cfg.n_ctx()]])\n",
        "\n",
        "def string_to_tokens(string, batch: bool=False):\n",
        "    lookup = {str(i):i for i in range(10)}\n",
        "    lookup['+']=PLUS_INDEX\n",
        "    lookup['-']=MINUS_INDEX\n",
        "    lookup['=']=EQUALS_INDEX\n",
        "    lookup['*']=MULT_INDEX\n",
        "    lookup['\\\\']=DIV_INDEX\n",
        "\n",
        "    tokens = [lookup[i] for i in string if i not in '\\n ']\n",
        "    if batch:\n",
        "        return torch.tensor(tokens)[None, :]\n",
        "    else:\n",
        "        return torch.tensor(tokens)"
      ]
    },
    {
      "cell_type": "code",
      "execution_count": null,
      "metadata": {
        "id": "Dg6uwYzew4u5"
      },
      "outputs": [],
      "source": [
        "# Transformer creation\n",
        "\n",
        "# Structure is documented at https://neelnanda-io.github.io/TransformerLens/transformer_lens.html#transformer_lens.HookedTransformerConfig.HookedTransformerConfig\n",
        "ht_cfg = HookedTransformerConfig(\n",
        "    n_layers = cfg.n_layers,\n",
        "    n_heads = cfg.n_heads,\n",
        "    d_model = cfg.d_model,\n",
        "    d_head = cfg.d_head,\n",
        "    d_mlp = cfg.d_mlp,\n",
        "    act_fn = cfg.act_fn,\n",
        "    normalization_type = 'LN',\n",
        "    d_vocab = cfg.d_vocab,\n",
        "    d_vocab_out = cfg.d_vocab,\n",
        "    n_ctx = cfg.n_ctx(),\n",
        "    init_weights = True,\n",
        "    device = \"cuda\",\n",
        "    seed = cfg.training_seed,\n",
        ")\n",
        "\n",
        "main_model = HookedTransformer(ht_cfg)\n",
        "\n",
        "optimizer = optim.AdamW(main_model.parameters(),\n",
        "                        lr = cfg.lr,\n",
        "                        weight_decay = cfg.weight_decay,\n",
        "                        betas = (0.9, 0.98))\n",
        "\n",
        "max_iter = cfg.n_training_steps\n",
        "warmup_iter = max_iter // 5\n",
        "scheduler1 = torch.optim.lr_scheduler.LinearLR(optimizer, start_factor=0.01, total_iters=int(warmup_iter))\n",
        "scheduler2 = torch.optim.lr_scheduler.CosineAnnealingLR(optimizer, T_max=int(np.ceil((max_iter-warmup_iter))))\n",
        "scheduler  = torch.optim.lr_scheduler.SequentialLR(optimizer, schedulers=[scheduler1, scheduler2], milestones=[int(warmup_iter)])"
      ]
    },
    {
      "cell_type": "markdown",
      "metadata": {
        "id": "Pg267eav_QSl"
      },
      "source": [
        "# Part 4: Loss Function & Data Generator\n",
        "This section defines the loss function and the training/testing data generator.\n"
      ]
    },
    {
      "cell_type": "code",
      "execution_count": null,
      "metadata": {
        "id": "OIVxDpq0w7WY"
      },
      "outputs": [],
      "source": [
        "# Loss functions\n",
        "\n",
        "# Calculate the per-token probability by comparing a batch of prediction \"logits\" to answer \"tokens\"\n",
        "def logits_to_tokens_loss(logits, tokens):\n",
        "  # Addition answer can have one extra digit than question. Answer also has a +/- sign\n",
        "  n_answer_digits = cfg.n_digits+2\n",
        "\n",
        "  # The addition answer digit token probabilities\n",
        "  ans_logits = logits[:, -(n_answer_digits+1):-1]\n",
        "\n",
        "  # Convert raw score (logits) vector into a probability distribution.\n",
        "  # Emphasize the largest scores and suppress the smaller ones, to make them more distinguishable.\n",
        "  ans_probs = F.log_softmax(ans_logits.to(torch.float64), dim=-1)\n",
        "\n",
        "  max_prob_tokens = torch.argmax(ans_probs, dim=-1)\n",
        "\n",
        "  # The addition answer digit tokens\n",
        "  ans_tokens = tokens[:, -(n_answer_digits):]\n",
        "\n",
        "  # Extract values from the ans_probs tensor, based on indices from the ans_tokens tensor\n",
        "  ans_loss = torch.gather(ans_probs, -1, ans_tokens[:, :, None])[..., 0]\n",
        "\n",
        "  return ans_loss, max_prob_tokens\n",
        "\n",
        "\n",
        "# Calculate loss as negative of average per-token mean probability\n",
        "def loss_fn(ans_loss):\n",
        "  return -ans_loss.mean(0)"
      ]
    },
    {
      "cell_type": "code",
      "execution_count": null,
      "metadata": {
        "id": "04JTfmUOliHd"
      },
      "outputs": [],
      "source": [
        "# Generate an enriched data batch for one operator type\n",
        "# \"Addition\" batch entries are formated XXXXX+YYYYY=+ZZZZZZ e.g. 550030+800020=+1350050\n",
        "# \"Subtraction\" batch entries are formated XXXXX-YYYYY=-ZZZZZZ e.g. 550030-800020=-0249990, 800020-550030=+0249990\n",
        "# \"Multiplication\" batch entries are formated 000XXX*000YYY=+ZZZZZZ e.g. 000345*000678=+233910\n",
        "def data_generator_core( batch_op ):\n",
        "\n",
        "  batch = torch.zeros((cfg.batch_size, cfg.n_ctx())).to(torch.int64)\n",
        "  x = torch.randint(0, 10, (cfg.batch_size, cfg.n_digits))\n",
        "  y = torch.randint(0, 10, (cfg.batch_size, cfg.n_digits))\n",
        "\n",
        "  if batch_op == MULT_INDEX:\n",
        "    # Convert from NNNNNN*NNNNNN= to 000NNN*000NNN= so answer (product) is NNNNNN\n",
        "    num_zeros = cfg.n_digits // 2\n",
        "    for z in range(num_zeros):\n",
        "      x[:, z] = 0\n",
        "      y[:, z] = 0\n",
        "\n",
        "  # Enrich the question data on 60% of batches to speed up training\n",
        "  random_case = random.randint(1, 5)\n",
        "  if ( batch_op == PLUS_INDEX or batch_op == MINUS_INDEX ) and (random_case <= 3):\n",
        "    # Flatten x and y to 1D tensors\n",
        "    x_flat = x.view(-1)\n",
        "    y_flat = y.view(-1)\n",
        "\n",
        "    num_elements_to_modify = int(0.40 * x.numel()) # 40%\n",
        "    indices_to_modify = torch.randperm(x_flat.numel())[:num_elements_to_modify]\n",
        "    if batch_op == PLUS_INDEX :\n",
        "      # The S2, S3, etc tasks are compound and increasing rare and so harder to learn.\n",
        "      # Increase the MakeSum9 case frequency to increase frequency of S2, S3, etc\n",
        "      if random.randint(1, 2) == 1:\n",
        "        x_flat[indices_to_modify] = 9 - y_flat[indices_to_modify]\n",
        "      else:\n",
        "        y_flat[indices_to_modify] = 9 - x_flat[indices_to_modify]\n",
        "    else:\n",
        "      # Generate more questions with negative answers (NG task) by increasing the y value\n",
        "      if random_case == 1:\n",
        "        y_flat[y_flat < 9] += 1\n",
        "\n",
        "      # The M2, M3, etc tasks are compound and increasing rare and so harder to learn.\n",
        "      # Increase the DiffZero case frequency to increase frequency of M2, M3, etc\n",
        "      if random.randint(1, 2) == 1:\n",
        "        x_flat[indices_to_modify] = y_flat[indices_to_modify]\n",
        "      else:\n",
        "        y_flat[indices_to_modify] = x_flat[indices_to_modify]\n",
        "\n",
        "\n",
        "    # Reshape x and y back to its original shape\n",
        "    x = x_flat.view(x.shape)\n",
        "    y = y_flat.view(x.shape)\n",
        "\n",
        "\n",
        "  batch[:, :cfg.n_digits] = x\n",
        "  batch[:, cfg.n_digits] = batch_op\n",
        "  batch[:, 1+cfg.n_digits:1+cfg.n_digits*2] = y\n",
        "  batch[:, 1+cfg.n_digits*2] = EQUALS_INDEX\n",
        "\n",
        "  # Convert each row into a 5-digit number\n",
        "  x_values = x[:, 0]\n",
        "  y_values = y[:, 0]\n",
        "  for dn in range(1,cfg.n_digits):\n",
        "    x_values = x_values * 10 + x[:, dn]\n",
        "    y_values = y_values * 10 + y[:, dn]\n",
        "\n",
        "  # Elementwise operations to give the 1D tensor answers\n",
        "  if batch_op == MULT_INDEX:\n",
        "    answers = x_values * y_values\n",
        "  else:\n",
        "    if batch_op == MINUS_INDEX:\n",
        "      answers = x_values - y_values\n",
        "    else:\n",
        "      answers = x_values + y_values\n",
        "\n",
        "  # Insert the answers into the batch\n",
        "  for i in range(cfg.batch_size):\n",
        "    answer = answers[i]\n",
        "\n",
        "    sign = PLUS_INDEX\n",
        "    if answer < 0:\n",
        "      sign = MINUS_INDEX\n",
        "      answer = - answer\n",
        "\n",
        "    batch[i, 2+cfg.n_digits*2] = sign\n",
        "    for j in range(cfg.n_digits+1):\n",
        "      batch[i, cfg.n_ctx()-j-1] = answer % 10\n",
        "      answer = answer // 10\n",
        "      if answer == 0:\n",
        "          break\n",
        "\n",
        "  return batch"
      ]
    },
    {
      "cell_type": "code",
      "execution_count": null,
      "metadata": {
        "id": "Dps1g8spw-U4"
      },
      "outputs": [],
      "source": [
        "# Define \"iterator\" data generator function. Invoked using next().\n",
        "def data_generator( ):\n",
        "  torch.manual_seed(cfg.training_seed)\n",
        "  while True:\n",
        "\n",
        "    batch_rand = random.randint(1, 100)\n",
        "    batch_op = MULT_INDEX if batch_rand <= cfg.perc_mult else MINUS_INDEX if batch_rand <= cfg.perc_mult + cfg.perc_sub else PLUS_INDEX\n",
        "\n",
        "    batch = data_generator_core( batch_op )\n",
        "\n",
        "    yield batch.cuda()"
      ]
    },
    {
      "cell_type": "code",
      "execution_count": null,
      "metadata": {
        "id": "IH_rXfA2xAIG"
      },
      "outputs": [],
      "source": [
        "# Initialise the data generator\n",
        "ds = data_generator()"
      ]
    },
    {
      "cell_type": "code",
      "execution_count": null,
      "metadata": {
        "colab": {
          "base_uri": "https://localhost:8080/"
        },
        "id": "V6c62sGVxVhM",
        "outputId": "7953d142-96e2-4812-a694-61c2eeda4c1d"
      },
      "outputs": [
        {
          "output_type": "stream",
          "name": "stdout",
          "text": [
            "tensor([[ 4,  9,  6,  7,  4,  5, 11,  4,  0,  6,  7,  4,  0, 12, 10,  0,  0,  9,\n",
            "          0,  0,  0,  5],\n",
            "        [ 8,  3,  8,  8,  8,  2, 11,  9,  4,  2,  7,  8,  2, 12, 11,  0,  1,  0,\n",
            "          3,  9,  0,  0],\n",
            "        [ 5,  2,  4,  6,  8,  6, 11,  5,  2,  4,  1,  0,  6, 12, 10,  0,  0,  0,\n",
            "          0,  5,  8,  0]], device='cuda:0')\n"
          ]
        }
      ],
      "source": [
        "# Test data generator\n",
        "tokens = next(ds)\n",
        "print(tokens[:3,:])"
      ]
    },
    {
      "cell_type": "markdown",
      "metadata": {
        "id": "NvijaDhSjn0B"
      },
      "source": [
        "# Part 5: Read insert_model from HuggingFace (optional)\n",
        "\n",
        "If we are initialising the untrained model with an existing model,\n",
        "then we load the existing model from HuggingFace.\n",
        "We load both the model weights and a json file stating which nodes in the model are actually doing useful calculations."
      ]
    },
    {
      "cell_type": "code",
      "execution_count": null,
      "metadata": {
        "id": "ioCE99sOl-Gt"
      },
      "outputs": [],
      "source": [
        "insert_base_name = \"\"\n",
        "insert_weights_fname = \"\"\n",
        "insert_nodes_fname = \"\""
      ]
    },
    {
      "cell_type": "code",
      "execution_count": null,
      "metadata": {
        "id": "LonIqn6KjpTe",
        "colab": {
          "base_uri": "https://localhost:8080/",
          "referenced_widgets": [
            "884e1af1e9c346a7a97b73d52428ade3",
            "413a9d31648943028697f644baac2a49",
            "e4044c0113ab408c9cda6dce8312437a",
            "e64dc43e7a3e46e0b8658f4a8a303f07",
            "01919321c5174115afff3e000426fcbb",
            "eb1426182cae4305b47c5710c1996f74",
            "90602f2bea8d49baa5936b192611d4d9",
            "565b2578ad634c42bd83cb43fb3305ea",
            "4db1b2c9bbbc41a0a51dccade90dbd95",
            "31ea415e8a384a4d9f0c5a43c81f0f39",
            "d586b4e42686435b9ec9583e8359834e"
          ]
        },
        "outputId": "7936093d-214e-4da5-fec1-1956b7e6d9e9"
      },
      "outputs": [
        {
          "output_type": "stream",
          "name": "stdout",
          "text": [
            "Loading insertion model from add_d6_l2_h3_train15K_seed372001.pth\n"
          ]
        },
        {
          "output_type": "display_data",
          "data": {
            "text/plain": [
              "add_d6_l2_h3_train15K_seed372001.pth:   0%|          | 0.00/25.2M [00:00<?, ?B/s]"
            ],
            "application/vnd.jupyter.widget-view+json": {
              "version_major": 2,
              "version_minor": 0,
              "model_id": "884e1af1e9c346a7a97b73d52428ade3"
            }
          },
          "metadata": {}
        },
        {
          "output_type": "stream",
          "name": "stdout",
          "text": [
            "Loaded insert model add_d6_l2_h3_train15K_seed372001.pth\n"
          ]
        }
      ],
      "source": [
        "# Read insert_model weights from HuggingFace\n",
        "if cfg.insert_mode >= 1:\n",
        "  insert_base_name = \"add\" + file_name_suffix(cfg.n_digits, cfg.insert_n_layers, cfg.insert_n_heads, cfg.insert_n_training_steps, cfg.insert_training_seed)\n",
        "\n",
        "  insert_weights_fname = insert_base_name + \".pth\"\n",
        "\n",
        "  ht_cfg = HookedTransformerConfig(\n",
        "      n_layers = cfg.insert_n_layers,\n",
        "      n_heads = cfg.insert_n_heads,\n",
        "      d_model = cfg.d_model, # Assume constant\n",
        "      d_head = cfg.d_head, # Assume constant\n",
        "      d_mlp = cfg.d_mlp, # Assume constant\n",
        "      act_fn = cfg.act_fn, # Assume constant\n",
        "      normalization_type = 'LN',\n",
        "      d_vocab = cfg.d_vocab, # Assume constant\n",
        "      d_vocab_out = cfg.d_vocab, # Assume constant\n",
        "      n_ctx = cfg.n_ctx(), # Assume constant\n",
        "      init_weights = True, # Assume constant\n",
        "      device = \"cuda\",\n",
        "      seed = cfg.insert_training_seed,\n",
        "  )\n",
        "\n",
        "  insert_model = HookedTransformer(ht_cfg)\n",
        "\n",
        "  print('Loading insertion model from', insert_weights_fname)\n",
        "  insert_model.load_state_dict(utils.download_file_from_hf(repo_name=\"PhilipQuirke/Accurate6DigitSubtraction\", file_name=insert_weights_fname, force_is_torch=True))\n",
        "  insert_model.eval()\n",
        "\n",
        "  print(\"Loaded insert model\", insert_weights_fname)"
      ]
    },
    {
      "cell_type": "code",
      "execution_count": null,
      "metadata": {
        "id": "qDaxauYJoorT"
      },
      "outputs": [],
      "source": [
        "class UsefulCell():\n",
        "  # Position.Layer.Head of the cell\n",
        "  position: int  # token-position. Zero to cfg.n_ctx - 1\n",
        "  layer: int\n",
        "  head: int\n",
        "\n",
        "  # Tags related to the cell of form \"MajorVersion.MinorVersion\"\n",
        "  tags: list\n",
        "\n",
        "\n",
        "  # Is this cell an attention head? If not, it must be an MLP layer\n",
        "  def is_head(self):\n",
        "    return self.head != cfg.insert_n_heads\n",
        "\n",
        "\n",
        "  def __init__(self, position, layer, head, tags):\n",
        "    self.position = position\n",
        "    self.layer = layer\n",
        "    self.head = head\n",
        "    self.tags = tags\n",
        "\n",
        "\n",
        "  @classmethod\n",
        "  def from_dict(cls, data):\n",
        "      return cls(data['position'], data['layer'], data['head'], data['tags'])"
      ]
    },
    {
      "cell_type": "code",
      "execution_count": null,
      "metadata": {
        "id": "HXw7-a1E025H",
        "colab": {
          "base_uri": "https://localhost:8080/"
        },
        "outputId": "f4829675-d28a-49e0-cb6f-3f347f795a62"
      },
      "outputs": [
        {
          "output_type": "stream",
          "name": "stdout",
          "text": [
            "https://huggingface.co/PhilipQuirke/Accurate6DigitSubtraction/raw/main/add_d6_l2_h3_train15K_seed372001_tags.json\n",
            "Loaded: 48 Sample: ['Add.S1', 'Impact.A43', 'Add.S3', 'Impact.A4', 'Add.S0', 'Impact.A3', 'Impact.A5', 'Add.S4', 'Add.S2', 'Impact.A2', 'Impact.A6', 'Impact.A32', 'Impact.A432', 'FailPerc.9']\n"
          ]
        }
      ],
      "source": [
        "if cfg.insert_mode >= 1:\n",
        "  # Read insert_model useful node information from HuggingFace\n",
        "  huggingface_directory_url = 'https://huggingface.co/PhilipQuirke/Accurate6DigitSubtraction/raw/main/'\n",
        "  insert_nodes_fname = huggingface_directory_url + insert_base_name + '_tags.json'\n",
        "  print(insert_nodes_fname)\n",
        "\n",
        "  # Download the file\n",
        "  response = requests.get(insert_nodes_fname)\n",
        "\n",
        "  # Ensure the request was successful\n",
        "  if response.status_code == 200:\n",
        "      # Load the JSON data\n",
        "      json_data = json.loads(response.content.decode('utf-8'))\n",
        "\n",
        "      useful_cells = [UsefulCell.from_dict(item) for item in json_data]\n",
        "\n",
        "      print( \"Loaded:\", len(useful_cells), \"Sample:\", useful_cells[0].tags)\n",
        "  else:\n",
        "      print( \"Failed to download the file:\", response.status_code)"
      ]
    },
    {
      "cell_type": "markdown",
      "metadata": {
        "id": "1fW5galHlQqA"
      },
      "source": [
        "# Part 6B: Transfer all of insert_model into main_model (optional)\n",
        "\n"
      ]
    },
    {
      "cell_type": "code",
      "execution_count": null,
      "metadata": {
        "id": "iKe3LUst8veJ"
      },
      "outputs": [],
      "source": [
        "# Transfer all attention heads weights from the small to the main model, updating the right-most small.n_heads of main_model\n",
        "def transfer_all_heads(small_model, small_cfg, start_layer, end_layer, large_model):\n",
        "  for small_layer_no, large_layer_no in enumerate(range(start_layer, end_layer+1)):\n",
        "    large_model.blocks[large_layer_no].attn.W_Q.data[:small_cfg[\"n_heads\"]] = small_model.blocks[small_layer_no].attn.W_Q.clone().data\n",
        "    large_model.blocks[large_layer_no].attn.W_K.data[:small_cfg[\"n_heads\"]] = small_model.blocks[small_layer_no].attn.W_K.clone().data\n",
        "    large_model.blocks[large_layer_no].attn.W_V.data[:small_cfg[\"n_heads\"]] = small_model.blocks[small_layer_no].attn.W_V.clone().data\n",
        "\n",
        "    large_model.blocks[large_layer_no].attn.b_Q.data[:small_cfg[\"n_heads\"]] = small_model.blocks[small_layer_no].attn.b_Q.clone().data\n",
        "    large_model.blocks[large_layer_no].attn.b_K.data[:small_cfg[\"n_heads\"]] = small_model.blocks[small_layer_no].attn.b_K.clone().data\n",
        "    large_model.blocks[large_layer_no].attn.b_V.data[:small_cfg[\"n_heads\"]] = small_model.blocks[small_layer_no].attn.b_V.clone().data"
      ]
    },
    {
      "cell_type": "code",
      "execution_count": null,
      "metadata": {
        "id": "DcaxqmJC8vsa"
      },
      "outputs": [],
      "source": [
        "# Transfer all MLP layer weights from the small to the main model, updating the right-most small.d_mlp of main_model\n",
        "def transfer_all_mlps(small_model, small_cfg, start_layer, end_layer, large_model):\n",
        "  for small_layer_no, large_layer_no in enumerate(range(start_layer, end_layer+1)):\n",
        "    large_model.blocks[large_layer_no].mlp.W_in.data[:, :small_cfg[\"d_mlp\"]] = small_model.blocks[small_layer_no].mlp.W_in.clone().data\n",
        "    large_model.blocks[large_layer_no].mlp.b_in.data[:small_cfg[\"d_mlp\"]] = small_model.blocks[small_layer_no].mlp.b_in.clone().data\n",
        "    large_model.blocks[large_layer_no].mlp.W_out.data[:small_cfg[\"d_mlp\"],] = small_model.blocks[small_layer_no].mlp.W_out.clone().data\n",
        "    large_model.blocks[large_layer_no].mlp.b_out.data = small_model.blocks[small_layer_no].mlp.b_out.clone().data"
      ]
    },
    {
      "cell_type": "code",
      "execution_count": null,
      "metadata": {
        "id": "-UsGFC-b9oVC"
      },
      "outputs": [],
      "source": [
        "def transfer_all_ln(small_model, start_layer, end_layer, large_model):\n",
        "  for small_layer_no, large_layer_no in enumerate(range(start_layer, end_layer+1)):\n",
        "    large_model.blocks[large_layer_no].ln1.w.data = small_model.blocks[small_layer_no].ln1.w.clone().data\n",
        "    large_model.blocks[large_layer_no].ln1.b.data = small_model.blocks[small_layer_no].ln1.b.clone().data\n",
        "\n",
        "  large_model.ln_final.w.data = small_model.ln_final.w.clone().data"
      ]
    },
    {
      "cell_type": "code",
      "execution_count": null,
      "metadata": {
        "id": "BYpItGeX9-jq"
      },
      "outputs": [],
      "source": [
        "def transfer_all_embeds(small_model, large_model):\n",
        "  large_model.embed.W_E.data = small_model.embed.W_E.clone().data\n",
        "  large_model.pos_embed.W_pos.data = small_model.pos_embed.W_pos.clone().data\n",
        "  large_model.unembed.W_U.data = small_model.unembed.W_U.clone().data"
      ]
    },
    {
      "cell_type": "code",
      "execution_count": null,
      "metadata": {
        "id": "WnkU3fYKlQAk"
      },
      "outputs": [],
      "source": [
        "small_cfg = {}\n",
        "large_cfg = {}\n",
        "\n",
        "# Insert the small model weights into the large model\n",
        "def transfer_full_model(small_model, large_model, start_layer, end_layer, transfer_ln=True, transfer_embeds=True):\n",
        "  \"\"\"Args:\n",
        "  small_model: The model to transfer weights from\n",
        "  large_model: The model to transfer weights to\n",
        "  start_layer: The first layer to transfer weights to\n",
        "  end_layer: The last layer to transfer weights to (Note that this is end-inclusive!)\n",
        "  \"\"\"\n",
        "  global small_cfg\n",
        "  global large_cfg\n",
        "\n",
        "  small_cfg = {k: v for k,v in small_model.cfg.__dict__.items() if k in [\"d_head\", \"d_mlp\", \"d_model\", \"n_heads\", \"n_layers\"]}\n",
        "  large_cfg = {k: v for k,v in large_model.cfg.__dict__.items() if k in [\"d_head\", \"d_mlp\", \"d_model\", \"n_heads\", \"n_layers\"]}\n",
        "\n",
        "  # Sanity checks for large model > small model\n",
        "  assert small_cfg[\"d_model\"] == large_cfg[\"d_model\"]\n",
        "  assert small_cfg[\"d_head\"] == large_cfg[\"d_head\"]\n",
        "  assert small_cfg[\"n_layers\"] <= large_cfg[\"n_layers\"]\n",
        "  assert small_cfg[\"n_heads\"] <= large_cfg[\"n_heads\"]\n",
        "  assert small_cfg[\"d_mlp\"] <= large_cfg[\"d_mlp\"]\n",
        "\n",
        "  assert 0 <= start_layer < end_layer <= large_cfg[\"n_layers\"] # Make sure start_layer and end_layer are valid\n",
        "  assert end_layer - start_layer + 1 == small_cfg[\"n_layers\"] # Make sure the number of layers to transfer is correct\n",
        "\n",
        "  transfer_all_heads(small_model, small_cfg, start_layer, end_layer, large_model)\n",
        "  transfer_all_mlps(small_model, small_cfg, start_layer, end_layer, large_model)\n",
        "  if transfer_ln:\n",
        "    transfer_all_ln(small_model, start_layer, end_layer, large_model)\n",
        "  if transfer_embeds:\n",
        "    transfer_all_embeds(small_model, large_model)"
      ]
    },
    {
      "cell_type": "code",
      "execution_count": null,
      "metadata": {
        "id": "_Rd7d5Gjmrd7",
        "colab": {
          "base_uri": "https://localhost:8080/"
        },
        "outputId": "f7604cee-a7ba-4d4a-c913-7edecfb6273d"
      },
      "outputs": [
        {
          "output_type": "stream",
          "name": "stdout",
          "text": [
            "Inserting trained small_model add_d6_l2_h3_train15K_seed372001.pth\n",
            "into larger, untrained main_model ins1_mix_d6_l3_h4_train40K_seed372001\n",
            "destination layers: 0 1\n"
          ]
        }
      ],
      "source": [
        "def insert_existing_model( first_time ):\n",
        "  if cfg.insert_mode >= 1 :\n",
        "    # Is the destination the first few or last few layers of the main_model?\n",
        "    start_layer = cfg.n_layers - cfg.insert_n_layers if cfg.insert_late else 0\n",
        "    end_layer = start_layer + cfg.insert_n_layers-1\n",
        "\n",
        "    if first_time:\n",
        "      print( \"Inserting trained small_model\", insert_weights_fname)\n",
        "      print( \"into larger, untrained main_model\", main_fname)\n",
        "      print( \"destination layers:\", start_layer, end_layer)\n",
        "\n",
        "    transfer_full_model(insert_model, main_model, start_layer, end_layer, first_time, first_time)\n",
        "\n",
        "\n",
        "insert_existing_model( True )"
      ]
    },
    {
      "cell_type": "markdown",
      "metadata": {
        "id": "IppYbJCP_Ubj"
      },
      "source": [
        "# Part 6C: Transfer useful heads of insert_model into main_model (optional)\n",
        "\n",
        "Transfer just the useful attention heads from insert_model into main_model."
      ]
    },
    {
      "cell_type": "code",
      "execution_count": null,
      "metadata": {
        "id": "5nvucMtl_8tt"
      },
      "outputs": [],
      "source": [
        "# Transfer one attention head's weights from the small to the main model.\n",
        "# The right-most small.n_heads of main_model are updated\n",
        "def transfer_one_head(small_model, small_layer_no, small_head_no, large_model, start_layer):\n",
        "  large_layer_no = start_layer + small_layer_no\n",
        "  large_head_no = large_cfg[\"n_heads\"] - small_cfg[\"n_heads\"] + small_head_no\n",
        "\n",
        "  large_model.blocks[large_layer_no].attn.W_Q.data[large_head_no] = small_model.blocks[small_layer_no].attn.W_Q.clone().data[small_head_no]\n",
        "  large_model.blocks[large_layer_no].attn.W_K.data[large_head_no] = small_model.blocks[small_layer_no].attn.W_K.clone().data[small_head_no]\n",
        "  large_model.blocks[large_layer_no].attn.W_V.data[large_head_no] = small_model.blocks[small_layer_no].attn.W_V.clone().data[small_head_no]\n",
        "\n",
        "  large_model.blocks[large_layer_no].attn.b_Q.data[large_head_no] = small_model.blocks[small_layer_no].attn.b_Q.clone().data[small_head_no]\n",
        "  large_model.blocks[large_layer_no].attn.b_K.data[large_head_no] = small_model.blocks[small_layer_no].attn.b_K.clone().data[small_head_no]\n",
        "  large_model.blocks[large_layer_no].attn.b_V.data[large_head_no] = small_model.blocks[small_layer_no].attn.b_V.clone().data[small_head_no]"
      ]
    },
    {
      "cell_type": "code",
      "execution_count": null,
      "metadata": {
        "id": "iefg8KGG_flE"
      },
      "outputs": [],
      "source": [
        "def transfer_useful_heads(small_model, large_model):\n",
        "  if cfg.insert_mode >= 2 and len(useful_cells) > 0:\n",
        "    # Is the destination the first few or last few layers of the main_model?\n",
        "    start_layer = cfg.n_layers - cfg.insert_n_layers if cfg.insert_late else 0\n",
        "\n",
        "    # TODO: Somewhat inefficent loop as a given head may exist in the list multiple times (with different use_cell.position and use_cell.tags values)\n",
        "    for use_cell in useful_cells:\n",
        "      if use_cell.is_head():\n",
        "        transfer_one_head(small_model, use_cell.layer, use_cell.head, large_model, start_layer)"
      ]
    },
    {
      "cell_type": "markdown",
      "metadata": {
        "id": "4JDY_Fqa_Wfb"
      },
      "source": [
        "# Part 7: Train add/sub/mult main_model with Infinite Data\n",
        "Train main_model for n_training_steps, storing train_losses per epoch.\n",
        "\n",
        "Each training step (of n_training_steps) new training data (a batch of batch_size tokens) is generated and the model is trained and loss calculated on it. No separate \"testing\" data is needed, as the training data is unique each step. Memorisation of past training data by the model (if any) is minimally beneficial. For 6 digit addition or subtraction there are 1000 billion possible questions."
      ]
    },
    {
      "cell_type": "code",
      "execution_count": null,
      "metadata": {
        "colab": {
          "base_uri": "https://localhost:8080/",
          "height": 1000,
          "referenced_widgets": [
            "509da8f518284a15963d096181723e46",
            "61ad8a4bb0054cb5bb8270e02803f13c",
            "d3e585cabe9b4520b9fb151e7bf301b5",
            "2f94925e6bbd4a93a943adf7976019c3",
            "a1cbc4fb357247d8aab61700abf4b8ef",
            "d6fbd63c140c46c682370f67b9c1d453",
            "509057512bdd439498906e73b7b25665",
            "a1ed13806a4b4f1f9ce66ffe3b05d067",
            "bf29396e63b542ee8951186542aea9ee",
            "aa52c6567cd940da86ce41ec79363906",
            "5bab157c142246f48bc47394f0f7ebe1"
          ]
        },
        "id": "UJ61_nfKxI9c",
        "outputId": "b52b2f89-7aab-40f6-99a9-afaff4726c15"
      },
      "outputs": [
        {
          "output_type": "display_data",
          "data": {
            "text/plain": [
              "  0%|          | 0/40000 [00:00<?, ?it/s]"
            ],
            "application/vnd.jupyter.widget-view+json": {
              "version_major": 2,
              "version_minor": 0,
              "model_id": "509da8f518284a15963d096181723e46"
            }
          },
          "metadata": {}
        },
        {
          "output_type": "stream",
          "name": "stdout",
          "text": [
            "0 3.737583457591077\n",
            "100 2.802073303470843\n",
            "200 2.143503123329322\n",
            "300 1.503746643776024\n",
            "400 1.3439223867977488\n",
            "500 1.2278098058107356\n",
            "600 1.049195341251318\n",
            "700 0.9170774546050743\n",
            "800 1.1211728328716155\n",
            "900 0.7856355388914302\n",
            "1000 1.0134269373090132\n",
            "1100 1.3187545710807878\n",
            "1200 0.9691035456137854\n",
            "1300 0.9923060378378753\n",
            "1400 0.6702788405482272\n",
            "1500 0.6147744899323542\n",
            "1600 0.7930795601891067\n",
            "1700 0.9309262664164633\n",
            "1800 0.8705971228634615\n",
            "1900 0.5683797522741115\n",
            "2000 0.5650427196387992\n",
            "2100 0.24591843706090152\n",
            "2200 0.18690596767918288\n",
            "2300 0.5897762943075862\n",
            "2400 0.8260096392351111\n",
            "2500 0.7756144608490153\n",
            "2600 0.7966096823755819\n",
            "2700 0.7533615000235362\n",
            "2800 0.5677629231171841\n",
            "2900 0.49653919033107746\n",
            "3000 0.1340628604854901\n",
            "3100 0.5625063916917415\n",
            "3200 0.5034475174278558\n",
            "3300 0.6318533307574876\n",
            "3400 0.5896642740406837\n",
            "3500 0.48480331310257485\n",
            "3600 0.34797013527698606\n",
            "3700 0.32764255761968175\n",
            "3800 0.11337268135167694\n",
            "3900 0.10018032042383199\n",
            "4000 0.10113391192102973\n",
            "4100 0.2378857940459374\n",
            "4200 0.32440919300066584\n",
            "4300 0.09057947949796175\n",
            "4400 0.10319669785647195\n",
            "4500 0.1739515623913574\n",
            "4600 0.10468208203334946\n",
            "4700 0.18227023188855274\n",
            "4800 0.17968489012923644\n",
            "4900 0.17135818148884824\n",
            "5000 0.1517191653968723\n",
            "5100 0.10698583312406176\n",
            "5200 0.17552446078789358\n",
            "5300 0.1654826539157555\n",
            "5400 0.24599521057011642\n",
            "5500 0.1577327843030954\n",
            "5600 0.11814901623512444\n",
            "5700 0.17255794719251788\n",
            "5800 0.10445170031465172\n",
            "5900 0.053222137290321166\n",
            "6000 0.12370413973065958\n",
            "6100 0.06660998199492499\n",
            "6200 0.10003164019447297\n",
            "6300 0.03637322567665155\n",
            "6400 0.023761895934415245\n",
            "6500 0.027180702874687504\n",
            "6600 0.025804710421116192\n",
            "6700 0.08298110042228922\n",
            "6800 0.04234052780403379\n",
            "6900 0.007777331575053816\n",
            "7000 0.06044635880956019\n",
            "7100 0.019961529950308934\n",
            "7200 0.02542133490722221\n",
            "7300 0.048824538199350676\n",
            "7400 0.040320962326945035\n",
            "7500 0.011775880990283021\n",
            "7600 0.02564343436948642\n",
            "7700 0.1142740465698963\n",
            "7800 0.005871345992041829\n",
            "7900 0.0042269153191963164\n",
            "8000 0.017250558692164433\n",
            "8100 0.020219386697877303\n",
            "8200 0.0302990959984806\n",
            "8300 0.027615550015884546\n",
            "8400 0.018501759058073927\n",
            "8500 0.004982997413562385\n",
            "8600 0.0035942406089629307\n",
            "8700 0.006063035523988199\n",
            "8800 0.013006929495361485\n",
            "8900 0.019593090803701984\n",
            "9000 0.00063182135796791\n",
            "9100 0.012341855947740779\n",
            "9200 0.003739542322276239\n",
            "9300 0.01999502594725171\n",
            "9400 0.005047770253159726\n",
            "9500 0.003033903953957605\n",
            "9600 0.01088438182507909\n",
            "9700 0.0006685398694725008\n",
            "9800 0.0174430504640451\n",
            "9900 0.008861968305578566\n",
            "10000 0.0076752847162183425\n",
            "10100 0.0016711940027901344\n",
            "10200 0.022720791504710614\n",
            "10300 0.0010140262470294647\n",
            "10400 0.00365184968037526\n",
            "10500 0.006747592447152667\n",
            "10600 0.000906018344995026\n",
            "10700 0.0038778830388560594\n",
            "10800 0.020138165257330778\n",
            "10900 0.005044780114534667\n",
            "11000 0.0066029025500144315\n",
            "11100 0.003579607510384728\n",
            "11200 0.0032858377484921374\n",
            "11300 0.0006215407862321485\n",
            "11400 0.035345158530517055\n",
            "11500 0.018234013857024785\n",
            "11600 0.0012097468879631382\n",
            "11700 0.00038524512258988355\n",
            "11800 0.016902256190881128\n",
            "11900 0.013136304493004616\n",
            "12000 0.00112804524746853\n",
            "12100 0.000670696538411526\n",
            "12200 0.0018995412997129793\n",
            "12300 0.0017537176973447294\n",
            "12400 0.0016333525964228146\n",
            "12500 0.0005654372502408077\n",
            "12600 0.0011383308378408903\n",
            "12700 0.014477328966105797\n",
            "12800 0.014028863194456839\n",
            "12900 0.0004619931192819173\n",
            "13000 0.01104870981365836\n",
            "13100 0.03761022177740703\n",
            "13200 0.0005213620243380003\n",
            "13300 0.0013471209881436483\n",
            "13400 0.0226015478245792\n",
            "13500 0.0004931989699563886\n",
            "13600 0.006861153446884406\n",
            "13700 0.00045476865260364233\n",
            "13800 0.021078649626530836\n",
            "13900 0.0007880145572959575\n",
            "14000 0.003004495542156913\n",
            "14100 0.001491973591348694\n",
            "14200 0.0006075035096492446\n",
            "14300 0.0001237303534511691\n",
            "14400 0.0019571255759320183\n",
            "14500 0.016971945592685295\n",
            "14600 0.0002439347397711667\n",
            "14700 0.00626492420625465\n",
            "14800 0.0002631509781179376\n",
            "14900 0.004136599073824018\n",
            "15000 0.02284535227463804\n",
            "15100 0.0005990338159692877\n",
            "15200 0.00035585560898793763\n",
            "15300 0.009004247654034282\n",
            "15400 0.00048483060792459283\n",
            "15500 0.0007828399439801339\n",
            "15600 0.028613537619187685\n",
            "15700 0.014073210803173034\n",
            "15800 0.0002636589949798879\n",
            "15900 0.001057132869771409\n",
            "16000 0.004255848857231627\n",
            "16100 0.0004897023755937042\n",
            "16200 8.513818633214997e-05\n",
            "16300 0.0007057978707405516\n",
            "16400 0.0009265997042302552\n",
            "16500 0.0001616037628619376\n",
            "16600 0.0011179901880439245\n",
            "16700 0.0009586009404686695\n",
            "16800 0.0005532580218220699\n",
            "16900 0.00046469367941052834\n",
            "17000 0.0003110569017138042\n",
            "17100 8.678138261078937e-05\n",
            "17200 0.004016023428491133\n",
            "17300 0.0013663830339755015\n",
            "17400 0.0011393819909579787\n",
            "17500 0.0023762228726001053\n",
            "17600 0.00016929201869930976\n",
            "17700 5.3864459303708115e-05\n",
            "17800 0.0004745398263526923\n",
            "17900 0.00012887658497068958\n",
            "18000 8.860916058714161e-05\n",
            "18100 0.0002509084034063643\n",
            "18200 0.011481949673545183\n",
            "18300 0.0001591192875408135\n",
            "18400 0.00021579350720846114\n",
            "18500 0.0003850707108920199\n",
            "18600 0.00015127472638343397\n",
            "18700 5.537184896951888e-05\n",
            "18800 0.004020488429587924\n",
            "18900 0.00326092237366869\n",
            "19000 5.2151564789147385e-05\n",
            "19100 1.8815812829229917e-05\n",
            "19200 0.007720889694821345\n",
            "19300 0.0003247692330669211\n",
            "19400 0.00017144805583398274\n",
            "19500 0.00022859678561502932\n",
            "19600 0.00432112720124242\n",
            "19700 0.00030838665284723554\n",
            "19800 9.967664708971737e-05\n",
            "19900 0.0072030896799218265\n",
            "20000 0.0001774602132643556\n",
            "20100 4.5846201075975316e-05\n",
            "20200 0.0003524460635215551\n",
            "20300 0.01146141375183326\n",
            "20400 0.0002462098165907062\n",
            "20500 0.0002861807694666493\n",
            "20600 0.0009731085746945544\n",
            "20700 0.0001754686248480204\n",
            "20800 8.472748980294941e-05\n",
            "20900 2.915136763486577e-05\n",
            "21000 0.00010884122240478958\n",
            "21100 0.00022116187690960297\n",
            "21200 0.000833992682945553\n",
            "21300 0.00014852407106049075\n",
            "21400 0.0001135860710874256\n",
            "21500 0.0008300356362689867\n",
            "21600 0.000346819590686711\n",
            "21700 6.28288152000612e-05\n",
            "21800 8.052034011238892e-05\n",
            "21900 4.511586023614689e-05\n",
            "22000 0.004811266949070355\n",
            "22100 9.102742768234186e-05\n",
            "22200 3.2213713732701994e-05\n",
            "22300 0.002899218866125414\n",
            "22400 6.522073382640442e-05\n",
            "22500 0.00012386404419842048\n",
            "22600 0.00012663679841185173\n",
            "22700 3.113541026156076e-05\n",
            "22800 1.9499827405567317e-05\n",
            "22900 0.0002399652713104001\n",
            "23000 0.00023884294363945254\n",
            "23100 4.5129232002007294e-05\n",
            "23200 1.751711597899478e-05\n",
            "23300 1.1618552123019758e-05\n",
            "23400 4.914806406509096e-05\n",
            "23500 5.048577245848162e-05\n",
            "23600 5.8146878128022854e-05\n",
            "23700 1.991491698607234e-05\n",
            "23800 1.354072521992387e-05\n",
            "23900 9.977612747249179e-05\n",
            "24000 0.00015428342265878423\n",
            "24100 7.933929969672912e-05\n",
            "24200 3.9948663501343505e-05\n",
            "24300 0.0008740496131692768\n",
            "24400 2.3762475969540447e-05\n",
            "24500 0.0008708597344838085\n",
            "24600 1.6131872228308536e-05\n",
            "24700 9.72800020747152e-06\n",
            "24800 3.225185770205698e-05\n",
            "24900 2.5168828262930172e-05\n",
            "25000 1.5977785543309704e-05\n",
            "25100 8.502088018326349e-06\n",
            "25200 7.7449039865348e-06\n",
            "25300 4.953919900839944e-06\n",
            "25400 0.0003480137954315719\n",
            "25500 5.244770477169966e-05\n",
            "25600 4.034121473242619e-05\n",
            "25700 3.4820172958463966e-05\n",
            "25800 1.3202269860832875e-05\n",
            "25900 4.5825606134901476e-05\n",
            "26000 1.7211998071916423e-05\n",
            "26100 1.4191758312754892e-05\n",
            "26200 2.058407206641578e-05\n",
            "26300 1.026109774201428e-05\n",
            "26400 3.521549898069936e-05\n",
            "26500 1.0743419651667215e-05\n",
            "26600 0.005417048479082853\n",
            "26700 5.661891049031477e-06\n",
            "26800 7.850991817526177e-06\n",
            "26900 6.583078791156304e-06\n",
            "27000 4.814648284341882e-06\n",
            "27100 4.740297587476036e-06\n",
            "27200 3.842899148247275e-05\n",
            "27300 2.972344973411271e-06\n",
            "27400 2.654864857939338e-06\n",
            "27500 1.5387177859384517e-06\n",
            "27600 1.2576495239464852e-06\n",
            "27700 2.79294664033569e-06\n",
            "27800 8.686531746812598e-07\n",
            "27900 2.5587714669856906e-06\n",
            "28000 1.004465891608846e-06\n",
            "28100 9.492544135217412e-07\n",
            "28200 6.22345050395541e-07\n",
            "28300 2.05955852459269e-06\n",
            "28400 8.998890283925285e-07\n",
            "28500 7.05801445899289e-07\n",
            "28600 1.954349723650393e-06\n",
            "28700 1.848536387139537e-06\n",
            "28800 1.2069266564875608e-06\n",
            "28900 7.265425948976846e-07\n",
            "29000 6.904173151272554e-07\n",
            "29100 4.195301365729256e-07\n",
            "29200 3.298394210718002e-07\n",
            "29300 2.2835840431935577e-07\n",
            "29400 1.7347790277190973e-07\n",
            "29500 2.748130896832789e-07\n",
            "29600 9.152213565373154e-08\n",
            "29700 2.6730767211039513e-06\n",
            "29800 8.52212090215011e-08\n",
            "29900 1.2151005373976958e-07\n",
            "30000 8.292289511866108e-08\n",
            "30100 5.8831668293490875e-08\n",
            "30200 4.2158135223173744e-07\n",
            "30300 6.492069376840431e-08\n",
            "30400 2.2793466087949773e-07\n",
            "30500 5.75495370570345e-08\n",
            "30600 7.419185466678707e-08\n",
            "30700 1.5862009335625898e-07\n",
            "30800 5.573270463571208e-08\n",
            "30900 4.354750270442491e-08\n",
            "31000 4.184460289266138e-08\n",
            "31100 7.482655976652383e-08\n",
            "31200 1.0569284520175642e-07\n",
            "31300 5.8671253385959166e-08\n",
            "31400 3.963780570767244e-08\n",
            "31500 5.4420690283944167e-08\n",
            "31600 2.608299164725212e-08\n",
            "31700 2.435760764760949e-08\n",
            "31800 4.153684702578931e-08\n",
            "31900 2.2121084420537797e-08\n",
            "32000 2.3423674504733868e-08\n",
            "32100 2.5794471548866402e-08\n",
            "32200 2.0119818730433263e-08\n",
            "32300 1.5365464833676903e-08\n",
            "32400 1.791391025250678e-08\n",
            "32500 1.9973049767536737e-08\n",
            "32600 1.4323592021777431e-08\n",
            "32700 1.5155175117715602e-08\n",
            "32800 1.290095997912762e-08\n",
            "32900 2.4729147300188658e-08\n",
            "33000 1.512895399368823e-08\n",
            "33100 1.1481128135760766e-08\n",
            "33200 1.1566206052358885e-08\n",
            "33300 1.7670774537942115e-08\n",
            "33400 1.241690431191473e-08\n",
            "33500 1.1910575345772296e-08\n",
            "33600 1.0680609429010405e-08\n",
            "33700 1.2074494679137473e-08\n",
            "33800 1.486257670759467e-08\n",
            "33900 1.0927072659000453e-08\n",
            "34000 1.1021161786319874e-08\n",
            "34100 8.986499528107879e-09\n",
            "34200 1.1954186965064084e-08\n",
            "34300 9.207767128633868e-09\n",
            "34400 8.628515048177775e-09\n",
            "34500 1.6014400603291248e-08\n",
            "34600 1.0422227190482741e-08\n",
            "34700 1.0546591726930101e-08\n",
            "34800 1.1290441820351003e-08\n",
            "34900 9.688813320610968e-09\n",
            "35000 1.0597850670882283e-08\n",
            "35100 8.168606805179958e-09\n",
            "35200 8.488510511484839e-09\n",
            "35300 8.012082698612442e-09\n",
            "35400 9.960935511010297e-09\n",
            "35500 1.4089238249228836e-08\n",
            "35600 8.963880632035681e-09\n",
            "35700 8.477611918181321e-09\n",
            "35800 1.0589497569105366e-08\n",
            "35900 6.738481442000163e-09\n",
            "36000 9.103701292587799e-09\n",
            "36100 7.58872818144891e-09\n",
            "36200 7.834268610495462e-09\n",
            "36300 8.350688959789503e-09\n",
            "36400 1.0087738821002748e-08\n",
            "36500 7.138654533882262e-09\n",
            "36600 7.1804499238469445e-09\n",
            "36700 1.0935231476785723e-08\n",
            "36800 7.795049127396515e-09\n",
            "36900 9.82205593132793e-09\n",
            "37000 1.0348681671877601e-08\n",
            "37100 8.951853271130704e-09\n",
            "37200 7.837415470168387e-09\n",
            "37300 8.127250727990987e-09\n",
            "37400 8.529007649242198e-09\n",
            "37500 9.284772779312817e-09\n",
            "37600 8.655606256970521e-09\n",
            "37700 9.69318502428871e-09\n",
            "37800 8.496729087222858e-09\n",
            "37900 7.2568190646703305e-09\n",
            "38000 7.0958395249999736e-09\n",
            "38100 8.904183062357641e-09\n",
            "38200 8.89819108985502e-09\n",
            "38300 9.27505889775428e-09\n",
            "38400 8.617353259893889e-09\n",
            "38500 8.427104499415688e-09\n",
            "38600 9.327620073124424e-09\n",
            "38700 8.993421274803943e-09\n",
            "38800 7.900844688426254e-09\n",
            "38900 8.380006068962228e-09\n",
            "39000 6.356515907876685e-09\n",
            "39100 1.0418824426441502e-08\n",
            "39200 8.487156024618057e-09\n",
            "39300 9.196426249564866e-09\n",
            "39400 8.96245527556329e-09\n",
            "39500 1.631442864430161e-08\n",
            "39600 7.4310641298172905e-09\n",
            "39700 9.196922748281136e-09\n",
            "39800 8.499808647057182e-09\n",
            "39900 6.825988352008505e-09\n",
            "39999 7.569329114805015e-09\n"
          ]
        }
      ],
      "source": [
        "# Train the model\n",
        "train_losses_list = []\n",
        "per_token_train_losses_list = []\n",
        "\n",
        "for epoch in tqdm.tqdm(range(cfg.n_training_steps)):\n",
        "\n",
        "  tokens = next(ds)\n",
        "  logits = main_model(tokens)\n",
        "\n",
        "  per_token_train_losses_raw, _ = logits_to_tokens_loss(logits, tokens)\n",
        "  per_token_train_losses = loss_fn(per_token_train_losses_raw)\n",
        "  per_token_train_losses_list.append(utils.to_numpy(per_token_train_losses))\n",
        "\n",
        "  train_loss = per_token_train_losses.mean()\n",
        "  train_loss.backward()\n",
        "  train_losses_list.append(train_loss.item())\n",
        "\n",
        "  optimizer.step()\n",
        "  scheduler.step()\n",
        "  optimizer.zero_grad()\n",
        "\n",
        "  if epoch % 100 == 0:\n",
        "    print(epoch, train_loss.item())\n",
        "    if cfg.insert_mode == 2:\n",
        "      # Freeze the useful attention heads from insert_model\n",
        "      transfer_useful_heads(insert_model, main_model)\n",
        "    if cfg.insert_mode == 3:\n",
        "      # Freeze the useful attention heads and MLP layers from insert_model\n",
        "      insert_existing_model( False )\n",
        "\n",
        "print(epoch, train_loss.item())"
      ]
    },
    {
      "cell_type": "code",
      "execution_count": null,
      "metadata": {
        "colab": {
          "base_uri": "https://localhost:8080/"
        },
        "id": "iwJBrnSJ23eb",
        "outputId": "8b88db47-47ed-40d7-897a-b2321557f24d"
      },
      "outputs": [
        {
          "output_type": "stream",
          "name": "stdout",
          "text": [
            "AvgFinalLoss 8e-09\n",
            "Final loss 7.569329114805015e-09\n"
          ]
        }
      ],
      "source": [
        "final_training_loss = round((train_losses_list[-5]+train_losses_list[-4]+train_losses_list[-3]+train_losses_list[-2]+train_losses_list[-1])/5,9)\n",
        "\n",
        "print( \"AvgFinalLoss\", final_training_loss)\n",
        "print( \"Final loss\", train_losses_list[-1])"
      ]
    },
    {
      "cell_type": "code",
      "execution_count": null,
      "metadata": {
        "colab": {
          "base_uri": "https://localhost:8080/"
        },
        "id": "qgzjamSn2y4j",
        "outputId": "e3221b5d-a60d-4b0f-af2a-4e228c809d16"
      },
      "outputs": [
        {
          "output_type": "stream",
          "name": "stdout",
          "text": [
            "Saving main model to temporary Colab file ins1_mix_d6_l3_h4_train40K_seed372001.pth\n"
          ]
        }
      ],
      "source": [
        "# These temporary Colab files can be manually downloaded from the Colab \"Files\" tab (at left).\n",
        "# The download can be manually loaded into HuggingFace so the \"Accurate Math - Analyse\" Colab can access it.\n",
        "\n",
        "print(\"Saving main model to temporary Colab file\", main_fname_pth)\n",
        "torch.save(main_model.state_dict(), main_fname_pth)"
      ]
    },
    {
      "cell_type": "code",
      "execution_count": null,
      "metadata": {
        "colab": {
          "base_uri": "https://localhost:8080/"
        },
        "id": "aygOXqmalo71",
        "outputId": "fc61ab8e-0bd0-4feb-aefa-67aff9d6569c"
      },
      "outputs": [
        {
          "output_type": "stream",
          "name": "stdout",
          "text": [
            "Saving main model config etc to temporary Colab file: ins1_mix_d6_l3_h4_train40K_seed372001.json\n"
          ]
        }
      ],
      "source": [
        "extra_data = {\n",
        "    \"Config\": cfg.to_dict(),\n",
        "    \"AvgFinalLoss\": final_training_loss,\n",
        "    \"FinalLoss\": train_losses_list[-1],\n",
        "    \"TrainingLoss\": train_losses_list\n",
        "}\n",
        "\n",
        "print( \"Saving main model config etc to temporary Colab file:\", main_fname_json)\n",
        "save_cfg = cfg.to_dict()\n",
        "with open(main_fname_json, 'w') as file:\n",
        "    json.dump(extra_data, file)"
      ]
    },
    {
      "cell_type": "markdown",
      "metadata": {
        "id": "LzIMC7iEksnz"
      },
      "source": [
        "# Part 8: Training Loss - Addition and Subtraction\n",
        "\n",
        "On 26Jan24 ran several runs:\n",
        "\n",
        "Addition:\n",
        "- 28Jan24: add_d5_l1_h3_train30K_seed372001. AvgFinalLoss=0.001389\n",
        "- 26Jan24: add_d5_l2_h3_train15K_seed372001. AvgFinalLoss=1.6e-08. Handles 1m Qs\n",
        "- 26Jan24: add_d6_l2_h3_train15K_seed372001. AvgFinalLoss=1.7e-08. Handles 1m Qs\n",
        "\n",
        "Subtraction:\n",
        "- 26Jan24: sub_d6_l2_h3_train20K_seed372001. AvgFinalLoss=9.8-05. Fails 1m Qs\n",
        "- 26Jan24: sub_d6_l2_h3_train30K_seed372001. AvgFinalLoss=5.8e-06. Fails 1m Qs\n",
        "\n",
        "Mixed:\n",
        "- 26Jan24: sub_d6_l3_h4_train20K_seed372001. AvgFinalLoss=5e-09. Fails 1m Qs\n",
        "\n",
        "Mixed+Insert (add_d6_l2_h3_train15K_seed372001 inserted):\n",
        "- 26Jan24: ins1_mix_d6_l3_h4_train40K_seed372001. AvgFinalLoss=8e-09. Handles 1m Qs for Add and Sub\n",
        "- 26Jan24: ins2_mix_d6_l4_h4_train40K_seed372001. AvgFinalLoss=7e-09. Fails 1m Qs\n",
        "- 26Jan24: ins3_mix_d6_l4_h3_train40K_seed372001. AvgFinalLoss=2.6e-06. Fails 1m Qs\n",
        "- ??Jan24: ins3_mix_d6_l4_h3_train60K_seed372001. AvgFinalLoss=????"
      ]
    },
    {
      "cell_type": "markdown",
      "metadata": {
        "id": "LiOdvQFD_fxZ"
      },
      "source": [
        "# Part 9: Line Graphs\n",
        "\n",
        "This section analyses the training loss by graphing it at a high level.\n",
        "\n",
        "The loss curve for all digits show visible inflection points (bumps), but is too high level to help understand the algorithm.\n",
        "\n",
        "When this graph is decomposed into 'per digit' graphs, the interesting distinct 'per digit' curves appear, showing each digit is being refined semi-independently, with the model algorithm refining each digit separately."
      ]
    },
    {
      "cell_type": "code",
      "execution_count": null,
      "metadata": {
        "colab": {
          "base_uri": "https://localhost:8080/",
          "height": 1000
        },
        "id": "tmyT2TFd29at",
        "outputId": "2c70742f-b593-4408-96bf-e3615b6def33"
      },
      "outputs": [],
      "source": [
        "def line(tensor, renderer=None, xaxis=\"\", yaxis=\"\", **kwargs):\n",
        "    px.line(utils.to_numpy(tensor), labels={\"x\":xaxis, \"y\":yaxis}, **kwargs).show(renderer)\n",
        "\n",
        "# Helper function to plot multiple lines\n",
        "def lines(raw_lines_list, x=None, mode='lines', labels=None, xaxis='Epoch', yaxis='Loss', title = '', log_y=False, hover=None, **kwargs):\n",
        "\n",
        "    lines_list = raw_lines_list\n",
        "    log_suffix = '' if log_y==False else ' (Log)'\n",
        "    full_title = title + log_suffix\n",
        "\n",
        "    if type(lines_list)==torch.Tensor:\n",
        "        lines_list = [lines_list[i] for i in range(lines_list.shape[0])]\n",
        "    if x is None:\n",
        "        x=np.arange(len(lines_list[0]))\n",
        "    if cfg.save_graph_to_file :\n",
        "      fig = go.Figure(layout={})\n",
        "      print(full_title)\n",
        "    else:\n",
        "      fig = go.Figure(layout={'title':full_title})\n",
        "\n",
        "    fig.update_xaxes(title=xaxis)\n",
        "    fig.update_yaxes(title=yaxis + log_suffix)\n",
        "    for c, line in enumerate(lines_list):\n",
        "        if type(line)==torch.Tensor:\n",
        "            line = utils.to_numpy(line)\n",
        "        if labels is not None:\n",
        "            label = labels[c]\n",
        "        else:\n",
        "            label = c\n",
        "        fig.add_trace(go.Scatter(x=x, y=line, mode=mode, name=label, hovertext=hover, **kwargs))\n",
        "    if log_y:\n",
        "        fig.update_layout(yaxis_type=\"log\")\n",
        "    if cfg.save_graph_to_file:\n",
        "        fig.update_layout(margin=dict(l=10, r=10, t=10, b=10),width=1200,height=300)\n",
        "\n",
        "    fig.show(bbox_inches=\"tight\")\n",
        "\n",
        "    if cfg.save_graph_to_file:\n",
        "        filename = full_title.replace(\" \", \"\").replace(\"(\", \"\").replace(\")\", \"\").replace(\"&\", \"\").replace(\",\", \"\").replace(\"%\", \"\")   +'.pdf'\n",
        "        pio.write_image(fig, filename)\n",
        "\n",
        "\n",
        "title_suffix = 'Digit Loss Curves ' + main_fname\n",
        "per_token_losses = np.stack(per_token_train_losses_list, axis=0)\n",
        "\n",
        "line(train_losses_list,\n",
        "    title=title_suffix)\n",
        "\n",
        "lines([per_token_losses[:, i] for i in range(1+cfg.n_digits)]+[train_losses_list],\n",
        "      labels = [f'digit {i}' for i in range(1+cfg.n_digits)]+['all_digits'],\n",
        "      title='Per digit'+title_suffix, log_y=False)\n",
        "\n",
        "lines([per_token_losses[:, i] for i in range(1+cfg.n_digits)]+[train_losses_list],\n",
        "      labels = [f'digit {i}' for i in range(1+cfg.n_digits)]+['all_digits'],\n",
        "      title='Per digit'+title_suffix, log_y=True)\n",
        "\n",
        "for i in range(1+cfg.n_digits):\n",
        "  print('Final Loss for digit ' + str(i) + ' is ', per_token_losses[-1, i])"
      ]
    },
    {
      "cell_type": "markdown",
      "metadata": {
        "id": "pgk8m02A_lxB"
      },
      "source": [
        "# Part 10: Questions Set Up\n",
        "\n",
        "Create sets of sample questions (by task) to ask the model to predict"
      ]
    },
    {
      "cell_type": "code",
      "execution_count": null,
      "metadata": {
        "id": "8BpOcko53GrI"
      },
      "outputs": [],
      "source": [
        "def make_varied_questions():\n",
        "  q0 = next(ds)\n",
        "  q1 = next(ds)\n",
        "  q2 = next(ds)\n",
        "  q3 = next(ds)\n",
        "\n",
        "  questions = torch.vstack((q0.cuda(), q1.cuda(), q2.cuda(), q3.cuda()))\n",
        "\n",
        "  return questions"
      ]
    },
    {
      "cell_type": "code",
      "execution_count": null,
      "metadata": {
        "id": "J4bqJ5C23M-A"
      },
      "outputs": [],
      "source": [
        "verbose = True"
      ]
    },
    {
      "cell_type": "code",
      "execution_count": null,
      "metadata": {
        "colab": {
          "base_uri": "https://localhost:8080/"
        },
        "id": "PJayaDiR3PgJ",
        "outputId": "44a0686a-6036-4526-ec54-2df012f22bba"
      },
      "outputs": [
        {
          "output_type": "stream",
          "name": "stdout",
          "text": [
            "ActivationCache with keys ['hook_embed', 'hook_pos_embed', 'blocks.0.hook_resid_pre', 'blocks.0.ln1.hook_scale', 'blocks.0.ln1.hook_normalized', 'blocks.0.attn.hook_q', 'blocks.0.attn.hook_k', 'blocks.0.attn.hook_v', 'blocks.0.attn.hook_attn_scores', 'blocks.0.attn.hook_pattern', 'blocks.0.attn.hook_z', 'blocks.0.attn.hook_result', 'blocks.0.hook_attn_out', 'blocks.0.hook_resid_mid', 'blocks.0.ln2.hook_scale', 'blocks.0.ln2.hook_normalized', 'blocks.0.mlp.hook_pre', 'blocks.0.mlp.hook_post', 'blocks.0.hook_mlp_out', 'blocks.0.hook_resid_post', 'blocks.1.hook_resid_pre', 'blocks.1.ln1.hook_scale', 'blocks.1.ln1.hook_normalized', 'blocks.1.attn.hook_q', 'blocks.1.attn.hook_k', 'blocks.1.attn.hook_v', 'blocks.1.attn.hook_attn_scores', 'blocks.1.attn.hook_pattern', 'blocks.1.attn.hook_z', 'blocks.1.attn.hook_result', 'blocks.1.hook_attn_out', 'blocks.1.hook_resid_mid', 'blocks.1.ln2.hook_scale', 'blocks.1.ln2.hook_normalized', 'blocks.1.mlp.hook_pre', 'blocks.1.mlp.hook_post', 'blocks.1.hook_mlp_out', 'blocks.1.hook_resid_post', 'blocks.2.hook_resid_pre', 'blocks.2.ln1.hook_scale', 'blocks.2.ln1.hook_normalized', 'blocks.2.attn.hook_q', 'blocks.2.attn.hook_k', 'blocks.2.attn.hook_v', 'blocks.2.attn.hook_attn_scores', 'blocks.2.attn.hook_pattern', 'blocks.2.attn.hook_z', 'blocks.2.attn.hook_result', 'blocks.2.hook_attn_out', 'blocks.2.hook_resid_mid', 'blocks.2.ln2.hook_scale', 'blocks.2.ln2.hook_normalized', 'blocks.2.mlp.hook_pre', 'blocks.2.mlp.hook_post', 'blocks.2.hook_mlp_out', 'blocks.2.hook_resid_post', 'ln_final.hook_scale', 'ln_final.hook_normalized']\n",
            "Sample Mean Loss 9.751923076406568e-09\n",
            "Sample blocks.0.attn.hook_z torch.Size([256, 22, 4, 170])\n",
            "Mean blocks.0.attn.hook_z torch.Size([1, 22, 4, 170])\n",
            "Sample blocks.0.hook_resid_post torch.Size([256, 22, 510])\n",
            "Mean blocks.0.hook_resid_post torch.Size([1, 22, 510])\n",
            "Sample blocks.0.mlp.hook_post torch.Size([256, 22, 2040])\n",
            "Mean blocks.0.mlp.hook_post torch.Size([1, 22, 2040])\n"
          ]
        }
      ],
      "source": [
        "# Build a test batch of random questions\n",
        "varied_questions = make_varied_questions();\n",
        "\n",
        "\n",
        "# Run the sample batch, gather the cache\n",
        "main_model.reset_hooks()\n",
        "main_model.set_use_attn_result(True)\n",
        "sample_logits, sample_cache = main_model.run_with_cache(varied_questions.cuda())\n",
        "print(sample_cache) # Gives names of datasets in the cache\n",
        "sample_losses_raw, sample_max_prob_tokens = logits_to_tokens_loss(sample_logits, varied_questions.cuda())\n",
        "sample_loss_mean = utils.to_numpy(loss_fn(sample_losses_raw).mean())\n",
        "print(\"Sample Mean Loss\", sample_loss_mean)\n",
        "\n",
        "\n",
        "# attn.hook_z is the \"attention head output\" hook point name (at a specified layer)\n",
        "l_attn_hook_z_name = [utils.get_act_name('z', 0, 'a'),utils.get_act_name('z', 1, 'a')] # 'blocks.0.attn.hook_z' etc\n",
        "sample_attn_z = sample_cache[l_attn_hook_z_name[0]]\n",
        "print(\"Sample\", l_attn_hook_z_name[0], sample_attn_z.shape) # gives [239, 18, 3, 170] = num_questions, cfg.n_ctx, n_heads, d_head\n",
        "mean_attn_z = torch.mean(sample_attn_z, dim=0, keepdim=True)\n",
        "print(\"Mean\", l_attn_hook_z_name[0], mean_attn_z.shape) # gives [1, 18, 3, 170] = 1, cfg.n_ctx, n_heads, d_head\n",
        "\n",
        "\n",
        "# hook_resid_pre is the \"pre residual memory update\" hook point name (at a specified layer)\n",
        "l_hook_resid_pre_name = ['blocks.0.hook_resid_pre','blocks.1.hook_resid_pre']\n",
        "\n",
        "\n",
        "# hook_resid_post is the \"post residual memory update\" hook point name (at a specified layer)\n",
        "l_hook_resid_post_name = ['blocks.0.hook_resid_post','blocks.1.hook_resid_post']\n",
        "sample_resid_post = sample_cache[l_hook_resid_post_name[0]]\n",
        "print(\"Sample\", l_hook_resid_post_name[0], sample_resid_post.shape) # gives [239, 18, 510] = num_questions, cfg.n_ctx, d_model\n",
        "mean_resid_post = torch.mean(sample_resid_post, dim=0, keepdim=True)\n",
        "print(\"Mean\", l_hook_resid_post_name[0], mean_resid_post.shape) # gives [1, 18, 510] = 1, cfg.n_ctx, d_model\n",
        "\n",
        "\n",
        "# mlp.hook_post is the \"MLP layer\" hook point name (at a specified layer)\n",
        "l_mlp_hook_post_name = [utils.get_act_name('post', 0),utils.get_act_name('post', 1)] # 'blocks.0.mlp.hook_post' etc\n",
        "sample_mlp_hook_post = sample_cache[l_mlp_hook_post_name[0]]\n",
        "print(\"Sample\", l_mlp_hook_post_name[0], sample_mlp_hook_post.shape) # gives [239, 18, 2040] = num_questions, cfg.n_ctx, d_model*4\n",
        "mean_mlp_hook_post = torch.mean(sample_mlp_hook_post, dim=0, keepdim=True)\n",
        "print(\"Mean\", l_mlp_hook_post_name[0], mean_mlp_hook_post.shape) # gives [1, 18, 2040] = 1, cfg.n_ctx, d_model*4"
      ]
    },
    {
      "cell_type": "markdown",
      "metadata": {
        "id": "deGhK1OC_1mD"
      },
      "source": [
        "# Part 11: Attention Patterns\n",
        "Attention patterns show which token(s) the model's attention heads are paying attention to in each token position of the prediction calculation.\n",
        "\n",
        "For the default CoLab set up, the  model has 3 attention heads, and performs 5 digit addition. The attention pattern is 18 by 18 squares (as 54321+77779=132100 is 18 tokens). Time proceeds vertically downwards, with one additional token being revealed horizontally at each token position, giving the overall triangle shape. This visualisation provided insights. After the question is fully revealed (at token position 11), each head starts attending to pairs of question digits from left to right (i.e. high-value digits before lower-value digits) giving the “double staircase\" shape. The three heads attend to a given digit pair in three different token position, giving a time ordering of heads."
      ]
    },
    {
      "cell_type": "code",
      "execution_count": null,
      "metadata": {
        "colab": {
          "base_uri": "https://localhost:8080/"
        },
        "id": "PiVCSBSE3Xpk",
        "outputId": "641b62b4-a95b-4dbc-b47c-d679b6c5a33a"
      },
      "outputs": [
        {
          "output_type": "stream",
          "name": "stdout",
          "text": [
            "Attention patterns for 688145-808145=-0120000\n"
          ]
        },
        {
          "output_type": "display_data",
          "data": {
            "text/plain": [
              "<circuitsvis.utils.render.RenderedHTML at 0x7aa38759bdc0>"
            ],
            "text/html": [
              "<div id=\"circuits-vis-4c774245-ea71\" style=\"margin: 15px 0;\"/>\n",
              "    <script crossorigin type=\"module\">\n",
              "    import { render, AttentionPatterns } from \"https://unpkg.com/circuitsvis@1.43.2/dist/cdn/esm.js\";\n",
              "    render(\n",
              "      \"circuits-vis-4c774245-ea71\",\n",
              "      AttentionPatterns,\n",
              "      {\"tokens\": [\"6\", \"8\", \"8\", \"1\", \"4\", \"5\", \"11\", \"8\", \"0\", \"8\", \"1\", \"4\", \"5\", \"12\", \"11\", \"0\", \"1\", \"2\", \"0\", \"0\", \"0\", \"0\"], \"attention\": [[[1.0, 0.0, 0.0, 0.0, 0.0, 0.0, 0.0, 0.0, 0.0, 0.0, 0.0, 0.0, 0.0, 0.0, 0.0, 0.0, 0.0, 0.0, 0.0, 0.0, 0.0, 0.0], [0.12407158315181732, 0.8759284019470215, 0.0, 0.0, 0.0, 0.0, 0.0, 0.0, 0.0, 0.0, 0.0, 0.0, 0.0, 0.0, 0.0, 0.0, 0.0, 0.0, 0.0, 0.0, 0.0, 0.0], [0.0010595705825835466, 0.4882018268108368, 0.5107386112213135, 0.0, 0.0, 0.0, 0.0, 0.0, 0.0, 0.0, 0.0, 0.0, 0.0, 0.0, 0.0, 0.0, 0.0, 0.0, 0.0, 0.0, 0.0, 0.0], [0.27892956137657166, 0.11718124151229858, 0.3958178162574768, 0.20807141065597534, 0.0, 0.0, 0.0, 0.0, 0.0, 0.0, 0.0, 0.0, 0.0, 0.0, 0.0, 0.0, 0.0, 0.0, 0.0, 0.0, 0.0, 0.0], [0.006987208966165781, 0.002626058179885149, 0.01716257818043232, 0.9688215255737305, 0.004402614198625088, 0.0, 0.0, 0.0, 0.0, 0.0, 0.0, 0.0, 0.0, 0.0, 0.0, 0.0, 0.0, 0.0, 0.0, 0.0, 0.0, 0.0], [0.00023647365742363036, 3.209011993021704e-05, 0.0019122855737805367, 6.319513340713456e-05, 0.00011966041347477585, 0.9976363182067871, 0.0, 0.0, 0.0, 0.0, 0.0, 0.0, 0.0, 0.0, 0.0, 0.0, 0.0, 0.0, 0.0, 0.0, 0.0, 0.0], [0.0035340709146112204, 6.622532237088308e-05, 0.004623692017048597, 0.0010175887728109956, 0.006208539009094238, 0.002113704103976488, 0.9824361801147461, 0.0, 0.0, 0.0, 0.0, 0.0, 0.0, 0.0, 0.0, 0.0, 0.0, 0.0, 0.0, 0.0, 0.0, 0.0], [0.114505834877491, 0.011481895111501217, 0.0657566711306572, 0.0471816249191761, 0.34174826741218567, 0.14664633572101593, 0.16862621903419495, 0.10405309498310089, 0.0, 0.0, 0.0, 0.0, 0.0, 0.0, 0.0, 0.0, 0.0, 0.0, 0.0, 0.0, 0.0, 0.0], [0.03454843536019325, 0.3429591953754425, 0.011520813219249249, 0.037114467471838, 0.03152281418442726, 0.051898058503866196, 0.17228293418884277, 0.1241307258605957, 0.194022536277771, 0.0, 0.0, 0.0, 0.0, 0.0, 0.0, 0.0, 0.0, 0.0, 0.0, 0.0, 0.0, 0.0], [1.0705897973695144e-10, 0.9997753500938416, 5.670100122756594e-08, 5.206317599260046e-10, 5.532221902804224e-10, 3.449350671758111e-08, 1.26088703922278e-08, 5.993595664222084e-08, 0.00022440156317315996, 6.603426072615548e-08, 0.0, 0.0, 0.0, 0.0, 0.0, 0.0, 0.0, 0.0, 0.0, 0.0, 0.0, 0.0], [1.6006478062990936e-06, 0.00010694438242353499, 0.00035440505598671734, 0.4963434934616089, 4.2977044358849525e-06, 0.0004346709174569696, 5.441822941065766e-05, 0.00011426088167354465, 1.3225125030658091e-06, 0.000410895561799407, 0.502173662185669, 0.0, 0.0, 0.0, 0.0, 0.0, 0.0, 0.0, 0.0, 0.0, 0.0, 0.0], [6.246524719699664e-08, 1.876049850579875e-06, 6.172699795570225e-05, 0.49445322155952454, 2.8818868713642587e-07, 2.0009669242426753e-05, 4.517833531281212e-06, 1.2641960893233772e-05, 1.7732817880755647e-08, 8.695858559804037e-05, 0.505332350730896, 2.6272207833244465e-05, 0.0, 0.0, 0.0, 0.0, 0.0, 0.0, 0.0, 0.0, 0.0, 0.0], [2.3494664547207833e-10, 1.0067421385429043e-07, 0.47115302085876465, 1.7437962185340439e-09, 1.3011348665159517e-09, 1.5775161443798424e-07, 1.6987623752129366e-08, 4.870176795179759e-08, 4.717452539715339e-10, 0.5288462042808533, 1.5061536462468439e-09, 3.299219386576624e-08, 3.441824958372308e-07, 0.0, 0.0, 0.0, 0.0, 0.0, 0.0, 0.0, 0.0, 0.0], [6.965185372909133e-11, 2.3482945366026797e-08, 1.2637751751753967e-06, 4.3040798702875804e-10, 0.006026683375239372, 5.4597609988604745e-08, 3.160800190471491e-07, 3.011166427313583e-08, 6.477930691861644e-11, 1.8208867231805925e-06, 5.590936047461526e-10, 0.9939686059951782, 1.1782376532210037e-06, 2.8141883490206965e-08, 0.0, 0.0, 0.0, 0.0, 0.0, 0.0, 0.0, 0.0], [1.807419778288022e-07, 0.9976683259010315, 1.457284906791756e-05, 5.491659180734132e-07, 1.446351802769641e-06, 5.363854143070057e-06, 5.5226273616426624e-06, 1.769809387042187e-05, 0.0022571776062250137, 1.3414386557997204e-05, 5.686846407115809e-07, 6.823249350418337e-06, 3.2578407171968138e-06, 1.8349155652686022e-06, 3.1241256692737807e-06, 0.0, 0.0, 0.0, 0.0, 0.0, 0.0, 0.0], [4.3099070978769305e-09, 0.9996631145477295, 9.257564101972093e-07, 4.935326103350235e-08, 5.817299353338967e-08, 2.740222498687217e-06, 3.2422966000922315e-07, 2.144950258298195e-06, 0.0003256730269640684, 8.483301030537405e-07, 5.140568148931379e-08, 3.891115625265229e-07, 1.264380671273102e-06, 2.160788881155895e-07, 5.020436333325051e-07, 1.6881681403901894e-06, 0.0, 0.0, 0.0, 0.0, 0.0, 0.0], [2.336292759252956e-08, 2.4074613520497223e-06, 0.515312671661377, 2.8150222419753845e-07, 2.0382688603604038e-07, 6.612849574594293e-06, 1.1187325981154572e-06, 2.1112402919243323e-06, 2.444452285033094e-08, 0.48465782403945923, 2.436314900933212e-07, 1.674952272878727e-06, 7.642312993993983e-06, 1.3888808325646096e-06, 5.473700070979248e-07, 5.231942395766964e-06, 1.634258595117899e-08, 0.0, 0.0, 0.0, 0.0, 0.0], [2.677441273135628e-07, 2.1656067474395968e-05, 1.272343251912389e-05, 0.524519681930542, 3.465020199655555e-06, 6.421708530979231e-05, 1.0134769581782166e-05, 5.0064711103914306e-05, 1.43909417715804e-07, 1.4829136489424855e-05, 0.47511976957321167, 2.87041584670078e-05, 4.6979803300928324e-05, 4.146989158471115e-05, 1.9531144062057137e-05, 4.561975583783351e-05, 8.15694676248313e-08, 7.133676831472258e-07, 0.0, 0.0, 0.0, 0.0], [1.4764519468135617e-11, 2.955080447009095e-07, 1.6297995841796364e-07, 2.555500033807334e-09, 0.09624920785427094, 6.121738351794193e-07, 2.014701863117807e-07, 1.810564498327949e-07, 1.9665977180061134e-11, 1.8215379782304808e-07, 2.804543264289805e-09, 0.9037479162216187, 4.6475489057229424e-07, 1.0656415838639077e-07, 2.097204188089563e-08, 1.0016142226731972e-07, 6.173814931509369e-12, 3.089948852341706e-10, 4.643318618491321e-07, 0.0, 0.0, 0.0], [3.937224708723064e-15, 7.831033738137094e-11, 2.760080219932348e-10, 1.2149606407746427e-12, 8.044164835109557e-13, 0.8720760941505432, 1.5864051738923024e-10, 1.0242603293297847e-10, 2.2426872286210797e-15, 2.891463735110733e-10, 8.918255673881492e-13, 5.8440982088348026e-12, 0.1279238909482956, 4.225221283959968e-10, 6.98023999712305e-11, 6.636560745398867e-11, 3.0614735329085804e-16, 7.20361880497851e-14, 1.4415953153434913e-10, 3.426540440276682e-10, 0.0, 0.0], [0.001012314110994339, 0.006754744797945023, 0.0007780942833051085, 0.0010009969118982553, 0.00023413838061969727, 0.02686278335750103, 0.0010412642732262611, 0.0032385955564677715, 0.001580340089276433, 0.0007991294260136783, 0.0008689677924849093, 0.0001296913978876546, 0.008906851522624493, 0.015637431293725967, 0.8100756406784058, 0.11504216492176056, 0.0005476410151459277, 0.0014753381256014109, 0.0008840643567964435, 0.0007198649109341204, 0.0024099168367683887, 0.0], [0.008209830150008202, 0.13780133426189423, 0.03159044682979584, 0.02862631157040596, 0.03085532784461975, 0.07787876576185226, 0.020712871104478836, 0.03655168041586876, 0.027357934042811394, 0.03214685246348381, 0.02908749133348465, 0.09366467595100403, 0.09895049780607224, 0.04220373183488846, 0.029569944366812706, 0.05442662909626961, 0.00626641558483243, 0.010769875720143318, 0.06967507302761078, 0.06719186902046204, 0.01703687198460102, 0.049425557255744934]], [[1.0, 0.0, 0.0, 0.0, 0.0, 0.0, 0.0, 0.0, 0.0, 0.0, 0.0, 0.0, 0.0, 0.0, 0.0, 0.0, 0.0, 0.0, 0.0, 0.0, 0.0, 0.0], [0.9974617958068848, 0.00253822049126029, 0.0, 0.0, 0.0, 0.0, 0.0, 0.0, 0.0, 0.0, 0.0, 0.0, 0.0, 0.0, 0.0, 0.0, 0.0, 0.0, 0.0, 0.0, 0.0, 0.0], [0.4250915050506592, 0.5687727928161621, 0.006135720293968916, 0.0, 0.0, 0.0, 0.0, 0.0, 0.0, 0.0, 0.0, 0.0, 0.0, 0.0, 0.0, 0.0, 0.0, 0.0, 0.0, 0.0, 0.0, 0.0], [0.0018770755268633366, 0.00358195579610765, 0.0009399037226103246, 0.9936010241508484, 0.0, 0.0, 0.0, 0.0, 0.0, 0.0, 0.0, 0.0, 0.0, 0.0, 0.0, 0.0, 0.0, 0.0, 0.0, 0.0, 0.0, 0.0], [0.006848645396530628, 0.6297093033790588, 0.0014379251515492797, 0.0007987955468706787, 0.3612053394317627, 0.0, 0.0, 0.0, 0.0, 0.0, 0.0, 0.0, 0.0, 0.0, 0.0, 0.0, 0.0, 0.0, 0.0, 0.0, 0.0, 0.0], [2.943302388302982e-05, 0.00027883867733180523, 0.0010885671945288777, 3.568671672837809e-05, 1.291994431085186e-05, 0.998554527759552, 0.0, 0.0, 0.0, 0.0, 0.0, 0.0, 0.0, 0.0, 0.0, 0.0, 0.0, 0.0, 0.0, 0.0, 0.0, 0.0], [0.5025699734687805, 0.10997822135686874, 0.10363473743200302, 0.11991645395755768, 0.09306847304105759, 0.046512115746736526, 0.024319956079125404, 0.0, 0.0, 0.0, 0.0, 0.0, 0.0, 0.0, 0.0, 0.0, 0.0, 0.0, 0.0, 0.0, 0.0, 0.0], [0.07439529150724411, 0.61736661195755, 0.019243165850639343, 0.03885228931903839, 0.03645053505897522, 0.027225647121667862, 0.12427233904600143, 0.06219415366649628, 0.0, 0.0, 0.0, 0.0, 0.0, 0.0, 0.0, 0.0, 0.0, 0.0, 0.0, 0.0, 0.0, 0.0], [0.5856689810752869, 0.022315766662359238, 0.01975191757082939, 0.012670346535742283, 0.026157435029745102, 0.002105297753587365, 0.034846123307943344, 0.21181225776672363, 0.08467196673154831, 0.0, 0.0, 0.0, 0.0, 0.0, 0.0, 0.0, 0.0, 0.0, 0.0, 0.0, 0.0, 0.0], [2.1580987663583073e-07, 0.9983166456222534, 2.3385371150652645e-06, 4.848207595387066e-07, 2.3026877897791564e-06, 4.3679650843841955e-05, 1.464418073737761e-05, 6.713805487379432e-05, 0.001550103072077036, 2.5397050649189623e-06, 0.0, 0.0, 0.0, 0.0, 0.0, 0.0, 0.0, 0.0, 0.0, 0.0, 0.0, 0.0], [1.2173627794709319e-07, 3.9337224734481424e-05, 2.079184378089849e-05, 0.5155050158500671, 1.2339495469859685e-06, 0.00023478949151467532, 4.115215051569976e-05, 7.254637603182346e-05, 6.820103948257383e-08, 1.6908679754124023e-05, 0.48406803607940674, 0.0, 0.0, 0.0, 0.0, 0.0, 0.0, 0.0, 0.0, 0.0, 0.0, 0.0], [5.3724403398236475e-11, 6.888975576657685e-07, 7.124974672478857e-07, 9.999483019385025e-09, 0.13319353759288788, 4.527391865849495e-06, 3.2860779697330145e-07, 2.028255721597816e-06, 4.17489341708599e-11, 7.133684789550898e-07, 9.423111180240085e-09, 0.8667974472045898, 0.0, 0.0, 0.0, 0.0, 0.0, 0.0, 0.0, 0.0, 0.0, 0.0], [7.954838870949388e-11, 1.6674185587817192e-07, 0.5013597011566162, 9.983134319213605e-09, 2.2928143827982694e-09, 2.8287474833632587e-06, 1.555701203415083e-07, 3.118632037057978e-07, 4.896713590163415e-11, 0.49863651394844055, 8.017940089644071e-09, 4.605264614099269e-09, 2.3431945805896248e-07, 0.0, 0.0, 0.0, 0.0, 0.0, 0.0, 0.0, 0.0, 0.0], [1.9947508034601484e-18, 1.7542562454758714e-12, 3.1786025634500392e-12, 6.348825341861465e-15, 2.534266462252111e-15, 0.9686042666435242, 1.2985924184930053e-12, 4.3196232181463845e-12, 3.074669214348394e-18, 3.1194840547504876e-12, 8.654144939459606e-15, 3.072382978456037e-14, 0.031395673751831055, 2.1636644841234454e-13, 0.0, 0.0, 0.0, 0.0, 0.0, 0.0, 0.0, 0.0], [8.098542457446456e-05, 0.000586557958740741, 0.0003384759766049683, 0.00012181654165033251, 8.032415644265711e-05, 0.00022129279386717826, 0.9720810055732727, 9.071174281416461e-05, 0.00022466128575615585, 0.00036537853884510696, 0.00010631341865519062, 0.00012028933269903064, 0.0001872416614787653, 0.02535591460764408, 3.9018017560010776e-05, 0.0, 0.0, 0.0, 0.0, 0.0, 0.0, 0.0], [0.1350879669189453, 4.546579293673858e-05, 5.143524504092056e-07, 6.153230970085133e-06, 4.430425633472623e-06, 1.3139730981492903e-05, 1.9309427443658933e-06, 0.8644933104515076, 4.153528425376862e-05, 6.152329774522514e-07, 5.504344244400272e-06, 7.38693756829889e-07, 3.478095891296107e-07, 2.701428093132563e-05, 0.00014184415340423584, 0.00012944724585395306, 0.0, 0.0, 0.0, 0.0, 0.0, 0.0], [4.065165740030352e-06, 0.896320104598999, 1.4783680057917081e-08, 4.6772746031820134e-07, 5.93282209138124e-07, 1.0162933676838293e-06, 8.83288976183394e-06, 5.455581231217366e-06, 0.10356173664331436, 1.4180928431528628e-08, 4.2184871063000173e-07, 7.626221076861839e-08, 1.2872291677012981e-08, 4.052438271173742e-06, 3.117407322861254e-05, 9.451307050767355e-06, 5.255082214716822e-05, 0.0, 0.0, 0.0, 0.0, 0.0], [0.00017187511548399925, 0.0004719723656307906, 0.5101946592330933, 1.740778134262655e-05, 3.821069640252972e-06, 4.6200366341508925e-05, 0.0002811262384057045, 0.0002724326041061431, 0.00015233746671583503, 0.485542356967926, 1.4216478120943066e-05, 2.8726864798045426e-07, 4.186109094916901e-07, 0.00027486865292303264, 0.0009871853981167078, 0.00036510208155959845, 0.0008197595598176122, 0.00038391430280171335, 0.0, 0.0, 0.0, 0.0], [0.0001802636543288827, 0.0001485016691731289, 1.62786386681546e-06, 0.5137212872505188, 7.833398740331177e-06, 0.00013265080633573234, 0.00011740549962269142, 0.00021203859068918973, 7.607789302710444e-05, 1.1422996522014728e-06, 0.48267635703086853, 1.5920373925837339e-06, 1.645367888158944e-06, 0.00011295169679215178, 0.0009341004770249128, 0.00016029502148739994, 0.0014310319675132632, 7.89413315942511e-05, 4.322483619034756e-06, 0.0, 0.0, 0.0], [0.00026944081764668226, 0.00033746042754501104, 2.325737341379863e-06, 3.181248757755384e-05, 0.8823640942573547, 0.0001280360738746822, 0.00030618274467997253, 0.0004127215943299234, 0.0001840662444010377, 2.170204197682324e-06, 3.1697709346190095e-05, 0.1101183071732521, 2.9822442684235284e-06, 0.00023940711980685592, 0.0016192077891901135, 0.0003685187257360667, 0.0032747972290962934, 0.0002937470853794366, 3.9512647163064685e-06, 9.048082574736327e-06, 0.0, 0.0], [2.357299490540754e-05, 4.3833035306306556e-05, 1.010605160445266e-06, 3.4817849154933356e-06, 1.3772532838629559e-06, 0.9865782856941223, 2.691242661967408e-05, 2.952002250822261e-05, 3.251785892643966e-05, 9.521630772724166e-07, 4.0648310459801e-06, 1.8522568723255972e-07, 0.012579567730426788, 3.86116407753434e-05, 0.000417798466514796, 3.4753811632981524e-05, 9.045954357134178e-05, 3.8487010897370055e-05, 8.408316602981358e-07, 1.1629776963673066e-06, 5.255035648588091e-05, 0.0], [0.007333689369261265, 0.1350548267364502, 0.021651938557624817, 0.028929278254508972, 0.01457887887954712, 0.2075209617614746, 0.01671696826815605, 0.10360631346702576, 0.011563027277588844, 0.0213989969342947, 0.028838148340582848, 0.014153563417494297, 0.08554686605930328, 0.02072249911725521, 0.03383047133684158, 0.06210923194885254, 0.009552935138344765, 0.01826275698840618, 0.04956931248307228, 0.04668564721941948, 0.019161395728588104, 0.04321225732564926]], [[1.0, 0.0, 0.0, 0.0, 0.0, 0.0, 0.0, 0.0, 0.0, 0.0, 0.0, 0.0, 0.0, 0.0, 0.0, 0.0, 0.0, 0.0, 0.0, 0.0, 0.0, 0.0], [0.9486917853355408, 0.05130821838974953, 0.0, 0.0, 0.0, 0.0, 0.0, 0.0, 0.0, 0.0, 0.0, 0.0, 0.0, 0.0, 0.0, 0.0, 0.0, 0.0, 0.0, 0.0, 0.0, 0.0], [0.05391044169664383, 0.8045888543128967, 0.14150075614452362, 0.0, 0.0, 0.0, 0.0, 0.0, 0.0, 0.0, 0.0, 0.0, 0.0, 0.0, 0.0, 0.0, 0.0, 0.0, 0.0, 0.0, 0.0, 0.0], [0.016728121787309647, 0.01773158274590969, 0.021462032571434975, 0.9440782070159912, 0.0, 0.0, 0.0, 0.0, 0.0, 0.0, 0.0, 0.0, 0.0, 0.0, 0.0, 0.0, 0.0, 0.0, 0.0, 0.0, 0.0, 0.0], [0.035106390714645386, 0.27813950181007385, 0.050605785101652145, 0.044532887637615204, 0.5916154384613037, 0.0, 0.0, 0.0, 0.0, 0.0, 0.0, 0.0, 0.0, 0.0, 0.0, 0.0, 0.0, 0.0, 0.0, 0.0, 0.0, 0.0], [0.023667853325605392, 0.01532334741204977, 0.01417076587677002, 0.10858398675918579, 0.05605604872107506, 0.782197892665863, 0.0, 0.0, 0.0, 0.0, 0.0, 0.0, 0.0, 0.0, 0.0, 0.0, 0.0, 0.0, 0.0, 0.0, 0.0, 0.0], [0.0010525506222620606, 0.0042188880033791065, 0.006373879965394735, 0.007265494670718908, 0.006452393718063831, 0.014790713787078857, 0.959846019744873, 0.0, 0.0, 0.0, 0.0, 0.0, 0.0, 0.0, 0.0, 0.0, 0.0, 0.0, 0.0, 0.0, 0.0, 0.0], [0.013454589992761612, 0.0346701554954052, 0.03236247971653938, 0.862385630607605, 0.026555653661489487, 0.014905398711562157, 0.012034283019602299, 0.0036317293997853994, 0.0, 0.0, 0.0, 0.0, 0.0, 0.0, 0.0, 0.0, 0.0, 0.0, 0.0, 0.0, 0.0, 0.0], [0.017031783238053322, 0.006357510108500719, 0.9010390639305115, 0.021293750032782555, 0.01781303621828556, 0.00858246348798275, 0.009985298849642277, 0.0076091717928647995, 0.010287975892424583, 0.0, 0.0, 0.0, 0.0, 0.0, 0.0, 0.0, 0.0, 0.0, 0.0, 0.0, 0.0, 0.0], [0.004396175034344196, 0.0048714433796703815, 0.01983950473368168, 0.01166375633329153, 0.008640799671411514, 0.016811516135931015, 0.8995307087898254, 0.003028264967724681, 0.01009753905236721, 0.021120237186551094, 0.0, 0.0, 0.0, 0.0, 0.0, 0.0, 0.0, 0.0, 0.0, 0.0, 0.0, 0.0], [0.008016188628971577, 0.008329969830811024, 0.014399981126189232, 0.20180071890354156, 0.042138103395700455, 0.03597243130207062, 0.45559754967689514, 0.007137631066143513, 0.010739205405116081, 0.014816763810813427, 0.20105144381523132, 0.0, 0.0, 0.0, 0.0, 0.0, 0.0, 0.0, 0.0, 0.0, 0.0, 0.0], [0.010618867352604866, 0.010034806095063686, 0.02563936449587345, 0.027160318568348885, 0.24211429059505463, 0.023937707766890526, 0.4536254107952118, 0.011196077801287174, 0.013002393767237663, 0.031522396951913834, 0.02939615771174431, 0.12175221741199493, 0.0, 0.0, 0.0, 0.0, 0.0, 0.0, 0.0, 0.0, 0.0, 0.0], [0.005291218403726816, 0.0038147869054228067, 0.04279109463095665, 0.011562226340174675, 0.010947543196380138, 0.018891846761107445, 0.7931486368179321, 0.005185483489185572, 0.006947936024516821, 0.05442241206765175, 0.011597704142332077, 0.010340509004890919, 0.025058643892407417, 0.0, 0.0, 0.0, 0.0, 0.0, 0.0, 0.0, 0.0, 0.0], [0.007771769072860479, 0.011892994865775108, 0.006838953122496605, 0.022102387621998787, 0.014951342716813087, 0.15656903386116028, 0.2922230660915375, 0.011738037690520287, 0.011248025111854076, 0.00843162089586258, 0.020167341455817223, 0.007540056481957436, 0.11799141019582748, 0.3105340003967285, 0.0, 0.0, 0.0, 0.0, 0.0, 0.0, 0.0, 0.0], [0.003813047194853425, 2.1630739865940996e-05, 1.9237768356106244e-05, 9.010950634547044e-07, 1.3685773865290685e-06, 1.8650081983651035e-05, 8.467378620480304e-07, 0.9960641264915466, 6.862547934360919e-07, 2.157375456590671e-05, 9.313682198808237e-07, 5.2192804105288815e-06, 2.1701942387153395e-05, 2.8755048333550803e-06, 7.217865004349733e-06, 0.0, 0.0, 0.0, 0.0, 0.0, 0.0, 0.0], [0.6930745244026184, 0.0005345675745047629, 0.005432328674942255, 0.002211614977568388, 0.002459832699969411, 0.00032377676689065993, 0.00037947457167319953, 0.27166396379470825, 0.003508124267682433, 0.004484617151319981, 0.002302290638908744, 0.005562550388276577, 0.004442492499947548, 0.001002223347313702, 0.0012465458130463958, 0.001371124410070479, 0.0, 0.0, 0.0, 0.0, 0.0, 0.0], [0.0013291550567373633, 0.23276275396347046, 0.00401241285726428, 0.0015847417525947094, 0.0021858480758965015, 0.0002505902957636863, 0.002764663891866803, 0.00012039161083521321, 0.7375397682189941, 0.004226578865200281, 0.002159431576728821, 0.003308646846562624, 0.005363011732697487, 0.0006956285797059536, 0.0008676035795360804, 0.00029778771568089724, 0.0005309531698003411, 0.0, 0.0, 0.0, 0.0, 0.0], [8.304072252940387e-05, 1.4250802450987976e-05, 0.4610123932361603, 0.0001239256380358711, 0.00016993623285088688, 7.577137694170233e-06, 0.0001445264497306198, 6.701004167553037e-06, 0.00012192839494673535, 0.5376309752464294, 0.0001248494809260592, 0.0002056666708085686, 0.00014774230658076704, 6.29476853646338e-05, 5.0982522225240245e-05, 2.0329211110947654e-05, 2.2776886908104643e-05, 4.948402784066275e-05, 0.0, 0.0, 0.0, 0.0], [0.0003673601313494146, 2.8823154934798367e-05, 0.0017424834659323096, 0.4853347837924957, 0.0007741713197901845, 3.845428364002146e-05, 0.001606555888429284, 2.4674731321283616e-05, 0.00023523473646491766, 0.001978368731215596, 0.5031735301017761, 0.0024204717483371496, 0.000815647654235363, 0.0003133800346404314, 0.00026854773750528693, 5.814662654302083e-05, 0.00010520812793402001, 9.659284842200577e-05, 0.0006175673333927989, 0.0, 0.0, 0.0], [0.0001281230797758326, 8.651488315081224e-06, 0.0006140235345810652, 0.0002132847876055166, 0.27981919050216675, 8.891985089576337e-06, 0.00033184236963279545, 7.455012564605568e-06, 0.00010781998571474105, 0.0006900249281898141, 0.0003127212112303823, 0.7161752581596375, 0.0005723629146814346, 0.0001968975702766329, 0.00017191097140312195, 1.262630303244805e-05, 3.880827716784552e-05, 3.754331191885285e-05, 0.00020728789968416095, 0.00034530344419181347, 0.0, 0.0], [0.0001354175474261865, 2.57785759458784e-05, 0.0007177791558206081, 0.0003828832705039531, 0.00038879355997778475, 0.039355915039777756, 0.0009873805101960897, 1.1140286005684175e-05, 0.00022485559748020023, 0.0007860384648665786, 0.00035595762892626226, 0.0009023408638313413, 0.9525681138038635, 0.0015679307980462909, 0.00026175554376095533, 2.6970950784743764e-05, 4.557456850307062e-05, 4.993891343474388e-05, 0.000544101232662797, 0.0005176585400477052, 0.00014372981968335807, 0.0], [0.046489693224430084, 0.03641321137547493, 0.021976925432682037, 0.07962331175804138, 0.032726120203733444, 0.05376433581113815, 0.04635636508464813, 0.04379294067621231, 0.03970898687839508, 0.02396971546113491, 0.09276902675628662, 0.03173508495092392, 0.047225769609212875, 0.044913798570632935, 0.027956819161772728, 0.045233845710754395, 0.06407872587442398, 0.0410587452352047, 0.05241512507200241, 0.043831903487443924, 0.04406774044036865, 0.039891764521598816]], [[1.0, 0.0, 0.0, 0.0, 0.0, 0.0, 0.0, 0.0, 0.0, 0.0, 0.0, 0.0, 0.0, 0.0, 0.0, 0.0, 0.0, 0.0, 0.0, 0.0, 0.0, 0.0], [0.14185591042041779, 0.8581440448760986, 0.0, 0.0, 0.0, 0.0, 0.0, 0.0, 0.0, 0.0, 0.0, 0.0, 0.0, 0.0, 0.0, 0.0, 0.0, 0.0, 0.0, 0.0, 0.0, 0.0], [0.02398710325360298, 0.035109564661979675, 0.9409032464027405, 0.0, 0.0, 0.0, 0.0, 0.0, 0.0, 0.0, 0.0, 0.0, 0.0, 0.0, 0.0, 0.0, 0.0, 0.0, 0.0, 0.0, 0.0, 0.0], [0.011134959757328033, 0.0132652148604393, 0.9573429226875305, 0.018256964161992073, 0.0, 0.0, 0.0, 0.0, 0.0, 0.0, 0.0, 0.0, 0.0, 0.0, 0.0, 0.0, 0.0, 0.0, 0.0, 0.0, 0.0, 0.0], [0.020998753607273102, 0.016917195171117783, 0.8822162747383118, 0.029889531433582306, 0.049978211522102356, 0.0, 0.0, 0.0, 0.0, 0.0, 0.0, 0.0, 0.0, 0.0, 0.0, 0.0, 0.0, 0.0, 0.0, 0.0, 0.0, 0.0], [0.012338152155280113, 0.0062508974224328995, 0.05046951025724411, 0.0291125550866127, 0.8800739645957947, 0.021754838526248932, 0.0, 0.0, 0.0, 0.0, 0.0, 0.0, 0.0, 0.0, 0.0, 0.0, 0.0, 0.0, 0.0, 0.0, 0.0, 0.0], [0.0650997906923294, 0.03157512843608856, 0.06116059049963951, 0.17175236344337463, 0.310044527053833, 0.2707008421421051, 0.08966676145792007, 0.0, 0.0, 0.0, 0.0, 0.0, 0.0, 0.0, 0.0, 0.0, 0.0, 0.0, 0.0, 0.0, 0.0, 0.0], [0.02904810942709446, 0.10362479090690613, 0.21019922196865082, 0.04592914879322052, 0.08470468968153, 0.41283661127090454, 0.0625157430768013, 0.05114166811108589, 0.0, 0.0, 0.0, 0.0, 0.0, 0.0, 0.0, 0.0, 0.0, 0.0, 0.0, 0.0, 0.0, 0.0], [0.05736508220434189, 0.11908068507909775, 0.04697106033563614, 0.07861027866601944, 0.04625508934259415, 0.11974827200174332, 0.21992889046669006, 0.05746959149837494, 0.25457102060317993, 0.0, 0.0, 0.0, 0.0, 0.0, 0.0, 0.0, 0.0, 0.0, 0.0, 0.0, 0.0, 0.0], [0.015863722190260887, 0.0026428198907524347, 0.004393632523715496, 0.0077040232717990875, 0.010401499457657337, 0.007355595473200083, 0.8040587902069092, 0.02272793836891651, 0.041235726326704025, 0.08361619710922241, 0.0, 0.0, 0.0, 0.0, 0.0, 0.0, 0.0, 0.0, 0.0, 0.0, 0.0, 0.0], [0.01886434480547905, 0.0027912736404687166, 0.005271150264889002, 0.005690392106771469, 0.010856362991034985, 0.004509746562689543, 0.7690089344978333, 0.022999431937932968, 0.07899214327335358, 0.03718658536672592, 0.04382967948913574, 0.0, 0.0, 0.0, 0.0, 0.0, 0.0, 0.0, 0.0, 0.0, 0.0, 0.0], [0.05368179455399513, 0.008782755583524704, 0.006895019207149744, 0.01922079734504223, 0.021200643852353096, 0.013374283909797668, 0.49353939294815063, 0.042122889310121536, 0.0999043807387352, 0.06454110890626907, 0.10573925077915192, 0.07099775969982147, 0.0, 0.0, 0.0, 0.0, 0.0, 0.0, 0.0, 0.0, 0.0, 0.0], [0.01589193381369114, 0.003704021917656064, 0.00280180131085217, 0.005259899888187647, 0.01589820347726345, 0.005326395388692617, 0.6480798125267029, 0.019234906882047653, 0.0354323536157608, 0.08123356103897095, 0.024810101836919785, 0.06476249545812607, 0.07756442576646805, 0.0, 0.0, 0.0, 0.0, 0.0, 0.0, 0.0, 0.0, 0.0], [0.0005626415950246155, 2.2768801500205882e-05, 7.26534563000314e-05, 0.00010649232717696577, 0.0002274897415190935, 3.438442217884585e-05, 0.01141561008989811, 0.9783746600151062, 0.002521099057048559, 0.0007358377333730459, 0.0003392518556211144, 0.0007375681889243424, 0.00040431629167869687, 0.004445127677172422, 0.0, 0.0, 0.0, 0.0, 0.0, 0.0, 0.0, 0.0], [0.007006743922829628, 0.0008603660389780998, 0.0006166476523503661, 0.0012599348556250334, 0.0022170739248394966, 0.0011275445576757193, 0.040330905467271805, 0.011401455849409103, 0.013434146530926228, 0.0033219403121620417, 0.004954245872795582, 0.007121102884411812, 0.010687127709388733, 0.017358044162392616, 0.8783026337623596, 0.0, 0.0, 0.0, 0.0, 0.0, 0.0, 0.0], [0.008008650504052639, 0.0024215809535235167, 0.004085601773113012, 0.006861514877527952, 0.0071169533766806126, 0.002708965912461281, 0.12870676815509796, 0.01042097620666027, 0.07701846957206726, 0.02087308280169964, 0.013773358426988125, 0.011728850193321705, 0.023342816159129143, 0.3997129499912262, 0.278250128030777, 0.004969323053956032, 0.0, 0.0, 0.0, 0.0, 0.0, 0.0], [0.00507417693734169, 0.0019641187973320484, 0.0028056814335286617, 0.0022585515398532152, 0.005298488307744265, 0.003531114663928747, 0.36190345883369446, 0.006359875202178955, 0.018358295783400536, 0.033334847539663315, 0.016391601413488388, 0.034566931426525116, 0.029168900102376938, 0.10562591999769211, 0.3624926209449768, 0.0011993624502792954, 0.009665978141129017, 0.0, 0.0, 0.0, 0.0, 0.0], [0.014983060769736767, 0.0039082602597773075, 0.004691010341048241, 0.0050328755751252174, 0.005693655926734209, 0.0039680046029388905, 0.3031574785709381, 0.012786690145730972, 0.03697895631194115, 0.03262859582901001, 0.03404882550239563, 0.036353521049022675, 0.017945483326911926, 0.08465907722711563, 0.3312361240386963, 0.0037295690272003412, 0.03413369506597519, 0.03406519070267677, 0.0, 0.0, 0.0, 0.0], [0.002990115201100707, 0.000888268812559545, 0.0010841264156624675, 0.002240707166492939, 0.0030767489224672318, 0.0009589086403138936, 0.38006603717803955, 0.005917018745094538, 0.010674932971596718, 0.010571828112006187, 0.016943395137786865, 0.0833241194486618, 0.024169769138097763, 0.06556045264005661, 0.3700007498264313, 0.0007853626157157123, 0.00838928110897541, 0.009275400079786777, 0.0030827680602669716, 0.0, 0.0, 0.0], [0.0019701546989381313, 0.0003021782322321087, 0.000862525193952024, 0.001552924164570868, 0.0028858778532594442, 0.0006993679562583566, 0.3827868402004242, 0.004062301479279995, 0.007892942987382412, 0.00676676444709301, 0.004004683345556259, 0.013852433301508427, 0.08959799259901047, 0.027762489393353462, 0.43846356868743896, 0.000487050274387002, 0.0056760371662676334, 0.006472399923950434, 0.0023698718287050724, 0.0015316213248297572, 0.0, 0.0], [0.007150591351091862, 0.001589068677276373, 0.005492771975696087, 0.003838489530608058, 0.009121867828071117, 0.0028645347338169813, 0.32342344522476196, 0.007128051016479731, 0.01981182023882866, 0.021270910277962685, 0.008943597786128521, 0.021282372996211052, 0.08987408876419067, 0.06939094513654709, 0.3361300826072693, 0.004137902054935694, 0.017209844663739204, 0.021124202758073807, 0.007982083596289158, 0.005905246827751398, 0.016328144818544388, 0.0], [0.02834547683596611, 0.00835740752518177, 0.06552291661500931, 0.01493985764682293, 0.022418273612856865, 0.009810736402869225, 0.0707387775182724, 0.018472516909241676, 0.04475095868110657, 0.05420341342687607, 0.01934039406478405, 0.021319318562746048, 0.03625350818037987, 0.058932531625032425, 0.070885568857193, 0.2135099619626999, 0.03877585008740425, 0.03490426018834114, 0.03500454127788544, 0.028732582926750183, 0.04169744253158569, 0.06308376789093018]]]}\n",
              "    )\n",
              "    </script>"
            ]
          },
          "metadata": {}
        },
        {
          "output_type": "display_data",
          "data": {
            "text/plain": [
              "<circuitsvis.utils.render.RenderedHTML at 0x7aa38759bc10>"
            ],
            "text/html": [
              "<div id=\"circuits-vis-32e2dbb5-98ef\" style=\"margin: 15px 0;\"/>\n",
              "    <script crossorigin type=\"module\">\n",
              "    import { render, AttentionPatterns } from \"https://unpkg.com/circuitsvis@1.43.2/dist/cdn/esm.js\";\n",
              "    render(\n",
              "      \"circuits-vis-32e2dbb5-98ef\",\n",
              "      AttentionPatterns,\n",
              "      {\"tokens\": [\"6\", \"8\", \"8\", \"1\", \"4\", \"5\", \"11\", \"8\", \"0\", \"8\", \"1\", \"4\", \"5\", \"12\", \"11\", \"0\", \"1\", \"2\", \"0\", \"0\", \"0\", \"0\"], \"attention\": [[[1.0, 0.0, 0.0, 0.0, 0.0, 0.0, 0.0, 0.0, 0.0, 0.0, 0.0, 0.0, 0.0, 0.0, 0.0, 0.0, 0.0, 0.0, 0.0, 0.0, 0.0, 0.0], [0.6716563701629639, 0.32834357023239136, 0.0, 0.0, 0.0, 0.0, 0.0, 0.0, 0.0, 0.0, 0.0, 0.0, 0.0, 0.0, 0.0, 0.0, 0.0, 0.0, 0.0, 0.0, 0.0, 0.0], [0.30847346782684326, 0.07988689094781876, 0.6116396188735962, 0.0, 0.0, 0.0, 0.0, 0.0, 0.0, 0.0, 0.0, 0.0, 0.0, 0.0, 0.0, 0.0, 0.0, 0.0, 0.0, 0.0, 0.0, 0.0], [0.06555750966072083, 0.020166737958788872, 0.208805114030838, 0.705470621585846, 0.0, 0.0, 0.0, 0.0, 0.0, 0.0, 0.0, 0.0, 0.0, 0.0, 0.0, 0.0, 0.0, 0.0, 0.0, 0.0, 0.0, 0.0], [0.046063147485256195, 0.015625225380063057, 0.16307060420513153, 0.3900367319583893, 0.3852043151855469, 0.0, 0.0, 0.0, 0.0, 0.0, 0.0, 0.0, 0.0, 0.0, 0.0, 0.0, 0.0, 0.0, 0.0, 0.0, 0.0, 0.0], [0.0736701563000679, 0.038229379802942276, 0.11463054269552231, 0.21261246502399445, 0.263729453086853, 0.29712796211242676, 0.0, 0.0, 0.0, 0.0, 0.0, 0.0, 0.0, 0.0, 0.0, 0.0, 0.0, 0.0, 0.0, 0.0, 0.0, 0.0], [0.02403111383318901, 0.07165761291980743, 0.01511505525559187, 0.012322909198701382, 0.014145690016448498, 0.02097691409289837, 0.8417506814002991, 0.0, 0.0, 0.0, 0.0, 0.0, 0.0, 0.0, 0.0, 0.0, 0.0, 0.0, 0.0, 0.0, 0.0, 0.0], [0.02193477749824524, 0.014924198389053345, 0.11546268314123154, 0.33343571424484253, 0.31555959582328796, 0.14208729565143585, 1.6265125850623008e-06, 0.056594058871269226, 0.0, 0.0, 0.0, 0.0, 0.0, 0.0, 0.0, 0.0, 0.0, 0.0, 0.0, 0.0, 0.0, 0.0], [0.11583081632852554, 0.036249350756406784, 0.15693682432174683, 0.17391343414783478, 0.15944704413414001, 0.04007456451654434, 0.0003742646367754787, 0.041363779455423355, 0.27580997347831726, 0.0, 0.0, 0.0, 0.0, 0.0, 0.0, 0.0, 0.0, 0.0, 0.0, 0.0, 0.0, 0.0], [0.08218175917863846, 0.04518375173211098, 0.13960173726081848, 0.12065818160772324, 0.1162203773856163, 0.04472237080335617, 0.0005125831812620163, 0.06828875094652176, 0.041032709181308746, 0.3415978252887726, 0.0, 0.0, 0.0, 0.0, 0.0, 0.0, 0.0, 0.0, 0.0, 0.0, 0.0, 0.0], [0.01175717730075121, 0.020280208438634872, 0.06509976834058762, 0.2496856302022934, 0.14841878414154053, 0.22113241255283356, 0.0015358980745077133, 0.10412321239709854, 0.016343727707862854, 0.014492561109364033, 0.14713066816329956, 0.0, 0.0, 0.0, 0.0, 0.0, 0.0, 0.0, 0.0, 0.0, 0.0, 0.0], [0.027724580839276314, 0.020270222797989845, 0.02375914715230465, 0.058475419878959656, 0.056985337287187576, 0.08858326077461243, 0.004890388809144497, 0.02746030129492283, 0.013541745953261852, 0.09810011088848114, 0.20296093821525574, 0.3772485852241516, 0.0, 0.0, 0.0, 0.0, 0.0, 0.0, 0.0, 0.0, 0.0, 0.0], [0.01054318156093359, 0.013302150182425976, 0.028818907216191292, 0.049745287746191025, 0.030794894322752953, 0.02847258374094963, 0.06675951927900314, 0.02346578985452652, 0.0347919687628746, 0.0012694874312728643, 0.3671359717845917, 0.06696000695228577, 0.2779403030872345, 0.0, 0.0, 0.0, 0.0, 0.0, 0.0, 0.0, 0.0, 0.0], [0.0003598207258619368, 0.00041390195838175714, 0.00012242424418218434, 3.04802833852591e-05, 7.025340164545923e-05, 0.00011952010390814394, 1.887469011307985e-06, 0.00015790757606737316, 4.947773413732648e-05, 0.9985870122909546, 8.477507549287111e-07, 2.4896578906918876e-05, 4.239149802742759e-06, 5.740442793467082e-05, 0.0, 0.0, 0.0, 0.0, 0.0, 0.0, 0.0, 0.0], [0.1199338510632515, 0.0634535476565361, 0.036670487374067307, 0.01767108030617237, 0.016806703060865402, 0.02890963666141033, 0.10653215646743774, 0.047767262905836105, 0.04706414416432381, 0.28577423095703125, 0.004259836860001087, 0.006176344584673643, 0.055630043148994446, 0.011641223914921284, 0.1517094224691391, 0.0, 0.0, 0.0, 0.0, 0.0, 0.0, 0.0], [0.035155877470970154, 0.013990391977131367, 0.010315322317183018, 0.0051908427849411964, 0.005830214358866215, 0.004556221421808004, 2.4048371415119618e-05, 0.004990445449948311, 0.006787284277379513, 0.18418216705322266, 0.005461073946207762, 0.00906115397810936, 0.027614107355475426, 0.007859286852180958, 0.06801116466522217, 0.6109703183174133, 0.0, 0.0, 0.0, 0.0, 0.0, 0.0], [0.013818302191793919, 0.013614896684885025, 0.020721182227134705, 0.017336346209049225, 0.019695628434419632, 0.026406180113554, 0.0016268767649307847, 0.016569284722208977, 0.0077362642623484135, 0.03721101954579353, 0.04362296313047409, 0.030392363667488098, 0.08250215649604797, 0.021448617801070213, 0.32593610882759094, 0.06326726824045181, 0.25809454917907715, 0.0, 0.0, 0.0, 0.0, 0.0], [0.006963834166526794, 0.007271622307598591, 0.01350104995071888, 0.01702723279595375, 0.01225316058844328, 0.011757191270589828, 0.07759532332420349, 0.01248601172119379, 0.03226640447974205, 0.002147534629330039, 0.12794525921344757, 0.040229909121990204, 0.2822761535644531, 0.00975855253636837, 0.011688992381095886, 0.0019927152898162603, 0.03845696151256561, 0.2943820655345917, 0.0, 0.0, 0.0, 0.0], [0.0025573873426765203, 0.002946192864328623, 0.008964449167251587, 0.03456375375390053, 0.01845640316605568, 0.022174863144755363, 6.277654756559059e-05, 0.014480308629572392, 0.0016757367411628366, 0.00880382489413023, 0.02114509977400303, 0.020603084936738014, 0.024017514660954475, 0.003489019349217415, 0.2583061456680298, 0.026356222108006477, 0.066074438393116, 0.06644834578037262, 0.39887452125549316, 0.0, 0.0, 0.0], [0.023800240829586983, 0.013167309574782848, 0.008082334883511066, 0.017936933785676956, 0.015901505947113037, 0.049188483506441116, 0.0023114073555916548, 0.01678852178156376, 0.0033861661795526743, 0.029041528701782227, 0.010405212640762329, 0.01925247721374035, 0.008152948692440987, 0.021802587434649467, 0.33869701623916626, 0.04700619354844093, 0.016569064930081367, 0.019250413402915, 0.09513607621192932, 0.24412357807159424, 0.0, 0.0], [0.038797806948423386, 0.01828613691031933, 0.007068267557770014, 0.0061085713095963, 0.006974451243877411, 0.02883940003812313, 0.0018134127603843808, 0.011282217688858509, 0.004601939581334591, 0.24377180635929108, 0.00251820869743824, 0.01178091112524271, 0.0041778357699513435, 0.02123444713652134, 0.15876907110214233, 0.14848288893699646, 0.02008986845612526, 0.005596417002379894, 0.020520688965916634, 0.0866723284125328, 0.1526133418083191, 0.0], [0.0013733886880800128, 0.0007169169839471579, 0.0025613452307879925, 0.010728185996413231, 0.005859623663127422, 0.008570670150220394, 4.704203547589714e-06, 0.0018253169255331159, 0.001075100153684616, 0.001999473664909601, 0.08706557750701904, 0.09954843670129776, 0.031042426824569702, 0.01468465756624937, 0.005685838405042887, 0.013717387802898884, 0.1971120685338974, 0.060266733169555664, 0.22261697053909302, 0.1969737559556961, 0.019078388810157776, 0.017492996528744698]], [[1.0, 0.0, 0.0, 0.0, 0.0, 0.0, 0.0, 0.0, 0.0, 0.0, 0.0, 0.0, 0.0, 0.0, 0.0, 0.0, 0.0, 0.0, 0.0, 0.0, 0.0, 0.0], [0.5171344876289368, 0.48286548256874084, 0.0, 0.0, 0.0, 0.0, 0.0, 0.0, 0.0, 0.0, 0.0, 0.0, 0.0, 0.0, 0.0, 0.0, 0.0, 0.0, 0.0, 0.0, 0.0, 0.0], [0.3909148871898651, 0.2528015971183777, 0.3562835156917572, 0.0, 0.0, 0.0, 0.0, 0.0, 0.0, 0.0, 0.0, 0.0, 0.0, 0.0, 0.0, 0.0, 0.0, 0.0, 0.0, 0.0, 0.0, 0.0], [0.22765810787677765, 0.14207296073436737, 0.17500650882720947, 0.45526236295700073, 0.0, 0.0, 0.0, 0.0, 0.0, 0.0, 0.0, 0.0, 0.0, 0.0, 0.0, 0.0, 0.0, 0.0, 0.0, 0.0, 0.0, 0.0], [0.11069808900356293, 0.09962776303291321, 0.18690726161003113, 0.4566311240196228, 0.1461358219385147, 0.0, 0.0, 0.0, 0.0, 0.0, 0.0, 0.0, 0.0, 0.0, 0.0, 0.0, 0.0, 0.0, 0.0, 0.0, 0.0, 0.0], [0.09343762695789337, 0.16983745992183685, 0.15988904237747192, 0.22567826509475708, 0.0948672741651535, 0.25629034638404846, 0.0, 0.0, 0.0, 0.0, 0.0, 0.0, 0.0, 0.0, 0.0, 0.0, 0.0, 0.0, 0.0, 0.0, 0.0, 0.0], [0.004988045897334814, 0.003581501543521881, 0.000856086378917098, 0.0004901874344795942, 0.0004876288876403123, 0.0009489115909673274, 0.9886476397514343, 0.0, 0.0, 0.0, 0.0, 0.0, 0.0, 0.0, 0.0, 0.0, 0.0, 0.0, 0.0, 0.0, 0.0, 0.0], [0.014642301015555859, 0.0494600348174572, 0.18323269486427307, 0.41936415433883667, 0.12636786699295044, 0.190935418009758, 4.962676598552207e-07, 0.015996994450688362, 0.0, 0.0, 0.0, 0.0, 0.0, 0.0, 0.0, 0.0, 0.0, 0.0, 0.0, 0.0, 0.0, 0.0], [0.31363779306411743, 0.1682092845439911, 0.04736218601465225, 0.037576086819171906, 0.01804707571864128, 0.05012088268995285, 0.27950313687324524, 0.011454087682068348, 0.0740894302725792, 0.0, 0.0, 0.0, 0.0, 0.0, 0.0, 0.0, 0.0, 0.0, 0.0, 0.0, 0.0, 0.0], [0.18087545037269592, 0.18335261940956116, 0.1699802130460739, 0.06045723706483841, 0.0632292628288269, 0.0746266096830368, 0.04542451724410057, 0.040788788348436356, 0.1083897054195404, 0.07287554442882538, 0.0, 0.0, 0.0, 0.0, 0.0, 0.0, 0.0, 0.0, 0.0, 0.0, 0.0, 0.0], [0.03427956625819206, 0.03768688812851906, 0.04982587322592735, 0.08265355974435806, 0.06381940096616745, 0.07983969151973724, 0.06737331300973892, 0.06546855717897415, 0.05085673928260803, 0.025867126882076263, 0.4423293471336365, 0.0, 0.0, 0.0, 0.0, 0.0, 0.0, 0.0, 0.0, 0.0, 0.0, 0.0], [0.10183997452259064, 0.1683196723461151, 0.1334265172481537, 0.11206641793251038, 0.10203204303979874, 0.268530935049057, 0.005274173803627491, 0.06115533784031868, 0.036560628563165665, 0.0059852986596524715, 0.0016195952193811536, 0.0031894054263830185, 0.0, 0.0, 0.0, 0.0, 0.0, 0.0, 0.0, 0.0, 0.0, 0.0], [0.013216068036854267, 0.013240066356956959, 0.008462850004434586, 0.010090756230056286, 0.010754910297691822, 0.013247744180262089, 0.7003175020217896, 0.018816635012626648, 0.034933920949697495, 0.02810664474964142, 0.053847916424274445, 0.05522336810827255, 0.03974158689379692, 0.0, 0.0, 0.0, 0.0, 0.0, 0.0, 0.0, 0.0, 0.0], [0.1635439544916153, 0.21791130304336548, 0.052653707563877106, 0.049791134893894196, 0.03239826112985611, 0.14870037138462067, 0.008328976109623909, 0.03836064785718918, 0.032132357358932495, 0.01659143902361393, 0.01649683155119419, 0.012085695751011372, 0.024644063785672188, 0.18636123836040497, 0.0, 0.0, 0.0, 0.0, 0.0, 0.0, 0.0, 0.0], [0.021947607398033142, 0.018243934959173203, 0.03399061784148216, 0.023846616968512535, 0.03364352509379387, 0.023293061181902885, 0.10756865888834, 0.042941708117723465, 0.025825783610343933, 0.25186794996261597, 0.09193374961614609, 0.08131036907434464, 0.14474977552890778, 0.05890469253063202, 0.03993191570043564, 0.0, 0.0, 0.0, 0.0, 0.0, 0.0, 0.0], [0.005879553966224194, 0.009951983578503132, 0.01698051020503044, 0.009658407419919968, 0.009410257451236248, 0.010822691954672337, 5.5424996389774606e-05, 0.0062058730982244015, 0.0016520239878445864, 0.005478967446833849, 0.0008060856489464641, 0.0003440039581619203, 0.0023803908843547106, 0.002125811530277133, 0.8968952894210815, 0.02135274186730385, 0.0, 0.0, 0.0, 0.0, 0.0, 0.0], [0.06534820795059204, 0.015190687030553818, 0.0037632393650710583, 0.0038781212642788887, 0.003026312915608287, 0.005664299242198467, 0.8199009895324707, 0.004115349613130093, 0.021081076934933662, 0.011683309450745583, 0.003195443656295538, 0.0092641431838274, 0.009435665793716908, 0.011239618994295597, 0.009084481745958328, 0.0006859622662886977, 0.0034429843071848154, 0.0, 0.0, 0.0, 0.0, 0.0], [0.004596405662596226, 0.0021413995418697596, 0.0010111682349815965, 0.0014235131675377488, 0.0014144072774797678, 0.001813126145862043, 0.8379838466644287, 0.00261615589261055, 0.008868002332746983, 0.00892738439142704, 0.029690809547901154, 0.04244474694132805, 0.02208244986832142, 0.016622792929410934, 0.00041860665078274906, 0.0010698725236579776, 0.004245934076607227, 0.012629415839910507, 0.0, 0.0, 0.0, 0.0], [0.0017041378887370229, 0.0016856950242072344, 0.004754825495183468, 0.020089907571673393, 0.009035343304276466, 0.008563151583075523, 9.585862426320091e-05, 0.005748120602220297, 0.0005967403412796557, 0.0009494132245890796, 0.04640326648950577, 0.011362416669726372, 0.0041040340438485146, 0.009554963558912277, 0.2796938419342041, 0.005920001305639744, 0.0025749611668288708, 0.018206605687737465, 0.5689568519592285, 0.0, 0.0, 0.0], [0.04610532522201538, 0.011035677045583725, 0.0010790954111143947, 0.0009008861961774528, 0.0006675327313132584, 0.0022734066005796194, 0.8739631772041321, 0.000856963568367064, 0.010963992215692997, 0.006963085383176804, 0.0007870661793276668, 0.004355703014880419, 0.002040382707491517, 0.021007224917411804, 0.00439845398068428, 0.00034617309574969113, 0.0012189680710434914, 0.0025965741369873285, 0.00011709291720762849, 0.00832322146743536, 0.0, 0.0], [0.052050668746232986, 0.01750933937728405, 0.0017855147598311305, 0.0009030763176269829, 0.0006522240000776947, 0.005039826035499573, 0.8668433427810669, 0.0009238801430910826, 0.01660042442381382, 0.0026867410633713007, 0.00022823188919574022, 0.0015983842313289642, 0.0018294770270586014, 0.011478793807327747, 0.005231556948274374, 0.00018267222912982106, 0.0009669080609455705, 0.0012983721680939198, 1.98189118236769e-05, 0.0031239259988069534, 0.009046775288879871, 0.0], [0.0004824595816899091, 0.0005704178474843502, 0.0034565895330160856, 0.01858089491724968, 0.007689361926168203, 0.012449469417333603, 4.630529701898922e-07, 0.0025662905536592007, 5.602540841209702e-05, 3.7131110730115324e-05, 0.00117524154484272, 0.0005811626324430108, 6.29645655862987e-05, 0.0009091141982935369, 0.8553224802017212, 0.00091991649242118, 0.0002155678375856951, 0.0011557330144569278, 0.05316535383462906, 0.02548682689666748, 0.003099377267062664, 0.012017063796520233]], [[1.0, 0.0, 0.0, 0.0, 0.0, 0.0, 0.0, 0.0, 0.0, 0.0, 0.0, 0.0, 0.0, 0.0, 0.0, 0.0, 0.0, 0.0, 0.0, 0.0, 0.0, 0.0], [0.12944573163986206, 0.8705542683601379, 0.0, 0.0, 0.0, 0.0, 0.0, 0.0, 0.0, 0.0, 0.0, 0.0, 0.0, 0.0, 0.0, 0.0, 0.0, 0.0, 0.0, 0.0, 0.0, 0.0], [0.010397149249911308, 0.21381941437721252, 0.7757834196090698, 0.0, 0.0, 0.0, 0.0, 0.0, 0.0, 0.0, 0.0, 0.0, 0.0, 0.0, 0.0, 0.0, 0.0, 0.0, 0.0, 0.0, 0.0, 0.0], [0.06562922149896622, 0.17786338925361633, 0.21691089868545532, 0.5395964980125427, 0.0, 0.0, 0.0, 0.0, 0.0, 0.0, 0.0, 0.0, 0.0, 0.0, 0.0, 0.0, 0.0, 0.0, 0.0, 0.0, 0.0, 0.0], [0.020963149145245552, 0.10986468940973282, 0.20457443594932556, 0.2721330523490906, 0.39246463775634766, 0.0, 0.0, 0.0, 0.0, 0.0, 0.0, 0.0, 0.0, 0.0, 0.0, 0.0, 0.0, 0.0, 0.0, 0.0, 0.0, 0.0], [0.08863359689712524, 0.18355903029441833, 0.22550153732299805, 0.08211091160774231, 0.1884225606918335, 0.231772318482399, 0.0, 0.0, 0.0, 0.0, 0.0, 0.0, 0.0, 0.0, 0.0, 0.0, 0.0, 0.0, 0.0, 0.0, 0.0, 0.0], [0.3024311363697052, 0.06256178766489029, 0.08605843782424927, 0.0504324808716774, 0.06311236321926117, 0.05269677937030792, 0.38270705938339233, 0.0, 0.0, 0.0, 0.0, 0.0, 0.0, 0.0, 0.0, 0.0, 0.0, 0.0, 0.0, 0.0, 0.0, 0.0], [0.014029067941009998, 0.018483875319361687, 0.022048896178603172, 0.03425305709242821, 0.035630226135253906, 0.03788993880152702, 0.7846123576164246, 0.05305251106619835, 0.0, 0.0, 0.0, 0.0, 0.0, 0.0, 0.0, 0.0, 0.0, 0.0, 0.0, 0.0, 0.0, 0.0], [0.04679345712065697, 0.0732373595237732, 0.10690531134605408, 0.1021493524312973, 0.07379459589719772, 0.039604347199201584, 0.38810041546821594, 0.08353541791439056, 0.08587978035211563, 0.0, 0.0, 0.0, 0.0, 0.0, 0.0, 0.0, 0.0, 0.0, 0.0, 0.0, 0.0, 0.0], [1.5647699910914525e-05, 0.004348218906670809, 0.014723456464707851, 0.00011533913493622094, 0.00027949403738602996, 1.1061093800890376e-06, 0.0001063359813997522, 0.00019062419596593827, 0.0057853939943015575, 0.9744343161582947, 0.0, 0.0, 0.0, 0.0, 0.0, 0.0, 0.0, 0.0, 0.0, 0.0, 0.0, 0.0], [0.006076465826481581, 0.00013696413952857256, 6.990481051616371e-05, 0.0034722452983260155, 0.0024085603654384613, 0.02663142792880535, 0.013179409317672253, 0.0008399220532737672, 0.00023357315512839705, 4.6421962906606495e-05, 0.9469051361083984, 0.0, 0.0, 0.0, 0.0, 0.0, 0.0, 0.0, 0.0, 0.0, 0.0, 0.0], [0.009999757632613182, 0.00044686824548989534, 0.0001808400556910783, 0.0025114642921835184, 0.004645803477615118, 0.04640287533402443, 0.017208971083164215, 0.0013716204557567835, 0.0008258658926934004, 9.212052646034863e-06, 0.047863591462373734, 0.8685330152511597, 0.0, 0.0, 0.0, 0.0, 0.0, 0.0, 0.0, 0.0, 0.0, 0.0], [9.157755584965344e-07, 9.291041891401619e-08, 1.6520635881533963e-07, 2.7046124159824103e-05, 3.975789695687126e-06, 6.741403012711089e-06, 1.5436589819728397e-06, 9.417777846465469e-07, 8.948427421273664e-08, 4.001782599516446e-06, 0.008632633835077286, 0.9912942051887512, 2.7657340979203582e-05, 0.0, 0.0, 0.0, 0.0, 0.0, 0.0, 0.0, 0.0, 0.0], [0.6390367746353149, 0.06975923478603363, 0.03623974695801735, 0.00820260588079691, 0.017371736466884613, 0.010567971505224705, 0.08131200820207596, 0.016268504783511162, 0.09796538949012756, 0.016479823738336563, 0.00036879139952361584, 0.00015307706780731678, 0.0059582446701824665, 0.0003160531632602215, 0.0, 0.0, 0.0, 0.0, 0.0, 0.0, 0.0, 0.0], [0.026139862835407257, 0.13070161640644073, 0.20791630446910858, 0.05196865648031235, 0.07926006615161896, 0.013389701955020428, 0.12012044340372086, 0.087089903652668, 0.2075847089290619, 0.054602839052677155, 0.0011665471829473972, 0.00036227700184099376, 0.01039197575300932, 0.0003724152047652751, 0.008932670578360558, 0.0, 0.0, 0.0, 0.0, 0.0, 0.0, 0.0], [1.0943548431896488e-06, 0.00012694401084445417, 0.00030869449255988, 2.0330212464614306e-06, 3.7380364119599108e-06, 3.734903941676748e-08, 3.7340637391025666e-06, 6.516298981296131e-06, 9.526644134894013e-05, 0.9956588745117188, 3.4566782769474003e-09, 4.719294954824704e-10, 2.4554830815759487e-05, 5.400418445766775e-10, 2.1871289845876163e-06, 0.0037663003895431757, 0.0, 0.0, 0.0, 0.0, 0.0, 0.0], [7.654296496184543e-06, 5.464861715154257e-06, 1.4844468751107343e-05, 0.0007676472887396812, 8.581097790738568e-05, 4.170502506894991e-05, 3.108166856691241e-05, 4.133961192565039e-05, 4.372727289592149e-06, 0.00039748105336911976, 0.02284705825150013, 0.9590332508087158, 0.0015905688051134348, 0.011861614882946014, 9.56708663579775e-06, 1.9048356989515014e-05, 0.0032415450550615788, 0.0, 0.0, 0.0, 0.0, 0.0], [7.733660822850652e-06, 5.884174925085972e-07, 3.4825097827706486e-07, 3.612662112573162e-05, 1.599645293026697e-05, 8.773592708166689e-05, 6.164622027426958e-05, 5.260471425572177e-06, 1.0983904985550907e-06, 2.6671523301047273e-07, 0.008563376031816006, 0.9528824090957642, 3.0254216198954964e-06, 0.0382968932390213, 2.9043467293377034e-06, 3.185980688158452e-07, 1.059360056387959e-05, 2.3600994609296322e-05, 0.0, 0.0, 0.0, 0.0], [0.009050910361111164, 0.00622367300093174, 0.0013484627706930041, 0.0018144448986276984, 0.0019323962042108178, 0.0060029891319572926, 0.9189685583114624, 0.008071252144873142, 0.011820361018180847, 0.0012123851338401437, 0.005100929643958807, 0.0066375997848808765, 0.0033444182481616735, 0.011915222741663456, 0.0005747939576394856, 0.0008111558272503316, 0.0004177882510703057, 0.002167794853448868, 0.0025848320219665766, 0.0, 0.0, 0.0], [0.01067349873483181, 0.0281562227755785, 0.005466879345476627, 0.0024597696028649807, 0.00838097371160984, 0.09255166351795197, 0.7562980055809021, 0.03550536185503006, 0.05146157369017601, 5.9120244259247556e-05, 0.00018663972150534391, 0.00012734958727378398, 0.00039278302574530244, 0.0011948103783652186, 0.001511499285697937, 0.0006594019941985607, 0.00014652482059318572, 0.0006515707937069237, 9.795477672014385e-05, 0.004018430598080158, 0.0, 0.0], [0.02898874320089817, 0.05160154029726982, 0.031419407576322556, 0.011689331382513046, 0.03301379457116127, 0.19030825793743134, 0.018102237954735756, 0.03930548205971718, 0.04080794379115105, 0.0011530336923897266, 0.00039959882269613445, 0.0006951885879971087, 0.0005653964472003281, 0.0012440573191270232, 0.37451717257499695, 0.01436994131654501, 0.0019397534197196364, 0.0027654420118778944, 0.0006224701064638793, 0.05710228532552719, 0.09938891977071762, 0.0], [0.001966307172551751, 0.0012458213604986668, 0.0010865158401429653, 0.008313877508044243, 0.0038413344882428646, 0.018365612253546715, 0.06882858276367188, 0.012070024386048317, 0.0018452371004968882, 0.0013018130557611585, 0.08408990502357483, 0.31700530648231506, 0.005241848528385162, 0.2674991488456726, 0.0035690877120941877, 0.0007410391117446125, 0.0029238967690616846, 0.0077185193076729774, 0.056921862065792084, 0.07715293020009995, 0.048824530094861984, 0.009446829557418823]], [[1.0, 0.0, 0.0, 0.0, 0.0, 0.0, 0.0, 0.0, 0.0, 0.0, 0.0, 0.0, 0.0, 0.0, 0.0, 0.0, 0.0, 0.0, 0.0, 0.0, 0.0, 0.0], [0.08485101908445358, 0.9151489734649658, 0.0, 0.0, 0.0, 0.0, 0.0, 0.0, 0.0, 0.0, 0.0, 0.0, 0.0, 0.0, 0.0, 0.0, 0.0, 0.0, 0.0, 0.0, 0.0, 0.0], [0.649036169052124, 0.15683569014072418, 0.1941281408071518, 0.0, 0.0, 0.0, 0.0, 0.0, 0.0, 0.0, 0.0, 0.0, 0.0, 0.0, 0.0, 0.0, 0.0, 0.0, 0.0, 0.0, 0.0, 0.0], [0.6583284139633179, 0.0705285370349884, 0.043752796947956085, 0.22739024460315704, 0.0, 0.0, 0.0, 0.0, 0.0, 0.0, 0.0, 0.0, 0.0, 0.0, 0.0, 0.0, 0.0, 0.0, 0.0, 0.0, 0.0, 0.0], [0.662298321723938, 0.06483539193868637, 0.024498717859387398, 0.12427317351102829, 0.1240944117307663, 0.0, 0.0, 0.0, 0.0, 0.0, 0.0, 0.0, 0.0, 0.0, 0.0, 0.0, 0.0, 0.0, 0.0, 0.0, 0.0, 0.0], [0.269855797290802, 0.13293182849884033, 0.03211716562509537, 0.044541578739881516, 0.06370142102241516, 0.45685216784477234, 0.0, 0.0, 0.0, 0.0, 0.0, 0.0, 0.0, 0.0, 0.0, 0.0, 0.0, 0.0, 0.0, 0.0, 0.0, 0.0], [0.09679045528173447, 0.07206720858812332, 0.0650244951248169, 0.10462252050638199, 0.13708756864070892, 0.338640958070755, 0.1857667714357376, 0.0, 0.0, 0.0, 0.0, 0.0, 0.0, 0.0, 0.0, 0.0, 0.0, 0.0, 0.0, 0.0, 0.0, 0.0], [0.0675271525979042, 0.06287882477045059, 0.02172478660941124, 0.08261130750179291, 0.10559047758579254, 0.37622174620628357, 0.17658647894859314, 0.1068592220544815, 0.0, 0.0, 0.0, 0.0, 0.0, 0.0, 0.0, 0.0, 0.0, 0.0, 0.0, 0.0, 0.0, 0.0], [0.07465200871229172, 0.05354955419898033, 0.027136165648698807, 0.1624646782875061, 0.2262132316827774, 0.22087788581848145, 0.06513824313879013, 0.14623628556728363, 0.023731958121061325, 0.0, 0.0, 0.0, 0.0, 0.0, 0.0, 0.0, 0.0, 0.0, 0.0, 0.0, 0.0, 0.0], [7.962193194543943e-05, 0.0002607266651466489, 0.00011520591215230525, 8.036477083805948e-06, 1.476010129408678e-05, 7.358635798482283e-07, 3.475781704764813e-05, 5.8375690059619956e-06, 0.00012962489563506097, 0.9993507266044617, 0.0, 0.0, 0.0, 0.0, 0.0, 0.0, 0.0, 0.0, 0.0, 0.0, 0.0, 0.0], [0.061277616769075394, 0.012400601990520954, 0.0015788512537255883, 0.026181567460298538, 0.025569891557097435, 0.77338707447052, 0.048341188579797745, 0.03403206542134285, 0.008873655460774899, 5.3452502470463514e-05, 0.008304026909172535, 0.0, 0.0, 0.0, 0.0, 0.0, 0.0, 0.0, 0.0, 0.0, 0.0, 0.0], [0.17495611310005188, 0.026846924796700478, 0.0015844576992094517, 0.007782265078276396, 0.00800953060388565, 0.5810521245002747, 0.1366940587759018, 0.016877885907888412, 0.02014829032123089, 7.874719449318945e-05, 0.0015454926760867238, 0.024424077942967415, 0.0, 0.0, 0.0, 0.0, 0.0, 0.0, 0.0, 0.0, 0.0, 0.0], [0.00013382536417338997, 3.2099898817250505e-05, 2.7518835850059986e-05, 0.00186869315803051, 0.0016204474959522486, 0.0019093735609203577, 4.0206199628300965e-05, 0.00033365486888214946, 1.943805364135187e-05, 0.00010192866466240957, 0.014601019211113453, 0.9792247414588928, 8.712810085853562e-05, 0.0, 0.0, 0.0, 0.0, 0.0, 0.0, 0.0, 0.0, 0.0], [0.045821551233530045, 0.10624255985021591, 0.011773712001740932, 0.0028398470021784306, 0.004126058425754309, 0.03405493497848511, 0.37016165256500244, 0.01848156936466694, 0.06488145887851715, 0.007550202775746584, 0.0023457612842321396, 0.003717252518981695, 0.0030810933094471693, 0.32492223381996155, 0.0, 0.0, 0.0, 0.0, 0.0, 0.0, 0.0, 0.0], [0.011568029411137104, 0.009107045829296112, 0.0031615234911441803, 0.0008329457486979663, 0.0014078692765906453, 0.0008733593276701868, 0.013278568163514137, 0.0021265847608447075, 0.004458046518266201, 0.9298063516616821, 0.0005235452554188669, 0.0016820039600133896, 0.003315369365736842, 0.005768254864960909, 0.012090464122593403, 0.0, 0.0, 0.0, 0.0, 0.0, 0.0, 0.0], [8.038520718400832e-06, 1.935825275722891e-05, 3.8124512684589718e-06, 2.9478229635060416e-07, 7.033888209662109e-07, 7.649669697684658e-08, 8.093991709756665e-06, 6.593374450858391e-07, 3.980168457928812e-06, 0.9987900853157043, 2.294810315106588e-07, 2.402211293883738e-06, 2.737267777774832e-06, 7.5194543569523375e-06, 5.996309846523218e-05, 0.0010920867789536715, 0.0, 0.0, 0.0, 0.0, 0.0, 0.0], [0.0001453397562727332, 5.1752063882304356e-05, 3.681931775645353e-05, 0.0015748034929856658, 0.0010311746736988425, 0.0007599646341986954, 0.00011698363960022107, 0.0002539181150496006, 1.52763332152972e-05, 0.001315518980845809, 0.005893593654036522, 0.8240936994552612, 0.00014924285642337054, 0.15801306068897247, 0.00010829809616552666, 0.00021001564164180309, 0.0062305922619998455, 0.0, 0.0, 0.0, 0.0, 0.0], [0.0014115337980911136, 0.00016438211605418473, 2.231020334875211e-05, 0.0014712571864947677, 0.0012083555338904262, 0.012613278813660145, 0.0007961183437146246, 0.0005728519172407687, 6.564791692653671e-05, 2.3336206140811555e-05, 0.006739810574799776, 0.3553399443626404, 8.031695870158728e-06, 0.6189247369766235, 0.00024534802651032805, 6.264771946007386e-05, 0.00019974065071437508, 0.0001306358171859756, 0.0, 0.0, 0.0, 0.0], [0.01207776553928852, 0.004259065724909306, 0.0005956501117907465, 0.0017214779509231448, 0.0016505473759025335, 0.01665431074798107, 0.024698005989193916, 0.004543691873550415, 0.0019557434134185314, 0.0006706572021357715, 0.0008326476090587676, 0.011741513386368752, 5.474884528666735e-05, 0.8630504012107849, 0.018925147131085396, 0.002695435658097267, 0.000516179425176233, 0.00023427183623425663, 0.033122774213552475, 0.0, 0.0, 0.0], [0.06875207275152206, 0.018138743937015533, 0.0017583939479663968, 0.0018426903989166021, 0.0030364682897925377, 0.09323491901159286, 0.13070234656333923, 0.009412002749741077, 0.008901267312467098, 0.005048553459346294, 0.00011655945854727179, 0.001454665674827993, 3.3733500458765775e-05, 0.5067157745361328, 0.026536287739872932, 0.006665189750492573, 0.0003240237128920853, 0.00019235705258324742, 0.001929529826156795, 0.11520439386367798, 0.0, 0.0], [0.02352667972445488, 0.004920078907161951, 0.0006947583751752973, 0.0006000168505124748, 0.0007635320071130991, 0.016451610252261162, 0.014038910157978535, 0.002036638790741563, 0.0020635761320590973, 0.0013704252196475863, 3.350964834680781e-05, 0.00023554658400826156, 3.5621033021016046e-05, 0.021279653534293175, 0.03721493110060692, 0.0016984076937660575, 0.00027654299628920853, 0.00017869164003059268, 0.0004078425990883261, 0.025555482134222984, 0.8466175198554993, 0.0], [0.002529722638428211, 0.0005257123848423362, 0.00047462162910960615, 0.003579587209969759, 0.0045008305460214615, 0.015987999737262726, 0.0016019068425521255, 0.003549819579347968, 0.000302459899103269, 0.0023386338725686073, 0.0038607961032539606, 0.05135601758956909, 0.0002792428422253579, 0.07224947959184647, 0.009557025507092476, 0.0011838984210044146, 0.0017688702791929245, 0.0010646349983289838, 0.025065207853913307, 0.6720736026763916, 0.12254605442285538, 0.00360398949123919]]]}\n",
              "    )\n",
              "    </script>"
            ]
          },
          "metadata": {}
        },
        {
          "output_type": "display_data",
          "data": {
            "text/plain": [
              "<circuitsvis.utils.render.RenderedHTML at 0x7aa38759beb0>"
            ],
            "text/html": [
              "<div id=\"circuits-vis-1cb15915-8c1b\" style=\"margin: 15px 0;\"/>\n",
              "    <script crossorigin type=\"module\">\n",
              "    import { render, AttentionPatterns } from \"https://unpkg.com/circuitsvis@1.43.2/dist/cdn/esm.js\";\n",
              "    render(\n",
              "      \"circuits-vis-1cb15915-8c1b\",\n",
              "      AttentionPatterns,\n",
              "      {\"tokens\": [\"6\", \"8\", \"8\", \"1\", \"4\", \"5\", \"11\", \"8\", \"0\", \"8\", \"1\", \"4\", \"5\", \"12\", \"11\", \"0\", \"1\", \"2\", \"0\", \"0\", \"0\", \"0\"], \"attention\": [[[1.0, 0.0, 0.0, 0.0, 0.0, 0.0, 0.0, 0.0, 0.0, 0.0, 0.0, 0.0, 0.0, 0.0, 0.0, 0.0, 0.0, 0.0, 0.0, 0.0, 0.0, 0.0], [0.8292598128318787, 0.17074017226696014, 0.0, 0.0, 0.0, 0.0, 0.0, 0.0, 0.0, 0.0, 0.0, 0.0, 0.0, 0.0, 0.0, 0.0, 0.0, 0.0, 0.0, 0.0, 0.0, 0.0], [0.13074694573879242, 0.5103399157524109, 0.3589131236076355, 0.0, 0.0, 0.0, 0.0, 0.0, 0.0, 0.0, 0.0, 0.0, 0.0, 0.0, 0.0, 0.0, 0.0, 0.0, 0.0, 0.0, 0.0, 0.0], [0.13767847418785095, 0.4768381416797638, 0.19976739585399628, 0.18571600317955017, 0.0, 0.0, 0.0, 0.0, 0.0, 0.0, 0.0, 0.0, 0.0, 0.0, 0.0, 0.0, 0.0, 0.0, 0.0, 0.0, 0.0, 0.0], [0.09751809388399124, 0.3395533561706543, 0.1956305056810379, 0.16281189024448395, 0.20448613166809082, 0.0, 0.0, 0.0, 0.0, 0.0, 0.0, 0.0, 0.0, 0.0, 0.0, 0.0, 0.0, 0.0, 0.0, 0.0, 0.0, 0.0], [0.09144310653209686, 0.18092729151248932, 0.13804678618907928, 0.0937323197722435, 0.12308253347873688, 0.37276801466941833, 0.0, 0.0, 0.0, 0.0, 0.0, 0.0, 0.0, 0.0, 0.0, 0.0, 0.0, 0.0, 0.0, 0.0, 0.0, 0.0], [0.4220086336135864, 0.03681035712361336, 0.07202432304620743, 0.06672698259353638, 0.05145964398980141, 0.05118292197585106, 0.2997872233390808, 0.0, 0.0, 0.0, 0.0, 0.0, 0.0, 0.0, 0.0, 0.0, 0.0, 0.0, 0.0, 0.0, 0.0, 0.0], [0.04369410127401352, 0.025370685383677483, 0.02285698428750038, 0.02037537470459938, 0.0224338099360466, 0.03538317605853081, 0.8084831833839417, 0.02140272594988346, 0.0, 0.0, 0.0, 0.0, 0.0, 0.0, 0.0, 0.0, 0.0, 0.0, 0.0, 0.0, 0.0, 0.0], [0.016067950055003166, 0.006019312888383865, 0.00414299638941884, 0.004096490330994129, 0.004576182458549738, 0.008498218841850758, 0.9481777548789978, 0.005169651936739683, 0.003251558868214488, 0.0, 0.0, 0.0, 0.0, 0.0, 0.0, 0.0, 0.0, 0.0, 0.0, 0.0, 0.0, 0.0], [0.003407473675906658, 0.01614649035036564, 0.13162735104560852, 0.05694255605340004, 0.08062134683132172, 0.028001675382256508, 0.4110335111618042, 0.10842761397361755, 0.1547325849533081, 0.009059416130185127, 0.0, 0.0, 0.0, 0.0, 0.0, 0.0, 0.0, 0.0, 0.0, 0.0, 0.0, 0.0], [0.06511960178613663, 0.013953451067209244, 0.0015275337500497699, 0.0009174664737656713, 0.002404056955128908, 0.011026899330317974, 0.8833482265472412, 0.003092607017606497, 0.0016679426189512014, 0.014688259921967983, 0.0022539496421813965, 0.0, 0.0, 0.0, 0.0, 0.0, 0.0, 0.0, 0.0, 0.0, 0.0, 0.0], [0.08486322313547134, 0.027095254510641098, 0.010086746886372566, 0.004416347481310368, 0.008379720151424408, 0.017842428758740425, 0.21737395226955414, 0.0077440631575882435, 0.0067557068541646, 0.5081631541252136, 0.08677279204130173, 0.02050655148923397, 0.0, 0.0, 0.0, 0.0, 0.0, 0.0, 0.0, 0.0, 0.0, 0.0], [0.00040426256600767374, 0.0010309412609785795, 0.0030613322742283344, 0.0020183513406664133, 0.0033063713926821947, 0.0016872941050678492, 0.9701733589172363, 0.0069767688401043415, 0.007188757881522179, 7.243761501740664e-05, 0.0017141021089628339, 0.0013697745744138956, 0.0009961611358448863, 0.0, 0.0, 0.0, 0.0, 0.0, 0.0, 0.0, 0.0, 0.0], [0.0042886873707175255, 3.6784924304811284e-05, 0.0002868057636078447, 0.00013229955220595002, 8.751591667532921e-05, 2.6095563953276724e-05, 1.545603845443111e-05, 6.639047205680981e-05, 6.338716048048809e-05, 0.8363125324249268, 0.002406877465546131, 0.0002886881120502949, 0.15594646334648132, 4.192385313217528e-05, 0.0, 0.0, 0.0, 0.0, 0.0, 0.0, 0.0, 0.0], [0.02084415592253208, 0.0727122500538826, 0.09492900222539902, 0.06586312502622604, 0.08276654779911041, 0.07307407259941101, 0.09753678739070892, 0.14287830889225006, 0.13016873598098755, 0.08538887649774551, 0.014462879858911037, 0.020660847425460815, 0.05370042845606804, 0.021929863840341568, 0.023084064945578575, 0.0, 0.0, 0.0, 0.0, 0.0, 0.0, 0.0], [0.0011736792512238026, 0.00193682755343616, 0.013660352677106857, 0.0074272677302360535, 0.010035908780992031, 0.006279077846556902, 0.892646312713623, 0.018518077209591866, 0.021814344450831413, 0.0010627021547406912, 0.014330345205962658, 0.00484824413433671, 0.004511379171162844, 0.0007570189773105085, 0.0007946757250465453, 0.0002038295497186482, 0.0, 0.0, 0.0, 0.0, 0.0, 0.0], [0.00015882837760727853, 0.0011252242838963866, 0.0031228477600961924, 0.00271030911244452, 0.003863276680931449, 0.00205209176056087, 0.9620071649551392, 0.0076769390143454075, 0.008648034185171127, 2.0614783352357335e-05, 0.0052319676615297794, 0.0024825872387737036, 0.0003942481707781553, 0.0001934767933562398, 8.066912414506078e-05, 7.296259354916401e-06, 0.00022452222765423357, 0.0, 0.0, 0.0, 0.0, 0.0], [0.0005422516260296106, 0.002150616142898798, 0.004279024433344603, 0.0024044583551585674, 0.00447159493342042, 0.003540289355441928, 0.9564973711967468, 0.00956549309194088, 0.009215065278112888, 0.00014590211503673345, 0.0012109284289181232, 0.0013231429038569331, 0.0017048749141395092, 0.0009324626880697906, 0.00026664609322324395, 6.80124867358245e-05, 0.0013524105306714773, 0.0003294566704425961, 0.0, 0.0, 0.0, 0.0], [0.0060798292979598045, 0.020354684442281723, 0.02071652002632618, 0.01248255092650652, 0.01918434537947178, 0.023403586819767952, 0.783170759677887, 0.04490280523896217, 0.037567391991615295, 0.0010823417687788606, 0.005268522538244724, 0.007249233312904835, 0.0031966224778443575, 0.006294840946793556, 0.0020121727138757706, 0.0005176864215172827, 0.004170261323451996, 0.0012219335185363889, 0.0011238068109378219, 0.0, 0.0, 0.0], [0.001354233012534678, 0.009638250805437565, 0.0036527991760522127, 0.0015119588933885098, 0.0038700057193636894, 0.015523575246334076, 0.8343840837478638, 0.007130812853574753, 0.009723140858113766, 0.0005903707933612168, 0.0033864318393170834, 0.0023019753862172365, 0.0011292046401649714, 0.09788691252470016, 0.0017064139246940613, 0.0007917913608253002, 0.0013772358652204275, 0.0006997273303568363, 0.0008723865612410009, 0.002468607621267438, 0.0, 0.0], [0.0247353408485651, 0.050031982362270355, 0.02620178647339344, 0.018205149099230766, 0.02243720553815365, 0.06570011377334595, 0.02086060494184494, 0.022760901600122452, 0.01773984357714653, 0.06022879481315613, 0.020189542323350906, 0.016930460929870605, 0.008148853667080402, 0.23323900997638702, 0.06847326457500458, 0.08572812378406525, 0.015690872445702553, 0.010039068758487701, 0.0311932023614645, 0.1160568967461586, 0.06540895998477936, 0.0], [0.007593169808387756, 0.02891736850142479, 0.020208649337291718, 0.018643584102392197, 0.027305811643600464, 0.05811222270131111, 0.6346515417098999, 0.0400523915886879, 0.04756816849112511, 0.000542728987056762, 0.02271413989365101, 0.017352543771266937, 0.002896041376516223, 0.039225827902555466, 0.005749192554503679, 0.0007652938948012888, 0.0039168172515928745, 0.0025124724488705397, 0.0027747140266001225, 0.006090275477617979, 0.008221018128097057, 0.00418602442368865]], [[1.0, 0.0, 0.0, 0.0, 0.0, 0.0, 0.0, 0.0, 0.0, 0.0, 0.0, 0.0, 0.0, 0.0, 0.0, 0.0, 0.0, 0.0, 0.0, 0.0, 0.0, 0.0], [0.6106329560279846, 0.3893670439720154, 0.0, 0.0, 0.0, 0.0, 0.0, 0.0, 0.0, 0.0, 0.0, 0.0, 0.0, 0.0, 0.0, 0.0, 0.0, 0.0, 0.0, 0.0, 0.0, 0.0], [0.2859952747821808, 0.43922117352485657, 0.27478352189064026, 0.0, 0.0, 0.0, 0.0, 0.0, 0.0, 0.0, 0.0, 0.0, 0.0, 0.0, 0.0, 0.0, 0.0, 0.0, 0.0, 0.0, 0.0, 0.0], [0.15792952477931976, 0.356626957654953, 0.2952893078327179, 0.19015417993068695, 0.0, 0.0, 0.0, 0.0, 0.0, 0.0, 0.0, 0.0, 0.0, 0.0, 0.0, 0.0, 0.0, 0.0, 0.0, 0.0, 0.0, 0.0], [0.21753525733947754, 0.30974480509757996, 0.2083149403333664, 0.15353791415691376, 0.11086703091859818, 0.0, 0.0, 0.0, 0.0, 0.0, 0.0, 0.0, 0.0, 0.0, 0.0, 0.0, 0.0, 0.0, 0.0, 0.0, 0.0, 0.0], [0.7772642374038696, 0.10801135003566742, 0.03678816929459572, 0.012372546829283237, 0.013340456411242485, 0.052223168313503265, 0.0, 0.0, 0.0, 0.0, 0.0, 0.0, 0.0, 0.0, 0.0, 0.0, 0.0, 0.0, 0.0, 0.0, 0.0, 0.0], [0.2628379464149475, 0.09806187450885773, 0.10388503968715668, 0.05781024321913719, 0.05666353926062584, 0.0782209187746048, 0.34252041578292847, 0.0, 0.0, 0.0, 0.0, 0.0, 0.0, 0.0, 0.0, 0.0, 0.0, 0.0, 0.0, 0.0, 0.0, 0.0], [0.0715055838227272, 0.17388418316841125, 0.12867525219917297, 0.08247634768486023, 0.06575869023799896, 0.16209466755390167, 0.22513945400714874, 0.09046582877635956, 0.0, 0.0, 0.0, 0.0, 0.0, 0.0, 0.0, 0.0, 0.0, 0.0, 0.0, 0.0, 0.0, 0.0], [0.13284581899642944, 0.11884813755750656, 0.10796934366226196, 0.07473212480545044, 0.05315524712204933, 0.08643385022878647, 0.2401197850704193, 0.09067222476005554, 0.09522337466478348, 0.0, 0.0, 0.0, 0.0, 0.0, 0.0, 0.0, 0.0, 0.0, 0.0, 0.0, 0.0, 0.0], [0.05678655579686165, 0.32139262557029724, 0.06661336123943329, 0.14521679282188416, 0.05450865626335144, 0.15336844325065613, 0.0001557741779834032, 0.051476746797561646, 0.053390927612781525, 0.09709013998508453, 0.0, 0.0, 0.0, 0.0, 0.0, 0.0, 0.0, 0.0, 0.0, 0.0, 0.0, 0.0], [0.0077820224687457085, 0.0016105890972539783, 0.0015656905015930533, 0.0006009413045831025, 0.00040826687472872436, 0.0007645312580280006, 0.0009722107788547873, 0.00034016906283795834, 0.0013743588933721185, 0.007480744272470474, 0.9771004915237427, 0.0, 0.0, 0.0, 0.0, 0.0, 0.0, 0.0, 0.0, 0.0, 0.0, 0.0], [0.40774068236351013, 0.09619863331317902, 0.038410741835832596, 0.02014242857694626, 0.011368564330041409, 0.03878564015030861, 0.0013640561373904347, 0.00985409040004015, 0.0143045075237751, 0.22441811859607697, 0.1368040293455124, 0.0006085503264330328, 0.0, 0.0, 0.0, 0.0, 0.0, 0.0, 0.0, 0.0, 0.0, 0.0], [0.006299364846199751, 0.035252995789051056, 0.0134733309969306, 0.026212533935904503, 0.007984932512044907, 0.019283415749669075, 2.016212783928495e-05, 0.009202785789966583, 0.01616850681602955, 0.08161786198616028, 0.4305309057235718, 0.006748532876372337, 0.34720462560653687, 0.0, 0.0, 0.0, 0.0, 0.0, 0.0, 0.0, 0.0, 0.0], [0.007573755923658609, 0.00024610766558907926, 0.0002209339290857315, 0.00014303007628768682, 0.00012330987374298275, 0.00029292417457327247, 0.00017922514234669507, 0.00017940351972356439, 7.57057496230118e-05, 0.9737327098846436, 2.405982195341494e-05, 0.00018782043480314314, 0.009471060708165169, 0.007549990434199572, 0.0, 0.0, 0.0, 0.0, 0.0, 0.0, 0.0, 0.0], [0.058563750237226486, 0.06406565010547638, 0.0309041328728199, 0.04182075336575508, 0.03204665333032608, 0.040165603160858154, 0.02315955050289631, 0.041131023317575455, 0.0350227877497673, 0.24778108298778534, 0.01961461640894413, 0.04419175907969475, 0.1338062584400177, 0.02457914687693119, 0.1631472110748291, 0.0, 0.0, 0.0, 0.0, 0.0, 0.0, 0.0], [0.0008882425609044731, 0.0030257313046604395, 0.0008479999378323555, 0.0014934353530406952, 0.0005348498234525323, 0.0012638886692002416, 2.9885515687055886e-05, 0.0008466553990729153, 0.0006173592410050333, 0.011568578891456127, 0.0006054406403563917, 0.00022730662021785975, 0.01050277054309845, 0.00024452368961647153, 0.9572919607162476, 0.010011354461312294, 0.0, 0.0, 0.0, 0.0, 0.0, 0.0], [0.0007933687884360552, 0.00373158510774374, 0.0015048887580633163, 0.00287029636092484, 0.0009744814597070217, 0.0017381621291860938, 3.215405376977287e-05, 0.0017843239475041628, 0.001987992087379098, 0.023831646889448166, 0.031246419996023178, 0.0009660813375376165, 0.3097948729991913, 0.0009520351886749268, 0.5528324246406555, 0.021037867292761803, 0.04392142593860626, 0.0, 0.0, 0.0, 0.0, 0.0], [0.0003275603230576962, 0.003296583192422986, 0.0013197886291891336, 0.002495386404916644, 0.0008601156296208501, 0.0014835875481367111, 2.3559603050671285e-06, 0.0007508546113967896, 0.0012683372478932142, 0.0006879238062538207, 0.006183938588947058, 0.0002261803747387603, 0.0009909451473504305, 0.000601440027821809, 0.9639841318130493, 0.002683192491531372, 0.0014267991064116359, 0.01141075324267149, 0.0, 0.0, 0.0, 0.0], [0.00029299489688128233, 0.003478617174550891, 0.0019813922699540854, 0.0025954479351639748, 0.001207218156196177, 0.0019018615130335093, 3.899090734194033e-05, 0.00115570321213454, 0.001466419780626893, 0.0012745518470183015, 0.001410316675901413, 0.00012313853949308395, 0.0016607221914455295, 0.0003816724056378007, 0.9582524299621582, 0.0033029436599463224, 0.0015397367533296347, 0.009847762063145638, 0.008088135160505772, 0.0, 0.0, 0.0], [0.00045190303353592753, 0.0012825200101360679, 0.0005207909271121025, 0.00034569675335660577, 0.00020742308697663248, 0.000721010728739202, 1.374088242300786e-05, 0.00015147477097343653, 0.00020283776393625885, 0.0003381585411261767, 0.0001647438621148467, 8.11966401670361e-06, 7.51706029404886e-05, 0.0009178792242892087, 0.9856464266777039, 0.0020916927605867386, 0.00014560268027707934, 0.0010436708107590675, 0.004393109120428562, 0.0012780360411852598, 0.0, 0.0], [0.024115778505802155, 0.004321201704442501, 0.005357970483601093, 0.0014646645868197083, 0.0030445929151028395, 0.002643831307068467, 0.8868831396102905, 0.0022128222044557333, 0.0037671253085136414, 0.007627764251083136, 0.002253300743177533, 0.0006737711373716593, 0.007264815270900726, 0.01881934143602848, 0.0007634010980837047, 0.012523443438112736, 0.002664192346855998, 0.004039890132844448, 0.005093725398182869, 0.0016733879456296563, 0.002791748847812414, 0.0], [0.0014093172503635287, 0.0034626887645572424, 0.0029677904676645994, 0.0032026059925556183, 0.0018870694329962134, 0.0030149200465530157, 0.0005264958599582314, 0.001763917040079832, 0.0022189028095453978, 0.003048087703064084, 0.008413150906562805, 0.0004047527036163956, 0.008952947333455086, 0.0026052026078104973, 0.8365635275840759, 0.012494703754782677, 0.0046527814120054245, 0.037069980055093765, 0.047755494713783264, 0.006728451233357191, 0.0016191498143598437, 0.00923816580325365]], [[1.0, 0.0, 0.0, 0.0, 0.0, 0.0, 0.0, 0.0, 0.0, 0.0, 0.0, 0.0, 0.0, 0.0, 0.0, 0.0, 0.0, 0.0, 0.0, 0.0, 0.0, 0.0], [0.2244713455438614, 0.7755286693572998, 0.0, 0.0, 0.0, 0.0, 0.0, 0.0, 0.0, 0.0, 0.0, 0.0, 0.0, 0.0, 0.0, 0.0, 0.0, 0.0, 0.0, 0.0, 0.0, 0.0], [0.08189315348863602, 0.3620361089706421, 0.5560706853866577, 0.0, 0.0, 0.0, 0.0, 0.0, 0.0, 0.0, 0.0, 0.0, 0.0, 0.0, 0.0, 0.0, 0.0, 0.0, 0.0, 0.0, 0.0, 0.0], [0.06501210480928421, 0.20766332745552063, 0.333959698677063, 0.39336487650871277, 0.0, 0.0, 0.0, 0.0, 0.0, 0.0, 0.0, 0.0, 0.0, 0.0, 0.0, 0.0, 0.0, 0.0, 0.0, 0.0, 0.0, 0.0], [0.0360545851290226, 0.1397857815027237, 0.2416037917137146, 0.3209155201911926, 0.261640340089798, 0.0, 0.0, 0.0, 0.0, 0.0, 0.0, 0.0, 0.0, 0.0, 0.0, 0.0, 0.0, 0.0, 0.0, 0.0, 0.0, 0.0], [0.2204269915819168, 0.2419479340314865, 0.1260266751050949, 0.10754579305648804, 0.07733505964279175, 0.2267175018787384, 0.0, 0.0, 0.0, 0.0, 0.0, 0.0, 0.0, 0.0, 0.0, 0.0, 0.0, 0.0, 0.0, 0.0, 0.0, 0.0], [0.21029335260391235, 0.13023334741592407, 0.04569065198302269, 0.04324613884091377, 0.05779946222901344, 0.06894566118717194, 0.44379138946533203, 0.0, 0.0, 0.0, 0.0, 0.0, 0.0, 0.0, 0.0, 0.0, 0.0, 0.0, 0.0, 0.0, 0.0, 0.0], [0.05532751977443695, 0.12746179103851318, 0.08320555835962296, 0.10141012072563171, 0.14868471026420593, 0.141269251704216, 0.1389666199684143, 0.20367448031902313, 0.0, 0.0, 0.0, 0.0, 0.0, 0.0, 0.0, 0.0, 0.0, 0.0, 0.0, 0.0, 0.0, 0.0], [0.0315764844417572, 0.16878092288970947, 0.057137567549943924, 0.07433084398508072, 0.10881830006837845, 0.14006078243255615, 0.09074458479881287, 0.16998335719108582, 0.15856711566448212, 0.0, 0.0, 0.0, 0.0, 0.0, 0.0, 0.0, 0.0, 0.0, 0.0, 0.0, 0.0, 0.0], [0.004614613950252533, 0.0012033027596771717, 0.004317963030189276, 0.00653039338067174, 0.0035319996532052755, 0.004401294514536858, 1.3297611758389394e-06, 0.0019037752645090222, 0.0008289666729979217, 0.972666323184967, 0.0, 0.0, 0.0, 0.0, 0.0, 0.0, 0.0, 0.0, 0.0, 0.0, 0.0, 0.0], [0.2556774914264679, 0.07762022316455841, 0.030111761763691902, 0.028005171567201614, 0.019417354837059975, 0.04389205574989319, 0.00860376562923193, 0.006270701065659523, 0.026074480265378952, 0.013054576702415943, 0.4912724494934082, 0.0, 0.0, 0.0, 0.0, 0.0, 0.0, 0.0, 0.0, 0.0, 0.0, 0.0], [0.5876998901367188, 0.025031087920069695, 0.0278624277561903, 0.02552918717265129, 0.018088603392243385, 0.0236736461520195, 0.0010804120684042573, 0.006590227130800486, 0.010542850010097027, 0.15419308841228485, 0.0909651443362236, 0.028743408620357513, 0.0, 0.0, 0.0, 0.0, 0.0, 0.0, 0.0, 0.0, 0.0, 0.0], [0.0013281679712235928, 0.0013487421674653888, 0.0022596444468945265, 0.003761852625757456, 0.0013890140689909458, 0.0032848529517650604, 2.119426625313281e-07, 0.0006004341412335634, 0.0004629790491890162, 0.6479685306549072, 0.008820964023470879, 0.004205781035125256, 0.32456889748573303, 0.0, 0.0, 0.0, 0.0, 0.0, 0.0, 0.0, 0.0, 0.0], [0.978440523147583, 0.005140526220202446, 0.000183854645001702, 0.00010163366823690012, 9.02685642358847e-05, 0.00010586709686322138, 0.00032912171445786953, 8.816059562377632e-05, 0.00023496357607655227, 0.0031907097436487675, 8.960564446169883e-05, 0.00011486691801110283, 0.0006619278574362397, 0.011228011921048164, 0.0, 0.0, 0.0, 0.0, 0.0, 0.0, 0.0, 0.0], [0.009036845527589321, 0.0019362641032785177, 0.00041079233051277697, 0.00041175581282004714, 0.00013214604405220598, 0.00019528336997609586, 9.943938493961468e-06, 4.67092904727906e-05, 9.357752423966303e-05, 0.00024729769211262465, 0.0007916123140603304, 6.192048749653623e-05, 0.0002681159821804613, 8.735778828850016e-05, 0.9862703680992126, 0.0, 0.0, 0.0, 0.0, 0.0, 0.0, 0.0], [0.00034615807817317545, 6.055593257769942e-05, 8.465488645015284e-05, 0.00015570133109577, 4.725249164039269e-05, 6.717925134580582e-05, 1.9249076999017234e-08, 1.581749165779911e-05, 8.149573659466114e-06, 0.008566347882151604, 0.0002167214552173391, 0.00013187085278332233, 0.0010247541358694434, 4.805716162081808e-05, 0.9811723828315735, 0.008054344914853573, 0.0, 0.0, 0.0, 0.0, 0.0, 0.0], [8.004390838323161e-05, 3.999858381575905e-05, 9.030744695337489e-05, 0.00015386064478661865, 4.2048199247801676e-05, 5.8862438891083e-05, 9.022169678019054e-09, 1.1636721865215804e-05, 8.084625733317807e-06, 0.004293214995414019, 0.00023687630891799927, 7.285800529643893e-05, 0.0022713004145771265, 1.5465910109924152e-05, 0.9863736629486084, 0.0031668595038354397, 0.0030848218593746424, 0.0, 0.0, 0.0, 0.0, 0.0], [1.3863810636394192e-05, 1.2302620234549977e-05, 1.076500575436512e-05, 1.707704177533742e-05, 4.204847755318042e-06, 9.434995263291057e-06, 1.2636462987103414e-09, 1.6574881556152832e-06, 1.9931783299398376e-06, 0.000621201703324914, 5.7460936659481376e-05, 9.492250683251768e-06, 0.0003776491212192923, 4.683945007855073e-06, 0.9948587417602539, 0.0006883772439323366, 0.00040791998617351055, 0.002903201151639223, 0.0, 0.0, 0.0, 0.0], [0.00021280285727698356, 5.287971725920215e-05, 2.6679332222556695e-05, 3.3808304578997195e-05, 7.596926479891408e-06, 1.1671498214127496e-05, 1.510975167207107e-08, 3.014465391970589e-06, 4.920836545352358e-06, 0.0004982926766388118, 0.0001673132210271433, 1.2669194802583661e-05, 0.00023822858929634094, 4.870134944212623e-06, 0.9886206984519958, 0.0013956199400126934, 0.00028829951770603657, 0.003022218821570277, 0.0053983754478394985, 0.0, 0.0, 0.0], [0.0007071889122016728, 0.00014778475451748818, 0.0002405431732768193, 0.0003502891049720347, 0.00013963866513222456, 0.00026851013535633683, 3.8157796211635286e-07, 3.578844552976079e-05, 2.855794627976138e-05, 0.007041731849312782, 0.0008026448776945472, 0.0002756957255769521, 0.000872638076543808, 0.0006795250810682774, 0.9160252809524536, 0.013599103316664696, 0.003305095946416259, 0.006386792752891779, 0.027987567707896233, 0.02110513672232628, 0.0, 0.0], [0.03364058583974838, 0.022430622950196266, 0.036572158336639404, 0.01601921208202839, 0.016926025971770287, 0.028470207005739212, 0.6059911251068115, 0.008782835677266121, 0.017939630895853043, 0.0018647059332579374, 0.02419736050069332, 0.007565662730485201, 0.0033541559241712093, 0.036332741379737854, 0.011346394196152687, 0.017282159999012947, 0.0066956947557628155, 0.006132781971246004, 0.010426891967654228, 0.01101969089359045, 0.07700927555561066, 0.0], [0.00030955069814808667, 0.0012331221951171756, 0.0013771966332569718, 0.0025000651367008686, 0.002170814434066415, 0.006487865000963211, 4.099275611224584e-05, 0.0014119806000962853, 0.0008338777697645128, 0.2959343492984772, 0.005851757247000933, 0.012179187498986721, 0.03436696529388428, 0.023638948798179626, 0.25235632061958313, 0.1314738392829895, 0.0371750108897686, 0.03325263410806656, 0.04297724738717079, 0.1022498682141304, 0.005374831147491932, 0.006803539115935564]], [[1.0, 0.0, 0.0, 0.0, 0.0, 0.0, 0.0, 0.0, 0.0, 0.0, 0.0, 0.0, 0.0, 0.0, 0.0, 0.0, 0.0, 0.0, 0.0, 0.0, 0.0, 0.0], [0.7513628005981445, 0.24863722920417786, 0.0, 0.0, 0.0, 0.0, 0.0, 0.0, 0.0, 0.0, 0.0, 0.0, 0.0, 0.0, 0.0, 0.0, 0.0, 0.0, 0.0, 0.0, 0.0, 0.0], [0.01097116619348526, 0.5722749829292297, 0.416753888130188, 0.0, 0.0, 0.0, 0.0, 0.0, 0.0, 0.0, 0.0, 0.0, 0.0, 0.0, 0.0, 0.0, 0.0, 0.0, 0.0, 0.0, 0.0, 0.0], [0.013255889527499676, 0.46294307708740234, 0.261920690536499, 0.26188042759895325, 0.0, 0.0, 0.0, 0.0, 0.0, 0.0, 0.0, 0.0, 0.0, 0.0, 0.0, 0.0, 0.0, 0.0, 0.0, 0.0, 0.0, 0.0], [0.031355757266283035, 0.2112114280462265, 0.21051767468452454, 0.27936607599258423, 0.2675490379333496, 0.0, 0.0, 0.0, 0.0, 0.0, 0.0, 0.0, 0.0, 0.0, 0.0, 0.0, 0.0, 0.0, 0.0, 0.0, 0.0, 0.0], [0.8692508339881897, 0.06219911947846413, 0.013516976498067379, 0.01667656935751438, 0.00878471601754427, 0.029571738094091415, 0.0, 0.0, 0.0, 0.0, 0.0, 0.0, 0.0, 0.0, 0.0, 0.0, 0.0, 0.0, 0.0, 0.0, 0.0, 0.0], [0.9593467712402344, 0.013764934614300728, 0.007442878093570471, 0.00717203738167882, 0.003948085010051727, 0.008145252242684364, 0.0001801456674002111, 0.0, 0.0, 0.0, 0.0, 0.0, 0.0, 0.0, 0.0, 0.0, 0.0, 0.0, 0.0, 0.0, 0.0, 0.0], [0.13676117360591888, 0.036411892622709274, 0.04695167765021324, 0.07842176407575607, 0.11568094044923782, 0.13508816063404083, 0.0045294687151908875, 0.44615495204925537, 0.0, 0.0, 0.0, 0.0, 0.0, 0.0, 0.0, 0.0, 0.0, 0.0, 0.0, 0.0, 0.0, 0.0], [0.17385800182819366, 0.3164348006248474, 0.12269684672355652, 0.13355951011180878, 0.036172572523355484, 0.17276634275913239, 2.757162474154029e-05, 0.034787118434906006, 0.009697209112346172, 0.0, 0.0, 0.0, 0.0, 0.0, 0.0, 0.0, 0.0, 0.0, 0.0, 0.0, 0.0, 0.0], [0.004501355811953545, 0.018876926973462105, 0.03407029062509537, 0.027083411812782288, 0.048751670867204666, 0.032730232924222946, 0.4967823922634125, 0.1494579017162323, 0.13471077382564545, 0.05303505063056946, 0.0, 0.0, 0.0, 0.0, 0.0, 0.0, 0.0, 0.0, 0.0, 0.0, 0.0, 0.0], [0.03167402744293213, 0.27843257784843445, 0.10926200449466705, 0.11160559952259064, 0.04301251843571663, 0.18387456238269806, 0.00434295367449522, 0.023036204278469086, 0.03532964736223221, 0.00261174188926816, 0.17681819200515747, 0.0, 0.0, 0.0, 0.0, 0.0, 0.0, 0.0, 0.0, 0.0, 0.0, 0.0], [0.04329893738031387, 0.007590197958052158, 0.009053075686097145, 0.011067492887377739, 0.008930360898375511, 0.01679273694753647, 0.197398841381073, 0.02265964262187481, 0.020017627626657486, 0.13552379608154297, 0.39175835251808167, 0.13590891659259796, 0.0, 0.0, 0.0, 0.0, 0.0, 0.0, 0.0, 0.0, 0.0, 0.0], [0.004625250119715929, 0.14132340252399445, 0.15611837804317474, 0.12743735313415527, 0.09240879118442535, 0.11596707999706268, 0.017596766352653503, 0.0932740867137909, 0.08124995231628418, 0.011134189553558826, 0.0832146555185318, 0.016316454857587814, 0.05933358892798424, 0.0, 0.0, 0.0, 0.0, 0.0, 0.0, 0.0, 0.0, 0.0], [0.9910122156143188, 2.0368901459733024e-05, 8.725819498067722e-06, 9.511198186373804e-06, 7.454496881109662e-06, 5.8181717577099334e-06, 1.1601843652897514e-05, 6.653469881712226e-06, 6.220244358701166e-06, 0.007530050352215767, 2.512869286874775e-05, 0.00024966581258922815, 0.0008628808427602053, 0.00024365357239730656, 0.0, 0.0, 0.0, 0.0, 0.0, 0.0, 0.0, 0.0], [0.00014281741459853947, 0.0007210116600617766, 0.00010374138946644962, 8.241419709520414e-05, 2.4443459551548585e-05, 0.00010504616511752829, 2.403689222774119e-06, 6.321141881926451e-06, 3.4044260246446356e-05, 9.102422495743667e-07, 1.5202696886262856e-05, 3.3231133329536533e-06, 2.9594768875540467e-06, 7.388239737338154e-06, 0.9987479448318481, 0.0, 0.0, 0.0, 0.0, 0.0, 0.0, 0.0], [1.5091278328327462e-05, 0.00028093421133235097, 8.885291026672348e-05, 7.158137304941192e-05, 3.310670581413433e-05, 0.00011601884034462273, 9.837056495598517e-06, 3.499603917589411e-05, 4.9321126425638795e-05, 1.9423200683377218e-06, 5.779480852652341e-05, 5.70440397495986e-06, 1.9416653231019154e-05, 5.637316462525632e-06, 0.9991850256919861, 2.464075805619359e-05, 0.0, 0.0, 0.0, 0.0, 0.0, 0.0], [8.477334176859586e-07, 2.3173510271590203e-05, 7.672036190342624e-06, 5.222502295509912e-06, 1.1085678579547675e-06, 6.311850484053139e-06, 3.48292310548004e-08, 8.42352392282919e-07, 1.8235982679470908e-06, 4.405154285791468e-08, 2.108092530761496e-06, 1.712856345648106e-07, 5.582033395512553e-07, 1.6310245598560869e-07, 0.9999455213546753, 4.908312121187919e-07, 3.937973360734759e-06, 0.0, 0.0, 0.0, 0.0, 0.0], [1.2800748550034768e-07, 5.398024950409308e-05, 2.580452201073058e-05, 1.5602263374603353e-05, 5.013209374737926e-06, 2.4360409952350892e-05, 5.248902539278788e-07, 1.7735059145707055e-06, 6.789175131416414e-06, 1.4460984409936373e-08, 6.7313321778783575e-06, 2.5110810497608327e-07, 3.000484696258354e-07, 6.838062063252437e-07, 0.9998204112052917, 5.268742597763776e-07, 1.5097193681867793e-06, 3.5748489608522505e-05, 0.0, 0.0, 0.0, 0.0], [1.9443520216100296e-07, 5.3285642934497446e-05, 1.2853246516897343e-05, 8.744856131670531e-06, 2.4501134703314165e-06, 1.895943387353327e-05, 2.5199943820553017e-07, 7.222518547678192e-07, 4.181422809779178e-06, 9.341789564132341e-10, 2.2353256099449936e-06, 8.07725513141122e-08, 3.7625607518521065e-08, 2.261339915321514e-07, 0.9998685121536255, 1.1339791683440126e-07, 4.521111804933753e-07, 7.020070825092262e-06, 1.9732995497179218e-05, 0.0, 0.0, 0.0], [1.2417655170793296e-06, 2.188767757616006e-05, 4.050701591040706e-06, 3.7462184536707355e-06, 8.628044838587812e-07, 1.0486059181857854e-05, 2.284069466895744e-08, 6.408565695892321e-07, 1.1619906672422076e-06, 1.25637900083575e-08, 1.266763206331234e-06, 1.3515310115508328e-07, 1.1545384381861368e-07, 1.5585086998726183e-07, 0.9999301433563232, 1.619171428046684e-07, 1.4486481632047798e-06, 3.666518523459672e-06, 7.875649316702038e-06, 1.0798523362609558e-05, 0.0, 0.0], [8.206356142181903e-06, 3.277684299973771e-05, 1.1711222214216832e-05, 1.0614488019200508e-05, 1.9548519048839808e-05, 6.090208262321539e-05, 0.9987841248512268, 9.994347783504054e-05, 0.0004036233585793525, 3.995532097178511e-06, 8.578018605476245e-05, 5.848489672644064e-05, 7.994711268111132e-06, 0.00037785418680869043, 4.077627124843275e-07, 2.41223870034446e-06, 6.392665000021225e-06, 4.741486918646842e-06, 3.2990171803248813e-06, 1.4412702512345277e-05, 2.795391992549412e-06, 0.0], [7.622776365678874e-07, 4.227245517540723e-05, 2.0103127098991536e-05, 2.966842112073209e-05, 1.7137963368440978e-05, 5.600832082564011e-05, 5.1098794529025326e-08, 1.4227477549866308e-05, 2.894525778174284e-06, 4.1353592905579717e-07, 2.033780765486881e-05, 1.2781122222804697e-06, 6.053110610082513e-06, 6.239116032702441e-07, 0.9995481371879578, 5.0684079724305775e-06, 3.7574443467747187e-06, 7.496600301237777e-05, 0.00010712556104408577, 1.8630034901434556e-05, 9.50403500610264e-06, 2.096685602737125e-05]]]}\n",
              "    )\n",
              "    </script>"
            ]
          },
          "metadata": {}
        },
        {
          "output_type": "stream",
          "name": "stdout",
          "text": [
            "Attention patterns for 294800-295100=-0000300\n"
          ]
        },
        {
          "output_type": "display_data",
          "data": {
            "text/plain": [
              "<circuitsvis.utils.render.RenderedHTML at 0x7aa38759beb0>"
            ],
            "text/html": [
              "<div id=\"circuits-vis-f744821d-6811\" style=\"margin: 15px 0;\"/>\n",
              "    <script crossorigin type=\"module\">\n",
              "    import { render, AttentionPatterns } from \"https://unpkg.com/circuitsvis@1.43.2/dist/cdn/esm.js\";\n",
              "    render(\n",
              "      \"circuits-vis-f744821d-6811\",\n",
              "      AttentionPatterns,\n",
              "      {\"tokens\": [\"2\", \"9\", \"4\", \"8\", \"0\", \"0\", \"11\", \"2\", \"9\", \"5\", \"1\", \"0\", \"0\", \"12\", \"11\", \"0\", \"0\", \"0\", \"0\", \"3\", \"0\", \"0\"], \"attention\": [[[1.0, 0.0, 0.0, 0.0, 0.0, 0.0, 0.0, 0.0, 0.0, 0.0, 0.0, 0.0, 0.0, 0.0, 0.0, 0.0, 0.0, 0.0, 0.0, 0.0, 0.0, 0.0], [0.19745895266532898, 0.8025410175323486, 0.0, 0.0, 0.0, 0.0, 0.0, 0.0, 0.0, 0.0, 0.0, 0.0, 0.0, 0.0, 0.0, 0.0, 0.0, 0.0, 0.0, 0.0, 0.0, 0.0], [0.024869482964277267, 0.06607748568058014, 0.9090530872344971, 0.0, 0.0, 0.0, 0.0, 0.0, 0.0, 0.0, 0.0, 0.0, 0.0, 0.0, 0.0, 0.0, 0.0, 0.0, 0.0, 0.0, 0.0, 0.0], [0.420285165309906, 0.15096451342105865, 0.1759030818939209, 0.25284725427627563, 0.0, 0.0, 0.0, 0.0, 0.0, 0.0, 0.0, 0.0, 0.0, 0.0, 0.0, 0.0, 0.0, 0.0, 0.0, 0.0, 0.0, 0.0], [0.008096262812614441, 0.0008584335446357727, 0.005331004504114389, 0.9800595641136169, 0.005654644221067429, 0.0, 0.0, 0.0, 0.0, 0.0, 0.0, 0.0, 0.0, 0.0, 0.0, 0.0, 0.0, 0.0, 0.0, 0.0, 0.0, 0.0], [0.004144475795328617, 0.0007962411036714911, 0.0044606407172977924, 0.0008527117897756398, 0.0019642687402665615, 0.9877816438674927, 0.0, 0.0, 0.0, 0.0, 0.0, 0.0, 0.0, 0.0, 0.0, 0.0, 0.0, 0.0, 0.0, 0.0, 0.0, 0.0], [0.0035133021883666515, 0.0004539908841252327, 0.005468772724270821, 0.0014399882638826966, 0.007912268862128258, 0.0045489235781133175, 0.9766627550125122, 0.0, 0.0, 0.0, 0.0, 0.0, 0.0, 0.0, 0.0, 0.0, 0.0, 0.0, 0.0, 0.0, 0.0, 0.0], [0.10043779760599136, 0.05007154121994972, 0.032173339277505875, 0.036637820303440094, 0.3160302937030792, 0.20735082030296326, 0.14928418397903442, 0.10801427066326141, 0.0, 0.0, 0.0, 0.0, 0.0, 0.0, 0.0, 0.0, 0.0, 0.0, 0.0, 0.0, 0.0, 0.0], [0.0207330584526062, 0.26473087072372437, 0.011699399910867214, 0.015030644834041595, 0.01437357161194086, 0.024727026000618935, 0.11710315197706223, 0.058027490973472595, 0.47357475757598877, 0.0, 0.0, 0.0, 0.0, 0.0, 0.0, 0.0, 0.0, 0.0, 0.0, 0.0, 0.0, 0.0], [1.2257312498320516e-08, 9.991448314394802e-05, 2.53680809692014e-07, 4.135370268443239e-09, 3.1877817718850565e-08, 8.43911607262271e-09, 1.151874471361225e-06, 5.437936323460235e-09, 0.9998960494995117, 2.5477313556621084e-06, 0.0, 0.0, 0.0, 0.0, 0.0, 0.0, 0.0, 0.0, 0.0, 0.0, 0.0, 0.0], [1.0267588550050277e-05, 4.286831938316027e-07, 7.124013063730672e-05, 0.35412392020225525, 9.522627806290984e-06, 1.3471838428813498e-05, 0.0002490858896635473, 4.904597517452203e-06, 0.000167630409123376, 0.0005031915497966111, 0.6448463797569275, 0.0, 0.0, 0.0, 0.0, 0.0, 0.0, 0.0, 0.0, 0.0, 0.0, 0.0], [2.074154252795779e-07, 1.5893372173891862e-09, 5.314244845067151e-06, 0.1958949863910675, 2.2671090960102447e-07, 9.2947253449438e-08, 1.8042490410152823e-05, 5.4044011932319336e-08, 1.6249891814368311e-06, 9.94980800896883e-05, 0.8039701581001282, 9.85179576673545e-06, 0.0, 0.0, 0.0, 0.0, 0.0, 0.0, 0.0, 0.0, 0.0, 0.0], [6.055098644708323e-09, 4.1378653281576305e-10, 0.04075944796204567, 3.398248349384403e-09, 5.9207017066853496e-09, 7.273702529175807e-09, 4.3780889313893567e-07, 1.6961216875444052e-09, 5.63783999041334e-07, 0.9592303037643433, 7.194297602097777e-09, 3.110786224169715e-07, 8.870350939105265e-06, 0.0, 0.0, 0.0, 0.0, 0.0, 0.0, 0.0, 0.0, 0.0], [4.0412678758983134e-10, 3.245153711722848e-12, 3.1317050286361336e-08, 1.0440821818225032e-10, 0.0059128934517502785, 1.276418831741566e-10, 1.8339285361435032e-06, 4.174674148038626e-11, 1.7416969200212407e-08, 1.0474633427293156e-06, 8.673333162789731e-10, 0.994077205657959, 6.8362551246536896e-06, 1.6328208118920884e-07, 0.0, 0.0, 0.0, 0.0, 0.0, 0.0, 0.0, 0.0], [1.5698602737757028e-06, 0.0018012429354712367, 1.842737037804909e-05, 8.919859624256787e-07, 2.2380279460776364e-06, 7.913251920399489e-07, 4.7967565478757024e-05, 1.4989356031946954e-06, 0.9979363679885864, 6.290754390647635e-05, 9.411335781805974e-07, 5.376694389269687e-05, 2.8296437449171208e-05, 1.5937417629174888e-05, 2.7135036361869425e-05, 0.0, 0.0, 0.0, 0.0, 0.0, 0.0, 0.0], [4.717352553029741e-08, 0.00028355492395348847, 7.622371640536585e-07, 4.8898574078748425e-08, 4.62498164210956e-08, 1.005318210900441e-07, 3.54881967723486e-06, 5.2973817332713224e-08, 0.999661922454834, 4.402036665851483e-06, 4.304473932847941e-08, 5.238667199591873e-06, 1.3839138773619197e-05, 2.3650679850106826e-06, 5.495062850968679e-06, 1.847765815909952e-05, 0.0, 0.0, 0.0, 0.0, 0.0, 0.0], [2.048525686859648e-07, 4.1731237132580645e-08, 0.08958783745765686, 2.6399160901746654e-07, 2.8652331707235135e-07, 5.478308366946294e-07, 1.019586397887906e-05, 1.4369904022260016e-07, 1.2559223250718787e-05, 0.9102359414100647, 2.2367018459590327e-07, 1.3065679922874551e-05, 7.310045475605875e-05, 1.4674526937596966e-05, 5.323096047504805e-06, 4.494792301557027e-05, 7.603658218613418e-07, 0.0, 0.0, 0.0, 0.0, 0.0], [1.7758675312506966e-06, 1.8691086722810724e-07, 1.7035465134540573e-05, 0.6279696226119995, 1.3703289596378454e-06, 4.540570444078185e-06, 9.623693040339276e-05, 2.3787017653376097e-06, 5.198246435611509e-05, 0.00011658069706754759, 0.3703102767467499, 0.0001453110744478181, 0.0004920742358081043, 0.000313127733534202, 0.00013826948998030275, 0.00031008297810330987, 4.60703631688375e-06, 2.4634831788716838e-05, 0.0, 0.0, 0.0, 0.0], [4.367185432729848e-12, 1.5745979823830747e-12, 2.7385688161629673e-10, 1.933508214646551e-11, 0.00014482339611276984, 7.421471770463484e-11, 4.6509473605738094e-08, 1.195064099762666e-11, 1.1562668156273048e-08, 7.288714964914789e-09, 5.321119846829481e-12, 0.9998549222946167, 1.5689178667344095e-07, 2.828916478847532e-08, 5.323615326346953e-09, 2.710463142818753e-08, 9.938435491241293e-11, 2.5380102464112042e-09, 2.2365426843862224e-08, 0.0, 0.0, 0.0], [1.8878648644360396e-13, 2.7883528412641148e-14, 1.3424337162726285e-11, 1.357858378688015e-12, 3.0986132171402503e-13, 5.4500855185324326e-05, 4.697576994061592e-09, 7.09872427766961e-13, 3.178761975863864e-10, 4.4145029298725547e-10, 1.7403540089090674e-13, 1.4048728846915992e-09, 0.9999455213546753, 1.0784347637127212e-08, 1.7762610271532253e-09, 1.947718208938909e-09, 1.5202360854546515e-12, 6.148257597482498e-11, 3.233220080556265e-10, 3.190434721966895e-11, 0.0, 0.0], [0.001208660425618291, 0.0024559772573411465, 0.001447811140678823, 0.0028214138001203537, 8.023398549994454e-05, 0.010081522166728973, 0.0014447172870859504, 0.002278177300468087, 0.006411940790712833, 0.0020508943125605583, 0.0011120764538645744, 0.00033427943708375096, 0.01115388609468937, 0.01770155504345894, 0.7901705503463745, 0.14071795344352722, 0.0015670581487938762, 0.0018801158294081688, 0.0015014098025858402, 0.0008612038218416274, 0.0027185643557459116, 0.0], [0.012222038581967354, 0.0045784842222929, 0.02246727980673313, 0.0682152807712555, 0.0242172759026289, 0.019897812977433205, 0.034751713275909424, 0.008224578574299812, 0.048754263669252396, 0.04518736153841019, 0.08223216980695724, 0.08226848393678665, 0.1702718436717987, 0.06517928093671799, 0.052518755197525024, 0.08246926963329315, 0.011701398529112339, 0.025415688753128052, 0.07985144853591919, 0.04091055318713188, 0.012968066148459911, 0.005696919746696949]], [[1.0, 0.0, 0.0, 0.0, 0.0, 0.0, 0.0, 0.0, 0.0, 0.0, 0.0, 0.0, 0.0, 0.0, 0.0, 0.0, 0.0, 0.0, 0.0, 0.0, 0.0, 0.0], [0.9431581497192383, 0.056841835379600525, 0.0, 0.0, 0.0, 0.0, 0.0, 0.0, 0.0, 0.0, 0.0, 0.0, 0.0, 0.0, 0.0, 0.0, 0.0, 0.0, 0.0, 0.0, 0.0, 0.0], [0.15518641471862793, 0.8274158835411072, 0.01739766076207161, 0.0, 0.0, 0.0, 0.0, 0.0, 0.0, 0.0, 0.0, 0.0, 0.0, 0.0, 0.0, 0.0, 0.0, 0.0, 0.0, 0.0, 0.0, 0.0], [0.0033206972293555737, 0.001963929273188114, 0.0033778755459934473, 0.9913374185562134, 0.0, 0.0, 0.0, 0.0, 0.0, 0.0, 0.0, 0.0, 0.0, 0.0, 0.0, 0.0, 0.0, 0.0, 0.0, 0.0, 0.0, 0.0], [0.021663496270775795, 0.15648667514324188, 0.006498682778328657, 0.0030997374560683966, 0.8122513890266418, 0.0, 0.0, 0.0, 0.0, 0.0, 0.0, 0.0, 0.0, 0.0, 0.0, 0.0, 0.0, 0.0, 0.0, 0.0, 0.0, 0.0], [0.003450966440141201, 0.0026441821828484535, 0.03564264625310898, 0.0044062077067792416, 0.0003735974314622581, 0.953482449054718, 0.0, 0.0, 0.0, 0.0, 0.0, 0.0, 0.0, 0.0, 0.0, 0.0, 0.0, 0.0, 0.0, 0.0, 0.0, 0.0], [0.45503902435302734, 0.141451895236969, 0.1048566922545433, 0.09725882858037949, 0.09787790477275848, 0.08149584382772446, 0.022019876167178154, 0.0, 0.0, 0.0, 0.0, 0.0, 0.0, 0.0, 0.0, 0.0, 0.0, 0.0, 0.0, 0.0, 0.0, 0.0], [0.08964028209447861, 0.42414021492004395, 0.06244419887661934, 0.10912051796913147, 0.02710711397230625, 0.05061384290456772, 0.13047121465206146, 0.10646266490221024, 0.0, 0.0, 0.0, 0.0, 0.0, 0.0, 0.0, 0.0, 0.0, 0.0, 0.0, 0.0, 0.0, 0.0], [0.40069448947906494, 0.147884801030159, 0.03255828469991684, 0.012329088523983955, 0.022052360698580742, 0.007525010500103235, 0.022079680114984512, 0.3270030617713928, 0.027873236685991287, 0.0, 0.0, 0.0, 0.0, 0.0, 0.0, 0.0, 0.0, 0.0, 0.0, 0.0, 0.0, 0.0], [3.4043750929413363e-06, 0.011186660267412663, 4.807636287296191e-06, 6.439177923311945e-06, 4.547378921415657e-06, 1.08385065686889e-05, 0.00012294908810872585, 1.42299877552432e-05, 0.9886268973350525, 1.919353599078022e-05, 0.0, 0.0, 0.0, 0.0, 0.0, 0.0, 0.0, 0.0, 0.0, 0.0, 0.0, 0.0], [3.2206082778429845e-06, 5.28580301306647e-07, 3.711823592311703e-05, 0.7822728753089905, 1.8448314449415193e-06, 1.556831193738617e-05, 0.0008443991537205875, 6.519409907923546e-06, 0.00016994817997328937, 0.00018375813669990748, 0.21646417677402496, 0.0, 0.0, 0.0, 0.0, 0.0, 0.0, 0.0, 0.0, 0.0, 0.0, 0.0], [6.122750743908778e-12, 9.165038519776125e-13, 6.260402751756544e-10, 2.958326292268332e-11, 0.00011611314403126016, 6.458337337145181e-11, 7.450076822124174e-08, 2.7618686851416108e-11, 1.4851210039523721e-08, 1.690399820120092e-08, 5.7562257911591974e-12, 0.999883770942688, 0.0, 0.0, 0.0, 0.0, 0.0, 0.0, 0.0, 0.0, 0.0, 0.0], [2.628477213661995e-09, 8.883593860531391e-10, 0.048524998128414154, 3.740384357797666e-08, 1.926739656710197e-09, 8.183755539903359e-08, 5.140434950590134e-06, 8.214183999655233e-09, 8.280464953713818e-07, 0.9514602422714233, 6.808524855017595e-09, 8.402236630900006e-07, 7.742515663267113e-06, 0.0, 0.0, 0.0, 0.0, 0.0, 0.0, 0.0, 0.0, 0.0], [6.353547153495714e-17, 6.312764088728583e-18, 2.7136831600186803e-14, 2.8312169435599187e-15, 7.051217090158049e-17, 3.796166538450052e-06, 4.136198328286156e-11, 9.344057721921207e-16, 6.8530233571229004e-12, 1.9132462541343598e-12, 2.488323395193038e-16, 7.196880678211892e-12, 0.9999961853027344, 6.891572815886926e-12, 0.0, 0.0, 0.0, 0.0, 0.0, 0.0, 0.0, 0.0], [8.104385051410645e-05, 0.0002277480816701427, 0.0002132972003892064, 8.560768765164539e-05, 5.736016828450374e-05, 9.777003288036212e-05, 0.9727822542190552, 4.309718497097492e-05, 0.00032690135412849486, 0.0003187644178979099, 7.674921653233469e-05, 8.876681386027485e-05, 0.00018737674690783024, 0.02537420764565468, 3.904616824002005e-05, 0.0, 0.0, 0.0, 0.0, 0.0, 0.0, 0.0], [0.38179895281791687, 0.0022137451451271772, 1.6706382666598074e-05, 0.0001292915258090943, 6.129636312834918e-05, 6.189216946950182e-05, 5.457421593746403e-06, 0.6147111058235168, 5.1111390348523855e-05, 2.7031685476686107e-06, 7.741340959910303e-05, 2.6216714104521088e-05, 9.830139333644183e-07, 7.635042129550129e-05, 0.00040089391404762864, 0.0003658566274680197, 0.0, 0.0, 0.0, 0.0, 0.0, 0.0], [5.607480488833971e-07, 0.9739989638328552, 8.081285329808452e-08, 7.958110472827684e-07, 1.616482876443115e-07, 4.1158602925861487e-07, 1.3046800404481473e-06, 1.556473876007658e-06, 0.025986410677433014, 5.685663939658525e-09, 3.4519285918577225e-07, 8.773675119755353e-08, 1.8941308521647215e-09, 5.827110953759984e-07, 5.472438260767376e-06, 1.8983473637490533e-06, 1.32415959797072e-06, 0.0, 0.0, 0.0, 0.0, 0.0], [0.00023687050270382315, 0.015763571485877037, 0.8395543694496155, 0.00018874736269935966, 2.8235162972123362e-05, 0.0001155452337116003, 0.0002645676431711763, 0.00046203858801163733, 0.00015618023462593555, 0.1410251259803772, 6.299531378317624e-05, 1.4679732885269914e-05, 6.926966307219118e-07, 0.00030466538737528026, 0.001177883124910295, 0.00044604038703255355, 0.00014962205023039132, 4.821839684154838e-05, 0.0, 0.0, 0.0, 0.0], [2.568839227024e-05, 0.000944906088989228, 2.7615781164058717e-06, 0.6942590475082397, 7.2685829763941e-06, 2.111176036123652e-05, 1.402487851009937e-05, 3.680253939819522e-05, 9.323383892478887e-06, 2.2207949257335713e-07, 0.3044736087322235, 7.657651622139383e-06, 2.5738219733284495e-07, 1.7527168893138878e-05, 0.00013209092139732093, 2.0643527022912167e-05, 2.4965833290480077e-05, 1.1262950465606991e-06, 9.346811111754505e-07, 0.0, 0.0, 0.0], [7.48552120057866e-05, 0.003423750400543213, 1.0700025995902251e-05, 9.413818770553917e-05, 0.48735854029655457, 3.684578405227512e-05, 0.00010744728206191212, 0.00011458796507213265, 4.6645312977489084e-05, 1.2134740927649545e-06, 5.3512532758759335e-05, 0.5079178810119629, 9.363543540530372e-07, 6.769038736820221e-05, 0.00041976477950811386, 0.00010980947990901768, 0.0001264825405087322, 1.5352432455983944e-05, 1.7809462633522344e-06, 1.8039125279756263e-05, 0.0, 0.0], [0.00020853060414083302, 0.007761930115520954, 5.4022661061026156e-05, 0.0004477722104638815, 0.00016482292267028242, 0.9270185232162476, 0.0002828270080499351, 0.0003594123700167984, 0.00022284231090452522, 5.369831342250109e-06, 0.0002798127825371921, 0.0001191924893646501, 0.054349515587091446, 0.0004145114216953516, 0.003366190707311034, 0.0002736045280471444, 0.00020305141515564173, 5.922052150708623e-05, 5.781997060694266e-06, 4.9081401812145486e-05, 0.004353959113359451, 0.0], [0.009510134346783161, 0.031113503500819206, 0.013095354661345482, 0.0976656898856163, 0.03506092727184296, 0.019248800352215767, 0.03600221127271652, 0.014823423698544502, 0.0879485011100769, 0.01689617708325386, 0.06166786327958107, 0.1640397310256958, 0.04221987724304199, 0.03551661968231201, 0.043342240154743195, 0.08323152363300323, 0.023144887760281563, 0.0349750891327858, 0.045779451727867126, 0.034353356808423996, 0.04259888455271721, 0.027765734121203423]], [[1.0, 0.0, 0.0, 0.0, 0.0, 0.0, 0.0, 0.0, 0.0, 0.0, 0.0, 0.0, 0.0, 0.0, 0.0, 0.0, 0.0, 0.0, 0.0, 0.0, 0.0, 0.0], [0.8605460524559021, 0.1394539177417755, 0.0, 0.0, 0.0, 0.0, 0.0, 0.0, 0.0, 0.0, 0.0, 0.0, 0.0, 0.0, 0.0, 0.0, 0.0, 0.0, 0.0, 0.0, 0.0, 0.0], [0.04198936000466347, 0.7676064372062683, 0.1904042363166809, 0.0, 0.0, 0.0, 0.0, 0.0, 0.0, 0.0, 0.0, 0.0, 0.0, 0.0, 0.0, 0.0, 0.0, 0.0, 0.0, 0.0, 0.0, 0.0], [0.03130938112735748, 0.04449421912431717, 0.03902401775121689, 0.885172426700592, 0.0, 0.0, 0.0, 0.0, 0.0, 0.0, 0.0, 0.0, 0.0, 0.0, 0.0, 0.0, 0.0, 0.0, 0.0, 0.0, 0.0, 0.0], [0.07143143564462662, 0.28839924931526184, 0.10225489735603333, 0.03825467452406883, 0.49965983629226685, 0.0, 0.0, 0.0, 0.0, 0.0, 0.0, 0.0, 0.0, 0.0, 0.0, 0.0, 0.0, 0.0, 0.0, 0.0, 0.0, 0.0], [0.03491891175508499, 0.058309346437454224, 0.05493546277284622, 0.08339646458625793, 0.10200955718755722, 0.6664302349090576, 0.0, 0.0, 0.0, 0.0, 0.0, 0.0, 0.0, 0.0, 0.0, 0.0, 0.0, 0.0, 0.0, 0.0, 0.0, 0.0], [0.0010595984058454633, 0.005175374913960695, 0.005829086992889643, 0.005521266255527735, 0.004665805026888847, 0.011475678533315659, 0.9662730693817139, 0.0, 0.0, 0.0, 0.0, 0.0, 0.0, 0.0, 0.0, 0.0, 0.0, 0.0, 0.0, 0.0, 0.0, 0.0], [0.02866147831082344, 0.07475059479475021, 0.12826982140541077, 0.5463794469833374, 0.09315790235996246, 0.05288238078355789, 0.05701074376702309, 0.01888764277100563, 0.0, 0.0, 0.0, 0.0, 0.0, 0.0, 0.0, 0.0, 0.0, 0.0, 0.0, 0.0, 0.0, 0.0], [0.04204048961400986, 0.011598795652389526, 0.7606397271156311, 0.056428492069244385, 0.05522531643509865, 0.01740485057234764, 0.0117140281945467, 0.033474426716566086, 0.01147387083619833, 0.0, 0.0, 0.0, 0.0, 0.0, 0.0, 0.0, 0.0, 0.0, 0.0, 0.0, 0.0, 0.0], [0.00377669814042747, 0.010810473933815956, 0.02424025349318981, 0.01902819238603115, 0.005346259567886591, 0.017330177128314972, 0.8758864402770996, 0.004662156570702791, 0.010164734907448292, 0.028754569590091705, 0.0, 0.0, 0.0, 0.0, 0.0, 0.0, 0.0, 0.0, 0.0, 0.0, 0.0, 0.0], [0.009249833412468433, 0.015295205637812614, 0.01837775856256485, 0.12763361632823944, 0.029852505773305893, 0.04283630847930908, 0.5741079449653625, 0.008012724108994007, 0.008846581913530827, 0.019765418022871017, 0.14602209627628326, 0.0, 0.0, 0.0, 0.0, 0.0, 0.0, 0.0, 0.0, 0.0, 0.0, 0.0], [0.012557837180793285, 0.016198135912418365, 0.011480935849249363, 0.019764985889196396, 0.2373637706041336, 0.031996093690395355, 0.1920783668756485, 0.028174595907330513, 0.010828186757862568, 0.009405998513102531, 0.010753902606666088, 0.4193972647190094, 0.0, 0.0, 0.0, 0.0, 0.0, 0.0, 0.0, 0.0, 0.0, 0.0], [0.005346333608031273, 0.008492616936564445, 0.03609220311045647, 0.01148357056081295, 0.0088602090254426, 0.02207876369357109, 0.8014103174209595, 0.007635647431015968, 0.006989140994846821, 0.04611767828464508, 0.009455407038331032, 0.010718421079218388, 0.025319663807749748, 0.0, 0.0, 0.0, 0.0, 0.0, 0.0, 0.0, 0.0, 0.0], [0.008082675747573376, 0.021805599331855774, 0.010891848243772984, 0.01766834408044815, 0.007586128078401089, 0.11924382299184799, 0.3039133548736572, 0.014275661669671535, 0.017573658376932144, 0.009461034089326859, 0.010224360972642899, 0.013605142012238503, 0.12271161377429962, 0.32295680046081543, 0.0, 0.0, 0.0, 0.0, 0.0, 0.0, 0.0, 0.0], [0.5565479397773743, 2.2579462893190794e-05, 0.00030822117696516216, 3.757504964596592e-05, 7.167962758103386e-05, 7.086878758855164e-05, 0.00012358887761365622, 0.43606507778167725, 0.000700929609593004, 0.0007905265665613115, 5.135938772582449e-05, 0.0005688125384040177, 0.0031675887294113636, 0.0004197055532131344, 0.0010535112814977765, 0.0, 0.0, 0.0, 0.0, 0.0, 0.0, 0.0], [0.6293411254882812, 0.0008487452287226915, 0.0036300206556916237, 0.0008936086087487638, 0.001854901434853673, 0.0012398360995575786, 0.00034457904985174537, 0.3438849449157715, 0.0017666127532720566, 0.006125978194177151, 0.0017522465204820037, 0.00099633214995265, 0.004033972043544054, 0.0009100614697672427, 0.0011319165350869298, 0.0012450391659513116, 0.0, 0.0, 0.0, 0.0, 0.0, 0.0], [0.001163460430689156, 0.051660194993019104, 0.00237028650008142, 0.00021878436382394284, 0.0009108585654757917, 0.00038584088906645775, 0.0008781513897702098, 0.0005243276827968657, 0.9338887333869934, 0.0036926590837538242, 0.0006496635032817721, 0.0005931564955972135, 0.0016410949174314737, 0.0002903254935517907, 0.0004891413846053183, 0.00019090210844296962, 0.00045240792678669095, 0.0, 0.0, 0.0, 0.0, 0.0], [0.00013698592374566942, 1.9392437025089748e-05, 0.3118157386779785, 7.583205297123641e-05, 0.00024361461692024022, 6.506418867502362e-05, 0.000270408287178725, 4.728931526187807e-05, 0.0001692812511464581, 0.6857784390449524, 0.00017997757822740823, 0.00015485500625800341, 0.0003207694389857352, 0.00014098592509981245, 0.00010348635260015726, 3.683506656670943e-05, 4.1429040720686316e-05, 0.0003996140439994633, 0.0, 0.0, 0.0, 0.0], [0.0006486905622296035, 7.258722325786948e-05, 0.0031498323660343885, 0.2664918601512909, 0.0008395324111916125, 0.000304295914247632, 0.004610621370375156, 0.00021153772831894457, 0.0003787421155720949, 0.0066986591555178165, 0.7103190422058105, 0.0010081020882353187, 0.0014875164488330483, 0.000531989149749279, 0.0004144384292885661, 0.00011883697152370587, 0.0001633371430216357, 0.0005581499426625669, 0.0019922007340937853, 0.0, 0.0, 0.0], [0.000445084908278659, 4.5942517317598686e-05, 0.0013628756860271096, 0.00021257811749819666, 0.4838821291923523, 0.0001918155758175999, 0.001658413908444345, 0.00014946571900509298, 0.0003383149451110512, 0.003654458560049534, 0.0009122159681282938, 0.5011013150215149, 0.0021436782553792, 0.0006743649137206376, 0.0006724171107634902, 5.676769796991721e-05, 0.0001720265281619504, 0.000494590844027698, 0.0009983229683712125, 0.0008332760771736503, 0.0, 0.0], [0.00014748233661521226, 3.651046063168906e-05, 0.00032584459404461086, 6.906025373609737e-05, 0.00030279855127446353, 0.03766878321766853, 0.0011068409075960517, 5.8264427934773266e-05, 0.00018120960157830268, 0.0006088742520660162, 0.00018626700330059975, 0.0002954245137516409, 0.9557621479034424, 0.0017278118757531047, 0.00029311043908819556, 2.8568189009092748e-05, 4.6631324948975816e-05, 0.0002177565620513633, 0.0005424474948085845, 0.00034348093322478235, 5.064491415396333e-05, 0.0], [0.04089305177330971, 0.057131849229335785, 0.038343481719493866, 0.03187975287437439, 0.03903457149863243, 0.04963391274213791, 0.06579674035310745, 0.031403083354234695, 0.05485113337635994, 0.041785310953855515, 0.04875440523028374, 0.028829339891672134, 0.0846894383430481, 0.049169961363077164, 0.03746507689356804, 0.03289170563220978, 0.03353416919708252, 0.0435008741915226, 0.05949011817574501, 0.04896632954478264, 0.04515654593706131, 0.03679921105504036]], [[1.0, 0.0, 0.0, 0.0, 0.0, 0.0, 0.0, 0.0, 0.0, 0.0, 0.0, 0.0, 0.0, 0.0, 0.0, 0.0, 0.0, 0.0, 0.0, 0.0, 0.0, 0.0], [0.11061704903841019, 0.8893828988075256, 0.0, 0.0, 0.0, 0.0, 0.0, 0.0, 0.0, 0.0, 0.0, 0.0, 0.0, 0.0, 0.0, 0.0, 0.0, 0.0, 0.0, 0.0, 0.0, 0.0], [0.011866701766848564, 0.03745274990797043, 0.9506806135177612, 0.0, 0.0, 0.0, 0.0, 0.0, 0.0, 0.0, 0.0, 0.0, 0.0, 0.0, 0.0, 0.0, 0.0, 0.0, 0.0, 0.0, 0.0, 0.0], [0.010941815562546253, 0.03858198970556259, 0.9078284502029419, 0.042647749185562134, 0.0, 0.0, 0.0, 0.0, 0.0, 0.0, 0.0, 0.0, 0.0, 0.0, 0.0, 0.0, 0.0, 0.0, 0.0, 0.0, 0.0, 0.0], [0.023247340694069862, 0.054501499980688095, 0.8588508367538452, 0.03504345566034317, 0.028356852009892464, 0.0, 0.0, 0.0, 0.0, 0.0, 0.0, 0.0, 0.0, 0.0, 0.0, 0.0, 0.0, 0.0, 0.0, 0.0, 0.0, 0.0], [0.01878337748348713, 0.03686393424868584, 0.08429840207099915, 0.11368893831968307, 0.6491504311561584, 0.0972149446606636, 0.0, 0.0, 0.0, 0.0, 0.0, 0.0, 0.0, 0.0, 0.0, 0.0, 0.0, 0.0, 0.0, 0.0, 0.0, 0.0], [0.06876689195632935, 0.058875590562820435, 0.07866822928190231, 0.134242445230484, 0.33651208877563477, 0.22821705043315887, 0.09471775591373444, 0.0, 0.0, 0.0, 0.0, 0.0, 0.0, 0.0, 0.0, 0.0, 0.0, 0.0, 0.0, 0.0, 0.0, 0.0], [0.03994547575712204, 0.12332262098789215, 0.13788865506649017, 0.1605309695005417, 0.10286365449428558, 0.3327752947807312, 0.03016791120171547, 0.07250546663999557, 0.0, 0.0, 0.0, 0.0, 0.0, 0.0, 0.0, 0.0, 0.0, 0.0, 0.0, 0.0, 0.0, 0.0], [0.06297221034765244, 0.12399373203516006, 0.046583157032728195, 0.06943610310554504, 0.08751603215932846, 0.12215734273195267, 0.09318534284830093, 0.05113031715154648, 0.34302574396133423, 0.0, 0.0, 0.0, 0.0, 0.0, 0.0, 0.0, 0.0, 0.0, 0.0, 0.0, 0.0, 0.0], [0.020909257233142853, 0.0076376646757125854, 0.009966567158699036, 0.012014730833470821, 0.014542179182171822, 0.013305234722793102, 0.7151699066162109, 0.024434372782707214, 0.052300967276096344, 0.12971913814544678, 0.0, 0.0, 0.0, 0.0, 0.0, 0.0, 0.0, 0.0, 0.0, 0.0, 0.0, 0.0], [0.014836534857749939, 0.01217574067413807, 0.006256326101720333, 0.009856808930635452, 0.010039830580353737, 0.014895690605044365, 0.6983693838119507, 0.058627307415008545, 0.049006953835487366, 0.06649762392044067, 0.05943772569298744, 0.0, 0.0, 0.0, 0.0, 0.0, 0.0, 0.0, 0.0, 0.0, 0.0, 0.0], [0.08030392974615097, 0.026442645117640495, 0.019075823947787285, 0.01258652750402689, 0.027073107659816742, 0.025721732527017593, 0.42179957032203674, 0.07057303190231323, 0.13057464361190796, 0.07136528193950653, 0.05299561470746994, 0.061488110572099686, 0.0, 0.0, 0.0, 0.0, 0.0, 0.0, 0.0, 0.0, 0.0, 0.0], [0.01535975281149149, 0.008920462802052498, 0.003351842751726508, 0.007635094691067934, 0.017494551837444305, 0.014044307172298431, 0.6263772249221802, 0.042149610817432404, 0.028111111372709274, 0.08708027005195618, 0.02703999914228916, 0.04746882990002632, 0.07496698200702667, 0.0, 0.0, 0.0, 0.0, 0.0, 0.0, 0.0, 0.0, 0.0], [0.0005503505235537887, 0.00016672705532982945, 0.0002447045990265906, 0.00015343584527727216, 0.0003914000408258289, 0.00019344552129041404, 0.011166230775415897, 0.9781191349029541, 0.001681537483818829, 0.0013660397380590439, 0.0005904085701331496, 0.0006331960903480649, 0.0003954838903155178, 0.0043480247259140015, 0.0, 0.0, 0.0, 0.0, 0.0, 0.0, 0.0, 0.0], [0.006887554656714201, 0.0025705366861075163, 0.0013358955038711429, 0.001969529315829277, 0.003806695342063904, 0.003101976588368416, 0.03964484855532646, 0.02184435911476612, 0.008788992650806904, 0.004920380190014839, 0.00835617445409298, 0.0058427671901881695, 0.010505333542823792, 0.017062772065401077, 0.8633621335029602, 0.0, 0.0, 0.0, 0.0, 0.0, 0.0, 0.0], [0.00710652768611908, 0.0074042584747076035, 0.0037430005613714457, 0.005134678911417723, 0.006355844438076019, 0.0061622015200555325, 0.11420878767967224, 0.0191506240516901, 0.1521432250738144, 0.01841822639107704, 0.012181969359517097, 0.021272774785757065, 0.02071339823305607, 0.3546878695487976, 0.246907040476799, 0.004409560933709145, 0.0, 0.0, 0.0, 0.0, 0.0, 0.0], [0.007112381048500538, 0.005828392691910267, 0.003474624827504158, 0.004693828988820314, 0.007139761466532946, 0.009794057346880436, 0.33360281586647034, 0.02170148305594921, 0.04533993825316429, 0.09456758946180344, 0.020244445651769638, 0.0289723202586174, 0.018182983621954918, 0.08727016299962997, 0.2816043794155121, 0.0016893594292923808, 0.028781460598111153, 0.0, 0.0, 0.0, 0.0, 0.0], [0.0090339295566082, 0.005425448529422283, 0.0036988286301493645, 0.003678906476125121, 0.004316011909395456, 0.005620048381388187, 0.33022961020469666, 0.019732892513275146, 0.023395711556077003, 0.02562626264989376, 0.032638464123010635, 0.02408011630177498, 0.02450805902481079, 0.06773047149181366, 0.3826231360435486, 0.0019790458027273417, 0.01724209263920784, 0.018441004678606987, 0.0, 0.0, 0.0, 0.0], [0.0034477089066058397, 0.0031640534289181232, 0.0026953842025250196, 0.002537050051614642, 0.002563516376540065, 0.0027682464569807053, 0.34352898597717285, 0.009617970325052738, 0.022289477288722992, 0.022981438785791397, 0.018874861299991608, 0.11185429245233536, 0.021401623263955116, 0.10400789976119995, 0.29738059639930725, 0.001345562282949686, 0.009843125939369202, 0.013070872984826565, 0.006627439521253109, 0.0, 0.0, 0.0], [0.0018249788554385304, 0.0015106697101145983, 0.0041988142766058445, 0.0025083194486796856, 0.0032669820357114077, 0.0031424162443727255, 0.45688241720199585, 0.00824807956814766, 0.007838117890059948, 0.010294756852090359, 0.005304977763444185, 0.011713228188455105, 0.11025083065032959, 0.04433642700314522, 0.30744045972824097, 0.0008737925090827048, 0.005580916069447994, 0.00764883030205965, 0.003826587926596403, 0.003308412618935108, 0.0, 0.0], [0.007962494157254696, 0.005636279005557299, 0.009950922802090645, 0.0066789910197257996, 0.013358998112380505, 0.009403304196894169, 0.277059406042099, 0.021349089220166206, 0.018511440604925156, 0.031072556972503662, 0.01448851078748703, 0.01653427630662918, 0.0832304060459137, 0.0795513167977333, 0.3283306062221527, 0.004518928471952677, 0.019544469192624092, 0.01808268204331398, 0.012010693550109863, 0.00727625610306859, 0.015448450110852718, 0.0], [0.02415486052632332, 0.025756746530532837, 0.0693451389670372, 0.020138025283813477, 0.03279459848999977, 0.027848567813634872, 0.061644185334444046, 0.048247452825307846, 0.04575203359127045, 0.07263630628585815, 0.05426730588078499, 0.04393618181347847, 0.02643529698252678, 0.04968063533306122, 0.06929214298725128, 0.04917231947183609, 0.034320004284381866, 0.061363447457551956, 0.04204423353075981, 0.03096255473792553, 0.056368518620729446, 0.05383940041065216]]]}\n",
              "    )\n",
              "    </script>"
            ]
          },
          "metadata": {}
        },
        {
          "output_type": "display_data",
          "data": {
            "text/plain": [
              "<circuitsvis.utils.render.RenderedHTML at 0x7aa38759bdc0>"
            ],
            "text/html": [
              "<div id=\"circuits-vis-f5e0da58-aab5\" style=\"margin: 15px 0;\"/>\n",
              "    <script crossorigin type=\"module\">\n",
              "    import { render, AttentionPatterns } from \"https://unpkg.com/circuitsvis@1.43.2/dist/cdn/esm.js\";\n",
              "    render(\n",
              "      \"circuits-vis-f5e0da58-aab5\",\n",
              "      AttentionPatterns,\n",
              "      {\"tokens\": [\"2\", \"9\", \"4\", \"8\", \"0\", \"0\", \"11\", \"2\", \"9\", \"5\", \"1\", \"0\", \"0\", \"12\", \"11\", \"0\", \"0\", \"0\", \"0\", \"3\", \"0\", \"0\"], \"attention\": [[[1.0, 0.0, 0.0, 0.0, 0.0, 0.0, 0.0, 0.0, 0.0, 0.0, 0.0, 0.0, 0.0, 0.0, 0.0, 0.0, 0.0, 0.0, 0.0, 0.0, 0.0, 0.0], [0.70834881067276, 0.2916512191295624, 0.0, 0.0, 0.0, 0.0, 0.0, 0.0, 0.0, 0.0, 0.0, 0.0, 0.0, 0.0, 0.0, 0.0, 0.0, 0.0, 0.0, 0.0, 0.0, 0.0], [0.4393485188484192, 0.13343565165996552, 0.4272158443927765, 0.0, 0.0, 0.0, 0.0, 0.0, 0.0, 0.0, 0.0, 0.0, 0.0, 0.0, 0.0, 0.0, 0.0, 0.0, 0.0, 0.0, 0.0, 0.0], [0.189986452460289, 0.0510965958237648, 0.30881091952323914, 0.45010602474212646, 0.0, 0.0, 0.0, 0.0, 0.0, 0.0, 0.0, 0.0, 0.0, 0.0, 0.0, 0.0, 0.0, 0.0, 0.0, 0.0, 0.0, 0.0], [0.3318246901035309, 0.1405036747455597, 0.1674066036939621, 0.11434116214513779, 0.24592383205890656, 0.0, 0.0, 0.0, 0.0, 0.0, 0.0, 0.0, 0.0, 0.0, 0.0, 0.0, 0.0, 0.0, 0.0, 0.0, 0.0, 0.0], [0.23463861644268036, 0.08127033710479736, 0.15128351747989655, 0.12210557609796524, 0.12197339534759521, 0.2887285053730011, 0.0, 0.0, 0.0, 0.0, 0.0, 0.0, 0.0, 0.0, 0.0, 0.0, 0.0, 0.0, 0.0, 0.0, 0.0, 0.0], [0.018757501617074013, 0.0362577810883522, 0.01065496914088726, 0.008313325233757496, 0.01537669263780117, 0.009659121744334698, 0.9009807109832764, 0.0, 0.0, 0.0, 0.0, 0.0, 0.0, 0.0, 0.0, 0.0, 0.0, 0.0, 0.0, 0.0, 0.0, 0.0], [0.19424784183502197, 0.07683616876602173, 0.1990499198436737, 0.14204111695289612, 0.15051698684692383, 0.20383599400520325, 0.00019339224672876298, 0.033278562128543854, 0.0, 0.0, 0.0, 0.0, 0.0, 0.0, 0.0, 0.0, 0.0, 0.0, 0.0, 0.0, 0.0, 0.0], [0.10705097764730453, 0.07151322066783905, 0.10505339503288269, 0.07778602093458176, 0.11913033574819565, 0.08148340880870819, 0.024699650704860687, 0.049589335918426514, 0.36369362473487854, 0.0, 0.0, 0.0, 0.0, 0.0, 0.0, 0.0, 0.0, 0.0, 0.0, 0.0, 0.0, 0.0], [0.2612617313861847, 0.11141674220561981, 0.1628611534833908, 0.10963715612888336, 0.05091826990246773, 0.07095436006784439, 0.0058722482062876225, 0.04354386031627655, 0.08179523795843124, 0.10173922777175903, 0.0, 0.0, 0.0, 0.0, 0.0, 0.0, 0.0, 0.0, 0.0, 0.0, 0.0, 0.0], [0.06801968812942505, 0.0734410509467125, 0.060576871037483215, 0.06332669407129288, 0.09792672097682953, 0.06231400743126869, 0.19374434649944305, 0.06414945423603058, 0.08245749026536942, 0.10508832335472107, 0.12895528972148895, 0.0, 0.0, 0.0, 0.0, 0.0, 0.0, 0.0, 0.0, 0.0, 0.0, 0.0], [0.06713131815195084, 0.06845199316740036, 0.05233513563871384, 0.05356007069349289, 0.07669183611869812, 0.22841331362724304, 0.0021091175731271505, 0.0785910114645958, 0.027205640450119972, 0.2969803214073181, 0.009670539759099483, 0.03885970264673233, 0.0, 0.0, 0.0, 0.0, 0.0, 0.0, 0.0, 0.0, 0.0, 0.0], [0.13026931881904602, 0.06429512798786163, 0.0464986190199852, 0.05154747515916824, 0.05052604153752327, 0.03554804250597954, 0.11277904361486435, 0.022216839715838432, 0.0679919645190239, 0.024794377386569977, 0.17692352831363678, 0.06452012062072754, 0.1520894467830658, 0.0, 0.0, 0.0, 0.0, 0.0, 0.0, 0.0, 0.0, 0.0], [0.01258684229105711, 0.008220452815294266, 0.0022115965839475393, 0.00046887705684639513, 0.001486426335759461, 0.0016274447552859783, 0.0008234073175117373, 0.0025118947960436344, 0.007633637171238661, 0.9348433017730713, 0.00047270642244257033, 0.002614656463265419, 0.022088512778282166, 0.002410322427749634, 0.0, 0.0, 0.0, 0.0, 0.0, 0.0, 0.0, 0.0], [0.11889763921499252, 0.039024531841278076, 0.05252434313297272, 0.013969305902719498, 0.024468472227454185, 0.01605338416993618, 0.06803689152002335, 0.026381026953458786, 0.04775730147957802, 0.41045328974723816, 0.01244988664984703, 0.015997987240552902, 0.07225669920444489, 0.015859192237257957, 0.06587009131908417, 0.0, 0.0, 0.0, 0.0, 0.0, 0.0, 0.0], [0.3549879789352417, 0.08148791640996933, 0.02251771092414856, 0.007250221911817789, 0.012066096998751163, 0.005576295778155327, 0.10406611114740372, 0.007193525787442923, 0.06901580095291138, 0.12715445458889008, 0.016594238579273224, 0.028471216559410095, 0.05407673865556717, 0.02330203540623188, 0.01993369311094284, 0.0663059875369072, 0.0, 0.0, 0.0, 0.0, 0.0, 0.0], [0.027552854269742966, 0.007989146746695042, 0.02781681902706623, 0.018312055617570877, 0.006133677903562784, 0.009166579693555832, 0.008344979956746101, 0.007115859072655439, 0.01727559044957161, 0.02494458667933941, 0.005623111966997385, 0.0037955662701278925, 0.04927109181880951, 0.0034332587383687496, 0.6593086123466492, 0.015642130747437477, 0.108273945748806, 0.0, 0.0, 0.0, 0.0, 0.0], [0.000459101254818961, 0.0005797368939965963, 0.0002610880765132606, 0.00017716446018312126, 0.00046725544962100685, 0.00010073975136037916, 0.9927029609680176, 0.0004885080270469189, 0.0008678878657519817, 0.00013809574011247605, 0.001295616035349667, 0.00036769802682101727, 0.00016871521074790508, 0.0006544317584484816, 1.7152342479676008e-05, 3.766732334042899e-05, 1.818400778574869e-05, 0.0011979216942563653, 0.0, 0.0, 0.0, 0.0], [0.0032335883006453514, 0.0025614146143198013, 0.00046999819460324943, 0.0003810287162195891, 0.0017726715886965394, 0.0003403902519494295, 0.9819951057434082, 0.0007615358335897326, 0.0009358647512272, 0.00035345193464308977, 0.0017684182384982705, 0.0008381424704566598, 0.00021159753669053316, 0.0008228336810134351, 0.0006635762401856482, 0.00012536751455627382, 3.282918987679295e-05, 0.0012519170995801687, 0.0014802336227148771, 0.0, 0.0, 0.0], [0.0093105873093009, 0.006258204113692045, 0.005247956607490778, 0.008526706136763096, 0.012479261495172977, 0.0273722093552351, 0.000347383989719674, 0.00609518913552165, 0.003284663427621126, 0.007936599664390087, 0.005118590779602528, 0.008013549260795116, 0.012252655811607838, 0.006597989238798618, 0.4716321527957916, 0.013790999539196491, 0.030272698029875755, 0.013664585538208485, 0.011754072271287441, 0.34004390239715576, 0.0, 0.0], [0.03320477902889252, 0.010175886563956738, 0.013260352425277233, 0.011970890685915947, 0.007180824875831604, 0.02701687626540661, 0.0004430425469763577, 0.009026110172271729, 0.00787676963955164, 0.04951729625463486, 0.0014070579782128334, 0.0042463322170078754, 0.013945765793323517, 0.005132009275257587, 0.5069540739059448, 0.06005192548036575, 0.0486210361123085, 0.004714496899396181, 0.0045013828203082085, 0.10060373693704605, 0.080149345099926, 0.0], [0.01447226945310831, 0.004352643620222807, 0.009225757792592049, 0.008314087055623531, 0.010011184960603714, 0.014888637699186802, 6.23493324383162e-05, 0.0022428566589951515, 0.0065679787658154964, 0.011342542245984077, 0.015511727891862392, 0.020280927419662476, 0.05350881069898605, 0.006373077630996704, 0.05173703283071518, 0.016468219459056854, 0.16188538074493408, 0.07090480625629425, 0.013257748447358608, 0.40854185819625854, 0.05295009911060333, 0.0471000075340271]], [[1.0, 0.0, 0.0, 0.0, 0.0, 0.0, 0.0, 0.0, 0.0, 0.0, 0.0, 0.0, 0.0, 0.0, 0.0, 0.0, 0.0, 0.0, 0.0, 0.0, 0.0, 0.0], [0.6372390389442444, 0.3627609610557556, 0.0, 0.0, 0.0, 0.0, 0.0, 0.0, 0.0, 0.0, 0.0, 0.0, 0.0, 0.0, 0.0, 0.0, 0.0, 0.0, 0.0, 0.0, 0.0, 0.0], [0.5558767318725586, 0.27817681431770325, 0.16594646871089935, 0.0, 0.0, 0.0, 0.0, 0.0, 0.0, 0.0, 0.0, 0.0, 0.0, 0.0, 0.0, 0.0, 0.0, 0.0, 0.0, 0.0, 0.0, 0.0], [0.35640788078308105, 0.2273900955915451, 0.2070104330778122, 0.20919157564640045, 0.0, 0.0, 0.0, 0.0, 0.0, 0.0, 0.0, 0.0, 0.0, 0.0, 0.0, 0.0, 0.0, 0.0, 0.0, 0.0, 0.0, 0.0], [0.49809515476226807, 0.17386256158351898, 0.05990493670105934, 0.037492841482162476, 0.23064447939395905, 0.0, 0.0, 0.0, 0.0, 0.0, 0.0, 0.0, 0.0, 0.0, 0.0, 0.0, 0.0, 0.0, 0.0, 0.0, 0.0, 0.0], [0.27365949749946594, 0.17157934606075287, 0.10109267383813858, 0.07204068452119827, 0.20444992184638977, 0.17717783153057098, 0.0, 0.0, 0.0, 0.0, 0.0, 0.0, 0.0, 0.0, 0.0, 0.0, 0.0, 0.0, 0.0, 0.0, 0.0, 0.0], [0.0016072398284450173, 0.0008933560457080603, 0.0004462209763005376, 0.00031550353742204607, 0.0008155308314599097, 0.0008123440202325583, 0.9951097369194031, 0.0, 0.0, 0.0, 0.0, 0.0, 0.0, 0.0, 0.0, 0.0, 0.0, 0.0, 0.0, 0.0, 0.0, 0.0], [0.1879725456237793, 0.13718287646770477, 0.09547455608844757, 0.06092371046543121, 0.22315841913223267, 0.13324308395385742, 0.052879683673381805, 0.10916513204574585, 0.0, 0.0, 0.0, 0.0, 0.0, 0.0, 0.0, 0.0, 0.0, 0.0, 0.0, 0.0, 0.0, 0.0], [0.003633537795394659, 0.0016935061430558562, 0.00043756954255513847, 0.00017534791550133377, 0.0007632538327015936, 0.0007690992788411677, 0.9900122284889221, 0.0017598854610696435, 0.0007555300835520029, 0.0, 0.0, 0.0, 0.0, 0.0, 0.0, 0.0, 0.0, 0.0, 0.0, 0.0, 0.0, 0.0], [0.0227736197412014, 0.11211895942687988, 0.28549647331237793, 0.1793210804462433, 0.06145184859633446, 0.13364355266094208, 0.0009066527709364891, 0.06704813987016678, 0.04088221490383148, 0.09635743498802185, 0.0, 0.0, 0.0, 0.0, 0.0, 0.0, 0.0, 0.0, 0.0, 0.0, 0.0, 0.0], [0.002147283172234893, 0.00044309982331469655, 0.00016380730085074902, 0.00012625916860997677, 0.000585886009503156, 0.0003328497987240553, 0.9927659034729004, 0.0010580214438959956, 0.0006054391851648688, 1.0939890671579633e-05, 0.0017605419270694256, 0.0, 0.0, 0.0, 0.0, 0.0, 0.0, 0.0, 0.0, 0.0, 0.0, 0.0], [0.047153640538454056, 0.08375586569309235, 0.13928474485874176, 0.23847177624702454, 0.09984417259693146, 0.17338727414608002, 0.00027107089408673346, 0.061012886464595795, 0.015706321224570274, 0.01588144153356552, 0.012950297445058823, 0.1122804805636406, 0.0, 0.0, 0.0, 0.0, 0.0, 0.0, 0.0, 0.0, 0.0, 0.0], [0.0668022632598877, 0.0904431864619255, 0.09905724972486496, 0.08356652408838272, 0.10396594554185867, 0.13378921151161194, 0.1833125203847885, 0.10974708944559097, 0.06760277599096298, 0.024117648601531982, 0.012482385151088238, 0.006657078396528959, 0.018456153571605682, 0.0, 0.0, 0.0, 0.0, 0.0, 0.0, 0.0, 0.0, 0.0], [0.209756001830101, 0.14807090163230896, 0.08672506362199783, 0.07169594615697861, 0.09623575955629349, 0.13123680651187897, 0.04624950885772705, 0.06637685745954514, 0.038699403405189514, 0.01913069374859333, 0.013425836339592934, 0.01846301555633545, 0.01938255876302719, 0.03455165773630142, 0.0, 0.0, 0.0, 0.0, 0.0, 0.0, 0.0, 0.0], [0.02921280823647976, 0.020845074206590652, 0.026452571153640747, 0.017527714371681213, 0.025038940832018852, 0.02606656588613987, 0.3579433262348175, 0.036353737115859985, 0.04768068343400955, 0.14109520614147186, 0.042045608162879944, 0.019873155280947685, 0.16171355545520782, 0.033311277627944946, 0.014839768409729004, 0.0, 0.0, 0.0, 0.0, 0.0, 0.0, 0.0], [0.025435244664549828, 0.017859896644949913, 0.006484866142272949, 0.0026938996743410826, 0.0038518744986504316, 0.006317778490483761, 0.8502717018127441, 0.011147543787956238, 0.01931126043200493, 0.01577000319957733, 0.004940598737448454, 0.0015607302775606513, 0.011381050571799278, 0.006618746090680361, 0.0035815287847071886, 0.01277325302362442, 0.0, 0.0, 0.0, 0.0, 0.0, 0.0], [0.005511652212589979, 0.0015818618703633547, 0.0006888274219818413, 0.00036784366238862276, 0.0010924708331003785, 0.0012390039628371596, 0.9785186052322388, 0.0016404566122218966, 0.002156921662390232, 0.0007782899774610996, 0.002437005518004298, 0.0001115624763770029, 0.0012270984007045627, 0.0011998863192275167, 0.00015328435983974487, 0.00036131145316176116, 0.000933843373786658, 0.0, 0.0, 0.0, 0.0, 0.0], [6.156830636427912e-07, 9.257330191303481e-08, 1.534922056123378e-08, 1.1934575994132501e-08, 1.0452162513274743e-07, 7.3968642766431e-08, 0.9999539852142334, 5.361972057471576e-07, 2.0313677850936074e-06, 1.9023052288957842e-07, 3.8200243579922244e-05, 9.021040625611931e-08, 9.836786603045766e-07, 2.7465930543257855e-06, 4.434637986688861e-12, 1.723992681945674e-08, 1.0867120181501377e-07, 2.237160146023598e-07, 0.0, 0.0, 0.0, 0.0], [1.449141200282611e-05, 3.190775032635429e-06, 6.201671567396261e-07, 4.25882802801425e-07, 2.370398078710423e-06, 1.5668720152461901e-06, 0.9996968507766724, 9.688518730399664e-06, 2.5400377126061358e-05, 3.5593259326560656e-06, 0.00018622084462549537, 2.3256170607055537e-06, 7.647223355888855e-06, 3.154453952447511e-05, 3.914479851374608e-09, 1.0820941724887234e-06, 2.3873019472375745e-06, 4.346710284153232e-06, 6.337201739370357e-06, 0.0, 0.0, 0.0], [0.021769676357507706, 0.024875110015273094, 0.027723567560315132, 0.025803454220294952, 0.036451466381549835, 0.03213874623179436, 0.002160712843760848, 0.018727242946624756, 0.008196774870157242, 0.011713623069226742, 0.005401373375207186, 0.017739642411470413, 0.006592385470867157, 0.02329549379646778, 0.6114936470985413, 0.022827845066785812, 0.018890200182795525, 0.013307580724358559, 0.024037916213274002, 0.04685350880026817, 0.0, 0.0], [0.016359921544790268, 0.006921863649040461, 0.003531174035742879, 0.0019056133460253477, 0.005699387285858393, 0.005484174005687237, 0.9058221578598022, 0.009368060156702995, 0.008022851310670376, 0.0007587017607875168, 0.008333610370755196, 0.00041572534246370196, 0.0013761641457676888, 0.005573804955929518, 0.0022677388042211533, 0.0011016832431778312, 0.0017411067383363843, 0.003908317536115646, 0.002856452250853181, 0.0002308568946318701, 0.008320622146129608, 0.0], [0.0794837698340416, 0.05782517045736313, 0.041460901498794556, 0.03053649328649044, 0.07060297578573227, 0.04937836527824402, 0.003682886017486453, 0.03119054064154625, 0.0051302737556397915, 0.0004853002028539777, 0.0012546705547720194, 0.0005630080122500658, 0.0009236409096047282, 0.0031055689323693514, 0.6005860567092896, 0.004380074329674244, 0.003117686603218317, 0.0047669787891209126, 0.002738447394222021, 0.001890119630843401, 0.00508198793977499, 0.0018150989199057221]], [[1.0, 0.0, 0.0, 0.0, 0.0, 0.0, 0.0, 0.0, 0.0, 0.0, 0.0, 0.0, 0.0, 0.0, 0.0, 0.0, 0.0, 0.0, 0.0, 0.0, 0.0, 0.0], [0.6682437062263489, 0.3317562937736511, 0.0, 0.0, 0.0, 0.0, 0.0, 0.0, 0.0, 0.0, 0.0, 0.0, 0.0, 0.0, 0.0, 0.0, 0.0, 0.0, 0.0, 0.0, 0.0, 0.0], [0.013197936117649078, 0.07482997328042984, 0.9119720458984375, 0.0, 0.0, 0.0, 0.0, 0.0, 0.0, 0.0, 0.0, 0.0, 0.0, 0.0, 0.0, 0.0, 0.0, 0.0, 0.0, 0.0, 0.0, 0.0], [0.10750432312488556, 0.10708796977996826, 0.23336438834667206, 0.5520432591438293, 0.0, 0.0, 0.0, 0.0, 0.0, 0.0, 0.0, 0.0, 0.0, 0.0, 0.0, 0.0, 0.0, 0.0, 0.0, 0.0, 0.0, 0.0], [0.06838986277580261, 0.10610787570476532, 0.18568946421146393, 0.2907492518424988, 0.34906357526779175, 0.0, 0.0, 0.0, 0.0, 0.0, 0.0, 0.0, 0.0, 0.0, 0.0, 0.0, 0.0, 0.0, 0.0, 0.0, 0.0, 0.0], [0.1872396618127823, 0.13350197672843933, 0.1535359025001526, 0.12817542254924774, 0.1677800416946411, 0.22976700961589813, 0.0, 0.0, 0.0, 0.0, 0.0, 0.0, 0.0, 0.0, 0.0, 0.0, 0.0, 0.0, 0.0, 0.0, 0.0, 0.0], [0.21552792191505432, 0.09691908955574036, 0.05761964991688728, 0.03592037037014961, 0.04333297535777092, 0.05709007382392883, 0.49358996748924255, 0.0, 0.0, 0.0, 0.0, 0.0, 0.0, 0.0, 0.0, 0.0, 0.0, 0.0, 0.0, 0.0, 0.0, 0.0], [0.16068796813488007, 0.09715262800455093, 0.1574094593524933, 0.07986588776111603, 0.05229198560118675, 0.03280734270811081, 0.3224663734436035, 0.09731835871934891, 0.0, 0.0, 0.0, 0.0, 0.0, 0.0, 0.0, 0.0, 0.0, 0.0, 0.0, 0.0, 0.0, 0.0], [0.10616026073694229, 0.05719763785600662, 0.10243922472000122, 0.15796849131584167, 0.12055671215057373, 0.08899712562561035, 0.10751380771398544, 0.17186661064624786, 0.0873001217842102, 0.0, 0.0, 0.0, 0.0, 0.0, 0.0, 0.0, 0.0, 0.0, 0.0, 0.0, 0.0, 0.0], [2.2229829482967034e-05, 0.0009717491338960826, 0.004684677347540855, 0.00012813897046726197, 5.315800808602944e-05, 7.902491233835462e-06, 2.7944940939050866e-06, 0.00018231630383525044, 0.0022111213766038418, 0.9917358756065369, 0.0, 0.0, 0.0, 0.0, 0.0, 0.0, 0.0, 0.0, 0.0, 0.0, 0.0, 0.0], [0.1612691432237625, 0.04799218475818634, 0.012845401652157307, 0.016985269263386726, 0.02910616435110569, 0.027428988367319107, 0.6294160485267639, 0.015201626345515251, 0.034398287534713745, 0.0013714861124753952, 0.02398534119129181, 0.0, 0.0, 0.0, 0.0, 0.0, 0.0, 0.0, 0.0, 0.0, 0.0, 0.0], [0.29165560007095337, 0.044430769979953766, 0.009249333292245865, 0.007700074929744005, 0.014826490543782711, 0.01874813623726368, 0.5711613297462463, 0.008307186886668205, 0.03156869113445282, 0.0008182994788512588, 0.0006321772234514356, 0.0009018909768201411, 0.0, 0.0, 0.0, 0.0, 0.0, 0.0, 0.0, 0.0, 0.0, 0.0], [0.000725848542060703, 0.0037749006878584623, 0.006468775682151318, 0.004584250506013632, 0.001362206181511283, 0.00034557926119305193, 0.026376621797680855, 0.0036580595187842846, 0.0076041873544454575, 0.012607885524630547, 0.01268660370260477, 0.00041480231448076665, 0.9193902015686035, 0.0, 0.0, 0.0, 0.0, 0.0, 0.0, 0.0, 0.0, 0.0], [0.7764245867729187, 0.13899153470993042, 0.02299836091697216, 0.0024934669490903616, 0.005669783800840378, 0.007373012602329254, 0.0029578660614788532, 0.003240456571802497, 0.029503654688596725, 0.010030116885900497, 3.373229219505447e-06, 3.20664476021193e-05, 2.657785989867989e-05, 0.0002551339566707611, 0.0, 0.0, 0.0, 0.0, 0.0, 0.0, 0.0, 0.0], [0.031896207481622696, 0.0968020036816597, 0.18469040095806122, 0.07778801023960114, 0.10808625817298889, 0.057961128652095795, 0.053647805005311966, 0.08060495555400848, 0.12687283754348755, 0.02327883243560791, 0.000776805856730789, 0.001461111824028194, 0.003684581257402897, 0.0018303839024156332, 0.15061870217323303, 0.0, 0.0, 0.0, 0.0, 0.0, 0.0, 0.0], [1.217539761455555e-06, 4.261744470568374e-05, 0.00013149023288860917, 1.7279053281527013e-06, 4.1514402937536943e-07, 1.7900916304824932e-07, 1.1780869613176037e-07, 5.799336122436216e-06, 0.00011460603127488866, 0.8805421590805054, 9.679165913212273e-09, 4.459544289403539e-09, 0.0009171587880700827, 5.1236703768609004e-09, 0.0007749376236461103, 0.11746754497289658, 0.0, 0.0, 0.0, 0.0, 0.0, 0.0], [4.9018621211871505e-05, 0.001241931808181107, 0.004649817012250423, 0.0014353470178321004, 0.00029918053769506514, 7.17481889296323e-05, 0.0018158653983846307, 0.0017838201019912958, 0.00286119501106441, 0.02200801484286785, 0.0008102467400021851, 3.36069570039399e-05, 0.8904597163200378, 2.2052308850106783e-06, 6.678268618998118e-06, 0.00525076687335968, 0.06722080707550049, 0.0, 0.0, 0.0, 0.0, 0.0], [7.157117215683684e-05, 5.089866681373678e-05, 4.707810512627475e-05, 0.00046528340317308903, 0.0005666245124302804, 0.0002415372582618147, 0.0005672998377121985, 0.0002942757564596832, 4.694096787716262e-05, 2.0019913790747523e-05, 0.9208248257637024, 0.06875787675380707, 0.0021030129864811897, 0.003914811182767153, 7.387804998870706e-06, 1.8366419681115076e-05, 0.00029582733986899257, 0.001706342794932425, 0.0, 0.0, 0.0, 0.0], [0.005334626417607069, 0.012866299599409103, 0.0071158334612846375, 0.0032033410388976336, 0.008062601089477539, 0.010816551744937897, 0.005838414654135704, 0.00511451018974185, 0.010716058313846588, 0.0018164332723245025, 2.8000305974273942e-05, 0.00018732719763647765, 5.740505457652034e-06, 0.007098776753991842, 0.8979628086090088, 0.01872873492538929, 0.00010199928510701284, 0.0003309933817945421, 0.004670970141887665, 0.0, 0.0, 0.0], [0.002787633566185832, 0.007392014842480421, 0.0029272001702338457, 0.0012384885922074318, 0.0017547738971188664, 0.0033859091345220804, 0.965025007724762, 0.0030098846182227135, 0.012006023898720741, 3.4210668673040345e-05, 7.281243483703292e-07, 2.03396234610409e-06, 1.3561656487581786e-05, 2.6622266886988655e-05, 9.99977346509695e-05, 0.00016198435332626104, 3.334540087962523e-05, 1.2790190339728724e-05, 5.731578312406782e-06, 8.211590466089547e-05, 0.0, 0.0], [0.0054755848832428455, 0.015536760911345482, 0.009966219775378704, 0.0033139234874397516, 0.01522339228540659, 0.03402954339981079, 0.006489426828920841, 0.007212451193481684, 0.016175806522369385, 0.002410576678812504, 7.512715910706902e-06, 8.119569247355685e-05, 1.5902780432952568e-05, 0.0019558013882488012, 0.8039145469665527, 0.02368713542819023, 0.0002685025683604181, 0.00023139968106988817, 0.0008902125409804285, 0.0011485957074910402, 0.051965516060590744, 0.0], [0.04683688282966614, 0.07525044679641724, 0.06873006373643875, 0.014371712692081928, 0.010454301722347736, 0.010456345975399017, 0.5848280787467957, 0.020960712805390358, 0.1425025314092636, 0.003755793208256364, 1.6942476577241905e-05, 1.72004056366859e-05, 0.0003783411520998925, 9.591558045940474e-05, 0.006672579329460859, 0.010457727126777172, 0.0023474153131246567, 0.0008995963726192713, 0.00010914892482105643, 0.000224913761485368, 0.0003866409824695438, 0.00024663470685482025]], [[1.0, 0.0, 0.0, 0.0, 0.0, 0.0, 0.0, 0.0, 0.0, 0.0, 0.0, 0.0, 0.0, 0.0, 0.0, 0.0, 0.0, 0.0, 0.0, 0.0, 0.0, 0.0], [0.3948633670806885, 0.6051366329193115, 0.0, 0.0, 0.0, 0.0, 0.0, 0.0, 0.0, 0.0, 0.0, 0.0, 0.0, 0.0, 0.0, 0.0, 0.0, 0.0, 0.0, 0.0, 0.0, 0.0], [0.7548491954803467, 0.11251941323280334, 0.1326313614845276, 0.0, 0.0, 0.0, 0.0, 0.0, 0.0, 0.0, 0.0, 0.0, 0.0, 0.0, 0.0, 0.0, 0.0, 0.0, 0.0, 0.0, 0.0, 0.0], [0.7552453279495239, 0.07091010361909866, 0.023135654628276825, 0.15070883929729462, 0.0, 0.0, 0.0, 0.0, 0.0, 0.0, 0.0, 0.0, 0.0, 0.0, 0.0, 0.0, 0.0, 0.0, 0.0, 0.0, 0.0, 0.0], [0.7772839665412903, 0.08445186913013458, 0.014616423286497593, 0.04965600743889809, 0.07399176806211472, 0.0, 0.0, 0.0, 0.0, 0.0, 0.0, 0.0, 0.0, 0.0, 0.0, 0.0, 0.0, 0.0, 0.0, 0.0, 0.0, 0.0], [0.5260775685310364, 0.1083708181977272, 0.019546572118997574, 0.033165235072374344, 0.059198349714279175, 0.2536414563655853, 0.0, 0.0, 0.0, 0.0, 0.0, 0.0, 0.0, 0.0, 0.0, 0.0, 0.0, 0.0, 0.0, 0.0, 0.0, 0.0], [0.24239365756511688, 0.07371433079242706, 0.059609826654195786, 0.09824468195438385, 0.11724236607551575, 0.24488334357738495, 0.1639118790626526, 0.0, 0.0, 0.0, 0.0, 0.0, 0.0, 0.0, 0.0, 0.0, 0.0, 0.0, 0.0, 0.0, 0.0, 0.0], [0.12600046396255493, 0.03149590268731117, 0.035194266587495804, 0.1614331603050232, 0.10368631035089493, 0.16192716360092163, 0.15661971271038055, 0.22364291548728943, 0.0, 0.0, 0.0, 0.0, 0.0, 0.0, 0.0, 0.0, 0.0, 0.0, 0.0, 0.0, 0.0, 0.0], [0.045090433210134506, 0.019382867962121964, 0.01272462960332632, 0.13322828710079193, 0.3489207327365875, 0.26846975088119507, 0.0271458700299263, 0.11459089070558548, 0.030446499586105347, 0.0, 0.0, 0.0, 0.0, 0.0, 0.0, 0.0, 0.0, 0.0, 0.0, 0.0, 0.0, 0.0], [2.6543768399278633e-05, 9.43168779485859e-05, 0.0002353297604713589, 1.8216960597783327e-05, 1.4105827176535968e-05, 1.3504484286386287e-06, 4.567830910673365e-05, 3.967873635701835e-05, 6.833174847997725e-05, 0.9994564652442932, 0.0, 0.0, 0.0, 0.0, 0.0, 0.0, 0.0, 0.0, 0.0, 0.0, 0.0, 0.0], [0.2999498248100281, 0.06700367480516434, 0.006478231865912676, 0.018331194296479225, 0.02232743613421917, 0.047800786793231964, 0.4476940333843231, 0.029082823544740677, 0.030072703957557678, 0.0013851921539753675, 0.029874153435230255, 0.0, 0.0, 0.0, 0.0, 0.0, 0.0, 0.0, 0.0, 0.0, 0.0, 0.0], [0.18917666375637054, 0.08280694484710693, 0.010050066746771336, 0.011817796155810356, 0.011312232352793217, 0.025579161942005157, 0.5584791898727417, 0.02744302526116371, 0.03310127183794975, 0.016875745728611946, 0.009618429467082024, 0.023739410564303398, 0.0, 0.0, 0.0, 0.0, 0.0, 0.0, 0.0, 0.0, 0.0, 0.0], [0.0004311287484597415, 0.00029089770396240056, 0.00021863411529920995, 0.00019881365005858243, 0.00024625740479677916, 4.081630686414428e-05, 0.0002522850118111819, 0.00018875337264034897, 0.0010576735949143767, 0.04551342502236366, 0.0869329422712326, 0.050685178488492966, 0.8139431476593018, 0.0, 0.0, 0.0, 0.0, 0.0, 0.0, 0.0, 0.0, 0.0], [0.2505619525909424, 0.02065192721784115, 0.0071012163534760475, 0.006298755295574665, 0.002191573614254594, 0.015313736163079739, 0.5155240297317505, 0.01777537912130356, 0.01322910562157631, 0.04461565241217613, 0.0008640085579827428, 0.0016471237177029252, 0.0003442188026383519, 0.10388130694627762, 0.0, 0.0, 0.0, 0.0, 0.0, 0.0, 0.0, 0.0], [0.02073226310312748, 0.01072150468826294, 0.0064449249766767025, 0.0022895506117492914, 0.002880821004509926, 0.0034126031678169966, 0.03109615668654442, 0.0059584216214716434, 0.008165937848389149, 0.5717117786407471, 0.006788222119212151, 0.0174114853143692, 0.06321876496076584, 0.014962343499064445, 0.2342052161693573, 0.0, 0.0, 0.0, 0.0, 0.0, 0.0, 0.0], [1.8107029973180033e-06, 3.042887101400993e-06, 2.4155774553946685e-06, 1.579046937649764e-07, 2.874469373637112e-07, 5.890369081384961e-08, 4.16144257542328e-06, 9.00586371699319e-07, 2.8439858397177886e-06, 0.9679784774780273, 1.956700907612685e-05, 5.932518615736626e-05, 0.019619528204202652, 6.398830691978219e-07, 0.004597307648509741, 0.007709544152021408, 0.0, 0.0, 0.0, 0.0, 0.0, 0.0], [8.234741108026356e-05, 3.858743002638221e-05, 1.5813338904990815e-05, 4.0432798414258286e-05, 8.485587750328705e-05, 1.0904322152782697e-05, 4.1873037844197825e-05, 3.56037744495552e-05, 6.941624451428652e-05, 0.0034294198267161846, 0.3638806641101837, 0.19339218735694885, 0.3892744481563568, 0.0001757306745275855, 2.34886902035214e-05, 0.0025904052890837193, 0.04681381210684776, 0.0, 0.0, 0.0, 0.0, 0.0], [0.00013973016757518053, 3.513514093356207e-05, 8.970717317424715e-06, 0.00024220820341724902, 0.0008207199280150235, 0.0004449309781193733, 9.682138625066727e-05, 0.0001803955528885126, 1.2050391887896694e-05, 4.230440481478581e-06, 0.5710387825965881, 0.4210359454154968, 0.0005250356043688953, 0.0033378673251718283, 0.00016458726895507425, 1.8489969079382718e-05, 0.00046478325384669006, 0.0014292465057224035, 0.0, 0.0, 0.0, 0.0], [7.978265784913674e-05, 4.175126741756685e-05, 1.631430131965317e-05, 8.882570000423584e-06, 1.7465741620981134e-05, 3.186818867106922e-05, 0.0006329042371362448, 3.711416502483189e-05, 6.113938070484437e-06, 0.0001816212898120284, 2.7408543701312738e-06, 3.149718031636439e-05, 8.414889975938422e-07, 0.00019063412037212402, 0.9982948899269104, 0.0001690055796643719, 2.106601641571615e-05, 7.052174623822793e-06, 0.0002284446090925485, 0.0, 0.0, 0.0], [0.16667677462100983, 0.05337979644536972, 0.005173190962523222, 0.004155189264565706, 0.009845281951129436, 0.03447956219315529, 0.22973695397377014, 0.007520342245697975, 0.032027021050453186, 0.0131178954616189, 0.002057315083220601, 0.020660433918237686, 0.0015198665205389261, 0.1369657963514328, 0.03495412319898605, 0.11705512553453445, 0.013740256428718567, 0.0007498094928450882, 0.012697017751634121, 0.10348830372095108, 0.0, 0.0], [0.0158433485776186, 0.005184173583984375, 0.0006650702562183142, 0.0005001415265724063, 0.001353895990177989, 0.012931352481245995, 0.03166075795888901, 0.0013212405610829592, 0.0008438217337243259, 0.001987534575164318, 0.0001631999184610322, 0.0006487640785053372, 3.373764775460586e-05, 0.01860892027616501, 0.22641314566135406, 0.007764115463942289, 0.0005982976290397346, 0.00010433614806970581, 0.0023886938579380512, 0.004149184096604586, 0.6668362617492676, 0.0], [0.05496425926685333, 0.00929989293217659, 0.0018488432979211211, 0.0027634978760033846, 0.001259590731933713, 0.003746995935216546, 0.03764962777495384, 0.005728064104914665, 0.0035723354667425156, 0.011029339395463467, 0.0037298290990293026, 0.004854832775890827, 0.0011926305014640093, 0.04100920632481575, 0.6728557348251343, 0.09409596771001816, 0.011645888909697533, 0.0017115400405600667, 0.006681911647319794, 0.005128065124154091, 0.021496394649147987, 0.003735597711056471]]]}\n",
              "    )\n",
              "    </script>"
            ]
          },
          "metadata": {}
        },
        {
          "output_type": "display_data",
          "data": {
            "text/plain": [
              "<circuitsvis.utils.render.RenderedHTML at 0x7aa38759bdc0>"
            ],
            "text/html": [
              "<div id=\"circuits-vis-01ed067e-cd60\" style=\"margin: 15px 0;\"/>\n",
              "    <script crossorigin type=\"module\">\n",
              "    import { render, AttentionPatterns } from \"https://unpkg.com/circuitsvis@1.43.2/dist/cdn/esm.js\";\n",
              "    render(\n",
              "      \"circuits-vis-01ed067e-cd60\",\n",
              "      AttentionPatterns,\n",
              "      {\"tokens\": [\"2\", \"9\", \"4\", \"8\", \"0\", \"0\", \"11\", \"2\", \"9\", \"5\", \"1\", \"0\", \"0\", \"12\", \"11\", \"0\", \"0\", \"0\", \"0\", \"3\", \"0\", \"0\"], \"attention\": [[[1.0, 0.0, 0.0, 0.0, 0.0, 0.0, 0.0, 0.0, 0.0, 0.0, 0.0, 0.0, 0.0, 0.0, 0.0, 0.0, 0.0, 0.0, 0.0, 0.0, 0.0, 0.0], [0.8883259892463684, 0.11167406290769577, 0.0, 0.0, 0.0, 0.0, 0.0, 0.0, 0.0, 0.0, 0.0, 0.0, 0.0, 0.0, 0.0, 0.0, 0.0, 0.0, 0.0, 0.0, 0.0, 0.0], [0.08118698000907898, 0.3676639199256897, 0.5511491298675537, 0.0, 0.0, 0.0, 0.0, 0.0, 0.0, 0.0, 0.0, 0.0, 0.0, 0.0, 0.0, 0.0, 0.0, 0.0, 0.0, 0.0, 0.0, 0.0], [0.05376235768198967, 0.3196774423122406, 0.28609469532966614, 0.3404654860496521, 0.0, 0.0, 0.0, 0.0, 0.0, 0.0, 0.0, 0.0, 0.0, 0.0, 0.0, 0.0, 0.0, 0.0, 0.0, 0.0, 0.0, 0.0], [0.029911436140537262, 0.20661839842796326, 0.19418437778949738, 0.22624298930168152, 0.34304279088974, 0.0, 0.0, 0.0, 0.0, 0.0, 0.0, 0.0, 0.0, 0.0, 0.0, 0.0, 0.0, 0.0, 0.0, 0.0, 0.0, 0.0], [0.08567586541175842, 0.1736764758825302, 0.1433156132698059, 0.16735567152500153, 0.20880451798439026, 0.22117185592651367, 0.0, 0.0, 0.0, 0.0, 0.0, 0.0, 0.0, 0.0, 0.0, 0.0, 0.0, 0.0, 0.0, 0.0, 0.0, 0.0], [0.2999145984649658, 0.04975719377398491, 0.09717941284179688, 0.09291131049394608, 0.0915178433060646, 0.04139643907546997, 0.3273232579231262, 0.0, 0.0, 0.0, 0.0, 0.0, 0.0, 0.0, 0.0, 0.0, 0.0, 0.0, 0.0, 0.0, 0.0, 0.0], [0.14793121814727783, 0.07571054250001907, 0.0650007501244545, 0.05735320225358009, 0.12138573825359344, 0.05030287802219391, 0.4106793999671936, 0.0716363862156868, 0.0, 0.0, 0.0, 0.0, 0.0, 0.0, 0.0, 0.0, 0.0, 0.0, 0.0, 0.0, 0.0, 0.0], [0.018455004319548607, 0.01062107365578413, 0.005156203173100948, 0.004399469122290611, 0.03052184358239174, 0.00402376102283597, 0.9054033160209656, 0.007933875545859337, 0.013485549949109554, 0.0, 0.0, 0.0, 0.0, 0.0, 0.0, 0.0, 0.0, 0.0, 0.0, 0.0, 0.0, 0.0], [0.006689399015158415, 0.001293664681725204, 0.005916760303080082, 0.003960158210247755, 0.002929983427748084, 0.0023681747261434793, 0.0001021097123157233, 0.002221373375505209, 0.0014786716783419251, 0.9730396866798401, 0.0, 0.0, 0.0, 0.0, 0.0, 0.0, 0.0, 0.0, 0.0, 0.0, 0.0, 0.0], [0.1329605132341385, 0.06779485940933228, 0.09244388341903687, 0.08226753771305084, 0.15355142951011658, 0.08050146698951721, 0.13075631856918335, 0.06602996587753296, 0.1193031445145607, 0.030546335503458977, 0.04384458065032959, 0.0, 0.0, 0.0, 0.0, 0.0, 0.0, 0.0, 0.0, 0.0, 0.0, 0.0], [0.20240239799022675, 0.047558315098285675, 0.06030714511871338, 0.03602755442261696, 0.060103416442871094, 0.03210872784256935, 0.05286723002791405, 0.02959633804857731, 0.019671812653541565, 0.37832677364349365, 0.008604106493294239, 0.07242615520954132, 0.0, 0.0, 0.0, 0.0, 0.0, 0.0, 0.0, 0.0, 0.0, 0.0], [0.007268886547535658, 0.00994943268597126, 0.032252080738544464, 0.025923117995262146, 0.013391093350946903, 0.021663516759872437, 0.7937672734260559, 0.03148447722196579, 0.04577130451798439, 0.0041062962263822556, 0.003273444017395377, 0.0007110915030352771, 0.01043801847845316, 0.0, 0.0, 0.0, 0.0, 0.0, 0.0, 0.0, 0.0, 0.0], [0.0035719142761081457, 3.38639656547457e-05, 8.482506382279098e-05, 4.0579754568170756e-05, 2.5227051082765684e-05, 3.593318979255855e-05, 0.0001894130400614813, 2.297306309628766e-05, 2.21494774450548e-05, 0.9886743426322937, 3.2305146305589005e-05, 2.891881922550965e-05, 0.005875083617866039, 0.0013624071143567562, 0.0, 0.0, 0.0, 0.0, 0.0, 0.0, 0.0, 0.0], [0.030618859454989433, 0.06941501051187515, 0.06293937563896179, 0.06322718411684036, 0.04281855747103691, 0.07096730172634125, 0.07015375792980194, 0.094632089138031, 0.06524018943309784, 0.18906418979167938, 0.033386390656232834, 0.013676466420292854, 0.024978265166282654, 0.10483217239379883, 0.06405021250247955, 0.0, 0.0, 0.0, 0.0, 0.0, 0.0, 0.0], [0.0002970162604469806, 4.169277599430643e-05, 0.0001732853997964412, 0.0001320364244747907, 6.981839396758005e-05, 6.391321949195117e-05, 4.030122727272101e-05, 9.464644244872034e-05, 5.714624057873152e-05, 0.9311761856079102, 0.0001298934657825157, 0.000246482522925362, 0.0002927703026216477, 0.00016703167057130486, 0.003200516803190112, 0.06381724029779434, 0.0, 0.0, 0.0, 0.0, 0.0, 0.0], [0.0005708579556085169, 0.0017757295863702893, 0.004713950678706169, 0.004694739822298288, 0.002775730099529028, 0.00426006643101573, 0.9588638544082642, 0.007712280843406916, 0.007012140471488237, 0.0033301902003586292, 0.0009730644524097443, 0.0002809677680488676, 0.0005063331918790936, 0.001202285522595048, 0.0002559355634730309, 0.0006740282406099141, 0.0003978346358053386, 0.0, 0.0, 0.0, 0.0, 0.0], [0.004666742403060198, 0.016939274966716766, 0.04219026863574982, 0.06090646609663963, 0.023223208263516426, 0.05058961734175682, 0.5502679944038391, 0.10215611755847931, 0.11780093610286713, 0.0009141970658674836, 0.015306895598769188, 0.0008653088007122278, 0.002731552580371499, 0.004107031039893627, 0.003209966467693448, 0.0006781311240047216, 0.0027833841741085052, 0.0006628382834605873, 0.0, 0.0, 0.0, 0.0], [0.02516595460474491, 0.006945750676095486, 0.008506585843861103, 0.009329227730631828, 0.010064647532999516, 0.009593021124601364, 0.00021055508113931865, 0.007362424395978451, 0.007708581630140543, 0.0872928649187088, 0.02776573970913887, 0.07670051604509354, 0.036294519901275635, 0.022287696599960327, 0.337805837392807, 0.08270884305238724, 0.02147708833217621, 0.16239033639431, 0.06038982421159744, 0.0, 0.0, 0.0], [0.011271202936768532, 0.040454935282468796, 0.01667090132832527, 0.018992451950907707, 0.0291689895093441, 0.035666726529598236, 0.6805623769760132, 0.036072131246328354, 0.03430505096912384, 0.00034851516829803586, 0.012035975232720375, 0.009664097800850868, 0.00634945509955287, 0.04193799942731857, 0.0023700862657278776, 0.0005990779609419405, 0.012937013059854507, 0.0015743132680654526, 0.0010870725382119417, 0.007931624539196491, 0.0, 0.0], [0.025263022631406784, 0.021364780142903328, 0.008997634053230286, 0.010058201849460602, 0.016206789761781693, 0.023541845381259918, 0.013401179574429989, 0.013748795725405216, 0.007449286058545113, 0.10493175685405731, 0.025454873219132423, 0.041703492403030396, 0.006186946295201778, 0.20711475610733032, 0.07044491916894913, 0.10765249282121658, 0.008389336057007313, 0.013727914541959763, 0.10042554140090942, 0.09726472944021225, 0.07667165249586105, 0.0], [0.01769639551639557, 0.03516492620110512, 0.01926991157233715, 0.024305138736963272, 0.043296366930007935, 0.03637300804257393, 0.4720032513141632, 0.03967193886637688, 0.060986947268247604, 0.0009914693655446172, 0.037211205810308456, 0.05670870840549469, 0.007877775467932224, 0.05510210990905762, 0.014687294140458107, 0.001540484605357051, 0.01203901506960392, 0.006834106054157019, 0.006701114121824503, 0.018060706555843353, 0.017041968181729317, 0.01643606275320053]], [[1.0, 0.0, 0.0, 0.0, 0.0, 0.0, 0.0, 0.0, 0.0, 0.0, 0.0, 0.0, 0.0, 0.0, 0.0, 0.0, 0.0, 0.0, 0.0, 0.0, 0.0, 0.0], [0.8735969066619873, 0.1264031082391739, 0.0, 0.0, 0.0, 0.0, 0.0, 0.0, 0.0, 0.0, 0.0, 0.0, 0.0, 0.0, 0.0, 0.0, 0.0, 0.0, 0.0, 0.0, 0.0, 0.0], [0.8399134874343872, 0.08703659474849701, 0.07305000722408295, 0.0, 0.0, 0.0, 0.0, 0.0, 0.0, 0.0, 0.0, 0.0, 0.0, 0.0, 0.0, 0.0, 0.0, 0.0, 0.0, 0.0, 0.0, 0.0], [0.6197030544281006, 0.17742857336997986, 0.13428853452205658, 0.06857986003160477, 0.0, 0.0, 0.0, 0.0, 0.0, 0.0, 0.0, 0.0, 0.0, 0.0, 0.0, 0.0, 0.0, 0.0, 0.0, 0.0, 0.0, 0.0], [0.7588241100311279, 0.10699311643838882, 0.06177271157503128, 0.03417548909783363, 0.038234516978263855, 0.0, 0.0, 0.0, 0.0, 0.0, 0.0, 0.0, 0.0, 0.0, 0.0, 0.0, 0.0, 0.0, 0.0, 0.0, 0.0, 0.0], [0.4824294149875641, 0.2214839607477188, 0.10153046250343323, 0.06784643977880478, 0.06006788834929466, 0.06664178520441055, 0.0, 0.0, 0.0, 0.0, 0.0, 0.0, 0.0, 0.0, 0.0, 0.0, 0.0, 0.0, 0.0, 0.0, 0.0, 0.0], [0.273703932762146, 0.07297681272029877, 0.10544935613870621, 0.07403530180454254, 0.05466006323695183, 0.0490986630320549, 0.37007594108581543, 0.0, 0.0, 0.0, 0.0, 0.0, 0.0, 0.0, 0.0, 0.0, 0.0, 0.0, 0.0, 0.0, 0.0, 0.0], [0.17700573801994324, 0.02304856665432453, 0.047230686992406845, 0.039254363626241684, 0.020202860236167908, 0.022011173889040947, 0.6571667194366455, 0.01407985482364893, 0.0, 0.0, 0.0, 0.0, 0.0, 0.0, 0.0, 0.0, 0.0, 0.0, 0.0, 0.0, 0.0, 0.0], [0.2016976773738861, 0.10726649314165115, 0.09112302958965302, 0.0710957869887352, 0.024594636633992195, 0.0335678905248642, 0.3954867124557495, 0.027367498725652695, 0.04780026897788048, 0.0, 0.0, 0.0, 0.0, 0.0, 0.0, 0.0, 0.0, 0.0, 0.0, 0.0, 0.0, 0.0], [3.220575672457926e-05, 1.0359659427194856e-05, 9.646120815887116e-06, 3.2688672035874333e-06, 1.582699223945383e-05, 3.949407982872799e-06, 0.9998552799224854, 1.2647691619349644e-05, 3.122272028122097e-05, 2.554168167989701e-05, 0.0, 0.0, 0.0, 0.0, 0.0, 0.0, 0.0, 0.0, 0.0, 0.0, 0.0, 0.0], [0.05373920500278473, 0.11236278712749481, 0.1120825782418251, 0.14652849733829498, 0.05714195966720581, 0.10024493932723999, 0.01356673613190651, 0.08007858693599701, 0.06316275894641876, 0.2358016073703766, 0.02529040165245533, 0.0, 0.0, 0.0, 0.0, 0.0, 0.0, 0.0, 0.0, 0.0, 0.0, 0.0], [0.06060085818171501, 0.02063078060746193, 0.010243847966194153, 0.009739904664456844, 0.004053645767271519, 0.006755331996828318, 0.0015322252875193954, 0.0049524130299687386, 0.004606468603014946, 0.8669015765190125, 0.0038471382576972246, 0.006135813891887665, 0.0, 0.0, 0.0, 0.0, 0.0, 0.0, 0.0, 0.0, 0.0, 0.0], [0.060848675668239594, 0.2204289734363556, 0.11797954142093658, 0.13661298155784607, 0.040678467601537704, 0.07808764278888702, 3.685633055283688e-05, 0.047390345484018326, 0.031991250813007355, 0.16502541303634644, 0.04023035615682602, 0.013519957661628723, 0.04716954380273819, 0.0, 0.0, 0.0, 0.0, 0.0, 0.0, 0.0, 0.0, 0.0], [0.09759426862001419, 2.9174736482673325e-05, 7.358264701906592e-05, 6.406215106835589e-05, 4.753617395181209e-05, 5.846653220942244e-05, 0.02221335843205452, 1.5789073586347513e-05, 3.397876207600348e-05, 0.7037368416786194, 7.222394197015092e-05, 0.0006336392252705991, 0.17214252054691315, 0.003284580772742629, 0.0, 0.0, 0.0, 0.0, 0.0, 0.0, 0.0, 0.0], [0.036604881286621094, 0.019101595506072044, 0.023977575823664665, 0.020044172182679176, 0.028739530593156815, 0.014591964893043041, 0.5133204460144043, 0.024232780560851097, 0.030316755175590515, 0.05059654265642166, 0.05362970381975174, 0.062140777707099915, 0.09464678168296814, 0.022746529430150986, 0.005309923551976681, 0.0, 0.0, 0.0, 0.0, 0.0, 0.0, 0.0], [6.5658632593113e-06, 2.3722288915450918e-06, 2.5121528324234532e-06, 7.692976851103595e-07, 3.929279955627862e-06, 7.270531341418973e-07, 0.9999290704727173, 2.6283735223842086e-06, 6.202145868883235e-06, 5.80107735004276e-06, 3.1558990940538934e-06, 5.664108357450459e-06, 2.9596742024295963e-05, 7.280245313268097e-07, 1.6203713926188357e-09, 2.9996522243891377e-07, 0.0, 0.0, 0.0, 0.0, 0.0, 0.0], [0.0009948455262929201, 0.0028825525660067797, 0.002636582124978304, 0.002819084795191884, 0.001413059188053012, 0.0013517489423975348, 9.789763680601027e-06, 0.001343154232017696, 0.0012182500213384628, 0.000819023756776005, 0.002123344922438264, 0.0006124869105406106, 0.009642533957958221, 0.0005498946411535144, 0.9571073055267334, 0.004245704039931297, 0.010230581276118755, 0.0, 0.0, 0.0, 0.0, 0.0], [0.00018173953867517412, 0.002107008593156934, 0.002833031816408038, 0.003892498090863228, 0.0021973829716444016, 0.0023800514172762632, 3.481454405118711e-05, 0.0028178789652884007, 0.001567051513120532, 0.0001620425609871745, 0.002236333442851901, 0.0007329487707465887, 0.0003354978107381612, 0.00016174843767657876, 0.9740666151046753, 0.0021256229374557734, 0.001049766899086535, 0.0011179737048223615, 0.0, 0.0, 0.0, 0.0], [3.851713699987158e-06, 6.231060979189351e-06, 7.5437264968059026e-06, 3.491783218123601e-06, 1.4585357348551042e-05, 3.991131961811334e-06, 0.9998835325241089, 1.536116724309977e-05, 2.3244117983267643e-05, 3.0413443710131105e-06, 3.5186026252631564e-06, 5.469029474625131e-06, 9.230324735653994e-07, 1.0755096582215629e-06, 1.0756931345667908e-08, 4.4646128571912413e-07, 3.963459676015191e-07, 3.786061142818653e-06, 1.9435268768575042e-05, 0.0, 0.0, 0.0], [0.0007593678310513496, 0.0035127613227814436, 0.0016462976345792413, 0.0016624719137325883, 0.0009034104296006262, 0.0013834733981639147, 4.0411858208244666e-05, 0.0008845574338920414, 0.00039868339081294835, 0.0009689434082247317, 0.0001684111775830388, 8.748879918130115e-05, 0.0002578980929683894, 0.00115354941226542, 0.978306233882904, 0.0035371417179703712, 0.0011576865799725056, 0.0018153117271140218, 0.0005558586562983692, 0.0007999892113730311, 0.0, 0.0], [0.0010250092018395662, 0.0003039379371330142, 0.00011295910371700302, 4.6273518819361925e-05, 0.00016927989781834185, 9.141724876826629e-05, 0.9923381805419922, 0.00010324067261535674, 0.00011101562267867848, 0.0018321903189644217, 2.789741483866237e-05, 8.634913683636114e-05, 0.00022646169236395508, 0.0005256813019514084, 2.7654891709971707e-06, 0.00015725022240076214, 0.00011507821909617633, 0.0006035063415765762, 0.0011468282900750637, 0.0007177239749580622, 0.0002570352517068386, 0.0], [0.006692133843898773, 0.008451498113572598, 0.019958099350333214, 0.018155092373490334, 0.01397514995187521, 0.01087025087326765, 0.11319267749786377, 0.008355517871677876, 0.006375392898917198, 0.0017298912862315774, 0.0018576625734567642, 0.0006425882456824183, 0.0029020914807915688, 0.0016007112571969628, 0.7084171772003174, 0.003920817282050848, 0.007380605209618807, 0.047368161380290985, 0.006916985381394625, 0.005284156184643507, 0.0032547321170568466, 0.002698594704270363]], [[1.0, 0.0, 0.0, 0.0, 0.0, 0.0, 0.0, 0.0, 0.0, 0.0, 0.0, 0.0, 0.0, 0.0, 0.0, 0.0, 0.0, 0.0, 0.0, 0.0, 0.0, 0.0], [0.09662466496229172, 0.9033753275871277, 0.0, 0.0, 0.0, 0.0, 0.0, 0.0, 0.0, 0.0, 0.0, 0.0, 0.0, 0.0, 0.0, 0.0, 0.0, 0.0, 0.0, 0.0, 0.0, 0.0], [0.02266763523221016, 0.3298531770706177, 0.6474791765213013, 0.0, 0.0, 0.0, 0.0, 0.0, 0.0, 0.0, 0.0, 0.0, 0.0, 0.0, 0.0, 0.0, 0.0, 0.0, 0.0, 0.0, 0.0, 0.0], [0.043705105781555176, 0.24644777178764343, 0.24730709195137024, 0.46254000067710876, 0.0, 0.0, 0.0, 0.0, 0.0, 0.0, 0.0, 0.0, 0.0, 0.0, 0.0, 0.0, 0.0, 0.0, 0.0, 0.0, 0.0, 0.0], [0.04926632344722748, 0.18753527104854584, 0.2041589319705963, 0.3885960280895233, 0.17044343054294586, 0.0, 0.0, 0.0, 0.0, 0.0, 0.0, 0.0, 0.0, 0.0, 0.0, 0.0, 0.0, 0.0, 0.0, 0.0, 0.0, 0.0], [0.7063510417938232, 0.16090337932109833, 0.026922333985567093, 0.029066847637295723, 0.03282963111996651, 0.04392673075199127, 0.0, 0.0, 0.0, 0.0, 0.0, 0.0, 0.0, 0.0, 0.0, 0.0, 0.0, 0.0, 0.0, 0.0, 0.0, 0.0], [0.25295963883399963, 0.1121964380145073, 0.05873560160398483, 0.06107082962989807, 0.06731193512678146, 0.08716455101966858, 0.36056098341941833, 0.0, 0.0, 0.0, 0.0, 0.0, 0.0, 0.0, 0.0, 0.0, 0.0, 0.0, 0.0, 0.0, 0.0, 0.0], [0.0702178105711937, 0.36968886852264404, 0.05187490954995155, 0.07567653059959412, 0.04801541566848755, 0.12011687457561493, 0.1814098060131073, 0.08299976587295532, 0.0, 0.0, 0.0, 0.0, 0.0, 0.0, 0.0, 0.0, 0.0, 0.0, 0.0, 0.0, 0.0, 0.0], [0.09553583711385727, 0.20142622292041779, 0.05755912512540817, 0.08695981651544571, 0.0857636034488678, 0.15348999202251434, 0.1521766185760498, 0.08857650309801102, 0.07851225137710571, 0.0, 0.0, 0.0, 0.0, 0.0, 0.0, 0.0, 0.0, 0.0, 0.0, 0.0, 0.0, 0.0], [0.0001360485184704885, 0.00010105910041602328, 0.0002507137833163142, 0.00021037009719293565, 0.00028863889747299254, 0.00011616267147473991, 0.9963381290435791, 0.0004344050830695778, 0.000657823053188622, 0.0014667025534436107, 0.0, 0.0, 0.0, 0.0, 0.0, 0.0, 0.0, 0.0, 0.0, 0.0, 0.0, 0.0], [0.03783038258552551, 0.16756843030452728, 0.06014401093125343, 0.1064232662320137, 0.04908936843276024, 0.15289832651615143, 0.04212586581707001, 0.14546719193458557, 0.09289666265249252, 0.030908118933439255, 0.11464843899011612, 0.0, 0.0, 0.0, 0.0, 0.0, 0.0, 0.0, 0.0, 0.0, 0.0, 0.0], [0.8454670906066895, 0.06534279882907867, 0.00555127440020442, 0.0074013601988554, 0.007221088279038668, 0.0075945123098790646, 0.0031126602552831173, 0.004902300890535116, 0.005250886082649231, 0.014726025983691216, 0.004431631416082382, 0.02899826504290104, 0.0, 0.0, 0.0, 0.0, 0.0, 0.0, 0.0, 0.0, 0.0, 0.0], [0.014013377018272877, 0.002651307499036193, 0.0030791214667260647, 0.004483863245695829, 0.0019422692712396383, 0.003871915163472295, 6.151835805212613e-07, 0.0013294817181304097, 0.001179798156954348, 0.0030559522565454245, 0.009325271472334862, 0.003827150911092758, 0.9512397646903992, 0.0, 0.0, 0.0, 0.0, 0.0, 0.0, 0.0, 0.0, 0.0], [0.2326839417219162, 0.19902049005031586, 0.006242039147764444, 0.006721910089254379, 0.002373724477365613, 0.009630879387259483, 0.18531814217567444, 0.013843443244695663, 0.007720595691353083, 0.03333309665322304, 0.00034073524875566363, 0.007650192826986313, 0.005401642061769962, 0.28971919417381287, 0.0, 0.0, 0.0, 0.0, 0.0, 0.0, 0.0, 0.0], [0.08298648148775101, 0.06778030842542648, 0.003873139154165983, 0.0029884735122323036, 0.002735647140070796, 0.0020452660974115133, 0.004249071702361107, 0.0014071755576878786, 0.0014399318024516106, 0.012441787868738174, 0.0002809996949508786, 0.002583699766546488, 0.00019326635811012238, 0.005199457053095102, 0.8097953200340271, 0.0, 0.0, 0.0, 0.0, 0.0, 0.0, 0.0], [2.2680143956677057e-05, 6.887139898026362e-05, 0.00017418408242519945, 0.00012431645882315934, 0.0001427925017196685, 8.951481140684336e-05, 0.9980748891830444, 0.0003885154437739402, 0.0005222396575845778, 0.0001706920884316787, 2.6762811103253625e-05, 1.8830043700290844e-05, 1.197257915919181e-06, 8.847944263834506e-05, 3.445216556485775e-09, 8.598438580520451e-05, 0.0, 0.0, 0.0, 0.0, 0.0, 0.0], [2.241037509520538e-05, 0.00020430065342225134, 0.0012644173111766577, 0.0016267731552943587, 0.0006760912947356701, 0.00243903836235404, 2.7071841941506136e-06, 0.0020737876184284687, 0.0014664517948403955, 9.417725959792733e-05, 0.012928230687975883, 0.00029339652974158525, 0.7395012378692627, 0.0005502546555362642, 0.0022342046722769737, 0.0001411300036124885, 0.23448142409324646, 0.0, 0.0, 0.0, 0.0, 0.0], [0.00030930881621316075, 0.0003285850980319083, 0.00028248532908037305, 0.0004193365457467735, 0.00022987851116340607, 0.00033349040313623846, 4.0268764678330626e-07, 0.00014845341502223164, 0.000108326792542357, 0.0002432949549984187, 0.0011784902308136225, 0.0011032221373170614, 0.009119968861341476, 0.00024846644373610616, 0.978192925453186, 0.0005552669172175229, 0.0037851380184292793, 0.003413019236177206, 0.0, 0.0, 0.0, 0.0], [6.744399797753431e-06, 5.2523158956319094e-05, 0.00014421729429159313, 0.00014678190927952528, 0.00019805443298537284, 0.00017610806389711797, 0.996651828289032, 0.0005748753319494426, 0.0006834001978859305, 0.0001292645902140066, 0.00012078580766683444, 7.623658166266978e-05, 1.3874717978978879e-06, 0.0002387939894106239, 5.5481748084673654e-09, 6.542407209053636e-05, 2.4822288651193958e-06, 1.7411792896382394e-06, 0.0007294577662833035, 0.0, 0.0, 0.0], [0.0012947689974680543, 9.247341222362593e-05, 2.526392745494377e-05, 3.407540498301387e-05, 5.599411088041961e-05, 3.387086690054275e-05, 1.1743922101459248e-07, 8.489952961099334e-06, 7.497661044908455e-06, 0.0001732070231810212, 2.6370358682470396e-05, 0.0007648894097656012, 9.592760761734098e-05, 3.575620939955115e-05, 0.9599286317825317, 9.435666288482025e-05, 4.166056532994844e-05, 0.00035945401759818196, 5.6826331274351105e-05, 0.036870326846838, 0.0, 0.0], [0.012148980051279068, 0.006218047346919775, 0.00411999924108386, 0.003676041029393673, 0.006722286343574524, 0.004735990893095732, 0.6828170418739319, 0.004946621134877205, 0.0042841131798923016, 0.04073930159211159, 0.0005462832632474601, 0.010452586226165295, 8.872093167155981e-05, 0.013218698091804981, 0.0005735527374781668, 0.007899711839854717, 0.00011483520938782021, 0.001056706067174673, 0.07807648181915283, 0.02287708781659603, 0.09468688815832138, 0.0], [0.00021976997959427536, 0.0012785658473148942, 0.013774227350950241, 0.020197104662656784, 0.029217055067420006, 0.05089119076728821, 0.006786490324884653, 0.03980107232928276, 0.025261029601097107, 0.008387227542698383, 0.1230248212814331, 0.08669286966323853, 0.2027343213558197, 0.018333155661821365, 0.002097786869853735, 0.001567238476127386, 0.04603775590658188, 0.06942301243543625, 0.007464020512998104, 0.09407665580511093, 0.007350470870733261, 0.14538420736789703]], [[1.0, 0.0, 0.0, 0.0, 0.0, 0.0, 0.0, 0.0, 0.0, 0.0, 0.0, 0.0, 0.0, 0.0, 0.0, 0.0, 0.0, 0.0, 0.0, 0.0, 0.0, 0.0], [0.99673992395401, 0.00326009513810277, 0.0, 0.0, 0.0, 0.0, 0.0, 0.0, 0.0, 0.0, 0.0, 0.0, 0.0, 0.0, 0.0, 0.0, 0.0, 0.0, 0.0, 0.0, 0.0, 0.0], [0.15137572586536407, 0.33443915843963623, 0.5141851305961609, 0.0, 0.0, 0.0, 0.0, 0.0, 0.0, 0.0, 0.0, 0.0, 0.0, 0.0, 0.0, 0.0, 0.0, 0.0, 0.0, 0.0, 0.0, 0.0], [0.16230076551437378, 0.41053152084350586, 0.20902077853679657, 0.2181469202041626, 0.0, 0.0, 0.0, 0.0, 0.0, 0.0, 0.0, 0.0, 0.0, 0.0, 0.0, 0.0, 0.0, 0.0, 0.0, 0.0, 0.0, 0.0], [0.3311557471752167, 0.13934774696826935, 0.20146873593330383, 0.1353830248117447, 0.19264477491378784, 0.0, 0.0, 0.0, 0.0, 0.0, 0.0, 0.0, 0.0, 0.0, 0.0, 0.0, 0.0, 0.0, 0.0, 0.0, 0.0, 0.0], [0.3547151982784271, 0.1794033795595169, 0.11763935536146164, 0.1206086128950119, 0.08189589530229568, 0.14573755860328674, 0.0, 0.0, 0.0, 0.0, 0.0, 0.0, 0.0, 0.0, 0.0, 0.0, 0.0, 0.0, 0.0, 0.0, 0.0, 0.0], [0.9498515129089355, 0.013636143878102303, 0.01027693785727024, 0.006914291065186262, 0.010204870253801346, 0.008834818378090858, 0.0002813946339301765, 0.0, 0.0, 0.0, 0.0, 0.0, 0.0, 0.0, 0.0, 0.0, 0.0, 0.0, 0.0, 0.0, 0.0, 0.0], [0.9859315156936646, 0.004805541131645441, 0.00109007372520864, 0.0008143015438690782, 0.0009927013888955116, 0.0012625573435798287, 0.004369610920548439, 0.0007336396374739707, 0.0, 0.0, 0.0, 0.0, 0.0, 0.0, 0.0, 0.0, 0.0, 0.0, 0.0, 0.0, 0.0, 0.0], [0.6997283697128296, 0.03088286891579628, 0.036291614174842834, 0.022873230278491974, 0.041608598083257675, 0.03627350926399231, 0.032672032713890076, 0.03483094647526741, 0.06483884900808334, 0.0, 0.0, 0.0, 0.0, 0.0, 0.0, 0.0, 0.0, 0.0, 0.0, 0.0, 0.0, 0.0], [0.05037575960159302, 0.039540402591228485, 0.08413279056549072, 0.04905568063259125, 0.06493140757083893, 0.05525491014122963, 0.10572533309459686, 0.09160056710243225, 0.08249599486589432, 0.3768872320652008, 0.0, 0.0, 0.0, 0.0, 0.0, 0.0, 0.0, 0.0, 0.0, 0.0, 0.0, 0.0], [0.9338199496269226, 0.028571978211402893, 0.00513765262439847, 0.0068846335634589195, 0.003304015612229705, 0.006329979747533798, 3.0437318855547346e-05, 0.0027857674285769463, 0.0006999506149441004, 0.011565282940864563, 0.0008703087223693728, 0.0, 0.0, 0.0, 0.0, 0.0, 0.0, 0.0, 0.0, 0.0, 0.0, 0.0], [0.20510441064834595, 0.002520887413993478, 0.0017155762761831284, 0.0016217835946008563, 0.005877350922673941, 0.004508588928729296, 0.6679365634918213, 0.0022671797778457403, 0.0052364058792591095, 0.01673702523112297, 0.04220768064260483, 0.044266484677791595, 0.0, 0.0, 0.0, 0.0, 0.0, 0.0, 0.0, 0.0, 0.0, 0.0], [0.030624907463788986, 0.012271453626453876, 0.022813379764556885, 0.017117412760853767, 0.015477947890758514, 0.01694108359515667, 0.5089508891105652, 0.02615707740187645, 0.05800498276948929, 0.07159828394651413, 0.050200216472148895, 0.0230117104947567, 0.14683066308498383, 0.0, 0.0, 0.0, 0.0, 0.0, 0.0, 0.0, 0.0, 0.0], [0.9999979734420776, 7.595309057251143e-07, 1.5627437122134324e-08, 6.569888633123355e-09, 1.3265011311602848e-08, 1.5963802724172638e-08, 1.5939676245579903e-08, 2.7723738860174763e-09, 5.251406864914543e-09, 9.789806654225686e-07, 2.7008681957596536e-09, 1.06831251400763e-07, 1.3484297767263342e-07, 2.933623122203244e-08, 0.0, 0.0, 0.0, 0.0, 0.0, 0.0, 0.0, 0.0], [0.00046875840052962303, 0.0012909660581499338, 0.00014250150707084686, 0.00020387866243254393, 0.00013305447646416724, 0.0003427013289183378, 6.337758804875193e-06, 0.0001026025929604657, 2.9061309760436416e-05, 3.469859166216338e-06, 1.792954390111845e-05, 6.043257235432975e-05, 2.3252362097991863e-06, 1.1701508810801897e-05, 0.9971842169761658, 0.0, 0.0, 0.0, 0.0, 0.0, 0.0, 0.0], [7.211599495349219e-06, 4.477570200833725e-06, 1.962848045877763e-06, 1.3229414435045328e-06, 1.0564421017988934e-06, 1.5439370599779068e-06, 4.469340453283621e-10, 1.270604002456821e-06, 2.2448485026416165e-07, 3.7855745631532045e-06, 1.0147754636591344e-08, 7.185453796410002e-07, 5.642714313580655e-07, 7.260400991526694e-08, 0.9999734163284302, 2.3436382434738334e-06, 0.0, 0.0, 0.0, 0.0, 0.0, 0.0], [1.1750933481380343e-05, 1.3173355000617448e-05, 7.19727222531219e-06, 7.090563030942576e-06, 5.1632337090268265e-06, 6.685252628813032e-06, 6.268681684851174e-10, 4.827234533877345e-06, 9.919782542056055e-07, 2.4669379854458384e-06, 6.120905027273693e-08, 3.304554638816626e-06, 5.796013283543289e-06, 2.0398094591200788e-07, 0.9999197721481323, 1.669876041887619e-06, 9.850009519141167e-06, 0.0, 0.0, 0.0, 0.0, 0.0], [1.4266834114096127e-05, 6.939892773516476e-05, 0.00010733750968938693, 0.00010021925118053332, 0.00016458786558359861, 0.00017379599739797413, 0.9951942563056946, 0.0002226421347586438, 0.0007208942552097142, 1.834014619817026e-05, 0.0021891705691814423, 7.826401269994676e-05, 7.198455568868667e-05, 0.0001730370568111539, 4.266503765393281e-06, 3.868043495458551e-05, 0.0001551074965391308, 0.0005037598893977702, 0.0, 0.0, 0.0, 0.0], [1.360987766929611e-06, 3.4439117371221073e-06, 1.6272277889584075e-06, 1.6232042980846018e-06, 1.1947238363063661e-06, 1.8914212205345393e-06, 3.1801014599430744e-10, 1.216122655023355e-06, 1.6481504871990182e-07, 4.520605330071703e-07, 1.940994920346384e-08, 5.533402145374566e-07, 1.1642283936907916e-07, 3.9609439284049586e-08, 0.9999853372573853, 3.5943790521741903e-07, 1.3545916033308458e-07, 3.401256378765538e-07, 1.959989788247185e-07, 0.0, 0.0, 0.0], [9.745585884957109e-07, 3.621245696194819e-06, 5.338309620128712e-06, 7.808483132976107e-06, 9.862688784778584e-06, 1.6192070688703097e-05, 0.9991913437843323, 1.565038473927416e-05, 7.112379535101354e-05, 9.744833278091392e-07, 0.0005726152448914945, 8.824581527733244e-06, 1.3386973023443716e-06, 2.864995076379273e-05, 1.690299278322982e-08, 2.418274561932776e-06, 1.4204185845301254e-06, 2.7799842428066768e-06, 5.634038825519383e-05, 2.754486104095122e-06, 0.0, 0.0], [8.724842700758018e-06, 7.720668691035826e-06, 1.0329372344131116e-06, 1.627923438718426e-06, 7.609961016896705e-07, 2.3783702545188135e-06, 8.336238366268844e-09, 9.119177661887079e-07, 1.0835019281785208e-07, 3.1826917279431655e-07, 2.4172784662823688e-08, 5.474588533616043e-07, 3.779606672082991e-08, 7.984640859604042e-08, 0.9999291896820068, 3.6801051805923635e-07, 7.12590662033108e-08, 2.3178778008059453e-08, 5.160338645282536e-08, 5.505835929398017e-07, 4.54496948805172e-05, 0.0], [0.017357798293232918, 0.0020305542275309563, 0.004679320380091667, 0.002367128850892186, 0.0057206288911402225, 0.004398633260279894, 0.005404774099588394, 0.004432947840541601, 0.011928374879062176, 0.051891762763261795, 0.0032166249584406614, 0.010529796592891216, 0.02454856038093567, 0.0028457494918257, 0.08641987293958664, 0.055098433047533035, 0.039239007979631424, 0.06758248805999756, 0.17212873697280884, 0.011657312512397766, 0.04488583654165268, 0.37163567543029785]]]}\n",
              "    )\n",
              "    </script>"
            ]
          },
          "metadata": {}
        },
        {
          "output_type": "stream",
          "name": "stdout",
          "text": [
            "Attention patterns for 549748-117638=+0432110\n"
          ]
        },
        {
          "output_type": "display_data",
          "data": {
            "text/plain": [
              "<circuitsvis.utils.render.RenderedHTML at 0x7aa38759bc10>"
            ],
            "text/html": [
              "<div id=\"circuits-vis-54534eea-6494\" style=\"margin: 15px 0;\"/>\n",
              "    <script crossorigin type=\"module\">\n",
              "    import { render, AttentionPatterns } from \"https://unpkg.com/circuitsvis@1.43.2/dist/cdn/esm.js\";\n",
              "    render(\n",
              "      \"circuits-vis-54534eea-6494\",\n",
              "      AttentionPatterns,\n",
              "      {\"tokens\": [\"5\", \"4\", \"9\", \"7\", \"4\", \"8\", \"11\", \"1\", \"1\", \"7\", \"6\", \"3\", \"8\", \"12\", \"10\", \"0\", \"4\", \"3\", \"2\", \"1\", \"1\", \"0\"], \"attention\": [[[1.0, 0.0, 0.0, 0.0, 0.0, 0.0, 0.0, 0.0, 0.0, 0.0, 0.0, 0.0, 0.0, 0.0, 0.0, 0.0, 0.0, 0.0, 0.0, 0.0, 0.0, 0.0], [0.09323922544717789, 0.9067607522010803, 0.0, 0.0, 0.0, 0.0, 0.0, 0.0, 0.0, 0.0, 0.0, 0.0, 0.0, 0.0, 0.0, 0.0, 0.0, 0.0, 0.0, 0.0, 0.0, 0.0], [0.022323766723275185, 0.8922259211540222, 0.08545032143592834, 0.0, 0.0, 0.0, 0.0, 0.0, 0.0, 0.0, 0.0, 0.0, 0.0, 0.0, 0.0, 0.0, 0.0, 0.0, 0.0, 0.0, 0.0, 0.0], [0.39166873693466187, 0.184016615152359, 0.10626111179590225, 0.31805354356765747, 0.0, 0.0, 0.0, 0.0, 0.0, 0.0, 0.0, 0.0, 0.0, 0.0, 0.0, 0.0, 0.0, 0.0, 0.0, 0.0, 0.0, 0.0], [0.0005651367828249931, 0.0005199864972382784, 0.0002359237550990656, 0.9979129433631897, 0.0007659922703169286, 0.0, 0.0, 0.0, 0.0, 0.0, 0.0, 0.0, 0.0, 0.0, 0.0, 0.0, 0.0, 0.0, 0.0, 0.0, 0.0, 0.0], [0.02510964870452881, 0.006840032991021872, 0.02511749230325222, 0.01124848984181881, 0.01858636550605297, 0.9130979180335999, 0.0, 0.0, 0.0, 0.0, 0.0, 0.0, 0.0, 0.0, 0.0, 0.0, 0.0, 0.0, 0.0, 0.0, 0.0, 0.0], [0.0026422496885061264, 8.507980965077877e-05, 0.006509741302579641, 0.0007708489429205656, 0.004663621075451374, 0.005705142393708229, 0.9796232581138611, 0.0, 0.0, 0.0, 0.0, 0.0, 0.0, 0.0, 0.0, 0.0, 0.0, 0.0, 0.0, 0.0, 0.0, 0.0], [0.10661589354276657, 0.0270933136343956, 0.0700853019952774, 0.17705965042114258, 0.2255241721868515, 0.1409173458814621, 0.17410345375537872, 0.07860089838504791, 0.0, 0.0, 0.0, 0.0, 0.0, 0.0, 0.0, 0.0, 0.0, 0.0, 0.0, 0.0, 0.0, 0.0], [0.056959573179483414, 0.2762059271335602, 0.02213449403643608, 0.02892153710126877, 0.03983882814645767, 0.04694078117609024, 0.20005996525287628, 0.10363425314426422, 0.22530461847782135, 0.0, 0.0, 0.0, 0.0, 0.0, 0.0, 0.0, 0.0, 0.0, 0.0, 0.0, 0.0, 0.0], [8.658360250990427e-09, 0.9995773434638977, 1.7981760525032087e-09, 3.2257375437438895e-07, 1.8929453915461636e-07, 4.5134349035969024e-10, 1.8007091284744092e-07, 1.2365079793408285e-10, 0.00042192195542156696, 4.141330478546479e-08, 0.0, 0.0, 0.0, 0.0, 0.0, 0.0, 0.0, 0.0, 0.0, 0.0, 0.0, 0.0], [2.078621941237202e-09, 2.2366150176367228e-07, 2.2091803386636855e-10, 0.5008202791213989, 8.90507312334421e-09, 1.0087797264191067e-10, 1.908325231170238e-08, 1.1410945972845088e-11, 6.614038206009809e-10, 5.599854357996037e-09, 0.4991794526576996, 0.0, 0.0, 0.0, 0.0, 0.0, 0.0, 0.0, 0.0, 0.0, 0.0, 0.0], [3.0592137156837396e-10, 1.077552624906275e-08, 6.525080475938694e-11, 0.5074276328086853, 3.765052714044259e-09, 3.503873233223764e-11, 8.86328166416206e-09, 3.312460982590748e-12, 4.3693746537565303e-11, 2.3419695072135482e-09, 0.4925723969936371, 1.3004147758621798e-10, 0.0, 0.0, 0.0, 0.0, 0.0, 0.0, 0.0, 0.0, 0.0, 0.0], [2.6020979930763133e-06, 0.00016141041123773903, 0.034220922738313675, 0.00020588769984897226, 2.9171385904191993e-05, 1.9264068384927668e-07, 3.164519148413092e-05, 2.6581940204550847e-08, 7.541037234659598e-07, 0.9651631116867065, 0.00018163028289563954, 5.068779387329414e-07, 2.0672284790634876e-06, 0.0, 0.0, 0.0, 0.0, 0.0, 0.0, 0.0, 0.0, 0.0], [1.317480013973693e-09, 1.8488024124962976e-06, 2.1408838590808443e-10, 3.129719516437035e-06, 0.9990687966346741, 5.3411806227865455e-11, 1.732304554025177e-06, 2.4357987415263294e-12, 3.5502872863801826e-10, 4.2261792287945354e-08, 4.159472155151889e-06, 0.000920168065931648, 1.330376142583134e-09, 1.5423408683545858e-07, 0.0, 0.0, 0.0, 0.0, 0.0, 0.0, 0.0, 0.0], [0.0013584066182374954, 0.016100293025374413, 0.0014248372754082084, 0.0028299924451857805, 0.0023726914077997208, 0.0010267891921103, 0.9314488768577576, 0.00037450529634952545, 0.003252966096624732, 0.0030534681864082813, 0.0028782628942281008, 0.001148630864918232, 0.0024055461399257183, 0.005309730768203735, 0.025014890357851982, 0.0, 0.0, 0.0, 0.0, 0.0, 0.0, 0.0], [8.052147393300402e-08, 0.9995514750480652, 9.16209863532913e-09, 8.522775374331104e-07, 5.928785071773746e-07, 1.6943459968388197e-09, 4.404764695209451e-07, 7.320712369640603e-10, 0.0004424373619258404, 8.9514344381314e-08, 8.907557003112743e-07, 7.568978332983534e-09, 9.21623932725879e-09, 2.935501868250867e-07, 5.942897587374318e-07, 2.2934309527045116e-06, 0.0, 0.0, 0.0, 0.0, 0.0, 0.0], [4.129833087063162e-06, 0.00022086084936745465, 0.06131768971681595, 0.00016986035916488618, 2.74580543191405e-05, 1.7099131355280406e-07, 3.282048783148639e-05, 5.0478025315214836e-08, 9.696200322650839e-07, 0.9377065896987915, 0.00014222091704141349, 4.604550269959873e-07, 1.1326852700221934e-06, 4.5719956688117236e-05, 3.0777235224377364e-05, 0.0001933119783643633, 0.00010574566113064066, 0.0, 0.0, 0.0, 0.0, 0.0], [3.4483573330135187e-08, 1.916564400517018e-07, 5.96752647297194e-09, 0.5344301462173462, 2.8718488920276286e-07, 9.72588232173166e-10, 1.7982782196668268e-07, 9.964884473134816e-10, 2.072463978208816e-09, 2.8949928676524905e-08, 0.4655669331550598, 1.4016127813931689e-08, 7.061193851853886e-09, 6.527230880237767e-07, 4.329564546878828e-07, 7.585068715343368e-07, 2.9170931270527944e-07, 5.061196972633297e-08, 0.0, 0.0, 0.0, 0.0], [2.253995212697646e-09, 9.612186602225847e-08, 2.1139451300555834e-10, 3.6560254557116423e-07, 0.9994041919708252, 4.708882589410379e-12, 1.8144727675917238e-07, 3.394955323809956e-12, 1.678335422028443e-11, 1.9199080103504684e-09, 3.8649071143481706e-07, 0.0005943011492490768, 9.076682461195418e-11, 9.590010563442775e-08, 1.6392661450481683e-07, 1.0764646418692791e-07, 1.4048585228465527e-07, 3.5237424089729075e-09, 5.071107422871535e-11, 0.0, 0.0, 0.0], [1.9941703612857964e-06, 8.274585707113147e-05, 1.8403115120690927e-07, 0.0003919894224964082, 9.392578067490831e-05, 0.01702345535159111, 0.0003672243910841644, 1.2273387861583274e-09, 2.227898532325412e-09, 1.103830072679557e-06, 0.000270539108896628, 9.26487331298631e-08, 0.9799961447715759, 0.0008109040791168809, 0.0001391527330270037, 0.00013916933676227927, 4.473785520531237e-05, 9.508242442279879e-07, 8.66818528066915e-09, 0.0006357375532388687, 0.0, 0.0], [0.016568712890148163, 0.018453102558851242, 0.012639663182199001, 0.004124867729842663, 0.0013649697648361325, 0.025646967813372612, 0.007894796319305897, 0.014438487589359283, 0.009007254615426064, 0.007358556147664785, 0.0035248128697276115, 0.0007846162770874798, 0.03085356205701828, 0.0951899066567421, 0.051552195101976395, 0.6474270224571228, 0.016298919916152954, 0.005842737853527069, 0.008727429434657097, 0.008119302801787853, 0.014182182028889656, 0.0], [0.009715911000967026, 0.19450877606868744, 0.004967129323631525, 0.14428667724132538, 0.07796195894479752, 0.00878696795552969, 0.0209306962788105, 0.003444184549152851, 0.027645640075206757, 0.011295221745967865, 0.14636600017547607, 0.018681123852729797, 0.0177308302372694, 0.04264756292104721, 0.024503521621227264, 0.05499900504946709, 0.031101198866963387, 0.023612957447767258, 0.006845974363386631, 0.054056935012340546, 0.025966402143239975, 0.04994533583521843]], [[1.0, 0.0, 0.0, 0.0, 0.0, 0.0, 0.0, 0.0, 0.0, 0.0, 0.0, 0.0, 0.0, 0.0, 0.0, 0.0, 0.0, 0.0, 0.0, 0.0, 0.0, 0.0], [0.9987245202064514, 0.0012754288036376238, 0.0, 0.0, 0.0, 0.0, 0.0, 0.0, 0.0, 0.0, 0.0, 0.0, 0.0, 0.0, 0.0, 0.0, 0.0, 0.0, 0.0, 0.0, 0.0, 0.0], [0.5252670645713806, 0.24089282751083374, 0.23384012281894684, 0.0, 0.0, 0.0, 0.0, 0.0, 0.0, 0.0, 0.0, 0.0, 0.0, 0.0, 0.0, 0.0, 0.0, 0.0, 0.0, 0.0, 0.0, 0.0], [0.0006260197842493653, 0.00022417647414840758, 0.00011341604113113135, 0.999036431312561, 0.0, 0.0, 0.0, 0.0, 0.0, 0.0, 0.0, 0.0, 0.0, 0.0, 0.0, 0.0, 0.0, 0.0, 0.0, 0.0, 0.0, 0.0], [0.00658545782789588, 0.2134883850812912, 0.0017294351710006595, 0.00046495581045746803, 0.777731716632843, 0.0, 0.0, 0.0, 0.0, 0.0, 0.0, 0.0, 0.0, 0.0, 0.0, 0.0, 0.0, 0.0, 0.0, 0.0, 0.0, 0.0], [0.02563437446951866, 0.015600791200995445, 0.062243878841400146, 0.03620319440960884, 0.03147832676768303, 0.8288394808769226, 0.0, 0.0, 0.0, 0.0, 0.0, 0.0, 0.0, 0.0, 0.0, 0.0, 0.0, 0.0, 0.0, 0.0, 0.0, 0.0], [0.44064414501190186, 0.19367919862270355, 0.09724998474121094, 0.10116895288228989, 0.07149574905633926, 0.07299675047397614, 0.022765180096030235, 0.0, 0.0, 0.0, 0.0, 0.0, 0.0, 0.0, 0.0, 0.0, 0.0, 0.0, 0.0, 0.0, 0.0, 0.0], [0.06444101780653, 0.2030130922794342, 0.08413772284984589, 0.1559302806854248, 0.12424376606941223, 0.05119474604725838, 0.16961467266082764, 0.14742468297481537, 0.0, 0.0, 0.0, 0.0, 0.0, 0.0, 0.0, 0.0, 0.0, 0.0, 0.0, 0.0, 0.0, 0.0], [0.2599731683731079, 0.015324343927204609, 0.059055738151073456, 0.004553798120468855, 0.01476556807756424, 0.01852354034781456, 0.028048858046531677, 0.5315995216369629, 0.06815541535615921, 0.0, 0.0, 0.0, 0.0, 0.0, 0.0, 0.0, 0.0, 0.0, 0.0, 0.0, 0.0, 0.0], [3.857470801449381e-05, 0.9790608286857605, 1.8361617549089715e-05, 2.0107758246012963e-05, 0.00016956675972323865, 1.8402611203782726e-06, 0.0002842586545739323, 9.381193194712978e-06, 0.02038140967488289, 1.562476063554641e-05, 0.0, 0.0, 0.0, 0.0, 0.0, 0.0, 0.0, 0.0, 0.0, 0.0, 0.0, 0.0], [1.0553987905836948e-08, 2.9015540192744993e-08, 1.761757961737942e-09, 0.5227235555648804, 4.722883417684898e-08, 1.7555212838971102e-10, 2.2916337627520988e-07, 1.1281245382299687e-10, 1.0569609770749722e-10, 5.057815943843025e-09, 0.47727611660957336, 0.0, 0.0, 0.0, 0.0, 0.0, 0.0, 0.0, 0.0, 0.0, 0.0, 0.0], [6.5967222795393354e-09, 1.3097515250137803e-07, 4.312697698960477e-10, 2.4937367015809286e-07, 0.9995193481445312, 2.37822283567779e-12, 2.6684705289881094e-07, 7.675298764608929e-12, 2.3004332813658657e-11, 4.1474828016419e-09, 2.4373520091103273e-07, 0.000479740381706506, 0.0, 0.0, 0.0, 0.0, 0.0, 0.0, 0.0, 0.0, 0.0, 0.0], [7.3528372013242915e-06, 2.062472776742652e-05, 0.2698584794998169, 0.0001544527185615152, 5.4967342293821275e-05, 4.2145980927443816e-08, 0.0001990172895602882, 7.127198387024691e-08, 1.4810858317559905e-07, 0.7295795679092407, 0.00012414446973707527, 7.116667006812349e-07, 5.00120222568512e-07, 0.0, 0.0, 0.0, 0.0, 0.0, 0.0, 0.0, 0.0, 0.0], [4.4288981371209957e-07, 0.00013944874808657914, 2.0258292821040413e-08, 0.0004574228369165212, 2.5003835617098957e-05, 0.004051282070577145, 0.0002253873972222209, 3.500300049807947e-11, 5.336467934213829e-10, 1.5510684647779271e-07, 0.0006429484928958118, 9.493421160300386e-09, 0.9944203495979309, 3.7553138099610806e-05, 0.0, 0.0, 0.0, 0.0, 0.0, 0.0, 0.0, 0.0], [6.454532558564097e-05, 0.005958222784101963, 0.0004047257825732231, 0.0016391786048188806, 0.0014296749141067266, 0.00016606714052613825, 0.9544805884361267, 2.1392441340140067e-05, 0.0010104087414219975, 0.0006974662537686527, 0.0013732333900406957, 0.0006293641636148095, 0.00032026521512307227, 0.009892302565276623, 0.02191249467432499, 0.0, 0.0, 0.0, 0.0, 0.0, 0.0, 0.0], [0.02253085933625698, 3.6504300737760786e-07, 2.19032426684862e-05, 3.184144077295059e-07, 4.8361193876189645e-06, 5.693857747246511e-05, 1.035720174513699e-06, 0.9772367477416992, 2.227872028015554e-05, 3.6219446428731317e-06, 2.8306322974458453e-07, 1.7647464119363576e-05, 8.662267646286637e-06, 1.4489934073935729e-05, 1.0610347089823335e-05, 6.943299376871437e-05, 0.0, 0.0, 0.0, 0.0, 0.0, 0.0], [6.970239496695285e-07, 0.05260470509529114, 1.8972616089740768e-05, 2.1864195787202334e-08, 1.3296980796440039e-06, 7.193454075604677e-05, 1.8947990611195564e-05, 0.0012168475659564137, 0.9459893703460693, 7.831158086446521e-07, 2.031730161888845e-08, 1.0803324585140217e-05, 4.928493581246585e-06, 1.0258998372592032e-05, 1.7697295334073715e-05, 2.8119135095039383e-05, 4.704721504822373e-06, 0.0, 0.0, 0.0, 0.0, 0.0], [3.139547970931744e-06, 3.348646657741483e-07, 0.9142499566078186, 8.31044602023212e-08, 1.6136135627675685e-06, 0.00010068686242448166, 2.6378800612292252e-05, 0.0007940092473290861, 2.065112130367197e-05, 0.08467553555965424, 6.534225605037136e-08, 6.601149834750686e-06, 5.592938578047324e-06, 2.518850305932574e-05, 4.080173312104307e-05, 4.175179492449388e-05, 3.4997447073692456e-06, 4.123588496440789e-06, 0.0, 0.0, 0.0, 0.0], [3.923312033293769e-05, 3.4346739994361997e-06, 0.0004377288860268891, 0.5428130030632019, 0.00011476992222014815, 0.0006261180387809873, 0.00029970574541948736, 0.007698853965848684, 0.00020872699678875506, 3.3926215110113844e-05, 0.4375091791152954, 0.0007110062870196998, 6.489139923360199e-05, 0.0002470971958246082, 0.0007637152448296547, 0.00020448255236260593, 7.753754471195862e-05, 1.89270795090124e-05, 0.008127633482217789, 0.0, 0.0, 0.0], [3.0217347557481844e-06, 4.959246098223957e-07, 1.9432212866377085e-05, 2.6956837473335327e-07, 0.3925374150276184, 5.071901250630617e-05, 3.1569190468871966e-05, 0.0007547262357547879, 2.6367290047346614e-05, 2.035382294707233e-06, 2.6493390237192216e-07, 0.6061813831329346, 4.7303028622991405e-06, 1.4634307262895163e-05, 6.588538235519081e-05, 2.867606235668063e-05, 1.1298037861706689e-05, 3.5990399283036822e-06, 0.00023932491603773087, 2.41674788412638e-05, 0.0, 0.0], [6.418213160941377e-06, 1.5370811752291047e-06, 2.2953423467697576e-05, 3.407632505059155e-07, 3.364345275258529e-06, 0.8675867915153503, 2.0411926016095094e-05, 0.0006906415219418705, 3.682895840029232e-05, 2.7618268632068066e-06, 4.031386993119668e-07, 1.2781535588146653e-05, 0.13130393624305725, 3.372110950294882e-05, 3.3570133382454515e-05, 3.2651496439939365e-05, 7.68031350162346e-06, 6.556233074661577e-06, 0.00017513301281724125, 1.1262617590546142e-05, 1.0324361937819049e-05, 0.0], [0.024050360545516014, 0.08444388210773468, 0.013378387317061424, 0.08578623086214066, 0.046320538967847824, 0.0225563682615757, 0.024659227579832077, 0.01838482730090618, 0.017056642100214958, 0.013074127957224846, 0.08531633764505386, 0.016646787524223328, 0.027848122641444206, 0.030567796900868416, 0.03765586018562317, 0.09161743521690369, 0.06694719195365906, 0.027296150103211403, 0.026964321732521057, 0.13883255422115326, 0.036854393780231476, 0.06374248117208481]], [[1.0, 0.0, 0.0, 0.0, 0.0, 0.0, 0.0, 0.0, 0.0, 0.0, 0.0, 0.0, 0.0, 0.0, 0.0, 0.0, 0.0, 0.0, 0.0, 0.0, 0.0, 0.0], [0.917474091053009, 0.08252584934234619, 0.0, 0.0, 0.0, 0.0, 0.0, 0.0, 0.0, 0.0, 0.0, 0.0, 0.0, 0.0, 0.0, 0.0, 0.0, 0.0, 0.0, 0.0, 0.0, 0.0], [0.028162291273474693, 0.8870480060577393, 0.08478967100381851, 0.0, 0.0, 0.0, 0.0, 0.0, 0.0, 0.0, 0.0, 0.0, 0.0, 0.0, 0.0, 0.0, 0.0, 0.0, 0.0, 0.0, 0.0, 0.0], [0.009485796093940735, 0.01046753115952015, 0.0288280937820673, 0.9512185454368591, 0.0, 0.0, 0.0, 0.0, 0.0, 0.0, 0.0, 0.0, 0.0, 0.0, 0.0, 0.0, 0.0, 0.0, 0.0, 0.0, 0.0, 0.0], [0.06942296028137207, 0.48375847935676575, 0.020387427881360054, 0.02760922908782959, 0.3988218307495117, 0.0, 0.0, 0.0, 0.0, 0.0, 0.0, 0.0, 0.0, 0.0, 0.0, 0.0, 0.0, 0.0, 0.0, 0.0, 0.0, 0.0], [0.023006655275821686, 0.058494340628385544, 0.021584058180451393, 0.12738408148288727, 0.059392645955085754, 0.710138201713562, 0.0, 0.0, 0.0, 0.0, 0.0, 0.0, 0.0, 0.0, 0.0, 0.0, 0.0, 0.0, 0.0, 0.0, 0.0, 0.0], [0.0013339660363271832, 0.005088905803859234, 0.004862858448177576, 0.007495795842260122, 0.005229972768574953, 0.013438018038868904, 0.9625504612922668, 0.0, 0.0, 0.0, 0.0, 0.0, 0.0, 0.0, 0.0, 0.0, 0.0, 0.0, 0.0, 0.0, 0.0, 0.0], [0.016929607838392258, 0.19474385678768158, 0.029990164563059807, 0.6049564480781555, 0.06416120380163193, 0.0414494089782238, 0.03924136608839035, 0.008527897298336029, 0.0, 0.0, 0.0, 0.0, 0.0, 0.0, 0.0, 0.0, 0.0, 0.0, 0.0, 0.0, 0.0, 0.0], [0.027378087863326073, 0.022331086918711662, 0.7723352313041687, 0.05416811630129814, 0.0352579690515995, 0.029222343116998672, 0.020825587213039398, 0.017024686560034752, 0.021456856280565262, 0.0, 0.0, 0.0, 0.0, 0.0, 0.0, 0.0, 0.0, 0.0, 0.0, 0.0, 0.0, 0.0], [0.005376026500016451, 0.012139719910919666, 0.029513705521821976, 0.014381353743374348, 0.011466105468571186, 0.03482635319232941, 0.8294933438301086, 0.008266529999673367, 0.017814714461565018, 0.03672215715050697, 0.0, 0.0, 0.0, 0.0, 0.0, 0.0, 0.0, 0.0, 0.0, 0.0, 0.0, 0.0], [0.005076998379081488, 0.00248298910446465, 0.02065463550388813, 0.11777142435312271, 0.016971534118056297, 0.06411039084196091, 0.6219685673713684, 0.01351376622915268, 0.005907148588448763, 0.015631381422281265, 0.11591113358736038, 0.0, 0.0, 0.0, 0.0, 0.0, 0.0, 0.0, 0.0, 0.0, 0.0, 0.0], [0.018541304394602776, 0.005143923219293356, 0.042422305792570114, 0.004167504142969847, 0.2760646343231201, 0.019180361181497574, 0.21133185923099518, 0.0249762162566185, 0.01381192822009325, 0.026601271703839302, 0.004459938500076532, 0.35329875349998474, 0.0, 0.0, 0.0, 0.0, 0.0, 0.0, 0.0, 0.0, 0.0, 0.0], [0.007951921783387661, 0.008235609158873558, 0.03412512317299843, 0.01594138890504837, 0.01292411144822836, 0.03322921693325043, 0.7543599009513855, 0.010876319371163845, 0.011669979430735111, 0.04660084471106529, 0.01566987857222557, 0.014293091371655464, 0.03412256017327309, 0.0, 0.0, 0.0, 0.0, 0.0, 0.0, 0.0, 0.0, 0.0], [0.017807496711611748, 0.006682414095848799, 0.016271479427814484, 0.00913251657038927, 0.011723081581294537, 0.07627397030591965, 0.32363179326057434, 0.023852555081248283, 0.012456986121833324, 0.01382756419479847, 0.008255815133452415, 0.01550354901701212, 0.120669886469841, 0.3439108431339264, 0.0, 0.0, 0.0, 0.0, 0.0, 0.0, 0.0, 0.0], [0.0324239544570446, 0.01836194284260273, 0.006687964778393507, 0.028411224484443665, 0.01993640512228012, 0.0055857147090137005, 0.4269218444824219, 0.013861091807484627, 0.006543085910379887, 0.018175654113292694, 0.03479187190532684, 0.013713476248085499, 0.015347146429121494, 0.0689304992556572, 0.29030823707580566, 0.0, 0.0, 0.0, 0.0, 0.0, 0.0, 0.0], [0.8840887546539307, 0.005854201037436724, 0.0011223810724914074, 0.0024224098306149244, 0.0008017250220291317, 0.0009804946603253484, 0.0002790942380670458, 0.09120722860097885, 0.0025801388546824455, 0.0025002816691994667, 0.002534649334847927, 0.0007949433638714254, 0.0017668220680207014, 0.0007371105602942407, 0.001321478164754808, 0.001008428167551756, 0.0, 0.0, 0.0, 0.0, 0.0, 0.0], [0.0003289751766715199, 0.8616220951080322, 6.055195626686327e-05, 0.00012048007192788646, 9.105803474085405e-05, 3.8015146856196225e-05, 9.860708814812824e-05, 1.6803882317617536e-05, 0.13668152689933777, 0.00023224225151352584, 0.0001909780694404617, 7.187321898527443e-05, 0.0001297711714869365, 3.8688405766151845e-05, 0.00016882308409549296, 2.6341916964156553e-05, 8.311765122925863e-05, 0.0, 0.0, 0.0, 0.0, 0.0], [0.0004523548996075988, 0.001234864117577672, 0.1526964008808136, 0.00073399324901402, 0.0003572170389816165, 0.00016926538955885917, 0.0008901410037651658, 1.858129326137714e-05, 0.0005415149498730898, 0.8396075367927551, 0.0008023629197850823, 0.00016924554074648768, 0.0003921124152839184, 0.00033049765625037253, 0.0007800764869898558, 7.562129758298397e-05, 0.00015559203166048974, 0.0005925434525124729, 0.0, 0.0, 0.0, 0.0], [0.0003706900461111218, 0.0007394743151962757, 0.00011265280045336112, 0.49733152985572815, 0.0003570345579646528, 0.00011362950317561626, 0.0009324761340394616, 2.494514592399355e-05, 0.00023159271222539246, 0.0005799845675937831, 0.4973839521408081, 0.0002738916373346001, 0.0002550119534134865, 0.00016858371964190155, 0.0007288914057426155, 4.312469900469296e-05, 8.845804404700175e-05, 0.0002333834272576496, 3.0720442737219855e-05, 0.0, 0.0, 0.0], [0.0015677375486120582, 0.0022622619289904833, 0.00022050862025935203, 0.003305598860606551, 0.7093753814697266, 0.00021916936384513974, 0.0010455107549205422, 6.813816435169429e-05, 0.0006206039106473327, 0.0009576653828844428, 0.0047508059069514275, 0.27143028378486633, 0.00086969044059515, 0.000694531830959022, 0.0013058282202109694, 6.515425775432959e-05, 0.0003674619656521827, 0.0007297108531929553, 4.3990363337798044e-05, 0.00010000161273637787, 0.0, 0.0], [0.0014142803847789764, 0.006510840728878975, 0.0004538087814580649, 0.0054783630184829235, 0.0010367303621023893, 0.17135141789913177, 0.005396801047027111, 7.717441621934995e-05, 0.0011943647405132651, 0.0020080513786524534, 0.0050711724907159805, 0.0007828820962458849, 0.7810267806053162, 0.010261762887239456, 0.0030951702501624823, 0.0001487289264332503, 0.00045497401151806116, 0.0011756846215575933, 0.00012916125706396997, 0.00016806938219815493, 0.0027637763414531946, 0.0], [0.04610894247889519, 0.03939199447631836, 0.022178059443831444, 0.08281567692756653, 0.026943640783429146, 0.059843871742486954, 0.04474252462387085, 0.04761466756463051, 0.03832656517624855, 0.027231432497501373, 0.09834298491477966, 0.02816055342555046, 0.04454652965068817, 0.04335017129778862, 0.036416903138160706, 0.04365908354520798, 0.05178331956267357, 0.0453367680311203, 0.05092734098434448, 0.03861524164676666, 0.045160748064517975, 0.03850298002362251]], [[1.0, 0.0, 0.0, 0.0, 0.0, 0.0, 0.0, 0.0, 0.0, 0.0, 0.0, 0.0, 0.0, 0.0, 0.0, 0.0, 0.0, 0.0, 0.0, 0.0, 0.0, 0.0], [0.029347997158765793, 0.9706520438194275, 0.0, 0.0, 0.0, 0.0, 0.0, 0.0, 0.0, 0.0, 0.0, 0.0, 0.0, 0.0, 0.0, 0.0, 0.0, 0.0, 0.0, 0.0, 0.0, 0.0], [0.014821147546172142, 0.026836620643734932, 0.9583421945571899, 0.0, 0.0, 0.0, 0.0, 0.0, 0.0, 0.0, 0.0, 0.0, 0.0, 0.0, 0.0, 0.0, 0.0, 0.0, 0.0, 0.0, 0.0, 0.0], [0.004412178415805101, 0.020134268328547478, 0.9681028127670288, 0.007350734435021877, 0.0, 0.0, 0.0, 0.0, 0.0, 0.0, 0.0, 0.0, 0.0, 0.0, 0.0, 0.0, 0.0, 0.0, 0.0, 0.0, 0.0, 0.0], [0.023250896483659744, 0.013506557792425156, 0.9129404425621033, 0.01009571086615324, 0.0402064174413681, 0.0, 0.0, 0.0, 0.0, 0.0, 0.0, 0.0, 0.0, 0.0, 0.0, 0.0, 0.0, 0.0, 0.0, 0.0, 0.0, 0.0], [0.018075767904520035, 0.014997242018580437, 0.15702302753925323, 0.0375652015209198, 0.7156663537025452, 0.05667239800095558, 0.0, 0.0, 0.0, 0.0, 0.0, 0.0, 0.0, 0.0, 0.0, 0.0, 0.0, 0.0, 0.0, 0.0, 0.0, 0.0], [0.056389011442661285, 0.03043498285114765, 0.05806379020214081, 0.1382194608449936, 0.36546725034713745, 0.2665390074253082, 0.08488648384809494, 0.0, 0.0, 0.0, 0.0, 0.0, 0.0, 0.0, 0.0, 0.0, 0.0, 0.0, 0.0, 0.0, 0.0, 0.0], [0.044975001364946365, 0.11477816849946976, 0.3096870481967926, 0.0993415117263794, 0.13790181279182434, 0.200819194316864, 0.030962105840444565, 0.06153514236211777, 0.0, 0.0, 0.0, 0.0, 0.0, 0.0, 0.0, 0.0, 0.0, 0.0, 0.0, 0.0, 0.0, 0.0], [0.040632519870996475, 0.13018837571144104, 0.04371199384331703, 0.09681306779384613, 0.06157974153757095, 0.09024897962808609, 0.20697598159313202, 0.09027151018381119, 0.23957782983779907, 0.0, 0.0, 0.0, 0.0, 0.0, 0.0, 0.0, 0.0, 0.0, 0.0, 0.0, 0.0, 0.0], [0.010702542960643768, 0.005641021765768528, 0.01652616076171398, 0.010424596257507801, 0.010975217446684837, 0.01420142874121666, 0.7763491868972778, 0.022728169336915016, 0.04489407688379288, 0.08755761384963989, 0.0, 0.0, 0.0, 0.0, 0.0, 0.0, 0.0, 0.0, 0.0, 0.0, 0.0, 0.0], [0.006287736818194389, 0.003560272278264165, 0.006028986070305109, 0.0023663071915507317, 0.0077500296756625175, 0.008407391607761383, 0.789094865322113, 0.0587366484105587, 0.053982868790626526, 0.03649725764989853, 0.027287602424621582, 0.0, 0.0, 0.0, 0.0, 0.0, 0.0, 0.0, 0.0, 0.0, 0.0, 0.0], [0.06949438154697418, 0.01115019153803587, 0.020644430071115494, 0.010256297886371613, 0.029335083439946175, 0.0407174788415432, 0.39586544036865234, 0.09470468014478683, 0.11658082157373428, 0.0878651961684227, 0.05382789298892021, 0.06955810636281967, 0.0, 0.0, 0.0, 0.0, 0.0, 0.0, 0.0, 0.0, 0.0, 0.0], [0.019426343962550163, 0.004763027187436819, 0.008245453238487244, 0.006716521456837654, 0.01697203703224659, 0.012531545013189316, 0.6617533564567566, 0.04879111796617508, 0.028522569686174393, 0.05570577085018158, 0.03742559254169464, 0.04623684659600258, 0.052909791469573975, 0.0, 0.0, 0.0, 0.0, 0.0, 0.0, 0.0, 0.0, 0.0], [0.00036911500501446426, 4.4270927901379764e-05, 0.0002731582790147513, 6.39818244962953e-05, 0.0002928085159510374, 0.0005535072414204478, 0.014215786010026932, 0.970687747001648, 0.0031395084224641323, 0.002248286036774516, 0.00023888445866759866, 0.0009985065553337336, 0.0013389058876782656, 0.005535492207854986, 0.0, 0.0, 0.0, 0.0, 0.0, 0.0, 0.0, 0.0], [0.015145543031394482, 0.004172900691628456, 0.01089269295334816, 0.003719995031133294, 0.010560213588178158, 0.010168018750846386, 0.23582130670547485, 0.09604990482330322, 0.03993799909949303, 0.05204693228006363, 0.043965306133031845, 0.12447278946638107, 0.2314702272415161, 0.11125437915325165, 0.01032183039933443, 0.0, 0.0, 0.0, 0.0, 0.0, 0.0, 0.0], [0.01026577316224575, 0.007316187024116516, 0.006270612124353647, 0.007230933289974928, 0.017311401665210724, 0.011413765139877796, 0.17195291817188263, 0.03771756589412689, 0.10289707034826279, 0.02282797358930111, 0.015948351472616196, 0.013988071121275425, 0.03250560909509659, 0.5340185761451721, 0.0016961268847808242, 0.006639041006565094, 0.0, 0.0, 0.0, 0.0, 0.0, 0.0], [0.007477644830942154, 0.003499214304611087, 0.008063754066824913, 0.0015649746637791395, 0.011574276722967625, 0.008620286360383034, 0.5318341851234436, 0.020769814029335976, 0.04220733791589737, 0.0709478035569191, 0.011282424442470074, 0.02840675786137581, 0.03635136038064957, 0.17477329075336456, 0.0051648919470608234, 0.006086952053010464, 0.031375035643577576, 0.0, 0.0, 0.0, 0.0, 0.0], [0.008438407443463802, 0.005645616911351681, 0.012123300693929195, 0.0035727396607398987, 0.004641692619770765, 0.01103200763463974, 0.565947949886322, 0.02003154158592224, 0.03523902967572212, 0.03637659549713135, 0.030227268114686012, 0.04044892266392708, 0.05736445263028145, 0.10636448860168457, 0.008498283103108406, 0.0030325844418257475, 0.02192770317196846, 0.0290874931961298, 0.0, 0.0, 0.0, 0.0], [0.011168139986693859, 0.0028181802481412888, 0.009475765749812126, 0.0035915200132876635, 0.014507790096104145, 0.011049780994653702, 0.4242173135280609, 0.033270739018917084, 0.021273691207170486, 0.035158250480890274, 0.03058137744665146, 0.09276992082595825, 0.03696450963616371, 0.18651287257671356, 0.0034228682052344084, 0.0037538146134465933, 0.04222145676612854, 0.024757368490099907, 0.012484624981880188, 0.0, 0.0, 0.0], [0.0023507752921432257, 0.00037802811129949987, 0.0020235709380358458, 0.0009445608593523502, 0.00261855055578053, 0.005105589982122183, 0.6765427589416504, 0.012908757664263248, 0.013603641651570797, 0.011399664916098118, 0.003878997405990958, 0.015754729509353638, 0.12424150854349136, 0.10049005597829819, 0.0016763845924288034, 6.397636025212705e-05, 0.008305388502776623, 0.01286402903497219, 0.0040169646963477135, 0.000831986719276756, 0.0, 0.0], [0.0063788387924432755, 0.003381139598786831, 0.008021985180675983, 0.004932689946144819, 0.011057676747441292, 0.008184656500816345, 0.531896710395813, 0.02669278346002102, 0.02364601567387581, 0.026364490389823914, 0.01549803838133812, 0.02540641650557518, 0.1338828206062317, 0.09052205085754395, 0.014087127521634102, 0.0041217743419110775, 0.015891825780272484, 0.022193411365151405, 0.012892679311335087, 0.003371362341567874, 0.011575461365282536, 0.0], [0.018446115776896477, 0.019671188667416573, 0.06706220656633377, 0.01422351785004139, 0.034269195050001144, 0.03444382920861244, 0.06623400747776031, 0.05213750898838043, 0.04190113767981529, 0.06870152056217194, 0.01907500810921192, 0.027780134230852127, 0.04145729914307594, 0.05517959967255592, 0.0223232451826334, 0.19991324841976166, 0.03852531686425209, 0.03802784904837608, 0.03817407041788101, 0.01276881992816925, 0.03061877191066742, 0.05906648188829422]]]}\n",
              "    )\n",
              "    </script>"
            ]
          },
          "metadata": {}
        },
        {
          "output_type": "display_data",
          "data": {
            "text/plain": [
              "<circuitsvis.utils.render.RenderedHTML at 0x7aa38759bc10>"
            ],
            "text/html": [
              "<div id=\"circuits-vis-fcc8f1bd-3dfe\" style=\"margin: 15px 0;\"/>\n",
              "    <script crossorigin type=\"module\">\n",
              "    import { render, AttentionPatterns } from \"https://unpkg.com/circuitsvis@1.43.2/dist/cdn/esm.js\";\n",
              "    render(\n",
              "      \"circuits-vis-fcc8f1bd-3dfe\",\n",
              "      AttentionPatterns,\n",
              "      {\"tokens\": [\"5\", \"4\", \"9\", \"7\", \"4\", \"8\", \"11\", \"1\", \"1\", \"7\", \"6\", \"3\", \"8\", \"12\", \"10\", \"0\", \"4\", \"3\", \"2\", \"1\", \"1\", \"0\"], \"attention\": [[[1.0, 0.0, 0.0, 0.0, 0.0, 0.0, 0.0, 0.0, 0.0, 0.0, 0.0, 0.0, 0.0, 0.0, 0.0, 0.0, 0.0, 0.0, 0.0, 0.0, 0.0, 0.0], [0.16760870814323425, 0.8323912620544434, 0.0, 0.0, 0.0, 0.0, 0.0, 0.0, 0.0, 0.0, 0.0, 0.0, 0.0, 0.0, 0.0, 0.0, 0.0, 0.0, 0.0, 0.0, 0.0, 0.0], [0.040412332862615585, 0.5954179167747498, 0.364169716835022, 0.0, 0.0, 0.0, 0.0, 0.0, 0.0, 0.0, 0.0, 0.0, 0.0, 0.0, 0.0, 0.0, 0.0, 0.0, 0.0, 0.0, 0.0, 0.0], [0.026229968294501305, 0.3307627737522125, 0.2723410427570343, 0.3706662952899933, 0.0, 0.0, 0.0, 0.0, 0.0, 0.0, 0.0, 0.0, 0.0, 0.0, 0.0, 0.0, 0.0, 0.0, 0.0, 0.0, 0.0, 0.0], [0.03339258208870888, 0.3786400258541107, 0.23736713826656342, 0.16043025255203247, 0.19017000496387482, 0.0, 0.0, 0.0, 0.0, 0.0, 0.0, 0.0, 0.0, 0.0, 0.0, 0.0, 0.0, 0.0, 0.0, 0.0, 0.0, 0.0], [0.06568758934736252, 0.21234454214572906, 0.17598497867584229, 0.16774071753025055, 0.1672801375389099, 0.2109619826078415, 0.0, 0.0, 0.0, 0.0, 0.0, 0.0, 0.0, 0.0, 0.0, 0.0, 0.0, 0.0, 0.0, 0.0, 0.0, 0.0], [0.06362321227788925, 0.031009463593363762, 0.03885268047451973, 0.03480944782495499, 0.03930973634123802, 0.04450421407818794, 0.7478911876678467, 0.0, 0.0, 0.0, 0.0, 0.0, 0.0, 0.0, 0.0, 0.0, 0.0, 0.0, 0.0, 0.0, 0.0, 0.0], [0.02262418158352375, 0.28570789098739624, 0.22353114187717438, 0.16481620073318481, 0.17373277246952057, 0.09374717622995377, 2.7102129024569876e-05, 0.035813599824905396, 0.0, 0.0, 0.0, 0.0, 0.0, 0.0, 0.0, 0.0, 0.0, 0.0, 0.0, 0.0, 0.0, 0.0], [0.01070298533886671, 0.1725606620311737, 0.11723323166370392, 0.05364512652158737, 0.06196337193250656, 0.03974529728293419, 2.3113286715670256e-06, 0.011211425065994263, 0.532935619354248, 0.0, 0.0, 0.0, 0.0, 0.0, 0.0, 0.0, 0.0, 0.0, 0.0, 0.0, 0.0, 0.0], [0.08619151264429092, 0.2104347199201584, 0.10801535099744797, 0.052877847105264664, 0.0397304892539978, 0.024262728169560432, 0.0033234155271202326, 0.035835664719343185, 0.13722757995128632, 0.3021007180213928, 0.0, 0.0, 0.0, 0.0, 0.0, 0.0, 0.0, 0.0, 0.0, 0.0, 0.0, 0.0], [0.03504042327404022, 0.04371858015656471, 0.06593993306159973, 0.13752691447734833, 0.1113855391740799, 0.11859238147735596, 0.08875685930252075, 0.11105125397443771, 0.06078317016363144, 0.02372906729578972, 0.2034759819507599, 0.0, 0.0, 0.0, 0.0, 0.0, 0.0, 0.0, 0.0, 0.0, 0.0, 0.0], [0.0020887504797428846, 0.0063776480965316296, 0.0026337599847465754, 0.0019200631650164723, 0.0016091023571789265, 0.003343491116538644, 3.539319550327491e-06, 0.0011128317564725876, 0.008819722570478916, 0.9353389739990234, 0.0004071842704433948, 0.036344897001981735, 0.0, 0.0, 0.0, 0.0, 0.0, 0.0, 0.0, 0.0, 0.0, 0.0], [0.03722569718956947, 0.032496847212314606, 0.01481480710208416, 0.013362742029130459, 0.012742708437144756, 0.007504243403673172, 0.01814342848956585, 0.009099407121539116, 0.021040186285972595, 0.009286818094551563, 0.7324699759483337, 0.024885553866624832, 0.06692752987146378, 0.0, 0.0, 0.0, 0.0, 0.0, 0.0, 0.0, 0.0, 0.0], [0.0004626327136065811, 0.0003208777343388647, 0.000258300598943606, 3.633554661064409e-05, 2.7369631425244734e-05, 0.0001432230492355302, 1.3607557775685564e-05, 9.841661812970415e-05, 0.00048566420446150005, 0.9924813508987427, 6.230691838027269e-07, 4.924532913719304e-05, 0.00472271628677845, 0.0008996938122436404, 0.0, 0.0, 0.0, 0.0, 0.0, 0.0, 0.0, 0.0], [0.0019430225947871804, 0.0008620676235295832, 0.0017890390008687973, 0.0011603138409554958, 0.0010059804189950228, 0.0016780911246314645, 0.05103759467601776, 0.003927747253328562, 0.0013468086253851652, 0.0024486950132995844, 4.246479875291698e-05, 0.00010591166210360825, 0.0005779380444437265, 0.0005287390667945147, 0.9315455555915833, 0.0, 0.0, 0.0, 0.0, 0.0, 0.0, 0.0], [0.05066566914319992, 0.07666434347629547, 0.021529292687773705, 0.006921259220689535, 0.006063328590244055, 0.007088128011673689, 0.00020306701480876654, 0.004679405130445957, 0.04937472194433212, 0.3598984181880951, 0.012963062152266502, 0.023969996720552444, 0.05433034896850586, 0.011387313716113567, 6.828108598710969e-05, 0.31419336795806885, 0.0, 0.0, 0.0, 0.0, 0.0, 0.0], [0.009659375064074993, 0.0255406703799963, 0.01297239400446415, 0.004052293952554464, 0.006521443370729685, 0.002789864782243967, 0.003677946515381336, 0.0033738121856004, 0.023360194638371468, 0.010264693759381771, 0.19243671000003815, 0.013677028939127922, 0.11342324316501617, 0.010588645935058594, 0.003948959056288004, 0.011040173470973969, 0.5526725649833679, 0.0, 0.0, 0.0, 0.0, 0.0], [3.542642298270948e-05, 1.1548216207302175e-05, 1.9343220628798008e-05, 3.919186201528646e-05, 2.865820897568483e-05, 4.457424074644223e-05, 0.04772830754518509, 0.00010309258505003527, 1.0423427738714963e-05, 2.341339268241427e-06, 7.88527395343408e-05, 4.110921963729197e-06, 1.139549112849636e-05, 2.7165204301127233e-05, 0.9517300724983215, 1.823262891775812e-06, 4.89540343551198e-06, 0.00011875790369231254, 0.0, 0.0, 0.0, 0.0], [0.03401631489396095, 0.02472735196352005, 0.03216224163770676, 0.05888930708169937, 0.03075263649225235, 0.03688982501626015, 0.0449846051633358, 0.04713841527700424, 0.03277737647294998, 0.026100080460309982, 0.1882428526878357, 0.023684225976467133, 0.05908191576600075, 0.026562562212347984, 0.07400670647621155, 0.0189386997371912, 0.04839400574564934, 0.08547351509332657, 0.10717733204364777, 0.0, 0.0, 0.0], [0.005883485544472933, 0.013960877433419228, 0.011827122420072556, 0.020978035405278206, 0.012853208929300308, 0.024214090779423714, 6.53189317745273e-06, 0.0059296307153999805, 0.020555229857563972, 0.06795766949653625, 0.015718603506684303, 0.12095517665147781, 0.017605185508728027, 0.00435582734644413, 2.599009008008579e-07, 0.06604146957397461, 0.01528877392411232, 0.009683064185082912, 0.031891074031591415, 0.5342946648597717, 0.0, 0.0], [3.918484799214639e-05, 4.695202278526267e-06, 5.488985607371433e-06, 5.57799330636044e-06, 3.3883386549860006e-06, 2.1653284420608543e-05, 0.012386390008032322, 3.0933682864997536e-05, 2.903035237977747e-06, 9.768718882696703e-06, 2.4769065021246206e-07, 3.2002847660805855e-07, 1.830008159231511e-06, 4.317310595070012e-05, 0.9870631098747253, 5.656148914567893e-06, 2.2243425519263837e-06, 6.205299882822146e-07, 3.723705049196724e-06, 2.6546149456407875e-07, 0.00036904026637785137, 0.0], [0.006431478075683117, 0.010549007914960384, 0.008855121210217476, 0.012345678173005581, 0.012391099706292152, 0.014143237844109535, 8.958879334386438e-05, 0.003607418853789568, 0.010659389197826385, 0.04645393043756485, 0.12297672033309937, 0.15803541243076324, 0.03937288746237755, 0.031215421855449677, 6.770725576643599e-06, 0.03243834897875786, 0.0492471382021904, 0.061448149383068085, 0.06496583670377731, 0.24385066330432892, 0.024022206664085388, 0.046894434839487076]], [[1.0, 0.0, 0.0, 0.0, 0.0, 0.0, 0.0, 0.0, 0.0, 0.0, 0.0, 0.0, 0.0, 0.0, 0.0, 0.0, 0.0, 0.0, 0.0, 0.0, 0.0, 0.0], [0.5049430727958679, 0.4950569272041321, 0.0, 0.0, 0.0, 0.0, 0.0, 0.0, 0.0, 0.0, 0.0, 0.0, 0.0, 0.0, 0.0, 0.0, 0.0, 0.0, 0.0, 0.0, 0.0, 0.0], [0.43245989084243774, 0.2659941613674164, 0.30154597759246826, 0.0, 0.0, 0.0, 0.0, 0.0, 0.0, 0.0, 0.0, 0.0, 0.0, 0.0, 0.0, 0.0, 0.0, 0.0, 0.0, 0.0, 0.0, 0.0], [0.1722269505262375, 0.07915482670068741, 0.21397116780281067, 0.5346470475196838, 0.0, 0.0, 0.0, 0.0, 0.0, 0.0, 0.0, 0.0, 0.0, 0.0, 0.0, 0.0, 0.0, 0.0, 0.0, 0.0, 0.0, 0.0], [0.2407694309949875, 0.1035996675491333, 0.18312689661979675, 0.3063403069972992, 0.16616369783878326, 0.0, 0.0, 0.0, 0.0, 0.0, 0.0, 0.0, 0.0, 0.0, 0.0, 0.0, 0.0, 0.0, 0.0, 0.0, 0.0, 0.0], [0.11776816844940186, 0.03065926767885685, 0.1202273964881897, 0.2072836309671402, 0.12384560704231262, 0.40021586418151855, 0.0, 0.0, 0.0, 0.0, 0.0, 0.0, 0.0, 0.0, 0.0, 0.0, 0.0, 0.0, 0.0, 0.0, 0.0, 0.0], [0.001247330685146153, 0.00095507747028023, 0.002482091076672077, 0.0035759382881224155, 0.0026780765037983656, 0.004558914806693792, 0.9845026135444641, 0.0, 0.0, 0.0, 0.0, 0.0, 0.0, 0.0, 0.0, 0.0, 0.0, 0.0, 0.0, 0.0, 0.0, 0.0], [0.0742291733622551, 0.0591404028236866, 0.13681533932685852, 0.24573059380054474, 0.11760299652814865, 0.11528488248586655, 0.002270404016599059, 0.24892623722553253, 0.0, 0.0, 0.0, 0.0, 0.0, 0.0, 0.0, 0.0, 0.0, 0.0, 0.0, 0.0, 0.0, 0.0], [0.1334899216890335, 0.276484876871109, 0.23760297894477844, 0.1182004064321518, 0.08582565933465958, 0.060698166489601135, 1.1891318536072504e-05, 0.0806858092546463, 0.007000276353210211, 0.0, 0.0, 0.0, 0.0, 0.0, 0.0, 0.0, 0.0, 0.0, 0.0, 0.0, 0.0, 0.0], [0.06094645336270332, 0.05716121941804886, 0.0725708082318306, 0.04009930416941643, 0.033098362386226654, 0.06648124009370804, 0.3611120879650116, 0.10016629099845886, 0.04952818155288696, 0.15883605182170868, 0.0, 0.0, 0.0, 0.0, 0.0, 0.0, 0.0, 0.0, 0.0, 0.0, 0.0, 0.0], [0.014745445922017097, 0.0029273144900798798, 0.005827697925269604, 0.01293396856635809, 0.012436644174158573, 0.015405207872390747, 0.8425614237785339, 0.017065757885575294, 0.007297642529010773, 0.007908706553280354, 0.06089026853442192, 0.0, 0.0, 0.0, 0.0, 0.0, 0.0, 0.0, 0.0, 0.0, 0.0, 0.0], [0.1799955666065216, 0.02155395969748497, 0.10662684589624405, 0.18419380486011505, 0.09693069010972977, 0.18041764199733734, 0.014941408298909664, 0.2001856118440628, 0.0021888467017561197, 0.006304316222667694, 0.002385090570896864, 0.004276260267943144, 0.0, 0.0, 0.0, 0.0, 0.0, 0.0, 0.0, 0.0, 0.0, 0.0], [0.03460576757788658, 0.03040888160467148, 0.04809240251779556, 0.044518809765577316, 0.029945699498057365, 0.055427759885787964, 0.5486558079719543, 0.11194560676813126, 0.03224673122167587, 0.02922816574573517, 0.010314447805285454, 0.00844353437423706, 0.01616634987294674, 0.0, 0.0, 0.0, 0.0, 0.0, 0.0, 0.0, 0.0, 0.0], [0.2517000138759613, 0.10813815146684647, 0.09320243448019028, 0.07831325381994247, 0.07436902821063995, 0.11606837064027786, 0.024182185530662537, 0.0879693329334259, 0.03777031600475311, 0.02746773511171341, 0.028445445001125336, 0.024045469239354134, 0.01111792866140604, 0.03721035271883011, 0.0, 0.0, 0.0, 0.0, 0.0, 0.0, 0.0, 0.0], [8.844328112900257e-05, 0.00018928619101643562, 0.0005355827161110938, 0.0007254538359120488, 0.0006233335006982088, 0.0005629571969620883, 0.7499902844429016, 0.002617903985083103, 0.0007901107892394066, 0.00024026227765716612, 0.001018296810798347, 0.0007466392125934362, 0.0007232505595311522, 0.0007452218560501933, 0.24040302634239197, 0.0, 0.0, 0.0, 0.0, 0.0, 0.0, 0.0], [0.12881147861480713, 0.2597235441207886, 0.14859065413475037, 0.03383047878742218, 0.0424533449113369, 0.04447169229388237, 0.0011277084704488516, 0.041266120970249176, 0.050186045467853546, 0.05712312459945679, 0.002675717230886221, 0.003160918364301324, 0.006690834183245897, 0.011073397472500801, 0.01638047769665718, 0.15243446826934814, 0.0, 0.0, 0.0, 0.0, 0.0, 0.0], [0.0008623854955658317, 0.00033975610858760774, 0.0005363550735637546, 0.0009011330548673868, 0.0004316587292123586, 0.0008978223777376115, 0.0731307864189148, 0.0034027856308966875, 0.00022353127133101225, 0.0004128210712224245, 0.0002660105237737298, 0.00025882248883135617, 0.0003211618459317833, 0.0008067269227467477, 0.916607141494751, 5.030861575505696e-05, 0.0005507764872163534, 0.0, 0.0, 0.0, 0.0, 0.0], [1.113275516217982e-08, 6.409519026639998e-10, 4.402709752326928e-09, 2.2393374266016508e-08, 1.0030286823337065e-08, 3.99119777227952e-08, 0.9869437217712402, 2.11444884712364e-07, 2.5388089852640405e-08, 7.204457830312094e-08, 9.92624109130702e-07, 4.942462510371115e-07, 6.072791620681528e-07, 9.001671514852205e-07, 0.013042847625911236, 7.195085083289143e-10, 3.858775983189844e-07, 9.689344551588874e-06, 0.0, 0.0, 0.0, 0.0], [0.0031260086689144373, 0.0014675752026960254, 0.0020712711848318577, 0.00482148164883256, 0.0034842079039663076, 0.006137767806649208, 0.4964011609554291, 0.0075988564640283585, 0.003537183627486229, 0.005976835265755653, 0.02157284878194332, 0.020378146320581436, 0.005937354639172554, 0.02375626005232334, 0.35086682438850403, 0.0016228781314566731, 0.005916460882872343, 0.020082315430045128, 0.015244563110172749, 0.0, 0.0, 0.0], [0.1288750171661377, 0.19093333184719086, 0.1703176647424698, 0.09809399396181107, 0.09719604253768921, 0.10798966139554977, 0.0002800491638481617, 0.0734863355755806, 0.012251883745193481, 0.023328620940446854, 0.002775968750938773, 0.004154096823185682, 0.0013670730404555798, 0.014958036132156849, 0.012718923389911652, 0.029420631006360054, 0.006169531028717756, 0.0019515273161232471, 0.01456908043473959, 0.00916247721761465, 0.0, 0.0], [2.5365753941741787e-08, 5.973813888004997e-09, 3.686480809506065e-08, 6.351833548023933e-08, 6.092732007800805e-08, 2.2749219397155684e-07, 0.981094479560852, 7.862059305807634e-07, 2.4891048155950557e-07, 4.494339123084501e-07, 1.421513161403709e-06, 1.2922513406010694e-06, 1.926198365254095e-06, 3.990573986811796e-06, 0.01887717843055725, 1.3658165265439948e-08, 2.551450279497658e-06, 6.263318937271833e-06, 5.284748567646602e-07, 1.0873361766527978e-08, 8.404082109336741e-06, 0.0], [0.1445005238056183, 0.0656217634677887, 0.08198291063308716, 0.12883323431015015, 0.1128506064414978, 0.08972007036209106, 0.0021054537501186132, 0.08009647578001022, 0.015143394470214844, 0.014023486524820328, 0.015247323550283909, 0.02327277511358261, 0.0029189828783273697, 0.024137234315276146, 0.05594642460346222, 0.016461530700325966, 0.004958814010024071, 0.00949674192816019, 0.027481652796268463, 0.015026128850877285, 0.02379985712468624, 0.04637463018298149]], [[1.0, 0.0, 0.0, 0.0, 0.0, 0.0, 0.0, 0.0, 0.0, 0.0, 0.0, 0.0, 0.0, 0.0, 0.0, 0.0, 0.0, 0.0, 0.0, 0.0, 0.0, 0.0], [0.032407425343990326, 0.9675925970077515, 0.0, 0.0, 0.0, 0.0, 0.0, 0.0, 0.0, 0.0, 0.0, 0.0, 0.0, 0.0, 0.0, 0.0, 0.0, 0.0, 0.0, 0.0, 0.0, 0.0], [0.025028159841895103, 0.42653846740722656, 0.5484334230422974, 0.0, 0.0, 0.0, 0.0, 0.0, 0.0, 0.0, 0.0, 0.0, 0.0, 0.0, 0.0, 0.0, 0.0, 0.0, 0.0, 0.0, 0.0, 0.0], [0.22125564515590668, 0.22554060816764832, 0.19719654321670532, 0.3560071885585785, 0.0, 0.0, 0.0, 0.0, 0.0, 0.0, 0.0, 0.0, 0.0, 0.0, 0.0, 0.0, 0.0, 0.0, 0.0, 0.0, 0.0, 0.0], [0.03900676220655441, 0.12418756633996964, 0.13381440937519073, 0.2956141531467438, 0.4073771834373474, 0.0, 0.0, 0.0, 0.0, 0.0, 0.0, 0.0, 0.0, 0.0, 0.0, 0.0, 0.0, 0.0, 0.0, 0.0, 0.0, 0.0], [0.0940069705247879, 0.088127002120018, 0.11799909174442291, 0.11113851517438889, 0.13435493409633636, 0.4543735384941101, 0.0, 0.0, 0.0, 0.0, 0.0, 0.0, 0.0, 0.0, 0.0, 0.0, 0.0, 0.0, 0.0, 0.0, 0.0, 0.0], [0.20030568540096283, 0.12289436906576157, 0.035840827971696854, 0.035204678773880005, 0.01885059103369713, 0.030925413593649864, 0.5559784770011902, 0.0, 0.0, 0.0, 0.0, 0.0, 0.0, 0.0, 0.0, 0.0, 0.0, 0.0, 0.0, 0.0, 0.0, 0.0], [0.00926376972347498, 0.03078945353627205, 0.021358348429203033, 0.021828556433320045, 0.016228677704930305, 0.02165057510137558, 0.8254294395446777, 0.053451135754585266, 0.0, 0.0, 0.0, 0.0, 0.0, 0.0, 0.0, 0.0, 0.0, 0.0, 0.0, 0.0, 0.0, 0.0], [0.04866231605410576, 0.17828494310379028, 0.13480281829833984, 0.12110122293233871, 0.09086044132709503, 0.02951551415026188, 0.0842142403125763, 0.08571875095367432, 0.22683972120285034, 0.0, 0.0, 0.0, 0.0, 0.0, 0.0, 0.0, 0.0, 0.0, 0.0, 0.0, 0.0, 0.0], [3.5776745789917186e-05, 0.0043867044150829315, 0.006202051881700754, 0.00017871269665192813, 5.4781532526249066e-05, 2.4499115170328878e-05, 3.4083723221556284e-07, 0.00015528991934843361, 0.000970035616774112, 0.9879917502403259, 0.0, 0.0, 0.0, 0.0, 0.0, 0.0, 0.0, 0.0, 0.0, 0.0, 0.0, 0.0], [0.0026903068646788597, 7.3385082941968e-05, 7.076953625073656e-05, 0.004966494627296925, 0.026337839663028717, 0.014331351965665817, 0.0039070299826562405, 0.001284357043914497, 8.008905570022762e-05, 6.5457015807623975e-06, 0.9462518692016602, 0.0, 0.0, 0.0, 0.0, 0.0, 0.0, 0.0, 0.0, 0.0, 0.0, 0.0], [0.05044909939169884, 0.008147012442350388, 0.006694320123642683, 0.03142331540584564, 0.06281499564647675, 0.12720122933387756, 0.18515294790267944, 0.037938620895147324, 0.005761411506682634, 0.00017784602823667228, 0.1686011701822281, 0.31563806533813477, 0.0, 0.0, 0.0, 0.0, 0.0, 0.0, 0.0, 0.0, 0.0, 0.0], [0.0008649199735373259, 0.008374745957553387, 0.007072951178997755, 0.002125759841874242, 0.0002453734050504863, 3.6843815905740485e-05, 0.05148184671998024, 0.004108958877623081, 0.020563971251249313, 0.0032655016984790564, 0.00021677042241208255, 1.0150512935069855e-05, 0.9016322493553162, 0.0, 0.0, 0.0, 0.0, 0.0, 0.0, 0.0, 0.0, 0.0], [0.12471778690814972, 0.5784772038459778, 0.057560671120882034, 0.0036678414326161146, 0.0013510603457689285, 0.0041453721933066845, 0.09966208040714264, 0.026800282299518585, 0.0898732915520668, 0.01346121821552515, 0.0001419118489138782, 6.497759386547841e-06, 8.519727271050215e-05, 4.961850572726689e-05, 0.0, 0.0, 0.0, 0.0, 0.0, 0.0, 0.0, 0.0], [0.009802507236599922, 0.08243930339813232, 0.0127405421808362, 0.0121001610532403, 0.005159155000001192, 0.007149673532694578, 0.43251052498817444, 0.04542553424835205, 0.02096889354288578, 0.003284231061115861, 0.004233440384268761, 0.0009994040010496974, 0.0022968773264437914, 0.0028217551298439503, 0.35806798934936523, 0.0, 0.0, 0.0, 0.0, 0.0, 0.0, 0.0], [2.849974180207937e-06, 0.0002430652966722846, 0.0001932116865646094, 1.701024984868127e-06, 5.597729568762588e-07, 2.7668124857882503e-07, 4.200604308834954e-08, 2.730199184952653e-06, 6.42770974081941e-05, 0.9527883529663086, 4.958665478227431e-09, 2.9733713269308737e-09, 0.004043733235448599, 4.446453871764788e-09, 8.924866392590047e-07, 0.04265839606523514, 0.0, 0.0, 0.0, 0.0, 0.0, 0.0], [8.263900781457778e-06, 0.00023728556698188186, 0.00037593557499349117, 0.00015638019249308854, 1.790798341971822e-05, 3.1282854706660146e-06, 0.0003510972601361573, 0.00020255385607015342, 0.0008035336504690349, 0.0003140454355161637, 7.459173048118828e-06, 1.153466769210354e-06, 0.9267757534980774, 6.078035994505626e-07, 3.553586793714203e-05, 0.00019359111320227385, 0.0705157071352005, 0.0, 0.0, 0.0, 0.0, 0.0], [1.449156570743071e-05, 1.3552405562222702e-06, 3.983546775998548e-06, 0.00024466743343509734, 0.000566412229090929, 0.00010000363545259461, 8.372814045287669e-05, 4.481913856579922e-05, 3.697684633152676e-06, 6.380254831128696e-07, 0.012153971008956432, 0.945206880569458, 0.0006207723636180162, 0.030505234375596046, 4.943886597175151e-05, 2.9728396384598454e-06, 2.1037169517512666e-06, 0.010394826531410217, 0.0, 0.0, 0.0, 0.0], [0.009608183056116104, 0.002861211309209466, 0.0016359109431505203, 0.0005130732315592468, 0.00043607319821603596, 0.0012603601207956672, 0.9408202171325684, 0.003304259153082967, 0.002729258965700865, 0.00013796897837892175, 0.00018119846936315298, 3.868430576403625e-05, 1.1678601367748342e-05, 0.00037767758476547897, 0.03479449823498726, 0.00015642971266061068, 0.0009187868563458323, 3.220542203052901e-05, 0.00018243266094941646, 0.0, 0.0, 0.0], [0.0057056620717048645, 0.005120398476719856, 0.003937931731343269, 0.0012607829412445426, 0.0005749246920458972, 0.0051072402857244015, 0.9292637705802917, 0.00860045850276947, 0.0044539556838572025, 5.63230860279873e-05, 9.425795724382624e-05, 3.4553372643131297e-06, 1.4278335584094748e-05, 5.8637659094529226e-05, 0.03373095393180847, 5.909209721721709e-05, 0.0014081289991736412, 1.0141496204596478e-05, 0.00017882838437799364, 0.0003606283280532807, 0.0, 0.0], [0.09340925514698029, 0.07440228015184402, 0.04442335292696953, 0.01038368884474039, 0.008846578188240528, 0.07146547734737396, 0.4324866533279419, 0.057941850274801254, 0.03159978985786438, 0.004939901642501354, 0.0006314055644907057, 0.0002995571412611753, 0.00011063856800319627, 0.0012504543410614133, 0.11740239709615707, 0.003029776969924569, 0.009931119158864021, 0.00036438394454307854, 0.0012962898472324014, 0.003056747606024146, 0.032728411257267, 0.0], [0.0052297282963991165, 0.005400559399276972, 0.006789687089622021, 0.031234748661518097, 0.10063054412603378, 0.09301778674125671, 0.0006716183270327747, 0.009955406188964844, 0.0017340081976726651, 0.0012749969027936459, 0.07404370605945587, 0.17476803064346313, 9.300415695179254e-05, 0.023870164528489113, 0.012308966368436813, 0.004935112781822681, 8.728478860575706e-05, 0.02734452858567238, 0.004013593774288893, 0.0028275956865400076, 0.034142300486564636, 0.3856266736984253]], [[1.0, 0.0, 0.0, 0.0, 0.0, 0.0, 0.0, 0.0, 0.0, 0.0, 0.0, 0.0, 0.0, 0.0, 0.0, 0.0, 0.0, 0.0, 0.0, 0.0, 0.0, 0.0], [0.5344581007957458, 0.46554189920425415, 0.0, 0.0, 0.0, 0.0, 0.0, 0.0, 0.0, 0.0, 0.0, 0.0, 0.0, 0.0, 0.0, 0.0, 0.0, 0.0, 0.0, 0.0, 0.0, 0.0], [0.943152666091919, 0.026727931573987007, 0.030119409784674644, 0.0, 0.0, 0.0, 0.0, 0.0, 0.0, 0.0, 0.0, 0.0, 0.0, 0.0, 0.0, 0.0, 0.0, 0.0, 0.0, 0.0, 0.0, 0.0], [0.9581135511398315, 0.013277197256684303, 0.008276627399027348, 0.02033258229494095, 0.0, 0.0, 0.0, 0.0, 0.0, 0.0, 0.0, 0.0, 0.0, 0.0, 0.0, 0.0, 0.0, 0.0, 0.0, 0.0, 0.0, 0.0], [0.9409952163696289, 0.010130583308637142, 0.007652294356375933, 0.012490835972130299, 0.028731107711791992, 0.0, 0.0, 0.0, 0.0, 0.0, 0.0, 0.0, 0.0, 0.0, 0.0, 0.0, 0.0, 0.0, 0.0, 0.0, 0.0, 0.0], [0.0889061912894249, 0.0803518146276474, 0.06377489119768143, 0.07240771502256393, 0.16268888115882874, 0.5318704843521118, 0.0, 0.0, 0.0, 0.0, 0.0, 0.0, 0.0, 0.0, 0.0, 0.0, 0.0, 0.0, 0.0, 0.0, 0.0, 0.0], [0.07394570857286453, 0.10464656352996826, 0.057958390563726425, 0.10497075319290161, 0.11512621492147446, 0.2754717469215393, 0.2678806185722351, 0.0, 0.0, 0.0, 0.0, 0.0, 0.0, 0.0, 0.0, 0.0, 0.0, 0.0, 0.0, 0.0, 0.0, 0.0], [0.5456880331039429, 0.03669070824980736, 0.025712575763463974, 0.053773023188114166, 0.08041240274906158, 0.07795718312263489, 0.1196383461356163, 0.06012775003910065, 0.0, 0.0, 0.0, 0.0, 0.0, 0.0, 0.0, 0.0, 0.0, 0.0, 0.0, 0.0, 0.0, 0.0], [0.19436362385749817, 0.027356145903468132, 0.029817484319210052, 0.22935305535793304, 0.2738223969936371, 0.05198325216770172, 0.04482530802488327, 0.11561127007007599, 0.032867416739463806, 0.0, 0.0, 0.0, 0.0, 0.0, 0.0, 0.0, 0.0, 0.0, 0.0, 0.0, 0.0, 0.0], [0.00013752271479461342, 0.00022375464322976768, 0.000800914247520268, 5.1564427849370986e-05, 0.00012168868124717847, 1.307227648794651e-05, 0.00012696774501819164, 7.609369640704244e-05, 4.717741467175074e-05, 0.9984012246131897, 0.0, 0.0, 0.0, 0.0, 0.0, 0.0, 0.0, 0.0, 0.0, 0.0, 0.0, 0.0], [0.1321759670972824, 0.0031859800219535828, 0.002168725710362196, 0.08682267367839813, 0.14588192105293274, 0.47378137707710266, 0.05091889202594757, 0.05346415564417839, 0.005826326087117195, 1.45911326399073e-05, 0.04575938731431961, 0.0, 0.0, 0.0, 0.0, 0.0, 0.0, 0.0, 0.0, 0.0, 0.0, 0.0], [0.4743652045726776, 0.01362674031406641, 0.006915944628417492, 0.017503507435321808, 0.024666687473654747, 0.166905477643013, 0.19124577939510345, 0.025020698085427284, 0.009440578520298004, 0.00012479943688958883, 0.008650509640574455, 0.061534155160188675, 0.0, 0.0, 0.0, 0.0, 0.0, 0.0, 0.0, 0.0, 0.0, 0.0], [0.0009322325931861997, 0.000650688714813441, 0.0010791509412229061, 0.0005371687584556639, 0.0005096031818538904, 6.228287384146824e-05, 0.0008817295311018825, 0.00036254673614166677, 0.000808983517345041, 0.016964513808488846, 0.0014743360225111246, 0.0030584619380533695, 0.9726783037185669, 0.0, 0.0, 0.0, 0.0, 0.0, 0.0, 0.0, 0.0, 0.0], [0.9784160852432251, 0.0013325536856427789, 0.001472259173169732, 9.045460319612175e-05, 0.00013035106530878693, 0.0002002928376896307, 0.015146982856094837, 0.00015899140271358192, 0.0008950293995440006, 0.0014787849504500628, 3.425377872190438e-05, 3.638261478045024e-05, 1.0238619324809406e-05, 0.000597397971432656, 0.0, 0.0, 0.0, 0.0, 0.0, 0.0, 0.0, 0.0], [0.3543010354042053, 0.07190927118062973, 0.03626256436109543, 0.035183362662792206, 0.035268042236566544, 0.04140837863087654, 0.12056544423103333, 0.041559647768735886, 0.04180220887064934, 0.03169350326061249, 0.022504689171910286, 0.047237154096364975, 0.023443957790732384, 0.05762355402112007, 0.03923716023564339, 0.0, 0.0, 0.0, 0.0, 0.0, 0.0, 0.0], [0.00016503679216839373, 5.909893297939561e-05, 0.00014911225298419595, 1.3628447959490586e-05, 3.0291101211332716e-05, 5.960305315966252e-06, 0.0001254900562344119, 2.3248905563377775e-05, 1.3936438335804269e-05, 0.6712304949760437, 1.456309746572515e-06, 0.0002506173914298415, 0.20306864380836487, 0.0002992141817230731, 0.09794916212558746, 0.02661455236375332, 0.0, 0.0, 0.0, 0.0, 0.0, 0.0], [3.867520717903972e-06, 2.6800571504281834e-06, 4.998513304599328e-06, 1.1913722119061276e-05, 1.1214780897716992e-05, 6.778197416679177e-07, 2.0614543245756067e-06, 4.714047008747002e-06, 4.017077571916161e-06, 0.0001892779691843316, 1.8682170775718987e-05, 0.001983512891456485, 0.9918862581253052, 5.599172436632216e-05, 9.367633992951596e-07, 0.00010133997420780361, 0.005717922002077103, 0.0, 0.0, 0.0, 0.0, 0.0], [0.00044829933904111385, 1.7674827176961116e-05, 1.6765976397437043e-05, 0.001324897282756865, 0.0015889181522652507, 0.0007527832640334964, 0.00024898856645449996, 0.00038198402035050094, 3.349007238284685e-05, 1.971924348254106e-06, 0.006040885578840971, 0.9327051043510437, 0.0008386415429413319, 0.03691403195261955, 8.425877604167908e-05, 1.4260631360230036e-05, 2.3038979634293355e-05, 0.018563946709036827, 0.0, 0.0, 0.0, 0.0], [0.05345437303185463, 0.007436797022819519, 0.0026648249477148056, 0.002161371288821101, 0.004345770459622145, 0.016790276393294334, 0.1873495727777481, 0.006324195768684149, 0.003970211837440729, 0.0027260768692940474, 0.0011808528797701001, 0.06766853481531143, 0.0008548246696591377, 0.37396687269210815, 0.2459980696439743, 0.006483796052634716, 0.0096769193187356, 0.002004384994506836, 0.004942234605550766, 0.0, 0.0, 0.0], [0.007030103821307421, 0.019090576097369194, 0.005186046939343214, 0.0045067318715155125, 0.005113523919135332, 0.052746377885341644, 0.1739136278629303, 0.018218638375401497, 0.011543055064976215, 0.0007096044137142599, 0.0006183598306961358, 0.04395283758640289, 0.0019639814272522926, 0.46916550397872925, 0.02972801774740219, 0.00405550142750144, 0.024723438546061516, 0.0008336615865118802, 0.006344806868582964, 0.12055554240942001, 0.0, 0.0], [0.06798437982797623, 0.022936390712857246, 0.018756693229079247, 0.009208791889250278, 0.007956578396260738, 0.07190866023302078, 0.1263885796070099, 0.02033556066453457, 0.027301134541630745, 0.009983142837882042, 0.0016055719461292028, 0.01912497915327549, 0.001306150108575821, 0.10684853792190552, 0.01695927418768406, 0.01278829388320446, 0.009469208307564259, 0.0019780558068305254, 0.005832911469042301, 0.02608061395585537, 0.41524648666381836, 0.0], [0.0016498321201652288, 2.700765799090732e-05, 5.1843791879946366e-05, 7.720879511907697e-05, 0.00016480041085742414, 0.0002708127722144127, 0.00018742203246802092, 0.00012651202268898487, 1.4222808204067405e-05, 2.9905897463322617e-05, 7.4634162956499495e-06, 7.852030830690637e-05, 6.394855063263094e-07, 0.0006836014217697084, 0.9960983991622925, 0.00012905341282021254, 2.0922459498251555e-06, 2.392188980593346e-05, 2.221091381215956e-05, 5.03175624544383e-06, 0.00023795050219632685, 0.00011142352741444483]]]}\n",
              "    )\n",
              "    </script>"
            ]
          },
          "metadata": {}
        },
        {
          "output_type": "display_data",
          "data": {
            "text/plain": [
              "<circuitsvis.utils.render.RenderedHTML at 0x7aa38759bdc0>"
            ],
            "text/html": [
              "<div id=\"circuits-vis-335a8506-669b\" style=\"margin: 15px 0;\"/>\n",
              "    <script crossorigin type=\"module\">\n",
              "    import { render, AttentionPatterns } from \"https://unpkg.com/circuitsvis@1.43.2/dist/cdn/esm.js\";\n",
              "    render(\n",
              "      \"circuits-vis-335a8506-669b\",\n",
              "      AttentionPatterns,\n",
              "      {\"tokens\": [\"5\", \"4\", \"9\", \"7\", \"4\", \"8\", \"11\", \"1\", \"1\", \"7\", \"6\", \"3\", \"8\", \"12\", \"10\", \"0\", \"4\", \"3\", \"2\", \"1\", \"1\", \"0\"], \"attention\": [[[1.0, 0.0, 0.0, 0.0, 0.0, 0.0, 0.0, 0.0, 0.0, 0.0, 0.0, 0.0, 0.0, 0.0, 0.0, 0.0, 0.0, 0.0, 0.0, 0.0, 0.0, 0.0], [0.7137750387191772, 0.28622496128082275, 0.0, 0.0, 0.0, 0.0, 0.0, 0.0, 0.0, 0.0, 0.0, 0.0, 0.0, 0.0, 0.0, 0.0, 0.0, 0.0, 0.0, 0.0, 0.0, 0.0], [0.4652809500694275, 0.26622623205184937, 0.26849284768104553, 0.0, 0.0, 0.0, 0.0, 0.0, 0.0, 0.0, 0.0, 0.0, 0.0, 0.0, 0.0, 0.0, 0.0, 0.0, 0.0, 0.0, 0.0, 0.0], [0.302078515291214, 0.16152450442314148, 0.1955300271511078, 0.34086695313453674, 0.0, 0.0, 0.0, 0.0, 0.0, 0.0, 0.0, 0.0, 0.0, 0.0, 0.0, 0.0, 0.0, 0.0, 0.0, 0.0, 0.0, 0.0], [0.20828312635421753, 0.11148563772439957, 0.14217408001422882, 0.26001009345054626, 0.2780470550060272, 0.0, 0.0, 0.0, 0.0, 0.0, 0.0, 0.0, 0.0, 0.0, 0.0, 0.0, 0.0, 0.0, 0.0, 0.0, 0.0, 0.0], [0.36848583817481995, 0.057372722774744034, 0.07423974573612213, 0.14970993995666504, 0.13423343002796173, 0.2159583568572998, 0.0, 0.0, 0.0, 0.0, 0.0, 0.0, 0.0, 0.0, 0.0, 0.0, 0.0, 0.0, 0.0, 0.0, 0.0, 0.0], [0.49176621437072754, 0.06878754496574402, 0.05141959339380264, 0.09797193109989166, 0.06783896684646606, 0.031557291746139526, 0.19065845012664795, 0.0, 0.0, 0.0, 0.0, 0.0, 0.0, 0.0, 0.0, 0.0, 0.0, 0.0, 0.0, 0.0, 0.0, 0.0], [0.03488234058022499, 0.021182021126151085, 0.019607802852988243, 0.02914242260158062, 0.04864254593849182, 0.04842374473810196, 0.7720018625259399, 0.026117319241166115, 0.0, 0.0, 0.0, 0.0, 0.0, 0.0, 0.0, 0.0, 0.0, 0.0, 0.0, 0.0, 0.0, 0.0], [0.16334553062915802, 0.02548804320394993, 0.01171077974140644, 0.03184104710817337, 0.0501190610229969, 0.030473992228507996, 0.6634453535079956, 0.014883993193507195, 0.008692231960594654, 0.0, 0.0, 0.0, 0.0, 0.0, 0.0, 0.0, 0.0, 0.0, 0.0, 0.0, 0.0, 0.0], [0.001844925805926323, 0.0010763226309791207, 0.0013711999636143446, 0.0020291658584028482, 0.001533183385618031, 0.0011274171993136406, 5.331450665835291e-05, 0.0009222443331964314, 0.0005579945864155889, 0.9894842505455017, 0.0, 0.0, 0.0, 0.0, 0.0, 0.0, 0.0, 0.0, 0.0, 0.0, 0.0, 0.0], [0.22914233803749084, 0.004400654695928097, 0.001853021327406168, 0.0069098384119570255, 0.01131631713360548, 0.011008265428245068, 0.725261390209198, 0.005259410478174686, 0.0015225654933601618, 0.002209515543654561, 0.0011167253833264112, 0.0, 0.0, 0.0, 0.0, 0.0, 0.0, 0.0, 0.0, 0.0, 0.0, 0.0], [0.009501095861196518, 0.0031298885587602854, 0.0016539822099730372, 0.0025651673786342144, 0.004240415059030056, 0.007957830093801022, 0.24277527630329132, 0.0021680230274796486, 0.002127451589331031, 0.6767094135284424, 0.0336257666349411, 0.013545622117817402, 0.0, 0.0, 0.0, 0.0, 0.0, 0.0, 0.0, 0.0, 0.0, 0.0], [0.008770031854510307, 0.08199090510606766, 0.057090360671281815, 0.01699487864971161, 0.023902738466858864, 0.01431727223098278, 0.48001766204833984, 0.06638415902853012, 0.0852217823266983, 0.0031607875134795904, 0.12287941575050354, 0.014551451429724693, 0.024718595668673515, 0.0, 0.0, 0.0, 0.0, 0.0, 0.0, 0.0, 0.0, 0.0], [8.180464647011831e-05, 4.855008955928497e-05, 4.5257675083121285e-05, 2.2937725589144975e-05, 3.231796290492639e-05, 3.042205389647279e-05, 0.0012149503454566002, 2.1622476197080687e-05, 1.6038131434470415e-05, 0.9979462027549744, 0.0001249815250048414, 0.00012126051296945661, 7.441078196279705e-05, 0.00021932348317932338, 0.0, 0.0, 0.0, 0.0, 0.0, 0.0, 0.0, 0.0], [0.03872166946530342, 0.03659697249531746, 0.04236041381955147, 0.06729056686162949, 0.05320756509900093, 0.0268543753772974, 0.012459413148462772, 0.03730286657810211, 0.020157894119620323, 0.11649830639362335, 0.004136234056204557, 0.010216610506176949, 0.03576402738690376, 0.013042071834206581, 0.4853910207748413, 0.0, 0.0, 0.0, 0.0, 0.0, 0.0, 0.0], [0.00013867502275388688, 4.224028089083731e-05, 3.82532125513535e-05, 8.265348878921941e-05, 6.533530540764332e-05, 5.1282902859384194e-05, 5.210619201534428e-05, 2.897829472203739e-05, 1.84937052836176e-05, 0.9800184369087219, 7.303521852008998e-05, 0.00011172411177540198, 2.2679605535813607e-05, 1.336330569756683e-05, 4.70804407086689e-05, 0.019195707514882088, 0.0, 0.0, 0.0, 0.0, 0.0, 0.0], [0.00015936765703372657, 0.0004975328338332474, 0.00037026451900601387, 0.00016728350601624697, 0.0002534251834731549, 0.0001235785020980984, 0.005817076191306114, 0.000383744336431846, 0.0004637799283955246, 3.799842670559883e-05, 0.00040781390271149576, 8.823001553537324e-05, 7.194754289230332e-05, 0.00013677874812856317, 0.9909237027168274, 5.7750195992412046e-05, 3.971713886130601e-05, 0.0, 0.0, 0.0, 0.0, 0.0], [2.2355554392561316e-05, 0.00019920271006412804, 9.398172551300377e-05, 7.337993156397715e-05, 0.00013283589214552194, 6.495251727756113e-05, 0.0018509780056774616, 0.0001211179987876676, 0.0001737349375616759, 7.502811968151946e-06, 0.00030846058507449925, 2.311163189006038e-05, 2.9791858651151415e-06, 1.4010094673722051e-05, 0.9968589544296265, 1.0225107871519867e-05, 3.3814210382843157e-06, 3.889125582645647e-05, 0.0, 0.0, 0.0, 0.0], [0.00015150128456298262, 0.00026276023709215224, 0.0002244823263026774, 0.00011450911551946774, 0.0002180892479373142, 0.00010960518557112664, 0.003249639878049493, 0.0002838452928699553, 0.00023918818624224514, 6.054869118088391e-06, 0.000126797312987037, 5.4360793001251295e-05, 4.325534973759204e-05, 0.0002838401705957949, 0.9942106008529663, 1.842924757511355e-05, 3.0441658964264207e-05, 0.0003419189597479999, 3.076060238527134e-05, 0.0, 0.0, 0.0], [5.898167364648543e-05, 0.00010382957407273352, 5.783684173366055e-05, 3.8302405300782993e-05, 7.251604984048754e-05, 7.887586252763867e-05, 0.006472139619290829, 9.638374467613176e-05, 6.748270243406296e-05, 2.32766706176335e-05, 0.00011233604891458526, 4.2191993998130783e-05, 2.0739214960485697e-05, 0.0007518123602494597, 0.9918199777603149, 2.383170613029506e-05, 1.8773256670101546e-05, 8.503710705554113e-05, 2.014798519667238e-05, 3.547193773556501e-05, 0.0, 0.0], [0.0017059919191524386, 0.002455116482451558, 0.0029277619905769825, 0.002200058661401272, 0.003187974449247122, 0.002999094780534506, 0.010798053815960884, 0.00425976887345314, 0.0016535696340724826, 0.001153610646724701, 0.0006158700562082231, 0.0008124462910927832, 0.0014044306008145213, 0.01293309684842825, 0.9177063703536987, 0.0011129082413390279, 0.001589109655469656, 0.0037162890657782555, 0.0018302422249689698, 0.003269415581598878, 0.021668804809451103, 0.0], [0.02758580446243286, 0.010181548073887825, 0.008453012444078922, 0.020621763542294502, 0.013339363969862461, 0.0143132908269763, 0.00046295064385049045, 0.00945907924324274, 0.006910009775310755, 0.3863351047039032, 0.10503329336643219, 0.04729539901018143, 0.05465894937515259, 0.00351683609187603, 0.0004332018143031746, 0.06602078676223755, 0.0501244030892849, 0.012261200696229935, 0.05354133993387222, 0.023450499400496483, 0.006929838098585606, 0.07907228171825409]], [[1.0, 0.0, 0.0, 0.0, 0.0, 0.0, 0.0, 0.0, 0.0, 0.0, 0.0, 0.0, 0.0, 0.0, 0.0, 0.0, 0.0, 0.0, 0.0, 0.0, 0.0, 0.0], [0.3386886715888977, 0.6613113284111023, 0.0, 0.0, 0.0, 0.0, 0.0, 0.0, 0.0, 0.0, 0.0, 0.0, 0.0, 0.0, 0.0, 0.0, 0.0, 0.0, 0.0, 0.0, 0.0, 0.0], [0.9715543389320374, 0.020901553332805634, 0.007544171530753374, 0.0, 0.0, 0.0, 0.0, 0.0, 0.0, 0.0, 0.0, 0.0, 0.0, 0.0, 0.0, 0.0, 0.0, 0.0, 0.0, 0.0, 0.0, 0.0], [0.9287749528884888, 0.04411301761865616, 0.016532279551029205, 0.010579797439277172, 0.0, 0.0, 0.0, 0.0, 0.0, 0.0, 0.0, 0.0, 0.0, 0.0, 0.0, 0.0, 0.0, 0.0, 0.0, 0.0, 0.0, 0.0], [0.9776096940040588, 0.012567879632115364, 0.004516000393778086, 0.0027476975228637457, 0.002558681182563305, 0.0, 0.0, 0.0, 0.0, 0.0, 0.0, 0.0, 0.0, 0.0, 0.0, 0.0, 0.0, 0.0, 0.0, 0.0, 0.0, 0.0], [0.5122774243354797, 0.20346751809120178, 0.12963436543941498, 0.06378965824842453, 0.03870372846722603, 0.05212734639644623, 0.0, 0.0, 0.0, 0.0, 0.0, 0.0, 0.0, 0.0, 0.0, 0.0, 0.0, 0.0, 0.0, 0.0, 0.0, 0.0], [0.2909564971923828, 0.07939066737890244, 0.07399280369281769, 0.06966035068035126, 0.052083685994148254, 0.04847058281302452, 0.3854454457759857, 0.0, 0.0, 0.0, 0.0, 0.0, 0.0, 0.0, 0.0, 0.0, 0.0, 0.0, 0.0, 0.0, 0.0, 0.0], [0.5530945658683777, 0.06145544722676277, 0.05728056654334068, 0.05501008406281471, 0.03369893506169319, 0.03872084245085716, 0.16262538731098175, 0.03811413422226906, 0.0, 0.0, 0.0, 0.0, 0.0, 0.0, 0.0, 0.0, 0.0, 0.0, 0.0, 0.0, 0.0, 0.0], [0.29684072732925415, 0.08153820037841797, 0.04719911515712738, 0.04227326810359955, 0.015551791526377201, 0.021652190014719963, 0.42056259512901306, 0.03082440048456192, 0.043557677417993546, 0.0, 0.0, 0.0, 0.0, 0.0, 0.0, 0.0, 0.0, 0.0, 0.0, 0.0, 0.0, 0.0], [1.6118465282488614e-05, 6.446012321248418e-06, 4.656563760363497e-06, 7.1416611717722844e-06, 1.1096245543740224e-05, 5.658901500282809e-06, 0.9999078512191772, 2.304470763192512e-05, 9.645376849221066e-06, 8.410681402892806e-06, 0.0, 0.0, 0.0, 0.0, 0.0, 0.0, 0.0, 0.0, 0.0, 0.0, 0.0, 0.0], [0.026477064937353134, 0.026275591924786568, 0.0033166822977364063, 0.0012019177665933967, 0.0003928157966583967, 0.001958516426384449, 0.017488708719611168, 0.0009850537171587348, 0.01706787571310997, 0.008123502135276794, 0.8967123031616211, 0.0, 0.0, 0.0, 0.0, 0.0, 0.0, 0.0, 0.0, 0.0, 0.0, 0.0], [0.24345146119594574, 0.01993558742105961, 0.01111765019595623, 0.005550939589738846, 0.0035539939999580383, 0.008724188432097435, 0.015192932449281216, 0.003908431623131037, 0.005790406838059425, 0.6704925894737244, 0.011881472542881966, 0.0004003413487225771, 0.0, 0.0, 0.0, 0.0, 0.0, 0.0, 0.0, 0.0, 0.0, 0.0], [0.06623362749814987, 0.03828785941004753, 0.06421373039484024, 0.059444867074489594, 0.02855967916548252, 0.14755631983280182, 4.533292303676717e-05, 0.018192555755376816, 0.02532975561916828, 0.4572888910770416, 0.05265428125858307, 0.017804786562919617, 0.024388285353779793, 0.0, 0.0, 0.0, 0.0, 0.0, 0.0, 0.0, 0.0, 0.0], [0.940281867980957, 4.774677654495463e-05, 5.6003089412115514e-05, 2.7008543838746846e-05, 2.4285176550620236e-05, 7.466637271136278e-06, 5.390949809225276e-05, 8.531967068847734e-06, 6.714326445944607e-06, 0.05915461480617523, 1.3906817457609577e-06, 0.00010328421922167763, 0.00018275249749422073, 4.44199176854454e-05, 0.0, 0.0, 0.0, 0.0, 0.0, 0.0, 0.0, 0.0], [0.0688672587275505, 0.02899167127907276, 0.037675920873880386, 0.03919660672545433, 0.029240580275654793, 0.0207795649766922, 0.04318145662546158, 0.02218499779701233, 0.04337971657514572, 0.06793227046728134, 0.32029926776885986, 0.052523478865623474, 0.08635540306568146, 0.026275495067238808, 0.11311638355255127, 0.0, 0.0, 0.0, 0.0, 0.0, 0.0, 0.0], [3.5779939935309812e-06, 3.2299348617925716e-07, 2.3124728443235654e-07, 3.1696231417299714e-07, 3.1328184491030697e-07, 1.7849170319550467e-07, 0.024140547960996628, 7.679809641558677e-07, 2.659029405549518e-07, 6.021499530106666e-07, 1.2254805596967344e-06, 5.763844228567905e-07, 1.8999946405529045e-05, 1.2660707398026716e-06, 0.975830614566803, 1.398904174720883e-07, 0.0, 0.0, 0.0, 0.0, 0.0, 0.0], [0.16468839347362518, 0.046566568315029144, 0.04545386880636215, 0.049141544848680496, 0.020173756405711174, 0.058243297040462494, 0.0004876047605648637, 0.016136297956109047, 0.02488347701728344, 0.0418739914894104, 0.14951848983764648, 0.008578433655202389, 0.09272468090057373, 0.0035234042443335056, 0.0008622521418146789, 0.040132805705070496, 0.23701107501983643, 0.0, 0.0, 0.0, 0.0, 0.0], [0.03353792056441307, 0.034171443432569504, 0.05412933975458145, 0.06463994085788727, 0.02432890608906746, 0.0875261053442955, 0.00012910815712530166, 0.023972367867827415, 0.026697391644120216, 0.062394652515649796, 0.11959677189588547, 0.022569188848137856, 0.13334158062934875, 0.0018972440157085657, 0.00015155013534240425, 0.06071069464087486, 0.21640022099018097, 0.03380556032061577, 0.0, 0.0, 0.0, 0.0], [0.009718007408082485, 0.037936948239803314, 0.11104241758584976, 0.1310359537601471, 0.0607147254049778, 0.1790381819009781, 0.00016574336041230708, 0.06082489714026451, 0.04162275046110153, 0.09770705550909042, 0.010458615608513355, 0.017891520634293556, 0.01466951984912157, 0.0023464595433324575, 9.588392276782542e-05, 0.1374208927154541, 0.041236888617277145, 0.007213918026536703, 0.03885961323976517, 0.0, 0.0, 0.0], [0.02761738747358322, 0.017558628693223, 0.022291848435997963, 0.014589120633900166, 0.005664678756147623, 0.025180336087942123, 0.00016218134260270745, 0.00555733498185873, 0.005708753596991301, 0.04064808040857315, 0.029698370024561882, 0.0002475143119227141, 0.00716027244925499, 0.016634998843073845, 0.0003183511726092547, 0.01791299507021904, 0.061724260449409485, 0.003750574542209506, 0.6915812492370605, 0.005992978345602751, 0.0, 0.0], [0.019826672971248627, 0.010251837782561779, 0.015534593723714352, 0.01248609647154808, 0.005298373755067587, 0.007298201788216829, 0.001766844536177814, 0.0068717035464942455, 0.004281872883439064, 0.06702334433794022, 0.017106546089053154, 0.0022853442933410406, 0.08658222109079361, 0.16123344004154205, 0.004795200191438198, 0.03148636966943741, 0.17351874709129333, 0.02758605219423771, 0.28174278140068054, 0.02687264420092106, 0.036151088774204254, 0.0], [4.948262358084321e-05, 6.133009833320102e-07, 3.841696241124737e-07, 4.449998698419222e-07, 5.728916789848881e-07, 1.8755422104277386e-07, 0.028334880247712135, 1.4053171071282122e-06, 3.095388478868699e-07, 1.4642023415945005e-07, 6.838180297563667e-07, 4.997245355298219e-07, 1.8707993149291724e-05, 3.2344821647711797e-06, 0.9715383648872375, 5.4640555191554085e-08, 8.047627488849685e-06, 3.521185863064602e-05, 2.217720521002775e-06, 1.0308716582585475e-06, 3.6202307001076406e-06, 6.508533800797522e-08]], [[1.0, 0.0, 0.0, 0.0, 0.0, 0.0, 0.0, 0.0, 0.0, 0.0, 0.0, 0.0, 0.0, 0.0, 0.0, 0.0, 0.0, 0.0, 0.0, 0.0, 0.0, 0.0], [0.03813451901078224, 0.9618654847145081, 0.0, 0.0, 0.0, 0.0, 0.0, 0.0, 0.0, 0.0, 0.0, 0.0, 0.0, 0.0, 0.0, 0.0, 0.0, 0.0, 0.0, 0.0, 0.0, 0.0], [0.6418209075927734, 0.18461492657661438, 0.17356416583061218, 0.0, 0.0, 0.0, 0.0, 0.0, 0.0, 0.0, 0.0, 0.0, 0.0, 0.0, 0.0, 0.0, 0.0, 0.0, 0.0, 0.0, 0.0, 0.0], [0.6898611783981323, 0.15753903985023499, 0.08041036874055862, 0.07218940556049347, 0.0, 0.0, 0.0, 0.0, 0.0, 0.0, 0.0, 0.0, 0.0, 0.0, 0.0, 0.0, 0.0, 0.0, 0.0, 0.0, 0.0, 0.0], [0.5259910821914673, 0.13990162312984467, 0.12085498869419098, 0.0952124372124672, 0.11803983896970749, 0.0, 0.0, 0.0, 0.0, 0.0, 0.0, 0.0, 0.0, 0.0, 0.0, 0.0, 0.0, 0.0, 0.0, 0.0, 0.0, 0.0], [0.7598448991775513, 0.09612835198640823, 0.03336066007614136, 0.024544021114706993, 0.028205476701259613, 0.057916559278964996, 0.0, 0.0, 0.0, 0.0, 0.0, 0.0, 0.0, 0.0, 0.0, 0.0, 0.0, 0.0, 0.0, 0.0, 0.0, 0.0], [0.19435666501522064, 0.07337647676467896, 0.06160992756485939, 0.040537044405937195, 0.06400418281555176, 0.0713711678981781, 0.49474456906318665, 0.0, 0.0, 0.0, 0.0, 0.0, 0.0, 0.0, 0.0, 0.0, 0.0, 0.0, 0.0, 0.0, 0.0, 0.0], [0.15437231957912445, 0.16553407907485962, 0.10862615704536438, 0.09620758891105652, 0.10817309468984604, 0.16180537641048431, 0.10754375159740448, 0.09773758798837662, 0.0, 0.0, 0.0, 0.0, 0.0, 0.0, 0.0, 0.0, 0.0, 0.0, 0.0, 0.0, 0.0, 0.0], [0.06563439965248108, 0.17893706262111664, 0.08892297744750977, 0.08228150755167007, 0.07721155881881714, 0.16179479658603668, 0.17909900844097137, 0.08329983800649643, 0.08281882852315903, 0.0, 0.0, 0.0, 0.0, 0.0, 0.0, 0.0, 0.0, 0.0, 0.0, 0.0, 0.0, 0.0], [0.0020803811494261026, 0.0013214921345934272, 0.000936333613935858, 0.0010651713237166405, 0.001193906762637198, 0.0006836829707026482, 0.9887683391571045, 0.0009987129596993327, 0.0008525787852704525, 0.0020993559155613184, 0.0, 0.0, 0.0, 0.0, 0.0, 0.0, 0.0, 0.0, 0.0, 0.0, 0.0, 0.0], [0.6756887435913086, 0.06168459728360176, 0.005049947649240494, 0.0054054269567132, 0.00328807276673615, 0.009327861480414867, 0.011628145352005959, 0.003367784433066845, 0.013811091892421246, 0.005824058782309294, 0.20492438971996307, 0.0, 0.0, 0.0, 0.0, 0.0, 0.0, 0.0, 0.0, 0.0, 0.0, 0.0], [0.12452903389930725, 0.08997290581464767, 0.08873157203197479, 0.04915299639105797, 0.069362111389637, 0.03807321935892105, 0.048331208527088165, 0.04878095164895058, 0.05727154389023781, 0.2950953543186188, 0.04709157347679138, 0.043607473373413086, 0.0, 0.0, 0.0, 0.0, 0.0, 0.0, 0.0, 0.0, 0.0, 0.0], [0.013559119775891304, 0.003152343211695552, 0.0024301493540406227, 0.0025238124653697014, 0.0013970292638987303, 0.0011636449489742517, 1.267119273506978e-06, 0.0015825714217498899, 0.0014588760677725077, 0.00793285109102726, 0.004184051416814327, 0.004237101413309574, 0.9563771486282349, 0.0, 0.0, 0.0, 0.0, 0.0, 0.0, 0.0, 0.0, 0.0], [0.040682461112737656, 0.012708301655948162, 0.002654868643730879, 0.002672498347237706, 0.0020420760847628117, 0.008033916354179382, 0.01632978953421116, 0.0022891201078891754, 0.0022121903020888567, 0.8802578449249268, 0.011279786936938763, 0.004509903024882078, 0.0037939725443720818, 0.010533296503126621, 0.0, 0.0, 0.0, 0.0, 0.0, 0.0, 0.0, 0.0], [0.024167504161596298, 0.015572712756693363, 0.0029717611614614725, 0.004105140920728445, 0.0023448390420526266, 0.008500942029058933, 0.015691149979829788, 0.002436828799545765, 0.0029424673411995173, 0.026386499404907227, 0.07288426160812378, 0.0016880128532648087, 0.0036341380327939987, 0.009955862537026405, 0.8067179918289185, 0.0, 0.0, 0.0, 0.0, 0.0, 0.0, 0.0], [0.0001689989003352821, 0.000757869565859437, 0.001739860512316227, 0.001392041682265699, 0.002301615197211504, 0.0008988789631985128, 0.9174513220787048, 0.0021669967100024223, 0.0016890564002096653, 0.0007971019367687404, 0.00010984935943270102, 0.0011326066451147199, 3.4251799661433324e-05, 0.0011745212832465768, 0.067008838057518, 0.0011760892812162638, 0.0, 0.0, 0.0, 0.0, 0.0, 0.0], [0.001363638904877007, 0.0005660198512487113, 0.0012722148094326258, 0.001157449441961944, 0.0009109063539654016, 0.0009533629636280239, 5.136186700838152e-06, 0.0013100981013849378, 0.0016246344894170761, 0.0007772118551656604, 0.0014181629521772265, 0.005162358749657869, 0.88043612241745, 0.00014019542140886188, 1.3852449853857252e-07, 0.0011603261809796095, 0.10174195468425751, 0.0, 0.0, 0.0, 0.0, 0.0], [0.011832550168037415, 0.007729987148195505, 0.0019132185261696577, 0.002979767508804798, 0.0010452967835590243, 0.0011282446794211864, 5.79650873078208e-07, 0.0012420358834788203, 0.0010634846985340118, 0.02355494536459446, 0.0160943903028965, 0.001400580513291061, 0.5620275735855103, 0.00034435323323123157, 3.9213322452269495e-05, 0.004069763235747814, 0.21854770183563232, 0.14498625695705414, 0.0, 0.0, 0.0, 0.0], [0.04906664788722992, 0.011661049909889698, 0.0016984364483505487, 0.0016619260422885418, 0.0005996340187266469, 0.0018743809778243303, 4.641799023374915e-06, 0.000917541969101876, 0.0012096455320715904, 0.024806566536426544, 0.026483632624149323, 0.0007377988076768816, 0.042398601770401, 0.0006691165035590529, 0.0005307072424329817, 0.01297143567353487, 0.07135146856307983, 0.022807272151112556, 0.7285495400428772, 0.0, 0.0, 0.0], [8.368029375560582e-05, 0.0004020587948616594, 0.0019077467732131481, 0.001253817812539637, 0.002270469209179282, 0.0014551235362887383, 3.7005705962656066e-05, 0.0023992187343537807, 0.0015191850252449512, 0.0005094393854960799, 0.00043986880336888134, 0.012773394584655762, 0.6312690377235413, 0.0006249840371310711, 9.618035079483889e-08, 0.0008985084132291377, 0.09067312628030777, 0.011685939505696297, 0.0074238586239516735, 0.23237347602844238, 0.0, 0.0], [0.016814135015010834, 0.01865454576909542, 0.006222357973456383, 0.009213097393512726, 0.0047837249003350735, 0.01944182999432087, 0.0006189201376400888, 0.0055541074834764, 0.0035312676336616278, 0.05425426363945007, 0.06594020128250122, 0.004000878427177668, 0.03095582127571106, 0.06564850360155106, 0.028330236673355103, 0.013244123198091984, 0.0625830665230751, 0.026916075497865677, 0.4629703462123871, 0.010901459492743015, 0.08942101150751114, 0.0], [0.004914386663585901, 0.000961125420872122, 0.0010778304422274232, 0.001095625921152532, 0.0014916540822014213, 0.0008969928021542728, 0.6121871471405029, 0.0015203928342089057, 0.0018138044979423285, 8.114083902910352e-05, 8.931528282118961e-05, 0.0006177954492159188, 8.247305231634527e-06, 0.010464664548635483, 0.36096107959747314, 0.00015133622218854725, 1.3363879588723648e-05, 0.00010943190136458725, 1.1528264622029383e-05, 5.1707596867345273e-05, 0.001183503889478743, 0.0002979678974952549]], [[1.0, 0.0, 0.0, 0.0, 0.0, 0.0, 0.0, 0.0, 0.0, 0.0, 0.0, 0.0, 0.0, 0.0, 0.0, 0.0, 0.0, 0.0, 0.0, 0.0, 0.0, 0.0], [0.18521346151828766, 0.8147865533828735, 0.0, 0.0, 0.0, 0.0, 0.0, 0.0, 0.0, 0.0, 0.0, 0.0, 0.0, 0.0, 0.0, 0.0, 0.0, 0.0, 0.0, 0.0, 0.0, 0.0], [0.9328249096870422, 0.04684066399931908, 0.02033442072570324, 0.0, 0.0, 0.0, 0.0, 0.0, 0.0, 0.0, 0.0, 0.0, 0.0, 0.0, 0.0, 0.0, 0.0, 0.0, 0.0, 0.0, 0.0, 0.0], [0.8783138394355774, 0.07555721700191498, 0.022258335724473, 0.023870566859841347, 0.0, 0.0, 0.0, 0.0, 0.0, 0.0, 0.0, 0.0, 0.0, 0.0, 0.0, 0.0, 0.0, 0.0, 0.0, 0.0, 0.0, 0.0], [0.9127180576324463, 0.02732744999229908, 0.019580446183681488, 0.013792457990348339, 0.026581615209579468, 0.0, 0.0, 0.0, 0.0, 0.0, 0.0, 0.0, 0.0, 0.0, 0.0, 0.0, 0.0, 0.0, 0.0, 0.0, 0.0, 0.0], [0.3239239454269409, 0.09027205407619476, 0.09493247419595718, 0.1138862743973732, 0.11486756056547165, 0.26211774349212646, 0.0, 0.0, 0.0, 0.0, 0.0, 0.0, 0.0, 0.0, 0.0, 0.0, 0.0, 0.0, 0.0, 0.0, 0.0, 0.0], [0.4059317409992218, 0.08895410597324371, 0.10266076773405075, 0.11809004098176956, 0.12774929404258728, 0.15432938933372498, 0.0022846893407404423, 0.0, 0.0, 0.0, 0.0, 0.0, 0.0, 0.0, 0.0, 0.0, 0.0, 0.0, 0.0, 0.0, 0.0, 0.0], [0.4099651575088501, 0.08858660608530045, 0.0850403755903244, 0.07518253475427628, 0.0940977931022644, 0.12841437757015228, 0.0264731552451849, 0.09224003553390503, 0.0, 0.0, 0.0, 0.0, 0.0, 0.0, 0.0, 0.0, 0.0, 0.0, 0.0, 0.0, 0.0, 0.0], [0.017558174207806587, 0.014709319919347763, 0.030828027054667473, 0.018489545211195946, 0.04630596563220024, 0.04218004643917084, 0.7600396275520325, 0.030714021995663643, 0.039175260812044144, 0.0, 0.0, 0.0, 0.0, 0.0, 0.0, 0.0, 0.0, 0.0, 0.0, 0.0, 0.0, 0.0], [0.07760997116565704, 0.07934344559907913, 0.06942084431648254, 0.05153544247150421, 0.07763516157865524, 0.08082444965839386, 0.1846383512020111, 0.07756397128105164, 0.06132106855511665, 0.2401072084903717, 0.0, 0.0, 0.0, 0.0, 0.0, 0.0, 0.0, 0.0, 0.0, 0.0, 0.0, 0.0], [0.13085348904132843, 0.08041349053382874, 0.04289272427558899, 0.07579926401376724, 0.03983602672815323, 0.19191403687000275, 0.02283896692097187, 0.05483809486031532, 0.034334588795900345, 0.024928834289312363, 0.30135050415992737, 0.0, 0.0, 0.0, 0.0, 0.0, 0.0, 0.0, 0.0, 0.0, 0.0, 0.0], [0.004789357073605061, 0.0005713839782401919, 0.0015985708450898528, 0.0008380318759009242, 0.002780205337330699, 0.0014241139870136976, 0.004491924308240414, 0.0010089995339512825, 0.001345340977422893, 0.8909720778465271, 0.004285038448870182, 0.08589489758014679, 0.0, 0.0, 0.0, 0.0, 0.0, 0.0, 0.0, 0.0, 0.0, 0.0], [0.061834871768951416, 0.033119458705186844, 0.030578909441828728, 0.025251101702451706, 0.028749125078320503, 0.01981496810913086, 0.09557720273733139, 0.03906819969415665, 0.05282381549477577, 0.08252774178981781, 0.07140149921178818, 0.0759340450167656, 0.38331902027130127, 0.0, 0.0, 0.0, 0.0, 0.0, 0.0, 0.0, 0.0, 0.0], [0.9532012939453125, 0.002357418881729245, 0.0004653792711906135, 0.00019717721443157643, 0.00035102179390378296, 0.0005640489398501813, 0.002144560683518648, 0.0003164041554555297, 0.00011199228902114555, 0.03726532682776451, 0.00015828847244847566, 0.0009793572826310992, 0.0013353719841688871, 0.0005522348219528794, 0.0, 0.0, 0.0, 0.0, 0.0, 0.0, 0.0, 0.0], [0.0046109468676149845, 0.005501984618604183, 0.00418805330991745, 0.006376415956765413, 0.004937914665788412, 0.00892194639891386, 0.0005570802604779601, 0.005971528124064207, 0.0016498322365805507, 0.0009351162007078528, 0.0012573624262586236, 0.00016566994599997997, 0.00016613351181149483, 0.0037348931655287743, 0.9510250687599182, 0.0, 0.0, 0.0, 0.0, 0.0, 0.0, 0.0], [2.4935268811532296e-05, 1.8285376427229494e-05, 7.876560994191095e-05, 2.827404205163475e-05, 0.00015404389705508947, 3.185090099577792e-05, 6.269556615734473e-05, 5.4079027904663235e-05, 0.00012560543837025762, 0.00760895200073719, 1.1269558854110073e-05, 0.003104668576270342, 0.007489943411201239, 5.28040764038451e-05, 1.7982292774831876e-05, 0.981135904788971, 0.0, 0.0, 0.0, 0.0, 0.0, 0.0], [9.961381692846771e-06, 6.398472123692045e-06, 2.831681968018529e-06, 7.78530284151202e-06, 2.3311602035391843e-06, 4.492708740144735e-06, 2.3454677089418396e-10, 4.605070444085868e-06, 2.120888439094415e-06, 5.309968287292577e-07, 3.6906781133438926e-06, 2.398212295418034e-08, 4.291453876703599e-07, 1.0966463150907657e-06, 0.9999526739120483, 6.063763180463866e-07, 4.0758001773610886e-07, 0.0, 0.0, 0.0, 0.0, 0.0], [0.00011916798393940553, 7.580277451779693e-05, 2.267381023557391e-05, 3.33024472638499e-05, 1.404502836521715e-05, 3.696302155731246e-05, 6.263736054279434e-07, 4.014054866274819e-05, 1.3718550690100528e-05, 2.4673443022038555e-06, 1.890071689558681e-05, 2.2304386959604017e-07, 6.714139999530744e-07, 1.8594473658595234e-05, 0.9995686411857605, 3.5245747653789294e-07, 9.192548304781667e-07, 3.288515654276125e-05, 0.0, 0.0, 0.0, 0.0], [1.0468816071806941e-05, 3.847027983283624e-05, 1.1561309293028899e-05, 3.3000946132233366e-05, 8.352169061254244e-06, 3.8143389247125015e-05, 1.3023999372308026e-06, 3.311888940515928e-05, 1.0064018169941846e-05, 6.186670020724705e-08, 2.327566471649334e-05, 2.4248802077408982e-08, 5.131777669475923e-08, 1.3479221706802491e-05, 0.9995824694633484, 4.28887947379053e-09, 2.3651809044622496e-07, 3.6678345622931374e-06, 0.00019224871357437223, 0.0, 0.0, 0.0], [1.244074428541353e-05, 7.912140063126571e-06, 5.422365939011797e-05, 3.700949309859425e-05, 0.0001243032602360472, 2.654787567735184e-05, 5.422797130449908e-06, 4.543298200587742e-05, 7.349975930992514e-05, 0.0005529123009182513, 3.0294489988591522e-05, 0.0021519421134144068, 0.008951965719461441, 4.454564623301849e-05, 8.15057228464866e-06, 0.11631537973880768, 0.0012827483005821705, 8.323793736053631e-05, 3.354487489559688e-05, 0.8701584935188293, 0.0, 0.0], [3.534082861733623e-05, 3.06288966385182e-05, 3.09094502881635e-05, 1.674556733632926e-05, 4.422607526066713e-05, 0.00011368290142854676, 0.9986556768417358, 5.7131575886160135e-05, 4.949223148287274e-05, 2.4825452783261426e-05, 4.549009827314876e-05, 0.0004054673481732607, 4.661689672502689e-05, 0.00011496746446937323, 1.541127744530968e-06, 2.3407341359416023e-05, 8.345591777469963e-05, 2.7671270800055936e-05, 8.86927136889426e-06, 0.00016577495262026787, 1.8169550457969308e-05, 0.0], [0.2965395748615265, 0.009763897396624088, 0.0035667128395289183, 0.002227331977337599, 0.0026175333186984062, 0.0047579240053892136, 0.0023582582361996174, 0.0032644036691635847, 0.002500219037756324, 0.009386127814650536, 0.001984696602448821, 0.0025969184935092926, 0.0024842615239322186, 0.00461138179525733, 0.5311564803123474, 0.014022490940988064, 0.0022398889996111393, 0.006708504166454077, 0.004267534706741571, 0.004239381290972233, 0.07216213643550873, 0.01654428243637085]]]}\n",
              "    )\n",
              "    </script>"
            ]
          },
          "metadata": {}
        }
      ],
      "source": [
        "def show_token_attention_patterns(index, layer, token_at_index, use_case):\n",
        "\n",
        "  the_tokens = [str(token) for token in token_at_index.tolist()]\n",
        "  if layer == 0:\n",
        "    tokens_str = tokens_to_string(token_at_index)\n",
        "    print(\"Attention patterns for\", tokens_str)\n",
        "\n",
        "  attention_pattern=sample_cache[\"pattern\", layer, \"attn\"][index]\n",
        "  display(cv.attention.attention_patterns(\n",
        "      tokens=the_tokens,\n",
        "      attention=attention_pattern,\n",
        "      #attention_head_names=[f\"L{layer}H{i}\" for i in range(cfg.n_heads)],\n",
        "  ))\n",
        "\n",
        "\n",
        "sample_size = 3\n",
        "\n",
        "# Show attention patterns for some randomly chosen tokens\n",
        "for i in range(sample_size):\n",
        "  for layer in range(cfg.n_layers):\n",
        "    show_token_attention_patterns(i, layer, tokens[i], \"Misc\")\n"
      ]
    },
    {
      "cell_type": "code",
      "execution_count": null,
      "metadata": {
        "id": "hUCXw1k93a20"
      },
      "outputs": [],
      "source": [
        "if cfg.save_graph_to_file:\n",
        "\n",
        "  tokens_str = []\n",
        "  for i in range(cfg.n_heads):\n",
        "    one_token_str = []\n",
        "    for j in tokens[i]:\n",
        "      one_token_str.append(str(utils.to_numpy(j)))\n",
        "    tokens_str.append(one_token_str)\n",
        "\n",
        "  # Refer https://github.com/callummcdougall/CircuitsVis/blob/main/python/circuitsvis/circuitsvis_demo.ipynb\n",
        "\n",
        "  # html_object = cv.attention.from_cache(\n",
        "  #    cache = sample_cache,\n",
        "  #    tokens = tokens_str, # list of list of strings\n",
        "  #    return_mode = \"html\",\n",
        "  #)\n",
        "\n",
        "  # Create a CoLab file containing the attention pattern(s) in HTML\n",
        "  #filename = \"AttentionPattern\" + str(cfg.n_digits) + \"Digits\" + str(cfg.n_heads) + \"Heads.html\"\n",
        "  #with open(filename, \"w\") as f:\n",
        "  #    f.write(html_object.data)\n",
        "\n",
        "  # Manually download the CoLab \"html\" file and open in your local browser.\n",
        "  # Install and use the Edge extension \"FireShot\" to save a portion of the HTML page as a PDF"
      ]
    }
  ],
  "metadata": {
    "accelerator": "GPU",
    "colab": {
      "collapsed_sections": [
        "O3OoV2Pd-w7g",
        "F5K2kA0L_FHc",
        "1fW5galHlQqA",
        "IppYbJCP_Ubj",
        "deGhK1OC_1mD"
      ],
      "provenance": []
    },
    "kernelspec": {
      "display_name": "Python 3",
      "name": "python3"
    },
    "language_info": {
      "name": "python"
    },
    "widgets": {
      "application/vnd.jupyter.widget-state+json": {
        "884e1af1e9c346a7a97b73d52428ade3": {
          "model_module": "@jupyter-widgets/controls",
          "model_name": "HBoxModel",
          "model_module_version": "1.5.0",
          "state": {
            "_dom_classes": [],
            "_model_module": "@jupyter-widgets/controls",
            "_model_module_version": "1.5.0",
            "_model_name": "HBoxModel",
            "_view_count": null,
            "_view_module": "@jupyter-widgets/controls",
            "_view_module_version": "1.5.0",
            "_view_name": "HBoxView",
            "box_style": "",
            "children": [
              "IPY_MODEL_413a9d31648943028697f644baac2a49",
              "IPY_MODEL_e4044c0113ab408c9cda6dce8312437a",
              "IPY_MODEL_e64dc43e7a3e46e0b8658f4a8a303f07"
            ],
            "layout": "IPY_MODEL_01919321c5174115afff3e000426fcbb"
          }
        },
        "413a9d31648943028697f644baac2a49": {
          "model_module": "@jupyter-widgets/controls",
          "model_name": "HTMLModel",
          "model_module_version": "1.5.0",
          "state": {
            "_dom_classes": [],
            "_model_module": "@jupyter-widgets/controls",
            "_model_module_version": "1.5.0",
            "_model_name": "HTMLModel",
            "_view_count": null,
            "_view_module": "@jupyter-widgets/controls",
            "_view_module_version": "1.5.0",
            "_view_name": "HTMLView",
            "description": "",
            "description_tooltip": null,
            "layout": "IPY_MODEL_eb1426182cae4305b47c5710c1996f74",
            "placeholder": "​",
            "style": "IPY_MODEL_90602f2bea8d49baa5936b192611d4d9",
            "value": "add_d6_l2_h3_train15K_seed372001.pth: 100%"
          }
        },
        "e4044c0113ab408c9cda6dce8312437a": {
          "model_module": "@jupyter-widgets/controls",
          "model_name": "FloatProgressModel",
          "model_module_version": "1.5.0",
          "state": {
            "_dom_classes": [],
            "_model_module": "@jupyter-widgets/controls",
            "_model_module_version": "1.5.0",
            "_model_name": "FloatProgressModel",
            "_view_count": null,
            "_view_module": "@jupyter-widgets/controls",
            "_view_module_version": "1.5.0",
            "_view_name": "ProgressView",
            "bar_style": "success",
            "description": "",
            "description_tooltip": null,
            "layout": "IPY_MODEL_565b2578ad634c42bd83cb43fb3305ea",
            "max": 25150806,
            "min": 0,
            "orientation": "horizontal",
            "style": "IPY_MODEL_4db1b2c9bbbc41a0a51dccade90dbd95",
            "value": 25150806
          }
        },
        "e64dc43e7a3e46e0b8658f4a8a303f07": {
          "model_module": "@jupyter-widgets/controls",
          "model_name": "HTMLModel",
          "model_module_version": "1.5.0",
          "state": {
            "_dom_classes": [],
            "_model_module": "@jupyter-widgets/controls",
            "_model_module_version": "1.5.0",
            "_model_name": "HTMLModel",
            "_view_count": null,
            "_view_module": "@jupyter-widgets/controls",
            "_view_module_version": "1.5.0",
            "_view_name": "HTMLView",
            "description": "",
            "description_tooltip": null,
            "layout": "IPY_MODEL_31ea415e8a384a4d9f0c5a43c81f0f39",
            "placeholder": "​",
            "style": "IPY_MODEL_d586b4e42686435b9ec9583e8359834e",
            "value": " 25.2M/25.2M [00:00&lt;00:00, 24.1MB/s]"
          }
        },
        "01919321c5174115afff3e000426fcbb": {
          "model_module": "@jupyter-widgets/base",
          "model_name": "LayoutModel",
          "model_module_version": "1.2.0",
          "state": {
            "_model_module": "@jupyter-widgets/base",
            "_model_module_version": "1.2.0",
            "_model_name": "LayoutModel",
            "_view_count": null,
            "_view_module": "@jupyter-widgets/base",
            "_view_module_version": "1.2.0",
            "_view_name": "LayoutView",
            "align_content": null,
            "align_items": null,
            "align_self": null,
            "border": null,
            "bottom": null,
            "display": null,
            "flex": null,
            "flex_flow": null,
            "grid_area": null,
            "grid_auto_columns": null,
            "grid_auto_flow": null,
            "grid_auto_rows": null,
            "grid_column": null,
            "grid_gap": null,
            "grid_row": null,
            "grid_template_areas": null,
            "grid_template_columns": null,
            "grid_template_rows": null,
            "height": null,
            "justify_content": null,
            "justify_items": null,
            "left": null,
            "margin": null,
            "max_height": null,
            "max_width": null,
            "min_height": null,
            "min_width": null,
            "object_fit": null,
            "object_position": null,
            "order": null,
            "overflow": null,
            "overflow_x": null,
            "overflow_y": null,
            "padding": null,
            "right": null,
            "top": null,
            "visibility": null,
            "width": null
          }
        },
        "eb1426182cae4305b47c5710c1996f74": {
          "model_module": "@jupyter-widgets/base",
          "model_name": "LayoutModel",
          "model_module_version": "1.2.0",
          "state": {
            "_model_module": "@jupyter-widgets/base",
            "_model_module_version": "1.2.0",
            "_model_name": "LayoutModel",
            "_view_count": null,
            "_view_module": "@jupyter-widgets/base",
            "_view_module_version": "1.2.0",
            "_view_name": "LayoutView",
            "align_content": null,
            "align_items": null,
            "align_self": null,
            "border": null,
            "bottom": null,
            "display": null,
            "flex": null,
            "flex_flow": null,
            "grid_area": null,
            "grid_auto_columns": null,
            "grid_auto_flow": null,
            "grid_auto_rows": null,
            "grid_column": null,
            "grid_gap": null,
            "grid_row": null,
            "grid_template_areas": null,
            "grid_template_columns": null,
            "grid_template_rows": null,
            "height": null,
            "justify_content": null,
            "justify_items": null,
            "left": null,
            "margin": null,
            "max_height": null,
            "max_width": null,
            "min_height": null,
            "min_width": null,
            "object_fit": null,
            "object_position": null,
            "order": null,
            "overflow": null,
            "overflow_x": null,
            "overflow_y": null,
            "padding": null,
            "right": null,
            "top": null,
            "visibility": null,
            "width": null
          }
        },
        "90602f2bea8d49baa5936b192611d4d9": {
          "model_module": "@jupyter-widgets/controls",
          "model_name": "DescriptionStyleModel",
          "model_module_version": "1.5.0",
          "state": {
            "_model_module": "@jupyter-widgets/controls",
            "_model_module_version": "1.5.0",
            "_model_name": "DescriptionStyleModel",
            "_view_count": null,
            "_view_module": "@jupyter-widgets/base",
            "_view_module_version": "1.2.0",
            "_view_name": "StyleView",
            "description_width": ""
          }
        },
        "565b2578ad634c42bd83cb43fb3305ea": {
          "model_module": "@jupyter-widgets/base",
          "model_name": "LayoutModel",
          "model_module_version": "1.2.0",
          "state": {
            "_model_module": "@jupyter-widgets/base",
            "_model_module_version": "1.2.0",
            "_model_name": "LayoutModel",
            "_view_count": null,
            "_view_module": "@jupyter-widgets/base",
            "_view_module_version": "1.2.0",
            "_view_name": "LayoutView",
            "align_content": null,
            "align_items": null,
            "align_self": null,
            "border": null,
            "bottom": null,
            "display": null,
            "flex": null,
            "flex_flow": null,
            "grid_area": null,
            "grid_auto_columns": null,
            "grid_auto_flow": null,
            "grid_auto_rows": null,
            "grid_column": null,
            "grid_gap": null,
            "grid_row": null,
            "grid_template_areas": null,
            "grid_template_columns": null,
            "grid_template_rows": null,
            "height": null,
            "justify_content": null,
            "justify_items": null,
            "left": null,
            "margin": null,
            "max_height": null,
            "max_width": null,
            "min_height": null,
            "min_width": null,
            "object_fit": null,
            "object_position": null,
            "order": null,
            "overflow": null,
            "overflow_x": null,
            "overflow_y": null,
            "padding": null,
            "right": null,
            "top": null,
            "visibility": null,
            "width": null
          }
        },
        "4db1b2c9bbbc41a0a51dccade90dbd95": {
          "model_module": "@jupyter-widgets/controls",
          "model_name": "ProgressStyleModel",
          "model_module_version": "1.5.0",
          "state": {
            "_model_module": "@jupyter-widgets/controls",
            "_model_module_version": "1.5.0",
            "_model_name": "ProgressStyleModel",
            "_view_count": null,
            "_view_module": "@jupyter-widgets/base",
            "_view_module_version": "1.2.0",
            "_view_name": "StyleView",
            "bar_color": null,
            "description_width": ""
          }
        },
        "31ea415e8a384a4d9f0c5a43c81f0f39": {
          "model_module": "@jupyter-widgets/base",
          "model_name": "LayoutModel",
          "model_module_version": "1.2.0",
          "state": {
            "_model_module": "@jupyter-widgets/base",
            "_model_module_version": "1.2.0",
            "_model_name": "LayoutModel",
            "_view_count": null,
            "_view_module": "@jupyter-widgets/base",
            "_view_module_version": "1.2.0",
            "_view_name": "LayoutView",
            "align_content": null,
            "align_items": null,
            "align_self": null,
            "border": null,
            "bottom": null,
            "display": null,
            "flex": null,
            "flex_flow": null,
            "grid_area": null,
            "grid_auto_columns": null,
            "grid_auto_flow": null,
            "grid_auto_rows": null,
            "grid_column": null,
            "grid_gap": null,
            "grid_row": null,
            "grid_template_areas": null,
            "grid_template_columns": null,
            "grid_template_rows": null,
            "height": null,
            "justify_content": null,
            "justify_items": null,
            "left": null,
            "margin": null,
            "max_height": null,
            "max_width": null,
            "min_height": null,
            "min_width": null,
            "object_fit": null,
            "object_position": null,
            "order": null,
            "overflow": null,
            "overflow_x": null,
            "overflow_y": null,
            "padding": null,
            "right": null,
            "top": null,
            "visibility": null,
            "width": null
          }
        },
        "d586b4e42686435b9ec9583e8359834e": {
          "model_module": "@jupyter-widgets/controls",
          "model_name": "DescriptionStyleModel",
          "model_module_version": "1.5.0",
          "state": {
            "_model_module": "@jupyter-widgets/controls",
            "_model_module_version": "1.5.0",
            "_model_name": "DescriptionStyleModel",
            "_view_count": null,
            "_view_module": "@jupyter-widgets/base",
            "_view_module_version": "1.2.0",
            "_view_name": "StyleView",
            "description_width": ""
          }
        },
        "509da8f518284a15963d096181723e46": {
          "model_module": "@jupyter-widgets/controls",
          "model_name": "HBoxModel",
          "model_module_version": "1.5.0",
          "state": {
            "_dom_classes": [],
            "_model_module": "@jupyter-widgets/controls",
            "_model_module_version": "1.5.0",
            "_model_name": "HBoxModel",
            "_view_count": null,
            "_view_module": "@jupyter-widgets/controls",
            "_view_module_version": "1.5.0",
            "_view_name": "HBoxView",
            "box_style": "",
            "children": [
              "IPY_MODEL_61ad8a4bb0054cb5bb8270e02803f13c",
              "IPY_MODEL_d3e585cabe9b4520b9fb151e7bf301b5",
              "IPY_MODEL_2f94925e6bbd4a93a943adf7976019c3"
            ],
            "layout": "IPY_MODEL_a1cbc4fb357247d8aab61700abf4b8ef"
          }
        },
        "61ad8a4bb0054cb5bb8270e02803f13c": {
          "model_module": "@jupyter-widgets/controls",
          "model_name": "HTMLModel",
          "model_module_version": "1.5.0",
          "state": {
            "_dom_classes": [],
            "_model_module": "@jupyter-widgets/controls",
            "_model_module_version": "1.5.0",
            "_model_name": "HTMLModel",
            "_view_count": null,
            "_view_module": "@jupyter-widgets/controls",
            "_view_module_version": "1.5.0",
            "_view_name": "HTMLView",
            "description": "",
            "description_tooltip": null,
            "layout": "IPY_MODEL_d6fbd63c140c46c682370f67b9c1d453",
            "placeholder": "​",
            "style": "IPY_MODEL_509057512bdd439498906e73b7b25665",
            "value": "100%"
          }
        },
        "d3e585cabe9b4520b9fb151e7bf301b5": {
          "model_module": "@jupyter-widgets/controls",
          "model_name": "FloatProgressModel",
          "model_module_version": "1.5.0",
          "state": {
            "_dom_classes": [],
            "_model_module": "@jupyter-widgets/controls",
            "_model_module_version": "1.5.0",
            "_model_name": "FloatProgressModel",
            "_view_count": null,
            "_view_module": "@jupyter-widgets/controls",
            "_view_module_version": "1.5.0",
            "_view_name": "ProgressView",
            "bar_style": "success",
            "description": "",
            "description_tooltip": null,
            "layout": "IPY_MODEL_a1ed13806a4b4f1f9ce66ffe3b05d067",
            "max": 40000,
            "min": 0,
            "orientation": "horizontal",
            "style": "IPY_MODEL_bf29396e63b542ee8951186542aea9ee",
            "value": 40000
          }
        },
        "2f94925e6bbd4a93a943adf7976019c3": {
          "model_module": "@jupyter-widgets/controls",
          "model_name": "HTMLModel",
          "model_module_version": "1.5.0",
          "state": {
            "_dom_classes": [],
            "_model_module": "@jupyter-widgets/controls",
            "_model_module_version": "1.5.0",
            "_model_name": "HTMLModel",
            "_view_count": null,
            "_view_module": "@jupyter-widgets/controls",
            "_view_module_version": "1.5.0",
            "_view_name": "HTMLView",
            "description": "",
            "description_tooltip": null,
            "layout": "IPY_MODEL_aa52c6567cd940da86ce41ec79363906",
            "placeholder": "​",
            "style": "IPY_MODEL_5bab157c142246f48bc47394f0f7ebe1",
            "value": " 40000/40000 [33:18&lt;00:00, 20.47it/s]"
          }
        },
        "a1cbc4fb357247d8aab61700abf4b8ef": {
          "model_module": "@jupyter-widgets/base",
          "model_name": "LayoutModel",
          "model_module_version": "1.2.0",
          "state": {
            "_model_module": "@jupyter-widgets/base",
            "_model_module_version": "1.2.0",
            "_model_name": "LayoutModel",
            "_view_count": null,
            "_view_module": "@jupyter-widgets/base",
            "_view_module_version": "1.2.0",
            "_view_name": "LayoutView",
            "align_content": null,
            "align_items": null,
            "align_self": null,
            "border": null,
            "bottom": null,
            "display": null,
            "flex": null,
            "flex_flow": null,
            "grid_area": null,
            "grid_auto_columns": null,
            "grid_auto_flow": null,
            "grid_auto_rows": null,
            "grid_column": null,
            "grid_gap": null,
            "grid_row": null,
            "grid_template_areas": null,
            "grid_template_columns": null,
            "grid_template_rows": null,
            "height": null,
            "justify_content": null,
            "justify_items": null,
            "left": null,
            "margin": null,
            "max_height": null,
            "max_width": null,
            "min_height": null,
            "min_width": null,
            "object_fit": null,
            "object_position": null,
            "order": null,
            "overflow": null,
            "overflow_x": null,
            "overflow_y": null,
            "padding": null,
            "right": null,
            "top": null,
            "visibility": null,
            "width": null
          }
        },
        "d6fbd63c140c46c682370f67b9c1d453": {
          "model_module": "@jupyter-widgets/base",
          "model_name": "LayoutModel",
          "model_module_version": "1.2.0",
          "state": {
            "_model_module": "@jupyter-widgets/base",
            "_model_module_version": "1.2.0",
            "_model_name": "LayoutModel",
            "_view_count": null,
            "_view_module": "@jupyter-widgets/base",
            "_view_module_version": "1.2.0",
            "_view_name": "LayoutView",
            "align_content": null,
            "align_items": null,
            "align_self": null,
            "border": null,
            "bottom": null,
            "display": null,
            "flex": null,
            "flex_flow": null,
            "grid_area": null,
            "grid_auto_columns": null,
            "grid_auto_flow": null,
            "grid_auto_rows": null,
            "grid_column": null,
            "grid_gap": null,
            "grid_row": null,
            "grid_template_areas": null,
            "grid_template_columns": null,
            "grid_template_rows": null,
            "height": null,
            "justify_content": null,
            "justify_items": null,
            "left": null,
            "margin": null,
            "max_height": null,
            "max_width": null,
            "min_height": null,
            "min_width": null,
            "object_fit": null,
            "object_position": null,
            "order": null,
            "overflow": null,
            "overflow_x": null,
            "overflow_y": null,
            "padding": null,
            "right": null,
            "top": null,
            "visibility": null,
            "width": null
          }
        },
        "509057512bdd439498906e73b7b25665": {
          "model_module": "@jupyter-widgets/controls",
          "model_name": "DescriptionStyleModel",
          "model_module_version": "1.5.0",
          "state": {
            "_model_module": "@jupyter-widgets/controls",
            "_model_module_version": "1.5.0",
            "_model_name": "DescriptionStyleModel",
            "_view_count": null,
            "_view_module": "@jupyter-widgets/base",
            "_view_module_version": "1.2.0",
            "_view_name": "StyleView",
            "description_width": ""
          }
        },
        "a1ed13806a4b4f1f9ce66ffe3b05d067": {
          "model_module": "@jupyter-widgets/base",
          "model_name": "LayoutModel",
          "model_module_version": "1.2.0",
          "state": {
            "_model_module": "@jupyter-widgets/base",
            "_model_module_version": "1.2.0",
            "_model_name": "LayoutModel",
            "_view_count": null,
            "_view_module": "@jupyter-widgets/base",
            "_view_module_version": "1.2.0",
            "_view_name": "LayoutView",
            "align_content": null,
            "align_items": null,
            "align_self": null,
            "border": null,
            "bottom": null,
            "display": null,
            "flex": null,
            "flex_flow": null,
            "grid_area": null,
            "grid_auto_columns": null,
            "grid_auto_flow": null,
            "grid_auto_rows": null,
            "grid_column": null,
            "grid_gap": null,
            "grid_row": null,
            "grid_template_areas": null,
            "grid_template_columns": null,
            "grid_template_rows": null,
            "height": null,
            "justify_content": null,
            "justify_items": null,
            "left": null,
            "margin": null,
            "max_height": null,
            "max_width": null,
            "min_height": null,
            "min_width": null,
            "object_fit": null,
            "object_position": null,
            "order": null,
            "overflow": null,
            "overflow_x": null,
            "overflow_y": null,
            "padding": null,
            "right": null,
            "top": null,
            "visibility": null,
            "width": null
          }
        },
        "bf29396e63b542ee8951186542aea9ee": {
          "model_module": "@jupyter-widgets/controls",
          "model_name": "ProgressStyleModel",
          "model_module_version": "1.5.0",
          "state": {
            "_model_module": "@jupyter-widgets/controls",
            "_model_module_version": "1.5.0",
            "_model_name": "ProgressStyleModel",
            "_view_count": null,
            "_view_module": "@jupyter-widgets/base",
            "_view_module_version": "1.2.0",
            "_view_name": "StyleView",
            "bar_color": null,
            "description_width": ""
          }
        },
        "aa52c6567cd940da86ce41ec79363906": {
          "model_module": "@jupyter-widgets/base",
          "model_name": "LayoutModel",
          "model_module_version": "1.2.0",
          "state": {
            "_model_module": "@jupyter-widgets/base",
            "_model_module_version": "1.2.0",
            "_model_name": "LayoutModel",
            "_view_count": null,
            "_view_module": "@jupyter-widgets/base",
            "_view_module_version": "1.2.0",
            "_view_name": "LayoutView",
            "align_content": null,
            "align_items": null,
            "align_self": null,
            "border": null,
            "bottom": null,
            "display": null,
            "flex": null,
            "flex_flow": null,
            "grid_area": null,
            "grid_auto_columns": null,
            "grid_auto_flow": null,
            "grid_auto_rows": null,
            "grid_column": null,
            "grid_gap": null,
            "grid_row": null,
            "grid_template_areas": null,
            "grid_template_columns": null,
            "grid_template_rows": null,
            "height": null,
            "justify_content": null,
            "justify_items": null,
            "left": null,
            "margin": null,
            "max_height": null,
            "max_width": null,
            "min_height": null,
            "min_width": null,
            "object_fit": null,
            "object_position": null,
            "order": null,
            "overflow": null,
            "overflow_x": null,
            "overflow_y": null,
            "padding": null,
            "right": null,
            "top": null,
            "visibility": null,
            "width": null
          }
        },
        "5bab157c142246f48bc47394f0f7ebe1": {
          "model_module": "@jupyter-widgets/controls",
          "model_name": "DescriptionStyleModel",
          "model_module_version": "1.5.0",
          "state": {
            "_model_module": "@jupyter-widgets/controls",
            "_model_module_version": "1.5.0",
            "_model_name": "DescriptionStyleModel",
            "_view_count": null,
            "_view_module": "@jupyter-widgets/base",
            "_view_module_version": "1.2.0",
            "_view_name": "StyleView",
            "description_width": ""
          }
        }
      }
    }
  },
  "nbformat": 4,
  "nbformat_minor": 0
}
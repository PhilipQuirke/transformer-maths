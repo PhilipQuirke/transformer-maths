{
  "cells": [
    {
      "cell_type": "markdown",
      "metadata": {
        "id": "uG2gZSoSJD5C"
      },
      "source": [
        "# Accurate Integer Mathematics in Transformers - Analyse the Model\n",
        "\n",
        "This CoLab analyses a Transformer model that performs integer addition, subtraction and multiplication e.g. 133357+182243=+0315600, 123450-345670=-0123230 and 000345*000823=+283935. Each digit is a separate token. For 6 digit questions, the model is given 14 \"question\" (input) tokens, and must then predict the corresponding 8 \"answer\" (output) tokens."
      ]
    },
    {
      "cell_type": "markdown",
      "metadata": {
        "id": "FzkGrSqHJKqN"
      },
      "source": [
        "## Tips for using the Colab\n",
        " * You can run and alter the code in this CoLab notebook yourself in Google CoLab ( https://colab.research.google.com/ ).\n",
        " * To run the notebook, in Google CoLab, **you will need to** go to Runtime > Change Runtime Type and select GPU as the hardware accelerator.\n",
        " * Some graphs are interactive!\n",
        " * Use the table of contents pane in the sidebar to navigate.\n",
        " * Collapse irrelevant sections with the dropdown arrows.\n",
        " * Search the page using the search in the sidebar, not CTRL+F."
      ]
    },
    {
      "cell_type": "markdown",
      "metadata": {
        "id": "pTd3nmsMJV5T"
      },
      "source": [
        "# Part 0A: Import libraries\n",
        "Imports standard libraries. Don't bother reading."
      ]
    },
    {
      "cell_type": "code",
      "execution_count": null,
      "metadata": {
        "colab": {
          "base_uri": "https://localhost:8080/"
        },
        "id": "cCdmr6-_Jkzi",
        "outputId": "5e530808-8e8a-452c-8bf0-9d3251d1fd72"
      },
      "outputs": [
        {
          "output_type": "stream",
          "name": "stdout",
          "text": [
            "Running as a Colab notebook\n",
            "Requirement already satisfied: matplotlib in /usr/local/lib/python3.10/dist-packages (3.7.1)\n",
            "Requirement already satisfied: contourpy>=1.0.1 in /usr/local/lib/python3.10/dist-packages (from matplotlib) (1.2.0)\n",
            "Requirement already satisfied: cycler>=0.10 in /usr/local/lib/python3.10/dist-packages (from matplotlib) (0.12.1)\n",
            "Requirement already satisfied: fonttools>=4.22.0 in /usr/local/lib/python3.10/dist-packages (from matplotlib) (4.49.0)\n",
            "Requirement already satisfied: kiwisolver>=1.0.1 in /usr/local/lib/python3.10/dist-packages (from matplotlib) (1.4.5)\n",
            "Requirement already satisfied: numpy>=1.20 in /usr/local/lib/python3.10/dist-packages (from matplotlib) (1.25.2)\n",
            "Requirement already satisfied: packaging>=20.0 in /usr/local/lib/python3.10/dist-packages (from matplotlib) (23.2)\n",
            "Requirement already satisfied: pillow>=6.2.0 in /usr/local/lib/python3.10/dist-packages (from matplotlib) (9.4.0)\n",
            "Requirement already satisfied: pyparsing>=2.3.1 in /usr/local/lib/python3.10/dist-packages (from matplotlib) (3.1.1)\n",
            "Requirement already satisfied: python-dateutil>=2.7 in /usr/local/lib/python3.10/dist-packages (from matplotlib) (2.8.2)\n",
            "Requirement already satisfied: six>=1.5 in /usr/local/lib/python3.10/dist-packages (from python-dateutil>=2.7->matplotlib) (1.16.0)\n",
            "Requirement already satisfied: prettytable in /usr/local/lib/python3.10/dist-packages (3.9.0)\n",
            "Requirement already satisfied: wcwidth in /usr/local/lib/python3.10/dist-packages (from prettytable) (0.2.13)\n"
          ]
        }
      ],
      "source": [
        "DEVELOPMENT_MODE = True\n",
        "try:\n",
        "    import google.colab\n",
        "    IN_COLAB = True\n",
        "    print(\"Running as a Colab notebook\")\n",
        "\n",
        "    !pip install matplotlib\n",
        "    !pip install prettytable\n",
        "\n",
        "    !pip install kaleido\n",
        "    !pip install transformer_lens\n",
        "    !pip install torchtyping\n",
        "    !pip install transformers\n",
        "\n",
        "    !pip install numpy\n",
        "    !pip install scikit-learn\n",
        "\n",
        "except:\n",
        "    IN_COLAB = False\n",
        "    print(\"Running as a Jupyter notebook - intended for development only!\")\n",
        "    from IPython import get_ipython\n",
        "\n",
        "    ipython = get_ipython()\n",
        "    # Code to automatically update the HookedTransformer code as its edited without restarting the kernel\n",
        "    ipython.magic(\"load_ext autoreload\")\n",
        "    ipython.magic(\"autoreload 2\")"
      ]
    },
    {
      "cell_type": "code",
      "execution_count": null,
      "metadata": {
        "id": "Up2QLAZLJnG9"
      },
      "outputs": [],
      "source": [
        "# Plotly needs a different renderer for VSCode/Notebooks vs Colab argh\n",
        "import kaleido\n",
        "import plotly.io as pio\n",
        "\n",
        "if IN_COLAB or not DEVELOPMENT_MODE:\n",
        "    pio.renderers.default = \"colab\"\n",
        "else:\n",
        "    pio.renderers.default = \"notebook_connected\"\n",
        "print(f\"Using renderer: {pio.renderers.default}\")\n",
        "\n",
        "#import plotly.express as px\n",
        "#import plotly.graph_objects as go"
      ]
    },
    {
      "cell_type": "code",
      "execution_count": null,
      "metadata": {
        "id": "ve-TndERJoaJ"
      },
      "outputs": [],
      "source": [
        "pio.templates['plotly'].layout.xaxis.title.font.size = 20\n",
        "pio.templates['plotly'].layout.yaxis.title.font.size = 20\n",
        "pio.templates['plotly'].layout.title.font.size = 30"
      ]
    },
    {
      "cell_type": "code",
      "execution_count": null,
      "metadata": {
        "id": "_6zOEFryJqGN"
      },
      "outputs": [],
      "source": [
        "import json\n",
        "import torch\n",
        "import torch.nn.functional as F\n",
        "import numpy as np\n",
        "import random\n",
        "from prettytable import PrettyTable\n",
        "import itertools\n",
        "import re\n",
        "from enum import Enum"
      ]
    },
    {
      "cell_type": "code",
      "execution_count": null,
      "metadata": {
        "id": "d6TE7A9SxySA"
      },
      "outputs": [],
      "source": [
        "import matplotlib.pyplot as plt\n",
        "import matplotlib.colors as mcolors\n",
        "import textwrap"
      ]
    },
    {
      "cell_type": "code",
      "execution_count": null,
      "metadata": {
        "id": "f8VQ4e0QJsIB"
      },
      "outputs": [],
      "source": [
        "import transformer_lens\n",
        "import transformer_lens.utils as utils\n",
        "from transformer_lens.hook_points import (\n",
        "    HookedRootModule,\n",
        "    HookPoint,\n",
        ")  # Hooking utilities\n",
        "from transformer_lens import HookedTransformer, HookedTransformerConfig, FactoredMatrix, ActivationCache\n"
      ]
    },
    {
      "cell_type": "markdown",
      "source": [
        "# Part 0B: Import PCA library"
      ],
      "metadata": {
        "id": "vNpIsCqtETtF"
      }
    },
    {
      "cell_type": "code",
      "source": [
        "# Import Principal Component Analysis (PCA) library\n",
        "use_pca = True\n",
        "try:\n",
        "  from sklearn.decomposition import PCA\n",
        "except Exception as e:\n",
        "  print(\"pca import failed with exception:\", e)\n",
        "  use_pca = False\n",
        "\n",
        "  # Sometimes version conflicts means the PCA library does not import. This workaround partially fixes the issue\n",
        "  !pip install --upgrade numpy\n",
        "  !pip install --upgrade scikit-learn\n",
        "\n",
        "  # To complete workaround, now select menu option \"Runtime > Restart session and run all\".\n",
        "  stop"
      ],
      "metadata": {
        "id": "gUt2mMzFj7eA"
      },
      "execution_count": null,
      "outputs": []
    },
    {
      "cell_type": "markdown",
      "source": [
        "# Part 0C: Import verified_transformers library"
      ],
      "metadata": {
        "id": "kQlQPB78lJnc"
      }
    },
    {
      "cell_type": "code",
      "source": [
        "!pip install --upgrade git+https://github.com/PhilipQuirke/verified_transformers.git\n",
        "from QuantaTools import QuantaFilter, QuantaType, position_name, position_name_to_int, row_location_name, location_name, NodeLocation, UsefulNode, UsefulInfo, useful_info, create_custom_colormap, calc_quanta_map"
      ],
      "metadata": {
        "id": "_2P3cndolKDM"
      },
      "execution_count": null,
      "outputs": []
    },
    {
      "cell_type": "markdown",
      "metadata": {
        "id": "aQNjIosyX9Y-"
      },
      "source": [
        "# Part 1A: Configuration: Detailed"
      ]
    },
    {
      "cell_type": "code",
      "execution_count": null,
      "metadata": {
        "id": "cwXrSj8KGj-v"
      },
      "outputs": [],
      "source": [
        "# Tokens used in vocab. (Token indexes 0 to 9 represent digits 0 to 9)\n",
        "PLUS_INDEX = 10\n",
        "MINUS_INDEX = 11\n",
        "EQUALS_INDEX = 12\n",
        "MULT_INDEX = 13\n",
        "DIV_INDEX = 14\n",
        "MAX_INDEX = DIV_INDEX"
      ]
    },
    {
      "cell_type": "code",
      "execution_count": null,
      "metadata": {
        "id": "HmjGdFcdJat3"
      },
      "outputs": [],
      "source": [
        "# Main configuration class for main model creation and training\n",
        "class Config():\n",
        "  #@markdown Main Model\n",
        "  n_layers: int = 3 #@param\n",
        "  n_heads: int = 4 #@param\n",
        "\n",
        "  d_vocab: int = MAX_INDEX+1\n",
        "  d_model: int = 510\n",
        "  d_mlp_multiplier: int = 4\n",
        "  d_mlp: int = d_mlp_multiplier * d_model\n",
        "  d_head: int = 170\n",
        "  training_seed: int = 372001\n",
        "  analysis_seed: int = 673023\n",
        "\n",
        "  #@markdown Data\n",
        "  n_digits: int = 6 #@param\n",
        "  act_fn: str = 'relu'\n",
        "  batch_size: int = 512 # Training used 64. Larger for speed during analysis\n",
        "\n",
        "  def n_ctx(self):\n",
        "    return 3 * self.n_digits + 4\n",
        "\n",
        "  #@markdown Optimizer\n",
        "  n_training_steps: int = 40000 #@param\n",
        "  weight_decay: float = 0.00008\n",
        "  lr: int = 0.1\n",
        "\n",
        "  #@markdown Actions\n",
        "\n",
        "  # Percent of questions that are multiplication, subtraction (rest are addition questions).\n",
        "  perc_mult: int = 0 # e.g. 20\n",
        "  perc_sub: int = 0 #@param e.g. 80\n",
        "  def perc_add(self):\n",
        "    return max(0, 100 - self.perc_mult - self.perc_sub)\n",
        "\n",
        "  #@markdown Insert Model\n",
        "  insert_mode: int = 0 #@param 0=None 1=Init, 2=FreezeHeads 3=FreezeAll\n",
        "\n",
        "\n",
        "  # Save graphs to CoLab temp files as PDF or SVG. You can manually export temp files for re-use in papers.\n",
        "  graph_file_suffix = \"svg\"\n",
        "\n",
        "  # The format to output prettytable in. Options are text|html|json|csv|latex\n",
        "  # Use Text for this CoLab, latex for Overleaf output, and html for GitHub blog output\n",
        "  table_out_format: str = \"text\"\n",
        "\n",
        "\n",
        "  # the token position of the first answer digit (which is a \"+\" or a  \"-\")\n",
        "  def first_answer_digit_position(self):\n",
        "    return self.n_digits*2 + 2\n",
        "\n",
        "\n",
        "  # How many slices do we break the MLP layer up into?\n",
        "  def mlp_slices(self):\n",
        "    # return 1 # Paper 2 used this granualarity\n",
        "    return self.n_heads * self.d_mlp_multiplier # Alternative for Paper 3?\n",
        "\n",
        "\n",
        "cfg = Config()"
      ]
    },
    {
      "cell_type": "markdown",
      "metadata": {
        "id": "ldGPkaokJQM5"
      },
      "source": [
        "# Part 1B: Configuration: Summary\n",
        "\n",
        "Which existing model do we want to analyse?\n",
        "\n",
        "The existing model weightings created by the sister Colab [VerifiedArithmeticTrain](https://github.com/PhilipQuirke/transformer-maths/blob/main/assets/VerifiedArithmeticTrain.ipynb) are loaded from HuggingFace."
      ]
    },
    {
      "cell_type": "code",
      "execution_count": null,
      "metadata": {
        "id": "O1DXZQ2E6yAi"
      },
      "outputs": [],
      "source": [
        "# Which existing model do we want to analyse?\n",
        "# model_name = \"\" # Use configuration specified in Part 1A\n",
        "#model_name = \"add_d5_l1_h3_t30K\"  # 5 digit addition model. Inaccurate as only has one layer. Can predict S0, S1 and S2 complexity questions\n",
        "model_name = \"add_d5_l2_h3_t15K\"  # 5 digit addition model\n",
        "#model_name = \"add_d6_l2_h3_t15K\"  # 6 digit addition model\n",
        "#model_name = \"sub_d6_l2_h3_t30K\"  # 6 digit subtraction model\n",
        "#model_name = \"mix_d6_l3_h4_t40K\"  # 6 digit addition and subtraction model. AvgFinalLoss=8e-09\n",
        "#model_name = \"ins1_mix_d6_l3_h4_t40K\"  # 6 digit addition / subtraction model. Initialise with addition model. Handles 1m Qs for Add and Sub\n",
        "#model_name = \"ins2_mix_d6_l4_h4_t40K\"  # 6 digit addition / subtraction model. Initialised with addition model. Reset useful heads every 100 epochs. AvgFinalLoss=7e-09. Fails 1m Qs\n",
        "#model_name = \"ins3_mix_d6_l4_h3_t40K\"  # 6 digit addition / subtraction model. Initialised with addition model. Reset useful heads & MLPs every 100 epochs. AvgFinalLoss=2.6e-06. Fails 1m Qs"
      ]
    },
    {
      "cell_type": "markdown",
      "source": [
        "# Part 1C: Configuration: Input and Output file names\n",
        "\n"
      ],
      "metadata": {
        "id": "F_IIpX2H2tNe"
      }
    },
    {
      "cell_type": "code",
      "execution_count": null,
      "metadata": {
        "id": "B5BiELcf53ms"
      },
      "outputs": [],
      "source": [
        "if model_name != \"\":\n",
        "\n",
        "  match = re.search(\"d(\\d)_\", model_name)\n",
        "  if match:\n",
        "    cfg.n_digits = int(match.group(1))\n",
        "\n",
        "  match = re.search(\"l(\\d)_\", model_name)\n",
        "  if match:\n",
        "    cfg.n_layers = int(match.group(1))\n",
        "\n",
        "  match = re.search(\"h(\\d)_\", model_name)\n",
        "  if match:\n",
        "    cfg.n_heads = int(match.group(1))\n",
        "\n",
        "  match = re.search(\"t(\\d\\d)K\", model_name)\n",
        "  if match:\n",
        "    cfg.n_training_steps = int(match.group(1)) * 1000\n",
        "\n",
        "  cfg.perc_sub = 0\n",
        "  cfg.insert_mode = 0\n",
        "\n",
        "  if model_name.startswith(\"sub_\") :\n",
        "    cfg.perc_sub = 100\n",
        "\n",
        "  if model_name == \"mix_d6_l3_h4_t40K\" :\n",
        "    cfg.batch_size = 256\n",
        "    cfg.perc_sub = 66 # Train on 66% subtraction and 33% addition question batches\n",
        "\n",
        "  if model_name == \"ins1_mix_d6_l3_h4_t40K\" :\n",
        "    cfg.batch_size = 256\n",
        "    cfg.perc_sub = 80 # Train on 80% subtraction and 20% addition question batches\n",
        "    cfg.insert_mode = 1 # Initialise with add_d6_l2_h3_t15K.pth.\n",
        "\n",
        "  if model_name == \"ins2_mix_d6_l4_h4_t40K\" :\n",
        "    cfg.batch_size = 256\n",
        "    cfg.perc_sub = 80 # Train on 80% subtraction and 20% addition question batches\n",
        "    cfg.insert_mode = 2 # Initialise with add_d6_l2_h3_t15K.pth. Train & reset useful heads every 100 epochs\n",
        "\n",
        "  if model_name == \"ins3_mix_d6_l4_h3_t40K\" :\n",
        "    cfg.batch_size = 256\n",
        "    cfg.perc_sub = 80 # Train on 80% subtraction and 20% addition question batches\n",
        "    cfg.insert_mode = 3 # Initialise with add_d6_l2_h3_t15K.pth. Trained & reset useful heads & MLPs every 100 epochs"
      ]
    },
    {
      "cell_type": "code",
      "execution_count": null,
      "metadata": {
        "id": "n0DJkn5l2gq3"
      },
      "outputs": [],
      "source": [
        "def file_name_suffix(digits, layers, heads, training_steps, seed):\n",
        "  train_str = str(training_steps//1000) + \"K\"\n",
        "  return '_d{}_l{}_h{}_t{}_s{}'.format(digits, layers, heads, train_str, seed)\n",
        "\n",
        "op_prefix = 'mul' if cfg.perc_mult == 100 else 'sub' if cfg.perc_sub == 100 else 'add' if cfg.perc_add() == 100 else 'mix'\n",
        "main_fname = '' if cfg.insert_mode == 0 else 'ins{}_'.format(cfg.insert_mode)\n",
        "main_fname += op_prefix\n",
        "main_fname += file_name_suffix(cfg.n_digits, cfg.n_layers, cfg.n_heads, cfg.n_training_steps, cfg.training_seed)\n",
        "main_fname_pth = main_fname + '.pth'\n",
        "main_fname_behavior_json = main_fname + '_behavior.json'\n",
        "main_fname_algorithm_json = main_fname + '_algorithm.json'\n",
        "\n",
        "def print_config():\n",
        "  print(\"%Mult=\", cfg.perc_mult, \"%Sub=\", cfg.perc_sub, \"%Add=\", cfg.perc_add(), \"File=\", main_fname)\n",
        "\n",
        "print_config()\n",
        "print('Main model will be read from HuggingLab file', main_fname_pth)\n",
        "print('Main model behavior analysis tags will save to Colab temporary file', main_fname_behavior_json)\n",
        "print('Main model algorithm analysis tags will save to Colab temporary file', main_fname_algorithm_json)"
      ]
    },
    {
      "cell_type": "markdown",
      "metadata": {
        "id": "P8RfHXneJw6n"
      },
      "source": [
        "# Part 3A: Set Up: Embedding / Unembedding\n",
        "\n",
        "Convert from\n",
        "- Human-readable character to numeric token index.\n",
        "- Convert numeric token positions to position \"meanings\"\n",
        "- Convert from number to human-readable stringand vice versa"
      ]
    },
    {
      "cell_type": "code",
      "source": [
        "# Map from character to token\n",
        "char_to_token = {str(i) : i for i in range(10)}\n",
        "char_to_token['+']=PLUS_INDEX\n",
        "char_to_token['-']=MINUS_INDEX\n",
        "char_to_token['=']=EQUALS_INDEX\n",
        "char_to_token['*']=MULT_INDEX\n",
        "char_to_token['\\\\']=DIV_INDEX"
      ],
      "metadata": {
        "id": "p9NqtFCe18PI"
      },
      "execution_count": null,
      "outputs": []
    },
    {
      "cell_type": "code",
      "execution_count": null,
      "metadata": {
        "id": "-QYFZIalJ3tK"
      },
      "outputs": [],
      "source": [
        "# Map from token to character\n",
        "def token_to_char(i):\n",
        "  for char, token in char_to_token.items():\n",
        "    if token == i:\n",
        "      return char\n",
        "\n",
        "  return '?' # Should never happen\n",
        "\n",
        "\n",
        "assert token_to_char(4) == '4'\n",
        "assert token_to_char(MULT_INDEX) == '*'\n",
        "\n",
        "\n",
        "# Map from tokens to string\n",
        "def tokens_to_string(tokens):\n",
        "    tokens = utils.to_numpy(tokens)\n",
        "    return \"\".join([token_to_char(i) for i in tokens[:cfg.n_ctx()]])\n",
        "\n",
        "\n",
        "assert tokens_to_string([4,0,7]) == '407'"
      ]
    },
    {
      "cell_type": "code",
      "execution_count": null,
      "metadata": {
        "id": "WeObQk2kzAv7"
      },
      "outputs": [],
      "source": [
        "# Convert D0 to P5, D1 to P4, D2 to P3 in 6 digit addition\n",
        "def dn_to_position_name(n):\n",
        "  return position_name(cfg.n_digits - 1 - n)\n",
        "# Convert D'0 to P10, D'1 to P9, D'2 to P8, etc in 6 digit addition\n",
        "def ddn_to_position_name(n):\n",
        "  return position_name(2 * cfg.n_digits - n)\n",
        "# Convert A0 to P20, A1 to P19, A2 to P18, etc in 6 digit addition\n",
        "def an_to_position_name(n):\n",
        "  return position_name(cfg.n_ctx() - 1 - n)\n",
        "# Convert P14 to 14\n",
        "\n",
        "\n",
        "# convert 3 to \"A3\"\n",
        "def answer_name(n):\n",
        "  return \"A\" + str(n)\n",
        "\n",
        "\n",
        "# Token position meanings D5, .., D0, *, D5', .., D0', =, A7, A6, .., A0\n",
        "token_position_meanings = []\n",
        "\n",
        "for i in range(cfg.n_digits):\n",
        "  token_position_meanings += [\"D\" + str(cfg.n_digits-i-1)]\n",
        "\n",
        "token_position_meanings += \"+\" # Stands in for operation +, - or *\n",
        "\n",
        "for i in range(cfg.n_digits):\n",
        "  token_position_meanings += [\"D'\" + str(cfg.n_digits-i-1)]\n",
        "\n",
        "token_position_meanings += [\"=\"]\n",
        "\n",
        "for i in range(cfg.n_digits+2):\n",
        "  token_position_meanings += [answer_name(cfg.n_digits-i+1)]"
      ]
    },
    {
      "cell_type": "code",
      "execution_count": null,
      "metadata": {
        "id": "s-lFFjjgWAM_"
      },
      "outputs": [],
      "source": [
        "def int_to_answer_str( n ):\n",
        "  s = str(abs(n))\n",
        "  while len(s) < cfg.n_digits + 1 :\n",
        "    s = \"0\" + s\n",
        "  s = (\"+\" if n >= 0 else \"-\") + s\n",
        "  return s\n",
        "\n",
        "\n",
        "# Unit test\n",
        "if cfg.n_digits == 6 :\n",
        "  assert int_to_answer_str(1234) == \"+0001234\""
      ]
    },
    {
      "cell_type": "code",
      "execution_count": null,
      "metadata": {
        "id": "GHQpt2iOqffb"
      },
      "outputs": [],
      "source": [
        "# Convert \"0012345\" to 12345\n",
        "def tokens_to_unsigned_int( q, offset, digits ):\n",
        "  a = 0\n",
        "  for j in range(digits):\n",
        "    a = a * 10 + q[offset+j]\n",
        "  return a\n",
        "\n",
        "\n",
        "# Convert \"-12345\" to -12345, and \"+12345\" to 12345\n",
        "def tokens_to_answer(q):\n",
        "  # offset of sign character\n",
        "  sign_offset = cfg.first_answer_digit_position()\n",
        "\n",
        "  # 5 digit addition yields a 6 digit answer. So cfg.n_digits+1 DIGITS\n",
        "  answer_digits = cfg.n_digits+1\n",
        "\n",
        "  a = tokens_to_unsigned_int( q, sign_offset+1, answer_digits )\n",
        "  if q[sign_offset] == MINUS_INDEX:\n",
        "    a = - a\n",
        "\n",
        "  return a"
      ]
    },
    {
      "cell_type": "markdown",
      "source": [
        "# Part 3B: Set Up: Create model"
      ],
      "metadata": {
        "id": "tz6rUaYvjOcE"
      }
    },
    {
      "cell_type": "code",
      "execution_count": null,
      "metadata": {
        "id": "lA16Nb2PJ7MB"
      },
      "outputs": [],
      "source": [
        "# Transformer creation\n",
        "\n",
        "# Structure is documented at https://neelnanda-io.github.io/TransformerLens/transformer_lens.html#transformer_lens.HookedTransformerConfig.HookedTransformerConfig\n",
        "ht_cfg = HookedTransformerConfig(\n",
        "    n_layers = cfg.n_layers,\n",
        "    n_heads = cfg.n_heads,\n",
        "    d_model = cfg.d_model,\n",
        "    d_head = cfg.d_head,\n",
        "    d_mlp = cfg.d_mlp,\n",
        "    act_fn = cfg.act_fn,\n",
        "    normalization_type = 'LN',\n",
        "    d_vocab = cfg.d_vocab,\n",
        "    d_vocab_out = cfg.d_vocab,\n",
        "    n_ctx = cfg.n_ctx(),\n",
        "    init_weights = True,\n",
        "    device = \"cuda\",\n",
        "    seed = cfg.training_seed,\n",
        ")\n",
        "\n",
        "main_model = HookedTransformer(ht_cfg)\n",
        "\n",
        "optimizer = torch.optim.AdamW(main_model.parameters(),\n",
        "                        lr = cfg.lr,\n",
        "                        weight_decay = cfg.weight_decay,\n",
        "                        betas = (0.9, 0.98))\n",
        "\n",
        "max_iter = cfg.n_training_steps\n",
        "warmup_iter = max_iter // 5\n",
        "scheduler1 = torch.optim.lr_scheduler.LinearLR(optimizer, start_factor=0.01, total_iters=int(warmup_iter))\n",
        "scheduler2 = torch.optim.lr_scheduler.CosineAnnealingLR(optimizer, T_max=int(np.ceil((max_iter-warmup_iter))))\n",
        "scheduler  = torch.optim.lr_scheduler.SequentialLR(optimizer, schedulers=[scheduler1, scheduler2], milestones=[int(warmup_iter)])"
      ]
    },
    {
      "cell_type": "markdown",
      "metadata": {
        "id": "ZHiJhch4KCej"
      },
      "source": [
        "# Part 4: Set Up: Loss Function & Data Generator\n",
        "This section defines the loss function and the training/tesing data generator."
      ]
    },
    {
      "cell_type": "code",
      "execution_count": null,
      "metadata": {
        "id": "AJ2iNO-nKDBW"
      },
      "outputs": [],
      "source": [
        "# Loss functions\n",
        "\n",
        "# Calculate the per-token probability by comparing a batch of prediction \"logits\" to answer \"tokens\"\n",
        "def logits_to_tokens_loss(logits, tokens):\n",
        "  # Addition answer can have one extra digit than question. Answer also has a +/- sign\n",
        "  n_answer_digits = cfg.n_digits+2\n",
        "\n",
        "  # The addition answer digit token probabilities\n",
        "  ans_logits = logits[:, -(n_answer_digits+1):-1]\n",
        "\n",
        "  # Convert raw score (logits) vector into a probability distribution.\n",
        "  # Emphasize the largest scores and suppress the smaller ones, to make them more distinguishable.\n",
        "  ans_probs = F.log_softmax(ans_logits.to(torch.float64), dim=-1)\n",
        "\n",
        "  max_prob_tokens = torch.argmax(ans_probs, dim=-1)\n",
        "\n",
        "  # The addition answer digit tokens\n",
        "  ans_tokens = tokens[:, -(n_answer_digits):]\n",
        "\n",
        "  # Extract values from the ans_probs tensor, based on indices from the ans_tokens tensor\n",
        "  ans_loss = torch.gather(ans_probs, -1, ans_tokens[:, :, None])[..., 0]\n",
        "\n",
        "  return ans_loss, max_prob_tokens\n",
        "\n",
        "\n",
        "# Calculate loss as negative of average per-token mean probability\n",
        "def loss_fn(ans_loss):\n",
        "  return -ans_loss.mean(0)"
      ]
    },
    {
      "cell_type": "code",
      "execution_count": null,
      "metadata": {
        "id": "xUobUMfCkLcs"
      },
      "outputs": [],
      "source": [
        "# Generate an enriched data batch for one operator type\n",
        "# \"Addition\" batch entries are formated XXXXX+YYYYY=+ZZZZZZ e.g. 550030+800020=+1350050\n",
        "# \"Subtraction\" batch entries are formated XXXXX-YYYYY=-ZZZZZZ e.g. 550030-800020=-0249990, 800020-550030=+0249990\n",
        "# \"Multiplication\" batch entries are formated 000XXX*000YYY=+ZZZZZZ e.g. 000345*000678=+233910\n",
        "def data_generator_core( batch_op ):\n",
        "\n",
        "  batch = torch.zeros((cfg.batch_size, cfg.n_ctx())).to(torch.int64)\n",
        "  x = torch.randint(0, 10, (cfg.batch_size, cfg.n_digits))\n",
        "  y = torch.randint(0, 10, (cfg.batch_size, cfg.n_digits))\n",
        "\n",
        "  if batch_op == MULT_INDEX:\n",
        "    # Convert from NNNNNN*NNNNNN= to 000NNN*000NNN= so answer (product) is NNNNNN\n",
        "    num_zeros = cfg.n_digits // 2\n",
        "    for z in range(num_zeros):\n",
        "      x[:, z] = 0\n",
        "      y[:, z] = 0\n",
        "\n",
        "  # Enrich the question data on 60% of batches to speed up training\n",
        "  if ( batch_op == PLUS_INDEX or batch_op == MINUS_INDEX ) and (random.randint(1, 5) < 3):\n",
        "    # Flatten x and y to 1D tensors\n",
        "    x_flat = x.view(-1)\n",
        "    y_flat = y.view(-1)\n",
        "\n",
        "    if batch_op == PLUS_INDEX :\n",
        "      # The UseSum9 task is compound and rare and so hard to learn.\n",
        "      # Increase the MakeSum9 case frequency\n",
        "      # UseSum9 also relies on MakeCarry1 (50%) from previous column.\n",
        "      num_elements_to_modify = int(0.40 * x.numel()) # 40%\n",
        "      indices_to_modify = torch.randperm(x_flat.numel())[:num_elements_to_modify]\n",
        "      if random.randint(1, 2) == 1:\n",
        "        x_flat[indices_to_modify] = 9 - y_flat[indices_to_modify]\n",
        "      else:\n",
        "        y_flat[indices_to_modify] = 9 - x_flat[indices_to_modify]\n",
        "    else:\n",
        "      # Empirically, the model seems to struggle with the sign calculation.\n",
        "      # Minus signs are rarer than positive signs.\n",
        "      # Generate more negative answers by increasing the y value\n",
        "      y_flat[y_flat < 9] += 1\n",
        "\n",
        "    # Reshape x and y back to its original shape\n",
        "    x = x_flat.view(x.shape)\n",
        "    y = y_flat.view(x.shape)\n",
        "\n",
        "\n",
        "  first_answer_index = cfg.first_answer_digit_position()\n",
        "\n",
        "  batch[:, :cfg.n_digits] = x\n",
        "  batch[:, cfg.n_digits] = batch_op\n",
        "  batch[:, 1+cfg.n_digits:1+cfg.n_digits*2] = y\n",
        "  batch[:, first_answer_index-1] = EQUALS_INDEX\n",
        "\n",
        "  # Convert each row into a 5-digit number\n",
        "  x_values = x[:, 0]\n",
        "  y_values = y[:, 0]\n",
        "  for dn in range(1,cfg.n_digits):\n",
        "    x_values = x_values * 10 + x[:, dn]\n",
        "    y_values = y_values * 10 + y[:, dn]\n",
        "\n",
        "  # Elementwise operations to give the 1D tensor answers\n",
        "  if batch_op == MULT_INDEX:\n",
        "    answers = x_values * y_values\n",
        "  else:\n",
        "    if batch_op == MINUS_INDEX:\n",
        "      answers = x_values - y_values\n",
        "    else:\n",
        "      answers = x_values + y_values\n",
        "\n",
        "  # Insert the answers into the batch\n",
        "  for i in range(cfg.batch_size):\n",
        "    answer = answers[i]\n",
        "\n",
        "    sign = PLUS_INDEX\n",
        "    if answer < 0:\n",
        "      sign = MINUS_INDEX\n",
        "      answer = - answer\n",
        "\n",
        "    batch[i, first_answer_index] = sign\n",
        "    for j in range(cfg.n_digits+1):\n",
        "      batch[i, cfg.n_ctx()-j-1] = answer % 10\n",
        "      answer = answer // 10\n",
        "      if answer == 0:\n",
        "          break\n",
        "\n",
        "  return batch"
      ]
    },
    {
      "cell_type": "code",
      "execution_count": null,
      "metadata": {
        "id": "iSp8pS1eKHf6"
      },
      "outputs": [],
      "source": [
        "# Define \"iterator\" data generator function. Invoked using next().\n",
        "def data_generator( ):\n",
        "  torch.manual_seed(cfg.analysis_seed)\n",
        "  while True:\n",
        "\n",
        "    batch_rand = random.randint(1, 100)\n",
        "    batch_op = MULT_INDEX if batch_rand <= cfg.perc_mult else MINUS_INDEX if batch_rand <= cfg.perc_mult + cfg.perc_sub else PLUS_INDEX\n",
        "\n",
        "    batch = data_generator_core( batch_op )\n",
        "\n",
        "    yield batch.cuda()"
      ]
    },
    {
      "cell_type": "code",
      "execution_count": null,
      "metadata": {
        "id": "BqzljhQ4KJU5"
      },
      "outputs": [],
      "source": [
        "# Initialise the data generator\n",
        "ds = data_generator()"
      ]
    },
    {
      "cell_type": "code",
      "execution_count": null,
      "metadata": {
        "id": "YtmioT1THbJA"
      },
      "outputs": [],
      "source": [
        "# Test data generator\n",
        "tokens = next(ds)\n",
        "print(tokens[:3,:])"
      ]
    },
    {
      "cell_type": "markdown",
      "metadata": {
        "id": "-KJhCxFtNKfm"
      },
      "source": [
        "# Part 5: Set Up: Load Model from HuggingFace"
      ]
    },
    {
      "cell_type": "code",
      "execution_count": null,
      "metadata": {
        "id": "fRMkB_8GNRc0"
      },
      "outputs": [],
      "source": [
        "main_repo_name=\"PhilipQuirke/VerifiedArithmetic\"\n",
        "print(\"Loading model from HuggingFace\", main_repo_name, main_fname_pth)\n",
        "\n",
        "main_model.load_state_dict(utils.download_file_from_hf(repo_name=main_repo_name, file_name=main_fname_pth, force_is_torch=True))\n",
        "main_model.eval()"
      ]
    },
    {
      "cell_type": "markdown",
      "metadata": {
        "id": "fGxoBWHNKRf0"
      },
      "source": [
        "# Part 6A: Set Up: Major Quanta types\n",
        "\n",
        "Extending the imported QuantaType values (POSITION, FAIL, IMPACT, ATTENTION and ALGO), we define model-specific QuantaType values  "
      ]
    },
    {
      "cell_type": "code",
      "source": [
        "# What type of mathematical operation was the question\n",
        "QuantaType_MATH_ADD = \"Math.Add\"\n",
        "QuantaType_MATH_SUB = \"Math.Sub\"\n",
        "QuantaType_MATH_VARIED = \"Math.Varied\" # Mixture of question types. Aka Unknown"
      ],
      "metadata": {
        "id": "-32U35C94MR4"
      },
      "execution_count": null,
      "outputs": []
    },
    {
      "cell_type": "markdown",
      "source": [
        "# Part 6B: Set Up: Minor Quanta types"
      ],
      "metadata": {
        "id": "R6W57CphAUls"
      }
    },
    {
      "cell_type": "code",
      "execution_count": null,
      "metadata": {
        "id": "lr4OZri5sq1S"
      },
      "outputs": [],
      "source": [
        "# Related to QuantaType.ATTENTION:\n",
        "# For each node, we store at most 5 input attention facts (as tags)\n",
        "MAX_ATTENTION_TAGS = 5\n",
        "# When graphing, we only show input tokens with >= 10% of the node's attention\n",
        "MIN_ATTENTION_PERC = 10\n",
        "\n",
        "\n",
        "# Related to QuantaType.IMPACT:\n",
        "# No answer digits were impacted by the intervention\n",
        "NO_IMPACT_TAG = \"(none)\"\n",
        "# Ignore the answer digits impacted\n",
        "IGNORE_IMPACT_TAG = \"(ignore)\"\n",
        "\n",
        "\n",
        "# Related to QuantaType.PCA:\n",
        "# PCA says the node outputs in interpretable using the T8,T9,T10 questions\n",
        "PCA_ADD_TAG = \"TR\"\n",
        "\n",
        "\n",
        "\n",
        "# Related to QuantaType_MATH_ADD:\n",
        "# Addition operation \"complexity\" minor tags\n",
        "MATH_ADD_S0_TAG = \"S0\"\n",
        "MATH_ADD_S1_TAG = \"S1\"\n",
        "MATH_ADD_S2_TAG = \"S2\"\n",
        "MATH_ADD_S3_TAG = \"S3\"\n",
        "MATH_ADD_S4_TAG = \"S4\"\n",
        "MATH_ADD_S5_TAG = \"S5\"\n",
        "\n",
        "\n",
        "# Related to QuantaType_MATH_SUB:\n",
        "# Subtraction operation \"complexity\" minor tags\n",
        "MATH_SUB_S0_TAG = \"M0\"\n",
        "MATH_SUB_S1_TAG = \"M1\"\n",
        "MATH_SUB_S2_TAG = \"M2\"\n",
        "MATH_SUB_S3_TAG = \"M3\"\n",
        "MATH_SUB_NG_TAG = \"NG\"\n",
        "\n",
        "\n",
        "# Related to QuantaType.ALGO:\n",
        "ALGO_ADD_BA_TAG = \"BA\" # Addition - Base Add (Dn, D'n)\n",
        "ALGO_ADD_MC_TAG = \"MC\" # Addition - Make Carry (Dn, D'n)\n",
        "ALGO_ADD_US_TAG = \"US\" # Addition - Use Sum 9 (Dn, D'n)\n",
        "ALGO_ADD_TC_TAG = \"TC\" # Addition - TriCase (Dn, D'n)\n",
        "ALGO_SUB_BO_TAG = \"BO\" # Subtraction - Borrow One (Dn, D'n)\n",
        "ALGO_SUB_MB_TAG = \"MB\" # Subtraction - Make Borrow (Dn, D'n)\n",
        "ALGO_SUB_SZ_TAG = \"SZ\" # Subtraction - Sum Zero (Dn, D'n)"
      ]
    },
    {
      "cell_type": "markdown",
      "source": [
        "# Part 7A: Set up: Evaluate answer-digit Impact quanta e.g. \"A654\""
      ],
      "metadata": {
        "id": "eifot6PnGgXn"
      }
    },
    {
      "cell_type": "code",
      "execution_count": null,
      "metadata": {
        "id": "wZXEfGBMLPFW"
      },
      "outputs": [],
      "source": [
        "# Compare each digit in the answer. Returns a A645 pattern where '4' means a failed 4th digit. A \"-\" sign failure is shown as \"A7\"\n",
        "def get_answer_impact_meaning_str(answer1_str, answer2_str):\n",
        "\n",
        "  impact = \"\"\n",
        "  sign_offset = cfg.first_answer_digit_position()\n",
        "  for i in range(cfg.n_digits+2):\n",
        "    impact += \"\" if answer2_str[i] == answer1_str[i] else token_position_meanings[sign_offset + i]\n",
        "\n",
        "  if impact == \"\":\n",
        "    return \"\"\n",
        "\n",
        "  impact = impact.replace(\"A\", \"\")\n",
        "  char_list = list(impact)\n",
        "  char_list = sorted(char_list, reverse=True)\n",
        "  impact = ''.join(char_list)\n",
        "\n",
        "  assert not 'D' in impact\n",
        "\n",
        "  return \"A\" + impact\n",
        "\n",
        "\n",
        "# Compare each digit in the answer. Returns a A645 pattern where '4' means a failed 4th digit. Can fail on the \"-\" sign.\n",
        "def get_answer_impact_meaning(question_and_answer, answer_str2):\n",
        "\n",
        "  answer1_str = tokens_to_string(question_and_answer[-(cfg.n_digits+2):])\n",
        "\n",
        "  return get_answer_impact_meaning_str(answer1_str, answer_str2)"
      ]
    },
    {
      "cell_type": "markdown",
      "source": [
        "# Part 7B: Set Up: Create sample questions by Complexity Quanta\n",
        "\n",
        "Sets of sample questions by complexity quanta"
      ],
      "metadata": {
        "id": "I-yFKiDllqEf"
      }
    },
    {
      "cell_type": "code",
      "execution_count": null,
      "metadata": {
        "id": "oj_xSuSSKR9t"
      },
      "outputs": [],
      "source": [
        "# Insert a number into the question\n",
        "def insert_question_number(the_question, index, first_digit_index, the_digits, n):\n",
        "\n",
        "  last_digit_index = first_digit_index + the_digits - 1\n",
        "\n",
        "  for j in range(the_digits):\n",
        "    the_question[index, last_digit_index-j] = n % 10\n",
        "    n = n // 10\n",
        "\n",
        "\n",
        "# Create a single question\n",
        "def make_a_question(the_question, index, q1, q2, operator ):\n",
        "\n",
        "  insert_question_number(the_question, index, 0, cfg.n_digits, q1)\n",
        "\n",
        "  the_question[index, cfg.n_digits] = operator\n",
        "\n",
        "  insert_question_number( the_question, index, cfg.n_digits+1, cfg.n_digits, q2)\n",
        "\n",
        "  the_question[index, 2*cfg.n_digits+1] = EQUALS_INDEX\n",
        "\n",
        "  answer = q1+q2\n",
        "  if operator == MINUS_INDEX:\n",
        "    answer = q1-q2\n",
        "  else:\n",
        "    if operator == MULT_INDEX:\n",
        "      answer = q1*q2\n",
        "\n",
        "  the_question[index, 2*cfg.n_digits+2] = PLUS_INDEX if answer >= 0 else MINUS_INDEX\n",
        "  if answer < 0:\n",
        "    answer = -answer\n",
        "\n",
        "  insert_question_number(the_question, index, 2*cfg.n_digits + 3, cfg.n_digits+1, answer)\n",
        "\n",
        "\n",
        "# Create a batch of questions from a 2D matrix of ints\n",
        "def make_questions(operator, q_matrix):\n",
        "  max_len = len(q_matrix)\n",
        "  real_len = 0\n",
        "  questions = torch.zeros((max_len, cfg.n_ctx())).to(torch.int64)\n",
        "  limit = 10 ** cfg.n_digits\n",
        "\n",
        "  for i in range(max_len):\n",
        "    a = q_matrix[i][0]\n",
        "    b = q_matrix[i][1]\n",
        "\n",
        "    if a < limit and b < limit:\n",
        "      make_a_question(questions, real_len, a, b, operator)\n",
        "      real_len += 1\n",
        "\n",
        "  return questions[:real_len]"
      ]
    },
    {
      "cell_type": "code",
      "execution_count": null,
      "metadata": {
        "id": "nRCPyETTKaEs"
      },
      "outputs": [],
      "source": [
        "# Manually create some questions that strongly test one quanta\n",
        "\n",
        "\n",
        "# Make BaseAdd questions\n",
        "def make_s0_questions():\n",
        "    return QuantaType_MATH_ADD, MATH_ADD_S0_TAG, make_questions( PLUS_INDEX,\n",
        "      [[0, 0],\n",
        "      [1, 3],\n",
        "      [12345, 33333],\n",
        "      [33333, 12345],\n",
        "      [45762, 33113],\n",
        "      [888, 11111],\n",
        "      [2362, 23123],\n",
        "      [15, 81],\n",
        "      [1000, 4441],\n",
        "      [4440, 11111],\n",
        "      [24033, 25133],\n",
        "      [23533, 21133],\n",
        "      [32500, 1],\n",
        "      [31500, 1111],\n",
        "      [5500, 12323],\n",
        "      [4500, 2209],\n",
        "      [33345, 66643], # =099988\n",
        "      [66643, 33345], # =099988\n",
        "      [10770, 44111],\n",
        "      [60000, 31111],\n",
        "      [10000, 21111],\n",
        "      [107700, 441111],\n",
        "      [600000, 311111],\n",
        "      [100000, 211111],\n",
        "      [1077000, 4411111],\n",
        "      [6000000, 3111111],\n",
        "      [1000000, 2111111],\n",
        "      [10770000, 44111111],\n",
        "      [60000000, 3111111],\n",
        "      [10000000, 2111111]])\n",
        "\n",
        "# Make UseCarry1 (addition) questions\n",
        "def make_s1_questions():\n",
        "    return QuantaType_MATH_ADD, MATH_ADD_S1_TAG, make_questions( PLUS_INDEX,\n",
        "      [[ 15, 45],\n",
        "      [ 27, 55],\n",
        "      [ 35, 59],\n",
        "      [ 150, 451],\n",
        "      [ 270, 551],\n",
        "      [ 350, 591],\n",
        "      [ 1500, 4511],\n",
        "      [ 2700, 5511],\n",
        "      [ 3500, 5911],\n",
        "      [ 40035, 41149],\n",
        "      # [ 44000, 46000], D6 L1 H3 model cant handle this.\n",
        "      [ 70000, 41111],\n",
        "      [ 15000, 25111],\n",
        "      [ 35000, 35111],\n",
        "      [ 45000, 35111],\n",
        "      [ 67000, 25111],\n",
        "      [ 19000, 76111],\n",
        "      [ 15020, 45091],\n",
        "      [ 25002, 55019],\n",
        "      [ 35002, 59019],\n",
        "      [ 150211, 450911],\n",
        "      [ 250021, 550191],\n",
        "      [ 350021, 590191],\n",
        "      [ 1502111, 4509111],\n",
        "      [ 2500211, 5501911],\n",
        "      [ 3500211, 5901911],\n",
        "      [ 15021111, 45091111],\n",
        "      [ 25002111, 55019111],\n",
        "      [ 35002111, 59019111]])\n",
        "\n",
        "\n",
        "# Make SimpleUseSum9 (addition) questions\n",
        "def make_s2_questions():\n",
        "    return QuantaType_MATH_ADD,MATH_ADD_S2_TAG, make_questions( PLUS_INDEX,\n",
        "      [[ 55, 45],\n",
        "      [ 45, 55],\n",
        "      [ 45, 59],\n",
        "      [ 35, 69],\n",
        "      [ 25, 79],\n",
        "      [ 15, 85],\n",
        "      [ 15, 88],\n",
        "      [ 15518, 14511],\n",
        "      [ 14518, 15511],\n",
        "      [ 24533, 25933],\n",
        "      [ 23533, 26933],\n",
        "      [ 32511, 7911],\n",
        "      [ 31511, 8511],\n",
        "      [ 551, 451],\n",
        "      [ 451, 551],\n",
        "      [ 10881, 41127],\n",
        "      [ 41127, 10881],\n",
        "      [ 12386, 82623],\n",
        "      [ 108811, 411271],\n",
        "      [ 411271, 108811],\n",
        "      [ 123861, 826231],\n",
        "      [ 994890, 80105],\n",
        "      [ 970590, 96026],\n",
        "      [ 994890, 80105],\n",
        "      [ 970590, 96026],\n",
        "      [ 1088111, 4112711],\n",
        "      [ 4112711, 1088111],\n",
        "      [ 1238611, 8262311],\n",
        "      [ 10881111, 41127111],\n",
        "      [ 41127111, 10881111],\n",
        "      [ 12386111, 82623111]])\n",
        "\n",
        "# These are two level UseSum9 cascades\n",
        "def make_s3_questions():\n",
        "    return QuantaType_MATH_ADD, MATH_ADD_S3_TAG, make_questions( PLUS_INDEX,\n",
        "      [[ 555, 445],\n",
        "      [ 3340, 6661],\n",
        "      [ 8880, 1121],\n",
        "      [ 1120, 8881],\n",
        "      [ 123, 877],\n",
        "      [ 877, 123],\n",
        "      [ 321, 679],\n",
        "      [ 679, 321],\n",
        "      [ 1283, 78785]])\n",
        "\n",
        "\n",
        "# These are three level UseSum9 cascades\n",
        "def make_s4_questions():\n",
        "    return QuantaType_MATH_ADD, MATH_ADD_S4_TAG, make_questions( PLUS_INDEX,\n",
        "      [[ 5555, 4445],\n",
        "      [ 55550, 44451],\n",
        "      [ 3334, 6666],\n",
        "      [ 33340, 66661],\n",
        "      [ 8888, 1112],\n",
        "      [ 88880, 11121],\n",
        "      [ 1234, 8766],\n",
        "      [ 4321, 5679]])\n",
        "\n",
        "\n",
        "# These are four level UseSum9 cascades\n",
        "def make_s5_questions():\n",
        "    return QuantaType_MATH_ADD, MATH_ADD_S5_TAG, make_questions( PLUS_INDEX,\n",
        "      [[ 44445, 55555],\n",
        "      [ 33334, 66666],\n",
        "      [ 88888, 11112],\n",
        "      [ 12345, 87655],\n",
        "      [ 54321, 45679],\n",
        "      [ 45545, 54455],\n",
        "      [ 36634, 63366],\n",
        "      [ 81818, 18182],\n",
        "      [ 87345, 12655],\n",
        "      [ 55379, 44621]])\n",
        "\n",
        "\n",
        "# Make questions focus mainly on 1 digit at a time\n",
        "# (assuming that the 0 + 0 digit additions/subtractions are trivial bigrams)\n",
        "def make_sn_questions():\n",
        "    return QuantaType_MATH_ADD, \"S*\", make_questions( PLUS_INDEX,\n",
        "      [[ 1, 0],\n",
        "      [ 4, 3],\n",
        "      [ 5, 5],\n",
        "      [ 8, 1],\n",
        "      [ 40, 31],\n",
        "      [ 44, 46],\n",
        "      [ 400, 311],\n",
        "      [ 440, 461],\n",
        "      [ 800, 111],\n",
        "      [ 270, 471],\n",
        "      [ 600, 311],\n",
        "      [ 4000, 3111],\n",
        "      [ 4400, 4611],\n",
        "      [ 6000, 3111],\n",
        "      [ 7000, 4111],\n",
        "      [ 40000, 31111],\n",
        "      [ 44000, 45111],\n",
        "      [ 60000, 31111],\n",
        "      [ 70000, 41111],\n",
        "      [ 10000, 21111],\n",
        "      [ 15000, 25111],\n",
        "      [ 35000, 35111],\n",
        "      [ 45000, 85111],\n",
        "      [ 67000, 85111],\n",
        "      [ 99000, 76111],\n",
        "      [ 76000, 99111],\n",
        "      [ 670000, 851111],\n",
        "      [ 990000, 761111],\n",
        "      [ 760000, 991111],\n",
        "      [ 6700000, 8511111],\n",
        "      [ 9900000, 7611111],\n",
        "      [ 7600000, 9911111],\n",
        "      [ 67000000, 85111111],\n",
        "      [ 99000000, 76111111],\n",
        "      [ 76000000, 99111111]])\n",
        "\n",
        "\n",
        "# Make M0 questions - when no column generates a Borrow One. Answer is always positive (or zero).\n",
        "def make_m0_questions():\n",
        "    return QuantaType_MATH_SUB, MATH_SUB_S0_TAG, make_questions( MINUS_INDEX,\n",
        "      [[0, 0],\n",
        "      [6, 6],\n",
        "      [61, 60],\n",
        "      [611, 600],\n",
        "      [6111, 6000],\n",
        "      [61111, 60000],\n",
        "      [611111, 600000],\n",
        "      [6111111, 6000000],\n",
        "      [61111111, 60000000],\n",
        "      [66666, 12345],\n",
        "      [33333, 12321],\n",
        "      [45762, 34551],\n",
        "      [78901, 78901], # = +000000\n",
        "      [23123, 23123], # = +000000\n",
        "      [86, 15],\n",
        "      [4440, 1230],\n",
        "      [88746, 86544],\n",
        "      [27833, 25133],\n",
        "      [23533, 21133],\n",
        "      [32501, 1],\n",
        "      [31511, 1111],\n",
        "      [55555, 12323],\n",
        "      [45454, 22022],\n",
        "      [66643, 3341],\n",
        "      [66643, 30042],\n",
        "      [99999, 44012],\n",
        "      [61111, 30000],\n",
        "      [99111, 99111], # = +000000\n",
        "      [999991, 440120],\n",
        "      [611111, 300000],\n",
        "      [991111, 991111], # = +0000000\n",
        "      [9999911, 4401200],\n",
        "      [6111111, 3000000],\n",
        "      [9911111, 9911111], # = +00000000\n",
        "      [99999111, 44012000],\n",
        "      [61111111, 30000000],\n",
        "      [99111111, 99111111]]) # = +000000000\n",
        "\n",
        "# Make subtraction M1 questions with exactly one \"borrow 1\" instance. Answer is always positive.\n",
        "def make_m1_questions():\n",
        "    return QuantaType_MATH_SUB, MATH_SUB_S1_TAG, make_questions( MINUS_INDEX,\n",
        "      [[22222, 11113],\n",
        "      [ 22222, 11131],\n",
        "      [ 22222, 11311],\n",
        "      [ 22222, 13111],\n",
        "      [    14,     8],\n",
        "      [   141,    80],\n",
        "      [  1411,   800],\n",
        "      [ 14111,  8000],\n",
        "      [ 55514, 11108],\n",
        "      [ 55141, 11080],\n",
        "      [ 51411, 10800],\n",
        "      [ 140111,  8000],\n",
        "      [ 88888, 22229],\n",
        "      [ 77777, 22292],\n",
        "      [ 66666, 22922],\n",
        "      [ 888888, 222292],\n",
        "      [ 777777, 222922],\n",
        "      [ 666666, 229222],\n",
        "      [ 8888888, 2222922],\n",
        "      [ 7777777, 2229222],\n",
        "      [ 6666666, 2292222],\n",
        "      [ 88888888, 22229222],\n",
        "      [ 77777777, 22292222],\n",
        "      [ 66666666, 22922222]])\n",
        "\n",
        "# Make subtraction M2 questions containing B1 and DZ. Answer is always positive (or zero).\n",
        "def make_m2_questions():\n",
        "    return QuantaType_MATH_SUB, MATH_SUB_S2_TAG, make_questions( MINUS_INDEX,\n",
        "      [[22212, 11113],\n",
        "      [ 22122, 11131],\n",
        "      [ 21222, 11311],\n",
        "      [   904,     8],\n",
        "      [  9041,    80],\n",
        "      [ 90411,   800],\n",
        "      [ 55514, 11118],\n",
        "      [ 55141, 11180],\n",
        "      [ 51411, 11800],\n",
        "      [ 88888, 22289],\n",
        "      [ 77777, 22792],\n",
        "      [ 66666, 26922],\n",
        "      [ 888888, 222892],\n",
        "      [ 777777, 227922],\n",
        "      [ 666666, 269222],\n",
        "      [ 8888888, 2228922],\n",
        "      [ 7777777, 2279222],\n",
        "      [ 6666666, 2692222],\n",
        "      [ 88888888, 22289222],\n",
        "      [ 77777777, 22792222],\n",
        "      [ 66666666, 26922222]])\n",
        "\n",
        "\n",
        "# Make subtraction M3,M4,... questions containing B1 and multiple DZs. Answer is always positive (or zero).\n",
        "def make_m3_questions():\n",
        "    return QuantaType_MATH_SUB, MATH_SUB_S3_TAG, make_questions( MINUS_INDEX,\n",
        "      [[22112, 11113],\n",
        "      [ 21122, 11131],\n",
        "      [ 99004,     8],\n",
        "      [ 90041,    80],\n",
        "      [ 55114, 11118],\n",
        "      [ 51140, 11180],\n",
        "      [ 88888, 22889],\n",
        "      [ 87777, 27792],\n",
        "      [ 888888, 228892],\n",
        "      [ 877777, 277922],\n",
        "      [ 8888888, 2288922],\n",
        "      [ 7777777, 2779222],\n",
        "      [ 88888888, 22889222],\n",
        "      [ 77777777, 28892222]])\n",
        "\n",
        "\n",
        "# Make subtraction questions with negative answers\n",
        "def make_ng_questions():\n",
        "    return QuantaType_MATH_SUB, MATH_SUB_NG_TAG, make_questions( MINUS_INDEX,\n",
        "      [[0, 1],\n",
        "      [7, 9],\n",
        "      [12345, 33333],\n",
        "      [888, 11111],\n",
        "      [2362, 23123],\n",
        "      [15, 81],\n",
        "      [1111, 4440],\n",
        "      [24033, 25133],\n",
        "      [23533, 88133],\n",
        "      [5511, 12323],\n",
        "      [4511, 22209],\n",
        "      [ 88888, 88889],\n",
        "      [ 55555, 55556],\n",
        "      [ 88881, 88891],\n",
        "      [ 55551, 55561],\n",
        "      [ 88811, 88911],\n",
        "      [ 55511, 55611],\n",
        "      [ 88746, 89544],\n",
        "      [ 27833, 29133],\n",
        "      [ 23533, 23833],\n",
        "      [ 31511, 41111],\n",
        "      [ 55555, 62323],\n",
        "      [ 45454, 72022],\n",
        "      [ 66643, 73341],\n",
        "      [ 66643, 90042],\n",
        "      [ 99998, 99999],\n",
        "      [ 8, 12],\n",
        "      [ 41, 232],\n",
        "      [ 44, 523],\n",
        "      [ 234, 334],\n",
        "      [ 7777, 8434],\n",
        "      [ 88888, 92222],\n",
        "      [ 77777, 84340],\n",
        "      [ 888888, 922220],\n",
        "      [ 777777, 843400],\n",
        "      [ 8888888, 9222200],\n",
        "      [ 7777777, 8434000],\n",
        "      [ 88888888, 92222000],\n",
        "      [ 77777777, 84340000]])\n",
        "\n",
        "\n",
        "def make_addition_questions():\n",
        "  _, _, s0 = make_s0_questions()\n",
        "  _, _, s1 = make_s1_questions()\n",
        "  _, _, s2 = make_s2_questions()\n",
        "  _, _, s3 = make_s3_questions()\n",
        "  _, _, s4 = make_s4_questions()\n",
        "  _, _, s5 = make_s5_questions()\n",
        "  _, _, s6 = make_sn_questions()\n",
        "\n",
        "  return QuantaType_MATH_ADD, \"S*\", torch.vstack((s0.cuda(), s1.cuda(), s2.cuda(), s3.cuda(), s4.cuda(), s5.cuda(), s6.cuda()))\n",
        "\n",
        "\n",
        "def make_subtraction_questions():\n",
        "  _, _, m0 = make_m0_questions()\n",
        "  _, _, m1 = make_m1_questions()\n",
        "  _, _, m2 = make_m2_questions()\n",
        "  _, _, m3 = make_m3_questions()\n",
        "  _, _, m4 = make_ng_questions()\n",
        "\n",
        "  return QuantaType_MATH_SUB, \"M*\", torch.vstack((m0.cuda(), m1.cuda(), m2.cuda(), m3.cuda(), m4.cuda()))\n",
        "\n",
        "\n",
        "v0 = next(ds) # Could be Add, Sub or Mult\n",
        "v1 = next(ds) # Could be Add, Sub or Mult\n",
        "if cfg.perc_add() > 0 and cfg.perc_sub > 0 :\n",
        "  v0 = data_generator_core( PLUS_INDEX )\n",
        "  v1 = data_generator_core( MINUS_INDEX )\n",
        "\n",
        "\n",
        "# Returns ~1000 random and up to ~150 manually-chosen questions\n",
        "def make_varied_questions():\n",
        "  if cfg.perc_mult == 100 :\n",
        "    return QuantaType_MATH_VARIED, \"All\", torch.vstack((v0.cuda(), v1.cuda()))\n",
        "\n",
        "  _, _, s0 = make_s0_questions()\n",
        "  _, _, s1 = make_s1_questions()\n",
        "  _, _, s2 = make_s2_questions()\n",
        "  _, _, s3 = make_s3_questions()\n",
        "  _, _, s4 = make_s4_questions()\n",
        "  _, _, s5 = make_s5_questions()\n",
        "  _, _, s6 = make_sn_questions()\n",
        "\n",
        "  _, _, m0 = make_m0_questions()\n",
        "  _, _, m1 = make_m1_questions()\n",
        "  _, _, m2 = make_m2_questions()\n",
        "  _, _, m3 = make_m3_questions()\n",
        "  _, _, m4 = make_ng_questions()\n",
        "\n",
        "  if cfg.perc_add() == 100 :\n",
        "    return QuantaType_MATH_ADD, \"S*\", torch.vstack((v0.cuda(), s0.cuda(), s1.cuda(), s2.cuda(), s3.cuda(), s4.cuda(), v1.cuda()))\n",
        "\n",
        "  if cfg.perc_sub == 100 :\n",
        "    return QuantaType_MATH_SUB, \"M*\", torch.vstack((v0.cuda(), m0.cuda(), m1.cuda(), m2.cuda(), m3.cuda(), m4.cuda(), v1.cuda()))\n",
        "\n",
        "  return QuantaType_MATH_VARIED, \"All\", torch.vstack((v0.cuda(), s0.cuda(), m0.cuda(), s1.cuda(), m1.cuda(), s2.cuda(), m2.cuda(), s3.cuda(), m3.cuda(), s4.cuda(), m4.cuda(), s5.cuda(), s6.cuda(), v1.cuda()))"
      ]
    },
    {
      "cell_type": "markdown",
      "metadata": {
        "id": "FyK7QeUjLLFm"
      },
      "source": [
        "# Part 7C: Set Up: Evaluate mathematical Complexity quanta e.g. Add.S2, Sub.M1\n",
        "\n",
        "Functions to evaluate the question \"mathematical complexity\" of questions"
      ]
    },
    {
      "cell_type": "code",
      "execution_count": null,
      "metadata": {
        "id": "0xiOHRfGKW-W"
      },
      "outputs": [],
      "source": [
        "# Analyse and return the complexity quanta for the Addition (S0 to S4+) or Subtraction (M0 to NG) questions\n",
        "def get_question_complexity(question):\n",
        "  qlist = utils.to_numpy(question)\n",
        "  inputs = qlist[:2*cfg.n_digits+2]\n",
        "  operator = qlist[cfg.n_digits]\n",
        "\n",
        "  if operator == PLUS_INDEX:\n",
        "\n",
        "    # Locate the MC and MS digits (if any)\n",
        "    mc = torch.zeros(cfg.n_digits).to(torch.int64)\n",
        "    ms = torch.zeros(cfg.n_digits).to(torch.int64)\n",
        "    for dn in range(cfg.n_digits):\n",
        "      if inputs[dn] + inputs[dn + cfg.n_digits + 1] == 9:\n",
        "        ms[cfg.n_digits-1-dn] = 1\n",
        "      if inputs[dn] + inputs[dn + cfg.n_digits +1] > 9:\n",
        "        mc[cfg.n_digits-1-dn] = 1\n",
        "\n",
        "    if torch.sum(mc) == 0:\n",
        "      return QuantaType_MATH_ADD, MATH_ADD_S0_TAG\n",
        "\n",
        "    if torch.sum(ms) == 0:\n",
        "      return QuantaType_MATH_ADD, MATH_ADD_S1_TAG\n",
        "\n",
        "    for dn in range(cfg.n_digits-4):\n",
        "      if mc[dn] == 1 and ms[dn+1] == 1 and ms[dn+2] == 1 and ms[dn+3] == 1 and ms[dn+4] == 1:\n",
        "        return QuantaType_MATH_ADD, MATH_ADD_S5_TAG # MC cascades 4 or more digits\n",
        "\n",
        "    for dn in range(cfg.n_digits-3):\n",
        "      if mc[dn] == 1 and ms[dn+1] == 1 and ms[dn+2] == 1 and ms[dn+3] == 1:\n",
        "        return QuantaType_MATH_ADD, MATH_ADD_S4_TAG # MC cascades 3 or more digits\n",
        "\n",
        "    for dn in range(cfg.n_digits-2):\n",
        "      if mc[dn] == 1 and ms[dn+1] == 1 and ms[dn+2] == 1:\n",
        "        return QuantaType_MATH_ADD, MATH_ADD_S3_TAG # MC cascades 2 or more digits\n",
        "\n",
        "    for dn in range(cfg.n_digits-1):\n",
        "      if mc[dn] == 1 and ms[dn+1] == 1:\n",
        "        return QuantaType_MATH_ADD, MATH_ADD_S2_TAG # Simple US 9\n",
        "\n",
        "    return QuantaType_MATH_ADD, MATH_ADD_S1_TAG\n",
        "\n",
        "\n",
        "  if operator == MINUS_INDEX:\n",
        "    a = tokens_to_unsigned_int( question, 0, cfg.n_digits )\n",
        "    b = tokens_to_unsigned_int( question, cfg.n_digits + 1, cfg.n_digits )\n",
        "    if a - b < 0:\n",
        "      return QuantaType_MATH_SUB, MATH_SUB_NG_TAG\n",
        "\n",
        "    # Locate the B1 and MZ digits (if any)\n",
        "    b1 = torch.zeros(cfg.n_digits).to(torch.int64)\n",
        "    mz = torch.zeros(cfg.n_digits).to(torch.int64)\n",
        "    for dn in range(cfg.n_digits):\n",
        "      if inputs[dn] - inputs[dn + cfg.n_digits + 1] < 0:\n",
        "        b1[cfg.n_digits-1-dn] = 1\n",
        "      if inputs[dn] - inputs[dn + cfg.n_digits +1] == 0:\n",
        "        mz[cfg.n_digits-1-dn] = 1\n",
        "\n",
        "    # Evaluate BaseSub questions - when no column generates a Borrow One\n",
        "    if torch.sum(b1) == 0:\n",
        "      return QuantaType_MATH_SUB, MATH_SUB_S0_TAG\n",
        "\n",
        "    # Evaluate subtraction \"cascade multiple steps\" questions\n",
        "    for dn in range(cfg.n_digits-3):\n",
        "      if b1[dn] == 1 and mz[dn+1] == 1 and mz[dn+2] == 1 and mz[dn+3] == 1:\n",
        "        return QuantaType_MATH_SUB, \"M4+\" # B1 cascades 3 or more digits\n",
        "\n",
        "    # Evaluate subtraction \"cascade multiple steps\" questions\n",
        "    for dn in range(cfg.n_digits-2):\n",
        "      if b1[dn] == 1 and mz[dn+1] == 1 and mz[dn+2] == 1:\n",
        "        return QuantaType_MATH_SUB, MATH_SUB_S3_TAG # B1 cascades 2 or more digits\n",
        "\n",
        "    # Evaluate subtraction \"cascade 1\" questions\n",
        "    for dn in range(cfg.n_digits-1):\n",
        "      if b1[dn] == 1 and mz[dn+1] == 1:\n",
        "        return QuantaType_MATH_SUB, MATH_SUB_S2_TAG # B1 cascades 1 digit\n",
        "\n",
        "    return QuantaType_MATH_SUB, MATH_SUB_S1_TAG\n",
        "\n",
        "\n",
        "  # Should never get here\n",
        "  print(\"get_question_complexity OP? exception\", question)\n",
        "  return QuantaType_MATH_VARIED, \"OP?\""
      ]
    },
    {
      "cell_type": "code",
      "execution_count": null,
      "metadata": {
        "id": "Xg1z2-YdkWHO"
      },
      "outputs": [],
      "source": [
        "def unit_test_quanta_core(make_questions):\n",
        "  correct_major_tag, correct_complexity, questions = make_questions()\n",
        "  num_questions = questions.shape[0]\n",
        "  print( correct_major_tag + \":\" + correct_complexity, \"#Questions=\", num_questions)\n",
        "\n",
        "  for i in range(num_questions):\n",
        "    major_tag, complexity = get_question_complexity(questions[i])\n",
        "    if major_tag != correct_major_tag or complexity != correct_complexity:\n",
        "      print( \"Complexity mismatch:\", correct_major_tag, major_tag, correct_complexity, complexity, questions[i])\n",
        "\n",
        "\n",
        "# Test that our \"sample questions by quanta\" and \"question quanta evaluation\" are aligned.\n",
        "# If this fails, either the sample questions or the evaluation is buggy.\n",
        "def unit_test_quanta():\n",
        "  unit_test_quanta_core(make_s0_questions)\n",
        "  unit_test_quanta_core(make_s1_questions)\n",
        "  unit_test_quanta_core(make_s2_questions)\n",
        "  unit_test_quanta_core(make_s3_questions)\n",
        "  unit_test_quanta_core(make_s4_questions)\n",
        "  unit_test_quanta_core(make_s5_questions)\n",
        "\n",
        "  unit_test_quanta_core(make_m0_questions)\n",
        "  unit_test_quanta_core(make_m1_questions)\n",
        "  unit_test_quanta_core(make_m2_questions)\n",
        "  unit_test_quanta_core(make_m3_questions)\n",
        "  unit_test_quanta_core(make_ng_questions)\n",
        "\n",
        "\n",
        "unit_test_quanta()"
      ]
    },
    {
      "cell_type": "markdown",
      "metadata": {
        "id": "D6FwJW0tv4Nf"
      },
      "source": [
        "# Part 8A: Set Up: Question prediction function\n",
        "\n",
        "Create sets of sample questions exercising different quanta"
      ]
    },
    {
      "cell_type": "code",
      "execution_count": null,
      "metadata": {
        "id": "9RHrsjKqKhR4"
      },
      "outputs": [],
      "source": [
        "# Build a test batch of random and manually-chosen questions\n",
        "_, _, varied_questions = make_varied_questions();\n",
        "\n",
        "\n",
        "# Run the sample batch, gather the cache\n",
        "main_model.reset_hooks()\n",
        "main_model.set_use_attn_result(True)\n",
        "sample_logits, sample_cache = main_model.run_with_cache(varied_questions.cuda())\n",
        "print(sample_cache) # Gives names of datasets in the cache\n",
        "sample_losses_raw, sample_max_prob_tokens = logits_to_tokens_loss(sample_logits, varied_questions.cuda())\n",
        "sample_loss_mean = utils.to_numpy(loss_fn(sample_losses_raw).mean())\n",
        "print(\"Sample Mean Loss\", sample_loss_mean) # Loss < 0.04 is good\n",
        "\n",
        "\n",
        "# attn.hook_z is the \"attention head output\" hook point name (at a specified layer)\n",
        "l_attn_hook_z_name = [utils.get_act_name('z', 0, 'a'),utils.get_act_name('z', 1, 'a'),utils.get_act_name('z', 2, 'a'),utils.get_act_name('z', 3, 'a')] # 'blocks.0.attn.hook_z' etc\n",
        "sample_attn_z = sample_cache[l_attn_hook_z_name[0]]\n",
        "print(\"Sample\", l_attn_hook_z_name[0], sample_attn_z.shape) # gives [350, 22, 3, 170] = num_questions, cfg.n_ctx, n_heads, d_head\n",
        "mean_attn_z = torch.mean(sample_attn_z, dim=0, keepdim=True)\n",
        "print(\"Mean\", l_attn_hook_z_name[0], mean_attn_z.shape) # gives [1, 22, 3, 170] = 1, cfg.n_ctx, n_heads, d_head\n",
        "\n",
        "\n",
        "# hook_resid_pre is the \"pre residual memory update\" hook point name (at a specified layer)\n",
        "l_hook_resid_pre_name = ['blocks.0.hook_resid_pre','blocks.1.hook_resid_pre','blocks.2.hook_resid_pre','blocks.3.hook_resid_pre']\n",
        "\n",
        "\n",
        "# hook_resid_post is the \"post residual memory update\" hook point name (at a specified layer)\n",
        "l_hook_resid_post_name = ['blocks.0.hook_resid_post','blocks.1.hook_resid_post','blocks.2.hook_resid_post','blocks.3.hook_resid_post']\n",
        "sample_resid_post = sample_cache[l_hook_resid_post_name[0]]\n",
        "print(\"Sample\", l_hook_resid_post_name[0], sample_resid_post.shape) # gives [350, 22, 510] = num_questions, cfg.n_ctx, d_model\n",
        "mean_resid_post = torch.mean(sample_resid_post, dim=0, keepdim=True)\n",
        "print(\"Mean\", l_hook_resid_post_name[0], mean_resid_post.shape) # gives [1, 22, 510] = 1, cfg.n_ctx, d_model\n",
        "\n",
        "\n",
        "# mlp.hook_post is the \"MLP layer\" hook point name (at a specified layer)\n",
        "l_mlp_hook_post_name = [utils.get_act_name('post', 0),utils.get_act_name('post', 1),utils.get_act_name('post', 2),utils.get_act_name('post', 3)] # 'blocks.0.mlp.hook_post' etc\n",
        "sample_mlp_hook_post = sample_cache[l_mlp_hook_post_name[0]]\n",
        "print(\"Sample\", l_mlp_hook_post_name[0], sample_mlp_hook_post.shape) # gives [350, 22, 2040] = num_questions, cfg.n_ctx, cfg.d_mlp\n",
        "mean_mlp_hook_post = torch.mean(sample_mlp_hook_post, dim=0, keepdim=True)\n",
        "print(\"Mean\", l_mlp_hook_post_name[0], mean_mlp_hook_post.shape) # gives [1, 22, 2040] = 1, cfg.n_ctx, cfg.d_mlp"
      ]
    },
    {
      "cell_type": "code",
      "execution_count": null,
      "metadata": {
        "id": "IjhfLpSW9Jsq"
      },
      "outputs": [],
      "source": [
        "verbose = True\n",
        "\n",
        "\n",
        "class T_Config():\n",
        "  num_questions : int\n",
        "  correct_answers : int\n",
        "  total_mean_loss : float\n",
        "  correct_list = [] # List of size num_questions showing which answers were correct.\n",
        "\n",
        "  sum_num_questions : int\n",
        "  sum_correct_answers : int\n",
        "\n",
        "  output = PrettyTable()\n",
        "\n",
        "\n",
        "  def reset(self):\n",
        "    self.num_questions = 0\n",
        "    self.correct_answers = 0\n",
        "    self.total_mean_loss = 0.0\n",
        "    self.sum_num_questions = 0\n",
        "    self.correct_list = []\n",
        "    self.sum_correct_answers = 0\n",
        "\n",
        "    self.output = PrettyTable()\n",
        "    self.output.field_names = [\"Complexity\", \"#Questions\", \"#Correct\", \"%Correct\", \"Mean loss\"]\n",
        "\n",
        "\n",
        "  # Clear the question summary results\n",
        "  def clear_questions_results(self, title):\n",
        "\n",
        "    self.num_questions = 0\n",
        "    self.correct_answers = 0\n",
        "    self.total_mean_loss = 0\n",
        "    self.correct_list = []\n",
        "\n",
        "    if verbose:\n",
        "      print(title)\n",
        "\n",
        "\n",
        "  # Print the question summary results\n",
        "  def print_questions_results(self, prefix):\n",
        "    self.output.add_row([prefix, self.num_questions, str(self.correct_answers), 100*self.correct_answers/self.num_questions, self.total_mean_loss/self.num_questions])\n",
        "    self.sum_num_questions += self.num_questions\n",
        "    self.sum_correct_answers += self.correct_answers\n",
        "\n",
        "\n",
        "  # Print the overall summary results\n",
        "  def print_overall_results(self):\n",
        "    self.output.add_row([\"OVERALL\", self.sum_num_questions, self.sum_correct_answers, \"\", \"\"])\n",
        "    print(self.output.get_formatted_string(out_format=cfg.table_out_format))\n",
        "\n",
        "\n",
        "  # Evidence (not proof) the model is accurate\n",
        "  def might_be_fully_accurate(self):\n",
        "    return self.sum_num_questions == self.sum_correct_answers\n",
        "\n",
        "\n",
        "tcfg = T_Config()\n",
        "tcfg.reset()"
      ]
    },
    {
      "cell_type": "code",
      "execution_count": null,
      "metadata": {
        "id": "E56siA_QKe0W"
      },
      "outputs": [],
      "source": [
        "# Ask model to predict answer for each question & collect results\n",
        "def do_questions(questions, show_failures = False):\n",
        "\n",
        "  tcfg.num_questions = questions.shape[0]\n",
        "  tcfg.correct_list = [True] * tcfg.num_questions\n",
        "\n",
        "  # Run with no hook\n",
        "  all_logits = main_model(questions.cuda())\n",
        "  all_losses_raw, all_max_prob_tokens = logits_to_tokens_loss(all_logits, questions.cuda())\n",
        "\n",
        "  for question_num in range(tcfg.num_questions):\n",
        "    q = questions[question_num]\n",
        "\n",
        "    losses = loss_fn(all_losses_raw[question_num])\n",
        "    mean_loss = utils.to_numpy(losses.mean())\n",
        "    tcfg.total_mean_loss += mean_loss\n",
        "\n",
        "    model_answer_str = tokens_to_string(all_max_prob_tokens[question_num])\n",
        "    model_answer_num = int(model_answer_str)\n",
        "\n",
        "    a = tokens_to_answer(q)\n",
        "\n",
        "    correct = (model_answer_num == a)\n",
        "    tcfg.correct_list[question_num] = correct\n",
        "\n",
        "    if correct :\n",
        "      tcfg.correct_answers += 1\n",
        "\n",
        "    if verbose or (show_failures and not correct):\n",
        "      print(tokens_to_string(q), \"ModelAnswer:\", model_answer_str, \"Loss:\", mean_loss )\n"
      ]
    },
    {
      "cell_type": "code",
      "execution_count": null,
      "metadata": {
        "id": "oN3mEnSRF0DP"
      },
      "outputs": [],
      "source": [
        "def print_question_results_core( title, questions, show_failures = False):\n",
        "  tcfg.clear_questions_results(title)\n",
        "  do_questions(questions, show_failures)\n",
        "  tcfg.print_questions_results(title)\n",
        "\n",
        "\n",
        "def print_question_results( make_questions, show_failures = False):\n",
        "  major_tag, quanta_case, questions = make_questions()\n",
        "  title = major_tag + \".\" + quanta_case\n",
        "  print_question_results_core( title, questions, show_failures)"
      ]
    },
    {
      "cell_type": "markdown",
      "metadata": {
        "id": "Lag8C3d_KkeQ"
      },
      "source": [
        "# Part 8B: Results: Prediction success by Complexity quanta\n",
        "\n",
        "This section runs hand-curated test cases to indicate which complexity quanta the model can (probably) handle.\n",
        "\n",
        "Not proof - our test cases might be inadequate."
      ]
    },
    {
      "cell_type": "code",
      "execution_count": null,
      "metadata": {
        "id": "8z6RdolRKnnR"
      },
      "outputs": [],
      "source": [
        "verbose = False\n",
        "\n",
        "if cfg.perc_add() > 0:\n",
        "  tcfg.reset()\n",
        "  print_question_results(make_s0_questions)\n",
        "  print_question_results(make_s1_questions)\n",
        "  print_question_results(make_s2_questions)\n",
        "  print_question_results(make_s3_questions)\n",
        "  print_question_results(make_s4_questions)\n",
        "  print_question_results(make_s5_questions)\n",
        "  print_question_results(make_sn_questions)\n",
        "  tcfg.print_overall_results()"
      ]
    },
    {
      "cell_type": "code",
      "execution_count": null,
      "metadata": {
        "id": "MW2SNwxJ-3Kn"
      },
      "outputs": [],
      "source": [
        "verbose = False\n",
        "\n",
        "if cfg.perc_sub > 0:\n",
        "  tcfg.reset()\n",
        "  print_question_results(make_m0_questions)\n",
        "  print_question_results(make_m1_questions)\n",
        "  print_question_results(make_m2_questions)\n",
        "  print_question_results(make_m3_questions)\n",
        "  print_question_results(make_ng_questions)\n",
        "  tcfg.print_overall_results()"
      ]
    },
    {
      "cell_type": "code",
      "execution_count": null,
      "metadata": {
        "id": "QpNvthy48TU0"
      },
      "outputs": [],
      "source": [
        "# Varied questions includes 2 random batches of questions. Show any questions that we can't calculate correctly.\n",
        "tcfg.reset()\n",
        "print_question_results_core( QuantaType_MATH_VARIED, varied_questions, True)\n",
        "tcfg.print_overall_results()\n",
        "\n",
        "model_might_be_fully_accurate = tcfg.might_be_fully_accurate()\n",
        "if model_might_be_fully_accurate:\n",
        "  # This is evidence not proof because there may be very rare edge cases (say 1 in ten million) that did not appear in the test questions.\n",
        "  # Even if you believe you know all the edge cases, and have enriched the training data to contain them, you may not have thought of all edge cases, so this is not proof.\n",
        "  print(\"Model got all test questions correct. This is a pre-requisite for the model to be fully accurate, but this is NOT proof it is fully accurate.\")\n",
        "else:\n",
        "  # Remove the questions that the model failed to answer as they turn up in every cell quanta maps\n",
        "  org_size = varied_questions.shape[0]\n",
        "  varied_questions = varied_questions[torch.tensor(tcfg.correct_list)]\n",
        "  new_size = varied_questions.shape[0]\n",
        "\n",
        "  print()\n",
        "  print(\"WARNING: Model is not fully accurate as it got\", org_size - new_size, \"questions wrong.\")\n",
        "  print(\"RESOLUTION: Understand these failures. Enrich the training data to provide more examples. Retrain the model.\")\n",
        "  print(\"INTERIM: Have reduced 'varied_questions' size from\", org_size, \"to\", new_size, \"so can continue.\")"
      ]
    },
    {
      "cell_type": "markdown",
      "metadata": {
        "id": "2PjaQvhhayUL"
      },
      "source": [
        "# Part 9 : Results: Can the model do 1 million questions without error?\n",
        "\n",
        "If the model passes this test, this is evidence (not proof) that the model is fully accurate. There may be very rare edge cases (say 1 in ten million) that did not appear in the test questions. Even if you believe you know all the edge cases, and have enriched the training data to contain them, you may not have thought of all edge cases, so this is not proof.\n",
        "\n",
        "If the model fails this test:\n",
        "- Add a few of the failures into the \"test questions\" in part 6C\n",
        "- Understand the \"use case(s)\" driving these failures\n",
        "- Alter the Training CoLab data_generator_core to enrich the training data with examples if these use case(s) and retrain the model.  \n",
        "\n",
        "Takes ~25 mins to run (successfully) for ins_mix_d6_l3_h4_t40K_seed372001"
      ]
    },
    {
      "cell_type": "code",
      "execution_count": null,
      "metadata": {
        "id": "JlLOZMVkeqvm"
      },
      "outputs": [],
      "source": [
        "def null_hook(value, hook):\n",
        "  global verbose\n",
        "\n",
        "  verbose = True"
      ]
    },
    {
      "cell_type": "code",
      "execution_count": null,
      "metadata": {
        "id": "ZMYZTv5HUp5F"
      },
      "outputs": [],
      "source": [
        "def one_million_questions_core():\n",
        "  global verbose\n",
        "  global ds\n",
        "\n",
        "  verbose = True\n",
        "\n",
        "  cfg.analysis_seed = 345621 # Randomly chosen\n",
        "  ds = data_generator() # Re-initialise the data generator\n",
        "\n",
        "  the_successes = 0\n",
        "  the_fails = 0\n",
        "\n",
        "  num_batches = 1000000//cfg.batch_size\n",
        "  for epoch in range(num_batches):\n",
        "      tokens = next(ds)\n",
        "\n",
        "      the_hook = [(l_attn_hook_z_name[0], null_hook)]\n",
        "      the_fails = q_predict_questions(tokens, the_hook)\n",
        "\n",
        "      if the_fails> 0:\n",
        "        break\n",
        "\n",
        "      the_successes = the_successes + cfg.batch_size\n",
        "\n",
        "      if epoch % 100 == 0:\n",
        "          print(\"Batch\", epoch, \"of\", num_batches, \"#Successes=\", the_successes)\n",
        "\n",
        "  print(\"successes\", the_successes, \"num_fails\", the_fails)\n",
        "  if the_fails > 0:\n",
        "    \"WARNING: Model is not fully accurate. It failed the 1M Q test\""
      ]
    },
    {
      "cell_type": "code",
      "execution_count": null,
      "metadata": {
        "id": "znsauYqjaxok"
      },
      "outputs": [],
      "source": [
        "def one_million_questions():\n",
        "  print_config()\n",
        "  print()\n",
        "\n",
        "  if model_might_be_fully_accurate:\n",
        "\n",
        "    # Commented out as it takes > 9 minutes to run\n",
        "    if cfg.perc_add() > 0 and cfg.perc_sub > 0:\n",
        "      print(\"Subtraction:\")\n",
        "      cfg.perc_sub = 100\n",
        "      one_million_questions_core()\n",
        "      print()\n",
        "      print(\"Addition:\")\n",
        "      cfg.perc_sub = 0\n",
        "      one_million_questions_core()\n",
        "\n",
        "    else:\n",
        "      # Predict 1M (sub, add or mult) questions\n",
        "      one_million_questions_core()\n",
        "\n",
        "  else:\n",
        "    print(\"WARNING: Model is not fully accurate. It failed some test questions\")\n",
        "\n",
        "\n",
        "# Takes ~25 minutes to run\n",
        "# one_million_questions()"
      ]
    },
    {
      "cell_type": "markdown",
      "metadata": {
        "id": "nXBYdxj-jLZc"
      },
      "source": [
        "# Part 12A: Set Up: Predict Questions and Evaluate Quanta\n",
        "\n",
        "Get model to predict given question answers, with an ablation hook, and categorise how many questions fail. Use prefix \"q_\""
      ]
    },
    {
      "cell_type": "code",
      "execution_count": null,
      "metadata": {
        "id": "03wT2QJL34aP"
      },
      "outputs": [],
      "source": [
        "def q_predict_questions(questions, the_hook):\n",
        "\n",
        "  main_model.reset_hooks()\n",
        "  main_model.set_use_attn_result(True)\n",
        "\n",
        "  all_logits = main_model.run_with_hooks(questions.cuda(), return_type=\"logits\", fwd_hooks=the_hook)\n",
        "  all_losses_raw, all_max_prob_tokens = logits_to_tokens_loss(all_logits, questions.cuda())\n",
        "\n",
        "  num_fails = 0\n",
        "  for question_num in range(questions.shape[0]):\n",
        "    q = questions[question_num]\n",
        "\n",
        "    the_loss_mean = utils.to_numpy(loss_fn(all_losses_raw[question_num]).mean())\n",
        "\n",
        "    # Only show the question if the loss exceeds the threshold (because of the ablated token position)\n",
        "    if the_loss_mean > ccfg.threshold:\n",
        "      answer_str = tokens_to_string(all_max_prob_tokens[question_num])\n",
        "\n",
        "      # Only count the question if the model got the question wrong\n",
        "      impact_str = get_answer_impact_meaning( q, answer_str )\n",
        "      if 'A' in impact_str:\n",
        "        num_fails += 1\n",
        "\n",
        "        if verbose :\n",
        "          print(tokens_to_string(q), \"Q: ModelAnswer:\", answer_str, \"Impact:\", impact_str, \"Loss:\", the_loss_mean )\n",
        "\n",
        "  return num_fails"
      ]
    },
    {
      "cell_type": "code",
      "execution_count": null,
      "metadata": {
        "id": "Hx7LwECBLajQ"
      },
      "outputs": [],
      "source": [
        "class C_Config(NodeLocation):\n",
        "  threshold : int\n",
        "\n",
        "\n",
        "  def __init__(self):\n",
        "    super().__init__(0, 0, True, 0)\n",
        "    self.threshold = 0.01\n",
        "\n",
        "\n",
        "ccfg = C_Config()"
      ]
    },
    {
      "cell_type": "code",
      "execution_count": null,
      "metadata": {
        "id": "CGL57MRBLdUh"
      },
      "outputs": [],
      "source": [
        "verbose = False\n",
        "\n",
        "\n",
        "def c_set_resid_post_hook(value, hook):\n",
        "  global ccfg\n",
        "\n",
        "  #print( \"In hook\", l_hook_resid_post_name[ccfg.layer], ccfg.ablate, ccfg.position, value.shape) # Get [64, 22, 510] = cfg.batch_size, num_tokens, d_model\n",
        "\n",
        "  # Copy the mean resid post values in position N to all the batch questions\n",
        "  value[:,ccfg.position,:] = mean_resid_post[0,ccfg.position,:].clone()\n",
        "\n",
        "\n",
        "num_failures_list = []\n",
        "num_questions = 0\n",
        "if cfg.n_digits >= 5 :\n",
        "  c_fwd_hooks = [(l_hook_resid_post_name[0], c_set_resid_post_hook)] if cfg.n_layers == 1 else [(l_hook_resid_post_name[0], c_set_resid_post_hook),(l_hook_resid_post_name[1], c_set_resid_post_hook)]\n",
        "\n",
        "  num_questions = varied_questions.shape[0]\n",
        "\n",
        "  for ccfg.position in range(cfg.n_ctx()):\n",
        "    num_fails = q_predict_questions(varied_questions, c_fwd_hooks)\n",
        "\n",
        "    num_failures_list += [num_fails] if num_fails > 0 else \".\"\n",
        "\n",
        "    if num_fails > 0:\n",
        "      useful_info.add_useful_position(ccfg.position)\n"
      ]
    },
    {
      "cell_type": "markdown",
      "metadata": {
        "id": "ZmsGWUbILYin"
      },
      "source": [
        "# Part 12B: Results: Ablate ALL Heads in EACH token position. What is the impact?\n",
        "\n",
        "Here we ablate all heads in each token position (overriding the model memory aka residual stream) and see if loss increases. If loss increases the token position is used by the algorithm. Unused token positions can be excluded from further analysis. Use \"C_\" prefix"
      ]
    },
    {
      "cell_type": "code",
      "execution_count": null,
      "metadata": {
        "id": "gpRp5YMmLe1y"
      },
      "outputs": [],
      "source": [
        "print_config()\n",
        "print()\n",
        "print(\"num_questions=\", num_questions, \"min_useful_position=\", useful_info.min_useful_position(), \"max_useful_position=\", useful_info.max_useful_position() )\n",
        "print()\n",
        "\n",
        "# Token positions names P1 .... P20\n",
        "columns = [\"Posn\"]\n",
        "for i in range(cfg.n_ctx()):\n",
        "  columns += [position_name(i)]\n",
        "\n",
        "rows = [\"Posn\", \"# fails\"]\n",
        "data = [\n",
        "    [\"Posn\"] + token_position_meanings,\n",
        "    [\"# fails\"] + num_failures_list\n",
        "]\n",
        "\n",
        "fig, ax = plt.subplots(figsize=(16,1))\n",
        "ax.axis('tight')\n",
        "ax.axis('off')\n",
        "\n",
        "table = ax.table(cellText=data, colLabels=columns, loc='center', cellLoc='center')\n",
        "table.auto_set_font_size(False)\n",
        "table.set_fontsize(10)  # Set the font size here\n",
        "table.scale(1, 1.5)  # The first parameter scales column widths, the second scales row heights\n",
        "\n",
        "plt.show()\n"
      ]
    },
    {
      "cell_type": "markdown",
      "metadata": {
        "id": "904WBkTOLg_5"
      },
      "source": [
        "# Part 14: Setup: Analysis of quanta per node\n",
        "\n",
        "Evaluate quanta at node (not position) resolution. Uses \"u_\" prefix."
      ]
    },
    {
      "cell_type": "code",
      "execution_count": null,
      "metadata": {
        "id": "iTaSo-UzLlZ_"
      },
      "outputs": [],
      "source": [
        "def u_add_node_tag( major_tag, minor_tag ):\n",
        "  assert ccfg.position >= 0\n",
        "  assert ccfg.layer >= 0\n",
        "  assert ccfg.num >= 0\n",
        "  assert ccfg.position < cfg.n_ctx()\n",
        "  assert ccfg.layer < cfg.n_layers\n",
        "  if ccfg.is_head:\n",
        "    assert ccfg.num < cfg.n_heads\n",
        "  else:\n",
        "    assert ccfg.num < cfg.mlp_slices()\n",
        "\n",
        "  useful_info.add_node_tag( ccfg, major_tag, minor_tag )"
      ]
    },
    {
      "cell_type": "code",
      "execution_count": null,
      "metadata": {
        "id": "rkRnSVQywfkr"
      },
      "outputs": [],
      "source": [
        "# Convert \"A1231231278321\" to \"12378\" or \"87321\"\n",
        "def sort_unique_digits(raw_input_string, do_reverse):\n",
        "  digit_string = ''.join(filter(str.isdigit, raw_input_string))\n",
        "\n",
        "  seen = set()\n",
        "  unique_digits = \"\"\n",
        "  for char in digit_string:\n",
        "      if char not in seen:\n",
        "          seen.add(char)\n",
        "          unique_digits += char\n",
        "\n",
        "  return ''.join(sorted(unique_digits, reverse=do_reverse))\n",
        "\n",
        "\n",
        "# Unit test\n",
        "assert sort_unique_digits(\"A1231231278321\", False) == \"12378\"\n",
        "assert sort_unique_digits(\"A1231231278321\", True) == \"87321\""
      ]
    },
    {
      "cell_type": "code",
      "execution_count": null,
      "metadata": {
        "id": "bZG-kUBMph9D"
      },
      "outputs": [],
      "source": [
        "def u_predict_questions(questions, the_hook):\n",
        "\n",
        "  main_model.reset_hooks()\n",
        "  main_model.set_use_attn_result(True)\n",
        "\n",
        "  all_logits = main_model.run_with_hooks(questions.cuda(), return_type=\"logits\", fwd_hooks=the_hook)\n",
        "  all_losses_raw, all_max_prob_tokens = logits_to_tokens_loss(all_logits, questions.cuda())\n",
        "\n",
        "\n",
        "  num_fails = 0\n",
        "  impact_fails = \"\"\n",
        "  add_complexity_fails = \"\"\n",
        "  sub_complexity_fails = \"\"\n",
        "\n",
        "  for question_num in range(questions.shape[0]):\n",
        "    q = questions[question_num]\n",
        "\n",
        "    the_loss_mean = utils.to_numpy(loss_fn(all_losses_raw[question_num]).mean())\n",
        "\n",
        "    # Only show the question if the loss exceeds the threshold (because of the ablated token position)\n",
        "    if the_loss_mean > ccfg.threshold:\n",
        "      answer_str = tokens_to_string(all_max_prob_tokens[question_num])\n",
        "\n",
        "      impact_str = get_answer_impact_meaning( q, answer_str )\n",
        "      # Only count the question if the model got the question wrong\n",
        "      if 'A' in impact_str:\n",
        "        num_fails += 1\n",
        "\n",
        "        impact_fails += impact_str\n",
        "\n",
        "        major_tag, minor_tag = get_question_complexity(q)\n",
        "        if major_tag == QuantaType_MATH_ADD:\n",
        "          add_complexity_fails += minor_tag\n",
        "        elif major_tag == QuantaType_MATH_SUB:\n",
        "          sub_complexity_fails += minor_tag\n",
        "\n",
        "        if verbose :\n",
        "          print(tokens_to_string(q), \"U: ModelAnswer:\", answer_str, \"Complexity:\", major_tag, \"Impact:\", impact_str, \"Loss:\", the_loss_mean )\n",
        "\n",
        "\n",
        "  if num_fails > 0:\n",
        "\n",
        "    # Add percentage failure quanta\n",
        "    perc = int( 100.0 * num_fails / len(questions))\n",
        "    u_add_node_tag( QuantaType.FAIL, str(perc) )\n",
        "\n",
        "    # Add summary of all answer digit impact quanta failures\n",
        "    u_add_node_tag( QuantaType.IMPACT, \"A\" + sort_unique_digits(impact_fails, True) )\n",
        "\n",
        "    # Add summary of all addition question complexity quanta failures\n",
        "    if add_complexity_fails != \"\":\n",
        "      u_add_node_tag( QuantaType_MATH_ADD, \"S\" + sort_unique_digits(add_complexity_fails, False) )\n",
        "\n",
        "    # Add summary of all subtraction question complexity quanta failures\n",
        "    if sub_complexity_fails != \"\":\n",
        "      sub_complexity_fails = sort_unique_digits(sub_complexity_fails, False)\n",
        "      if sub_complexity_fails == \"\":\n",
        "        sub_complexity_fails = MATH_SUB_NG_TAG\n",
        "      else:\n",
        "        sub_complexity_fails = \"M\" + sub_complexity_fails\n",
        "      u_add_node_tag( QuantaType_MATH_SUB, sub_complexity_fails )"
      ]
    },
    {
      "cell_type": "code",
      "execution_count": null,
      "metadata": {
        "id": "qOxNc9SAMGRH"
      },
      "outputs": [],
      "source": [
        "def u_mlp_hook_post(value, hook):\n",
        "  #print( \"In u_mlp_hook_post\", value.shape) # Get [1, 22, 2040] = ???, cfg.n_ctx, cfg.d_mlp (# neurons)\n",
        "\n",
        "  # Mean ablate. Copy the mean resid post values in the MLP layer\n",
        "  #value[:,ccfg.position,:] =  mean_mlp_hook_post[:,ccfg.position,:].clone()\n",
        "  slice_size = cfg.d_mlp // cfg.mlp_slices()\n",
        "  start_index = ccfg.num * slice_size\n",
        "  end_index = start_index + slice_size\n",
        "  value[:,ccfg.position,start_index:end_index] =  mean_mlp_hook_post[:,ccfg.position,start_index:end_index].clone()\n",
        "\n",
        "\n",
        "# Ablating the MLP in each layer in each position and seeing if the loss increases shows which layer+MLP are used by the algorithm.\n",
        "def u_mlp_perform_all(questions):\n",
        "  ccfg.is_head = False\n",
        "  for ccfg.position in useful_info.positions:\n",
        "    for ccfg.layer in range(cfg.n_layers):\n",
        "      for ccfg.num in range(cfg.mlp_slices()):\n",
        "        the_hook = [(l_mlp_hook_post_name[ccfg.layer], u_mlp_hook_post)]\n",
        "        u_predict_questions(questions, the_hook)"
      ]
    },
    {
      "cell_type": "code",
      "execution_count": null,
      "metadata": {
        "id": "f2EnisO6MMGQ"
      },
      "outputs": [],
      "source": [
        "def u_head_attn_hook_z(value, hook):\n",
        "  # print( \"In u_head_attn_hook_z\", value.shape) # Get [1, 22, 3, 170] = ???, cfg.n_ctx, cfg.n_heads, cfg.d_head\n",
        "\n",
        "  # Mean ablate. Copy the mean resid post values in position N to all the batch questions\n",
        "  value[:,ccfg.position,ccfg.num,:] = mean_attn_z[:,ccfg.position,ccfg.num,:].clone()\n",
        "\n",
        "\n",
        "# Ablating each head in each layer in each position and seeing if the loss increases shows which position+layer+head are used by the algorithm.\n",
        "def u_head_perform_all(questions):\n",
        "  ccfg.is_head = True\n",
        "  for ccfg.position in useful_info.positions:\n",
        "    for ccfg.layer in range(cfg.n_layers):\n",
        "      for ccfg.num in range(cfg.n_heads):\n",
        "        the_hook = [(l_attn_hook_z_name[ccfg.layer], u_head_attn_hook_z)]\n",
        "        u_predict_questions(questions, the_hook)"
      ]
    },
    {
      "cell_type": "code",
      "execution_count": null,
      "metadata": {
        "id": "zh3f8Jiahdvq"
      },
      "outputs": [],
      "source": [
        "def h_null_attn_z_hook(value, hook):\n",
        "  global verbose\n",
        "\n",
        "  #print(\"In h_null_attn_z_hook\", value.shape)  # Get [1, 22, 3, 170] = ???, cfg.n_ctx, cfg.n_heads, cfg.d_head\n",
        "\n",
        "\n",
        "def u_calculate_attention_tags(questions):\n",
        "  useful_info.reset_node_tags(QuantaType.ATTENTION)\n",
        "\n",
        "  logits, cache = main_model.run_with_cache(questions)\n",
        "\n",
        "  all_attention_weights = []\n",
        "  for layer in range(cfg.n_layers):\n",
        "    attention_weights = cache[\"pattern\", layer, \"attn\"]\n",
        "    #print(attention_weights.shape) # 512, 4, 22, 22 = cfg.batch_size, cfg.n_heads, cfg.n_ctx, cfg.n_ctx\n",
        "\n",
        "    average_attention_weights = attention_weights.mean(dim=0)\n",
        "    #print(average_attention_weights.shape) # 4, 22, 22 = cfg.n_heads, cfg.n_ctx, cfg.n_ctx\n",
        "\n",
        "    all_attention_weights += [average_attention_weights]\n",
        "\n",
        "\n",
        "  for node in useful_info.nodes:\n",
        "    if node.is_head:\n",
        "\n",
        "      # Get attention weights for this token in this head\n",
        "      layer_weights = all_attention_weights[node.layer]\n",
        "      weights = layer_weights[node.num, node.position, :]\n",
        "\n",
        "      top_tokens = torch.topk(weights, 4)\n",
        "      total_attention = weights.sum()\n",
        "      attention_percentage = top_tokens.values / total_attention * 100\n",
        "\n",
        "      # Add up to 4 tags with percs per head\n",
        "      for idx, token_idx in enumerate(top_tokens.indices):\n",
        "        perc = attention_percentage[idx]\n",
        "        if perc >= 1.0:\n",
        "          ccfg.set_node_location(node)\n",
        "          u_add_node_tag( QuantaType.ATTENTION, f\"P{token_idx}={perc:.0f}\" )"
      ]
    },
    {
      "cell_type": "code",
      "execution_count": null,
      "metadata": {
        "id": "as9ot9RMMTAi"
      },
      "outputs": [],
      "source": [
        "verbose = False\n",
        "useful_info.nodes = []\n",
        "u_mlp_perform_all(varied_questions)\n",
        "u_head_perform_all(varied_questions)\n",
        "u_calculate_attention_tags(varied_questions)\n",
        "useful_info.sort_nodes()"
      ]
    },
    {
      "cell_type": "markdown",
      "metadata": {
        "id": "3BmQHiLALp-3"
      },
      "source": [
        " # Part 15A: Set up: Show and save Quanta map\n",
        "\n",
        " Using the UsefulNodes and filtering their tags, show a 2D map of the nodes and the tag minor versions."
      ]
    },
    {
      "cell_type": "code",
      "execution_count": null,
      "metadata": {
        "id": "emcB0_CpYTaJ"
      },
      "outputs": [],
      "source": [
        "def show_quanta_map( title, custom_cmap, shades, major_tag, minor_tag, get_node_details, base_fontsize = 10, max_width = 10):\n",
        "\n",
        "  print_config()\n",
        "  print()\n",
        "\n",
        "  position_headings = []\n",
        "  for position in range(cfg.n_ctx()):\n",
        "    if position < cfg.first_answer_digit_position() :\n",
        "      position_headings += [position_name(position)]\n",
        "    else:\n",
        "      position_headings += [token_position_meanings[position]]\n",
        "\n",
        "  ax1, quanta_results = calc_quanta_map(position_headings, custom_cmap, shades, major_tag, minor_tag, get_node_details, base_fontsize, max_width)\n",
        "\n",
        "  fulltitle = op_prefix + ': ' + title + ' d{}_l{}_h{}'.format(cfg.n_digits, cfg.n_layers, cfg.n_heads)\n",
        "\n",
        "  if cfg.graph_file_suffix > \"\":\n",
        "    print(\"Saving quanta map:\", fulltitle)\n",
        "    filename = fulltitle.replace( ' ', '_').replace( '-', '_').replace( ':', '_')\n",
        "    plt.savefig(filename + \".\" + cfg.graph_file_suffix, bbox_inches='tight', pad_inches=0)\n",
        "  else:\n",
        "    ax1.set_title(fulltitle + ' ({} nodes)'.format(len(quanta_results)))\n",
        "\n",
        "\n",
        "  # Show plot\n",
        "  plt.show()"
      ]
    },
    {
      "cell_type": "markdown",
      "metadata": {
        "id": "VpkyhHRoMOSw"
      },
      "source": [
        "# Part 16A: Results: Show failure percentage quanta map\n",
        "\n",
        "Show the percentage failure rate (incorrect prediction) when individual Attention Heads and MLPs are ablated.\n",
        "\n",
        "A cell containing \"< 1\" may add some risk to the accuracy of the overall analysis process. Check to see if this represents a new use case. Improve the test data set to contain more instances of this (new or existing) use case."
      ]
    },
    {
      "cell_type": "code",
      "execution_count": null,
      "metadata": {
        "id": "vQ28dx5YLs0P"
      },
      "outputs": [],
      "source": [
        "def get_quanta_fail_percs( node, major_tag, minor_tag, shades):\n",
        "  cell_text = node.only_tag( major_tag )\n",
        "  value = int(cell_text) if cell_text != \"\" else 0\n",
        "\n",
        "  if value == 100 and ccfg.num_compressed_cols() > 5:\n",
        "    value = 99 # Avoid overlapping figures in the matrix.\n",
        "  color_index = value // shades\n",
        "  cell_text = (str(value) if value > 0 else \"<1\") + \"%\"\n",
        "\n",
        "  return cell_text, color_index\n",
        "\n",
        "\n",
        "show_quanta_map( \"Failure frequency per node\", plt.cm.winter, 10, QuantaType.FAIL, \"\", get_quanta_fail_percs, 9)"
      ]
    },
    {
      "cell_type": "markdown",
      "metadata": {
        "id": "avCfaCT1Puhz"
      },
      "source": [
        "# Part 16B: Result: Show attention quanta map\n",
        "\n",
        "Show attention quanta of useful cells"
      ]
    },
    {
      "cell_type": "code",
      "execution_count": null,
      "metadata": {
        "id": "NTGoEWHgvFH6"
      },
      "outputs": [],
      "source": [
        "# Only maps attention heads, not MLP layers\n",
        "def get_quanta_attention_tag(node, major_tag, minor_tag, shades):\n",
        "  cell_text = \"\"\n",
        "  color_index = 0\n",
        "\n",
        "  if node.is_head:\n",
        "    sum_perc = 0\n",
        "    node_tags = node.filter_tags( major_tag )\n",
        "    for minor_tag in node_tags:\n",
        "      node_parts = minor_tag.split(\"=\")\n",
        "      token_pos = position_name_to_int(node_parts[0])\n",
        "      the_perc = int(node_parts[1])\n",
        "      if the_perc >= MIN_ATTENTION_PERC:\n",
        "        cell_text += token_position_meanings[token_pos] + \" \"\n",
        "        sum_perc += the_perc\n",
        "\n",
        "    cell_text = cell_text.rstrip(\" \")\n",
        "    color_index = shades - sum_perc // shades    # Want >90% => Dark-Green, and <10% => Yellow\n",
        "\n",
        "    if len(node_tags) == MAX_ATTENTION_TAGS:\n",
        "      # Number of input tokens that node attended to could be > MAX_ATTENTION_TAGS so show yellow\n",
        "      color_index = shades-1\n",
        "\n",
        "  return cell_text, color_index\n",
        "\n",
        "\n",
        "# Only maps attention heads, not MLP layers\n",
        "show_quanta_map( \"Attention per node\", create_custom_colormap(), 10, QuantaType.ATTENTION, \"\", get_quanta_attention_tag, 10, 6)"
      ]
    },
    {
      "cell_type": "markdown",
      "metadata": {
        "id": "v7-99ZxDOrbF"
      },
      "source": [
        "# Part 16C - Show question complexity (S*) quanta map\n",
        "\n",
        "Show the \"minimum\" addition purpose of each useful cell by S0 to S5 quanta.\n",
        "Show the \"minimum\" subtraction purpose of each useful cell by M0 to M5 quanta"
      ]
    },
    {
      "cell_type": "code",
      "execution_count": null,
      "metadata": {
        "id": "0tAJl0eYO96W"
      },
      "outputs": [],
      "source": [
        "def get_quanta_min_tag(node, major_tag, minor_tag, shades):\n",
        "  color_index = 0\n",
        "  cell_text = node.min_tag_suffix( major_tag, minor_tag )\n",
        "  if cell_text != \"\" :\n",
        "    cell_text = cell_text[0:2]\n",
        "    color_index = int(cell_text[1]) if len(cell_text) > 1 and cell_text[1].isdigit() else shades-1\n",
        "\n",
        "  return cell_text, color_index\n",
        "\n",
        "\n",
        "def show_quanta_min_tags( title, major_tag, minor_tag, shades):\n",
        "  show_quanta_map( title, create_custom_colormap(), shades, major_tag, minor_tag, get_quanta_min_tag)"
      ]
    },
    {
      "cell_type": "code",
      "execution_count": null,
      "metadata": {
        "id": "OyoErRoCA-pz"
      },
      "outputs": [],
      "source": [
        "if cfg.perc_add() > 0:\n",
        "  show_quanta_min_tags( \"Addition min-complexity per node\", QuantaType_MATH_ADD, \"\", 6)"
      ]
    },
    {
      "cell_type": "code",
      "execution_count": null,
      "metadata": {
        "id": "CMZzbjxUBQGE"
      },
      "outputs": [],
      "source": [
        "if cfg.perc_sub > 0:\n",
        "  show_quanta_min_tags( \"Subtraction min-complexity per node\", QuantaType_MATH_SUB, \"\", 4)"
      ]
    },
    {
      "cell_type": "code",
      "execution_count": null,
      "metadata": {
        "id": "x48x45-RInZb"
      },
      "outputs": [],
      "source": [
        "if cfg.perc_sub > 0:\n",
        "  show_quanta_min_tags( \"Neg-answer subtraction min-complexity per node\", QuantaType_MATH_SUB, MATH_SUB_NG_TAG, 4)"
      ]
    },
    {
      "cell_type": "markdown",
      "metadata": {
        "id": "IifmtnLoTCN5"
      },
      "source": [
        "# Part 16D - Show answer impact quanta map\n",
        "\n",
        "Show the purpose of each useful cell by impact on the answer digits A0 to A5.\n"
      ]
    },
    {
      "cell_type": "code",
      "execution_count": null,
      "metadata": {
        "id": "2HFvO9nw5kx4"
      },
      "outputs": [],
      "source": [
        "# Check if the digits in the string are sequential\n",
        "def is_sequential(digits):\n",
        "  return all(ord(next_char) - ord(current_char) == -1 for current_char, next_char in zip(digits, digits[1:]))\n",
        "\n",
        "\n",
        "# Convert A654321 to A6..1 for compact display\n",
        "def compact_display_if_sequential(s):\n",
        "    if len(s) > 3:\n",
        "      letter, digits = s[0], s[1:]\n",
        "      if is_sequential(digits):\n",
        "        # Convert to compact form if digits are sequential\n",
        "        return f\"{letter}{digits[0]}..{digits[-1]}\"\n",
        "\n",
        "    # Return original string if not sequential\n",
        "    return s\n",
        "\n",
        "\n",
        "# Unit test\n",
        "assert compact_display_if_sequential(\"A654321\") == \"A6..1\""
      ]
    },
    {
      "cell_type": "code",
      "execution_count": null,
      "metadata": {
        "id": "6K9PyCKYTUzX"
      },
      "outputs": [],
      "source": [
        "def get_impact_quanta_range( node, major_tag, minor_tag, shades):\n",
        "\n",
        "  cell_text = \"\"\n",
        "  color_index = 0\n",
        "\n",
        "  cell_text = node.min_tag_suffix( major_tag, minor_tag )\n",
        "  if len(cell_text) > 0:\n",
        "    cell_text = compact_display_if_sequential(cell_text)\n",
        "\n",
        "    color_index = int(cell_text[1]) if len(cell_text) > 1 and cell_text[1].isdigit() else shades-1\n",
        "\n",
        "  return cell_text, color_index\n",
        "\n",
        "\n",
        "show_quanta_map( \"Answer impact per node\", create_custom_colormap(), cfg.n_digits+2, QuantaType.IMPACT, \"\", get_impact_quanta_range, 9)"
      ]
    },
    {
      "cell_type": "markdown",
      "metadata": {
        "id": "fHSY3blNMe7I"
      },
      "source": [
        "#Part 18: Set Up: Calc and graph PCA decomposition"
      ]
    },
    {
      "cell_type": "code",
      "execution_count": null,
      "metadata": {
        "id": "cCiBsiQAMhS_"
      },
      "outputs": [],
      "source": [
        "tn_questions = 100\n",
        "\n",
        "\n",
        "def make_t_questions(test_digit, test_case, operation):\n",
        "    limit = 10 ** test_digit\n",
        "    questions = []\n",
        "    for i in range(tn_questions):\n",
        "\n",
        "\n",
        "      if operation == PLUS_INDEX:\n",
        "        if test_case == 8:\n",
        "          # These are n_digit addition questions where the first test_digits add up from 0 to 8\n",
        "          x = random.randint(0, 8)\n",
        "          y = random.randint(0, 8-x)\n",
        "        if test_case == 9:\n",
        "          # These are n_digit addition questions where the first test_digits add up to 9\n",
        "          x = random.randint(0, 9)\n",
        "          y = 9 - x\n",
        "        if test_case == 10:\n",
        "          # These are n_digit addition questions where the first test_digits add up to 10 to 18\n",
        "          x = random.randint(1, 9)\n",
        "          y = random.randint(10-x, 9)\n",
        "\n",
        "\n",
        "      if operation == MINUS_INDEX:\n",
        "        if test_case == 8:\n",
        "          # These are n_digit subtraction questions where the first test_digits difference is negative\n",
        "          x = random.randint(0, 8)\n",
        "          y = random.randint(x+1, 9)\n",
        "        if test_case == 9:\n",
        "          # These are n_digit subtraction questions where the first test_digits difference is zero\n",
        "          x = random.randint(0, 9)\n",
        "          y = x\n",
        "        if test_case == 10:\n",
        "          # These are n_digit subtraction questions where the first test_digits difference is positive\n",
        "          x = random.randint(0, 9)\n",
        "          y = random.randint(0, x-1)\n",
        "\n",
        "\n",
        "      # Randomise the last test_digits-1 digits of both numbers\n",
        "      x = x * limit + random.randint(0, limit-1)\n",
        "      y = y * limit + random.randint(0, limit-1)\n",
        "      questions.append([x, y])\n",
        "    return make_questions(operation, questions)\n",
        "\n",
        "\n",
        "\n",
        "def make_tricase_questions(test_digit, operation):\n",
        "  q1 = make_t_questions(test_digit, 8, operation)\n",
        "  q2 = make_t_questions(test_digit, 9, operation)\n",
        "  q3 = make_t_questions(test_digit, 10, operation)\n",
        "\n",
        "  questions = torch.vstack((q1, q2, q3))\n",
        "\n",
        "  return questions"
      ]
    },
    {
      "cell_type": "code",
      "execution_count": null,
      "metadata": {
        "id": "SWCPgoQZMjgc"
      },
      "outputs": [],
      "source": [
        "# Do one Principal Component Analysis\n",
        "def calc_pca_for_an(node, answer_digit, operation):\n",
        "  global tn_questions\n",
        "\n",
        "  t_questions = make_tricase_questions(answer_digit, operation)\n",
        "\n",
        "  t_logits, t_cache = main_model.run_with_cache(t_questions)\n",
        "\n",
        "  # Gather attention patterns for all the (randomly chosen) questions\n",
        "  attention_outputs = []\n",
        "  for i in range(len(t_questions)):\n",
        "\n",
        "    # Output of individual heads, without final bias\n",
        "    attention_cache=t_cache[\"result\", node.layer, \"attn\"] # Output of individual heads, without final bias\n",
        "    attention_output=attention_cache[i]  # Shape [n_ctx, n_head, d_model]\n",
        "    attention_outputs.append(attention_output[node.position, node.num, :])\n",
        "\n",
        "  attn_outputs = torch.stack(attention_outputs, dim=0).cpu()\n",
        "\n",
        "  pca = PCA(n_components=6)\n",
        "  pca.fit(attn_outputs)\n",
        "  pca_attn_outputs = pca.transform(attn_outputs)\n",
        "\n",
        "  title = node.name() + ', A'+str(answer_digit) + ', EVR[0]=' + str(int(round(pca.explained_variance_ratio_[0]*100,0))) + '%'\n",
        "\n",
        "  return (pca, pca_attn_outputs, title)\n",
        "\n",
        "\n",
        "# Plot one PCA scatter graph\n",
        "def graph_pca(pca, pca_attn_outputs, ax, title):\n",
        "  global tn_questions\n",
        "\n",
        "  ax.scatter(pca_attn_outputs[:tn_questions, 0], pca_attn_outputs[:tn_questions, 1], color='red', label='T8 (0-8)') # t8 questions\n",
        "  ax.scatter(pca_attn_outputs[tn_questions:2*tn_questions, 0], pca_attn_outputs[tn_questions:2*tn_questions, 1], color='green', label='T9') # t9 questions\n",
        "  ax.scatter(pca_attn_outputs[2*tn_questions:, 0], pca_attn_outputs[2*tn_questions:, 1], color='blue', label='T10 (10-18)') # t10 questions\n",
        "\n",
        "  if title != \"\" :\n",
        "    ax.set_title(title)"
      ]
    },
    {
      "cell_type": "code",
      "execution_count": null,
      "metadata": {
        "id": "Zk2K3y7pMlQr"
      },
      "outputs": [],
      "source": [
        "# Graph the PCA of PnLnHn's attention pattern, using T8, T9, T10 questions that differ in the An digit\n",
        "def add_one_pca_subplot(ax, node, answer_digit, operation, add_tag = True):\n",
        "  try:\n",
        "    pca, pca_attn_outputs, title = calc_pca_for_an(node, answer_digit, operation)\n",
        "    graph_pca( pca, pca_attn_outputs, ax, title)\n",
        "\n",
        "    if add_tag:\n",
        "      # Add tag to node PCA:A5.TR\n",
        "      u_add_node_tag( QuantaType.PCA, answer_name(answer_digit) + \".\" + PCA_ADD_TAG )\n",
        "\n",
        "  except Exception as e:\n",
        "    desc = \"add_one_pca_subplot(\" + node.name() + \" A\"+ str(answer_digit) + \" \"+ str(operation) + \")\"\n",
        "    print( desc + \" Failed:\", e)"
      ]
    },
    {
      "cell_type": "code",
      "execution_count": null,
      "metadata": {
        "id": "IEF7MQqCMngv"
      },
      "outputs": [],
      "source": [
        "def save_plt_to_file( full_title ):\n",
        "  if cfg.graph_file_suffix > \"\":\n",
        "    filename = full_title.replace(\" \", \"_\").replace(\",\", \"\").replace(\":\", \"_\")  + \".\"+ cfg.graph_file_suffix\n",
        "    plt.savefig(filename)"
      ]
    },
    {
      "cell_type": "markdown",
      "metadata": {
        "id": "Rbiau9foMp3h"
      },
      "source": [
        "#Part 19A: Results: PCA decomposition with interpetable results for addition\n",
        "\n",
        "If an attention head and an answer digit An gives an interpretable response on 3 groups of questions aligned to T8, T9 and T10 definitions, then plot the response and add a QuantaType.PCA tag"
      ]
    },
    {
      "cell_type": "code",
      "execution_count": null,
      "metadata": {
        "id": "HQ5fS3XNMs8e"
      },
      "outputs": [],
      "source": [
        "if not use_pca:\n",
        "  print( \"PCA library failed to import. So PCA not done\")\n",
        "\n",
        "if use_pca and (model_name == \"add_d5_l2_h3_t15K\" or model_name == \"add_d6_l2_h3_t15K\"):\n",
        "  op = PLUS_INDEX\n",
        "\n",
        "  fig, axs = plt.subplots(4, 4)\n",
        "  fig.set_figheight(8)\n",
        "  fig.set_figwidth(10)\n",
        "\n",
        "  if model_name == \"add_d5_l2_h3_t15K\" :\n",
        "    # Plot all attention heads with the clearest An selected\n",
        "    add_one_pca_subplot(axs[0, 0], NodeLocation(10, 0, True, 0), 2, op)   # P10L0H0 with A2 EVR[0]=91%\n",
        "    add_one_pca_subplot(axs[0, 1], NodeLocation(11, 0, True, 2), 0, op)   # P11L0H2 with A0\n",
        "    add_one_pca_subplot(axs[0, 2], NodeLocation(12, 0, True, 0), 3, op)   # P12L0H0 with A3\n",
        "    add_one_pca_subplot(axs[0, 3], NodeLocation(12, 1, True, 0), 3, op)   # P12L1H0 with A3\n",
        "    add_one_pca_subplot(axs[1, 0], NodeLocation(12, 1, True, 1), 4, op)   # P12L1H1 with A4\n",
        "    add_one_pca_subplot(axs[1, 1], NodeLocation(12, 1, True, 2), 4, op)   # P12L1H2 with A4\n",
        "    add_one_pca_subplot(axs[1, 2], NodeLocation(13, 0, True, 0), 0, op)   # P13L0H0 with A0\n",
        "    add_one_pca_subplot(axs[1, 3], NodeLocation(13, 0, True, 0), 3, op)   # P13L0H0 with A3\n",
        "    add_one_pca_subplot(axs[2, 0], NodeLocation(13, 1, True, 2), 1, op)   # P13L1H2 with A1\n",
        "    add_one_pca_subplot(axs[2, 1], NodeLocation(13, 1, True, 2), 2, op)   # P13L1H2 with A3\n",
        "    add_one_pca_subplot(axs[2, 2], NodeLocation(13, 1, True, 2), 3, op)   # P13L1H2 with A4\n",
        "    add_one_pca_subplot(axs[2, 3], NodeLocation(14, 0, True, 0), 0, op)   # P14L0H0 with A0\n",
        "    add_one_pca_subplot(axs[3, 0], NodeLocation(14, 0, True, 0), 2, op)   # P14L0H0 with A2\n",
        "    add_one_pca_subplot(axs[3, 1], NodeLocation(14, 1, True, 2), 1, op)   # P14L1H2 with A1\n",
        "    add_one_pca_subplot(axs[3, 2], NodeLocation(14, 1, True, 2), 2, op)   # P14L1H2 with A2\n",
        "\n",
        "  if model_name == \"add_d6_l2_h3_t15K\" :\n",
        "    # Plot all attention heads with the clearest An selected with EVR[0] > 80\n",
        "    add_one_pca_subplot(axs[0, 0], NodeLocation(11, 0, True, 0), 2, op)   # P11L0H0 with A2 EVR[0]=85%\n",
        "    add_one_pca_subplot(axs[0, 1], NodeLocation(12, 0, True, 0), 3, op)   # P12L0H0 with A3 EVR[0]=87%\n",
        "    add_one_pca_subplot(axs[0, 2], NodeLocation(13, 0, True, 0), 1, op)   # P13L0H0 with A1 EVR[0]=84%\n",
        "    add_one_pca_subplot(axs[0, 3], NodeLocation(14, 0, True, 0), 4, op)   # P14L0H0 with A4 EVR[0]=86%\n",
        "    add_one_pca_subplot(axs[1, 0], NodeLocation(14, 1, True, 1), 4, op)   # P14L1H1 with A4 EVR[0]=82%\n",
        "    add_one_pca_subplot(axs[1, 1], NodeLocation(15, 0, True, 0), 4, op)   # P15L0H0 with A4 EVR[0]=86%\n",
        "    add_one_pca_subplot(axs[1, 2], NodeLocation(15, 1, True, 1), 4, op)   # P15L1H1 with A4 EVR[0]=83%\n",
        "    add_one_pca_subplot(axs[1, 3], NodeLocation(16, 0, True, 0), 3, op)   # P16L0H0 with A3 EVR[0]=87%\n",
        "    add_one_pca_subplot(axs[2, 0], NodeLocation(16, 1, True, 1), 3, op)   # P16L1H1 with A3 EVR[0]=92%\n",
        "    add_one_pca_subplot(axs[2, 1], NodeLocation(17, 0, True, 0), 2, op)   # P17L0H0 with A2 EVR[0]=86%\n",
        "    add_one_pca_subplot(axs[2, 2], NodeLocation(17, 1, True, 1), 2, op)   # P17L1H1 with A2 EVR[0]=83%\n",
        "    add_one_pca_subplot(axs[2, 3], NodeLocation(18, 0, True, 0), 0, op)   # P18L0H0 with A0 EVR[0]=80%\n",
        "    add_one_pca_subplot(axs[3, 0], NodeLocation(18, 0, True, 0), 1, op)   # P18L0H1 with A1 EVR[0]=85%\n",
        "    add_one_pca_subplot(axs[3, 1], NodeLocation(19, 0, True, 0), 0, op)   # P19L0H0 with A0 EVR[0]=85%\n",
        "\n",
        "  lines_labels = [axs[0,0].get_legend_handles_labels()]\n",
        "  lines, labels = [sum(lol, []) for lol in zip(*lines_labels)]\n",
        "  axs[3, 3].legend(lines, labels)\n",
        "  axs[3, 3].axis('off') # Now, to hide the last subplot\n",
        "\n",
        "  plt.tight_layout()\n",
        "  save_plt_to_file('PCA_ADD_TR')\n",
        "  plt.show()"
      ]
    },
    {
      "cell_type": "markdown",
      "metadata": {
        "id": "jIu3Pr9CMx3l"
      },
      "source": [
        "#Part 19C: Results: PCA decomposition of useful cells\n",
        "\n",
        "Parts 19A is selective. This part is not. Use it to find (verify) the interesting parts."
      ]
    },
    {
      "cell_type": "code",
      "execution_count": null,
      "metadata": {
        "id": "vdfpkXmAMzg4"
      },
      "outputs": [],
      "source": [
        "def graph_all_pca_results(op):\n",
        "  for node in useful_info.nodes:\n",
        "    if node.is_head:\n",
        "      print( \"PCA: \" + node.name())\n",
        "\n",
        "      fig, axs = plt.subplots( 3 if cfg.n_digits >= 6 else 2, 3)\n",
        "      fig.set_figheight(7 if cfg.n_digits >= 6 else 5)\n",
        "      fig.set_figwidth(8)\n",
        "\n",
        "      add_one_pca_subplot(axs[0, 0], node, 0, op, False)\n",
        "      add_one_pca_subplot(axs[0, 1], node, 1, op, False)\n",
        "      add_one_pca_subplot(axs[0, 2], node, 2, op, False)\n",
        "      add_one_pca_subplot(axs[1, 0], node, 3, op, False)\n",
        "      add_one_pca_subplot(axs[1, 1], node, 4, op, False)\n",
        "      add_one_pca_subplot(axs[1, 2], node, 5, op, False)\n",
        "      if cfg.n_digits >= 6:\n",
        "        add_one_pca_subplot(axs[2, 0], node, 6, op, False)\n",
        "      if cfg.n_digits >= 7:\n",
        "        add_one_pca_subplot(axs[2, 1], node, 7, op, False)\n",
        "\n",
        "      plt.tight_layout()\n",
        "      plt.show()\n",
        "\n",
        "\n",
        "if use_pca and (model_name == \"add_d5_l2_h3_t15K\" or model_name == \"add_d6_l2_h3_t15K\") :\n",
        "\n",
        "  if cfg.perc_add() > 0:\n",
        "    graph_all_pca_results(PLUS_INDEX)\n",
        "  if cfg.perc_sub > 0:\n",
        "    graph_all_pca_results(MINUS_INDEX)"
      ]
    },
    {
      "cell_type": "markdown",
      "source": [
        "# Part 20A: Results: Show useful nodes and behaviour tags"
      ],
      "metadata": {
        "id": "jFcCpfmKwlAH"
      }
    },
    {
      "cell_type": "code",
      "source": [
        "useful_info.print_node_tags()"
      ],
      "metadata": {
        "id": "vbzIaqmtwmkH"
      },
      "execution_count": null,
      "outputs": []
    },
    {
      "cell_type": "markdown",
      "source": [
        "# Part 20B: Results: Save useful nodes and behaviour tags"
      ],
      "metadata": {
        "id": "IVkOJRmPvPms"
      }
    },
    {
      "cell_type": "code",
      "source": [
        "# Serialize and save the useful nodes list to a temporary CoLab file in JSON format\n",
        "print( \"Saving useful node list with behavior tags:\", main_fname_behavior_json)\n",
        "useful_info.save_nodes(main_fname_behavior_json)"
      ],
      "metadata": {
        "id": "naD2eCZevOsi"
      },
      "execution_count": null,
      "outputs": []
    },
    {
      "cell_type": "markdown",
      "metadata": {
        "id": "7bbeIfUxvLzl"
      },
      "source": [
        "# Part 21A : Set up: Interchange Interventions\n",
        "\n",
        "Here we prove that model nodes perform specified calculations. If all the calculations in an algorithm hypothesis are found to exist in a model instance, this provides evidence for the hypothesis.   \n",
        "\n",
        "**Automatic searches** for node purposes are preferred, as they applicable to several models, and survive (non-sigificant, node-reordering) changes to the model after training. When a node purpose is detected, this is documented as a tag on the node.\n",
        "\n",
        "**Manually written tests** of node purposes, specific to a single model instance are also supported."
      ]
    },
    {
      "cell_type": "code",
      "execution_count": null,
      "metadata": {
        "id": "i8VoNc_ckfrJ"
      },
      "outputs": [],
      "source": [
        "class A_Config():\n",
        "  # A list of NodeLocations\n",
        "  node_locations = []\n",
        "\n",
        "  # A list of stored weightings collected from the model.\n",
        "  # Same length as nodes\n",
        "  layer_store = []\n",
        "\n",
        "  questions = []\n",
        "  null_hooks = []\n",
        "  get_hooks = []\n",
        "  put_hooks = []\n",
        "\n",
        "\n",
        "  def reset(self):\n",
        "    self.node_locations = []\n",
        "    self.layer_store = [[],[],[]]   # Supports 3 layers\n",
        "    self.questions = []\n",
        "    self.null_hooks = []\n",
        "    self.get_hooks = []\n",
        "    self.put_hooks = []\n",
        "\n",
        "    ccfg.position = 0\n",
        "    ccfg.layer = 0\n",
        "    ccfg.is_head = True\n",
        "    ccfg.num = 0\n",
        "    ccfg.threshold = 0.00001\n",
        "\n",
        "\n",
        "  def __init__(self):\n",
        "    self.reset()\n",
        "\n",
        "\n",
        "  def node_name(self, index):\n",
        "    return self.node_locations[index].name()\n",
        "\n",
        "\n",
        "  def node_names(self):\n",
        "    answer = \"\"\n",
        "\n",
        "    for index in range(len(acfg.node_locations)):\n",
        "      if answer != \"\":\n",
        "        answer += \", \"\n",
        "      answer += acfg.node_name(index)\n",
        "\n",
        "    return answer\n",
        "\n",
        "\n",
        "acfg = A_Config()"
      ]
    },
    {
      "cell_type": "code",
      "execution_count": null,
      "metadata": {
        "id": "mMdSybNpnU0m"
      },
      "outputs": [],
      "source": [
        "# Get and put attention head value hooks\n",
        "\n",
        "def a_null_attn_z_hook(value, hook):\n",
        "  global acfg\n",
        "\n",
        "  #print(\"In a_null_attn_z_hook\", value.shape)  # Get [1, 22, 3, 170] = ???, cfg.n_ctx, cfg.n_heads, cfg.d_head\n",
        "\n",
        "\n",
        "def a_get_l0_attn_z_hook(value, hook):\n",
        "  # print( \"In a_get_l0_attn_z_hook\", value.shape) # Get [1, 22, 3, 170] = ???, cfg.n_ctx, cfg.n_heads, cfg.d_head\n",
        "  acfg.layer_store[0] = value.clone()\n",
        "\n",
        "def a_get_l1_attn_z_hook(value, hook):\n",
        "  # print( \"In acfg.get_l1_attn_z_hook\", value.shape) # Get [1, 22, 3, 170] = ???, cfg.n_ctx, cfg.n_heads, cfg.d_head\n",
        "  acfg.layer_store[1] = value.clone()\n",
        "\n",
        "def a_get_l2_attn_z_hook(value, hook):\n",
        "  # print( \"In acfg.get_l2_attn_z_hook\", value.shape) # Get [1, 22, 3, 170] = ???, cfg.n_ctx, cfg.n_heads, cfg.d_head\n",
        "  acfg.layer_store[2] = value.clone()\n",
        "\n",
        "\n",
        "def a_put_l0_attn_z_hook(value, hook):\n",
        "  # print( \"In a_l0_attn_z_hook\", value.shape) # Get [1, 22, 3, 170] = ???, cfg.n_ctx, cfg.n_heads, d_head\n",
        "  for location in acfg.node_locations:\n",
        "    if location.layer == 0:\n",
        "      value[:,location.position,location.num,:] = acfg.layer_store[0][:,location.position,location.num,:].clone()\n",
        "\n",
        "def a_put_l1_attn_z_hook(value, hook):\n",
        "  # print( \"In a_l1_attn_z_hook\", value.shape) # Get [1, 22, 3, 170] = ???, cfg.n_ctx, cfg.n_heads, d_head\n",
        "  for location in acfg.node_locations:\n",
        "    if location.layer == 1:\n",
        "      value[:,location.position,location.num,:] = acfg.layer_store[0][:,location.position,location.num,:].clone()\n",
        "\n",
        "def a_put_l2_attn_z_hook(value, hook):\n",
        "  # print( \"In a_l2_attn_z_hook\", value.shape) # Get [1, 22, 3, 170] = ???, cfg.n_ctx, cfg.n_heads, d_head\n",
        "  for location in acfg.node_locations:\n",
        "    if location.layer == 2:\n",
        "      value[:,location.position,location.num,:] = acfg.layer_store[0][:,location.position,location.num,:].clone()\n",
        "\n",
        "\n",
        "def a_reset(node_locations):\n",
        "  acfg.reset()\n",
        "  acfg.node_locations = node_locations\n",
        "  acfg.null_hooks = [(l_attn_hook_z_name[0], a_null_attn_z_hook), (l_attn_hook_z_name[1], a_null_attn_z_hook), (l_attn_hook_z_name[2], a_null_attn_z_hook)][:cfg.n_layers]\n",
        "  acfg.get_hooks = [(l_attn_hook_z_name[0], a_get_l0_attn_z_hook), (l_attn_hook_z_name[1], a_get_l1_attn_z_hook), (l_attn_hook_z_name[2], a_get_l2_attn_z_hook)][:cfg.n_layers]\n",
        "  acfg.put_hooks = [(l_attn_hook_z_name[0], a_put_l0_attn_z_hook), (l_attn_hook_z_name[1], a_put_l1_attn_z_hook), (l_attn_hook_z_name[2], a_put_l2_attn_z_hook)][:cfg.n_layers]"
      ]
    },
    {
      "cell_type": "code",
      "execution_count": null,
      "metadata": {
        "id": "0SeIO06JnU7I"
      },
      "outputs": [],
      "source": [
        "def a_predict_question(description, the_hooks):\n",
        "  assert len(acfg.questions) == 1\n",
        "\n",
        "  main_model.reset_hooks()\n",
        "  main_model.set_use_attn_result(True)\n",
        "\n",
        "  all_logits = main_model.run_with_hooks(acfg.questions.cuda(), return_type=\"logits\", fwd_hooks=the_hooks)\n",
        "  all_losses_raw, all_max_prob_tokens = logits_to_tokens_loss(all_logits, acfg.questions.cuda())\n",
        "\n",
        "  loss_max = utils.to_numpy(loss_fn(all_losses_raw[0]).max())\n",
        "  answer_str = tokens_to_string(all_max_prob_tokens[0])\n",
        "\n",
        "  # Compare the question answer (ignoring the ablation intervention) to what the model generated (which is impacted by the ablation intervention)\n",
        "  impact_str = get_answer_impact_meaning( acfg.questions[0], answer_str )\n",
        "  if impact_str == \"\":\n",
        "    impact_str = NO_IMPACT_TAG\n",
        "\n",
        "  full_description = description\n",
        "  if loss_max > ccfg.threshold:\n",
        "    loss_str = NO_IMPACT_TAG if loss_max < 1e-7 else str(loss_max)\n",
        "\n",
        "    full_description = description + \"  ModelPredicts: \" + answer_str + \"  DigitsImpacted: \" + impact_str + \"  Loss: \" + loss_str\n",
        "\n",
        "  return answer_str, impact_str, full_description"
      ]
    },
    {
      "cell_type": "code",
      "execution_count": null,
      "metadata": {
        "id": "Jk0gVCF9Gr5D"
      },
      "outputs": [],
      "source": [
        "def a_run_intervention_core(node_locations, store_question, alter_question, operation):\n",
        "  a_reset(node_locations)\n",
        "\n",
        "  # Predict first question and store activation values\n",
        "  acfg.questions = make_questions(operation, [store_question])\n",
        "  a_predict_question(\"Unit test (null hook)\", acfg.null_hooks)\n",
        "  a_predict_question(\"Store activation\", acfg.get_hooks)\n",
        "\n",
        "  # Predict second question. Then rerun overriding PnLmHp to give bad answer\n",
        "  acfg.questions = make_questions(operation, [alter_question])\n",
        "  a_predict_question(\"Unit test (null hook)\", acfg.null_hooks)\n",
        "  prompt = \"Intervening on \" + acfg.node_names()\n",
        "  return a_predict_question(prompt, acfg.put_hooks)\n",
        "\n",
        "\n",
        "# Run an intervention where we expect the intervention to succeed. Report failures.\n",
        "def run_intervention(node_locations, store_question, alter_question, operation, intervention_impact, intervention_answer_int, show_failures = True):\n",
        "\n",
        "    answer_str, impact_str, full_description = a_run_intervention_core(node_locations, store_question, alter_question, operation)\n",
        "\n",
        "    if intervention_impact == \"\":\n",
        "      intervention_impact = NO_IMPACT_TAG\n",
        "    intervention_answer = int_to_answer_str(intervention_answer_int)\n",
        "\n",
        "    success = (answer_str == intervention_answer)\n",
        "    if not intervention_impact == IGNORE_IMPACT_TAG:\n",
        "      success = success and (impact_str == intervention_impact)\n",
        "\n",
        "    if show_failures and not success:\n",
        "      print( full_description )\n",
        "      print(\"Failed (prediction/expected):\", impact_str, intervention_impact, answer_str, intervention_answer)\n",
        "\n",
        "    return success, answer_str, full_description"
      ]
    },
    {
      "cell_type": "code",
      "source": [
        "def repeat_digit(digit):\n",
        "    return int(str(digit) * cfg.n_digits)\n",
        "\n",
        "\n",
        "# unit test\n",
        "if cfg.n_digits == 6:\n",
        "  assert repeat_digit(4) == 444444"
      ],
      "metadata": {
        "id": "J3RvmrLcKy0w"
      },
      "execution_count": null,
      "outputs": []
    },
    {
      "cell_type": "code",
      "source": [
        "useful_info.reset_node_tags(QuantaType.ALGO)"
      ],
      "metadata": {
        "id": "xraYvF7eBD1p"
      },
      "execution_count": null,
      "outputs": []
    },
    {
      "cell_type": "markdown",
      "source": [
        "# Part 21B: Automated Dn.US search\n",
        "\n",
        "The addition Use Sum 9 (US) operation is a simple task. Search for US tasks."
      ],
      "metadata": {
        "id": "Fgg43Sqe8oF1"
      }
    },
    {
      "cell_type": "code",
      "source": [
        "def test_us_core(alter_digit):\n",
        "  # 34633 + 55555 = 90188. Has Dn-2.MC and Dn-1.US\n",
        "  store_question = [repeat_digit(3), repeat_digit(5)]\n",
        "  store_question[0] += (6-3) * 10 ** (alter_digit - 2)\n",
        "  store_question[0] += (4-3) * 10 ** (alter_digit - 1)\n",
        "\n",
        "  # 22722 + 44444 = 67166. Has Dn-2.MC but no Dn-1.US\n",
        "  alter_question = [repeat_digit(2), repeat_digit(4)]\n",
        "  alter_question[0] += (7-2) * 10 ** (alter_digit - 2)\n",
        "\n",
        "  # When we intervene we expect answer 77166\n",
        "  intervention_answer = alter_question[0] + alter_question[1] + 10 ** (alter_digit)\n",
        "\n",
        "  return store_question, alter_question, intervention_answer\n",
        "\n",
        "\n",
        "# Unit test\n",
        "if cfg.n_digits == 5:\n",
        "  store_question, alter_question, intervention_answer = test_us_core(4)\n",
        "  assert store_question[0] == 34633\n",
        "  assert alter_question[0] == 22722\n",
        "  assert alter_question[0] + alter_question[1] == 67166\n",
        "  assert intervention_answer == 77166\n",
        "\n",
        "\n",
        "def test_us(node_locations, alter_digit, intervention_impact):\n",
        "  acfg.node_locations = node_locations\n",
        "  description = acfg.node_names() + \" perform D\"+str(alter_digit)+\".US impacting \"+intervention_impact+\" accuracy\"\n",
        "\n",
        "  store_question, alter_question, intervention_answer = test_us_core(alter_digit)\n",
        "\n",
        "  success, answer_str, _ = run_intervention(node_locations, store_question, alter_question, PLUS_INDEX, intervention_impact, intervention_answer, False)\n",
        "\n",
        "  if success:\n",
        "    print( \"Test confirmed\", description)\n",
        "\n",
        "  return success"
      ],
      "metadata": {
        "id": "G8y-7JQX8oSP"
      },
      "execution_count": null,
      "outputs": []
    },
    {
      "cell_type": "code",
      "source": [
        "def algo_add_us_tag(the_digit):\n",
        "  return answer_name(the_digit)  + \".\" + ALGO_ADD_US_TAG\n",
        "\n",
        "\n",
        "if cfg.perc_add() > 0:\n",
        "  for impact_digit in range(cfg.n_digits+1):\n",
        "    for position in range(useful_info.min_useful_position(), useful_info.max_useful_position()-1):\n",
        "\n",
        "      heads = useful_info.filter_heads( [\n",
        "        [QuantaFilter.MUST, QuantaType.POSITION, position_name(position)],\n",
        "        [QuantaFilter.MUST, QuantaType.ATTENTION, dn_to_position_name(impact_digit-1)], # Attends to Dn-1\n",
        "        [QuantaFilter.MUST, QuantaType.ATTENTION, ddn_to_position_name(impact_digit-1)], # Attends to D'n-1\n",
        "        [QuantaFilter.MUST, QuantaType.IMPACT, answer_name(impact_digit)]] )\n",
        "\n",
        "      for node in heads:\n",
        "        if test_us( [node], impact_digit, answer_name(impact_digit)):\n",
        "          node.add_tag(QuantaType.ALGO, algo_add_us_tag(impact_digit-1))"
      ],
      "metadata": {
        "id": "nUYf20mk8zls"
      },
      "execution_count": null,
      "outputs": []
    },
    {
      "cell_type": "markdown",
      "metadata": {
        "id": "Z5DMV3I_25ST"
      },
      "source": [
        "# Part 21D: Automated Dn.MC search\n",
        "\n",
        "The addition Make Carry (MC) operation is a simple task. Search for MC tasks."
      ]
    },
    {
      "cell_type": "code",
      "execution_count": null,
      "metadata": {
        "id": "wJBYT0hF3R_u"
      },
      "outputs": [],
      "source": [
        "def test_mc_core(alter_digit):\n",
        "  # 222222 + 666966 = 889188. Has Dn.MC\n",
        "  store_question = [repeat_digit(2), repeat_digit(6)]\n",
        "  store_question[1] += (9 - 6) * (10 ** alter_digit)\n",
        "\n",
        "  # 333333 + 555555 = 888888. No Dn.MC\n",
        "  alter_question = [repeat_digit(3), repeat_digit(5)]\n",
        "\n",
        "  # When we intervene we expect answer 889888\n",
        "  intervention_answer = alter_question[0] + alter_question[1] + 10 ** (alter_digit+1)\n",
        "\n",
        "  return store_question, alter_question, intervention_answer\n",
        "\n",
        "\n",
        "# Unit test\n",
        "if cfg.n_digits == 5:\n",
        "  store_question, alter_question, intervention_answer = test_mc_core(2)\n",
        "  assert store_question[1] == 66966\n",
        "  assert alter_question[0] + alter_question[1] == 88888\n",
        "  assert intervention_answer == 89888\n",
        "\n",
        "\n",
        "def test_mc(node_locations, alter_digit, intervention_impact):\n",
        "  acfg.node_locations = node_locations\n",
        "  description = acfg.node_names() + \" perform D\"+str(alter_digit)+\".MC impacting \"+intervention_impact+\" accuracy\"\n",
        "\n",
        "  store_question, alter_question, intervention_answer = test_mc_core(alter_digit)\n",
        "\n",
        "  success, answer_str, _ = run_intervention(node_locations, store_question, alter_question, PLUS_INDEX, intervention_impact, intervention_answer, False)\n",
        "\n",
        "  if success:\n",
        "    print( \"Test confirmed\", description)\n",
        "\n",
        "  return success"
      ]
    },
    {
      "cell_type": "code",
      "source": [
        "def algo_add_mc_tag(the_digit):\n",
        "  return answer_name(the_digit)  + \".\" + ALGO_ADD_MC_TAG\n",
        "\n",
        "\n",
        "if cfg.perc_add() > 0:\n",
        "  for impact_digit in range(cfg.n_digits+1):\n",
        "    for position in range(useful_info.min_useful_position(), useful_info.max_useful_position()):\n",
        "\n",
        "      heads = useful_info.filter_heads( [\n",
        "        [QuantaFilter.MUST, QuantaType.POSITION, position_name(position)],\n",
        "        [QuantaFilter.MUST, QuantaType.ATTENTION, dn_to_position_name(impact_digit-1)], # MC is calculated on the next lower-value digit.\n",
        "        [QuantaFilter.MUST, QuantaType.ATTENTION, ddn_to_position_name(impact_digit-1)], # MC is calculated on the next lower-value digit.\n",
        "        [QuantaFilter.MUST, QuantaType.IMPACT, answer_name(impact_digit)]] )\n",
        "\n",
        "      for node in heads:\n",
        "        if test_mc( [node], impact_digit-1, answer_name(impact_digit)):\n",
        "          node.add_tag(QuantaType.ALGO, algo_add_mc_tag(impact_digit-1))"
      ],
      "metadata": {
        "id": "xvS1eOReZUq1"
      },
      "execution_count": null,
      "outputs": []
    },
    {
      "cell_type": "markdown",
      "metadata": {
        "id": "Iosx5zE_macF"
      },
      "source": [
        "# Part 21C: Automated Dn.BA search\n",
        "\n",
        "The addition Base Add (BA) operation is a simple task. The task may be split/shared over 2 attention heads in the same position. Search for BA calculations."
      ]
    },
    {
      "cell_type": "code",
      "execution_count": null,
      "metadata": {
        "id": "P-Gs5yglncax"
      },
      "outputs": [],
      "source": [
        "def test_ba_core1(alter_digit):\n",
        "  # 222222 + 111111 = 333333. No Dn.MC\n",
        "  store_question = [repeat_digit(2), repeat_digit(1)]\n",
        "\n",
        "  # 555555 + 444444 = 999999. No Dn.MC\n",
        "  alter_question = [repeat_digit(5), repeat_digit(4)]\n",
        "\n",
        "  # When we intervene we expect answer 999399\n",
        "  intervention_answer = alter_question[0] + alter_question[1] + (3-9) * 10 ** alter_digit\n",
        "\n",
        "  return store_question, alter_question, intervention_answer\n",
        "\n",
        "\n",
        "def test_ba_core2(alter_digit):\n",
        "  # 222222 + 666666 = 888888. No Dn.MC\n",
        "  store_question = [repeat_digit(2), repeat_digit(6)]\n",
        "\n",
        "  # 555555 + 111111 = 666666. No Dn.MC\n",
        "  alter_question = [repeat_digit(5), repeat_digit(1)]\n",
        "\n",
        "  # When we intervene we expect answer 666866\n",
        "  intervention_answer = alter_question[0] + alter_question[1] + (8-6) * 10 ** alter_digit\n",
        "\n",
        "  return store_question, alter_question, intervention_answer\n",
        "\n",
        "\n",
        "\n",
        "# Unit test\n",
        "if cfg.n_digits == 5:\n",
        "  store_question, alter_question, intervention_answer = test_ba_core1(2)\n",
        "  assert alter_question[0] + alter_question[1] == 99999\n",
        "  assert intervention_answer == 99399\n",
        "\n",
        "  store_question, alter_question, intervention_answer = test_ba_core2(2)\n",
        "  assert alter_question[0] + alter_question[1] == 66666\n",
        "  assert intervention_answer == 66866\n",
        "\n",
        "\n",
        "\n",
        "def test_ba(node_locations, alter_digit, intervention_impact, show_failures = False):\n",
        "  acfg.node_locations = node_locations\n",
        "  description = acfg.node_names() + \" perform D\"+str(alter_digit)+\".BA = (D\"+str(alter_digit)+\" + D\"+str(alter_digit)+\"') % 10 impacting \"+intervention_impact+\" accuracy\"\n",
        "\n",
        "  store_question, alter_question, intervention_answer = test_ba_core1(alter_digit)\n",
        "  success1, _, _ = run_intervention(node_locations, store_question, alter_question, PLUS_INDEX, intervention_impact, intervention_answer, show_failures)\n",
        "\n",
        "  store_question, alter_question, intervention_answer = test_ba_core2(alter_digit)\n",
        "  success2, _, _ = run_intervention(node_locations, store_question, alter_question, PLUS_INDEX, intervention_impact, intervention_answer, show_failures)\n",
        "\n",
        "  if success1 and success2:\n",
        "    print( \"Test confirmed:\", description)\n",
        "\n",
        "  return success1 and success2"
      ]
    },
    {
      "cell_type": "code",
      "source": [
        "def algo_add_ba_tag(the_digit):\n",
        "  return answer_name(the_digit)  + \".\" + ALGO_ADD_BA_TAG\n",
        "\n",
        "\n",
        "if cfg.perc_add() > 0:\n",
        "  for impact_digit in range(cfg.n_digits):\n",
        "    for position in range(useful_info.min_useful_position(), useful_info.max_useful_position()+1):\n",
        "\n",
        "      heads = useful_info.filter_heads( [\n",
        "        [QuantaFilter.MUST, QuantaType.POSITION, position_name(position)],\n",
        "        [QuantaFilter.MUST, QuantaType.ATTENTION, dn_to_position_name(impact_digit)], # Attends to Dn\n",
        "        [QuantaFilter.MUST, QuantaType.ATTENTION, ddn_to_position_name(impact_digit)], # Attends to D'n\n",
        "        [QuantaFilter.MUST, QuantaType.IMPACT, answer_name(impact_digit)]]) # Impacts An\n",
        "      ba_tag = algo_add_ba_tag(impact_digit)\n",
        "\n",
        "      # Try single nodes first\n",
        "      for node in heads:\n",
        "        if test_ba( [node], impact_digit, answer_name(impact_digit)):\n",
        "          node.add_tag(QuantaType.ALGO, ba_tag)\n",
        "\n",
        "      # Try pairs of nodes\n",
        "      node_pairs = list(itertools.combinations(heads, 2))\n",
        "      for pair in node_pairs:\n",
        "          if test_ba( [pair[0], pair[1]], impact_digit, answer_name(impact_digit)):\n",
        "            pair[0].add_tag(QuantaType.ALGO, ba_tag)\n",
        "            pair[1].add_tag(QuantaType.ALGO, ba_tag)"
      ],
      "metadata": {
        "id": "AIktdaRL-BfP"
      },
      "execution_count": null,
      "outputs": []
    },
    {
      "cell_type": "code",
      "source": [
        "if model_name == \"add_d5_l1_h3_t30K\":\n",
        "  # PQR: One node acts strangely. Revisit once we have more visibility into the MLP layer impact.\n",
        "  impact_digit = 4\n",
        "  position = 13\n",
        "  heads = useful_info.filter_heads( [\n",
        "    [QuantaFilter.MUST, QuantaType.POSITION, position_name(position)],\n",
        "    [QuantaFilter.MUST, QuantaType.ATTENTION, dn_to_position_name(impact_digit)], # Attends to Dn\n",
        "    [QuantaFilter.MUST, QuantaType.ATTENTION, ddn_to_position_name(impact_digit)], # Attends to D'n\n",
        "    [QuantaFilter.MUST, QuantaType.IMPACT, answer_name(impact_digit)]]) # Impacts An#  print(position, len(heads))\n",
        "  ba_tag = ALGO_ADD_BA_TAG(impact_digit)\n",
        "  if len(heads) > 0:\n",
        "    node = heads[0]\n",
        "    if not test_ba( [[node.position, node.layer, node.num]], impact_digit, answer_name(impact_digit), True):\n",
        "      # PQR: Expect intervention answer +039999 but get +049999. Don't understand why. Resolve later. Add tag manually.\n",
        "      node.add_tag(QuantaType.ALGO, ALGO_ADD_BA_TAG(impact_digit))"
      ],
      "metadata": {
        "id": "-SwA2fwT2Zf8"
      },
      "execution_count": null,
      "outputs": []
    },
    {
      "cell_type": "markdown",
      "metadata": {
        "id": "ThzFD1FxBXg8"
      },
      "source": [
        "# Part 21F: Automated Dn.C search\n",
        "\n",
        "Search for D0.C to D5.C with impact \"A65432\" to \"A65\" in early tokens. A0 and A1 are too simple to need Dn.C values so they are excluded from the answer impact."
      ]
    },
    {
      "cell_type": "code",
      "source": [
        "def test_dnc_core(focus_digit):\n",
        "  # 222222 + 777977 = 1000188. Has Dn.MC\n",
        "  store_question = [repeat_digit(2), repeat_digit(7)]\n",
        "  store_question[1] += (9 - 7) * (10 ** focus_digit)\n",
        "\n",
        "  # 333333 + 666666 = 999999. No Dn.MC\n",
        "  alter_question = [repeat_digit(3), repeat_digit(6)]\n",
        "  alter_sum = alter_question[0] + alter_question[1]\n",
        "\n",
        "  # When we intervene we expect answer 1000999\n",
        "  intervention_answer = alter_sum + 10 ** (focus_digit+1)\n",
        "  # With Dn.C we never see an impact on A0 or A1 as they dont use Dn.MC and don't use Dn.C\n",
        "  intervention_answer = (intervention_answer // 100) * 100 + ( alter_sum % 100 )\n",
        "\n",
        "  return store_question, alter_question, intervention_answer\n",
        "\n",
        "\n",
        "# Unit test\n",
        "if cfg.n_digits == 5:\n",
        "  store_question, alter_question, intervention_answer = test_dnc_core(2)\n",
        "  assert store_question[1] == 77977\n",
        "  assert alter_question[0] + alter_question[1] == 99999\n",
        "  assert intervention_answer == 100999\n",
        "\n",
        "  store_question, alter_question, intervention_answer = test_dnc_core(0)\n",
        "  assert store_question[1] == 77779\n",
        "  assert alter_question[0] + alter_question[1] == 99999\n",
        "  assert intervention_answer == 100099"
      ],
      "metadata": {
        "id": "ZHwcJ4oq6EFX"
      },
      "execution_count": null,
      "outputs": []
    },
    {
      "cell_type": "code",
      "execution_count": null,
      "metadata": {
        "id": "N-bcEooQBp2v"
      },
      "outputs": [],
      "source": [
        "def test_dnc(node, focus_digit, show_failures):\n",
        "  acfg.node_locations = [node]\n",
        "  description = acfg.node_names() + \" perform D\"+str(focus_digit)+\".C = TriCase(D\"+str(focus_digit)+\" + D\"+str(focus_digit)+\"') \"\n",
        "\n",
        "  store_question, alter_question, intervention_answer = test_dnc_core(focus_digit)\n",
        "  success, answer_str, _ = run_intervention([node], store_question, alter_question, PLUS_INDEX, IGNORE_IMPACT_TAG, intervention_answer, show_failures)\n",
        "\n",
        "  if success:\n",
        "    print(\"Test confirmed\", description)\n",
        "\n",
        "  return success, description"
      ]
    },
    {
      "cell_type": "code",
      "source": [
        "def algorithm_dnc_tag(the_digit):\n",
        "  return \"D\" + str(the_digit)  + \".\" + ALGO_ADD_TC_TAG\n",
        "\n",
        "\n",
        "if cfg.perc_add() > 0:\n",
        "  # Search for Dn.C\n",
        "  for focus_digit in range(cfg.n_digits):\n",
        "\n",
        "    # We expect Dn.C in early tokens but not sure exactly where\n",
        "    for position in range( cfg.n_digits+1, 2*cfg.n_digits+2 ):\n",
        "      heads = useful_info.filter_heads( [\n",
        "        [QuantaFilter.MUST, QuantaType.POSITION, position_name(position)],\n",
        "        [QuantaFilter.MUST, QuantaType.ATTENTION, dn_to_position_name(focus_digit)], # Attends to Dn\n",
        "        [QuantaFilter.MUST, QuantaType.ATTENTION, ddn_to_position_name(focus_digit)], # Attends to D'n\n",
        "        [QuantaFilter.CONTAINS, QuantaType.PCA, PCA_ADD_TAG]]) # Node PCA is interpretably by T8,T9,T10\n",
        "\n",
        "      for node in heads:\n",
        "        success, description = test_dnc(node, focus_digit, False)\n",
        "        if success:\n",
        "          node.add_tag(QuantaType.ALGO, algorithm_dnc_tag(focus_digit))"
      ],
      "metadata": {
        "id": "wFJV4pfWSwHQ"
      },
      "execution_count": null,
      "outputs": []
    },
    {
      "cell_type": "code",
      "source": [
        "#PQR Investigate D2.C\n",
        "focus_digit = 2\n",
        "position = 10\n",
        "heads = useful_info.filter_heads( [\n",
        "  [QuantaFilter.MUST, QuantaType.POSITION, position_name(position)],\n",
        "  #[QuantaFilter.MUST, QuantaType.IMPACT, impact_str], PQR. Impacts fewer digits. Why?\n",
        "  [QuantaFilter.MUST, QuantaType.ATTENTION, dn_to_position_name(focus_digit)], # Attends to Dn\n",
        "  [QuantaFilter.MUST, QuantaType.ATTENTION, ddn_to_position_name(focus_digit)], # Attends to D'n\n",
        "  [QuantaFilter.CONTAINS, QuantaType.PCA, PCA_ADD_TAG]]) # Node PCA is interpretably by T8,T9,T10\n",
        "print(\"PQR\", impact_digit, position, len(heads))\n",
        "\n",
        "for node in heads:\n",
        "  success, description = test_dnc(node, focus_digit, True)\n",
        "  if success:\n",
        "    node.add_tag(QuantaType.ALGO, algorithm_dnc_tag(focus_digit))"
      ],
      "metadata": {
        "id": "7FwC0lEvA6Rg"
      },
      "execution_count": null,
      "outputs": []
    },
    {
      "cell_type": "code",
      "source": [
        "#PQR Investigate D4.C\n",
        "focus_digit = 4\n",
        "position = 6\n",
        "heads = useful_info.filter_heads( [\n",
        "  [QuantaFilter.MUST, QuantaType.POSITION, position_name(position)],\n",
        "  [QuantaFilter.MUST, QuantaType.ATTENTION, dn_to_position_name(focus_digit)], # Attends to Dn\n",
        "  [QuantaFilter.MUST, QuantaType.ATTENTION, ddn_to_position_name(focus_digit)], # Attends to D'n\n",
        "  [QuantaFilter.CONTAINS, QuantaType.PCA, PCA_ADD_TAG]]) # Node PCA is interpretably by T8,T9,T10\n",
        "print(impact_digit, position, len(heads))\n",
        "\n",
        "for node in heads:\n",
        "  success, description = test_dnc(node, focus_digit, True)\n",
        "  if success:\n",
        "    node.add_tag(QuantaType.ALGO, algorithm_dnc_tag(impact_digit))"
      ],
      "metadata": {
        "id": "LN6u12UlDY3N"
      },
      "execution_count": null,
      "outputs": []
    },
    {
      "cell_type": "markdown",
      "source": [
        "# Part 22: Show algorithm quanta map\n",
        "\n",
        "Plot the \"algorithm\" tags generated in previous steps as a quanta map. This is an automatically generated partail explanation of the model algorithm."
      ],
      "metadata": {
        "id": "uQLfkdlbVAl_"
      }
    },
    {
      "cell_type": "code",
      "source": [
        "def get_algorithm_purpose(node, major_tag, minor_tag, shades):\n",
        "\n",
        "  cell_text = \"\"\n",
        "  color_index = 0\n",
        "\n",
        "  node_tags = node.filter_tags( major_tag, minor_tag )\n",
        "  for tag in node_tags:\n",
        "    cell_text += tag + \" \"\n",
        "\n",
        "  if cell_text == \"\":\n",
        "    cell_text = \"??\"\n",
        "  else:\n",
        "    color_index = 1\n",
        "\n",
        "  return cell_text, color_index\n",
        "\n",
        "\n",
        "show_quanta_map( \"Algorithm purpose per node\", create_custom_colormap(), 2, QuantaType.ALGO, \"\", get_algorithm_purpose, 9)"
      ],
      "metadata": {
        "id": "l9VDbjTAVGrP"
      },
      "execution_count": null,
      "outputs": []
    },
    {
      "cell_type": "markdown",
      "source": [
        "# Part 23: Save useful nodes with behaviour and algorithm tags to JSON file\n",
        "\n",
        "Show a list of the nodes that have proved useful in calculations, together with data on the nodes behavior and algorithmic purposes.\n",
        "Save the data to a Colab temporary JSON file.\n",
        "\n"
      ],
      "metadata": {
        "id": "LQhheXmLTUfc"
      }
    },
    {
      "cell_type": "code",
      "execution_count": null,
      "metadata": {
        "id": "TRW6tiM8hDOB"
      },
      "outputs": [],
      "source": [
        "useful_info.print_node_tags(QuantaType.ALGO)"
      ]
    },
    {
      "cell_type": "code",
      "source": [
        "# Serialize and save the useful nodes list with algorithm tags to a temporary CoLab file in JSON format\n",
        "print( \"Saving useful node list with algorithm tags:\", main_fname_algorithm_json)\n",
        "useful_info.save_nodes(main_fname_algorithm_json)"
      ],
      "metadata": {
        "id": "_ktlEftAOyEd"
      },
      "execution_count": null,
      "outputs": []
    },
    {
      "cell_type": "markdown",
      "source": [
        "# Part 24: Test Hypothesis"
      ],
      "metadata": {
        "id": "C__lVcEJlp1r"
      }
    },
    {
      "cell_type": "code",
      "source": [
        "# Test the validity of a hypothesis node of shape [Exists, algorithm_minor_tag, by_position]\n",
        "def test_hypothesis_node(model_nodes, hypothesis_node):\n",
        "  hypothesis_filter = hypothesis_node[0]\n",
        "  hypothesis_minor_tag = hypothesis_node[1]\n",
        "  hypothesis_position = position_name_to_int(hypothesis_node[2])\n",
        "  assert isinstance(hypothesis_filter, QuantaFilter)\n",
        "\n",
        "  found = False\n",
        "  for model_node in model_nodes:\n",
        "    if hypothesis_filter == QuantaFilter.MUST or hypothesis_filter == QuantaFilter.CONTAINS:\n",
        "      found = model_node.contains_tag( QuantaType.ALGO, hypothesis_minor_tag )\n",
        "    elif hypothesis_filter == QuantaFilter.NOT:\n",
        "      found = not model_node.contains_tag( QuantaType.ALGO, hypothesis_minor_tag )\n",
        "    elif hypothesis_filter == QuantaFilter.MAY:\n",
        "      found = True\n",
        "    found = found and model_node.position <= hypothesis_position\n",
        "    if found:\n",
        "      break\n",
        "\n",
        "  print( \"Hypothesis clause\", \"succeeded:\" if found else \"failed:\", hypothesis_filter, hypothesis_minor_tag, hypothesis_position)\n",
        "\n",
        "  return found"
      ],
      "metadata": {
        "id": "Gt_r0_elzxu9"
      },
      "execution_count": null,
      "outputs": []
    },
    {
      "cell_type": "code",
      "source": [
        "# Test the validity of thhe hypothesis nodes of shape [Exists, algorithm_minor_tag, by_position]\n",
        "def test_hypothesis( hypothesis_nodes ):\n",
        "  assert len(hypothesis_nodes) > 0\n",
        "\n",
        "  num_failures = 0\n",
        "  model_nodes = useful_info.filter_heads([[QuantaFilter.MUST, QuantaType.ALGO, \"\"]])\n",
        "\n",
        "  for hypothesis_node in hypothesis_nodes:\n",
        "    found = test_hypothesis_node(model_nodes, hypothesis_node)\n",
        "    if not found:\n",
        "      num_failures += 1\n",
        "\n",
        "  print( \"All hypothesis clauses succeeded\" if num_failures == 0 else (str(num_failures) +\" of \" + str(len(hypothesis_nodes)) + \" hypothesis clauses failed.\" ))"
      ],
      "metadata": {
        "id": "rMVzWGdMuz_c"
      },
      "execution_count": null,
      "outputs": []
    },
    {
      "cell_type": "code",
      "source": [
        "hypothesis_nodes = []\n",
        "\n",
        "if model_name == \"add_d5_l1_h3_t30K\":\n",
        "  # Roughly corresonds to \"Understanding Addition in Transformers\" paper but:\n",
        "  # - Answer format includes a \"+\" symbol.\n",
        "  # - Model has combined the US and MC functionality into one node.\n",
        "  # - One unexplained exception. Search for \"add_d5_l1_h3_t30K\" and \"PQR\" for details.\n",
        "\n",
        "  for impact_digit in range(cfg.n_digits):\n",
        "    # For every answer digit (except the first 1 or 0 digit), Dn.BA and Dn.MC values are calculated before the answer digit is revealed\n",
        "    hypothesis_nodes += [[QuantaFilter.MUST, algo_add_ba_tag(impact_digit), an_to_position_name(impact_digit+1)]]\n",
        "    hypothesis_nodes += [[QuantaFilter.MUST, algo_add_mc_tag(impact_digit), an_to_position_name(impact_digit+1)]]\n",
        "\n",
        "    # There is a US node for every digit except A0\n",
        "    hypothesis_nodes += [[impact_digit > 0, algo_add_us_tag(impact_digit), an_to_position_name(impact_digit+1)]]\n",
        "\n",
        "\n",
        "if model_name == \"add_d5_l2_h3_t15K\" or model_name == \"add_d6_l2_h3_t15K\":\n",
        "  for impact_digit in range(cfg.n_digits):\n",
        "    # For every answer digit (except the first 1 or 0 digit), Dn.BA and Dn.MC values are calculated before the answer digit is revealed\n",
        "    hypothesis_nodes += [[QuantaFilter.MUST, algo_add_ba_tag(impact_digit), an_to_position_name(impact_digit+1)]]\n",
        "    hypothesis_nodes += [[QuantaFilter.MUST, algo_add_mc_tag(impact_digit), an_to_position_name(impact_digit+1)]]\n",
        "\n",
        "    # There may be a US node for every digit except A0\n",
        "    the_filter_type = QuantaFilter.MAY if impact_digit > 0 else QuantaFilter.NOT\n",
        "    hypothesis_nodes += [[the_filter_type, algo_add_us_tag(impact_digit), an_to_position_name(impact_digit+1)]]\n",
        "\n",
        "    # There is a Dn.C node for every digit before the first 1 or 0 digit is calculated\n",
        "    hypothesis_nodes += [[QuantaFilter.MUST, algorithm_dnc_tag(impact_digit), an_to_position_name(cfg.n_digits+1)]]\n",
        "\n",
        "test_hypothesis( hypothesis_nodes )"
      ],
      "metadata": {
        "id": "1cmjOymxluQe"
      },
      "execution_count": null,
      "outputs": []
    },
    {
      "cell_type": "markdown",
      "metadata": {
        "id": "zMnvjPxN6wZ7"
      },
      "source": [
        "# Part 25: TBA"
      ]
    },
    {
      "cell_type": "code",
      "execution_count": null,
      "metadata": {
        "id": "UDt2LmNwiMGA"
      },
      "outputs": [],
      "source": [
        "print( \"Claim that P10.L0.H1 performs D1.C2 = TriAdd(V1.C, TriCase(D0, D0’)) impacting A5, A4, A3 & A2 accuracy\")\n",
        "print()\n",
        "node_locations = [NodeLocation(10, 0, True, 1)]\n",
        "\n",
        "store_question = [ 11111, 33333] # Sum is 044444. V0 has no MC.\n",
        "alter_question = [ 44444, 55555] # Sum is 099999. V0 has no MC\n",
        "run_intervention( node_locations, store_question, alter_question, PLUS_INDEX, NO_IMPACT_TAG, 99999 )\n",
        "\n",
        "store_question = [ 11117, 11117] # Sum is 022234. V0 has MC\n",
        "alter_question = [ 44444, 55555] # Sum is 099999. V0 has no MC\n",
        "run_intervention( node_locations, store_question, alter_question, PLUS_INDEX, \"A5432\", 100099 )\n",
        "\n",
        "store_question = [ 11117, 11117] # Sum is 022234. V0 has MC\n",
        "alter_question = [  4444,  5555] # Sum is 009999. V0 has no MC\n",
        "run_intervention( node_locations, store_question, alter_question, PLUS_INDEX, \"A432\", 10099 )\n",
        "\n",
        "store_question = [ 11117, 11117] # Sum is 022234. V0 has MC\n",
        "alter_question = [   444,   555] # Sum is 000999. V0 has no MC\n",
        "run_intervention( node_locations, store_question, alter_question, PLUS_INDEX, \"A32\", 1099 )\n",
        "\n",
        "store_question = [ 11117, 11117] # Sum is 022234. V0 has MC\n",
        "alter_question = [    44,    55] # Sum is 000099. V0 has no MC\n",
        "run_intervention( node_locations, store_question, alter_question, PLUS_INDEX, \"A2\", 199 )\n",
        "\n",
        "# Deprecated: Confirmed that P10.L0.H1 is: Based on D0 and D0'. Triggers on a V0 carry value. Provides \"carry 1\" used in A5, A4, A3 & A2 calculation."
      ]
    },
    {
      "cell_type": "code",
      "execution_count": null,
      "metadata": {
        "id": "uxGCodzep7qV"
      },
      "outputs": [],
      "source": [
        "print( \"Claim that P11.L0.H1 performs D3.C4 = TriAdd(TriCase(D3, D3’),TriAdd(V2.C,V1.C2)) impacting A5 accuracy\")\n",
        "print()\n",
        "node_locations = [NodeLocation(11, 0, True, 1)]\n",
        "\n",
        "store_question = [44444, 44444] # Sum is 088888. V3 sums to 8 (has no MC).\n",
        "alter_question = [11111, 11111] # Sum is 022222. V3 has no MC.\n",
        "run_intervention( node_locations, store_question, alter_question, PLUS_INDEX, NO_IMPACT_TAG, 22222 )\n",
        "\n",
        "store_question = [16111, 13111] # Sum is 032111. V3 sums to 9 (has no MC).\n",
        "alter_question = [44444, 55555] # Sum is 099999. V3 has no MC\n",
        "run_intervention( node_locations, store_question, alter_question, PLUS_INDEX, NO_IMPACT_TAG, 99999 )\n",
        "\n",
        "store_question = [16111, 16111] # Sum is 032111. V3 has MC\n",
        "alter_question = [44444, 55555] # Sum is 099999. V3 has no MC\n",
        "run_intervention( node_locations, store_question, alter_question, PLUS_INDEX, \"A5\", 199999 )\n",
        "\n",
        "# Deprecated: Confirmed that P11.L0.H1 is: Based on D3 and D3'. Triggers on a V3 carry value. Provides \"carry 1\" used in A5 calculations."
      ]
    },
    {
      "cell_type": "code",
      "execution_count": null,
      "metadata": {
        "id": "yo55vCvCoMq7"
      },
      "outputs": [],
      "source": [
        "print( \"Claim that P11.L0.H2 performs D4.C = TriCase(D4, D4’) impacting A5 accuracy\")\n",
        "print()\n",
        "node_locations = [NodeLocation(11, 0, True, 2)]\n",
        "\n",
        "store_question = [44444, 55555] # Sum is 099999. V4 has no MC.\n",
        "alter_question = [11111, 11111] # Sum is 022222. V4 has no MC.\n",
        "run_intervention( node_locations, store_question, alter_question, PLUS_INDEX, NO_IMPACT_TAG, 22222)\n",
        "\n",
        "store_question = [71111, 71111] # Sum is 100422. V4 has MC\n",
        "alter_question = [44444, 55555] # Sum is 099999. V4 has no MC\n",
        "run_intervention( node_locations, store_question, alter_question, PLUS_INDEX, \"A5\", 199999 )\n",
        "\n",
        "# Deprecated: Confirmed that P9.L0.H2 is: Based on D4 and D4'. Triggers on a V4 carry value. Provides \"carry 1\" used in A5 calculation."
      ]
    },
    {
      "cell_type": "markdown",
      "metadata": {
        "id": "lTs6Cu55jB7y"
      },
      "source": [
        "#Part 30: MLP Visualisation (incomplete, on-hold)"
      ]
    },
    {
      "cell_type": "code",
      "execution_count": null,
      "metadata": {
        "id": "YviVHnBRjDcs"
      },
      "outputs": [],
      "source": [
        "import einops\n",
        "from ipywidgets import interact, interactive, fixed, interact_manual\n",
        "import ipywidgets as widgets\n",
        "from IPython.display import clear_output\n",
        "\n",
        "\n",
        "# number of questions in batch that generated sample_cache\n",
        "num_questions = varied_questions.shape[0]\n",
        "\n",
        "\n",
        "def get_mlp_data(data_set_name):\n",
        "\n",
        "  data_set = sample_cache[data_set_name]\n",
        "  # print( data_set_name + \" shape\", data_set.shape) # 239, 22, 2040 = num_questions, cfg.n_ctx, cfg.d_mlp\n",
        "\n",
        "  raw_data = data_set[:,-3]\n",
        "  # print( \"raw_data shape\", raw_data.shape) # 239, 2040 = num_questions, cfg.d_mlp\n",
        "\n",
        "  answer = einops.rearrange(raw_data, \"(x y) d_mlp -> x y d_mlp\", x=num_questions).cpu().numpy()\n",
        "  # print( \"answer shape\", answer.shape) # 239, 1, 2040 = num_questions, ??, cfg.d_mlp\n",
        "\n",
        "  return answer\n",
        "\n",
        "\n",
        "l0_mlp_hook_pre_sq = get_mlp_data('blocks.0.mlp.hook_pre')\n",
        "l0_mlp_hook_post_sq = get_mlp_data('blocks.0.mlp.hook_post')\n",
        "l1_mlp_hook_pre_sq = get_mlp_data('blocks.1.mlp.hook_pre') if cfg.n_layers > 1 else l0_mlp_hook_pre_sq\n",
        "l1_mlp_hook_post_sq = get_mlp_data('blocks.1.mlp.hook_post') if cfg.n_layers > 1 else l0_mlp_hook_post_sq\n",
        "\n",
        "\n",
        "def plot_mlp_neuron_activation(pos: int):\n",
        "    clear_output()\n",
        "\n",
        "    l0_mlp_pre_data = l0_mlp_hook_pre_sq[:,:,pos]\n",
        "    l0_mlp_post_data = l0_mlp_hook_post_sq[:,:,pos]\n",
        "    l1_mlp_pre_data = l1_mlp_hook_pre_sq[:,:,pos]\n",
        "    l1_mlp_post_data = l1_mlp_hook_post_sq[:,:,pos]\n",
        "\n",
        "    fig, axs = plt.subplots(1, 2, figsize=(8,4))\n",
        "\n",
        "    plot = axs[0].imshow(l1_mlp_pre_data, cmap='magma', vmin=0, vmax=1)\n",
        "    cbar = plt.colorbar(plot, fraction=0.1)\n",
        "    cbar.set_label(r'l0_mlp_pre_data {}'.format(pos))\n",
        "    #axs[0].set_ylim(-0.5, 99.5)\n",
        "    #axs[0].set_yticks(range(100), labels=range(100), size=5.5);\n",
        "    #axs[0].set_xticks(range(100), labels=range(100), size=5.5, rotation='vertical');\n",
        "\n",
        "    plot = axs[1].imshow(l1_mlp_post_data, cmap='magma', vmin=0, vmax=1)\n",
        "    cbar = plt.colorbar(plot, fraction=0.1)\n",
        "    cbar.set_label(r'l0_mlp_post_data {}'.format(pos))\n",
        "    #axs[0].set_ylim(-0.5, 99.5)\n",
        "    #axs[0].set_yticks(range(100), labels=range(100), size=5.5);\n",
        "    #axs[0].set_xticks(range(100), labels=range(100), size=5.5, rotation='vertical');\n",
        "\n",
        "\n",
        "interact(plot_mlp_neuron_activation, pos=widgets.IntText(value=0, description='Index:'))"
      ]
    }
  ],
  "metadata": {
    "accelerator": "GPU",
    "colab": {
      "collapsed_sections": [
        "uG2gZSoSJD5C",
        "pTd3nmsMJV5T",
        "vNpIsCqtETtF",
        "F_IIpX2H2tNe",
        "tz6rUaYvjOcE",
        "ZHiJhch4KCej",
        "-KJhCxFtNKfm",
        "R6W57CphAUls",
        "eifot6PnGgXn",
        "I-yFKiDllqEf",
        "FyK7QeUjLLFm",
        "D6FwJW0tv4Nf",
        "Lag8C3d_KkeQ",
        "2PjaQvhhayUL",
        "nXBYdxj-jLZc",
        "ZmsGWUbILYin",
        "Rbiau9foMp3h",
        "jIu3Pr9CMx3l"
      ],
      "provenance": [],
      "gpuType": "T4"
    },
    "kernelspec": {
      "display_name": "Python 3",
      "name": "python3"
    },
    "language_info": {
      "name": "python"
    }
  },
  "nbformat": 4,
  "nbformat_minor": 0
}
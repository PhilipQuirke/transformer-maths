{
  "cells": [
    {
      "cell_type": "markdown",
      "metadata": {
        "id": "uG2gZSoSJD5C"
      },
      "source": [
        "# Accurate Integer Mathematics in Transformers - Analyse the Model\n",
        "\n",
        "This CoLab analyses a Transformer model that performs integer addition, subtraction and multiplication e.g. 133357+182243=+0315600, 123450-345670=-0123230 and 000345*000823=+283935. Each digit is a separate token. For 6 digit questions, the model is given 14 \"question\" (input) tokens, and must then predict the corresponding 8 \"answer\" (output) tokens."
      ]
    },
    {
      "cell_type": "markdown",
      "metadata": {
        "id": "FzkGrSqHJKqN"
      },
      "source": [
        "## Tips for using the Colab\n",
        " * You can run and alter the code in this CoLab notebook yourself in Google CoLab ( https://colab.research.google.com/ ).\n",
        " * To run the notebook, in Google CoLab, **you will need to** go to Runtime > Change Runtime Type and select GPU as the hardware accelerator.\n",
        " * Some graphs are interactive!\n",
        " * Use the table of contents pane in the sidebar to navigate.\n",
        " * Collapse irrelevant sections with the dropdown arrows.\n",
        " * Search the page using the search in the sidebar, not CTRL+F."
      ]
    },
    {
      "cell_type": "markdown",
      "metadata": {
        "id": "pTd3nmsMJV5T"
      },
      "source": [
        "# Part 0: Import libraries\n",
        "Imports standard libraries. Don't bother reading."
      ]
    },
    {
      "cell_type": "code",
      "execution_count": null,
      "metadata": {
        "colab": {
          "base_uri": "https://localhost:8080/"
        },
        "id": "cCdmr6-_Jkzi",
        "outputId": "add6a99f-ccf6-4696-fda5-df7bd2658a30"
      },
      "outputs": [
        {
          "output_type": "stream",
          "name": "stdout",
          "text": [
            "Running as a Colab notebook\n",
            "Requirement already satisfied: matplotlib in /usr/local/lib/python3.10/dist-packages (3.7.1)\n",
            "Requirement already satisfied: contourpy>=1.0.1 in /usr/local/lib/python3.10/dist-packages (from matplotlib) (1.2.0)\n",
            "Requirement already satisfied: cycler>=0.10 in /usr/local/lib/python3.10/dist-packages (from matplotlib) (0.12.1)\n",
            "Requirement already satisfied: fonttools>=4.22.0 in /usr/local/lib/python3.10/dist-packages (from matplotlib) (4.48.1)\n",
            "Requirement already satisfied: kiwisolver>=1.0.1 in /usr/local/lib/python3.10/dist-packages (from matplotlib) (1.4.5)\n",
            "Requirement already satisfied: numpy>=1.20 in /usr/local/lib/python3.10/dist-packages (from matplotlib) (1.26.4)\n",
            "Requirement already satisfied: packaging>=20.0 in /usr/local/lib/python3.10/dist-packages (from matplotlib) (23.2)\n",
            "Requirement already satisfied: pillow>=6.2.0 in /usr/local/lib/python3.10/dist-packages (from matplotlib) (9.4.0)\n",
            "Requirement already satisfied: pyparsing>=2.3.1 in /usr/local/lib/python3.10/dist-packages (from matplotlib) (3.1.1)\n",
            "Requirement already satisfied: python-dateutil>=2.7 in /usr/local/lib/python3.10/dist-packages (from matplotlib) (2.8.2)\n",
            "Requirement already satisfied: six>=1.5 in /usr/local/lib/python3.10/dist-packages (from python-dateutil>=2.7->matplotlib) (1.16.0)\n",
            "Requirement already satisfied: prettytable in /usr/local/lib/python3.10/dist-packages (3.9.0)\n",
            "Requirement already satisfied: wcwidth in /usr/local/lib/python3.10/dist-packages (from prettytable) (0.2.13)\n",
            "Requirement already satisfied: kaleido in /usr/local/lib/python3.10/dist-packages (0.2.1)\n",
            "Requirement already satisfied: transformer_lens in /usr/local/lib/python3.10/dist-packages (1.14.0)\n",
            "Requirement already satisfied: accelerate>=0.23.0 in /usr/local/lib/python3.10/dist-packages (from transformer_lens) (0.27.0)\n",
            "Requirement already satisfied: beartype<0.15.0,>=0.14.1 in /usr/local/lib/python3.10/dist-packages (from transformer_lens) (0.14.1)\n",
            "Requirement already satisfied: better-abc<0.0.4,>=0.0.3 in /usr/local/lib/python3.10/dist-packages (from transformer_lens) (0.0.3)\n",
            "Requirement already satisfied: datasets>=2.7.1 in /usr/local/lib/python3.10/dist-packages (from transformer_lens) (2.17.0)\n",
            "Requirement already satisfied: einops>=0.6.0 in /usr/local/lib/python3.10/dist-packages (from transformer_lens) (0.7.0)\n",
            "Requirement already satisfied: fancy-einsum>=0.0.3 in /usr/local/lib/python3.10/dist-packages (from transformer_lens) (0.0.3)\n",
            "Requirement already satisfied: jaxtyping>=0.2.11 in /usr/local/lib/python3.10/dist-packages (from transformer_lens) (0.2.25)\n",
            "Requirement already satisfied: numpy>=1.24 in /usr/local/lib/python3.10/dist-packages (from transformer_lens) (1.26.4)\n",
            "Requirement already satisfied: pandas>=1.1.5 in /usr/local/lib/python3.10/dist-packages (from transformer_lens) (1.5.3)\n",
            "Requirement already satisfied: rich>=12.6.0 in /usr/local/lib/python3.10/dist-packages (from transformer_lens) (13.7.0)\n",
            "Requirement already satisfied: torch!=2.0,!=2.1.0,>=1.10 in /usr/local/lib/python3.10/dist-packages (from transformer_lens) (2.2.0)\n",
            "Requirement already satisfied: tqdm>=4.64.1 in /usr/local/lib/python3.10/dist-packages (from transformer_lens) (4.66.1)\n",
            "Requirement already satisfied: transformers>=4.34 in /usr/local/lib/python3.10/dist-packages (from transformer_lens) (4.35.2)\n",
            "Requirement already satisfied: typing-extensions in /usr/local/lib/python3.10/dist-packages (from transformer_lens) (4.9.0)\n",
            "Requirement already satisfied: wandb>=0.13.5 in /usr/local/lib/python3.10/dist-packages (from transformer_lens) (0.16.3)\n",
            "Requirement already satisfied: packaging>=20.0 in /usr/local/lib/python3.10/dist-packages (from accelerate>=0.23.0->transformer_lens) (23.2)\n",
            "Requirement already satisfied: psutil in /usr/local/lib/python3.10/dist-packages (from accelerate>=0.23.0->transformer_lens) (5.9.5)\n",
            "Requirement already satisfied: pyyaml in /usr/local/lib/python3.10/dist-packages (from accelerate>=0.23.0->transformer_lens) (6.0.1)\n",
            "Requirement already satisfied: huggingface-hub in /usr/local/lib/python3.10/dist-packages (from accelerate>=0.23.0->transformer_lens) (0.20.3)\n",
            "Requirement already satisfied: safetensors>=0.3.1 in /usr/local/lib/python3.10/dist-packages (from accelerate>=0.23.0->transformer_lens) (0.4.2)\n",
            "Requirement already satisfied: filelock in /usr/local/lib/python3.10/dist-packages (from datasets>=2.7.1->transformer_lens) (3.13.1)\n",
            "Requirement already satisfied: pyarrow>=12.0.0 in /usr/local/lib/python3.10/dist-packages (from datasets>=2.7.1->transformer_lens) (15.0.0)\n",
            "Requirement already satisfied: pyarrow-hotfix in /usr/local/lib/python3.10/dist-packages (from datasets>=2.7.1->transformer_lens) (0.6)\n",
            "Requirement already satisfied: dill<0.3.9,>=0.3.0 in /usr/local/lib/python3.10/dist-packages (from datasets>=2.7.1->transformer_lens) (0.3.8)\n",
            "Requirement already satisfied: requests>=2.19.0 in /usr/local/lib/python3.10/dist-packages (from datasets>=2.7.1->transformer_lens) (2.31.0)\n",
            "Requirement already satisfied: xxhash in /usr/local/lib/python3.10/dist-packages (from datasets>=2.7.1->transformer_lens) (3.4.1)\n",
            "Requirement already satisfied: multiprocess in /usr/local/lib/python3.10/dist-packages (from datasets>=2.7.1->transformer_lens) (0.70.16)\n",
            "Requirement already satisfied: fsspec[http]<=2023.10.0,>=2023.1.0 in /usr/local/lib/python3.10/dist-packages (from datasets>=2.7.1->transformer_lens) (2023.6.0)\n",
            "Requirement already satisfied: aiohttp in /usr/local/lib/python3.10/dist-packages (from datasets>=2.7.1->transformer_lens) (3.9.3)\n",
            "Requirement already satisfied: typeguard<3,>=2.13.3 in /usr/local/lib/python3.10/dist-packages (from jaxtyping>=0.2.11->transformer_lens) (2.13.3)\n",
            "Requirement already satisfied: python-dateutil>=2.8.1 in /usr/local/lib/python3.10/dist-packages (from pandas>=1.1.5->transformer_lens) (2.8.2)\n",
            "Requirement already satisfied: pytz>=2020.1 in /usr/local/lib/python3.10/dist-packages (from pandas>=1.1.5->transformer_lens) (2023.4)\n",
            "Requirement already satisfied: markdown-it-py>=2.2.0 in /usr/local/lib/python3.10/dist-packages (from rich>=12.6.0->transformer_lens) (3.0.0)\n",
            "Requirement already satisfied: pygments<3.0.0,>=2.13.0 in /usr/local/lib/python3.10/dist-packages (from rich>=12.6.0->transformer_lens) (2.16.1)\n",
            "Requirement already satisfied: sympy in /usr/local/lib/python3.10/dist-packages (from torch!=2.0,!=2.1.0,>=1.10->transformer_lens) (1.12)\n",
            "Requirement already satisfied: networkx in /usr/local/lib/python3.10/dist-packages (from torch!=2.0,!=2.1.0,>=1.10->transformer_lens) (3.2.1)\n",
            "Requirement already satisfied: jinja2 in /usr/local/lib/python3.10/dist-packages (from torch!=2.0,!=2.1.0,>=1.10->transformer_lens) (3.1.3)\n",
            "Requirement already satisfied: nvidia-cuda-nvrtc-cu12==12.1.105 in /usr/local/lib/python3.10/dist-packages (from torch!=2.0,!=2.1.0,>=1.10->transformer_lens) (12.1.105)\n",
            "Requirement already satisfied: nvidia-cuda-runtime-cu12==12.1.105 in /usr/local/lib/python3.10/dist-packages (from torch!=2.0,!=2.1.0,>=1.10->transformer_lens) (12.1.105)\n",
            "Requirement already satisfied: nvidia-cuda-cupti-cu12==12.1.105 in /usr/local/lib/python3.10/dist-packages (from torch!=2.0,!=2.1.0,>=1.10->transformer_lens) (12.1.105)\n",
            "Requirement already satisfied: nvidia-cudnn-cu12==8.9.2.26 in /usr/local/lib/python3.10/dist-packages (from torch!=2.0,!=2.1.0,>=1.10->transformer_lens) (8.9.2.26)\n",
            "Requirement already satisfied: nvidia-cublas-cu12==12.1.3.1 in /usr/local/lib/python3.10/dist-packages (from torch!=2.0,!=2.1.0,>=1.10->transformer_lens) (12.1.3.1)\n",
            "Requirement already satisfied: nvidia-cufft-cu12==11.0.2.54 in /usr/local/lib/python3.10/dist-packages (from torch!=2.0,!=2.1.0,>=1.10->transformer_lens) (11.0.2.54)\n",
            "Requirement already satisfied: nvidia-curand-cu12==10.3.2.106 in /usr/local/lib/python3.10/dist-packages (from torch!=2.0,!=2.1.0,>=1.10->transformer_lens) (10.3.2.106)\n",
            "Requirement already satisfied: nvidia-cusolver-cu12==11.4.5.107 in /usr/local/lib/python3.10/dist-packages (from torch!=2.0,!=2.1.0,>=1.10->transformer_lens) (11.4.5.107)\n",
            "Requirement already satisfied: nvidia-cusparse-cu12==12.1.0.106 in /usr/local/lib/python3.10/dist-packages (from torch!=2.0,!=2.1.0,>=1.10->transformer_lens) (12.1.0.106)\n",
            "Requirement already satisfied: nvidia-nccl-cu12==2.19.3 in /usr/local/lib/python3.10/dist-packages (from torch!=2.0,!=2.1.0,>=1.10->transformer_lens) (2.19.3)\n",
            "Requirement already satisfied: nvidia-nvtx-cu12==12.1.105 in /usr/local/lib/python3.10/dist-packages (from torch!=2.0,!=2.1.0,>=1.10->transformer_lens) (12.1.105)\n",
            "Requirement already satisfied: triton==2.2.0 in /usr/local/lib/python3.10/dist-packages (from torch!=2.0,!=2.1.0,>=1.10->transformer_lens) (2.2.0)\n",
            "Requirement already satisfied: nvidia-nvjitlink-cu12 in /usr/local/lib/python3.10/dist-packages (from nvidia-cusolver-cu12==11.4.5.107->torch!=2.0,!=2.1.0,>=1.10->transformer_lens) (12.3.101)\n",
            "Requirement already satisfied: regex!=2019.12.17 in /usr/local/lib/python3.10/dist-packages (from transformers>=4.34->transformer_lens) (2023.12.25)\n",
            "Requirement already satisfied: tokenizers<0.19,>=0.14 in /usr/local/lib/python3.10/dist-packages (from transformers>=4.34->transformer_lens) (0.15.1)\n",
            "Requirement already satisfied: Click!=8.0.0,>=7.1 in /usr/local/lib/python3.10/dist-packages (from wandb>=0.13.5->transformer_lens) (8.1.7)\n",
            "Requirement already satisfied: GitPython!=3.1.29,>=1.0.0 in /usr/local/lib/python3.10/dist-packages (from wandb>=0.13.5->transformer_lens) (3.1.41)\n",
            "Requirement already satisfied: sentry-sdk>=1.0.0 in /usr/local/lib/python3.10/dist-packages (from wandb>=0.13.5->transformer_lens) (1.40.3)\n",
            "Requirement already satisfied: docker-pycreds>=0.4.0 in /usr/local/lib/python3.10/dist-packages (from wandb>=0.13.5->transformer_lens) (0.4.0)\n",
            "Requirement already satisfied: setproctitle in /usr/local/lib/python3.10/dist-packages (from wandb>=0.13.5->transformer_lens) (1.3.3)\n",
            "Requirement already satisfied: setuptools in /usr/local/lib/python3.10/dist-packages (from wandb>=0.13.5->transformer_lens) (67.7.2)\n",
            "Requirement already satisfied: appdirs>=1.4.3 in /usr/local/lib/python3.10/dist-packages (from wandb>=0.13.5->transformer_lens) (1.4.4)\n",
            "Requirement already satisfied: protobuf!=4.21.0,<5,>=3.19.0 in /usr/local/lib/python3.10/dist-packages (from wandb>=0.13.5->transformer_lens) (3.20.3)\n",
            "Requirement already satisfied: six>=1.4.0 in /usr/local/lib/python3.10/dist-packages (from docker-pycreds>=0.4.0->wandb>=0.13.5->transformer_lens) (1.16.0)\n",
            "Requirement already satisfied: aiosignal>=1.1.2 in /usr/local/lib/python3.10/dist-packages (from aiohttp->datasets>=2.7.1->transformer_lens) (1.3.1)\n",
            "Requirement already satisfied: attrs>=17.3.0 in /usr/local/lib/python3.10/dist-packages (from aiohttp->datasets>=2.7.1->transformer_lens) (23.2.0)\n",
            "Requirement already satisfied: frozenlist>=1.1.1 in /usr/local/lib/python3.10/dist-packages (from aiohttp->datasets>=2.7.1->transformer_lens) (1.4.1)\n",
            "Requirement already satisfied: multidict<7.0,>=4.5 in /usr/local/lib/python3.10/dist-packages (from aiohttp->datasets>=2.7.1->transformer_lens) (6.0.5)\n",
            "Requirement already satisfied: yarl<2.0,>=1.0 in /usr/local/lib/python3.10/dist-packages (from aiohttp->datasets>=2.7.1->transformer_lens) (1.9.4)\n",
            "Requirement already satisfied: async-timeout<5.0,>=4.0 in /usr/local/lib/python3.10/dist-packages (from aiohttp->datasets>=2.7.1->transformer_lens) (4.0.3)\n",
            "Requirement already satisfied: gitdb<5,>=4.0.1 in /usr/local/lib/python3.10/dist-packages (from GitPython!=3.1.29,>=1.0.0->wandb>=0.13.5->transformer_lens) (4.0.11)\n",
            "Requirement already satisfied: mdurl~=0.1 in /usr/local/lib/python3.10/dist-packages (from markdown-it-py>=2.2.0->rich>=12.6.0->transformer_lens) (0.1.2)\n",
            "Requirement already satisfied: charset-normalizer<4,>=2 in /usr/local/lib/python3.10/dist-packages (from requests>=2.19.0->datasets>=2.7.1->transformer_lens) (3.3.2)\n",
            "Requirement already satisfied: idna<4,>=2.5 in /usr/local/lib/python3.10/dist-packages (from requests>=2.19.0->datasets>=2.7.1->transformer_lens) (3.6)\n",
            "Requirement already satisfied: urllib3<3,>=1.21.1 in /usr/local/lib/python3.10/dist-packages (from requests>=2.19.0->datasets>=2.7.1->transformer_lens) (2.0.7)\n",
            "Requirement already satisfied: certifi>=2017.4.17 in /usr/local/lib/python3.10/dist-packages (from requests>=2.19.0->datasets>=2.7.1->transformer_lens) (2024.2.2)\n",
            "Requirement already satisfied: MarkupSafe>=2.0 in /usr/local/lib/python3.10/dist-packages (from jinja2->torch!=2.0,!=2.1.0,>=1.10->transformer_lens) (2.1.5)\n",
            "Requirement already satisfied: mpmath>=0.19 in /usr/local/lib/python3.10/dist-packages (from sympy->torch!=2.0,!=2.1.0,>=1.10->transformer_lens) (1.3.0)\n",
            "Requirement already satisfied: smmap<6,>=3.0.1 in /usr/local/lib/python3.10/dist-packages (from gitdb<5,>=4.0.1->GitPython!=3.1.29,>=1.0.0->wandb>=0.13.5->transformer_lens) (5.0.1)\n",
            "Requirement already satisfied: torchtyping in /usr/local/lib/python3.10/dist-packages (0.1.4)\n",
            "Requirement already satisfied: torch>=1.7.0 in /usr/local/lib/python3.10/dist-packages (from torchtyping) (2.2.0)\n",
            "Requirement already satisfied: typeguard>=2.11.1 in /usr/local/lib/python3.10/dist-packages (from torchtyping) (2.13.3)\n",
            "Requirement already satisfied: filelock in /usr/local/lib/python3.10/dist-packages (from torch>=1.7.0->torchtyping) (3.13.1)\n",
            "Requirement already satisfied: typing-extensions>=4.8.0 in /usr/local/lib/python3.10/dist-packages (from torch>=1.7.0->torchtyping) (4.9.0)\n",
            "Requirement already satisfied: sympy in /usr/local/lib/python3.10/dist-packages (from torch>=1.7.0->torchtyping) (1.12)\n",
            "Requirement already satisfied: networkx in /usr/local/lib/python3.10/dist-packages (from torch>=1.7.0->torchtyping) (3.2.1)\n",
            "Requirement already satisfied: jinja2 in /usr/local/lib/python3.10/dist-packages (from torch>=1.7.0->torchtyping) (3.1.3)\n",
            "Requirement already satisfied: fsspec in /usr/local/lib/python3.10/dist-packages (from torch>=1.7.0->torchtyping) (2023.6.0)\n",
            "Requirement already satisfied: nvidia-cuda-nvrtc-cu12==12.1.105 in /usr/local/lib/python3.10/dist-packages (from torch>=1.7.0->torchtyping) (12.1.105)\n",
            "Requirement already satisfied: nvidia-cuda-runtime-cu12==12.1.105 in /usr/local/lib/python3.10/dist-packages (from torch>=1.7.0->torchtyping) (12.1.105)\n",
            "Requirement already satisfied: nvidia-cuda-cupti-cu12==12.1.105 in /usr/local/lib/python3.10/dist-packages (from torch>=1.7.0->torchtyping) (12.1.105)\n",
            "Requirement already satisfied: nvidia-cudnn-cu12==8.9.2.26 in /usr/local/lib/python3.10/dist-packages (from torch>=1.7.0->torchtyping) (8.9.2.26)\n",
            "Requirement already satisfied: nvidia-cublas-cu12==12.1.3.1 in /usr/local/lib/python3.10/dist-packages (from torch>=1.7.0->torchtyping) (12.1.3.1)\n",
            "Requirement already satisfied: nvidia-cufft-cu12==11.0.2.54 in /usr/local/lib/python3.10/dist-packages (from torch>=1.7.0->torchtyping) (11.0.2.54)\n",
            "Requirement already satisfied: nvidia-curand-cu12==10.3.2.106 in /usr/local/lib/python3.10/dist-packages (from torch>=1.7.0->torchtyping) (10.3.2.106)\n",
            "Requirement already satisfied: nvidia-cusolver-cu12==11.4.5.107 in /usr/local/lib/python3.10/dist-packages (from torch>=1.7.0->torchtyping) (11.4.5.107)\n",
            "Requirement already satisfied: nvidia-cusparse-cu12==12.1.0.106 in /usr/local/lib/python3.10/dist-packages (from torch>=1.7.0->torchtyping) (12.1.0.106)\n",
            "Requirement already satisfied: nvidia-nccl-cu12==2.19.3 in /usr/local/lib/python3.10/dist-packages (from torch>=1.7.0->torchtyping) (2.19.3)\n",
            "Requirement already satisfied: nvidia-nvtx-cu12==12.1.105 in /usr/local/lib/python3.10/dist-packages (from torch>=1.7.0->torchtyping) (12.1.105)\n",
            "Requirement already satisfied: triton==2.2.0 in /usr/local/lib/python3.10/dist-packages (from torch>=1.7.0->torchtyping) (2.2.0)\n",
            "Requirement already satisfied: nvidia-nvjitlink-cu12 in /usr/local/lib/python3.10/dist-packages (from nvidia-cusolver-cu12==11.4.5.107->torch>=1.7.0->torchtyping) (12.3.101)\n",
            "Requirement already satisfied: MarkupSafe>=2.0 in /usr/local/lib/python3.10/dist-packages (from jinja2->torch>=1.7.0->torchtyping) (2.1.5)\n",
            "Requirement already satisfied: mpmath>=0.19 in /usr/local/lib/python3.10/dist-packages (from sympy->torch>=1.7.0->torchtyping) (1.3.0)\n",
            "Requirement already satisfied: transformers in /usr/local/lib/python3.10/dist-packages (4.35.2)\n",
            "Requirement already satisfied: filelock in /usr/local/lib/python3.10/dist-packages (from transformers) (3.13.1)\n",
            "Requirement already satisfied: huggingface-hub<1.0,>=0.16.4 in /usr/local/lib/python3.10/dist-packages (from transformers) (0.20.3)\n",
            "Requirement already satisfied: numpy>=1.17 in /usr/local/lib/python3.10/dist-packages (from transformers) (1.26.4)\n",
            "Requirement already satisfied: packaging>=20.0 in /usr/local/lib/python3.10/dist-packages (from transformers) (23.2)\n",
            "Requirement already satisfied: pyyaml>=5.1 in /usr/local/lib/python3.10/dist-packages (from transformers) (6.0.1)\n",
            "Requirement already satisfied: regex!=2019.12.17 in /usr/local/lib/python3.10/dist-packages (from transformers) (2023.12.25)\n",
            "Requirement already satisfied: requests in /usr/local/lib/python3.10/dist-packages (from transformers) (2.31.0)\n",
            "Requirement already satisfied: tokenizers<0.19,>=0.14 in /usr/local/lib/python3.10/dist-packages (from transformers) (0.15.1)\n",
            "Requirement already satisfied: safetensors>=0.3.1 in /usr/local/lib/python3.10/dist-packages (from transformers) (0.4.2)\n",
            "Requirement already satisfied: tqdm>=4.27 in /usr/local/lib/python3.10/dist-packages (from transformers) (4.66.1)\n",
            "Requirement already satisfied: fsspec>=2023.5.0 in /usr/local/lib/python3.10/dist-packages (from huggingface-hub<1.0,>=0.16.4->transformers) (2023.6.0)\n",
            "Requirement already satisfied: typing-extensions>=3.7.4.3 in /usr/local/lib/python3.10/dist-packages (from huggingface-hub<1.0,>=0.16.4->transformers) (4.9.0)\n",
            "Requirement already satisfied: charset-normalizer<4,>=2 in /usr/local/lib/python3.10/dist-packages (from requests->transformers) (3.3.2)\n",
            "Requirement already satisfied: idna<4,>=2.5 in /usr/local/lib/python3.10/dist-packages (from requests->transformers) (3.6)\n",
            "Requirement already satisfied: urllib3<3,>=1.21.1 in /usr/local/lib/python3.10/dist-packages (from requests->transformers) (2.0.7)\n",
            "Requirement already satisfied: certifi>=2017.4.17 in /usr/local/lib/python3.10/dist-packages (from requests->transformers) (2024.2.2)\n",
            "Requirement already satisfied: numpy in /usr/local/lib/python3.10/dist-packages (1.26.4)\n",
            "Requirement already satisfied: scikit-learn in /usr/local/lib/python3.10/dist-packages (1.4.0)\n",
            "Requirement already satisfied: numpy<2.0,>=1.19.5 in /usr/local/lib/python3.10/dist-packages (from scikit-learn) (1.26.4)\n",
            "Requirement already satisfied: scipy>=1.6.0 in /usr/local/lib/python3.10/dist-packages (from scikit-learn) (1.11.4)\n",
            "Requirement already satisfied: joblib>=1.2.0 in /usr/local/lib/python3.10/dist-packages (from scikit-learn) (1.3.2)\n",
            "Requirement already satisfied: threadpoolctl>=2.0.0 in /usr/local/lib/python3.10/dist-packages (from scikit-learn) (3.2.0)\n"
          ]
        }
      ],
      "source": [
        "DEVELOPMENT_MODE = True\n",
        "try:\n",
        "    import google.colab\n",
        "    IN_COLAB = True\n",
        "    print(\"Running as a Colab notebook\")\n",
        "\n",
        "    !pip install matplotlib\n",
        "    !pip install prettytable\n",
        "\n",
        "    !pip install kaleido\n",
        "    !pip install transformer_lens\n",
        "    !pip install torchtyping\n",
        "    !pip install transformers\n",
        "\n",
        "    !pip install numpy --upgrade\n",
        "    !pip install scikit-learn --upgrade\n",
        "\n",
        "except:\n",
        "    IN_COLAB = False\n",
        "    print(\"Running as a Jupyter notebook - intended for development only!\")\n",
        "    from IPython import get_ipython\n",
        "\n",
        "    ipython = get_ipython()\n",
        "    # Code to automatically update the HookedTransformer code as its edited without restarting the kernel\n",
        "    ipython.magic(\"load_ext autoreload\")\n",
        "    ipython.magic(\"autoreload 2\")"
      ]
    },
    {
      "cell_type": "code",
      "execution_count": null,
      "metadata": {
        "colab": {
          "base_uri": "https://localhost:8080/"
        },
        "id": "Up2QLAZLJnG9",
        "outputId": "ee698f33-91a1-4d62-92f9-69624745edcd"
      },
      "outputs": [
        {
          "output_type": "stream",
          "name": "stdout",
          "text": [
            "Using renderer: colab\n"
          ]
        }
      ],
      "source": [
        "# Plotly needs a different renderer for VSCode/Notebooks vs Colab argh\n",
        "import kaleido\n",
        "import plotly.io as pio\n",
        "\n",
        "if IN_COLAB or not DEVELOPMENT_MODE:\n",
        "    pio.renderers.default = \"colab\"\n",
        "else:\n",
        "    pio.renderers.default = \"notebook_connected\"\n",
        "print(f\"Using renderer: {pio.renderers.default}\")\n",
        "\n",
        "import plotly.express as px\n",
        "import plotly.graph_objects as go"
      ]
    },
    {
      "cell_type": "code",
      "execution_count": null,
      "metadata": {
        "id": "ve-TndERJoaJ"
      },
      "outputs": [],
      "source": [
        "pio.templates['plotly'].layout.xaxis.title.font.size = 20\n",
        "pio.templates['plotly'].layout.yaxis.title.font.size = 20\n",
        "pio.templates['plotly'].layout.title.font.size = 30"
      ]
    },
    {
      "cell_type": "code",
      "execution_count": null,
      "metadata": {
        "id": "_6zOEFryJqGN"
      },
      "outputs": [],
      "source": [
        "import json\n",
        "import torch\n",
        "import torch.nn.functional as F\n",
        "import numpy as np\n",
        "import random\n",
        "from prettytable import PrettyTable\n",
        "import itertools\n",
        "import re"
      ]
    },
    {
      "cell_type": "code",
      "execution_count": null,
      "metadata": {
        "id": "d6TE7A9SxySA",
        "colab": {
          "base_uri": "https://localhost:8080/"
        },
        "outputId": "9a86b6e2-2f9a-4187-c35b-065e7220b864"
      },
      "outputs": [
        {
          "output_type": "stream",
          "name": "stdout",
          "text": [
            "pca import exception: module 'numpy.linalg._umath_linalg' has no attribute '_ilp64'\n"
          ]
        }
      ],
      "source": [
        "import matplotlib.pyplot as plt\n",
        "import matplotlib.colors as mcolors\n",
        "import textwrap\n",
        "\n",
        "# Use Principal Component Analysis (PCA) library\n",
        "use_pca = True\n",
        "try:\n",
        "  from sklearn.decomposition import PCA\n",
        "except Exception as e:\n",
        "  # If this fails try \"Runtime > Restart session and run all\" as this sometimes fixes the issue.\n",
        "  print(\"pca import exception:\", e)\n",
        "  use_pca = False"
      ]
    },
    {
      "cell_type": "code",
      "execution_count": null,
      "metadata": {
        "id": "f8VQ4e0QJsIB"
      },
      "outputs": [],
      "source": [
        "import transformer_lens\n",
        "import transformer_lens.utils as utils\n",
        "from transformer_lens.hook_points import (\n",
        "    HookedRootModule,\n",
        "    HookPoint,\n",
        ")  # Hooking utilities\n",
        "from transformer_lens import HookedTransformer, HookedTransformerConfig, FactoredMatrix, ActivationCache\n"
      ]
    },
    {
      "cell_type": "markdown",
      "metadata": {
        "id": "aQNjIosyX9Y-"
      },
      "source": [
        "# Part 1A: Configuration: Detailed"
      ]
    },
    {
      "cell_type": "code",
      "execution_count": null,
      "metadata": {
        "id": "cwXrSj8KGj-v"
      },
      "outputs": [],
      "source": [
        "# Tokens used in vocab. (Token indexes 0 to 9 represent digits 0 to 9)\n",
        "PLUS_INDEX = 10\n",
        "MINUS_INDEX = 11\n",
        "EQUALS_INDEX = 12\n",
        "MULT_INDEX = 13\n",
        "DIV_INDEX = 14\n",
        "MAX_INDEX = DIV_INDEX"
      ]
    },
    {
      "cell_type": "code",
      "execution_count": null,
      "metadata": {
        "id": "HmjGdFcdJat3"
      },
      "outputs": [],
      "source": [
        "# Main configuration class for main model creation and training\n",
        "class Config():\n",
        "  #@markdown Main Model\n",
        "  n_layers: int = 3 #@param\n",
        "  n_heads: int = 4 #@param\n",
        "\n",
        "  d_vocab: int = MAX_INDEX+1\n",
        "  d_model: int = 510\n",
        "  d_mlp: int = 4 * d_model\n",
        "  d_head: int = 170\n",
        "  training_seed: int = 372001\n",
        "  analysis_seed: int = 673023\n",
        "\n",
        "  #@markdown Data\n",
        "  n_digits: int = 6 #@param\n",
        "  act_fn: str = 'relu'\n",
        "  batch_size: int = 512 # Training used 64. Larger for speed during analysis\n",
        "\n",
        "  def n_ctx(self):\n",
        "    return 3 * self.n_digits + 4\n",
        "\n",
        "  #@markdown Optimizer\n",
        "  n_training_steps: int = 40000 #@param\n",
        "  weight_decay: float = 0.00008\n",
        "  lr: int = 0.1\n",
        "\n",
        "  #@markdown Actions\n",
        "\n",
        "  # Percent of questions that are multiplication, subtraction (rest are addition questions).\n",
        "  perc_mult: int = 0 # e.g. 20\n",
        "  perc_sub: int = 0 #@param e.g. 80\n",
        "  def perc_add(self):\n",
        "    return max(0, 100 - self.perc_mult - self.perc_sub)\n",
        "\n",
        "  #@markdown Insert Model\n",
        "  insert_mode: int = 0 #@param 0=None 1=Init, 2=FreezeHeads 3=FreezeAll\n",
        "\n",
        "\n",
        "  # Save graphs to CoLab temp files as PDF, SVG, etc. You can manually export files for re-use in papers.\n",
        "  save_graph_to_file: bool = True\n",
        "\n",
        "  # The format to output prettytable in. Options are text|html|json|csv|latex\n",
        "  # Use Text for this CoLab, latex for Overleaf output, and html for GitHub blog output\n",
        "  table_out_format: str = \"text\"\n",
        "\n",
        "\n",
        "  def first_answer_digit_index(self):\n",
        "    return self.n_digits*2 + 2\n",
        "\n",
        "\n",
        "cfg = Config()"
      ]
    },
    {
      "cell_type": "markdown",
      "metadata": {
        "id": "ldGPkaokJQM5"
      },
      "source": [
        "# Part 1B: Configuration: Summary\n",
        "\n",
        "Which existing model do we want to analyse?\n",
        "\n",
        "The existing model weightings created by the sister Colab [Accurate_Math_Train](https://github.com/PhilipQuirke/transformer-maths/blob/main/assets/Accurate_Math_Train.ipynb) are loaded from HuggingFace."
      ]
    },
    {
      "cell_type": "code",
      "execution_count": null,
      "metadata": {
        "id": "O1DXZQ2E6yAi"
      },
      "outputs": [],
      "source": [
        "# Which existing model do we want to analyse?\n",
        "#model_name = \"add_d5_l2_h3_train15K\"  # 5 digit addition model\n",
        "#model_name = \"add_d6_l2_h3_train15K\"  # 6 digit addition model\n",
        "#model_name = \"sub_d6_l2_h3_train30K\"  # 6 digit subtraction model\n",
        "#model_name = \"mix_d6_l3_h4_train40K\"  # 6 digit addition and subtraction model. AvgFinalLoss=8e-09\n",
        "model_name = \"ins1_mix_d6_l3_h4_train40K\"  # 6 digit addition / subtraction model. Initialise with addition model. Handles 1m Qs for Add and Sub\n",
        "#model_name = \"ins2_mix_d6_l4_h4_train40K\"  # 6 digit addition / subtraction model. Initialised with addition model. Reset useful heads every 100 epochs. AvgFinalLoss=7e-09. Fails 1m Qs\n",
        "#model_name = \"ins3_mix_d6_l4_h3_train40K\"  # 6 digit addition / subtraction model. Initialised with addition model. Reset useful heads & MLPs every 100 epochs. AvgFinalLoss=2.6e-06. Fails 1m Qs"
      ]
    },
    {
      "cell_type": "code",
      "execution_count": null,
      "metadata": {
        "id": "B5BiELcf53ms"
      },
      "outputs": [],
      "source": [
        "if model_name != \"\":\n",
        "\n",
        "  match = re.search(\"d(\\d)_\", model_name)\n",
        "  if match:\n",
        "    cfg.n_digits = int(match.group(1))\n",
        "\n",
        "  match = re.search(\"l(\\d)_\", model_name)\n",
        "  if match:\n",
        "    cfg.n_layers = int(match.group(1))\n",
        "\n",
        "  match = re.search(\"h(\\d)_\", model_name)\n",
        "  if match:\n",
        "    cfg.n_heads = int(match.group(1))\n",
        "\n",
        "  match = re.search(\"train(\\d\\d)K\", model_name)\n",
        "  if match:\n",
        "    cfg.n_training_steps = int(match.group(1)) * 1000\n",
        "\n",
        "  cfg.perc_sub = 0\n",
        "  cfg.insert_mode = 0\n",
        "\n",
        "  if model_name == \"mix_d6_l3_h4_train40K\" :\n",
        "    cfg.batch_size = 256\n",
        "    cfg.perc_sub = 66 # Train on 66% subtraction and 33% addition question batches\n",
        "\n",
        "  if model_name == \"ins1_mix_d6_l3_h4_train40K\" :\n",
        "    cfg.batch_size = 256\n",
        "    cfg.perc_sub = 80 # Train on 80% subtraction and 20% addition question batches\n",
        "    cfg.insert_mode = 1 # Initialise with add_d6_l2_h3_train15K.pth.\n",
        "\n",
        "  if model_name == \"ins2_mix_d6_l4_h4_train40K\" :\n",
        "    cfg.batch_size = 256\n",
        "    cfg.perc_sub = 80 # Train on 80% subtraction and 20% addition question batches\n",
        "    cfg.insert_mode = 2 # Initialise with add_d6_l2_h3_train15K.pth. Train & reset useful heads every 100 epochs\n",
        "\n",
        "  if model_name == \"ins3_mix_d6_l4_h3_train40K\" :\n",
        "    cfg.batch_size = 256\n",
        "    cfg.perc_sub = 80 # Train on 80% subtraction and 20% addition question batches\n",
        "    cfg.insert_mode = 3 # Initialise with add_d6_l2_h3_train15K.pth. Trained & reset useful heads & MLPs every 100 epochs"
      ]
    },
    {
      "cell_type": "code",
      "execution_count": null,
      "metadata": {
        "id": "n0DJkn5l2gq3",
        "colab": {
          "base_uri": "https://localhost:8080/"
        },
        "outputId": "ed9147e6-1e4a-4037-a69c-c368679c1837"
      },
      "outputs": [
        {
          "output_type": "stream",
          "name": "stdout",
          "text": [
            "%Mult= 0 %Sub= 80 %Add= 20 File= ins1_mix_d6_l3_h4_train40K_seed372001\n",
            "Main model will be read from HuggingLab file ins1_mix_d6_l3_h4_train40K_seed372001.pth\n",
            "Main model quanta tags will save to Colab temporary file ins1_mix_d6_l3_h4_train40K_seed372001_tags.json\n"
          ]
        }
      ],
      "source": [
        "def file_name_suffix(digits, layers, heads, training_steps, seed):\n",
        "  train_str = str(training_steps//1000) + \"K\"\n",
        "  return '_d{}_l{}_h{}_train{}_seed{}'.format(digits, layers, heads, train_str, seed)\n",
        "\n",
        "op_prefix = 'mul' if cfg.perc_mult == 100 else 'sub' if cfg.perc_sub == 100 else 'add' if cfg.perc_add() == 100 else 'mix'\n",
        "main_fname = '' if cfg.insert_mode == 0 else 'ins{}_'.format(cfg.insert_mode)\n",
        "main_fname += op_prefix\n",
        "main_fname += file_name_suffix(cfg.n_digits, cfg.n_layers, cfg.n_heads, cfg.n_training_steps, cfg.training_seed)\n",
        "main_fname_pth = main_fname + '.pth'\n",
        "main_fname_json = main_fname + '_analysis.json'\n",
        "\n",
        "\n",
        "def print_config():\n",
        "  print(\"%Mult=\", cfg.perc_mult, \"%Sub=\", cfg.perc_sub, \"%Add=\", cfg.perc_add(), \"File=\", main_fname)\n",
        "\n",
        "print_config()\n",
        "print('Main model will be read from HuggingLab file', main_fname_pth)\n",
        "print('Main model quanta tags will save to Colab temporary file', main_fname_json)"
      ]
    },
    {
      "cell_type": "markdown",
      "metadata": {
        "id": "P8RfHXneJw6n"
      },
      "source": [
        "# Part 3A: Set Up: Embedding / Unembedding\n",
        "\n",
        "Convert from\n",
        "- Human-readable character to numeric token index.\n",
        "- Convert numeric token positions to position \"meanings\"\n",
        "- Convert from number to human-readable stringand vice versa"
      ]
    },
    {
      "cell_type": "code",
      "source": [
        "# Map from character to token\n",
        "char_to_token = {str(i) : i for i in range(10)}\n",
        "char_to_token['+']=PLUS_INDEX\n",
        "char_to_token['-']=MINUS_INDEX\n",
        "char_to_token['=']=EQUALS_INDEX\n",
        "char_to_token['*']=MULT_INDEX\n",
        "char_to_token['\\\\']=DIV_INDEX"
      ],
      "metadata": {
        "id": "p9NqtFCe18PI"
      },
      "execution_count": null,
      "outputs": []
    },
    {
      "cell_type": "code",
      "execution_count": null,
      "metadata": {
        "id": "-QYFZIalJ3tK"
      },
      "outputs": [],
      "source": [
        "# Map from token to character\n",
        "def token_to_char(i):\n",
        "  for char, token in char_to_token.items():\n",
        "    if token == i:\n",
        "      return char\n",
        "\n",
        "  return '?' # Should never happen\n",
        "\n",
        "\n",
        "assert token_to_char(4) == '4'\n",
        "assert token_to_char(MULT_INDEX) == '*'\n",
        "\n",
        "\n",
        "# Map from tokens to string\n",
        "def tokens_to_string(tokens):\n",
        "    tokens = utils.to_numpy(tokens)\n",
        "    return \"\".join([token_to_char(i) for i in tokens[:cfg.n_ctx()]])\n",
        "\n",
        "\n",
        "assert tokens_to_string([4,0,7]) == '407'"
      ]
    },
    {
      "cell_type": "code",
      "execution_count": null,
      "metadata": {
        "id": "WeObQk2kzAv7"
      },
      "outputs": [],
      "source": [
        "# convert 3 to \"P3\"\n",
        "def position_name(position):\n",
        "  return \"P\" + str(position)\n",
        "\n",
        "\n",
        "# Token positions names P1 .... P20\n",
        "token_position_names = []\n",
        "for i in range(cfg.n_ctx()):\n",
        "  token_position_names += [position_name(i)]\n",
        "\n",
        "\n",
        "# Convert D0 to P5, D1 to P4, D2 to P3 in 6 digit addition\n",
        "def dn_to_position_name(n):\n",
        "  return position_name(cfg.n_digits - 1 - n)\n",
        "# Convert D'0 to P10, D'1 to P9, D'2 to P8, etc in 6 digit addition\n",
        "def ddn_to_position_name(n):\n",
        "  return position_name(2 * cfg.n_digits - n)\n",
        "# Convert A0 to P20, A1 to P19, A2 to P18, etc in 6 digit addition\n",
        "def an_to_position_name(n):\n",
        "  return position_name(cfg.n_ctx() - 1 - n)\n",
        "\n",
        "\n",
        "# convert 3 to \"A3\"\n",
        "def answer_name(n):\n",
        "  return \"A\" + str(n)\n",
        "\n",
        "\n",
        "# Token position meanings D5, .., D0, *, D5', .., D0', =, A7, A6, .., A0\n",
        "token_position_meanings = []\n",
        "\n",
        "for i in range(cfg.n_digits):\n",
        "  token_position_meanings += [\"D\" + str(cfg.n_digits-i-1)]\n",
        "\n",
        "token_position_meanings += \"+\" # Stands in for operation +, - or *\n",
        "\n",
        "for i in range(cfg.n_digits):\n",
        "  token_position_meanings += [\"D'\" + str(cfg.n_digits-i-1)]\n",
        "\n",
        "token_position_meanings += [\"=\"]\n",
        "\n",
        "for i in range(cfg.n_digits+2):\n",
        "  token_position_meanings += [answer_name(cfg.n_digits-i+1)]"
      ]
    },
    {
      "cell_type": "code",
      "execution_count": null,
      "metadata": {
        "id": "s-lFFjjgWAM_"
      },
      "outputs": [],
      "source": [
        "def int_to_answer_str( n ):\n",
        "  s = str(abs(n))\n",
        "  while len(s) < cfg.n_digits + 1 :\n",
        "    s = \"0\" + s\n",
        "  s = (\"+\" if n >= 0 else \"-\") + s\n",
        "  return s\n",
        "\n",
        "\n",
        "# Unit test\n",
        "if cfg.n_digits == 6 :\n",
        "  assert int_to_answer_str(1234) == \"+0001234\""
      ]
    },
    {
      "cell_type": "code",
      "execution_count": null,
      "metadata": {
        "id": "GHQpt2iOqffb"
      },
      "outputs": [],
      "source": [
        "# Convert \"0012345\" to 12345\n",
        "def tokens_to_unsigned_int( q, offset, digits ):\n",
        "  a = 0\n",
        "  for j in range(digits):\n",
        "    a = a * 10 + q[offset+j]\n",
        "  return a\n",
        "\n",
        "\n",
        "# Convert \"-12345\" to -12345, and \"+12345\" to 12345\n",
        "def tokens_to_answer(q):\n",
        "  # offset of sign character\n",
        "  sign_offset = cfg.first_answer_digit_index()\n",
        "\n",
        "  # 5 digit addition yields a 6 digit answer. So cfg.n_digits+1 DIGITS\n",
        "  answer_digits = cfg.n_digits+1\n",
        "\n",
        "  a = tokens_to_unsigned_int( q, sign_offset+1, answer_digits )\n",
        "  if q[sign_offset] == MINUS_INDEX:\n",
        "    a = - a\n",
        "\n",
        "  return a"
      ]
    },
    {
      "cell_type": "markdown",
      "source": [
        "# Part 3B: Set Up: Create model"
      ],
      "metadata": {
        "id": "tz6rUaYvjOcE"
      }
    },
    {
      "cell_type": "code",
      "execution_count": null,
      "metadata": {
        "id": "lA16Nb2PJ7MB"
      },
      "outputs": [],
      "source": [
        "# Transformer creation\n",
        "\n",
        "# Structure is documented at https://neelnanda-io.github.io/TransformerLens/transformer_lens.html#transformer_lens.HookedTransformerConfig.HookedTransformerConfig\n",
        "ht_cfg = HookedTransformerConfig(\n",
        "    n_layers = cfg.n_layers,\n",
        "    n_heads = cfg.n_heads,\n",
        "    d_model = cfg.d_model,\n",
        "    d_head = cfg.d_head,\n",
        "    d_mlp = cfg.d_mlp,\n",
        "    act_fn = cfg.act_fn,\n",
        "    normalization_type = 'LN',\n",
        "    d_vocab = cfg.d_vocab,\n",
        "    d_vocab_out = cfg.d_vocab,\n",
        "    n_ctx = cfg.n_ctx(),\n",
        "    init_weights = True,\n",
        "    device = \"cuda\",\n",
        "    seed = cfg.training_seed,\n",
        ")\n",
        "\n",
        "main_model = HookedTransformer(ht_cfg)\n",
        "\n",
        "optimizer = torch.optim.AdamW(main_model.parameters(),\n",
        "                        lr = cfg.lr,\n",
        "                        weight_decay = cfg.weight_decay,\n",
        "                        betas = (0.9, 0.98))\n",
        "\n",
        "max_iter = cfg.n_training_steps\n",
        "warmup_iter = max_iter // 5\n",
        "scheduler1 = torch.optim.lr_scheduler.LinearLR(optimizer, start_factor=0.01, total_iters=int(warmup_iter))\n",
        "scheduler2 = torch.optim.lr_scheduler.CosineAnnealingLR(optimizer, T_max=int(np.ceil((max_iter-warmup_iter))))\n",
        "scheduler  = torch.optim.lr_scheduler.SequentialLR(optimizer, schedulers=[scheduler1, scheduler2], milestones=[int(warmup_iter)])"
      ]
    },
    {
      "cell_type": "markdown",
      "metadata": {
        "id": "ZHiJhch4KCej"
      },
      "source": [
        "# Part 4: Set Up: Loss Function & Data Generator\n",
        "This section defines the loss function and the training/tesing data generator."
      ]
    },
    {
      "cell_type": "code",
      "execution_count": null,
      "metadata": {
        "id": "AJ2iNO-nKDBW"
      },
      "outputs": [],
      "source": [
        "# Loss functions\n",
        "\n",
        "# Calculate the per-token probability by comparing a batch of prediction \"logits\" to answer \"tokens\"\n",
        "def logits_to_tokens_loss(logits, tokens):\n",
        "  # Addition answer can have one extra digit than question. Answer also has a +/- sign\n",
        "  n_answer_digits = cfg.n_digits+2\n",
        "\n",
        "  # The addition answer digit token probabilities\n",
        "  ans_logits = logits[:, -(n_answer_digits+1):-1]\n",
        "\n",
        "  # Convert raw score (logits) vector into a probability distribution.\n",
        "  # Emphasize the largest scores and suppress the smaller ones, to make them more distinguishable.\n",
        "  ans_probs = F.log_softmax(ans_logits.to(torch.float64), dim=-1)\n",
        "\n",
        "  max_prob_tokens = torch.argmax(ans_probs, dim=-1)\n",
        "\n",
        "  # The addition answer digit tokens\n",
        "  ans_tokens = tokens[:, -(n_answer_digits):]\n",
        "\n",
        "  # Extract values from the ans_probs tensor, based on indices from the ans_tokens tensor\n",
        "  ans_loss = torch.gather(ans_probs, -1, ans_tokens[:, :, None])[..., 0]\n",
        "\n",
        "  return ans_loss, max_prob_tokens\n",
        "\n",
        "\n",
        "# Calculate loss as negative of average per-token mean probability\n",
        "def loss_fn(ans_loss):\n",
        "  return -ans_loss.mean(0)"
      ]
    },
    {
      "cell_type": "code",
      "execution_count": null,
      "metadata": {
        "id": "xUobUMfCkLcs"
      },
      "outputs": [],
      "source": [
        "# Generate an enriched data batch for one operator type\n",
        "# \"Addition\" batch entries are formated XXXXX+YYYYY=+ZZZZZZ e.g. 550030+800020=+1350050\n",
        "# \"Subtraction\" batch entries are formated XXXXX-YYYYY=-ZZZZZZ e.g. 550030-800020=-0249990, 800020-550030=+0249990\n",
        "# \"Multiplication\" batch entries are formated 000XXX*000YYY=+ZZZZZZ e.g. 000345*000678=+233910\n",
        "def data_generator_core( batch_op ):\n",
        "\n",
        "  batch = torch.zeros((cfg.batch_size, cfg.n_ctx())).to(torch.int64)\n",
        "  x = torch.randint(0, 10, (cfg.batch_size, cfg.n_digits))\n",
        "  y = torch.randint(0, 10, (cfg.batch_size, cfg.n_digits))\n",
        "\n",
        "  if batch_op == MULT_INDEX:\n",
        "    # Convert from NNNNNN*NNNNNN= to 000NNN*000NNN= so answer (product) is NNNNNN\n",
        "    num_zeros = cfg.n_digits // 2\n",
        "    for z in range(num_zeros):\n",
        "      x[:, z] = 0\n",
        "      y[:, z] = 0\n",
        "\n",
        "  # Enrich the question data on 60% of batches to speed up training\n",
        "  if ( batch_op == PLUS_INDEX or batch_op == MINUS_INDEX ) and (random.randint(1, 5) < 3):\n",
        "    # Flatten x and y to 1D tensors\n",
        "    x_flat = x.view(-1)\n",
        "    y_flat = y.view(-1)\n",
        "\n",
        "    if batch_op == PLUS_INDEX :\n",
        "      # The UseSum9 task is compound and rare and so hard to learn.\n",
        "      # Increase the MakeSum9 case frequency\n",
        "      # UseSum9 also relies on MakeCarry1 (50%) from previous column.\n",
        "      num_elements_to_modify = int(0.40 * x.numel()) # 40%\n",
        "      indices_to_modify = torch.randperm(x_flat.numel())[:num_elements_to_modify]\n",
        "      if random.randint(1, 2) == 1:\n",
        "        x_flat[indices_to_modify] = 9 - y_flat[indices_to_modify]\n",
        "      else:\n",
        "        y_flat[indices_to_modify] = 9 - x_flat[indices_to_modify]\n",
        "    else:\n",
        "      # Empirically, the model seems to struggle with the sign calculation.\n",
        "      # Minus signs are rarer than positive signs.\n",
        "      # Generate more negative answers by increasing the y value\n",
        "      y_flat[y_flat < 9] += 1\n",
        "\n",
        "    # Reshape x and y back to its original shape\n",
        "    x = x_flat.view(x.shape)\n",
        "    y = y_flat.view(x.shape)\n",
        "\n",
        "\n",
        "  first_answer_index = cfg.first_answer_digit_index()\n",
        "\n",
        "  batch[:, :cfg.n_digits] = x\n",
        "  batch[:, cfg.n_digits] = batch_op\n",
        "  batch[:, 1+cfg.n_digits:1+cfg.n_digits*2] = y\n",
        "  batch[:, first_answer_index-1] = EQUALS_INDEX\n",
        "\n",
        "  # Convert each row into a 5-digit number\n",
        "  x_values = x[:, 0]\n",
        "  y_values = y[:, 0]\n",
        "  for dn in range(1,cfg.n_digits):\n",
        "    x_values = x_values * 10 + x[:, dn]\n",
        "    y_values = y_values * 10 + y[:, dn]\n",
        "\n",
        "  # Elementwise operations to give the 1D tensor answers\n",
        "  if batch_op == MULT_INDEX:\n",
        "    answers = x_values * y_values\n",
        "  else:\n",
        "    if batch_op == MINUS_INDEX:\n",
        "      answers = x_values - y_values\n",
        "    else:\n",
        "      answers = x_values + y_values\n",
        "\n",
        "  # Insert the answers into the batch\n",
        "  for i in range(cfg.batch_size):\n",
        "    answer = answers[i]\n",
        "\n",
        "    sign = PLUS_INDEX\n",
        "    if answer < 0:\n",
        "      sign = MINUS_INDEX\n",
        "      answer = - answer\n",
        "\n",
        "    batch[i, first_answer_index] = sign\n",
        "    for j in range(cfg.n_digits+1):\n",
        "      batch[i, cfg.n_ctx()-j-1] = answer % 10\n",
        "      answer = answer // 10\n",
        "      if answer == 0:\n",
        "          break\n",
        "\n",
        "  return batch"
      ]
    },
    {
      "cell_type": "code",
      "execution_count": null,
      "metadata": {
        "id": "iSp8pS1eKHf6"
      },
      "outputs": [],
      "source": [
        "# Define \"iterator\" data generator function. Invoked using next().\n",
        "def data_generator( ):\n",
        "  torch.manual_seed(cfg.analysis_seed)\n",
        "  while True:\n",
        "\n",
        "    batch_rand = random.randint(1, 100)\n",
        "    batch_op = MULT_INDEX if batch_rand <= cfg.perc_mult else MINUS_INDEX if batch_rand <= cfg.perc_mult + cfg.perc_sub else PLUS_INDEX\n",
        "\n",
        "    batch = data_generator_core( batch_op )\n",
        "\n",
        "    yield batch.cuda()"
      ]
    },
    {
      "cell_type": "code",
      "execution_count": null,
      "metadata": {
        "id": "BqzljhQ4KJU5"
      },
      "outputs": [],
      "source": [
        "# Initialise the data generator\n",
        "ds = data_generator()"
      ]
    },
    {
      "cell_type": "code",
      "execution_count": null,
      "metadata": {
        "id": "YtmioT1THbJA",
        "colab": {
          "base_uri": "https://localhost:8080/"
        },
        "outputId": "a48c2548-9be5-4ec5-ea4d-de86e0c72781"
      },
      "outputs": [
        {
          "output_type": "stream",
          "name": "stdout",
          "text": [
            "tensor([[ 4,  9,  7,  0,  1,  8, 11,  1,  0,  7,  2,  3,  4, 12, 10,  0,  3,  8,\n",
            "          9,  7,  8,  4],\n",
            "        [ 9,  2,  8,  9,  9,  4, 11,  5,  4,  1,  1,  9,  8, 12, 10,  0,  3,  8,\n",
            "          7,  7,  9,  6],\n",
            "        [ 5,  8,  9,  8,  9,  3, 11,  4,  5,  4,  2,  9,  3, 12, 10,  0,  1,  3,\n",
            "          5,  6,  0,  0]], device='cuda:0')\n"
          ]
        }
      ],
      "source": [
        "# Test data generator\n",
        "tokens = next(ds)\n",
        "print(tokens[:3,:])"
      ]
    },
    {
      "cell_type": "markdown",
      "metadata": {
        "id": "-KJhCxFtNKfm"
      },
      "source": [
        "# Part 5: Set Up: Load Model from HuggingFace"
      ]
    },
    {
      "cell_type": "code",
      "execution_count": null,
      "metadata": {
        "id": "fRMkB_8GNRc0",
        "colab": {
          "base_uri": "https://localhost:8080/",
          "referenced_widgets": [
            "fae5a6b06f0d4b65869997e62286eb58",
            "0fb5f299792847f58cb2fd78b19ca7a9",
            "d3b7cfb68f324790a5fb554ffd56323c",
            "8eb2830137bc4320ad066dc62402843b",
            "d8af439794d5487ab7f2bc5142e2b404",
            "a7aaff85c3a84198996e9e5ee8d7ecce",
            "38b7d5281ffb417884691ae08f5ad1fa",
            "56f9d41a3afa492680258afefc414ed9",
            "bcfe7e92b2d7421c887e83d8592a9254",
            "9d92ee56686d4caaa80d8de23db3eb87",
            "6d07b8e4eb9f45f790fc044dbcd25975"
          ]
        },
        "outputId": "3fb4f837-aeae-42e8-e932-a983d38e821e"
      },
      "outputs": [
        {
          "output_type": "stream",
          "name": "stdout",
          "text": [
            "Loading model from HuggingFace PhilipQuirke/Accurate6DigitSubtraction ins1_mix_d6_l3_h4_train40K_seed372001.pth\n"
          ]
        },
        {
          "output_type": "display_data",
          "data": {
            "text/plain": [
              "(…)ns1_mix_d6_l3_h4_train40K_seed372001.pth:   0%|          | 0.00/41.8M [00:00<?, ?B/s]"
            ],
            "application/vnd.jupyter.widget-view+json": {
              "version_major": 2,
              "version_minor": 0,
              "model_id": "fae5a6b06f0d4b65869997e62286eb58"
            }
          },
          "metadata": {}
        },
        {
          "output_type": "execute_result",
          "data": {
            "text/plain": [
              "HookedTransformer(\n",
              "  (embed): Embed()\n",
              "  (hook_embed): HookPoint()\n",
              "  (pos_embed): PosEmbed()\n",
              "  (hook_pos_embed): HookPoint()\n",
              "  (blocks): ModuleList(\n",
              "    (0-2): 3 x TransformerBlock(\n",
              "      (ln1): LayerNorm(\n",
              "        (hook_scale): HookPoint()\n",
              "        (hook_normalized): HookPoint()\n",
              "      )\n",
              "      (ln2): LayerNorm(\n",
              "        (hook_scale): HookPoint()\n",
              "        (hook_normalized): HookPoint()\n",
              "      )\n",
              "      (attn): Attention(\n",
              "        (hook_k): HookPoint()\n",
              "        (hook_q): HookPoint()\n",
              "        (hook_v): HookPoint()\n",
              "        (hook_z): HookPoint()\n",
              "        (hook_attn_scores): HookPoint()\n",
              "        (hook_pattern): HookPoint()\n",
              "        (hook_result): HookPoint()\n",
              "      )\n",
              "      (mlp): MLP(\n",
              "        (hook_pre): HookPoint()\n",
              "        (hook_post): HookPoint()\n",
              "      )\n",
              "      (hook_attn_in): HookPoint()\n",
              "      (hook_q_input): HookPoint()\n",
              "      (hook_k_input): HookPoint()\n",
              "      (hook_v_input): HookPoint()\n",
              "      (hook_mlp_in): HookPoint()\n",
              "      (hook_attn_out): HookPoint()\n",
              "      (hook_mlp_out): HookPoint()\n",
              "      (hook_resid_pre): HookPoint()\n",
              "      (hook_resid_mid): HookPoint()\n",
              "      (hook_resid_post): HookPoint()\n",
              "    )\n",
              "  )\n",
              "  (ln_final): LayerNorm(\n",
              "    (hook_scale): HookPoint()\n",
              "    (hook_normalized): HookPoint()\n",
              "  )\n",
              "  (unembed): Unembed()\n",
              ")"
            ]
          },
          "metadata": {},
          "execution_count": 713
        }
      ],
      "source": [
        "main_repo_name=\"PhilipQuirke/Accurate6DigitSubtraction\"\n",
        "print(\"Loading model from HuggingFace\", main_repo_name, main_fname_pth)\n",
        "\n",
        "main_model.load_state_dict(utils.download_file_from_hf(repo_name=main_repo_name, file_name=main_fname_pth, force_is_torch=True))\n",
        "main_model.eval()"
      ]
    },
    {
      "cell_type": "markdown",
      "metadata": {
        "id": "fGxoBWHNKRf0"
      },
      "source": [
        "# Part 6A: Set Up: Quanta types supported\n",
        "\n",
        "For each node we evaluate a range of quanta"
      ]
    },
    {
      "cell_type": "code",
      "execution_count": null,
      "metadata": {
        "id": "lr4OZri5sq1S"
      },
      "outputs": [],
      "source": [
        "# Token position tag\n",
        "POSITION_MAJOR_TAG = \"Position\"\n",
        "\n",
        "\n",
        "# What % of questions failed when we ablated a specific node. A low percentage indicates a less common use case\n",
        "FAIL_MAJOR_TAG = \"FailPerc\"\n",
        "\n",
        "\n",
        "# What input tokens digits (e.g. \"D'3\") are attended to by a specific node.\n",
        "ATTENTION_MAJOR_TAG = \"Attn\"\n",
        "\n",
        "\n",
        "# What answer digits (e.g. \"A543\") were impacted when we ablated a specific node.\n",
        "IMPACT_MAJOR_TAG = \"Impact\"\n",
        "\n",
        "NO_IMPACT_TAG = \"(none)\"\n",
        "\n",
        "\n",
        "# What mathematical operation was in the question being ablated?\n",
        "ADDITION_MAJOR_TAG = \"Complexity.Add\"\n",
        "SUBTRACTION_MAJOR_TAG = \"Complexity.Sub\"\n",
        "VARIED_MAJOR_TAG = \"Complexity.Varied\" # Uknown\n",
        "# Addition operation \"complexity\" minor tags\n",
        "COMPLEXITY_S0_TAG = \"S0\"\n",
        "COMPLEXITY_S1_TAG = \"S1\"\n",
        "COMPLEXITY_S2_TAG = \"S2\"\n",
        "COMPLEXITY_S3_TAG = \"S3\"\n",
        "COMPLEXITY_S4_TAG = \"S4\"\n",
        "COMPLEXITY_S5_TAG = \"S5\"\n",
        "# Subtraction operation \"complexity\" minor tags\n",
        "COMPLEXITY_M0_TAG = \"M0\"\n",
        "COMPLEXITY_M1_TAG = \"M1\"\n",
        "COMPLEXITY_M2_TAG = \"M2\"\n",
        "COMPLEXITY_M3_TAG = \"M3\"\n",
        "COMPLEXITY_NG_TAG = \"NG\"\n",
        "\n",
        "\n",
        "# What algorithmic purpose is this node serving?\n",
        "ALGORITHM_MAJOR_TAG = \"Algorithm\"\n",
        "ALGORITHM_BA_TAG = \"BA\" # Base Add (Dn, D'n)\n",
        "ALGORITHM_MC_TAG = \"MC\" # MakeCarry (Dn, D'n)\n",
        "ALGORITHM_C_TAG = \"C\" # TriCase (Dn, D'n)"
      ]
    },
    {
      "cell_type": "markdown",
      "source": [
        "# Part 6B: Set up: Evaluate answer-digit Impact quanta e.g. \"A654\""
      ],
      "metadata": {
        "id": "eifot6PnGgXn"
      }
    },
    {
      "cell_type": "code",
      "execution_count": null,
      "metadata": {
        "id": "wZXEfGBMLPFW"
      },
      "outputs": [],
      "source": [
        "# Compare each digit in the answer. Returns a A645 pattern where '4' means a failed 4th digit. A \"-\" sign failure is shown as \"A7\"\n",
        "def get_answer_impact_meaning_str(answer1_str, answer2_str):\n",
        "\n",
        "  impact = \"\"\n",
        "  sign_offset = cfg.first_answer_digit_index()\n",
        "  for i in range(cfg.n_digits+2):\n",
        "    impact += \"\" if answer2_str[i] == answer1_str[i] else token_position_meanings[sign_offset + i]\n",
        "\n",
        "  if impact == \"\":\n",
        "    return \"\"\n",
        "\n",
        "  impact = impact.replace(\"A\", \"\")\n",
        "  char_list = list(impact)\n",
        "  char_list = sorted(char_list, reverse=True)\n",
        "  impact = ''.join(char_list)\n",
        "\n",
        "  assert not 'D' in impact\n",
        "\n",
        "  return \"A\" + impact\n",
        "\n",
        "\n",
        "# Compare each digit in the answer. Returns a A645 pattern where '4' means a failed 4th digit. Can fail on the \"-\" sign.\n",
        "def get_answer_impact_meaning(question_and_answer, answer_str2):\n",
        "\n",
        "  answer1_str = tokens_to_string(question_and_answer[-(cfg.n_digits+2):])\n",
        "\n",
        "  return get_answer_impact_meaning_str(answer1_str, answer_str2)"
      ]
    },
    {
      "cell_type": "markdown",
      "source": [
        "# Part 6C: Set Up: Create sample questions by Complexity Quanta\n",
        "\n",
        "Sets of sample questions by complexity quanta"
      ],
      "metadata": {
        "id": "I-yFKiDllqEf"
      }
    },
    {
      "cell_type": "code",
      "execution_count": null,
      "metadata": {
        "id": "oj_xSuSSKR9t"
      },
      "outputs": [],
      "source": [
        "# Insert a number into the question\n",
        "def insert_question_number(the_question, index, first_digit_index, the_digits, n):\n",
        "\n",
        "  last_digit_index = first_digit_index + the_digits - 1\n",
        "\n",
        "  for j in range(the_digits):\n",
        "    the_question[index, last_digit_index-j] = n % 10\n",
        "    n = n // 10\n",
        "\n",
        "\n",
        "# Create a single question\n",
        "def make_a_question(the_question, index, q1, q2, operator ):\n",
        "\n",
        "  insert_question_number(the_question, index, 0, cfg.n_digits, q1)\n",
        "\n",
        "  the_question[index, cfg.n_digits] = operator\n",
        "\n",
        "  insert_question_number( the_question, index, cfg.n_digits+1, cfg.n_digits, q2)\n",
        "\n",
        "  the_question[index, 2*cfg.n_digits+1] = EQUALS_INDEX\n",
        "\n",
        "  answer = q1+q2\n",
        "  if operator == MINUS_INDEX:\n",
        "    answer = q1-q2\n",
        "  else:\n",
        "    if operator == MULT_INDEX:\n",
        "      answer = q1*q2\n",
        "\n",
        "  the_question[index, 2*cfg.n_digits+2] = PLUS_INDEX if answer >= 0 else MINUS_INDEX\n",
        "  if answer < 0:\n",
        "    answer = -answer\n",
        "\n",
        "  insert_question_number(the_question, index, 2*cfg.n_digits + 3, cfg.n_digits+1, answer)\n",
        "\n",
        "\n",
        "# Create a batch of questions from a 2D matrix of ints\n",
        "def make_questions(operator, q_matrix):\n",
        "  max_len = len(q_matrix)\n",
        "  real_len = 0\n",
        "  questions = torch.zeros((max_len, cfg.n_ctx())).to(torch.int64)\n",
        "  limit = 10 ** cfg.n_digits\n",
        "\n",
        "  for i in range(max_len):\n",
        "    a = q_matrix[i][0]\n",
        "    b = q_matrix[i][1]\n",
        "\n",
        "    if a < limit and b < limit:\n",
        "      make_a_question(questions, real_len, a, b, operator)\n",
        "      real_len += 1\n",
        "\n",
        "  return questions[:real_len]"
      ]
    },
    {
      "cell_type": "code",
      "execution_count": null,
      "metadata": {
        "id": "nRCPyETTKaEs"
      },
      "outputs": [],
      "source": [
        "# Manually create some questions that strongly test one quanta\n",
        "\n",
        "\n",
        "# Make BaseAdd questions\n",
        "def make_s0_questions():\n",
        "    return ADDITION_MAJOR_TAG, COMPLEXITY_S0_TAG, make_questions( PLUS_INDEX,\n",
        "      [[0, 0],\n",
        "      [1, 3],\n",
        "      [12345, 33333],\n",
        "      [33333, 12345],\n",
        "      [45762, 33113],\n",
        "      [888, 11111],\n",
        "      [2362, 23123],\n",
        "      [15, 81],\n",
        "      [1000, 4441],\n",
        "      [4440, 11111],\n",
        "      [24033, 25133],\n",
        "      [23533, 21133],\n",
        "      [32500, 1],\n",
        "      [31500, 1111],\n",
        "      [5500, 12323],\n",
        "      [4500, 2209],\n",
        "      [33345, 66643], # =099988\n",
        "      [66643, 33345], # =099988\n",
        "      [10770, 44111],\n",
        "      [60000, 31111],\n",
        "      [10000, 21111],\n",
        "      [107700, 441111],\n",
        "      [600000, 311111],\n",
        "      [100000, 211111],\n",
        "      [1077000, 4411111],\n",
        "      [6000000, 3111111],\n",
        "      [1000000, 2111111],\n",
        "      [10770000, 44111111],\n",
        "      [60000000, 3111111],\n",
        "      [10000000, 2111111]])\n",
        "\n",
        "# Make UseCarry1 (addition) questions\n",
        "def make_s1_questions():\n",
        "    return ADDITION_MAJOR_TAG, COMPLEXITY_S1_TAG, make_questions( PLUS_INDEX,\n",
        "      [[ 15, 45],\n",
        "      [ 27, 55],\n",
        "      [ 35, 59],\n",
        "      [ 150, 451],\n",
        "      [ 270, 551],\n",
        "      [ 350, 591],\n",
        "      [ 1500, 4511],\n",
        "      [ 2700, 5511],\n",
        "      [ 3500, 5911],\n",
        "      [ 40035, 41149],\n",
        "      # [ 44000, 46000], D6 L1 H3 model cant handle this.\n",
        "      [ 70000, 41111],\n",
        "      [ 15000, 25111],\n",
        "      [ 35000, 35111],\n",
        "      [ 45000, 35111],\n",
        "      [ 67000, 25111],\n",
        "      [ 19000, 76111],\n",
        "      [ 15020, 45091],\n",
        "      [ 25002, 55019],\n",
        "      [ 35002, 59019],\n",
        "      [ 150211, 450911],\n",
        "      [ 250021, 550191],\n",
        "      [ 350021, 590191],\n",
        "      [ 1502111, 4509111],\n",
        "      [ 2500211, 5501911],\n",
        "      [ 3500211, 5901911],\n",
        "      [ 15021111, 45091111],\n",
        "      [ 25002111, 55019111],\n",
        "      [ 35002111, 59019111]])\n",
        "\n",
        "\n",
        "# Make SimpleUseSum9 (addition) questions\n",
        "def make_s2_questions():\n",
        "    return ADDITION_MAJOR_TAG,COMPLEXITY_S2_TAG, make_questions( PLUS_INDEX,\n",
        "      [[ 55, 45],\n",
        "      [ 45, 55],\n",
        "      [ 45, 59],\n",
        "      [ 35, 69],\n",
        "      [ 25, 79],\n",
        "      [ 15, 85],\n",
        "      [ 15, 88],\n",
        "      [ 15518, 14511],\n",
        "      [ 14518, 15511],\n",
        "      [ 24533, 25933],\n",
        "      [ 23533, 26933],\n",
        "      [ 32511, 7911],\n",
        "      [ 31511, 8511],\n",
        "      [ 551, 451],\n",
        "      [ 451, 551],\n",
        "      [ 10881, 41127],\n",
        "      [ 41127, 10881],\n",
        "      [ 12386, 82623],\n",
        "      [ 108811, 411271],\n",
        "      [ 411271, 108811],\n",
        "      [ 123861, 826231],\n",
        "      [ 994890, 80105],\n",
        "      [ 970590, 96026],\n",
        "      [ 994890, 80105],\n",
        "      [ 970590, 96026],\n",
        "      [ 1088111, 4112711],\n",
        "      [ 4112711, 1088111],\n",
        "      [ 1238611, 8262311],\n",
        "      [ 10881111, 41127111],\n",
        "      [ 41127111, 10881111],\n",
        "      [ 12386111, 82623111]])\n",
        "\n",
        "# These are two level UseSum9 cascades\n",
        "def make_s3_questions():\n",
        "    return ADDITION_MAJOR_TAG, COMPLEXITY_S3_TAG, make_questions( PLUS_INDEX,\n",
        "      [[ 555, 445],\n",
        "      [ 3340, 6661],\n",
        "      [ 8880, 1121],\n",
        "      [ 1120, 8881],\n",
        "      [ 123, 877],\n",
        "      [ 877, 123],\n",
        "      [ 321, 679],\n",
        "      [ 679, 321],\n",
        "      [ 1283, 78785]])\n",
        "\n",
        "\n",
        "# These are three level UseSum9 cascades\n",
        "def make_s4_questions():\n",
        "    return ADDITION_MAJOR_TAG, COMPLEXITY_S4_TAG, make_questions( PLUS_INDEX,\n",
        "      [[ 5555, 4445],\n",
        "      [ 55550, 44451],\n",
        "      [ 3334, 6666],\n",
        "      [ 33340, 66661],\n",
        "      [ 8888, 1112],\n",
        "      [ 88880, 11121],\n",
        "      [ 1234, 8766],\n",
        "      [ 4321, 5679]])\n",
        "\n",
        "\n",
        "# These are four level UseSum9 cascades\n",
        "def make_s5_questions():\n",
        "    return ADDITION_MAJOR_TAG, COMPLEXITY_S5_TAG, make_questions( PLUS_INDEX,\n",
        "      [[ 44445, 55555],\n",
        "      [ 33334, 66666],\n",
        "      [ 88888, 11112],\n",
        "      [ 12345, 87655],\n",
        "      [ 54321, 45679],\n",
        "      [ 45545, 54455],\n",
        "      [ 36634, 63366],\n",
        "      [ 81818, 18182],\n",
        "      [ 87345, 12655],\n",
        "      [ 55379, 44621]])\n",
        "\n",
        "\n",
        "# Make questions focus mainly on 1 digit at a time\n",
        "# (assuming that the 0 + 0 digit additions/subtractions are trivial bigrams)\n",
        "def make_sn_questions():\n",
        "    return ADDITION_MAJOR_TAG, \"S*\", make_questions( PLUS_INDEX,\n",
        "      [[ 1, 0],\n",
        "      [ 4, 3],\n",
        "      [ 5, 5],\n",
        "      [ 8, 1],\n",
        "      [ 40, 31],\n",
        "      [ 44, 46],\n",
        "      [ 400, 311],\n",
        "      [ 440, 461],\n",
        "      [ 800, 111],\n",
        "      [ 270, 471],\n",
        "      [ 600, 311],\n",
        "      [ 4000, 3111],\n",
        "      [ 4400, 4611],\n",
        "      [ 6000, 3111],\n",
        "      [ 7000, 4111],\n",
        "      [ 40000, 31111],\n",
        "      [ 44000, 45111],\n",
        "      [ 60000, 31111],\n",
        "      [ 70000, 41111],\n",
        "      [ 10000, 21111],\n",
        "      [ 15000, 25111],\n",
        "      [ 35000, 35111],\n",
        "      [ 45000, 85111],\n",
        "      [ 67000, 85111],\n",
        "      [ 99000, 76111],\n",
        "      [ 76000, 99111],\n",
        "      [ 670000, 851111],\n",
        "      [ 990000, 761111],\n",
        "      [ 760000, 991111],\n",
        "      [ 6700000, 8511111],\n",
        "      [ 9900000, 7611111],\n",
        "      [ 7600000, 9911111],\n",
        "      [ 67000000, 85111111],\n",
        "      [ 99000000, 76111111],\n",
        "      [ 76000000, 99111111]])\n",
        "\n",
        "\n",
        "# Make M0 questions - when no column generates a Borrow One. Answer is always positive (or zero).\n",
        "def make_m0_questions():\n",
        "    return SUBTRACTION_MAJOR_TAG, COMPLEXITY_M0_TAG, make_questions( MINUS_INDEX,\n",
        "      [[0, 0],\n",
        "      [6, 6],\n",
        "      [61, 60],\n",
        "      [611, 600],\n",
        "      [6111, 6000],\n",
        "      [61111, 60000],\n",
        "      [611111, 600000],\n",
        "      [6111111, 6000000],\n",
        "      [61111111, 60000000],\n",
        "      [66666, 12345],\n",
        "      [33333, 12321],\n",
        "      [45762, 34551],\n",
        "      [78901, 78901], # = +000000\n",
        "      [23123, 23123], # = +000000\n",
        "      [86, 15],\n",
        "      [4440, 1230],\n",
        "      [88746, 86544],\n",
        "      [27833, 25133],\n",
        "      [23533, 21133],\n",
        "      [32501, 1],\n",
        "      [31511, 1111],\n",
        "      [55555, 12323],\n",
        "      [45454, 22022],\n",
        "      [66643, 3341],\n",
        "      [66643, 30042],\n",
        "      [99999, 44012],\n",
        "      [61111, 30000],\n",
        "      [99111, 99111], # = +000000\n",
        "      [999991, 440120],\n",
        "      [611111, 300000],\n",
        "      [991111, 991111], # = +0000000\n",
        "      [9999911, 4401200],\n",
        "      [6111111, 3000000],\n",
        "      [9911111, 9911111], # = +00000000\n",
        "      [99999111, 44012000],\n",
        "      [61111111, 30000000],\n",
        "      [99111111, 99111111]]) # = +000000000\n",
        "\n",
        "# Make subtraction M1 questions with exactly one \"borrow 1\" instance. Answer is always positive.\n",
        "def make_m1_questions():\n",
        "    return SUBTRACTION_MAJOR_TAG, COMPLEXITY_M1_TAG, make_questions( MINUS_INDEX,\n",
        "      [[22222, 11113],\n",
        "      [ 22222, 11131],\n",
        "      [ 22222, 11311],\n",
        "      [ 22222, 13111],\n",
        "      [    14,     8],\n",
        "      [   141,    80],\n",
        "      [  1411,   800],\n",
        "      [ 14111,  8000],\n",
        "      [ 55514, 11108],\n",
        "      [ 55141, 11080],\n",
        "      [ 51411, 10800],\n",
        "      [ 140111,  8000],\n",
        "      [ 88888, 22229],\n",
        "      [ 77777, 22292],\n",
        "      [ 66666, 22922],\n",
        "      [ 888888, 222292],\n",
        "      [ 777777, 222922],\n",
        "      [ 666666, 229222],\n",
        "      [ 8888888, 2222922],\n",
        "      [ 7777777, 2229222],\n",
        "      [ 6666666, 2292222],\n",
        "      [ 88888888, 22229222],\n",
        "      [ 77777777, 22292222],\n",
        "      [ 66666666, 22922222]])\n",
        "\n",
        "# Make subtraction M2 questions containing B1 and DZ. Answer is always positive (or zero).\n",
        "def make_m2_questions():\n",
        "    return SUBTRACTION_MAJOR_TAG, COMPLEXITY_M2_TAG, make_questions( MINUS_INDEX,\n",
        "      [[22212, 11113],\n",
        "      [ 22122, 11131],\n",
        "      [ 21222, 11311],\n",
        "      [   904,     8],\n",
        "      [  9041,    80],\n",
        "      [ 90411,   800],\n",
        "      [ 55514, 11118],\n",
        "      [ 55141, 11180],\n",
        "      [ 51411, 11800],\n",
        "      [ 88888, 22289],\n",
        "      [ 77777, 22792],\n",
        "      [ 66666, 26922],\n",
        "      [ 888888, 222892],\n",
        "      [ 777777, 227922],\n",
        "      [ 666666, 269222],\n",
        "      [ 8888888, 2228922],\n",
        "      [ 7777777, 2279222],\n",
        "      [ 6666666, 2692222],\n",
        "      [ 88888888, 22289222],\n",
        "      [ 77777777, 22792222],\n",
        "      [ 66666666, 26922222]])\n",
        "\n",
        "\n",
        "# Make subtraction M3,M4,... questions containing B1 and multiple DZs. Answer is always positive (or zero).\n",
        "def make_m3_questions():\n",
        "    return SUBTRACTION_MAJOR_TAG, COMPLEXITY_M3_TAG, make_questions( MINUS_INDEX,\n",
        "      [[22112, 11113],\n",
        "      [ 21122, 11131],\n",
        "      [ 99004,     8],\n",
        "      [ 90041,    80],\n",
        "      [ 55114, 11118],\n",
        "      [ 51140, 11180],\n",
        "      [ 88888, 22889],\n",
        "      [ 87777, 27792],\n",
        "      [ 888888, 228892],\n",
        "      [ 877777, 277922],\n",
        "      [ 8888888, 2288922],\n",
        "      [ 7777777, 2779222],\n",
        "      [ 88888888, 22889222],\n",
        "      [ 77777777, 28892222]])\n",
        "\n",
        "\n",
        "# Make subtraction questions with negative answers\n",
        "def make_ng_questions():\n",
        "    return SUBTRACTION_MAJOR_TAG, COMPLEXITY_NG_TAG, make_questions( MINUS_INDEX,\n",
        "      [[0, 1],\n",
        "      [7, 9],\n",
        "      [12345, 33333],\n",
        "      [888, 11111],\n",
        "      [2362, 23123],\n",
        "      [15, 81],\n",
        "      [1111, 4440],\n",
        "      [24033, 25133],\n",
        "      [23533, 88133],\n",
        "      [5511, 12323],\n",
        "      [4511, 22209],\n",
        "      [ 88888, 88889],\n",
        "      [ 55555, 55556],\n",
        "      [ 88881, 88891],\n",
        "      [ 55551, 55561],\n",
        "      [ 88811, 88911],\n",
        "      [ 55511, 55611],\n",
        "      [ 88746, 89544],\n",
        "      [ 27833, 29133],\n",
        "      [ 23533, 23833],\n",
        "      [ 31511, 41111],\n",
        "      [ 55555, 62323],\n",
        "      [ 45454, 72022],\n",
        "      [ 66643, 73341],\n",
        "      [ 66643, 90042],\n",
        "      [ 99998, 99999],\n",
        "      [ 8, 12],\n",
        "      [ 41, 232],\n",
        "      [ 44, 523],\n",
        "      [ 234, 334],\n",
        "      [ 7777, 8434],\n",
        "      [ 88888, 92222],\n",
        "      [ 77777, 84340],\n",
        "      [ 888888, 922220],\n",
        "      [ 777777, 843400],\n",
        "      [ 8888888, 9222200],\n",
        "      [ 7777777, 8434000],\n",
        "      [ 88888888, 92222000],\n",
        "      [ 77777777, 84340000]])\n",
        "\n",
        "\n",
        "def make_addition_questions():\n",
        "  _, _, s0 = make_s0_questions()\n",
        "  _, _, s1 = make_s1_questions()\n",
        "  _, _, s2 = make_s2_questions()\n",
        "  _, _, s3 = make_s3_questions()\n",
        "  _, _, s4 = make_s4_questions()\n",
        "  _, _, s5 = make_s5_questions()\n",
        "  _, _, s6 = make_sn_questions()\n",
        "\n",
        "  return ADDITION_MAJOR_TAG, \"S*\", torch.vstack((s0.cuda(), s1.cuda(), s2.cuda(), s3.cuda(), s4.cuda(), s5.cuda(), s6.cuda()))\n",
        "\n",
        "\n",
        "def make_subtraction_questions():\n",
        "  _, _, m0 = make_m0_questions()\n",
        "  _, _, m1 = make_m1_questions()\n",
        "  _, _, m2 = make_m2_questions()\n",
        "  _, _, m3 = make_m3_questions()\n",
        "  _, _, m4 = make_ng_questions()\n",
        "\n",
        "  return SUBTRACTION_MAJOR_TAG, \"M*\", torch.vstack((m0.cuda(), m1.cuda(), m2.cuda(), m3.cuda(), m4.cuda()))\n",
        "\n",
        "\n",
        "v0 = next(ds) # Could be Add, Sub or Mult\n",
        "v1 = next(ds) # Could be Add, Sub or Mult\n",
        "if cfg.perc_add() > 0 and cfg.perc_sub > 0 :\n",
        "  v0 = data_generator_core( PLUS_INDEX )\n",
        "  v1 = data_generator_core( MINUS_INDEX )\n",
        "\n",
        "\n",
        "# Returns ~1000 random and up to ~150 manually-chosen questions\n",
        "def make_varied_questions():\n",
        "  if cfg.perc_mult == 100 :\n",
        "    return VARIED_MAJOR_TAG, \"All\", torch.vstack((v0.cuda(), v1.cuda()))\n",
        "\n",
        "  _, _, s0 = make_s0_questions()\n",
        "  _, _, s1 = make_s1_questions()\n",
        "  _, _, s2 = make_s2_questions()\n",
        "  _, _, s3 = make_s3_questions()\n",
        "  _, _, s4 = make_s4_questions()\n",
        "  _, _, s5 = make_s5_questions()\n",
        "  _, _, s6 = make_sn_questions()\n",
        "\n",
        "  _, _, m0 = make_m0_questions()\n",
        "  _, _, m1 = make_m1_questions()\n",
        "  _, _, m2 = make_m2_questions()\n",
        "  _, _, m3 = make_m3_questions()\n",
        "  _, _, m4 = make_ng_questions()\n",
        "\n",
        "  if cfg.perc_add() == 100 :\n",
        "    return ADDITION_MAJOR_TAG, \"S*\", torch.vstack((v0.cuda(), s0.cuda(), s1.cuda(), s2.cuda(), s3.cuda(), s4.cuda(), v1.cuda()))\n",
        "\n",
        "  if cfg.perc_sub == 100 :\n",
        "    return SUBTRACTION_MAJOR_TAG, \"M*\", torch.vstack((v0.cuda(), m0.cuda(), m1.cuda(), m2.cuda(), m3.cuda(), m4.cuda(), v1.cuda()))\n",
        "\n",
        "  return VARIED_MAJOR_TAG, \"All\", torch.vstack((v0.cuda(), s0.cuda(), m0.cuda(), s1.cuda(), m1.cuda(), s2.cuda(), m2.cuda(), s3.cuda(), m3.cuda(), s4.cuda(), m4.cuda(), s5.cuda(), s6.cuda(), v1.cuda()))"
      ]
    },
    {
      "cell_type": "markdown",
      "metadata": {
        "id": "FyK7QeUjLLFm"
      },
      "source": [
        "# Part 6D: Set Up: Evaluate mathematical Complexity quanta e.g. Add.S2, Sub.M1\n",
        "\n",
        "Functions to evaluate the question \"mathematical complexity\" of questions"
      ]
    },
    {
      "cell_type": "code",
      "execution_count": null,
      "metadata": {
        "id": "0xiOHRfGKW-W"
      },
      "outputs": [],
      "source": [
        "# Analyse and return the complexity quanta for the Addition (S0 to S4+) or Subtraction (M0 to NG) questions\n",
        "def get_question_complexity(question):\n",
        "  qlist = utils.to_numpy(question)\n",
        "  inputs = qlist[:2*cfg.n_digits+2]\n",
        "  operator = qlist[cfg.n_digits]\n",
        "\n",
        "  if operator == PLUS_INDEX:\n",
        "\n",
        "    # Locate the MC and MS digits (if any)\n",
        "    mc = torch.zeros(cfg.n_digits).to(torch.int64)\n",
        "    ms = torch.zeros(cfg.n_digits).to(torch.int64)\n",
        "    for dn in range(cfg.n_digits):\n",
        "      if inputs[dn] + inputs[dn + cfg.n_digits + 1] == 9:\n",
        "        ms[cfg.n_digits-1-dn] = 1\n",
        "      if inputs[dn] + inputs[dn + cfg.n_digits +1] > 9:\n",
        "        mc[cfg.n_digits-1-dn] = 1\n",
        "\n",
        "    if torch.sum(mc) == 0:\n",
        "      return ADDITION_MAJOR_TAG, COMPLEXITY_S0_TAG\n",
        "\n",
        "    if torch.sum(ms) == 0:\n",
        "      return ADDITION_MAJOR_TAG, COMPLEXITY_S1_TAG\n",
        "\n",
        "    for dn in range(cfg.n_digits-4):\n",
        "      if mc[dn] == 1 and ms[dn+1] == 1 and ms[dn+2] == 1 and ms[dn+3] == 1 and ms[dn+4] == 1:\n",
        "        return ADDITION_MAJOR_TAG, COMPLEXITY_S5_TAG # MC cascades 4 or more digits\n",
        "\n",
        "    for dn in range(cfg.n_digits-3):\n",
        "      if mc[dn] == 1 and ms[dn+1] == 1 and ms[dn+2] == 1 and ms[dn+3] == 1:\n",
        "        return ADDITION_MAJOR_TAG, COMPLEXITY_S4_TAG # MC cascades 3 or more digits\n",
        "\n",
        "    for dn in range(cfg.n_digits-2):\n",
        "      if mc[dn] == 1 and ms[dn+1] == 1 and ms[dn+2] == 1:\n",
        "        return ADDITION_MAJOR_TAG, COMPLEXITY_S3_TAG # MC cascades 2 or more digits\n",
        "\n",
        "    for dn in range(cfg.n_digits-1):\n",
        "      if mc[dn] == 1 and ms[dn+1] == 1:\n",
        "        return ADDITION_MAJOR_TAG, COMPLEXITY_S2_TAG # Simple US 9\n",
        "\n",
        "    return ADDITION_MAJOR_TAG, COMPLEXITY_S1_TAG\n",
        "\n",
        "\n",
        "  if operator == MINUS_INDEX:\n",
        "    a = tokens_to_unsigned_int( question, 0, cfg.n_digits )\n",
        "    b = tokens_to_unsigned_int( question, cfg.n_digits + 1, cfg.n_digits )\n",
        "    if a - b < 0:\n",
        "      return SUBTRACTION_MAJOR_TAG, COMPLEXITY_NG_TAG\n",
        "\n",
        "    # Locate the B1 and MZ digits (if any)\n",
        "    b1 = torch.zeros(cfg.n_digits).to(torch.int64)\n",
        "    mz = torch.zeros(cfg.n_digits).to(torch.int64)\n",
        "    for dn in range(cfg.n_digits):\n",
        "      if inputs[dn] - inputs[dn + cfg.n_digits + 1] < 0:\n",
        "        b1[cfg.n_digits-1-dn] = 1\n",
        "      if inputs[dn] - inputs[dn + cfg.n_digits +1] == 0:\n",
        "        mz[cfg.n_digits-1-dn] = 1\n",
        "\n",
        "    # Evaluate BaseSub questions - when no column generates a Borrow One\n",
        "    if torch.sum(b1) == 0:\n",
        "      return SUBTRACTION_MAJOR_TAG, COMPLEXITY_M0_TAG\n",
        "\n",
        "    # Evaluate subtraction \"cascade multiple steps\" questions\n",
        "    for dn in range(cfg.n_digits-3):\n",
        "      if b1[dn] == 1 and mz[dn+1] == 1 and mz[dn+2] == 1 and mz[dn+3] == 1:\n",
        "        return SUBTRACTION_MAJOR_TAG, \"M4+\" # B1 cascades 3 or more digits\n",
        "\n",
        "    # Evaluate subtraction \"cascade multiple steps\" questions\n",
        "    for dn in range(cfg.n_digits-2):\n",
        "      if b1[dn] == 1 and mz[dn+1] == 1 and mz[dn+2] == 1:\n",
        "        return SUBTRACTION_MAJOR_TAG, COMPLEXITY_M3_TAG # B1 cascades 2 or more digits\n",
        "\n",
        "    # Evaluate subtraction \"cascade 1\" questions\n",
        "    for dn in range(cfg.n_digits-1):\n",
        "      if b1[dn] == 1 and mz[dn+1] == 1:\n",
        "        return SUBTRACTION_MAJOR_TAG, COMPLEXITY_M2_TAG # B1 cascades 1 digit\n",
        "\n",
        "    return SUBTRACTION_MAJOR_TAG, COMPLEXITY_M1_TAG\n",
        "\n",
        "\n",
        "  # Should never get here\n",
        "  print(\"get_question_complexity OP? exception\", question)\n",
        "  return VARIED_MAJOR_TAG, \"OP?\""
      ]
    },
    {
      "cell_type": "code",
      "execution_count": null,
      "metadata": {
        "id": "Xg1z2-YdkWHO",
        "colab": {
          "base_uri": "https://localhost:8080/"
        },
        "outputId": "a1c3e4f6-40bb-45c1-85c5-8e10c2a58801"
      },
      "outputs": [
        {
          "output_type": "stream",
          "name": "stdout",
          "text": [
            "Complexity.Add:S0 #Questions= 24\n",
            "Complexity.Add:S1 #Questions= 22\n",
            "Complexity.Add:S2 #Questions= 25\n",
            "Complexity.Add:S3 #Questions= 9\n",
            "Complexity.Add:S4 #Questions= 8\n",
            "Complexity.Add:S5 #Questions= 10\n",
            "Complexity.Sub:M0 #Questions= 29\n",
            "Complexity.Sub:M1 #Questions= 18\n",
            "Complexity.Sub:M2 #Questions= 15\n",
            "Complexity.Sub:M3 #Questions= 10\n",
            "Complexity.Sub:NG #Questions= 35\n"
          ]
        }
      ],
      "source": [
        "def unit_test_quanta_core(make_questions):\n",
        "  correct_major_tag, correct_complexity, questions = make_questions()\n",
        "  num_questions = questions.shape[0]\n",
        "  print( correct_major_tag + \":\" + correct_complexity, \"#Questions=\", num_questions)\n",
        "\n",
        "  for i in range(num_questions):\n",
        "    major_tag, complexity = get_question_complexity(questions[i])\n",
        "    if major_tag != correct_major_tag or complexity != correct_complexity:\n",
        "      print( \"Complexity mismatch:\", correct_major_tag, major_tag, correct_complexity, complexity, questions[i])\n",
        "\n",
        "\n",
        "# Test that our \"sample questions by quanta\" and \"question quanta evaluation\" are aligned.\n",
        "# If this fails, either the sample questions or the evaluation is buggy.\n",
        "def unit_test_quanta():\n",
        "  unit_test_quanta_core(make_s0_questions)\n",
        "  unit_test_quanta_core(make_s1_questions)\n",
        "  unit_test_quanta_core(make_s2_questions)\n",
        "  unit_test_quanta_core(make_s3_questions)\n",
        "  unit_test_quanta_core(make_s4_questions)\n",
        "  unit_test_quanta_core(make_s5_questions)\n",
        "\n",
        "  unit_test_quanta_core(make_m0_questions)\n",
        "  unit_test_quanta_core(make_m1_questions)\n",
        "  unit_test_quanta_core(make_m2_questions)\n",
        "  unit_test_quanta_core(make_m3_questions)\n",
        "  unit_test_quanta_core(make_ng_questions)\n",
        "\n",
        "\n",
        "unit_test_quanta()"
      ]
    },
    {
      "cell_type": "markdown",
      "metadata": {
        "id": "D6FwJW0tv4Nf"
      },
      "source": [
        "# Part 8A: Set Up: Question prediction function\n",
        "\n",
        "Create sets of sample questions exercising different quanta"
      ]
    },
    {
      "cell_type": "code",
      "execution_count": null,
      "metadata": {
        "id": "9RHrsjKqKhR4",
        "colab": {
          "base_uri": "https://localhost:8080/"
        },
        "outputId": "75ad72ba-7ff0-4b12-c7db-0e7755a17c64"
      },
      "outputs": [
        {
          "output_type": "stream",
          "name": "stdout",
          "text": [
            "ActivationCache with keys ['hook_embed', 'hook_pos_embed', 'blocks.0.hook_resid_pre', 'blocks.0.ln1.hook_scale', 'blocks.0.ln1.hook_normalized', 'blocks.0.attn.hook_q', 'blocks.0.attn.hook_k', 'blocks.0.attn.hook_v', 'blocks.0.attn.hook_attn_scores', 'blocks.0.attn.hook_pattern', 'blocks.0.attn.hook_z', 'blocks.0.attn.hook_result', 'blocks.0.hook_attn_out', 'blocks.0.hook_resid_mid', 'blocks.0.ln2.hook_scale', 'blocks.0.ln2.hook_normalized', 'blocks.0.mlp.hook_pre', 'blocks.0.mlp.hook_post', 'blocks.0.hook_mlp_out', 'blocks.0.hook_resid_post', 'blocks.1.hook_resid_pre', 'blocks.1.ln1.hook_scale', 'blocks.1.ln1.hook_normalized', 'blocks.1.attn.hook_q', 'blocks.1.attn.hook_k', 'blocks.1.attn.hook_v', 'blocks.1.attn.hook_attn_scores', 'blocks.1.attn.hook_pattern', 'blocks.1.attn.hook_z', 'blocks.1.attn.hook_result', 'blocks.1.hook_attn_out', 'blocks.1.hook_resid_mid', 'blocks.1.ln2.hook_scale', 'blocks.1.ln2.hook_normalized', 'blocks.1.mlp.hook_pre', 'blocks.1.mlp.hook_post', 'blocks.1.hook_mlp_out', 'blocks.1.hook_resid_post', 'blocks.2.hook_resid_pre', 'blocks.2.ln1.hook_scale', 'blocks.2.ln1.hook_normalized', 'blocks.2.attn.hook_q', 'blocks.2.attn.hook_k', 'blocks.2.attn.hook_v', 'blocks.2.attn.hook_attn_scores', 'blocks.2.attn.hook_pattern', 'blocks.2.attn.hook_z', 'blocks.2.attn.hook_result', 'blocks.2.hook_attn_out', 'blocks.2.hook_resid_mid', 'blocks.2.ln2.hook_scale', 'blocks.2.ln2.hook_normalized', 'blocks.2.mlp.hook_pre', 'blocks.2.mlp.hook_post', 'blocks.2.hook_mlp_out', 'blocks.2.hook_resid_post', 'ln_final.hook_scale', 'ln_final.hook_normalized']\n",
            "Sample Mean Loss 6.786454121525797e-08\n",
            "Sample blocks.0.attn.hook_z torch.Size([746, 22, 4, 170])\n",
            "Mean blocks.0.attn.hook_z torch.Size([1, 22, 4, 170])\n",
            "Sample blocks.0.hook_resid_post torch.Size([746, 22, 510])\n",
            "Mean blocks.0.hook_resid_post torch.Size([1, 22, 510])\n",
            "Sample blocks.0.mlp.hook_post torch.Size([746, 22, 2040])\n",
            "Mean blocks.0.mlp.hook_post torch.Size([1, 22, 2040])\n"
          ]
        }
      ],
      "source": [
        "# Build a test batch of random and manually-chosen questions\n",
        "_, _, varied_questions = make_varied_questions();\n",
        "\n",
        "\n",
        "# Run the sample batch, gather the cache\n",
        "main_model.reset_hooks()\n",
        "main_model.set_use_attn_result(True)\n",
        "sample_logits, sample_cache = main_model.run_with_cache(varied_questions.cuda())\n",
        "print(sample_cache) # Gives names of datasets in the cache\n",
        "sample_losses_raw, sample_max_prob_tokens = logits_to_tokens_loss(sample_logits, varied_questions.cuda())\n",
        "sample_loss_mean = utils.to_numpy(loss_fn(sample_losses_raw).mean())\n",
        "print(\"Sample Mean Loss\", sample_loss_mean) # Loss < 0.04 is good\n",
        "\n",
        "\n",
        "# attn.hook_z is the \"attention head output\" hook point name (at a specified layer)\n",
        "l_attn_hook_z_name = [utils.get_act_name('z', 0, 'a'),utils.get_act_name('z', 1, 'a'),utils.get_act_name('z', 2, 'a'),utils.get_act_name('z', 3, 'a')] # 'blocks.0.attn.hook_z' etc\n",
        "sample_attn_z = sample_cache[l_attn_hook_z_name[0]]\n",
        "print(\"Sample\", l_attn_hook_z_name[0], sample_attn_z.shape) # gives [350, 22, 3, 170] = num_questions, cfg.n_ctx, n_heads, d_head\n",
        "mean_attn_z = torch.mean(sample_attn_z, dim=0, keepdim=True)\n",
        "print(\"Mean\", l_attn_hook_z_name[0], mean_attn_z.shape) # gives [1, 22, 3, 170] = 1, cfg.n_ctx, n_heads, d_head\n",
        "\n",
        "\n",
        "# hook_resid_pre is the \"pre residual memory update\" hook point name (at a specified layer)\n",
        "l_hook_resid_pre_name = ['blocks.0.hook_resid_pre','blocks.1.hook_resid_pre','blocks.2.hook_resid_pre','blocks.3.hook_resid_pre']\n",
        "\n",
        "\n",
        "# hook_resid_post is the \"post residual memory update\" hook point name (at a specified layer)\n",
        "l_hook_resid_post_name = ['blocks.0.hook_resid_post','blocks.1.hook_resid_post','blocks.2.hook_resid_post','blocks.3.hook_resid_post']\n",
        "sample_resid_post = sample_cache[l_hook_resid_post_name[0]]\n",
        "print(\"Sample\", l_hook_resid_post_name[0], sample_resid_post.shape) # gives [350, 22, 510] = num_questions, cfg.n_ctx, d_model\n",
        "mean_resid_post = torch.mean(sample_resid_post, dim=0, keepdim=True)\n",
        "print(\"Mean\", l_hook_resid_post_name[0], mean_resid_post.shape) # gives [1, 22, 510] = 1, cfg.n_ctx, d_model\n",
        "\n",
        "\n",
        "# mlp.hook_post is the \"MLP layer\" hook point name (at a specified layer)\n",
        "l_mlp_hook_post_name = [utils.get_act_name('post', 0),utils.get_act_name('post', 1),utils.get_act_name('post', 2),utils.get_act_name('post', 3)] # 'blocks.0.mlp.hook_post' etc\n",
        "sample_mlp_hook_post = sample_cache[l_mlp_hook_post_name[0]]\n",
        "print(\"Sample\", l_mlp_hook_post_name[0], sample_mlp_hook_post.shape) # gives [350, 22, 2040] = num_questions, cfg.n_ctx, cfg.d_mlp\n",
        "mean_mlp_hook_post = torch.mean(sample_mlp_hook_post, dim=0, keepdim=True)\n",
        "print(\"Mean\", l_mlp_hook_post_name[0], mean_mlp_hook_post.shape) # gives [1, 22, 2040] = 1, cfg.n_ctx, cfg.d_mlp"
      ]
    },
    {
      "cell_type": "code",
      "execution_count": null,
      "metadata": {
        "id": "IjhfLpSW9Jsq"
      },
      "outputs": [],
      "source": [
        "verbose = True\n",
        "\n",
        "\n",
        "class T_Config():\n",
        "  num_questions : int\n",
        "  correct_answers : int\n",
        "  total_mean_loss : float\n",
        "\n",
        "  sum_num_questions : int\n",
        "  sum_correct_answers : int\n",
        "\n",
        "  output = PrettyTable()\n",
        "\n",
        "\n",
        "  def reset(self):\n",
        "    self.num_questions = 0\n",
        "    self.correct_answers = 0\n",
        "    self.total_mean_loss = 0.0\n",
        "    self.sum_num_questions = 0\n",
        "    self.sum_correct_answers = 0\n",
        "\n",
        "    self.output = PrettyTable()\n",
        "    self.output.field_names = [\"Complexity\", \"#Questions\", \"#Correct\", \"%Correct\", \"Mean loss\"]\n",
        "\n",
        "\n",
        "  # Clear the question summary results\n",
        "  def clear_questions_results(self, title):\n",
        "\n",
        "    self.num_questions = 0\n",
        "    self.correct_answers = 0\n",
        "    self.total_mean_loss = 0\n",
        "\n",
        "    if verbose:\n",
        "      print(title)\n",
        "\n",
        "\n",
        "  # Print the question summary results\n",
        "  def print_questions_results(self, prefix):\n",
        "    self.output.add_row([prefix, self.num_questions, str(self.correct_answers), 100*self.correct_answers/self.num_questions, self.total_mean_loss/self.num_questions])\n",
        "    self.sum_num_questions += self.num_questions\n",
        "    self.sum_correct_answers += self.correct_answers\n",
        "\n",
        "\n",
        "  # Print the overall summary results\n",
        "  def print_overall_results(self):\n",
        "    self.output.add_row([\"OVERALL\", self.sum_num_questions, self.sum_correct_answers, \"\", \"\"])\n",
        "    print(self.output.get_formatted_string(out_format=cfg.table_out_format))\n",
        "\n",
        "\n",
        "  # Evidence (not proof) the model is accurate\n",
        "  def might_be_fully_accurate(self):\n",
        "    return self.sum_num_questions == self.sum_correct_answers\n",
        "\n",
        "\n",
        "tcfg = T_Config()\n",
        "tcfg.reset()"
      ]
    },
    {
      "cell_type": "code",
      "execution_count": null,
      "metadata": {
        "id": "E56siA_QKe0W"
      },
      "outputs": [],
      "source": [
        "# Ask model to predict answer for each question & collect results\n",
        "def do_questions(questions, show_failures = False):\n",
        "\n",
        "  tcfg.num_questions = questions.shape[0]\n",
        "\n",
        "  # Run with no hook\n",
        "  all_logits = main_model(questions.cuda())\n",
        "  all_losses_raw, all_max_prob_tokens = logits_to_tokens_loss(all_logits, questions.cuda())\n",
        "\n",
        "  for question_num in range(tcfg.num_questions):\n",
        "    q = questions[question_num]\n",
        "\n",
        "    losses = loss_fn(all_losses_raw[question_num])\n",
        "    mean_loss = utils.to_numpy(losses.mean())\n",
        "    tcfg.total_mean_loss += mean_loss\n",
        "\n",
        "    model_answer_str = tokens_to_string(all_max_prob_tokens[question_num])\n",
        "    model_answer_num = int(model_answer_str)\n",
        "\n",
        "    a = tokens_to_answer(q)\n",
        "\n",
        "    correct = (model_answer_num == a)\n",
        "    if correct :\n",
        "      tcfg.correct_answers += 1\n",
        "\n",
        "    if verbose or (show_failures and not correct):\n",
        "      print(tokens_to_string(q), \"ModelAnswer:\", model_answer_str, \"Loss:\", mean_loss )\n"
      ]
    },
    {
      "cell_type": "code",
      "execution_count": null,
      "metadata": {
        "id": "oN3mEnSRF0DP"
      },
      "outputs": [],
      "source": [
        "def print_question_results( make_questions, show_failures = False):\n",
        "  major_tag, quanta_case, questions = make_questions()\n",
        "  title = major_tag + \".\" + quanta_case\n",
        "\n",
        "  tcfg.clear_questions_results(title)\n",
        "  do_questions(questions, show_failures)\n",
        "  tcfg.print_questions_results(title)"
      ]
    },
    {
      "cell_type": "markdown",
      "metadata": {
        "id": "Lag8C3d_KkeQ"
      },
      "source": [
        "# Part 8B: Results: Prediction success by Complexity quanta\n",
        "\n",
        "This section runs hand-curated test cases to indicate which complexity quanta the model can (probably) handle.\n",
        "\n",
        "Not proof - our test cases might be inadequate."
      ]
    },
    {
      "cell_type": "code",
      "execution_count": null,
      "metadata": {
        "id": "8z6RdolRKnnR",
        "colab": {
          "base_uri": "https://localhost:8080/"
        },
        "outputId": "a4d870ba-8439-45df-d4c9-076f3c3c1a88"
      },
      "outputs": [
        {
          "output_type": "stream",
          "name": "stdout",
          "text": [
            "+-------------------+------------+----------+----------+------------------------+\n",
            "|     Complexity    | #Questions | #Correct | %Correct |       Mean loss        |\n",
            "+-------------------+------------+----------+----------+------------------------+\n",
            "| Complexity.Add.S0 |     24     |    24    |  100.0   | 9.589814180007101e-09  |\n",
            "| Complexity.Add.S1 |     22     |    22    |  100.0   | 1.2592413179425774e-08 |\n",
            "| Complexity.Add.S2 |     25     |    25    |  100.0   | 1.2894203183622433e-06 |\n",
            "| Complexity.Add.S3 |     9      |    9     |  100.0   | 2.8856279896975462e-08 |\n",
            "| Complexity.Add.S4 |     8      |    8     |  100.0   | 1.3600160328363947e-06 |\n",
            "| Complexity.Add.S5 |     10     |    10    |  100.0   | 2.9532285975631972e-08 |\n",
            "| Complexity.Add.S* |     29     |    29    |  100.0   | 1.458358025200366e-08  |\n",
            "|      OVERALL      |    127     |   127    |          |                        |\n",
            "+-------------------+------------+----------+----------+------------------------+\n"
          ]
        }
      ],
      "source": [
        "verbose = False\n",
        "\n",
        "if cfg.perc_add() > 0:\n",
        "  tcfg.reset()\n",
        "  print_question_results(make_s0_questions)\n",
        "  print_question_results(make_s1_questions)\n",
        "  print_question_results(make_s2_questions)\n",
        "  print_question_results(make_s3_questions)\n",
        "  print_question_results(make_s4_questions)\n",
        "  print_question_results(make_s5_questions)\n",
        "  print_question_results(make_sn_questions)\n",
        "  tcfg.print_overall_results()"
      ]
    },
    {
      "cell_type": "code",
      "execution_count": null,
      "metadata": {
        "id": "MW2SNwxJ-3Kn",
        "colab": {
          "base_uri": "https://localhost:8080/"
        },
        "outputId": "50a0c2be-d66a-4462-9d3b-346f3b8fdcb7"
      },
      "outputs": [
        {
          "output_type": "stream",
          "name": "stdout",
          "text": [
            "+-------------------+------------+----------+----------+------------------------+\n",
            "|     Complexity    | #Questions | #Correct | %Correct |       Mean loss        |\n",
            "+-------------------+------------+----------+----------+------------------------+\n",
            "| Complexity.Sub.M0 |     29     |    29    |  100.0   | 7.529204309272524e-09  |\n",
            "| Complexity.Sub.M1 |     18     |    18    |  100.0   | 6.960145705013467e-09  |\n",
            "| Complexity.Sub.M2 |     15     |    15    |  100.0   | 8.048884062650215e-09  |\n",
            "| Complexity.Sub.M3 |     10     |    10    |  100.0   | 8.964647014461221e-09  |\n",
            "| Complexity.Sub.NG |     35     |    35    |  100.0   | 2.1091975419375687e-08 |\n",
            "|      OVERALL      |    107     |   107    |          |                        |\n",
            "+-------------------+------------+----------+----------+------------------------+\n"
          ]
        }
      ],
      "source": [
        "verbose = False\n",
        "\n",
        "if cfg.perc_sub > 0:\n",
        "  tcfg.reset()\n",
        "  print_question_results(make_m0_questions)\n",
        "  print_question_results(make_m1_questions)\n",
        "  print_question_results(make_m2_questions)\n",
        "  print_question_results(make_m3_questions)\n",
        "  print_question_results(make_ng_questions)\n",
        "  tcfg.print_overall_results()"
      ]
    },
    {
      "cell_type": "code",
      "execution_count": null,
      "metadata": {
        "id": "QpNvthy48TU0",
        "colab": {
          "base_uri": "https://localhost:8080/"
        },
        "outputId": "28b38ab6-7ed6-4702-f89a-c4c55030660a"
      },
      "outputs": [
        {
          "output_type": "stream",
          "name": "stdout",
          "text": [
            "+-----------------------+------------+----------+----------+-----------------------+\n",
            "|       Complexity      | #Questions | #Correct | %Correct |       Mean loss       |\n",
            "+-----------------------+------------+----------+----------+-----------------------+\n",
            "| Complexity.Varied.All |    746     |   746    |  100.0   | 6.786454121525792e-08 |\n",
            "|        OVERALL        |    746     |   746    |          |                       |\n",
            "+-----------------------+------------+----------+----------+-----------------------+\n"
          ]
        }
      ],
      "source": [
        "# Varied questions includes 2 random batches of questions. Show any questions that we can't calculate correctly.\n",
        "tcfg.reset()\n",
        "print_question_results(make_varied_questions, True)\n",
        "tcfg.print_overall_results()\n",
        "\n",
        "model_might_be_fully_accurate = tcfg.might_be_fully_accurate()\n",
        "if not model_might_be_fully_accurate:\n",
        "  print()\n",
        "  print(\"WARNING: Model is not fully accurate. It failed some test questions\")"
      ]
    },
    {
      "cell_type": "markdown",
      "metadata": {
        "id": "nXBYdxj-jLZc"
      },
      "source": [
        "# Part 12A: Set Up: Predict Questions and Evaluate Quanta\n",
        "\n",
        "Get model to predict given question answers, with an ablation hook, and categorise how many questions fail. Use prefix \"q_\""
      ]
    },
    {
      "cell_type": "code",
      "execution_count": null,
      "metadata": {
        "id": "03wT2QJL34aP"
      },
      "outputs": [],
      "source": [
        "def q_predict_questions(questions, the_hook):\n",
        "\n",
        "  main_model.reset_hooks()\n",
        "  main_model.set_use_attn_result(True)\n",
        "\n",
        "  all_logits = main_model.run_with_hooks(questions.cuda(), return_type=\"logits\", fwd_hooks=the_hook)\n",
        "  all_losses_raw, all_max_prob_tokens = logits_to_tokens_loss(all_logits, questions.cuda())\n",
        "\n",
        "  num_fails = 0\n",
        "  for question_num in range(questions.shape[0]):\n",
        "    q = questions[question_num]\n",
        "\n",
        "    the_loss_mean = utils.to_numpy(loss_fn(all_losses_raw[question_num]).mean())\n",
        "\n",
        "    # Only show the question if the loss exceeds the threshold (because of the ablated token position)\n",
        "    if the_loss_mean > ccfg.threshold:\n",
        "      answer_str = tokens_to_string(all_max_prob_tokens[question_num])\n",
        "\n",
        "      # Only count the question if the model got the question wrong\n",
        "      impact_str = get_answer_impact_meaning( q, answer_str )\n",
        "      if 'A' in impact_str:\n",
        "        num_fails += 1\n",
        "\n",
        "        if verbose :\n",
        "          print(tokens_to_string(q), \"Q: ModelAnswer:\", answer_str, \"Impact:\", impact_str, \"Loss:\", the_loss_mean )\n",
        "\n",
        "  return num_fails"
      ]
    },
    {
      "cell_type": "code",
      "execution_count": null,
      "metadata": {
        "id": "-59uVTC2k6Pz"
      },
      "outputs": [],
      "source": [
        "# Row in the quanta map (covering L0H0 .. L0Hn L0MLP L1H0 .. L1Hn L1MLP ...):\n",
        "def quanta_row(the_layer, the_head):\n",
        "  return the_layer * (cfg.n_heads+1) + the_head\n",
        "\n",
        "\n",
        "# Number of rows in quanta map (covering L0H0 .. L0Hn L0MLP L1H0 .. L1Hn L1MLP ...):\n",
        "def quanta_rows():\n",
        "  return (cfg.n_heads + 1) * cfg.n_layers\n",
        "\n",
        "\n",
        "def get_quanta_row_heading(r):\n",
        "  head = r % (cfg.n_heads + 1)\n",
        "  layer = r // (cfg.n_heads + 1)\n",
        "  return \"L\" + str(layer) + (\"H\" + str(head) if head < cfg.n_heads else \"MLP\")"
      ]
    },
    {
      "cell_type": "code",
      "execution_count": null,
      "metadata": {
        "id": "Hx7LwECBLajQ"
      },
      "outputs": [],
      "source": [
        "class C_Config():\n",
        "  threshold : int = 0.01\n",
        "\n",
        "  # sparce ordered list of useful token positions e.g. 0,1,8,9,10,11\n",
        "  useful_positions = []\n",
        "\n",
        "  # sparce ordered list of useful e.g. 0,1,4 representing L0H0, L0H1 and L0MLP\n",
        "  useful_rows = []\n",
        "\n",
        "  # list of useful nodes\n",
        "  useful_nodes = []\n",
        "\n",
        "  curr_position : int = 0\n",
        "  curr_layer : int = 0\n",
        "  curr_head : int = 0\n",
        "\n",
        "\n",
        "  # Add a token position that we know is used in calculations\n",
        "  def add_useful_position(self, position):\n",
        "    if not (position in self.useful_positions):\n",
        "      self.useful_positions += [position]\n",
        "\n",
        "\n",
        "  # Add a quanta row that we know is used in calculations\n",
        "  def add_useful_row(self, row):\n",
        "    if not (row in self.useful_rows):\n",
        "      self.useful_rows += [row]\n",
        "\n",
        "\n",
        "  def print_node_tags(self):\n",
        "    for node in ccfg.useful_nodes:\n",
        "      print( node.name(), node.tags )\n",
        "\n",
        "\n",
        "ccfg = C_Config()"
      ]
    },
    {
      "cell_type": "code",
      "execution_count": null,
      "metadata": {
        "id": "CGL57MRBLdUh"
      },
      "outputs": [],
      "source": [
        "verbose = False\n",
        "\n",
        "\n",
        "def c_set_resid_post_hook(value, hook):\n",
        "  global ccfg\n",
        "\n",
        "  #print( \"In hook\", l_hook_resid_post_name[ccfg.layer], ccfg.ablate, ccfg.curr_position, value.shape) # Get [64, 22, 510] = cfg.batch_size, num_tokens, d_model\n",
        "\n",
        "  # Copy the mean resid post values in position N to all the batch questions\n",
        "  value[:,ccfg.curr_position,:] = mean_resid_post[0,ccfg.curr_position,:].clone()\n",
        "\n",
        "\n",
        "num_failures_list = []\n",
        "num_questions = 0\n",
        "if cfg.n_digits >= 5 :\n",
        "  c_fwd_hooks = [(l_hook_resid_post_name[0], c_set_resid_post_hook)] if cfg.n_layers == 1 else [(l_hook_resid_post_name[0], c_set_resid_post_hook),(l_hook_resid_post_name[1], c_set_resid_post_hook)]\n",
        "\n",
        "  num_questions = varied_questions.shape[0]\n",
        "\n",
        "  for ccfg.curr_position in range(cfg.n_ctx()):\n",
        "    num_fails = q_predict_questions(varied_questions, c_fwd_hooks)\n",
        "\n",
        "    num_failures_list += [num_fails] if num_fails > 0 else \".\"\n",
        "\n",
        "    if num_fails > 0:\n",
        "      ccfg.add_useful_position(ccfg.curr_position)\n"
      ]
    },
    {
      "cell_type": "markdown",
      "metadata": {
        "id": "ZmsGWUbILYin"
      },
      "source": [
        "# Part 12B: Results: Ablate ALL Heads in EACH token position. What is the impact?\n",
        "\n",
        "Here we ablate all heads in each token position (overriding the model memory aka residual stream) and see if loss increases. If loss increases the token position is used by the algorithm. Unused token positions can be excluded from further analysis. Use \"C_\" prefix"
      ]
    },
    {
      "cell_type": "code",
      "execution_count": null,
      "metadata": {
        "id": "gpRp5YMmLe1y",
        "colab": {
          "base_uri": "https://localhost:8080/",
          "height": 183
        },
        "outputId": "40a2e047-ce03-426a-a0ff-faded6bb8979"
      },
      "outputs": [
        {
          "output_type": "stream",
          "name": "stdout",
          "text": [
            "%Mult= 0 %Sub= 80 %Add= 20 File= ins1_mix_d6_l3_h4_train40K_seed372001\n",
            "\n",
            "num_questions= 746 min_useful_position= 0 max_useful_position= 20\n",
            "\n"
          ]
        },
        {
          "output_type": "display_data",
          "data": {
            "text/plain": [
              "<Figure size 1600x100 with 1 Axes>"
            ],
            "image/png": "[encoded data removed]"
          },
          "metadata": {}
        }
      ],
      "source": [
        "print_config()\n",
        "print()\n",
        "print(\"num_questions=\", num_questions, \"min_useful_position=\", min(ccfg.useful_positions), \"max_useful_position=\", max(ccfg.useful_positions) )\n",
        "print()\n",
        "\n",
        "columns = [\"Posn\"] + token_position_names\n",
        "rows = [\"Posn\", \"# fails\"]\n",
        "data = [\n",
        "    [\"Posn\"] + token_position_meanings,\n",
        "    [\"# fails\"] + num_failures_list\n",
        "]\n",
        "\n",
        "fig, ax = plt.subplots(figsize=(16,1))\n",
        "ax.axis('tight')\n",
        "ax.axis('off')\n",
        "\n",
        "table = ax.table(cellText=data, colLabels=columns, loc='center', cellLoc='center')\n",
        "table.auto_set_font_size(False)\n",
        "table.set_fontsize(10)  # Set the font size here\n",
        "table.scale(1, 1.5)  # The first parameter scales column widths, the second scales row heights\n",
        "\n",
        "plt.show()\n"
      ]
    },
    {
      "cell_type": "markdown",
      "metadata": {
        "id": "904WBkTOLg_5"
      },
      "source": [
        "# Part 14: Setup: Quanta results by node data structure\n",
        "\n",
        "Evaluate quanta at node (not position) resolution. Uses \"u_\" prefix."
      ]
    },
    {
      "cell_type": "code",
      "execution_count": null,
      "metadata": {
        "id": "i2gWgm-2J0Lo"
      },
      "outputs": [],
      "source": [
        "class UsefulNode():\n",
        "  # Position.Layer.Head of the node\n",
        "  position: int  # token-position. Zero to cfg.n_ctx - 1\n",
        "  layer: int\n",
        "  head: int\n",
        "\n",
        "  # Tags related to the node of form \"MajorVersion.MinorVersion\"\n",
        "  tags: list\n",
        "\n",
        "\n",
        "  # Is this node an attention head? If not, it must be an MLP layer\n",
        "  def is_head(self):\n",
        "    return self.head != cfg.n_heads\n",
        "\n",
        "\n",
        "  def reset(self):\n",
        "    self.position = -1\n",
        "    self.layer = -1\n",
        "    self.head = -1\n",
        "    self.tags = []\n",
        "\n",
        "\n",
        "  def name(self):\n",
        "    return position_name(self.position)+\"L\"+str(self.layer)+\"H\"+str(self.head)\n",
        "\n",
        "\n",
        "  # Remove some/all tags from this node\n",
        "  def reset_tags(self, major_version):\n",
        "    if major_version == \"\":\n",
        "      self.tags = []\n",
        "    else:\n",
        "      self.tags = [s for s in self.tags if not s.startswith(major_version)]\n",
        "\n",
        "\n",
        "  # Row in a table that this node is drawn\n",
        "  def node_row(self):\n",
        "    return quanta_row(self.layer, self.head)\n",
        "\n",
        "\n",
        "  # Add a tag to this node (if not already present)\n",
        "  def add_tag(self, major_tag, minor_tag):\n",
        "    tag = major_tag + \":\" + minor_tag\n",
        "    if tag != \"\" and (not (tag in self.tags)):\n",
        "      self.tags += [tag]\n",
        "\n",
        "\n",
        "  # Return tags with the matching major\n",
        "  def filter_tags(self, major_version):\n",
        "    assert major_version != \"\"\n",
        "\n",
        "    # Filter strings that start with the given major version\n",
        "    filtered_strings = [s for s in self.tags if s.startswith(major_version)]\n",
        "\n",
        "    # Extract minor versions\n",
        "    minor_versions = [s.split(\":\")[1] for s in filtered_strings]\n",
        "\n",
        "    return minor_versions\n",
        "\n",
        "\n",
        "  # Return minimum tag with the matching major and minor versions\n",
        "  def min_tag_suffix(self, major_version, minor_version):\n",
        "    suffixes = self.filter_tags(major_version)\n",
        "\n",
        "    if minor_version != \"\":\n",
        "      suffixes = [s for s in suffixes if s.startswith(minor_version)]\n",
        "\n",
        "    answer = min(suffixes) if suffixes else \"\"\n",
        "\n",
        "    return answer\n",
        "\n",
        "\n",
        "  # Return the only tag with the matching major_version\n",
        "  def only_tag(self, major_version):\n",
        "    assert major_version != \"\"\n",
        "\n",
        "    filtered_strings = [s for s in self.tags if s.startswith(major_version)]\n",
        "\n",
        "    num_strings = len(filtered_strings)\n",
        "    if num_strings > 1:\n",
        "      print(\"only_tag logic failure\", major_version, num_strings, filtered_strings)\n",
        "      assert False\n",
        "\n",
        "    return filtered_strings[0].split(\":\")[1] if num_strings == 1 else \"\"\n",
        "\n",
        "\n",
        "  # Return whether this node contains a tag with the matching major_version or major+minor_version\n",
        "  def contains_tag(self, major, minor):\n",
        "    assert major != \"\"\n",
        "\n",
        "    for tag in self.tags:\n",
        "      # We use contains(minor) as the POSITION_MAJOR_TAG minor tag is \"P14=25%\"\n",
        "      if tag.startswith(major) and minor in tag:\n",
        "        return True\n",
        "\n",
        "    return False\n",
        "\n",
        "\n",
        "  def to_dict(self):\n",
        "    return {\n",
        "      \"position\": self.position,\n",
        "      \"layer\": self.layer,\n",
        "      \"head\": self.head,\n",
        "      \"tags\": self.tags\n",
        "    }\n",
        "\n",
        "\n",
        "  def __init__(self, position, layer, head, tags):\n",
        "    self.position = position\n",
        "    self.layer = layer\n",
        "    self.head = head\n",
        "    self.tags = tags"
      ]
    },
    {
      "cell_type": "code",
      "execution_count": null,
      "metadata": {
        "id": "iTaSo-UzLlZ_"
      },
      "outputs": [],
      "source": [
        "def u_reset_tags( major_version = \"\" ):\n",
        "  for node in ccfg.useful_nodes:\n",
        "    node.reset_tags(major_version)\n",
        "\n",
        "\n",
        "def u_get_node( the_row, the_position ):\n",
        "  for node in ccfg.useful_nodes:\n",
        "    if node.position == the_position and node.node_row() == the_row:\n",
        "      return node\n",
        "\n",
        "  return None\n",
        "\n",
        "\n",
        "def u_add_node_tag( major_tag, minor_tag ):\n",
        "  assert ccfg.curr_position  >= 0\n",
        "  assert ccfg.curr_layer >= 0\n",
        "  assert ccfg.curr_head >= 0\n",
        "  assert ccfg.curr_position < cfg.n_ctx()\n",
        "  assert ccfg.curr_layer < cfg.n_layers\n",
        "  assert ccfg.curr_head <= cfg.n_heads\n",
        "\n",
        "  the_row = quanta_row(ccfg.curr_layer, ccfg.curr_head)\n",
        "  assert the_row >= 0\n",
        "\n",
        "  the_node = u_get_node(the_row, ccfg.curr_position )\n",
        "  if the_node == None:\n",
        "\n",
        "    the_node = UsefulNode(ccfg.curr_position, ccfg.curr_layer, ccfg.curr_head, [])\n",
        "\n",
        "    ccfg.useful_nodes += [the_node]\n",
        "\n",
        "  the_node.add_tag(major_tag, minor_tag)"
      ]
    },
    {
      "cell_type": "code",
      "source": [
        "  # Filter by a set of [Select/Deselect, major_tag, minor_tag ]\n",
        "  # filter_heads(self, [[True, POSITION_MAJOR_TAG, P14],[True, IMPACT_MAJOR_TAG, A543], [False, ALGORITHM_MAJOR_TAG, D2.BA] ])\n",
        "  def u_filter_heads(filters):\n",
        "    answer = []\n",
        "    for node in ccfg.useful_nodes:\n",
        "      if node.is_head():\n",
        "        include = True\n",
        "        for filter in filters:\n",
        "          select = filter[0]\n",
        "          major = filter[1]\n",
        "          minor = filter[2]\n",
        "          if major == POSITION_MAJOR_TAG:\n",
        "            include &= (select == (position_name(node.position) == minor))\n",
        "          else:\n",
        "            include &= (select == node.contains_tag(major,minor))\n",
        "        if include:\n",
        "          answer += [node]\n",
        "\n",
        "    return answer"
      ],
      "metadata": {
        "id": "bKVr8TTXkZnR"
      },
      "execution_count": null,
      "outputs": []
    },
    {
      "cell_type": "code",
      "execution_count": null,
      "metadata": {
        "id": "rkRnSVQywfkr"
      },
      "outputs": [],
      "source": [
        "def remove_duplicate_digits(input_string):\n",
        "    seen = set()\n",
        "    result = \"\"\n",
        "    for char in input_string:\n",
        "        if char not in seen:\n",
        "            seen.add(char)\n",
        "            result += char\n",
        "    return result\n",
        "\n",
        "# Unit test\n",
        "assert remove_duplicate_digits(\"1231231278321\") == \"12378\""
      ]
    },
    {
      "cell_type": "code",
      "execution_count": null,
      "metadata": {
        "id": "bZG-kUBMph9D"
      },
      "outputs": [],
      "source": [
        "def u_predict_questions(questions, the_hook):\n",
        "\n",
        "  main_model.reset_hooks()\n",
        "  main_model.set_use_attn_result(True)\n",
        "\n",
        "  all_logits = main_model.run_with_hooks(questions.cuda(), return_type=\"logits\", fwd_hooks=the_hook)\n",
        "  all_losses_raw, all_max_prob_tokens = logits_to_tokens_loss(all_logits, questions.cuda())\n",
        "\n",
        "\n",
        "  num_fails = 0\n",
        "  impact_fails = \"\"\n",
        "  add_complexity_fails = \"\"\n",
        "  sub_complexity_fails = \"\"\n",
        "\n",
        "  for question_num in range(questions.shape[0]):\n",
        "    q = questions[question_num]\n",
        "\n",
        "    the_loss_mean = utils.to_numpy(loss_fn(all_losses_raw[question_num]).mean())\n",
        "\n",
        "    # Only show the question if the loss exceeds the threshold (because of the ablated token position)\n",
        "    if the_loss_mean > ccfg.threshold:\n",
        "      answer_str = tokens_to_string(all_max_prob_tokens[question_num])\n",
        "\n",
        "      impact_str = get_answer_impact_meaning( q, answer_str )\n",
        "      # Only count the question if the model got the question wrong\n",
        "      if 'A' in impact_str:\n",
        "        num_fails += 1\n",
        "\n",
        "        impact_fails += impact_str\n",
        "\n",
        "        complexity_major_tag, complexity_minor_tag = get_question_complexity(q)\n",
        "        if complexity_major_tag == ADDITION_MAJOR_TAG:\n",
        "          add_complexity_fails += complexity_minor_tag\n",
        "        else:\n",
        "          sub_complexity_fails += complexity_minor_tag\n",
        "\n",
        "        if verbose :\n",
        "          print(tokens_to_string(q), \"U: ModelAnswer:\", answer_str, \"Complexity:\", complexity_minor_tag, \"Impact:\", impact_str, \"Loss:\", the_loss_mean )\n",
        "\n",
        "\n",
        "  if num_fails > 0:\n",
        "    # Add percentage failure quanta\n",
        "    perc = int( 100.0 * num_fails / len(questions))\n",
        "    u_add_node_tag( FAIL_MAJOR_TAG, str(perc) )\n",
        "\n",
        "    # Add summary of all answer digit impact quanta failures\n",
        "    impact_digits = ''.join(filter(str.isdigit, impact_fails))\n",
        "    impact_fails = \"A\" + ''.join(sorted(remove_duplicate_digits(impact_digits), reverse=True))\n",
        "    u_add_node_tag( IMPACT_MAJOR_TAG, impact_fails )\n",
        "\n",
        "    # Add summary of all addition question complexity quanta failures\n",
        "    if add_complexity_fails != \"\":\n",
        "      add_complexity_digits = ''.join(filter(str.isdigit, add_complexity_fails))\n",
        "      add_complexity_fails = \"S\" + ''.join(sorted(remove_duplicate_digits(add_complexity_digits)))\n",
        "      u_add_node_tag( ADDITION_MAJOR_TAG, add_complexity_fails )\n",
        "\n",
        "    # Add summary of all subtraction question complexity quanta failures\n",
        "    if sub_complexity_fails != \"\":\n",
        "      sub_complexity_digits = ''.join(filter(str.isdigit, sub_complexity_fails))\n",
        "      sub_complexity_fails = ''.join(sorted(remove_duplicate_digits(sub_complexity_digits)))\n",
        "      if sub_complexity_fails == \"\":\n",
        "        sub_complexity_fails = COMPLEXITY_NG_TAG\n",
        "      else:\n",
        "        sub_complexity_fails = \"M\" + sub_complexity_fails\n",
        "      u_add_node_tag( SUBTRACTION_MAJOR_TAG, sub_complexity_fails )\n",
        "\n",
        "    # Note that this row is useful (and should be shown in maps).\n",
        "    ccfg.add_useful_row(quanta_row(ccfg.curr_layer, ccfg.curr_head))\n",
        "\n"
      ]
    },
    {
      "cell_type": "code",
      "execution_count": null,
      "metadata": {
        "id": "qOxNc9SAMGRH"
      },
      "outputs": [],
      "source": [
        "def u_mlp_hook_post(value, hook):\n",
        "  #print( \"In u_mlp_hook_post\", value.shape) # Get [1, 22, 2040] = ???, cfg.n_ctx, cfg.d_mlp\n",
        "\n",
        "  # Mean ablate. Copy the mean resid post values in position N to the MLP\n",
        "  value[:,ccfg.curr_position,:] =  mean_mlp_hook_post[:,ccfg.curr_position,:].clone()\n",
        "\n",
        "\n",
        "# Ablating the MLP in each layer in each position and seeing if the loss increases shows which head+layer+MLP are used by the algorithm.\n",
        "def u_mlp_perform_all(questions):\n",
        "  ccfg.curr_head = cfg.n_heads\n",
        "  for ccfg.curr_position in ccfg.useful_positions:\n",
        "    for ccfg.curr_layer in range(cfg.n_layers):\n",
        "      the_hook = [(l_mlp_hook_post_name[ccfg.curr_layer], u_mlp_hook_post)]\n",
        "      u_predict_questions(questions, the_hook)"
      ]
    },
    {
      "cell_type": "code",
      "execution_count": null,
      "metadata": {
        "id": "f2EnisO6MMGQ"
      },
      "outputs": [],
      "source": [
        "def u_head_attn_hook_z(value, hook):\n",
        "  # print( \"In u_head_attn_hook_z\", value.shape) # Get [1, 22, 3, 170] = ???, cfg.n_ctx, cfg.n_heads, cfg.d_head\n",
        "\n",
        "  # Mean ablate. Copy the mean resid post values in position N to all the batch questions\n",
        "  value[:,ccfg.curr_position,ccfg.curr_head,:] = mean_attn_z[:,ccfg.curr_position,ccfg.curr_head,:].clone()\n",
        "\n",
        "\n",
        "# Ablating each head in each layer in each position and seeing if the loss increases shows which position+layer+head are used by the algorithm.\n",
        "def u_head_perform_all(questions):\n",
        "  for ccfg.curr_position in ccfg.useful_positions:\n",
        "    for ccfg.curr_layer in range(cfg.n_layers):\n",
        "      for ccfg.curr_head in range(cfg.n_heads):\n",
        "        the_hook = [(l_attn_hook_z_name[ccfg.curr_layer], u_head_attn_hook_z)]\n",
        "        u_predict_questions(questions, the_hook)"
      ]
    },
    {
      "cell_type": "code",
      "execution_count": null,
      "metadata": {
        "id": "zh3f8Jiahdvq"
      },
      "outputs": [],
      "source": [
        "def h_null_attn_z_hook(value, hook):\n",
        "  global verbose\n",
        "\n",
        "  #print(\"In h_null_attn_z_hook\", value.shape)  # Get [1, 22, 3, 170] = ???, cfg.n_ctx, cfg.n_heads, cfg.d_head\n",
        "\n",
        "\n",
        "# We store a maximum of 5 attention tags per node\n",
        "MAX_ATTENTION_TAGS = 5\n",
        "\n",
        "\n",
        "def u_calculate_attention_tags(questions):\n",
        "  u_reset_tags(ATTENTION_MAJOR_TAG)\n",
        "\n",
        "  logits, cache = main_model.run_with_cache(questions)\n",
        "\n",
        "  all_attention_weights = []\n",
        "  for layer in range(cfg.n_layers):\n",
        "    attention_weights = cache[\"pattern\", layer, \"attn\"]\n",
        "    #print(attention_weights.shape) # 512, 4, 22, 22 = cfg.batch_size, cfg.n_heads, cfg.n_ctx, cfg.n_ctx\n",
        "\n",
        "    average_attention_weights = attention_weights.mean(dim=0)\n",
        "    #print(average_attention_weights.shape) # 4, 22, 22 = cfg.n_heads, cfg.n_ctx, cfg.n_ctx\n",
        "\n",
        "    all_attention_weights += [average_attention_weights]\n",
        "\n",
        "\n",
        "  for node in ccfg.useful_nodes:\n",
        "    if node.is_head():\n",
        "      # Get attention weights for this token in this head\n",
        "      layer_weights = all_attention_weights[node.layer]\n",
        "      weights = layer_weights[node.head, node.position, :]\n",
        "\n",
        "      top_tokens = torch.topk(weights, 4)\n",
        "      total_attention = weights.sum()\n",
        "      attention_percentage = top_tokens.values / total_attention * 100\n",
        "\n",
        "      # Add up to 4 tags with percs per head\n",
        "      for idx, token_idx in enumerate(top_tokens.indices):\n",
        "        perc = attention_percentage[idx]\n",
        "        if perc >= 1.0:\n",
        "          ccfg.curr_position = node.position\n",
        "          ccfg.curr_layer = node.layer\n",
        "          ccfg.curr_head = node.head\n",
        "          u_add_node_tag( ATTENTION_MAJOR_TAG, f\"P{token_idx}={perc:.0f}\" )"
      ]
    },
    {
      "cell_type": "code",
      "execution_count": null,
      "metadata": {
        "id": "as9ot9RMMTAi"
      },
      "outputs": [],
      "source": [
        "verbose = False\n",
        "ccfg.useful_nodes = []\n",
        "u_mlp_perform_all(varied_questions)\n",
        "u_head_perform_all(varied_questions)\n",
        "u_calculate_attention_tags(varied_questions)"
      ]
    },
    {
      "cell_type": "markdown",
      "metadata": {
        "id": "3BmQHiLALp-3"
      },
      "source": [
        " # Part 15A: Set up: Quanta 2D map"
      ]
    },
    {
      "cell_type": "code",
      "execution_count": null,
      "metadata": {
        "id": "4bqWK2AWiLXp"
      },
      "outputs": [],
      "source": [
        "# Define a colormap for use with graphing\n",
        "def create_custom_colormap():\n",
        "    colors = [\"green\", \"yellow\"]\n",
        "    return mcolors.LinearSegmentedColormap.from_list(\"custom_colormap\", colors)\n",
        "\n",
        "\n",
        "# Blend the color with white to make it paler\n",
        "def pale_color(color, factor=0.5):\n",
        "    color_array = np.array(color)\n",
        "    white = np.array([1, 1, 1, 1])\n",
        "    return white * factor + color_array * (1 - factor)"
      ]
    },
    {
      "cell_type": "code",
      "source": [
        "class quanta_result:\n",
        "  model_row : int = 0\n",
        "  model_col : int = 0\n",
        "  cell_text : str = \"\"\n",
        "  color_index :int = -1\n",
        "\n",
        "\n",
        "  def __init__(self, model_row, model_col, cell_text, color_index):\n",
        "    self.model_row = model_row\n",
        "    self.model_col = model_col\n",
        "    self.cell_text = cell_text\n",
        "    self.color_index = color_index\n",
        "\n",
        "\n",
        "def calc_quanta_results( major_version, minor_version, get_node_details, shades ):\n",
        "\n",
        "  quanta_results = []\n",
        "\n",
        "  for raw_row in ccfg.useful_rows:\n",
        "    for raw_col in ccfg.useful_positions:\n",
        "      node = u_get_node(raw_row, raw_col)\n",
        "      if node != None:\n",
        "        cell_text, color_index = get_node_details(node, major_version, minor_version, shades)\n",
        "        if cell_text != \"\" :\n",
        "          quanta_results +=[quanta_result(model_row=raw_row, model_col=raw_col, cell_text=cell_text, color_index=color_index )]\n",
        "\n",
        "  return quanta_results\n",
        "\n",
        "\n",
        "def find_quanta_result_by_row_col(row, col, quanta_results):\n",
        "    for result in quanta_results:\n",
        "        if result.model_row == row and result.model_col == col:\n",
        "            return result\n",
        "    return None"
      ],
      "metadata": {
        "id": "6-h5jZBEMBD4"
      },
      "execution_count": null,
      "outputs": []
    },
    {
      "cell_type": "code",
      "execution_count": null,
      "metadata": {
        "id": "emcB0_CpYTaJ"
      },
      "outputs": [],
      "source": [
        "def show_quanta_add_patch(ax, j, row, cell_color):\n",
        "  ax.add_patch(plt.Rectangle((j, row), 1, 1, fill=True, color=cell_color))\n",
        "\n",
        "\n",
        "def show_quanta_map( title, custom_cmap, shades, major_version, minor_version, get_node_details, base_fontsize = 10, max_width = 10):\n",
        "\n",
        "  quanta_results = calc_quanta_results(major_version, minor_version, get_node_details, shades)\n",
        "\n",
        "  distinct_rows = set()\n",
        "  distinct_cols = set()\n",
        "\n",
        "  for result in quanta_results:\n",
        "      distinct_rows.add(result.model_row)\n",
        "      distinct_cols.add(result.model_col)\n",
        "\n",
        "  distinct_rows = sorted(distinct_rows)\n",
        "  distinct_cols = sorted(distinct_cols)\n",
        "\n",
        "  print_config()\n",
        "  print()\n",
        "\n",
        "  # Create figure and axes\n",
        "  fig1, ax1 = plt.subplots(figsize=(2*len(distinct_cols)/3, 2*len(distinct_rows)/3))  # Adjust the figure size as needed\n",
        "\n",
        "  # Ensure cells are square\n",
        "  ax1.set_aspect('equal', adjustable='box')\n",
        "  ax1.yaxis.set_tick_params(labelleft=True, labelright=False)\n",
        "\n",
        "  colors = [pale_color(custom_cmap(i/shades)) for i in range(shades)]\n",
        "  vertical_labels = []\n",
        "  horizontal_labels = []\n",
        "  wrapper = textwrap.TextWrapper(width=max_width)\n",
        "\n",
        "\n",
        "  show_row = len(distinct_rows)-1\n",
        "  for raw_row in distinct_rows:\n",
        "    vertical_labels += [get_quanta_row_heading(raw_row)]\n",
        "\n",
        "    show_col = 0\n",
        "    for raw_col in distinct_cols:\n",
        "      cell_color = 'lightgrey'  # Color for empty cells\n",
        "\n",
        "      if show_row == 0:\n",
        "        horizontal_labels += [token_position_meanings[raw_col]]\n",
        "\n",
        "      result = find_quanta_result_by_row_col(raw_row, raw_col, quanta_results)\n",
        "      if result != None:\n",
        "        cell_color = colors[result.color_index] if result.color_index >= 0 else 'lightgrey'\n",
        "        the_fontsize = base_fontsize if len(result.cell_text) < 4 else base_fontsize-1 if len(result.cell_text) < 5 else base_fontsize-2\n",
        "        wrapped_text = wrapper.fill(text=result.cell_text)\n",
        "        ax1.text(show_col + 0.5, show_row + 0.5, wrapped_text, ha='center', va='center', color='black', fontsize=the_fontsize)\n",
        "\n",
        "      show_quanta_add_patch(ax1, show_col, show_row, cell_color)\n",
        "      show_col += 1\n",
        "\n",
        "    show_row -= 1\n",
        "\n",
        "\n",
        "  # Configure x axis\n",
        "  ax1.set_xlim(0, len(horizontal_labels))\n",
        "  ax1.set_xticks(np.arange(0.5, len(horizontal_labels), 1))\n",
        "  ax1.set_xticklabels(horizontal_labels)\n",
        "  ax1.xaxis.tick_top()\n",
        "  ax1.xaxis.set_label_position('top')\n",
        "  ax1.tick_params(axis='x', length=0)\n",
        "  for label in ax1.get_xticklabels():\n",
        "    label.set_fontsize(9)\n",
        "\n",
        "  # Configure y axis\n",
        "  vertical_labels = vertical_labels[::-1] # Reverse the order\n",
        "  ax1.set_ylim(0, len(vertical_labels))\n",
        "  ax1.set_yticks(np.arange(0.5, len(vertical_labels), 1))\n",
        "  ax1.set_yticklabels(vertical_labels)\n",
        "  ax1.tick_params(axis='y', length=0)\n",
        "  for label in ax1.get_yticklabels():\n",
        "    label.set_horizontalalignment('left')\n",
        "    label.set_position((-0.1, 0))  # Adjust the horizontal position\n",
        "\n",
        "  fulltitle = op_prefix + ': ' + title + ' d{}_l{}_h{}'.format(cfg.n_digits, cfg.n_layers, cfg.n_heads)\n",
        "\n",
        "  if cfg.save_graph_to_file:\n",
        "    print(\"Saving quanta map:\", fulltitle)\n",
        "    filename = fulltitle.replace( ' ', '_').replace( '-', '_').replace( ':', '_')\n",
        "    plt.savefig(filename+\".pdf\", bbox_inches='tight', pad_inches=0)\n",
        "  else:\n",
        "    ax1.set_title(fulltitle + ' ({} nodes)'.format(len(quanta_results)))\n",
        "\n",
        "  # Show plot\n",
        "  plt.show()"
      ]
    },
    {
      "cell_type": "markdown",
      "metadata": {
        "id": "VpkyhHRoMOSw"
      },
      "source": [
        "# Part 16A: Results: Show failure percentage quanta map\n",
        "\n",
        "Show the percentage failure rate (incorrect prediction) when individual Attention Heads and MLPs are ablated."
      ]
    },
    {
      "cell_type": "code",
      "execution_count": null,
      "metadata": {
        "id": "vQ28dx5YLs0P",
        "colab": {
          "base_uri": "https://localhost:8080/",
          "height": 825
        },
        "outputId": "5fd95ed2-3791-447e-9bde-5c3ab3c2b1aa"
      },
      "outputs": [
        {
          "output_type": "stream",
          "name": "stdout",
          "text": [
            "%Mult= 0 %Sub= 80 %Add= 20 File= ins1_mix_d6_l3_h4_train40K_seed372001\n",
            "\n",
            "Saving quanta map: mix: Complexity.Varied d6_l3_h4\n"
          ]
        },
        {
          "output_type": "display_data",
          "data": {
            "text/plain": [
              "<Figure size 866.667x933.333 with 1 Axes>"
            ],
            "image/png": "[encoded data removed]"
          },
          "metadata": {}
        }
      ],
      "source": [
        "def get_quanta_fail_percs( node, major_version, minor_version, shades):\n",
        "  cell_text = node.only_tag( major_version )\n",
        "  value = int(cell_text) if cell_text != \"\" else 0\n",
        "\n",
        "  if value == 100 and ccfg.num_compressed_cols() > 5:\n",
        "    value = 99 # Avoid overlapping figures in the matrix.\n",
        "  color_index = value // shades\n",
        "  cell_text = (str(value) if value > 0 else \"<1\") + \"%\"\n",
        "\n",
        "  return cell_text, color_index\n",
        "\n",
        "\n",
        "show_quanta_map( VARIED_MAJOR_TAG, plt.cm.winter, 10, FAIL_MAJOR_TAG, \"\", get_quanta_fail_percs, 9)"
      ]
    },
    {
      "cell_type": "markdown",
      "metadata": {
        "id": "avCfaCT1Puhz"
      },
      "source": [
        "# Part 16B: Result: Show attention quanta map\n",
        "\n",
        "Show attention quanta of useful cells"
      ]
    },
    {
      "cell_type": "code",
      "execution_count": null,
      "metadata": {
        "id": "NTGoEWHgvFH6",
        "colab": {
          "base_uri": "https://localhost:8080/",
          "height": 671
        },
        "outputId": "e4bfcb92-5ef5-49f9-9c33-49c95ba7ceb4"
      },
      "outputs": [
        {
          "output_type": "stream",
          "name": "stdout",
          "text": [
            "%Mult= 0 %Sub= 80 %Add= 20 File= ins1_mix_d6_l3_h4_train40K_seed372001\n",
            "\n",
            "Saving quanta map: mix: Attention per node d6_l3_h4\n"
          ]
        },
        {
          "output_type": "display_data",
          "data": {
            "text/plain": [
              "<Figure size 866.667x733.333 with 1 Axes>"
            ],
            "image/png": "[encoded data removed]"
          },
          "metadata": {}
        }
      ],
      "source": [
        "MIN_ATTENTION_PERC = 1 # Only show input tokens with >= 1% of attention\n",
        "\n",
        "\n",
        "# Only maps attention heads, not MLP layers\n",
        "def get_quanta_attention_tag(node, major_version, minor_version, shades):\n",
        "  cell_text = \"\"\n",
        "  color_index = 0\n",
        "\n",
        "  if node.is_head():\n",
        "    sum_perc = 0\n",
        "    node_tags = node.filter_tags( major_version )\n",
        "    for minor_version in node_tags:\n",
        "      node_parts = minor_version.split(\"=\")\n",
        "      token_pos = int(node_parts[0][1:]) # Strip off the \"P\"\n",
        "      the_perc = int(node_parts[1])\n",
        "      if the_perc >= MIN_ATTENTION_PERC:\n",
        "        cell_text += token_position_meanings[token_pos] + \" \"\n",
        "        sum_perc += the_perc\n",
        "\n",
        "    cell_text = cell_text.rstrip(\" \")\n",
        "    color_index = shades - sum_perc // shades    # Want >90% => Dark-Green, and <10% => Yellow\n",
        "\n",
        "    if len(node_tags) == MAX_ATTENTION_TAGS:\n",
        "      # Number of input tokens that node attended to could be > MAX_ATTENTION_TAGS so show yellow\n",
        "      color_index = shades-1\n",
        "\n",
        "  return cell_text, color_index\n",
        "\n",
        "\n",
        "# Only maps attention heads, not MLP layers\n",
        "show_quanta_map( \"Attention per node\", create_custom_colormap(), 10, ATTENTION_MAJOR_TAG, \"\", get_quanta_attention_tag, 10, 6)"
      ]
    },
    {
      "cell_type": "markdown",
      "metadata": {
        "id": "v7-99ZxDOrbF"
      },
      "source": [
        "# Part 16C - Show question complexity (S*) quanta map\n",
        "\n",
        "Show the \"minimum\" addition purpose of each useful cell by S0 to S5 quanta.\n",
        "Show the \"minimum\" subtraction purpose of each useful cell by M0 to M5 quanta"
      ]
    },
    {
      "cell_type": "code",
      "execution_count": null,
      "metadata": {
        "id": "0tAJl0eYO96W"
      },
      "outputs": [],
      "source": [
        "def get_quanta_min_tag(node, major_version, minor_version, shades):\n",
        "  color_index = 0\n",
        "  cell_text = node.min_tag_suffix( major_version, minor_version )\n",
        "  if cell_text != \"\" :\n",
        "    cell_text = cell_text[0:2]\n",
        "    color_index = int(cell_text[1]) if len(cell_text) > 1 and cell_text[1].isdigit() else shades-1\n",
        "\n",
        "  return cell_text, color_index\n",
        "\n",
        "\n",
        "def draw_quanta_min_tags( title, major_version, minor_version, shades):\n",
        "  show_quanta_map( title, create_custom_colormap(), shades, major_version, minor_version, get_quanta_min_tag)"
      ]
    },
    {
      "cell_type": "code",
      "execution_count": null,
      "metadata": {
        "id": "OyoErRoCA-pz",
        "colab": {
          "base_uri": "https://localhost:8080/",
          "height": 568
        },
        "outputId": "5355d3fa-2cbc-4c69-c46c-7d3f4e8fcf77"
      },
      "outputs": [
        {
          "output_type": "stream",
          "name": "stdout",
          "text": [
            "%Mult= 0 %Sub= 80 %Add= 20 File= ins1_mix_d6_l3_h4_train40K_seed372001\n",
            "\n",
            "Saving quanta map: mix: Addition min-complexity per node d6_l3_h4\n"
          ]
        },
        {
          "output_type": "display_data",
          "data": {
            "text/plain": [
              "<Figure size 800x600 with 1 Axes>"
            ],
            "image/png": "[encoded data removed]"
          },
          "metadata": {}
        }
      ],
      "source": [
        "if cfg.perc_add() > 0:\n",
        "  draw_quanta_min_tags( \"Addition min-complexity per node\", ADDITION_MAJOR_TAG, \"\", 6)"
      ]
    },
    {
      "cell_type": "code",
      "execution_count": null,
      "metadata": {
        "id": "CMZzbjxUBQGE",
        "colab": {
          "base_uri": "https://localhost:8080/",
          "height": 825
        },
        "outputId": "03f51d4f-5e48-4b91-bca8-d8be92b2f9f6"
      },
      "outputs": [
        {
          "output_type": "stream",
          "name": "stdout",
          "text": [
            "%Mult= 0 %Sub= 80 %Add= 20 File= ins1_mix_d6_l3_h4_train40K_seed372001\n",
            "\n",
            "Saving quanta map: mix: Subtraction min-complexity per node d6_l3_h4\n"
          ]
        },
        {
          "output_type": "display_data",
          "data": {
            "text/plain": [
              "<Figure size 866.667x933.333 with 1 Axes>"
            ],
            "image/png": "[encoded data removed]"
          },
          "metadata": {}
        }
      ],
      "source": [
        "if cfg.perc_sub > 0:\n",
        "  draw_quanta_min_tags( \"Subtraction min-complexity per node\", SUBTRACTION_MAJOR_TAG, \"\", 4)"
      ]
    },
    {
      "cell_type": "code",
      "execution_count": null,
      "metadata": {
        "id": "x48x45-RInZb",
        "colab": {
          "base_uri": "https://localhost:8080/",
          "height": 414
        },
        "outputId": "298467dc-c8b3-475e-ef6a-ec082352eb72"
      },
      "outputs": [
        {
          "output_type": "stream",
          "name": "stdout",
          "text": [
            "%Mult= 0 %Sub= 80 %Add= 20 File= ins1_mix_d6_l3_h4_train40K_seed372001\n",
            "\n",
            "Saving quanta map: mix: Neg-answer subtraction min-complexity per node d6_l3_h4\n"
          ]
        },
        {
          "output_type": "display_data",
          "data": {
            "text/plain": [
              "<Figure size 600x400 with 1 Axes>"
            ],
            "image/png": "[encoded data removed]"
          },
          "metadata": {}
        }
      ],
      "source": [
        "if cfg.perc_sub > 0:\n",
        "  draw_quanta_min_tags( \"Neg-answer subtraction min-complexity per node\", SUBTRACTION_MAJOR_TAG, COMPLEXITY_NG_TAG, 4)"
      ]
    },
    {
      "cell_type": "markdown",
      "metadata": {
        "id": "IifmtnLoTCN5"
      },
      "source": [
        "# Part 16D - Show answer impact quanta map\n",
        "\n",
        "Show the purpose of each useful cell by impact on the answer digits A0 to A5.\n"
      ]
    },
    {
      "cell_type": "code",
      "execution_count": null,
      "metadata": {
        "id": "2HFvO9nw5kx4"
      },
      "outputs": [],
      "source": [
        "# Check if the digits in the string are sequential\n",
        "def is_sequential(digits):\n",
        "  return all(ord(next_char) - ord(current_char) == -1 for current_char, next_char in zip(digits, digits[1:]))\n",
        "\n",
        "\n",
        "# Convert A654321 to A6..1 for compact display\n",
        "def compact_display_if_sequential(s):\n",
        "    if len(s) > 3:\n",
        "      letter, digits = s[0], s[1:]\n",
        "      if is_sequential(digits):\n",
        "        # Convert to compact form if digits are sequential\n",
        "        return f\"{letter}{digits[0]}..{digits[-1]}\"\n",
        "\n",
        "    # Return original string if not sequential\n",
        "    return s\n",
        "\n",
        "\n",
        "# Unit test\n",
        "assert compact_display_if_sequential(\"A654321\") == \"A6..1\""
      ]
    },
    {
      "cell_type": "code",
      "execution_count": null,
      "metadata": {
        "id": "6K9PyCKYTUzX",
        "colab": {
          "base_uri": "https://localhost:8080/",
          "height": 825
        },
        "outputId": "9a7999dd-253b-4fe4-9f18-7b925338b9ad"
      },
      "outputs": [
        {
          "output_type": "stream",
          "name": "stdout",
          "text": [
            "%Mult= 0 %Sub= 80 %Add= 20 File= ins1_mix_d6_l3_h4_train40K_seed372001\n",
            "\n",
            "Saving quanta map: mix: Answer impact per node d6_l3_h4\n"
          ]
        },
        {
          "output_type": "display_data",
          "data": {
            "text/plain": [
              "<Figure size 866.667x933.333 with 1 Axes>"
            ],
            "image/png": "[encoded data removed]"
          },
          "metadata": {}
        }
      ],
      "source": [
        "def get_impact_quanta_range( node, major_version, minor_version, shades):\n",
        "\n",
        "  cell_text = \"\"\n",
        "  color_index = 0\n",
        "\n",
        "  cell_text = node.min_tag_suffix( major_version, minor_version )\n",
        "  if len(cell_text) > 0:\n",
        "    cell_text = compact_display_if_sequential(cell_text)\n",
        "\n",
        "    color_index = int(cell_text[1]) if len(cell_text) > 1 and cell_text[1].isdigit() else shades-1\n",
        "\n",
        "  return cell_text, color_index\n",
        "\n",
        "\n",
        "show_quanta_map( \"Answer impact per node\", create_custom_colormap(), cfg.n_digits+2, IMPACT_MAJOR_TAG, \"\", get_impact_quanta_range, 9)"
      ]
    },
    {
      "cell_type": "markdown",
      "metadata": {
        "id": "fHSY3blNMe7I"
      },
      "source": [
        "#Part 18: Set Up: Calc and graph PCA decomposition"
      ]
    },
    {
      "cell_type": "code",
      "execution_count": null,
      "metadata": {
        "id": "cCiBsiQAMhS_"
      },
      "outputs": [],
      "source": [
        "tn_questions = 100\n",
        "\n",
        "\n",
        "def make_t_questions(test_digit, test_case, operation):\n",
        "    limit = 10 ** test_digit\n",
        "    questions = []\n",
        "    for i in range(tn_questions):\n",
        "\n",
        "\n",
        "      if operation == PLUS_INDEX:\n",
        "        if test_case == 8:\n",
        "          # These are n_digit addition questions where the first test_digits add up from 0 to 8\n",
        "          x = random.randint(0, 8)\n",
        "          y = random.randint(0, 8-x)\n",
        "        if test_case == 9:\n",
        "          # These are n_digit addition questions where the first test_digits add up to 9\n",
        "          x = random.randint(0, 9)\n",
        "          y = 9 - x\n",
        "        if test_case == 10:\n",
        "          # These are n_digit addition questions where the first test_digits add up to 10 to 18\n",
        "          x = random.randint(1, 9)\n",
        "          y = random.randint(10-x, 9)\n",
        "\n",
        "\n",
        "      if operation == MINUS_INDEX:\n",
        "        if test_case == 8:\n",
        "          # These are n_digit subtraction questions where the first test_digits difference is negative\n",
        "          x = random.randint(0, 8)\n",
        "          y = random.randint(x+1, 9)\n",
        "        if test_case == 9:\n",
        "          # These are n_digit subtraction questions where the first test_digits difference is zero\n",
        "          x = random.randint(0, 9)\n",
        "          y = x\n",
        "        if test_case == 10:\n",
        "          # These are n_digit subtraction questions where the first test_digits difference is positive\n",
        "          x = random.randint(0, 9)\n",
        "          y = random.randint(0, x-1)\n",
        "\n",
        "\n",
        "      # Randomise the last test_digits-1 digits of both numbers\n",
        "      x = x * limit + random.randint(0, limit-1)\n",
        "      y = y * limit + random.randint(0, limit-1)\n",
        "      questions.append([x, y])\n",
        "    return make_questions(operation, questions)\n",
        "\n",
        "\n",
        "\n",
        "def make_tricase_questions(test_digit, operation):\n",
        "  q1 = make_t_questions(test_digit, 8, operation)\n",
        "  q2 = make_t_questions(test_digit, 9, operation)\n",
        "  q3 = make_t_questions(test_digit, 10, operation)\n",
        "\n",
        "  questions = torch.vstack((q1, q2, q3))\n",
        "\n",
        "  return questions"
      ]
    },
    {
      "cell_type": "code",
      "execution_count": null,
      "metadata": {
        "id": "SWCPgoQZMjgc"
      },
      "outputs": [],
      "source": [
        "# Do one Principal Component Analysis\n",
        "def calc_tricase_pca(t_position, t_layer, t_head, t_digit, operation):\n",
        "  global tn_questions\n",
        "\n",
        "  t_questions = make_tricase_questions(t_digit, operation)\n",
        "\n",
        "  t_logits, t_cache = main_model.run_with_cache(t_questions)\n",
        "\n",
        "  # Gather attention patterns for all the (randomly chosen) questions\n",
        "  attention_outputs = []\n",
        "  for i in range(len(t_questions)):\n",
        "\n",
        "    # Output of individual heads, without final bias\n",
        "    attention_cache=t_cache[\"result\", t_layer, \"attn\"] # Output of individual heads, without final bias\n",
        "    attention_output=attention_cache[i]  # Shape [n_ctx, n_head, d_model]\n",
        "    attention_outputs.append(attention_output[t_position, t_head, :])\n",
        "\n",
        "  attn_outputs = torch.stack(attention_outputs, dim=0).cpu()\n",
        "\n",
        "  pca = PCA(n_components=6)\n",
        "  pca.fit(attn_outputs)\n",
        "  pca_attn_outputs = pca.transform(attn_outputs)\n",
        "\n",
        "  title = 'P' + str(t_position) + 'L' + str(t_layer) + 'H'+str(t_head) + ', A'+str(t_digit) + ', EVR[0]=' + str(int(round(pca.explained_variance_ratio_[0]*100,0))) + '%'\n",
        "\n",
        "  return (pca, pca_attn_outputs, title)\n",
        "\n",
        "\n",
        "# Plot one PCA scatter graph\n",
        "def graph_pca(pca, pca_attn_outputs, ax, title):\n",
        "  global tn_questions\n",
        "\n",
        "  ax.scatter(pca_attn_outputs[:tn_questions, 0], pca_attn_outputs[:tn_questions, 1], color='red', label='T8 (0-8)') # t8 questions\n",
        "  ax.scatter(pca_attn_outputs[tn_questions:2*tn_questions, 0], pca_attn_outputs[tn_questions:2*tn_questions, 1], color='green', label='T9') # t9 questions\n",
        "  ax.scatter(pca_attn_outputs[2*tn_questions:, 0], pca_attn_outputs[2*tn_questions:, 1], color='blue', label='T10 (10-18)') # t10 questions\n",
        "\n",
        "  if title != \"\" :\n",
        "    ax.set_title(title)"
      ]
    },
    {
      "cell_type": "code",
      "execution_count": null,
      "metadata": {
        "id": "Zk2K3y7pMlQr"
      },
      "outputs": [],
      "source": [
        "# Graph the PCA of Pasn.Ln.Hn's attention pattern, using T8, T9, T10 questions that differ in the An digit\n",
        "def add_one_pca_subplot(ax, t_position, t_layer, t_head, t_digit, operation):\n",
        "  try:\n",
        "    pca, pca_attn_outputs, title = calc_tricase_pca(t_position, t_layer, t_head, t_digit, operation)\n",
        "    graph_pca( pca, pca_attn_outputs, ax, title)\n",
        "  except Exception as e:\n",
        "    desc = \"add_one_pca_subplot(P\" + str(t_position) + \"L\"+ str(t_layer) + \"H\"+ str(t_head) + \" D\"+ str(t_digit) + \" \"+ str(operation) + \")\"\n",
        "    print( desc + \" Failed:\", e)"
      ]
    },
    {
      "cell_type": "code",
      "execution_count": null,
      "metadata": {
        "id": "IEF7MQqCMngv"
      },
      "outputs": [],
      "source": [
        "def save_plt_to_file( full_title ):\n",
        "  if cfg.save_graph_to_file:\n",
        "    filename = full_title.replace(\" \", \"_\").replace(\",\", \"\").replace(\":\", \"_\")  + '.pdf'\n",
        "    plt.savefig(filename)"
      ]
    },
    {
      "cell_type": "markdown",
      "metadata": {
        "id": "Rbiau9foMp3h"
      },
      "source": [
        "#Part 19: Results: add_d6_l2_h3_train15K PCA decomposition tri-state results\n",
        "\n",
        "Plot attention heads in the positions 8 to 16 with a clear \"tri-state\" response to (exactly) one An."
      ]
    },
    {
      "cell_type": "code",
      "execution_count": null,
      "metadata": {
        "id": "HQ5fS3XNMs8e",
        "colab": {
          "base_uri": "https://localhost:8080/"
        },
        "outputId": "ca65a22d-8b2e-435f-a4d4-849e4d7ea57a"
      },
      "outputs": [
        {
          "output_type": "stream",
          "name": "stdout",
          "text": [
            "PCA library failed to import. So PCA not done\n"
          ]
        }
      ],
      "source": [
        "if not use_pca:\n",
        "  print( \"PCA library failed to import. So PCA not done\")\n",
        "\n",
        "if use_pca and (model_name == \"add_d5_l2_h3_train15K\" or model_name == \"add_d6_l2_h3_train15K\"):\n",
        "  op = PLUS_INDEX\n",
        "\n",
        "\n",
        "  if model_name == \"add_d5_l2_h3_train15K\" :\n",
        "    fig, axs = plt.subplots(4, 2)\n",
        "    fig.set_figheight(8)\n",
        "    fig.set_figwidth(5)\n",
        "\n",
        "    # Plot all useful attention heads in the positions 8 to 14 with the clearest An selected\n",
        "    add_one_pca_subplot(axs[0, 0], 8, 0, 1, 2, op)    # P8.L0.H1 is interpretable only for A2\n",
        "    add_one_pca_subplot(axs[0, 1], 9, 0, 1, 1, op)    # P9.L0.H1 is interpretable only for A1\n",
        "    add_one_pca_subplot(axs[1, 0], 11, 0, 1, 3, op)   # P11.L0.H1 is interpretable only for A3\n",
        "    add_one_pca_subplot(axs[1, 1], 11, 0, 2, 4, op)   # P11.L0.H2 is interpretable only for A4\n",
        "    add_one_pca_subplot(axs[2, 0], 12, 0, 1, 3, op)   # P12.L0.H1 is interpretable only for A3\n",
        "    add_one_pca_subplot(axs[2, 1], 13, 0, 1, 2, op)   # P13.L0.H1 is interpretable only for A2\n",
        "    add_one_pca_subplot(axs[3, 0], 14, 0, 1, 1, op)   # P14.L0.H1 is interpretable only for A1\n",
        "\n",
        "    lines_labels = [axs[0,0].get_legend_handles_labels()]\n",
        "    lines, labels = [sum(lol, []) for lol in zip(*lines_labels)]\n",
        "    # fig.legend(lines, labels, loc='lower center', ncol=4)\n",
        "    # fig.subplots_adjust(bottom=0.2)  # Adjust the bottom spacing\n",
        "    axs[3, 1].legend(lines, labels)\n",
        "    axs[3, 1].axis('off') # Now, to hide the last subplot\n",
        "\n",
        "\n",
        "  if model_name == \"add_d6_l2_h3_train15K\" :\n",
        "    fig, axs = plt.subplots(5, 2)\n",
        "    fig.set_figheight(8)\n",
        "    fig.set_figwidth(5)\n",
        "\n",
        "    # Plot all useful attention heads in the positions 11 to 16 with the clearest An selected\n",
        "    add_one_pca_subplot(axs[0, 0], 11, 0, 0, 2, op)   # P11.L0.H0 is interpretable only for A2\n",
        "    add_one_pca_subplot(axs[0, 1], 12, 0, 0, 3, op)   # P12.L0.H0 is interpretable only for A3\n",
        "    add_one_pca_subplot(axs[1, 0], 13, 0, 0, 1, op)   # P13.L0.H0 is interpretable only for A1\n",
        "    add_one_pca_subplot(axs[1, 1], 14, 0, 0, 4, op)   # P14.L0.H0 is interpretable only for A4\n",
        "    add_one_pca_subplot(axs[2, 0], 14, 1, 1, 4, op)   # P14.L1.H1 is interpretable only for A4\n",
        "    add_one_pca_subplot(axs[2, 1], 15, 0, 0, 4, op)   # P15.L0.H0 is interpretable only for A4\n",
        "    add_one_pca_subplot(axs[3, 0], 15, 1, 1, 4, op)   # P15.L1.H1 is interpretable only for A4\n",
        "    add_one_pca_subplot(axs[3, 1], 15, 1, 2, 4, op)   # P15.L1.H2 is interpretable only for A4\n",
        "    add_one_pca_subplot(axs[4, 0], 17, 0, 0, 2, op)   # P16.L0.H0 is interpretable only for A5\n",
        "\n",
        "    lines_labels = [axs[0,0].get_legend_handles_labels()]\n",
        "    lines, labels = [sum(lol, []) for lol in zip(*lines_labels)]\n",
        "    # fig.legend(lines, labels, loc='lower center', ncol=4)\n",
        "    # fig.subplots_adjust(bottom=0.2)  # Adjust the bottom spacing\n",
        "    axs[4, 1].legend(lines, labels)\n",
        "    axs[4, 1].axis('off') # Now, to hide the last subplot\n",
        "\n",
        "\n",
        "  plt.tight_layout()\n",
        "  save_plt_to_file('PCA_Trigrams')\n",
        "  plt.show()"
      ]
    },
    {
      "cell_type": "markdown",
      "metadata": {
        "id": "3611cpuEFhoW"
      },
      "source": [
        "#Part 19B: Results: add_d6_l2_h3_train15K PCA decomposition bi-state results\n",
        "\n",
        "Plot attention heads in the positions 8 to 16 with a clear \"bi-state\" response to (exactly) one An.\n"
      ]
    },
    {
      "cell_type": "code",
      "execution_count": null,
      "metadata": {
        "id": "qAT8Z54oMuur",
        "colab": {
          "base_uri": "https://localhost:8080/"
        },
        "outputId": "be5eae4c-4096-4616-e52e-3a0e6650613c"
      },
      "outputs": [
        {
          "output_type": "stream",
          "name": "stdout",
          "text": [
            "PCA library failed to import. So PCA not done\n"
          ]
        }
      ],
      "source": [
        "if not use_pca:\n",
        "  print( \"PCA library failed to import. So PCA not done\")\n",
        "\n",
        "if use_pca and model_name == \"add_d5_l2_h3_train15K\" :\n",
        "  op = PLUS_INDEX\n",
        "\n",
        "  fig, axs = plt.subplots(1, 2)\n",
        "  fig.set_figheight(2)\n",
        "  fig.set_figwidth(5)\n",
        "\n",
        "  # Plot all useful attention heads in the positions 8 to 12 with the clearest An selected\n",
        "  add_one_pca_subplot(axs[0], 10, 0, 1, 0, op)   # P10.L0.H1 is clear only for A0\n",
        "  add_one_pca_subplot(axs[1], 15, 0, 1, 0, op)   # P15.L0.H1 is clear only for A0\n",
        "\n",
        "  lines_labels = [axs[0].get_legend_handles_labels()]\n",
        "  lines, labels = [sum(lol, []) for lol in zip(*lines_labels)]\n",
        "  fig.legend(lines, labels, loc='lower center', ncol=4)\n",
        "\n",
        "  plt.tight_layout()\n",
        "  save_plt_to_file('PCA_Bigrams')\n",
        "  plt.show()"
      ]
    },
    {
      "cell_type": "markdown",
      "metadata": {
        "id": "jIu3Pr9CMx3l"
      },
      "source": [
        "#Part 19C: Results: PCA decomposition of useful cells\n",
        "\n",
        "Parts 19A and 19B are selective. This part is not. Use it to find (verify) the interesting parts."
      ]
    },
    {
      "cell_type": "code",
      "execution_count": null,
      "metadata": {
        "id": "vdfpkXmAMzg4"
      },
      "outputs": [],
      "source": [
        "def graph_all_pca_results(op):\n",
        "  for node in ccfg.useful_nodes:\n",
        "    if node.is_head():\n",
        "      print( \"PCA: \" + node.name())\n",
        "\n",
        "      fig, axs = plt.subplots(4, 2)\n",
        "\n",
        "      add_one_pca_subplot(axs[0, 0], node.position, node.layer, node.head, 0, op)\n",
        "      add_one_pca_subplot(axs[0, 1], node.position, node.layer, node.head, 1, op)\n",
        "      add_one_pca_subplot(axs[1, 0], node.position, node.layer, node.head, 2, op)\n",
        "      add_one_pca_subplot(axs[1, 1], node.position, node.layer, node.head, 3, op)\n",
        "      add_one_pca_subplot(axs[2, 0], node.position, node.layer, node.head, 4, op)\n",
        "      add_one_pca_subplot(axs[2, 1], node.position, node.layer, node.head, 5, op)\n",
        "      add_one_pca_subplot(axs[3, 0], node.position, node.layer, node.head, 6, op)\n",
        "      add_one_pca_subplot(axs[3, 1], node.position, node.layer, node.head, 7, op)\n",
        "\n",
        "      plt.tight_layout()\n",
        "      plt.show()\n",
        "\n",
        "\n",
        "if use_pca and model_name == \"add_d6_l2_h3_train15K\" :\n",
        "\n",
        "  if cfg.perc_add() > 0:\n",
        "    graph_all_pca_results(PLUS_INDEX)\n",
        "  if cfg.perc_sub > 0:\n",
        "    graph_all_pca_results(MINUS_INDEX)"
      ]
    },
    {
      "cell_type": "markdown",
      "source": [
        "# Part 20: Results: Show useful nodes and behaviour tags"
      ],
      "metadata": {
        "id": "jFcCpfmKwlAH"
      }
    },
    {
      "cell_type": "code",
      "source": [
        "ccfg.useful_nodes = sorted(ccfg.useful_nodes, key=lambda obj: (obj.position, obj.layer, obj.head))\n"
      ],
      "metadata": {
        "id": "0i6q2-lcgp5w"
      },
      "execution_count": null,
      "outputs": []
    },
    {
      "cell_type": "code",
      "source": [
        "ccfg.print_node_tags()"
      ],
      "metadata": {
        "colab": {
          "base_uri": "https://localhost:8080/"
        },
        "id": "vbzIaqmtwmkH",
        "outputId": "35e5179a-8e08-43fd-8a23-f2b9cd57633a"
      },
      "execution_count": null,
      "outputs": [
        {
          "output_type": "stream",
          "name": "stdout",
          "text": [
            "P0L0H2 ['FailPerc:0', 'Impact:A7', 'Complexity.Sub:M1', 'Attn:P0=100']\n",
            "P0L0H3 ['FailPerc:5', 'Impact:A7', 'Complexity.Sub:M013', 'Attn:P0=100']\n",
            "P0L0H4 ['FailPerc:0', 'Impact:A7', 'Complexity.Sub:M13']\n",
            "P9L0H0 ['FailPerc:7', 'Impact:A765', 'Complexity.Add:S01234', 'Complexity.Sub:M13', 'Attn:P8=53', 'Attn:P1=47']\n",
            "P9L0H1 ['FailPerc:0', 'Impact:A654', 'Complexity.Add:S124', 'Attn:P8=53', 'Attn:P1=46']\n",
            "P9L0H3 ['FailPerc:0', 'Impact:A5', 'Complexity.Sub:NG', 'Attn:P6=79', 'Attn:P9=7', 'Attn:P8=4', 'Attn:P7=3']\n",
            "P9L0H4 ['FailPerc:14', 'Impact:A765', 'Complexity.Add:S12345', 'Complexity.Sub:M0123']\n",
            "P9L1H4 ['FailPerc:0', 'Impact:A7', 'Complexity.Sub:NG']\n",
            "P10L0H0 ['FailPerc:0', 'Impact:A54', 'Complexity.Add:S13', 'Attn:P10=51', 'Attn:P3=48']\n",
            "P10L0H1 ['FailPerc:0', 'Impact:A76543', 'Complexity.Add:S234', 'Complexity.Sub:M12', 'Attn:P3=50', 'Attn:P10=50']\n",
            "P10L0H4 ['FailPerc:10', 'Impact:A76543', 'Complexity.Add:S12345', 'Complexity.Sub:M012']\n",
            "P11L0H0 ['FailPerc:0', 'Impact:A3', 'Complexity.Add:S12', 'Attn:P10=51', 'Attn:P3=49']\n",
            "P11L0H1 ['FailPerc:8', 'Impact:A76543', 'Complexity.Add:S012345', 'Complexity.Sub:M123', 'Attn:P4=52', 'Attn:P11=48']\n",
            "P11L0H4 ['FailPerc:8', 'Impact:A765432', 'Complexity.Add:S2345', 'Complexity.Sub:M0123']\n",
            "P12L0H0 ['FailPerc:4', 'Impact:A7654', 'Complexity.Add:S123', 'Complexity.Sub:M12', 'Attn:P9=52', 'Attn:P2=48']\n",
            "P12L0H1 ['FailPerc:1', 'Impact:A54', 'Complexity.Add:S12', 'Attn:P9=50', 'Attn:P2=49']\n",
            "P12L0H4 ['FailPerc:16', 'Impact:A7654', 'Complexity.Add:S12345', 'Complexity.Sub:M12']\n",
            "P13L0H0 ['FailPerc:3', 'Impact:A5432', 'Complexity.Add:S123', 'Complexity.Sub:M23', 'Attn:P11=50', 'Attn:P4=49']\n",
            "P13L0H1 ['FailPerc:15', 'Impact:A7654321', 'Complexity.Add:S012345', 'Complexity.Sub:M23', 'Attn:P5=51', 'Attn:P12=48']\n",
            "P13L0H3 ['FailPerc:24', 'Impact:A72', 'Complexity.Add:S012', 'Complexity.Sub:M0123', 'Attn:P6=52', 'Attn:P7=48']\n",
            "P13L0H4 ['FailPerc:14', 'Impact:A7654321', 'Complexity.Add:S2345', 'Complexity.Sub:M0123']\n",
            "P13L1H0 ['FailPerc:0', 'Impact:A7', 'Complexity.Sub:M3', 'Attn:P9=61', 'Attn:P13=8', 'Attn:P5=5', 'Attn:P12=4']\n",
            "P13L1H3 ['FailPerc:6', 'Impact:A7', 'Complexity.Sub:M13', 'Attn:P0=37', 'Attn:P13=35', 'Attn:P6=8', 'Attn:P11=5']\n",
            "P13L2H0 ['FailPerc:5', 'Impact:A7', 'Complexity.Sub:NG', 'Attn:P9=34', 'Attn:P12=11', 'Attn:P6=10', 'Attn:P1=7']\n",
            "P13L2H2 ['FailPerc:1', 'Impact:A7', 'Complexity.Sub:M013', 'Attn:P0=34', 'Attn:P13=28', 'Attn:P11=13', 'Attn:P12=10']\n",
            "P14L0H0 ['FailPerc:27', 'Impact:A6543210', 'Complexity.Add:S123', 'Complexity.Sub:NG', 'Attn:P8=38', 'Attn:P1=36', 'Attn:P6=24']\n",
            "P14L0H1 ['FailPerc:12', 'Impact:A6543210', 'Complexity.Add:S12345', 'Complexity.Sub:NG', 'Attn:P6=48', 'Attn:P13=47']\n",
            "P14L0H2 ['FailPerc:12', 'Impact:A6', 'Complexity.Add:S12345', 'Attn:P0=39', 'Attn:P7=37', 'Attn:P6=10', 'Attn:P14=7']\n",
            "P14L0H4 ['FailPerc:41', 'Impact:A6543210', 'Complexity.Add:S12345', 'Complexity.Sub:M2']\n",
            "P14L1H2 ['FailPerc:1', 'Impact:A6', 'Complexity.Add:S0', 'Attn:P6=18', 'Attn:P14=16', 'Attn:P10=10', 'Attn:P13=9']\n",
            "P14L1H3 ['FailPerc:2', 'Impact:A6', 'Complexity.Add:S01234', 'Attn:P9=39', 'Attn:P12=18', 'Attn:P0=7', 'Attn:P10=5']\n",
            "P14L1H4 ['FailPerc:3', 'Impact:A6', 'Complexity.Add:S01234']\n",
            "P15L0H0 ['FailPerc:9', 'Impact:A5', 'Complexity.Add:S123', 'Complexity.Sub:M12', 'Attn:P8=52', 'Attn:P1=48']\n",
            "P15L0H1 ['FailPerc:58', 'Impact:A5', 'Complexity.Add:S012345', 'Complexity.Sub:M0123', 'Attn:P0=52', 'Attn:P7=48']\n",
            "P15L0H2 ['FailPerc:68', 'Impact:A5', 'Complexity.Add:S012345', 'Complexity.Sub:M0123', 'Attn:P7=49', 'Attn:P0=48']\n",
            "P15L0H3 ['FailPerc:3', 'Impact:A5', 'Complexity.Add:S01345', 'Complexity.Sub:NG', 'Attn:P6=42', 'Attn:P13=23', 'Attn:P15=15', 'Attn:P14=7']\n",
            "P15L0H4 ['FailPerc:58', 'Impact:A5', 'Complexity.Add:S012345', 'Complexity.Sub:M0123']\n",
            "P15L1H1 ['FailPerc:3', 'Impact:A5', 'Complexity.Sub:M0123', 'Attn:P15=17', 'Attn:P14=16', 'Attn:P6=14', 'Attn:P13=9']\n",
            "P15L1H2 ['FailPerc:1', 'Impact:A5', 'Complexity.Add:S01', 'Complexity.Sub:M12', 'Attn:P9=45', 'Attn:P12=15', 'Attn:P10=11', 'Attn:P13=8']\n",
            "P15L1H3 ['FailPerc:8', 'Impact:A5', 'Complexity.Add:S1234', 'Attn:P9=59', 'Attn:P12=26', 'Attn:P10=7', 'Attn:P11=3']\n",
            "P15L1H4 ['FailPerc:22', 'Impact:A5', 'Complexity.Add:S012345', 'Complexity.Sub:M0123']\n",
            "P15L2H0 ['FailPerc:2', 'Impact:A5', 'Complexity.Sub:NG', 'Attn:P9=26', 'Attn:P14=22', 'Attn:P12=17', 'Attn:P6=8']\n",
            "P15L2H1 ['FailPerc:2', 'Impact:A5', 'Complexity.Sub:NG', 'Attn:P14=17', 'Attn:P9=15', 'Attn:P6=15', 'Attn:P12=15']\n",
            "P15L2H4 ['FailPerc:14', 'Impact:A5', 'Complexity.Sub:M123']\n",
            "P16L0H0 ['FailPerc:4', 'Impact:A4', 'Complexity.Add:S123', 'Complexity.Sub:M23', 'Attn:P2=50', 'Attn:P9=49']\n",
            "P16L0H1 ['FailPerc:57', 'Impact:A4', 'Complexity.Add:S01234', 'Complexity.Sub:M0123', 'Attn:P1=55', 'Attn:P8=45']\n",
            "P16L0H2 ['FailPerc:67', 'Impact:A4', 'Complexity.Add:S012345', 'Complexity.Sub:M0123', 'Attn:P8=54', 'Attn:P1=45']\n",
            "P16L0H3 ['FailPerc:1', 'Impact:A4', 'Complexity.Add:S24', 'Complexity.Sub:M2', 'Attn:P6=74', 'Attn:P14=9', 'Attn:P13=6', 'Attn:P9=3']\n",
            "P16L0H4 ['FailPerc:67', 'Impact:A4', 'Complexity.Add:S012345', 'Complexity.Sub:M0123']\n",
            "P16L1H0 ['FailPerc:3', 'Impact:A4', 'Complexity.Sub:M0123', 'Attn:P16=21', 'Attn:P14=16', 'Attn:P9=11', 'Attn:P12=9']\n",
            "P16L1H1 ['FailPerc:6', 'Impact:A4', 'Complexity.Sub:M0123', 'Attn:P6=21', 'Attn:P14=14', 'Attn:P13=10', 'Attn:P16=10']\n",
            "P16L1H2 ['FailPerc:3', 'Impact:A4', 'Complexity.Add:S01', 'Complexity.Sub:M1', 'Attn:P12=45', 'Attn:P10=19', 'Attn:P11=13', 'Attn:P13=11']\n",
            "P16L1H3 ['FailPerc:4', 'Impact:A4', 'Complexity.Add:S123', 'Attn:P12=57', 'Attn:P10=25', 'Attn:P11=10', 'Attn:P13=2']\n",
            "P16L1H4 ['FailPerc:23', 'Impact:A4', 'Complexity.Add:S01234', 'Complexity.Sub:M0123']\n",
            "P16L2H0 ['FailPerc:6', 'Impact:A4', 'Complexity.Sub:NG', 'Attn:P12=23', 'Attn:P14=18', 'Attn:P6=10', 'Attn:P9=8']\n",
            "P16L2H1 ['FailPerc:0', 'Impact:A4', 'Complexity.Sub:M1', 'Attn:P14=21', 'Attn:P6=14', 'Attn:P12=13', 'Attn:P13=8']\n",
            "P16L2H4 ['FailPerc:16', 'Impact:A4', 'Complexity.Sub:M0123']\n",
            "P17L0H0 ['FailPerc:0', 'Impact:A3', 'Complexity.Add:S12', 'Attn:P3=50', 'Attn:P10=49']\n",
            "P17L0H1 ['FailPerc:56', 'Impact:A3', 'Complexity.Add:S0123', 'Complexity.Sub:M0123', 'Attn:P2=53', 'Attn:P9=46']\n",
            "P17L0H2 ['FailPerc:67', 'Impact:A3', 'Complexity.Add:S012345', 'Complexity.Sub:M0123', 'Attn:P9=54', 'Attn:P2=45']\n",
            "P17L0H3 ['FailPerc:1', 'Impact:A3', 'Complexity.Add:S123', 'Complexity.Sub:M12', 'Attn:P6=71', 'Attn:P14=9', 'Attn:P13=6', 'Attn:P9=2']\n",
            "P17L0H4 ['FailPerc:68', 'Impact:A3', 'Complexity.Add:S012345', 'Complexity.Sub:M0123']\n",
            "P17L1H0 ['FailPerc:3', 'Impact:A3', 'Complexity.Sub:M0123', 'Attn:P17=27', 'Attn:P12=12', 'Attn:P14=11', 'Attn:P10=11']\n",
            "P17L1H1 ['FailPerc:8', 'Impact:A3', 'Complexity.Sub:M0123', 'Attn:P6=20', 'Attn:P14=14', 'Attn:P11=13', 'Attn:P13=13']\n",
            "P17L1H2 ['FailPerc:5', 'Impact:A3', 'Complexity.Add:S012', 'Complexity.Sub:M12', 'Attn:P10=32', 'Attn:P11=29', 'Attn:P13=21', 'Attn:P6=9']\n",
            "P17L1H3 ['FailPerc:0', 'Impact:A3', 'Complexity.Add:S23', 'Attn:P11=38', 'Attn:P10=27', 'Attn:P13=18', 'Attn:P14=11']\n",
            "P17L1H4 ['FailPerc:22', 'Impact:A3', 'Complexity.Add:S012345', 'Complexity.Sub:M0123']\n",
            "P17L2H0 ['FailPerc:6', 'Impact:A3', 'Complexity.Sub:NG', 'Attn:P14=17', 'Attn:P11=11', 'Attn:P6=10', 'Attn:P10=10']\n",
            "P17L2H1 ['FailPerc:0', 'Impact:A3', 'Complexity.Sub:M1', 'Attn:P14=22', 'Attn:P6=13', 'Attn:P11=11', 'Attn:P13=10']\n",
            "P17L2H4 ['FailPerc:19', 'Impact:A3', 'Complexity.Sub:M0123']\n",
            "P18L0H0 ['FailPerc:8', 'Impact:A2', 'Complexity.Add:S01234', 'Complexity.Sub:M0123', 'Attn:P4=51', 'Attn:P11=48']\n",
            "P18L0H1 ['FailPerc:48', 'Impact:A2', 'Complexity.Add:S012345', 'Complexity.Sub:M0123', 'Attn:P3=56', 'Attn:P10=44']\n",
            "P18L0H2 ['FailPerc:64', 'Impact:A2', 'Complexity.Add:S012345', 'Complexity.Sub:M0123', 'Attn:P10=53', 'Attn:P3=44']\n",
            "P18L0H3 ['FailPerc:2', 'Impact:A2', 'Complexity.Add:S2', 'Complexity.Sub:M01', 'Attn:P6=72', 'Attn:P14=8', 'Attn:P13=7', 'Attn:P11=4']\n",
            "P18L0H4 ['FailPerc:66', 'Impact:A2', 'Complexity.Add:S012345', 'Complexity.Sub:M0123']\n",
            "P18L1H0 ['FailPerc:5', 'Impact:A2', 'Complexity.Sub:M0123', 'Attn:P18=23', 'Attn:P10=15', 'Attn:P11=10', 'Attn:P14=10']\n",
            "P18L1H1 ['FailPerc:9', 'Impact:A2', 'Complexity.Sub:M012', 'Attn:P6=20', 'Attn:P13=16', 'Attn:P14=15', 'Attn:P11=14']\n",
            "P18L1H2 ['FailPerc:6', 'Impact:A2', 'Complexity.Add:S01234', 'Complexity.Sub:M12', 'Attn:P13=50', 'Attn:P6=18', 'Attn:P11=9', 'Attn:P14=7']\n",
            "P18L1H3 ['FailPerc:1', 'Impact:A2', 'Complexity.Add:S2345', 'Attn:P13=49', 'Attn:P14=22', 'Attn:P18=11', 'Attn:P11=6']\n",
            "P18L1H4 ['FailPerc:22', 'Impact:A2', 'Complexity.Add:S01234', 'Complexity.Sub:M0123']\n",
            "P18L2H0 ['FailPerc:6', 'Impact:A2', 'Complexity.Sub:NG', 'Attn:P13=19', 'Attn:P14=16', 'Attn:P11=13', 'Attn:P6=10']\n",
            "P18L2H4 ['FailPerc:22', 'Impact:A2', 'Complexity.Add:S12', 'Complexity.Sub:M0123']\n",
            "P19L0H0 ['FailPerc:5', 'Impact:A1', 'Complexity.Add:S123', 'Complexity.Sub:M12', 'Attn:P5=50', 'Attn:P12=49']\n",
            "P19L0H1 ['FailPerc:58', 'Impact:A1', 'Complexity.Add:S012345', 'Complexity.Sub:M0123', 'Attn:P4=54', 'Attn:P11=45']\n",
            "P19L0H2 ['FailPerc:67', 'Impact:A1', 'Complexity.Add:S012345', 'Complexity.Sub:M0123', 'Attn:P11=53', 'Attn:P4=45']\n",
            "P19L0H3 ['FailPerc:4', 'Impact:A1', 'Complexity.Add:S012345', 'Complexity.Sub:M12', 'Attn:P6=75', 'Attn:P14=10', 'Attn:P12=6', 'Attn:P13=3']\n",
            "P19L0H4 ['FailPerc:65', 'Impact:A1', 'Complexity.Add:S012345', 'Complexity.Sub:M0123']\n",
            "P19L1H0 ['FailPerc:7', 'Impact:A1', 'Complexity.Sub:M0123', 'Attn:P19=22', 'Attn:P14=12', 'Attn:P11=11', 'Attn:P13=10']\n",
            "P19L1H1 ['FailPerc:8', 'Impact:A1', 'Complexity.Sub:M0123', 'Attn:P6=22', 'Attn:P13=15', 'Attn:P14=15', 'Attn:P19=13']\n",
            "P19L1H4 ['FailPerc:17', 'Impact:A1', 'Complexity.Add:S01234', 'Complexity.Sub:M123']\n",
            "P19L2H0 ['FailPerc:0', 'Impact:A1', 'Complexity.Sub:NG', 'Attn:P13=36', 'Attn:P14=15', 'Attn:P6=8', 'Attn:P11=7']\n",
            "P19L2H1 ['FailPerc:0', 'Impact:A1', 'Complexity.Sub:NG', 'Attn:P13=28', 'Attn:P14=19', 'Attn:P6=13', 'Attn:P11=6']\n",
            "P19L2H4 ['FailPerc:17', 'Impact:A1', 'Complexity.Sub:M123']\n",
            "P20L0H0 ['FailPerc:9', 'Impact:A0', 'Complexity.Sub:NG', 'Attn:P14=57', 'Attn:P15=24', 'Attn:P6=6', 'Attn:P13=3']\n",
            "P20L0H1 ['FailPerc:54', 'Impact:A0', 'Complexity.Add:S012345', 'Complexity.Sub:M0123', 'Attn:P5=58', 'Attn:P12=41']\n",
            "P20L0H2 ['FailPerc:68', 'Impact:A0', 'Complexity.Add:S012345', 'Complexity.Sub:M0123', 'Attn:P12=54', 'Attn:P5=43']\n",
            "P20L0H3 ['FailPerc:3', 'Impact:A0', 'Complexity.Sub:M012', 'Attn:P6=69', 'Attn:P14=10', 'Attn:P12=6', 'Attn:P13=5']\n",
            "P20L0H4 ['FailPerc:65', 'Impact:A0', 'Complexity.Add:S012345', 'Complexity.Sub:M0123']\n",
            "P20L1H0 ['FailPerc:4', 'Impact:A0', 'Complexity.Sub:M123', 'Attn:P20=30', 'Attn:P14=11', 'Attn:P19=9', 'Attn:P13=9']\n",
            "P20L1H1 ['FailPerc:8', 'Impact:A0', 'Complexity.Sub:M0123', 'Attn:P6=18', 'Attn:P20=17', 'Attn:P14=16', 'Attn:P13=11']\n",
            "P20L1H4 ['FailPerc:26', 'Impact:A0', 'Complexity.Add:S012345', 'Complexity.Sub:M123']\n",
            "P20L2H4 ['FailPerc:5', 'Impact:A0', 'Complexity.Sub:M123']\n"
          ]
        }
      ]
    },
    {
      "cell_type": "markdown",
      "metadata": {
        "id": "7bbeIfUxvLzl"
      },
      "source": [
        "# Part 21A : Set up: Interchange Interventions\n",
        "\n",
        "Here we prove that model nodes perform specified calculations. If all the calculations in an algorithm hypothesis are found to exist in a model instance, this provides evidence for the hypothesis.   \n",
        "\n",
        "**Automatic searches** for node purposes are preferred, as they applicable to several models, and survive (non-sigificant, node-reordering) changes to the model after training. When a node purpose is detected, this is documented as a tag on the node.\n",
        "\n",
        "**Manually written tests** of node purposes, specific to a single model instance are also supported."
      ]
    },
    {
      "cell_type": "code",
      "execution_count": null,
      "metadata": {
        "id": "i8VoNc_ckfrJ"
      },
      "outputs": [],
      "source": [
        "class A_Config():\n",
        "  # A list of nodes to test. Each node is a list with three values [position, layer, head]\n",
        "  # An example list is [[11,0,0], [11,0,1]]\n",
        "  nodes = []\n",
        "\n",
        "  # A list of stored weightings collected from the model.\n",
        "  # Same length as nodes\n",
        "  layer_store = []\n",
        "\n",
        "  questions = []\n",
        "  null_hooks = []\n",
        "  get_hooks = []\n",
        "  put_hooks = []\n",
        "\n",
        "\n",
        "  def reset(self):\n",
        "    self.nodes = []\n",
        "    self.layer_store = [[],[],[]]   # Supports 3 layers\n",
        "    self.questions = []\n",
        "    self.null_hooks = []\n",
        "    self.get_hooks = []\n",
        "    self.put_hooks = []\n",
        "\n",
        "    ccfg.curr_position = 0\n",
        "    ccfg.curr_layer = 0\n",
        "    ccfg.curr_heads = 0\n",
        "    ccfg.threshold = 0.00001\n",
        "\n",
        "\n",
        "  def node_name(self, index):\n",
        "    return position_name(self.nodes[index][0]) + \"L\" + str(self.nodes[index][1]) + \"H\" + str(self.nodes[index][2])\n",
        "\n",
        "\n",
        "  def node_names(self):\n",
        "    answer = \"\"\n",
        "\n",
        "    for index in range(len(acfg.nodes)):\n",
        "      if answer != \"\":\n",
        "        answer += \", \"\n",
        "      answer += acfg.node_name(index)\n",
        "\n",
        "    return answer\n",
        "\n",
        "\n",
        "acfg = A_Config()\n",
        "acfg.reset()"
      ]
    },
    {
      "cell_type": "code",
      "execution_count": null,
      "metadata": {
        "id": "mMdSybNpnU0m"
      },
      "outputs": [],
      "source": [
        "# Get and put attention head value hooks\n",
        "\n",
        "def a_null_attn_z_hook(value, hook):\n",
        "  global acfg\n",
        "\n",
        "  #print(\"In a_null_attn_z_hook\", value.shape)  # Get [1, 22, 3, 170] = ???, cfg.n_ctx, cfg.n_heads, cfg.d_head\n",
        "\n",
        "\n",
        "def a_get_l0_attn_z_hook(value, hook):\n",
        "  # print( \"In a_get_l0_attn_z_hook\", value.shape) # Get [1, 22, 3, 170] = ???, cfg.n_ctx, cfg.n_heads, cfg.d_head\n",
        "  acfg.layer_store[0] = value.clone()\n",
        "\n",
        "def a_get_l1_attn_z_hook(value, hook):\n",
        "  # print( \"In acfg.get_l1_attn_z_hook\", value.shape) # Get [1, 22, 3, 170] = ???, cfg.n_ctx, cfg.n_heads, cfg.d_head\n",
        "  acfg.layer_store[1] = value.clone()\n",
        "\n",
        "def a_get_l2_attn_z_hook(value, hook):\n",
        "  # print( \"In acfg.get_l2_attn_z_hook\", value.shape) # Get [1, 22, 3, 170] = ???, cfg.n_ctx, cfg.n_heads, cfg.d_head\n",
        "  acfg.layer_store[2] = value.clone()\n",
        "\n",
        "\n",
        "def a_put_l0_attn_z_hook(value, hook):\n",
        "  # print( \"In a_l0_attn_z_hook\", value.shape) # Get [1, 22, 3, 170] = ???, cfg.n_ctx, cfg.n_heads, d_head\n",
        "  for location in acfg.nodes:\n",
        "    if location[1] == 0:\n",
        "      value[:,location[0],location[2],:] = acfg.layer_store[0][:,location[0],location[2],:].clone()\n",
        "\n",
        "def a_put_l1_attn_z_hook(value, hook):\n",
        "  # print( \"In a_l1_attn_z_hook\", value.shape) # Get [1, 22, 3, 170] = ???, cfg.n_ctx, cfg.n_heads, d_head\n",
        "  for location in acfg.nodes:\n",
        "    if location[1] == 1:\n",
        "      value[:,location[0],location[2],:] = acfg.layer_store[0][:,location[0],location[2],:].clone()\n",
        "\n",
        "def a_put_l2_attn_z_hook(value, hook):\n",
        "  # print( \"In a_l2_attn_z_hook\", value.shape) # Get [1, 22, 3, 170] = ???, cfg.n_ctx, cfg.n_heads, d_head\n",
        "  for location in acfg.nodes:\n",
        "    if location[1] == 2:\n",
        "      value[:,location[0],location[2],:] = acfg.layer_store[0][:,location[0],location[2],:].clone()\n",
        "\n",
        "\n",
        "def a_reset(nodes):\n",
        "  acfg.reset()\n",
        "  acfg.nodes = nodes\n",
        "  acfg.null_hooks = [(l_attn_hook_z_name[0], a_null_attn_z_hook)]\n",
        "  acfg.get_hooks = [(l_attn_hook_z_name[0], a_get_l0_attn_z_hook)]\n",
        "  acfg.put_hooks = [(l_attn_hook_z_name[0], a_put_l0_attn_z_hook)]\n",
        "  if cfg.n_layers >= 2:\n",
        "    acfg.null_hooks += [(l_attn_hook_z_name[1], a_null_attn_z_hook)]\n",
        "    acfg.get_hooks += [(l_attn_hook_z_name[1], a_get_l1_attn_z_hook)]\n",
        "    acfg.put_hooks += [(l_attn_hook_z_name[1], a_put_l1_attn_z_hook)]\n",
        "  if cfg.n_layers >= 3:\n",
        "    acfg.null_hooks += [(l_attn_hook_z_name[2], a_null_attn_z_hook)]\n",
        "    acfg.get_hooks += [(l_attn_hook_z_name[2], a_get_l2_attn_z_hook)]\n",
        "    acfg.put_hooks += [(l_attn_hook_z_name[2], a_put_l2_attn_z_hook)]"
      ]
    },
    {
      "cell_type": "code",
      "execution_count": null,
      "metadata": {
        "id": "0SeIO06JnU7I"
      },
      "outputs": [],
      "source": [
        "def a_predict_question(description, the_hooks):\n",
        "  assert len(acfg.questions) == 1\n",
        "\n",
        "  main_model.reset_hooks()\n",
        "  main_model.set_use_attn_result(True)\n",
        "\n",
        "  all_logits = main_model.run_with_hooks(acfg.questions.cuda(), return_type=\"logits\", fwd_hooks=the_hooks)\n",
        "  all_losses_raw, all_max_prob_tokens = logits_to_tokens_loss(all_logits, acfg.questions.cuda())\n",
        "\n",
        "  loss_max = utils.to_numpy(loss_fn(all_losses_raw[0]).max())\n",
        "  answer_str = tokens_to_string(all_max_prob_tokens[0])\n",
        "\n",
        "  # Compare the question answer (ignoring the ablation intervention) to what the model generated (which is impacted by the ablation intervention)\n",
        "  impact_str = get_answer_impact_meaning( acfg.questions[0], answer_str )\n",
        "  if impact_str == \"\":\n",
        "    impact_str = NO_IMPACT_TAG\n",
        "\n",
        "  full_description = description\n",
        "  if loss_max > ccfg.threshold:\n",
        "    loss_str = NO_IMPACT_TAG if loss_max < 1e-7 else str(loss_max)\n",
        "\n",
        "    full_description = description + \"  ModelPredicts: \" + answer_str + \"  DigitsImpacted: \" + impact_str + \"  Loss: \" + loss_str\n",
        "\n",
        "  return answer_str, impact_str, full_description"
      ]
    },
    {
      "cell_type": "code",
      "execution_count": null,
      "metadata": {
        "id": "Jk0gVCF9Gr5D"
      },
      "outputs": [],
      "source": [
        "def a_run_intervention_core(nodes, store_question, alter_question, operation = PLUS_INDEX):\n",
        "  a_reset(nodes)\n",
        "\n",
        "  # Predict first question and store activation values\n",
        "  acfg.questions = make_questions(operation, [store_question])\n",
        "  a_predict_question(\"Unit test (null hook)\", acfg.null_hooks)\n",
        "  a_predict_question(\"Store activation\", acfg.get_hooks)\n",
        "\n",
        "  # Predict second question. Then rerun overriding PnLmHp to give bad answer\n",
        "  acfg.questions = make_questions(operation, [alter_question])\n",
        "  a_predict_question(\"Unit test (null hook)\", acfg.null_hooks)\n",
        "  prompt = \"Intervening on \" + acfg.node_names()\n",
        "  return a_predict_question(prompt, acfg.put_hooks)\n",
        "\n",
        "\n",
        "# Run an intervention where we expect the intervention to succeed. Report failures.\n",
        "def run_intervention(nodes, store_question, alter_question, expected_impact, expected_answer_int, show_failures = True):\n",
        "\n",
        "    answer_str, impact_str, full_description = a_run_intervention_core(nodes, store_question, alter_question)\n",
        "\n",
        "    if expected_impact == \"\":\n",
        "      expected_impact = NO_IMPACT_TAG\n",
        "    expected_answer = int_to_answer_str(expected_answer_int)\n",
        "\n",
        "    success = (impact_str == expected_impact) and (answer_str == expected_answer)\n",
        "    if show_failures and not success:\n",
        "      print( full_description )\n",
        "      print(\"Failed (prediction/expected):\", impact_str, expected_impact, answer_str, expected_answer)\n",
        "\n",
        "    return success, answer_str, full_description"
      ]
    },
    {
      "cell_type": "code",
      "source": [
        "u_reset_tags(ALGORITHM_MAJOR_TAG)"
      ],
      "metadata": {
        "id": "pqTfjKMBPKdE"
      },
      "execution_count": null,
      "outputs": []
    },
    {
      "cell_type": "markdown",
      "metadata": {
        "id": "Iosx5zE_macF"
      },
      "source": [
        "# Part 21C: Automated Dn.BA search\n",
        "\n",
        "The addition Base Add (BA) operation is a simple task implemented in late attention head(s). The task may be split/shared over 2 attention heads. Search for BA calculations."
      ]
    },
    {
      "cell_type": "code",
      "source": [
        "def repeat_digit(digit):\n",
        "    return int(str(digit) * cfg.n_digits)\n",
        "\n",
        "\n",
        "# unit test\n",
        "if cfg.n_digits == 6:\n",
        "  assert repeat_digit(4) == 444444"
      ],
      "metadata": {
        "id": "m4DK5PodHKcC"
      },
      "execution_count": null,
      "outputs": []
    },
    {
      "cell_type": "code",
      "execution_count": null,
      "metadata": {
        "id": "P-Gs5yglncax"
      },
      "outputs": [],
      "source": [
        "def test_ba(nodes, alter_digit, expected_impact):\n",
        "  acfg.nodes = nodes\n",
        "  description = acfg.node_names() + \" perform D\"+str(alter_digit)+\".BA = (D\"+str(alter_digit)+\" + D\"+str(alter_digit)+\"') % 10 impacting \"+expected_impact+\" accuracy\"\n",
        "\n",
        "  store_question = [repeat_digit(2), repeat_digit(3)] # 222222 + 333333 = 555555\n",
        "  alter_question = [repeat_digit(5), repeat_digit(4)] # 555555 + 444444 = 999999\n",
        "  expected_answer1 = repeat_digit(9) + (5 - 9) * (10 ** alter_digit)\n",
        "  success1, _, _ = run_intervention(nodes, store_question, alter_question, expected_impact, expected_answer1, False)\n",
        "\n",
        "  store_question = [repeat_digit(2), repeat_digit(1)] # 222222 + 111111 = 333333\n",
        "  alter_question = [repeat_digit(5), repeat_digit(4)] # 555555 + 444444 = 999999\n",
        "  expected_answer2 = int(repeat_digit(9)) + (3 - 9) * (10 ** alter_digit)\n",
        "  success2, _, _ = run_intervention(nodes, store_question, alter_question, expected_impact, expected_answer2, False)\n",
        "\n",
        "  if success1 and success2:\n",
        "    print( \"Test confirmed:\", description)\n",
        "\n",
        "  return success1 and success2"
      ]
    },
    {
      "cell_type": "code",
      "source": [
        "def algorithm_ba_tag(the_digit):\n",
        "  return answer_name(the_digit)  + \".\" + ALGORITHM_BA_TAG\n",
        "\n",
        "\n",
        "if cfg.perc_add() > 0:\n",
        "  for impact_digit in range(cfg.n_digits):\n",
        "\n",
        "    heads = u_filter_heads( [\n",
        "      [True, POSITION_MAJOR_TAG, an_to_position_name(impact_digit+1)], # Calculated one position before needed\n",
        "      [True, ATTENTION_MAJOR_TAG, dn_to_position_name(impact_digit)], # Attends to Dn\n",
        "      [True, ATTENTION_MAJOR_TAG, ddn_to_position_name(impact_digit)], # Attends to D'n\n",
        "      [True, IMPACT_MAJOR_TAG, answer_name(impact_digit)]] ) # Impacts An\n",
        "    ba_tag = algorithm_ba_tag(impact_digit)\n",
        "\n",
        "    # Try single nodes first\n",
        "    for node in heads:\n",
        "      if test_ba( [[node.position, node.layer, node.head]], impact_digit, answer_name(impact_digit)):\n",
        "        node.add_tag(ALGORITHM_MAJOR_TAG, ba_tag)\n",
        "\n",
        "    # Try pairs of nodes\n",
        "    node_pairs = list(itertools.combinations(heads, 2))\n",
        "    for pair in node_pairs:\n",
        "        if test_ba( [[pair[0].position, pair[0].layer, pair[0].head],[pair[1].position, pair[1].layer, pair[1].head]], impact_digit, answer_name(impact_digit)):\n",
        "          pair[0].add_tag(ALGORITHM_MAJOR_TAG, ba_tag)\n",
        "          pair[1].add_tag(ALGORITHM_MAJOR_TAG, ba_tag)"
      ],
      "metadata": {
        "colab": {
          "base_uri": "https://localhost:8080/"
        },
        "id": "AIktdaRL-BfP",
        "outputId": "c91c13e0-09ce-466b-b188-1b7a0d87c598"
      },
      "execution_count": null,
      "outputs": [
        {
          "output_type": "stream",
          "name": "stdout",
          "text": [
            "Test confirmed: P20L0H1, P20L0H2 perform D0.BA = (D0 + D0') % 10 impacting A0 accuracy\n",
            "Test confirmed: P19L0H1, P19L0H2 perform D1.BA = (D1 + D1') % 10 impacting A1 accuracy\n",
            "Test confirmed: P18L0H1, P18L0H2 perform D2.BA = (D2 + D2') % 10 impacting A2 accuracy\n",
            "Test confirmed: P17L0H1, P17L0H2 perform D3.BA = (D3 + D3') % 10 impacting A3 accuracy\n",
            "Test confirmed: P16L0H1, P16L0H2 perform D4.BA = (D4 + D4') % 10 impacting A4 accuracy\n",
            "Test confirmed: P15L0H1, P15L0H2 perform D5.BA = (D5 + D5') % 10 impacting A5 accuracy\n"
          ]
        }
      ]
    },
    {
      "cell_type": "markdown",
      "metadata": {
        "id": "Z5DMV3I_25ST"
      },
      "source": [
        "# Part 21D: Automated Dn.MC search\n",
        "\n",
        "The addition Make Carry (MC) operation is a simple task implemented in late attention head(s). Search for MC tasks."
      ]
    },
    {
      "cell_type": "code",
      "execution_count": null,
      "metadata": {
        "id": "wJBYT0hF3R_u"
      },
      "outputs": [],
      "source": [
        "def test_mc(nodes, alter_digit, expected_impact):\n",
        "  acfg.nodes = nodes\n",
        "  description = acfg.node_names() + \" perform D\"+str(alter_digit)+\".MC impacting \"+expected_impact+\" accuracy\"\n",
        "\n",
        "  store_question = [repeat_digit(2), repeat_digit(7)] # 222222 + 777777 = 999999. No Dn.MC\n",
        "  alter_question = [repeat_digit(3), repeat_digit(5)] # 333333 + 555555 = 888888. No Dn.MC\n",
        "\n",
        "  diff = (7 - 5) * (10 ** alter_digit)\n",
        "  store_question[1] += diff # Now has Dn.MC in position alter_digit\n",
        "  expected_answer1 = alter_question[0] + alter_question[1] + 10 ** (alter_digit+1)\n",
        "\n",
        "  success, answer_str, _ = run_intervention(nodes, store_question, alter_question, expected_impact, expected_answer1, False)\n",
        "\n",
        "  if success:\n",
        "    print( \"Test confirmed\", description)\n",
        "\n",
        "  return success"
      ]
    },
    {
      "cell_type": "code",
      "source": [
        "def algorithm_mc_tag(the_digit):\n",
        "  return answer_name(the_digit)  + \".\" + ALGORITHM_MC_TAG\n",
        "\n",
        "\n",
        "if cfg.perc_add() > 0:\n",
        "  for impact_digit in range(cfg.n_digits+1):\n",
        "    alter_digit = impact_digit - 1\n",
        "\n",
        "    heads = u_filter_heads( [\n",
        "      [True, POSITION_MAJOR_TAG, an_to_position_name(impact_digit+1)], # Calculated one position before needed\n",
        "      [True, ATTENTION_MAJOR_TAG, dn_to_position_name(alter_digit)], # MC is calculated on the next lower-value digit.\n",
        "      [True, ATTENTION_MAJOR_TAG, ddn_to_position_name(alter_digit)], # MC is calculated on the next lower-value digit.\n",
        "      [True, IMPACT_MAJOR_TAG, answer_name(impact_digit)],\n",
        "      [False, ALGORITHM_MAJOR_TAG, algorithm_ba_tag(impact_digit)]] )\n",
        "\n",
        "    for node in heads:\n",
        "      if test_mc( [[node.position, node.layer, node.head]], alter_digit, answer_name(impact_digit)):\n",
        "        node.add_tag(ALGORITHM_MAJOR_TAG, algorithm_mc_tag(alter_digit))\n"
      ],
      "metadata": {
        "colab": {
          "base_uri": "https://localhost:8080/"
        },
        "id": "xvS1eOReZUq1",
        "outputId": "4759ef3a-7a5f-45f8-f3e5-e2c6cd6a2f73"
      },
      "execution_count": null,
      "outputs": [
        {
          "output_type": "stream",
          "name": "stdout",
          "text": [
            "Test confirmed P19L0H0 perform D0.MC impacting A1 accuracy\n",
            "Test confirmed P18L0H0 perform D1.MC impacting A2 accuracy\n",
            "Test confirmed P17L0H0 perform D2.MC impacting A3 accuracy\n",
            "Test confirmed P16L0H0 perform D3.MC impacting A4 accuracy\n",
            "Test confirmed P15L0H0 perform D4.MC impacting A5 accuracy\n",
            "Test confirmed P14L0H2 perform D5.MC impacting A6 accuracy\n"
          ]
        }
      ]
    },
    {
      "cell_type": "markdown",
      "metadata": {
        "id": "ThzFD1FxBXg8"
      },
      "source": [
        "# Part 21E: Automated Dn.C search\n",
        "\n",
        "Search for D0.C to D5.C with impact \"A65432\" to \"A65\" in early tokens. A0 and A1 are too simple to need Dn.C values so they are excluded from the answer impact."
      ]
    },
    {
      "cell_type": "code",
      "execution_count": null,
      "metadata": {
        "id": "N-bcEooQBp2v"
      },
      "outputs": [],
      "source": [
        "def test_c(node, alter_digit, expected_impact, show_failures):\n",
        "  acfg.nodes = [node]\n",
        "  description = acfg.node_names() + \" perform D\"+str(alter_digit)+\".C = TriCase(D\"+str(alter_digit)+\" + D\"+str(alter_digit)+\"') \"+expected_impact+\" accuracy\"\n",
        "\n",
        "  store_question = [repeat_digit(2), repeat_digit(7)] # 222222 + 777777 = 999999. No Dn.MC\n",
        "  alter_question = [repeat_digit(3), repeat_digit(6)] # 333333 + 666666 = 999999. No Dn.MC\n",
        "\n",
        "  diff = (7 - 6) * (10 ** alter_digit)\n",
        "  store_question[1] += diff # Now has Dn.MC in position alter_digit\n",
        "  expected_answer = alter_question[0] + alter_question[1] + 10 ** (alter_digit+1)\n",
        "\n",
        "  success, answer_str, _ = run_intervention([node], store_question, alter_question, expected_impact, expected_answer, show_failures)\n",
        "\n",
        "  if success:\n",
        "    print(\"Test confirmed\", description)\n",
        "\n",
        "  return success, description"
      ]
    },
    {
      "cell_type": "code",
      "source": [
        "def algorithm_dnc_tag(the_digit):\n",
        "  return \"D\" + str(the_digit)  + \".\" + ALGORITHM_C_TAG\n",
        "\n",
        "\n",
        "if cfg.perc_add() > 0:\n",
        "  # Search for Dn.C\n",
        "  for impact_digit in range(cfg.n_digits):\n",
        "    impact_str = \"A\" + \"654321\"[:cfg.n_digits-impact_digit]\n",
        "\n",
        "    # We expect Dn.C in early tokens but not sure exactly where\n",
        "    for position in range( cfg.n_digits+1, 2*cfg.n_digits+2 ):\n",
        "      heads = u_filter_heads( [\n",
        "        [True, POSITION_MAJOR_TAG, position_name(position)],\n",
        "        #[True, IMPACT_MAJOR_TAG, impact_str], PQR. Impacts fewer digits. Why?\n",
        "        [True, ATTENTION_MAJOR_TAG, dn_to_position_name(impact_digit)], # Attends to Dn\n",
        "        [True, ATTENTION_MAJOR_TAG, ddn_to_position_name(impact_digit)], # Attends to D'n\n",
        "        [False, ALGORITHM_MAJOR_TAG, algorithm_ba_tag(impact_digit)], # Exclude Dn.BA\n",
        "        [False, ALGORITHM_MAJOR_TAG, algorithm_mc_tag(impact_digit)]] ) # Exclude Dn.MC\n",
        "\n",
        "      for node in heads:\n",
        "        success, description = test_c([node.position, node.layer, node.head], impact_digit, impact_str, False)\n",
        "        if success:\n",
        "          node.add_tag(ALGORITHM_MAJOR_TAG, algorithm_dnc_tag(impact_digit))"
      ],
      "metadata": {
        "colab": {
          "base_uri": "https://localhost:8080/"
        },
        "id": "wFJV4pfWSwHQ",
        "outputId": "2dc5475d-464a-410e-ae67-075a3cbbff49"
      },
      "execution_count": null,
      "outputs": [
        {
          "output_type": "stream",
          "name": "stdout",
          "text": [
            "Test confirmed P10L0H1 perform D2.C = TriCase(D2 + D2') A6543 accuracy\n",
            "Test confirmed P12L0H1 perform D3.C = TriCase(D3 + D3') A654 accuracy\n"
          ]
        }
      ]
    },
    {
      "cell_type": "markdown",
      "source": [
        "# Part 21D: Show algorithm quanta map\n",
        "\n",
        "Plot the \"algorithm\" tags generated in previous steps as a quanta map. This is an automatically generated partail explanation of the model algorithm."
      ],
      "metadata": {
        "id": "uQLfkdlbVAl_"
      }
    },
    {
      "cell_type": "code",
      "source": [
        "def get_algorithm_purpose( node, major_version, minor_version, shades):\n",
        "\n",
        "  cell_text = node.min_tag_suffix( major_version, minor_version )\n",
        "  color_index = 0\n",
        "\n",
        "  if len(cell_text) > 0:\n",
        "    color_index = int(cell_text[1]) if len(cell_text) > 1 and cell_text[1].isdigit() else shades-1\n",
        "  else:\n",
        "    cell_text = \"??\"\n",
        "\n",
        "  return cell_text, color_index\n",
        "\n",
        "\n",
        "show_quanta_map( \"Algorithm purpose per node\", create_custom_colormap(), cfg.n_digits+2, ALGORITHM_MAJOR_TAG, \"\", get_algorithm_purpose, 9)"
      ],
      "metadata": {
        "colab": {
          "base_uri": "https://localhost:8080/",
          "height": 825
        },
        "id": "l9VDbjTAVGrP",
        "outputId": "28f2bb09-a9f9-49d0-f078-2478f8c1880d"
      },
      "execution_count": null,
      "outputs": [
        {
          "output_type": "stream",
          "name": "stdout",
          "text": [
            "%Mult= 0 %Sub= 80 %Add= 20 File= ins1_mix_d6_l3_h4_train40K_seed372001\n",
            "\n",
            "Saving quanta map: mix: Algorithm purpose per node d6_l3_h4\n"
          ]
        },
        {
          "output_type": "display_data",
          "data": {
            "text/plain": [
              "<Figure size 866.667x933.333 with 1 Axes>"
            ],
            "image/png": "[encoded data removed]"
          },
          "metadata": {}
        }
      ]
    },
    {
      "cell_type": "markdown",
      "source": [
        "# Part21E: Save useful nodes and tags to JSON file\n",
        "\n",
        "Show a list of the nodes that have proved useful in calculations.\n",
        "For each useful node, show its useful facts, stored as tags.\n",
        "Save the data to a Colab temporary JSON file.\n",
        "\n"
      ],
      "metadata": {
        "id": "LQhheXmLTUfc"
      }
    },
    {
      "cell_type": "code",
      "execution_count": null,
      "metadata": {
        "id": "TRW6tiM8hDOB",
        "colab": {
          "base_uri": "https://localhost:8080/"
        },
        "outputId": "994e9817-7101-4664-f3d2-d57f84d27f1c"
      },
      "outputs": [
        {
          "output_type": "stream",
          "name": "stdout",
          "text": [
            "P0L0H2 ['FailPerc:0', 'Impact:A7', 'Complexity.Sub:M1', 'Attn:P0=100']\n",
            "P0L0H3 ['FailPerc:5', 'Impact:A7', 'Complexity.Sub:M013', 'Attn:P0=100']\n",
            "P0L0H4 ['FailPerc:0', 'Impact:A7', 'Complexity.Sub:M13']\n",
            "P9L0H0 ['FailPerc:7', 'Impact:A765', 'Complexity.Add:S01234', 'Complexity.Sub:M13', 'Attn:P8=53', 'Attn:P1=47']\n",
            "P9L0H1 ['FailPerc:0', 'Impact:A654', 'Complexity.Add:S124', 'Attn:P8=53', 'Attn:P1=46']\n",
            "P9L0H3 ['FailPerc:0', 'Impact:A5', 'Complexity.Sub:NG', 'Attn:P6=79', 'Attn:P9=7', 'Attn:P8=4', 'Attn:P7=3']\n",
            "P9L0H4 ['FailPerc:14', 'Impact:A765', 'Complexity.Add:S12345', 'Complexity.Sub:M0123']\n",
            "P9L1H4 ['FailPerc:0', 'Impact:A7', 'Complexity.Sub:NG']\n",
            "P10L0H0 ['FailPerc:0', 'Impact:A54', 'Complexity.Add:S13', 'Attn:P10=51', 'Attn:P3=48']\n",
            "P10L0H1 ['FailPerc:0', 'Impact:A76543', 'Complexity.Add:S234', 'Complexity.Sub:M12', 'Attn:P3=50', 'Attn:P10=50', 'Algorithm:D2.C']\n",
            "P10L0H4 ['FailPerc:10', 'Impact:A76543', 'Complexity.Add:S12345', 'Complexity.Sub:M012']\n",
            "P11L0H0 ['FailPerc:0', 'Impact:A3', 'Complexity.Add:S12', 'Attn:P10=51', 'Attn:P3=49']\n",
            "P11L0H1 ['FailPerc:8', 'Impact:A76543', 'Complexity.Add:S012345', 'Complexity.Sub:M123', 'Attn:P4=52', 'Attn:P11=48']\n",
            "P11L0H4 ['FailPerc:8', 'Impact:A765432', 'Complexity.Add:S2345', 'Complexity.Sub:M0123']\n",
            "P12L0H0 ['FailPerc:4', 'Impact:A7654', 'Complexity.Add:S123', 'Complexity.Sub:M12', 'Attn:P9=52', 'Attn:P2=48']\n",
            "P12L0H1 ['FailPerc:1', 'Impact:A54', 'Complexity.Add:S12', 'Attn:P9=50', 'Attn:P2=49', 'Algorithm:D3.C']\n",
            "P12L0H4 ['FailPerc:16', 'Impact:A7654', 'Complexity.Add:S12345', 'Complexity.Sub:M12']\n",
            "P13L0H0 ['FailPerc:3', 'Impact:A5432', 'Complexity.Add:S123', 'Complexity.Sub:M23', 'Attn:P11=50', 'Attn:P4=49']\n",
            "P13L0H1 ['FailPerc:15', 'Impact:A7654321', 'Complexity.Add:S012345', 'Complexity.Sub:M23', 'Attn:P5=51', 'Attn:P12=48']\n",
            "P13L0H3 ['FailPerc:24', 'Impact:A72', 'Complexity.Add:S012', 'Complexity.Sub:M0123', 'Attn:P6=52', 'Attn:P7=48']\n",
            "P13L0H4 ['FailPerc:14', 'Impact:A7654321', 'Complexity.Add:S2345', 'Complexity.Sub:M0123']\n",
            "P13L1H0 ['FailPerc:0', 'Impact:A7', 'Complexity.Sub:M3', 'Attn:P9=61', 'Attn:P13=8', 'Attn:P5=5', 'Attn:P12=4']\n",
            "P13L1H3 ['FailPerc:6', 'Impact:A7', 'Complexity.Sub:M13', 'Attn:P0=37', 'Attn:P13=35', 'Attn:P6=8', 'Attn:P11=5']\n",
            "P13L2H0 ['FailPerc:5', 'Impact:A7', 'Complexity.Sub:NG', 'Attn:P9=34', 'Attn:P12=11', 'Attn:P6=10', 'Attn:P1=7']\n",
            "P13L2H2 ['FailPerc:1', 'Impact:A7', 'Complexity.Sub:M013', 'Attn:P0=34', 'Attn:P13=28', 'Attn:P11=13', 'Attn:P12=10']\n",
            "P14L0H0 ['FailPerc:27', 'Impact:A6543210', 'Complexity.Add:S123', 'Complexity.Sub:NG', 'Attn:P8=38', 'Attn:P1=36', 'Attn:P6=24']\n",
            "P14L0H1 ['FailPerc:12', 'Impact:A6543210', 'Complexity.Add:S12345', 'Complexity.Sub:NG', 'Attn:P6=48', 'Attn:P13=47']\n",
            "P14L0H2 ['FailPerc:12', 'Impact:A6', 'Complexity.Add:S12345', 'Attn:P0=39', 'Attn:P7=37', 'Attn:P6=10', 'Attn:P14=7', 'Algorithm:A5.MC']\n",
            "P14L0H4 ['FailPerc:41', 'Impact:A6543210', 'Complexity.Add:S12345', 'Complexity.Sub:M2']\n",
            "P14L1H2 ['FailPerc:1', 'Impact:A6', 'Complexity.Add:S0', 'Attn:P6=18', 'Attn:P14=16', 'Attn:P10=10', 'Attn:P13=9']\n",
            "P14L1H3 ['FailPerc:2', 'Impact:A6', 'Complexity.Add:S01234', 'Attn:P9=39', 'Attn:P12=18', 'Attn:P0=7', 'Attn:P10=5']\n",
            "P14L1H4 ['FailPerc:3', 'Impact:A6', 'Complexity.Add:S01234']\n",
            "P15L0H0 ['FailPerc:9', 'Impact:A5', 'Complexity.Add:S123', 'Complexity.Sub:M12', 'Attn:P8=52', 'Attn:P1=48', 'Algorithm:A4.MC']\n",
            "P15L0H1 ['FailPerc:58', 'Impact:A5', 'Complexity.Add:S012345', 'Complexity.Sub:M0123', 'Attn:P0=52', 'Attn:P7=48', 'Algorithm:A5.BA']\n",
            "P15L0H2 ['FailPerc:68', 'Impact:A5', 'Complexity.Add:S012345', 'Complexity.Sub:M0123', 'Attn:P7=49', 'Attn:P0=48', 'Algorithm:A5.BA']\n",
            "P15L0H3 ['FailPerc:3', 'Impact:A5', 'Complexity.Add:S01345', 'Complexity.Sub:NG', 'Attn:P6=42', 'Attn:P13=23', 'Attn:P15=15', 'Attn:P14=7']\n",
            "P15L0H4 ['FailPerc:58', 'Impact:A5', 'Complexity.Add:S012345', 'Complexity.Sub:M0123']\n",
            "P15L1H1 ['FailPerc:3', 'Impact:A5', 'Complexity.Sub:M0123', 'Attn:P15=17', 'Attn:P14=16', 'Attn:P6=14', 'Attn:P13=9']\n",
            "P15L1H2 ['FailPerc:1', 'Impact:A5', 'Complexity.Add:S01', 'Complexity.Sub:M12', 'Attn:P9=45', 'Attn:P12=15', 'Attn:P10=11', 'Attn:P13=8']\n",
            "P15L1H3 ['FailPerc:8', 'Impact:A5', 'Complexity.Add:S1234', 'Attn:P9=59', 'Attn:P12=26', 'Attn:P10=7', 'Attn:P11=3']\n",
            "P15L1H4 ['FailPerc:22', 'Impact:A5', 'Complexity.Add:S012345', 'Complexity.Sub:M0123']\n",
            "P15L2H0 ['FailPerc:2', 'Impact:A5', 'Complexity.Sub:NG', 'Attn:P9=26', 'Attn:P14=22', 'Attn:P12=17', 'Attn:P6=8']\n",
            "P15L2H1 ['FailPerc:2', 'Impact:A5', 'Complexity.Sub:NG', 'Attn:P14=17', 'Attn:P9=15', 'Attn:P6=15', 'Attn:P12=15']\n",
            "P15L2H4 ['FailPerc:14', 'Impact:A5', 'Complexity.Sub:M123']\n",
            "P16L0H0 ['FailPerc:4', 'Impact:A4', 'Complexity.Add:S123', 'Complexity.Sub:M23', 'Attn:P2=50', 'Attn:P9=49', 'Algorithm:A3.MC']\n",
            "P16L0H1 ['FailPerc:57', 'Impact:A4', 'Complexity.Add:S01234', 'Complexity.Sub:M0123', 'Attn:P1=55', 'Attn:P8=45', 'Algorithm:A4.BA']\n",
            "P16L0H2 ['FailPerc:67', 'Impact:A4', 'Complexity.Add:S012345', 'Complexity.Sub:M0123', 'Attn:P8=54', 'Attn:P1=45', 'Algorithm:A4.BA']\n",
            "P16L0H3 ['FailPerc:1', 'Impact:A4', 'Complexity.Add:S24', 'Complexity.Sub:M2', 'Attn:P6=74', 'Attn:P14=9', 'Attn:P13=6', 'Attn:P9=3']\n",
            "P16L0H4 ['FailPerc:67', 'Impact:A4', 'Complexity.Add:S012345', 'Complexity.Sub:M0123']\n",
            "P16L1H0 ['FailPerc:3', 'Impact:A4', 'Complexity.Sub:M0123', 'Attn:P16=21', 'Attn:P14=16', 'Attn:P9=11', 'Attn:P12=9']\n",
            "P16L1H1 ['FailPerc:6', 'Impact:A4', 'Complexity.Sub:M0123', 'Attn:P6=21', 'Attn:P14=14', 'Attn:P13=10', 'Attn:P16=10']\n",
            "P16L1H2 ['FailPerc:3', 'Impact:A4', 'Complexity.Add:S01', 'Complexity.Sub:M1', 'Attn:P12=45', 'Attn:P10=19', 'Attn:P11=13', 'Attn:P13=11']\n",
            "P16L1H3 ['FailPerc:4', 'Impact:A4', 'Complexity.Add:S123', 'Attn:P12=57', 'Attn:P10=25', 'Attn:P11=10', 'Attn:P13=2']\n",
            "P16L1H4 ['FailPerc:23', 'Impact:A4', 'Complexity.Add:S01234', 'Complexity.Sub:M0123']\n",
            "P16L2H0 ['FailPerc:6', 'Impact:A4', 'Complexity.Sub:NG', 'Attn:P12=23', 'Attn:P14=18', 'Attn:P6=10', 'Attn:P9=8']\n",
            "P16L2H1 ['FailPerc:0', 'Impact:A4', 'Complexity.Sub:M1', 'Attn:P14=21', 'Attn:P6=14', 'Attn:P12=13', 'Attn:P13=8']\n",
            "P16L2H4 ['FailPerc:16', 'Impact:A4', 'Complexity.Sub:M0123']\n",
            "P17L0H0 ['FailPerc:0', 'Impact:A3', 'Complexity.Add:S12', 'Attn:P3=50', 'Attn:P10=49', 'Algorithm:A2.MC']\n",
            "P17L0H1 ['FailPerc:56', 'Impact:A3', 'Complexity.Add:S0123', 'Complexity.Sub:M0123', 'Attn:P2=53', 'Attn:P9=46', 'Algorithm:A3.BA']\n",
            "P17L0H2 ['FailPerc:67', 'Impact:A3', 'Complexity.Add:S012345', 'Complexity.Sub:M0123', 'Attn:P9=54', 'Attn:P2=45', 'Algorithm:A3.BA']\n",
            "P17L0H3 ['FailPerc:1', 'Impact:A3', 'Complexity.Add:S123', 'Complexity.Sub:M12', 'Attn:P6=71', 'Attn:P14=9', 'Attn:P13=6', 'Attn:P9=2']\n",
            "P17L0H4 ['FailPerc:68', 'Impact:A3', 'Complexity.Add:S012345', 'Complexity.Sub:M0123']\n",
            "P17L1H0 ['FailPerc:3', 'Impact:A3', 'Complexity.Sub:M0123', 'Attn:P17=27', 'Attn:P12=12', 'Attn:P14=11', 'Attn:P10=11']\n",
            "P17L1H1 ['FailPerc:8', 'Impact:A3', 'Complexity.Sub:M0123', 'Attn:P6=20', 'Attn:P14=14', 'Attn:P11=13', 'Attn:P13=13']\n",
            "P17L1H2 ['FailPerc:5', 'Impact:A3', 'Complexity.Add:S012', 'Complexity.Sub:M12', 'Attn:P10=32', 'Attn:P11=29', 'Attn:P13=21', 'Attn:P6=9']\n",
            "P17L1H3 ['FailPerc:0', 'Impact:A3', 'Complexity.Add:S23', 'Attn:P11=38', 'Attn:P10=27', 'Attn:P13=18', 'Attn:P14=11']\n",
            "P17L1H4 ['FailPerc:22', 'Impact:A3', 'Complexity.Add:S012345', 'Complexity.Sub:M0123']\n",
            "P17L2H0 ['FailPerc:6', 'Impact:A3', 'Complexity.Sub:NG', 'Attn:P14=17', 'Attn:P11=11', 'Attn:P6=10', 'Attn:P10=10']\n",
            "P17L2H1 ['FailPerc:0', 'Impact:A3', 'Complexity.Sub:M1', 'Attn:P14=22', 'Attn:P6=13', 'Attn:P11=11', 'Attn:P13=10']\n",
            "P17L2H4 ['FailPerc:19', 'Impact:A3', 'Complexity.Sub:M0123']\n",
            "P18L0H0 ['FailPerc:8', 'Impact:A2', 'Complexity.Add:S01234', 'Complexity.Sub:M0123', 'Attn:P4=51', 'Attn:P11=48', 'Algorithm:A1.MC']\n",
            "P18L0H1 ['FailPerc:48', 'Impact:A2', 'Complexity.Add:S012345', 'Complexity.Sub:M0123', 'Attn:P3=56', 'Attn:P10=44', 'Algorithm:A2.BA']\n",
            "P18L0H2 ['FailPerc:64', 'Impact:A2', 'Complexity.Add:S012345', 'Complexity.Sub:M0123', 'Attn:P10=53', 'Attn:P3=44', 'Algorithm:A2.BA']\n",
            "P18L0H3 ['FailPerc:2', 'Impact:A2', 'Complexity.Add:S2', 'Complexity.Sub:M01', 'Attn:P6=72', 'Attn:P14=8', 'Attn:P13=7', 'Attn:P11=4']\n",
            "P18L0H4 ['FailPerc:66', 'Impact:A2', 'Complexity.Add:S012345', 'Complexity.Sub:M0123']\n",
            "P18L1H0 ['FailPerc:5', 'Impact:A2', 'Complexity.Sub:M0123', 'Attn:P18=23', 'Attn:P10=15', 'Attn:P11=10', 'Attn:P14=10']\n",
            "P18L1H1 ['FailPerc:9', 'Impact:A2', 'Complexity.Sub:M012', 'Attn:P6=20', 'Attn:P13=16', 'Attn:P14=15', 'Attn:P11=14']\n",
            "P18L1H2 ['FailPerc:6', 'Impact:A2', 'Complexity.Add:S01234', 'Complexity.Sub:M12', 'Attn:P13=50', 'Attn:P6=18', 'Attn:P11=9', 'Attn:P14=7']\n",
            "P18L1H3 ['FailPerc:1', 'Impact:A2', 'Complexity.Add:S2345', 'Attn:P13=49', 'Attn:P14=22', 'Attn:P18=11', 'Attn:P11=6']\n",
            "P18L1H4 ['FailPerc:22', 'Impact:A2', 'Complexity.Add:S01234', 'Complexity.Sub:M0123']\n",
            "P18L2H0 ['FailPerc:6', 'Impact:A2', 'Complexity.Sub:NG', 'Attn:P13=19', 'Attn:P14=16', 'Attn:P11=13', 'Attn:P6=10']\n",
            "P18L2H4 ['FailPerc:22', 'Impact:A2', 'Complexity.Add:S12', 'Complexity.Sub:M0123']\n",
            "P19L0H0 ['FailPerc:5', 'Impact:A1', 'Complexity.Add:S123', 'Complexity.Sub:M12', 'Attn:P5=50', 'Attn:P12=49', 'Algorithm:A0.MC']\n",
            "P19L0H1 ['FailPerc:58', 'Impact:A1', 'Complexity.Add:S012345', 'Complexity.Sub:M0123', 'Attn:P4=54', 'Attn:P11=45', 'Algorithm:A1.BA']\n",
            "P19L0H2 ['FailPerc:67', 'Impact:A1', 'Complexity.Add:S012345', 'Complexity.Sub:M0123', 'Attn:P11=53', 'Attn:P4=45', 'Algorithm:A1.BA']\n",
            "P19L0H3 ['FailPerc:4', 'Impact:A1', 'Complexity.Add:S012345', 'Complexity.Sub:M12', 'Attn:P6=75', 'Attn:P14=10', 'Attn:P12=6', 'Attn:P13=3']\n",
            "P19L0H4 ['FailPerc:65', 'Impact:A1', 'Complexity.Add:S012345', 'Complexity.Sub:M0123']\n",
            "P19L1H0 ['FailPerc:7', 'Impact:A1', 'Complexity.Sub:M0123', 'Attn:P19=22', 'Attn:P14=12', 'Attn:P11=11', 'Attn:P13=10']\n",
            "P19L1H1 ['FailPerc:8', 'Impact:A1', 'Complexity.Sub:M0123', 'Attn:P6=22', 'Attn:P13=15', 'Attn:P14=15', 'Attn:P19=13']\n",
            "P19L1H4 ['FailPerc:17', 'Impact:A1', 'Complexity.Add:S01234', 'Complexity.Sub:M123']\n",
            "P19L2H0 ['FailPerc:0', 'Impact:A1', 'Complexity.Sub:NG', 'Attn:P13=36', 'Attn:P14=15', 'Attn:P6=8', 'Attn:P11=7']\n",
            "P19L2H1 ['FailPerc:0', 'Impact:A1', 'Complexity.Sub:NG', 'Attn:P13=28', 'Attn:P14=19', 'Attn:P6=13', 'Attn:P11=6']\n",
            "P19L2H4 ['FailPerc:17', 'Impact:A1', 'Complexity.Sub:M123']\n",
            "P20L0H0 ['FailPerc:9', 'Impact:A0', 'Complexity.Sub:NG', 'Attn:P14=57', 'Attn:P15=24', 'Attn:P6=6', 'Attn:P13=3']\n",
            "P20L0H1 ['FailPerc:54', 'Impact:A0', 'Complexity.Add:S012345', 'Complexity.Sub:M0123', 'Attn:P5=58', 'Attn:P12=41', 'Algorithm:A0.BA']\n",
            "P20L0H2 ['FailPerc:68', 'Impact:A0', 'Complexity.Add:S012345', 'Complexity.Sub:M0123', 'Attn:P12=54', 'Attn:P5=43', 'Algorithm:A0.BA']\n",
            "P20L0H3 ['FailPerc:3', 'Impact:A0', 'Complexity.Sub:M012', 'Attn:P6=69', 'Attn:P14=10', 'Attn:P12=6', 'Attn:P13=5']\n",
            "P20L0H4 ['FailPerc:65', 'Impact:A0', 'Complexity.Add:S012345', 'Complexity.Sub:M0123']\n",
            "P20L1H0 ['FailPerc:4', 'Impact:A0', 'Complexity.Sub:M123', 'Attn:P20=30', 'Attn:P14=11', 'Attn:P19=9', 'Attn:P13=9']\n",
            "P20L1H1 ['FailPerc:8', 'Impact:A0', 'Complexity.Sub:M0123', 'Attn:P6=18', 'Attn:P20=17', 'Attn:P14=16', 'Attn:P13=11']\n",
            "P20L1H4 ['FailPerc:26', 'Impact:A0', 'Complexity.Add:S012345', 'Complexity.Sub:M123']\n",
            "P20L2H4 ['FailPerc:5', 'Impact:A0', 'Complexity.Sub:M123']\n"
          ]
        }
      ],
      "source": [
        "ccfg.print_node_tags()"
      ]
    },
    {
      "cell_type": "code",
      "source": [
        "# Serialize and save the useful nodes list to a temporary CoLab file in JSON format\n",
        "print( \"Saving useful node list with quanta tags:\", main_fname_json)\n",
        "\n",
        "dict_list = [node.to_dict() for node in ccfg.useful_nodes]\n",
        "with open(main_fname_json, 'w') as file:\n",
        "    json.dump(dict_list, file, default=lambda o: o.__dict__)"
      ],
      "metadata": {
        "colab": {
          "base_uri": "https://localhost:8080/"
        },
        "id": "_ktlEftAOyEd",
        "outputId": "082c85ad-ebb6-45c0-9d2b-ac6c73a265f0"
      },
      "execution_count": null,
      "outputs": [
        {
          "output_type": "stream",
          "name": "stdout",
          "text": [
            "Saving useful node list with quanta tags: ins1_mix_d6_l3_h4_train40K_seed372001_tags.json\n"
          ]
        }
      ]
    },
    {
      "cell_type": "markdown",
      "metadata": {
        "id": "zMnvjPxN6wZ7"
      },
      "source": [
        "# Part 21F: TBA"
      ]
    },
    {
      "cell_type": "code",
      "execution_count": null,
      "metadata": {
        "id": "UDt2LmNwiMGA",
        "colab": {
          "base_uri": "https://localhost:8080/"
        },
        "outputId": "3f990c8b-ff94-48a1-828e-6921ba8222b4"
      },
      "outputs": [
        {
          "output_type": "stream",
          "name": "stdout",
          "text": [
            "Claim that P10.L0.H1 performs D1.C2 = TriAdd(V1.C, TriCase(D0, D0’)) impacting A5, A4, A3 & A2 accuracy\n",
            "\n",
            "Intervening on P10L0H1\n",
            "Failed (prediction/expected): (none) A5432 +0099999 +0100099\n",
            "Intervening on P10L0H1\n",
            "Failed (prediction/expected): (none) A432 +0009999 +0010099\n",
            "Intervening on P10L0H1\n",
            "Failed (prediction/expected): (none) A32 +0000999 +0001099\n",
            "Intervening on P10L0H1\n",
            "Failed (prediction/expected): (none) A2 +0000099 +0000199\n"
          ]
        },
        {
          "output_type": "execute_result",
          "data": {
            "text/plain": [
              "(False, '+0000099', 'Intervening on P10L0H1')"
            ]
          },
          "metadata": {},
          "execution_count": 776
        }
      ],
      "source": [
        "print( \"Claim that P10.L0.H1 performs D1.C2 = TriAdd(V1.C, TriCase(D0, D0’)) impacting A5, A4, A3 & A2 accuracy\")\n",
        "print()\n",
        "nodes = [[10, 0, 1]]\n",
        "\n",
        "store_question = [ 11111, 33333] # Sum is 044444. V0 has no MC.\n",
        "alter_question = [ 44444, 55555] # Sum is 099999. V0 has no MC\n",
        "run_intervention( nodes, store_question, alter_question, NO_IMPACT_TAG, 99999 )\n",
        "\n",
        "store_question = [ 11117, 11117] # Sum is 022234. V0 has MC\n",
        "alter_question = [ 44444, 55555] # Sum is 099999. V0 has no MC\n",
        "run_intervention( nodes, store_question, alter_question, \"A5432\", 100099 )\n",
        "\n",
        "store_question = [ 11117, 11117] # Sum is 022234. V0 has MC\n",
        "alter_question = [  4444,  5555] # Sum is 009999. V0 has no MC\n",
        "run_intervention( nodes, store_question, alter_question, \"A432\", 10099 )\n",
        "\n",
        "store_question = [ 11117, 11117] # Sum is 022234. V0 has MC\n",
        "alter_question = [   444,   555] # Sum is 000999. V0 has no MC\n",
        "run_intervention( nodes, store_question, alter_question, \"A32\", 1099 )\n",
        "\n",
        "store_question = [ 11117, 11117] # Sum is 022234. V0 has MC\n",
        "alter_question = [    44,    55] # Sum is 000099. V0 has no MC\n",
        "run_intervention( nodes, store_question, alter_question, \"A2\", 199 )\n",
        "\n",
        "# Deprecated: Confirmed that P10.L0.H1 is: Based on D0 and D0'. Triggers on a V0 carry value. Provides \"carry 1\" used in A5, A4, A3 & A2 calculation."
      ]
    },
    {
      "cell_type": "code",
      "execution_count": null,
      "metadata": {
        "id": "uxGCodzep7qV",
        "colab": {
          "base_uri": "https://localhost:8080/"
        },
        "outputId": "f2bdfc32-89bb-4797-8523-8d0a2397e483"
      },
      "outputs": [
        {
          "output_type": "stream",
          "name": "stdout",
          "text": [
            "Claim that P11.L0.H1 performs D3.C4 = TriAdd(TriCase(D3, D3’),TriAdd(V2.C,V1.C2)) impacting A5 accuracy\n",
            "\n",
            "Intervening on P11L0H1\n",
            "Failed (prediction/expected): (none) A5 +0099999 +0199999\n"
          ]
        },
        {
          "output_type": "execute_result",
          "data": {
            "text/plain": [
              "(False, '+0099999', 'Intervening on P11L0H1')"
            ]
          },
          "metadata": {},
          "execution_count": 777
        }
      ],
      "source": [
        "print( \"Claim that P11.L0.H1 performs D3.C4 = TriAdd(TriCase(D3, D3’),TriAdd(V2.C,V1.C2)) impacting A5 accuracy\")\n",
        "print()\n",
        "nodes = [[11, 0, 1]]\n",
        "\n",
        "store_question = [44444, 44444] # Sum is 088888. V3 sums to 8 (has no MC).\n",
        "alter_question = [11111, 11111] # Sum is 022222. V3 has no MC.\n",
        "run_intervention( nodes, store_question, alter_question, NO_IMPACT_TAG, 22222 )\n",
        "\n",
        "store_question = [16111, 13111] # Sum is 032111. V3 sums to 9 (has no MC).\n",
        "alter_question = [44444, 55555] # Sum is 099999. V3 has no MC\n",
        "run_intervention( nodes, store_question, alter_question, NO_IMPACT_TAG, 99999 )\n",
        "\n",
        "store_question = [16111, 16111] # Sum is 032111. V3 has MC\n",
        "alter_question = [44444, 55555] # Sum is 099999. V3 has no MC\n",
        "run_intervention( nodes, store_question, alter_question, \"A5\", 199999 )\n",
        "\n",
        "# Deprecated: Confirmed that P11.L0.H1 is: Based on D3 and D3'. Triggers on a V3 carry value. Provides \"carry 1\" used in A5 calculations."
      ]
    },
    {
      "cell_type": "code",
      "execution_count": null,
      "metadata": {
        "id": "yo55vCvCoMq7",
        "colab": {
          "base_uri": "https://localhost:8080/"
        },
        "outputId": "30b4392f-83e4-4d65-eed6-5ffdd1febd77"
      },
      "outputs": [
        {
          "output_type": "stream",
          "name": "stdout",
          "text": [
            "Claim that P11.L0.H2 performs D4.C = TriCase(D4, D4’) impacting A5 accuracy\n",
            "\n",
            "Intervening on P11L0H2\n",
            "Failed (prediction/expected): (none) A5 +0099999 +0199999\n"
          ]
        },
        {
          "output_type": "execute_result",
          "data": {
            "text/plain": [
              "(False, '+0099999', 'Intervening on P11L0H2')"
            ]
          },
          "metadata": {},
          "execution_count": 778
        }
      ],
      "source": [
        "print( \"Claim that P11.L0.H2 performs D4.C = TriCase(D4, D4’) impacting A5 accuracy\")\n",
        "print()\n",
        "nodes = [[11, 0, 2]]\n",
        "\n",
        "store_question = [44444, 55555] # Sum is 099999. V4 has no MC.\n",
        "alter_question = [11111, 11111] # Sum is 022222. V4 has no MC.\n",
        "run_intervention( nodes, store_question, alter_question, NO_IMPACT_TAG, 22222)\n",
        "\n",
        "store_question = [71111, 71111] # Sum is 100422. V4 has MC\n",
        "alter_question = [44444, 55555] # Sum is 099999. V4 has no MC\n",
        "run_intervention( nodes, store_question, alter_question, \"A5\", 199999 )\n",
        "\n",
        "# Deprecated: Confirmed that P9.L0.H2 is: Based on D4 and D4'. Triggers on a V4 carry value. Provides \"carry 1\" used in A5 calculation."
      ]
    },
    {
      "cell_type": "markdown",
      "metadata": {
        "id": "lTs6Cu55jB7y"
      },
      "source": [
        "#Part 22: MLP Visualisation (incomplete, on-hold)"
      ]
    },
    {
      "cell_type": "code",
      "execution_count": null,
      "metadata": {
        "id": "YviVHnBRjDcs",
        "colab": {
          "base_uri": "https://localhost:8080/",
          "referenced_widgets": [
            "643a54cfebf64d139607c9f49135387a",
            "961338d5c34d4c5799df18e2a2b2e899",
            "f2fb728206014ee38809fb168af0ff1e",
            "da3fdefb5be2437c9239b95d0a758fc7",
            "85bb2c6e377c4bef8e0897b40c5a9efc",
            "172b8c0d090344b1a5b784cfa0c1536c",
            "480f5fce41194c95bdd07ea858c89ae8"
          ]
        },
        "outputId": "01677ea8-1e87-46a3-99b3-c3ad155ab899"
      },
      "outputs": [
        {
          "output_type": "display_data",
          "data": {
            "text/plain": [
              "interactive(children=(IntText(value=0, description='Index:'), Output()), _dom_classes=('widget-interact',))"
            ],
            "application/vnd.jupyter.widget-view+json": {
              "version_major": 2,
              "version_minor": 0,
              "model_id": "643a54cfebf64d139607c9f49135387a"
            }
          },
          "metadata": {}
        },
        {
          "output_type": "execute_result",
          "data": {
            "text/plain": [
              "<function __main__.plot_mlp_neuron_activation(pos: int)>"
            ]
          },
          "metadata": {},
          "execution_count": 779
        },
        {
          "output_type": "display_data",
          "data": {
            "text/plain": [
              "<Figure size 800x400 with 4 Axes>"
            ],
            "image/png": "[encoded data removed]"
          },
          "metadata": {}
        }
      ],
      "source": [
        "import einops\n",
        "from ipywidgets import interact, interactive, fixed, interact_manual\n",
        "import ipywidgets as widgets\n",
        "from IPython.display import clear_output\n",
        "\n",
        "\n",
        "# number of questions in batch that generated sample_cache\n",
        "num_questions = varied_questions.shape[0]\n",
        "\n",
        "\n",
        "def get_mlp_data(data_set_name):\n",
        "\n",
        "  data_set = sample_cache[data_set_name]\n",
        "  # print( data_set_name + \" shape\", data_set.shape) # 239, 22, 2040 = num_questions, cfg.n_ctx, cfg.d_mlp\n",
        "\n",
        "  raw_data = data_set[:,-3]\n",
        "  # print( \"raw_data shape\", raw_data.shape) # 239, 2040 = num_questions, cfg.d_mlp\n",
        "\n",
        "  answer = einops.rearrange(raw_data, \"(x y) d_mlp -> x y d_mlp\", x=num_questions).cpu().numpy()\n",
        "  # print( \"answer shape\", answer.shape) # 239, 1, 2040 = num_questions, ??, cfg.d_mlp\n",
        "\n",
        "  return answer\n",
        "\n",
        "\n",
        "l0_mlp_hook_pre_sq = get_mlp_data('blocks.0.mlp.hook_pre')\n",
        "l0_mlp_hook_post_sq = get_mlp_data('blocks.0.mlp.hook_post')\n",
        "l1_mlp_hook_pre_sq = get_mlp_data('blocks.1.mlp.hook_pre') if cfg.n_layers > 1 else l0_mlp_hook_pre_sq\n",
        "l1_mlp_hook_post_sq = get_mlp_data('blocks.1.mlp.hook_post') if cfg.n_layers > 1 else l0_mlp_hook_post_sq\n",
        "\n",
        "\n",
        "def plot_mlp_neuron_activation(pos: int):\n",
        "    clear_output()\n",
        "\n",
        "    l0_mlp_pre_data = l0_mlp_hook_pre_sq[:,:,pos]\n",
        "    l0_mlp_post_data = l0_mlp_hook_post_sq[:,:,pos]\n",
        "    l1_mlp_pre_data = l1_mlp_hook_pre_sq[:,:,pos]\n",
        "    l1_mlp_post_data = l1_mlp_hook_post_sq[:,:,pos]\n",
        "\n",
        "    fig, axs = plt.subplots(1, 2, figsize=(8,4))\n",
        "\n",
        "    plot = axs[0].imshow(l1_mlp_pre_data, cmap='magma', vmin=0, vmax=1)\n",
        "    cbar = plt.colorbar(plot, fraction=0.1)\n",
        "    cbar.set_label(r'l0_mlp_pre_data {}'.format(pos))\n",
        "    #axs[0].set_ylim(-0.5, 99.5)\n",
        "    #axs[0].set_yticks(range(100), labels=range(100), size=5.5);\n",
        "    #axs[0].set_xticks(range(100), labels=range(100), size=5.5, rotation='vertical');\n",
        "\n",
        "    plot = axs[1].imshow(l1_mlp_post_data, cmap='magma', vmin=0, vmax=1)\n",
        "    cbar = plt.colorbar(plot, fraction=0.1)\n",
        "    cbar.set_label(r'l0_mlp_post_data {}'.format(pos))\n",
        "    #axs[0].set_ylim(-0.5, 99.5)\n",
        "    #axs[0].set_yticks(range(100), labels=range(100), size=5.5);\n",
        "    #axs[0].set_xticks(range(100), labels=range(100), size=5.5, rotation='vertical');\n",
        "\n",
        "\n",
        "interact(plot_mlp_neuron_activation, pos=widgets.IntText(value=0, description='Index:'))"
      ]
    },
    {
      "cell_type": "markdown",
      "metadata": {
        "id": "2PjaQvhhayUL"
      },
      "source": [
        "# Part 25 : Is the model 100% accurate?\n",
        "\n",
        "This is hard to prove. Can the model do 1M predictions without error?\n",
        "\n",
        "Takes ~25 mins to run (successfully) for ins_mix_d6_l3_h4_train40K_seed372001"
      ]
    },
    {
      "cell_type": "code",
      "execution_count": null,
      "metadata": {
        "id": "JlLOZMVkeqvm"
      },
      "outputs": [],
      "source": [
        "def null_hook(value, hook):\n",
        "  global verbose\n",
        "\n",
        "  verbose = True"
      ]
    },
    {
      "cell_type": "code",
      "execution_count": null,
      "metadata": {
        "id": "ZMYZTv5HUp5F"
      },
      "outputs": [],
      "source": [
        "def one_million_questions_core():\n",
        "  global verbose\n",
        "  global ds\n",
        "\n",
        "  verbose = True\n",
        "\n",
        "  cfg.analysis_seed = 345621 # Randomly chosen\n",
        "  ds = data_generator() # Re-initialise the data generator\n",
        "\n",
        "  the_successes = 0\n",
        "  the_fails = 0\n",
        "\n",
        "  num_batches = 1000000//cfg.batch_size\n",
        "  for epoch in range(num_batches):\n",
        "      tokens = next(ds)\n",
        "\n",
        "      the_hook = [(l_attn_hook_z_name[0], null_hook)]\n",
        "      the_fails = q_predict_questions(tokens, the_hook)\n",
        "\n",
        "      if the_fails> 0:\n",
        "        break\n",
        "\n",
        "      the_successes = the_successes + cfg.batch_size\n",
        "\n",
        "      if epoch % 100 == 0:\n",
        "          print(\"Batch\", epoch, \"of\", num_batches, \"#Successes=\", the_successes)\n",
        "\n",
        "  print(\"successes\", the_successes, \"num_fails\", the_fails)\n",
        "  if the_fails > 0:\n",
        "    \"WARNING: Model is not fully accurate. It failed the 1M Q test\""
      ]
    },
    {
      "cell_type": "code",
      "execution_count": null,
      "metadata": {
        "id": "znsauYqjaxok"
      },
      "outputs": [],
      "source": [
        "def one_million_questions():\n",
        "  print_config()\n",
        "  print()\n",
        "\n",
        "  if model_might_be_fully_accurate:\n",
        "\n",
        "    # Commented out as it takes > 9 minutes to run\n",
        "    if cfg.perc_add() > 0 and cfg.perc_sub > 0:\n",
        "      print(\"Subtraction:\")\n",
        "      cfg.perc_sub = 100\n",
        "      one_million_questions_core()\n",
        "      print()\n",
        "      print(\"Addition:\")\n",
        "      cfg.perc_sub = 0\n",
        "      one_million_questions_core()\n",
        "\n",
        "    else:\n",
        "      # Predict 1M (sub, add or mult) questions\n",
        "      one_million_questions_core()\n",
        "\n",
        "  else:\n",
        "    print(\"WARNING: Model is not fully accurate. It failed some test questions\")\n",
        "\n",
        "\n",
        "# Takes ~25 minutes to run\n",
        "# one_million_questions()"
      ]
    }
  ],
  "metadata": {
    "accelerator": "GPU",
    "colab": {
      "collapsed_sections": [
        "uG2gZSoSJD5C",
        "aQNjIosyX9Y-",
        "tz6rUaYvjOcE",
        "ZHiJhch4KCej",
        "-KJhCxFtNKfm",
        "fGxoBWHNKRf0",
        "I-yFKiDllqEf",
        "FyK7QeUjLLFm",
        "D6FwJW0tv4Nf",
        "Lag8C3d_KkeQ",
        "3BmQHiLALp-3",
        "fHSY3blNMe7I",
        "Rbiau9foMp3h",
        "3611cpuEFhoW",
        "jIu3Pr9CMx3l",
        "lTs6Cu55jB7y",
        "2PjaQvhhayUL"
      ],
      "provenance": []
    },
    "kernelspec": {
      "display_name": "Python 3",
      "name": "python3"
    },
    "language_info": {
      "name": "python"
    },
    "widgets": {
      "application/vnd.jupyter.widget-state+json": {
        "fae5a6b06f0d4b65869997e62286eb58": {
          "model_module": "@jupyter-widgets/controls",
          "model_name": "HBoxModel",
          "model_module_version": "1.5.0",
          "state": {
            "_dom_classes": [],
            "_model_module": "@jupyter-widgets/controls",
            "_model_module_version": "1.5.0",
            "_model_name": "HBoxModel",
            "_view_count": null,
            "_view_module": "@jupyter-widgets/controls",
            "_view_module_version": "1.5.0",
            "_view_name": "HBoxView",
            "box_style": "",
            "children": [
              "IPY_MODEL_0fb5f299792847f58cb2fd78b19ca7a9",
              "IPY_MODEL_d3b7cfb68f324790a5fb554ffd56323c",
              "IPY_MODEL_8eb2830137bc4320ad066dc62402843b"
            ],
            "layout": "IPY_MODEL_d8af439794d5487ab7f2bc5142e2b404"
          }
        },
        "0fb5f299792847f58cb2fd78b19ca7a9": {
          "model_module": "@jupyter-widgets/controls",
          "model_name": "HTMLModel",
          "model_module_version": "1.5.0",
          "state": {
            "_dom_classes": [],
            "_model_module": "@jupyter-widgets/controls",
            "_model_module_version": "1.5.0",
            "_model_name": "HTMLModel",
            "_view_count": null,
            "_view_module": "@jupyter-widgets/controls",
            "_view_module_version": "1.5.0",
            "_view_name": "HTMLView",
            "description": "",
            "description_tooltip": null,
            "layout": "IPY_MODEL_a7aaff85c3a84198996e9e5ee8d7ecce",
            "placeholder": "​",
            "style": "IPY_MODEL_38b7d5281ffb417884691ae08f5ad1fa",
            "value": "(…)ns1_mix_d6_l3_h4_train40K_seed372001.pth: 100%"
          }
        },
        "d3b7cfb68f324790a5fb554ffd56323c": {
          "model_module": "@jupyter-widgets/controls",
          "model_name": "FloatProgressModel",
          "model_module_version": "1.5.0",
          "state": {
            "_dom_classes": [],
            "_model_module": "@jupyter-widgets/controls",
            "_model_module_version": "1.5.0",
            "_model_name": "FloatProgressModel",
            "_view_count": null,
            "_view_module": "@jupyter-widgets/controls",
            "_view_module_version": "1.5.0",
            "_view_name": "ProgressView",
            "bar_style": "success",
            "description": "",
            "description_tooltip": null,
            "layout": "IPY_MODEL_56f9d41a3afa492680258afefc414ed9",
            "max": 41837858,
            "min": 0,
            "orientation": "horizontal",
            "style": "IPY_MODEL_bcfe7e92b2d7421c887e83d8592a9254",
            "value": 41837858
          }
        },
        "8eb2830137bc4320ad066dc62402843b": {
          "model_module": "@jupyter-widgets/controls",
          "model_name": "HTMLModel",
          "model_module_version": "1.5.0",
          "state": {
            "_dom_classes": [],
            "_model_module": "@jupyter-widgets/controls",
            "_model_module_version": "1.5.0",
            "_model_name": "HTMLModel",
            "_view_count": null,
            "_view_module": "@jupyter-widgets/controls",
            "_view_module_version": "1.5.0",
            "_view_name": "HTMLView",
            "description": "",
            "description_tooltip": null,
            "layout": "IPY_MODEL_9d92ee56686d4caaa80d8de23db3eb87",
            "placeholder": "​",
            "style": "IPY_MODEL_6d07b8e4eb9f45f790fc044dbcd25975",
            "value": " 41.8M/41.8M [00:00&lt;00:00, 42.1MB/s]"
          }
        },
        "d8af439794d5487ab7f2bc5142e2b404": {
          "model_module": "@jupyter-widgets/base",
          "model_name": "LayoutModel",
          "model_module_version": "1.2.0",
          "state": {
            "_model_module": "@jupyter-widgets/base",
            "_model_module_version": "1.2.0",
            "_model_name": "LayoutModel",
            "_view_count": null,
            "_view_module": "@jupyter-widgets/base",
            "_view_module_version": "1.2.0",
            "_view_name": "LayoutView",
            "align_content": null,
            "align_items": null,
            "align_self": null,
            "border": null,
            "bottom": null,
            "display": null,
            "flex": null,
            "flex_flow": null,
            "grid_area": null,
            "grid_auto_columns": null,
            "grid_auto_flow": null,
            "grid_auto_rows": null,
            "grid_column": null,
            "grid_gap": null,
            "grid_row": null,
            "grid_template_areas": null,
            "grid_template_columns": null,
            "grid_template_rows": null,
            "height": null,
            "justify_content": null,
            "justify_items": null,
            "left": null,
            "margin": null,
            "max_height": null,
            "max_width": null,
            "min_height": null,
            "min_width": null,
            "object_fit": null,
            "object_position": null,
            "order": null,
            "overflow": null,
            "overflow_x": null,
            "overflow_y": null,
            "padding": null,
            "right": null,
            "top": null,
            "visibility": null,
            "width": null
          }
        },
        "a7aaff85c3a84198996e9e5ee8d7ecce": {
          "model_module": "@jupyter-widgets/base",
          "model_name": "LayoutModel",
          "model_module_version": "1.2.0",
          "state": {
            "_model_module": "@jupyter-widgets/base",
            "_model_module_version": "1.2.0",
            "_model_name": "LayoutModel",
            "_view_count": null,
            "_view_module": "@jupyter-widgets/base",
            "_view_module_version": "1.2.0",
            "_view_name": "LayoutView",
            "align_content": null,
            "align_items": null,
            "align_self": null,
            "border": null,
            "bottom": null,
            "display": null,
            "flex": null,
            "flex_flow": null,
            "grid_area": null,
            "grid_auto_columns": null,
            "grid_auto_flow": null,
            "grid_auto_rows": null,
            "grid_column": null,
            "grid_gap": null,
            "grid_row": null,
            "grid_template_areas": null,
            "grid_template_columns": null,
            "grid_template_rows": null,
            "height": null,
            "justify_content": null,
            "justify_items": null,
            "left": null,
            "margin": null,
            "max_height": null,
            "max_width": null,
            "min_height": null,
            "min_width": null,
            "object_fit": null,
            "object_position": null,
            "order": null,
            "overflow": null,
            "overflow_x": null,
            "overflow_y": null,
            "padding": null,
            "right": null,
            "top": null,
            "visibility": null,
            "width": null
          }
        },
        "38b7d5281ffb417884691ae08f5ad1fa": {
          "model_module": "@jupyter-widgets/controls",
          "model_name": "DescriptionStyleModel",
          "model_module_version": "1.5.0",
          "state": {
            "_model_module": "@jupyter-widgets/controls",
            "_model_module_version": "1.5.0",
            "_model_name": "DescriptionStyleModel",
            "_view_count": null,
            "_view_module": "@jupyter-widgets/base",
            "_view_module_version": "1.2.0",
            "_view_name": "StyleView",
            "description_width": ""
          }
        },
        "56f9d41a3afa492680258afefc414ed9": {
          "model_module": "@jupyter-widgets/base",
          "model_name": "LayoutModel",
          "model_module_version": "1.2.0",
          "state": {
            "_model_module": "@jupyter-widgets/base",
            "_model_module_version": "1.2.0",
            "_model_name": "LayoutModel",
            "_view_count": null,
            "_view_module": "@jupyter-widgets/base",
            "_view_module_version": "1.2.0",
            "_view_name": "LayoutView",
            "align_content": null,
            "align_items": null,
            "align_self": null,
            "border": null,
            "bottom": null,
            "display": null,
            "flex": null,
            "flex_flow": null,
            "grid_area": null,
            "grid_auto_columns": null,
            "grid_auto_flow": null,
            "grid_auto_rows": null,
            "grid_column": null,
            "grid_gap": null,
            "grid_row": null,
            "grid_template_areas": null,
            "grid_template_columns": null,
            "grid_template_rows": null,
            "height": null,
            "justify_content": null,
            "justify_items": null,
            "left": null,
            "margin": null,
            "max_height": null,
            "max_width": null,
            "min_height": null,
            "min_width": null,
            "object_fit": null,
            "object_position": null,
            "order": null,
            "overflow": null,
            "overflow_x": null,
            "overflow_y": null,
            "padding": null,
            "right": null,
            "top": null,
            "visibility": null,
            "width": null
          }
        },
        "bcfe7e92b2d7421c887e83d8592a9254": {
          "model_module": "@jupyter-widgets/controls",
          "model_name": "ProgressStyleModel",
          "model_module_version": "1.5.0",
          "state": {
            "_model_module": "@jupyter-widgets/controls",
            "_model_module_version": "1.5.0",
            "_model_name": "ProgressStyleModel",
            "_view_count": null,
            "_view_module": "@jupyter-widgets/base",
            "_view_module_version": "1.2.0",
            "_view_name": "StyleView",
            "bar_color": null,
            "description_width": ""
          }
        },
        "9d92ee56686d4caaa80d8de23db3eb87": {
          "model_module": "@jupyter-widgets/base",
          "model_name": "LayoutModel",
          "model_module_version": "1.2.0",
          "state": {
            "_model_module": "@jupyter-widgets/base",
            "_model_module_version": "1.2.0",
            "_model_name": "LayoutModel",
            "_view_count": null,
            "_view_module": "@jupyter-widgets/base",
            "_view_module_version": "1.2.0",
            "_view_name": "LayoutView",
            "align_content": null,
            "align_items": null,
            "align_self": null,
            "border": null,
            "bottom": null,
            "display": null,
            "flex": null,
            "flex_flow": null,
            "grid_area": null,
            "grid_auto_columns": null,
            "grid_auto_flow": null,
            "grid_auto_rows": null,
            "grid_column": null,
            "grid_gap": null,
            "grid_row": null,
            "grid_template_areas": null,
            "grid_template_columns": null,
            "grid_template_rows": null,
            "height": null,
            "justify_content": null,
            "justify_items": null,
            "left": null,
            "margin": null,
            "max_height": null,
            "max_width": null,
            "min_height": null,
            "min_width": null,
            "object_fit": null,
            "object_position": null,
            "order": null,
            "overflow": null,
            "overflow_x": null,
            "overflow_y": null,
            "padding": null,
            "right": null,
            "top": null,
            "visibility": null,
            "width": null
          }
        },
        "6d07b8e4eb9f45f790fc044dbcd25975": {
          "model_module": "@jupyter-widgets/controls",
          "model_name": "DescriptionStyleModel",
          "model_module_version": "1.5.0",
          "state": {
            "_model_module": "@jupyter-widgets/controls",
            "_model_module_version": "1.5.0",
            "_model_name": "DescriptionStyleModel",
            "_view_count": null,
            "_view_module": "@jupyter-widgets/base",
            "_view_module_version": "1.2.0",
            "_view_name": "StyleView",
            "description_width": ""
          }
        },
        "643a54cfebf64d139607c9f49135387a": {
          "model_module": "@jupyter-widgets/controls",
          "model_name": "VBoxModel",
          "model_module_version": "1.5.0",
          "state": {
            "_dom_classes": [
              "widget-interact"
            ],
            "_model_module": "@jupyter-widgets/controls",
            "_model_module_version": "1.5.0",
            "_model_name": "VBoxModel",
            "_view_count": null,
            "_view_module": "@jupyter-widgets/controls",
            "_view_module_version": "1.5.0",
            "_view_name": "VBoxView",
            "box_style": "",
            "children": [
              "IPY_MODEL_961338d5c34d4c5799df18e2a2b2e899",
              "IPY_MODEL_f2fb728206014ee38809fb168af0ff1e"
            ],
            "layout": "IPY_MODEL_da3fdefb5be2437c9239b95d0a758fc7"
          }
        },
        "961338d5c34d4c5799df18e2a2b2e899": {
          "model_module": "@jupyter-widgets/controls",
          "model_name": "IntTextModel",
          "model_module_version": "1.5.0",
          "state": {
            "_dom_classes": [],
            "_model_module": "@jupyter-widgets/controls",
            "_model_module_version": "1.5.0",
            "_model_name": "IntTextModel",
            "_view_count": null,
            "_view_module": "@jupyter-widgets/controls",
            "_view_module_version": "1.5.0",
            "_view_name": "IntTextView",
            "continuous_update": false,
            "description": "Index:",
            "description_tooltip": null,
            "disabled": false,
            "layout": "IPY_MODEL_85bb2c6e377c4bef8e0897b40c5a9efc",
            "step": 1,
            "style": "IPY_MODEL_172b8c0d090344b1a5b784cfa0c1536c",
            "value": 0
          }
        },
        "f2fb728206014ee38809fb168af0ff1e": {
          "model_module": "@jupyter-widgets/output",
          "model_name": "OutputModel",
          "model_module_version": "1.0.0",
          "state": {
            "_dom_classes": [],
            "_model_module": "@jupyter-widgets/output",
            "_model_module_version": "1.0.0",
            "_model_name": "OutputModel",
            "_view_count": null,
            "_view_module": "@jupyter-widgets/output",
            "_view_module_version": "1.0.0",
            "_view_name": "OutputView",
            "layout": "IPY_MODEL_480f5fce41194c95bdd07ea858c89ae8",
            "msg_id": "",
            "outputs": []
          }
        },
        "da3fdefb5be2437c9239b95d0a758fc7": {
          "model_module": "@jupyter-widgets/base",
          "model_name": "LayoutModel",
          "model_module_version": "1.2.0",
          "state": {
            "_model_module": "@jupyter-widgets/base",
            "_model_module_version": "1.2.0",
            "_model_name": "LayoutModel",
            "_view_count": null,
            "_view_module": "@jupyter-widgets/base",
            "_view_module_version": "1.2.0",
            "_view_name": "LayoutView",
            "align_content": null,
            "align_items": null,
            "align_self": null,
            "border": null,
            "bottom": null,
            "display": null,
            "flex": null,
            "flex_flow": null,
            "grid_area": null,
            "grid_auto_columns": null,
            "grid_auto_flow": null,
            "grid_auto_rows": null,
            "grid_column": null,
            "grid_gap": null,
            "grid_row": null,
            "grid_template_areas": null,
            "grid_template_columns": null,
            "grid_template_rows": null,
            "height": null,
            "justify_content": null,
            "justify_items": null,
            "left": null,
            "margin": null,
            "max_height": null,
            "max_width": null,
            "min_height": null,
            "min_width": null,
            "object_fit": null,
            "object_position": null,
            "order": null,
            "overflow": null,
            "overflow_x": null,
            "overflow_y": null,
            "padding": null,
            "right": null,
            "top": null,
            "visibility": null,
            "width": null
          }
        },
        "85bb2c6e377c4bef8e0897b40c5a9efc": {
          "model_module": "@jupyter-widgets/base",
          "model_name": "LayoutModel",
          "model_module_version": "1.2.0",
          "state": {
            "_model_module": "@jupyter-widgets/base",
            "_model_module_version": "1.2.0",
            "_model_name": "LayoutModel",
            "_view_count": null,
            "_view_module": "@jupyter-widgets/base",
            "_view_module_version": "1.2.0",
            "_view_name": "LayoutView",
            "align_content": null,
            "align_items": null,
            "align_self": null,
            "border": null,
            "bottom": null,
            "display": null,
            "flex": null,
            "flex_flow": null,
            "grid_area": null,
            "grid_auto_columns": null,
            "grid_auto_flow": null,
            "grid_auto_rows": null,
            "grid_column": null,
            "grid_gap": null,
            "grid_row": null,
            "grid_template_areas": null,
            "grid_template_columns": null,
            "grid_template_rows": null,
            "height": null,
            "justify_content": null,
            "justify_items": null,
            "left": null,
            "margin": null,
            "max_height": null,
            "max_width": null,
            "min_height": null,
            "min_width": null,
            "object_fit": null,
            "object_position": null,
            "order": null,
            "overflow": null,
            "overflow_x": null,
            "overflow_y": null,
            "padding": null,
            "right": null,
            "top": null,
            "visibility": null,
            "width": null
          }
        },
        "172b8c0d090344b1a5b784cfa0c1536c": {
          "model_module": "@jupyter-widgets/controls",
          "model_name": "DescriptionStyleModel",
          "model_module_version": "1.5.0",
          "state": {
            "_model_module": "@jupyter-widgets/controls",
            "_model_module_version": "1.5.0",
            "_model_name": "DescriptionStyleModel",
            "_view_count": null,
            "_view_module": "@jupyter-widgets/base",
            "_view_module_version": "1.2.0",
            "_view_name": "StyleView",
            "description_width": ""
          }
        },
        "480f5fce41194c95bdd07ea858c89ae8": {
          "model_module": "@jupyter-widgets/base",
          "model_name": "LayoutModel",
          "model_module_version": "1.2.0",
          "state": {
            "_model_module": "@jupyter-widgets/base",
            "_model_module_version": "1.2.0",
            "_model_name": "LayoutModel",
            "_view_count": null,
            "_view_module": "@jupyter-widgets/base",
            "_view_module_version": "1.2.0",
            "_view_name": "LayoutView",
            "align_content": null,
            "align_items": null,
            "align_self": null,
            "border": null,
            "bottom": null,
            "display": null,
            "flex": null,
            "flex_flow": null,
            "grid_area": null,
            "grid_auto_columns": null,
            "grid_auto_flow": null,
            "grid_auto_rows": null,
            "grid_column": null,
            "grid_gap": null,
            "grid_row": null,
            "grid_template_areas": null,
            "grid_template_columns": null,
            "grid_template_rows": null,
            "height": null,
            "justify_content": null,
            "justify_items": null,
            "left": null,
            "margin": null,
            "max_height": null,
            "max_width": null,
            "min_height": null,
            "min_width": null,
            "object_fit": null,
            "object_position": null,
            "order": null,
            "overflow": null,
            "overflow_x": null,
            "overflow_y": null,
            "padding": null,
            "right": null,
            "top": null,
            "visibility": null,
            "width": null
          }
        }
      }
    }
  },
  "nbformat": 4,
  "nbformat_minor": 0
}